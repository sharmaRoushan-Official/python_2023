{
 "cells": [
  {
   "cell_type": "markdown",
   "id": "1aca18f3-a7bd-41ab-afa6-15ba6f12e457",
   "metadata": {},
   "source": [
    "# 3. Lists in Python "
   ]
  },
  {
   "cell_type": "code",
   "execution_count": null,
   "id": "023d60ee-7902-4245-b81f-68461740edef",
   "metadata": {},
   "outputs": [],
   "source": []
  }
 ],
 "metadata": {
  "kernelspec": {
   "display_name": "Python 3 (ipykernel)",
   "language": "python",
   "name": "python3"
  },
  "language_info": {
   "codemirror_mode": {
    "name": "ipython",
    "version": 3
   },
   "file_extension": ".py",
   "mimetype": "text/x-python",
   "name": "python",
   "nbconvert_exporter": "python",
   "pygments_lexer": "ipython3",
   "version": "3.12.4"
  }
 },
 "nbformat": 4,
 "nbformat_minor": 5
}
