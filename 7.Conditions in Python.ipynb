{
 "cells": [
  {
   "cell_type": "markdown",
   "id": "bdf1008e-bcad-418c-81fe-5ce11d69e860",
   "metadata": {},
   "source": [
    "# 7. Conditions in Python\n",
    "\n",
    " * __Comparison operator__\n",
    " * __Less than(<)__\n",
    " * __Greater than(>)__\n",
    " * __Less than or equal to(<=)__\n",
    " * __Greater than or equal to(>=)__\n",
    " * __Equal to (==)__\n",
    " * __Not equal to(!=)__\n",
    "\n",
    "# Branching (if,elif,else) in c programming(if,else-if, else)\n",
    "\n",
    " * __Decision making is required when we want to execute a code only if a certain condition is satisfied.__\n",
    " * __The if/elif/else statement is used in Python for decision making.__\n",
    " * __An else statement can be combined with an if statement.__\n",
    " * __An else statement contains the block of code that executes if the conditional expression in the if statement resolves to 0 or a False value.__\n",
    " * __The else statement is optional and there could be at most only one else statement following if.__\n",
    " * __The elif statement allows you to check multiple expressions for True and execute a block of code as soon as one of the conditions evaluates True.__\n",
    "\n",
    " * __Similar to the else, the elif statement is optional.__"
   ]
  },
  {
   "cell_type": "code",
   "execution_count": 5,
   "id": "38fcc483-0cee-43ec-b905-154b192f0bdd",
   "metadata": {},
   "outputs": [
    {
     "name": "stdout",
     "output_type": "stream",
     "text": [
      "False\n"
     ]
    }
   ],
   "source": [
    "# Operators always returns Boolean value.\n",
    "\n",
    "val = 1.618\n",
    "\n",
    "print(val>20)  # "
   ]
  },
  {
   "cell_type": "code",
   "execution_count": 7,
   "id": "717b73d0-6778-4efc-8851-2f2e13c44cb1",
   "metadata": {},
   "outputs": [
    {
     "name": "stdout",
     "output_type": "stream",
     "text": [
      "True\n"
     ]
    }
   ],
   "source": [
    "print(val<20)"
   ]
  },
  {
   "cell_type": "code",
   "execution_count": 30,
   "id": "41a4dae2-53bf-4f71-96c4-c193c31e4c67",
   "metadata": {},
   "outputs": [],
   "source": [
    "age = 4\n",
    "\n",
    "if (age>5):\n",
    "    print(\"you Can go to primary school.\")"
   ]
  },
  {
   "cell_type": "code",
   "execution_count": 14,
   "id": "dc2e735f-19b5-4cf7-a789-f4e621ec6482",
   "metadata": {},
   "outputs": [
    {
     "data": {
      "text/plain": [
       "False"
      ]
     },
     "execution_count": 14,
     "metadata": {},
     "output_type": "execute_result"
    }
   ],
   "source": [
    "age>5"
   ]
  },
  {
   "cell_type": "code",
   "execution_count": 24,
   "id": "e9cfe67c-e59c-4a92-8cd2-432c60f441d1",
   "metadata": {},
   "outputs": [
    {
     "data": {
      "text/plain": [
       "False"
      ]
     },
     "execution_count": 24,
     "metadata": {},
     "output_type": "execute_result"
    }
   ],
   "source": [
    "age>5"
   ]
  },
  {
   "cell_type": "code",
   "execution_count": 48,
   "id": "35d30d80-facf-4f3e-98fe-d6b515aa683d",
   "metadata": {},
   "outputs": [
    {
     "name": "stdout",
     "output_type": "stream",
     "text": [
      "You can go kindergarten\n"
     ]
    }
   ],
   "source": [
    "age = 5  # 5 you can go to kindergarten\n",
    "\n",
    "if (age>5):\n",
    "    print(\"you Can go to primary school.\")\n",
    "\n",
    "elif age==5:\n",
    "    # print(\"statement\")\n",
    "    print('You can go kindergarten')\n",
    "\n",
    "else:\n",
    "    print('your are a baby')"
   ]
  },
  {
   "cell_type": "code",
   "execution_count": 50,
   "id": "f63eec4e-603f-4209-b26f-f21cfe306f0a",
   "metadata": {},
   "outputs": [
    {
     "data": {
      "text/plain": [
       "True"
      ]
     },
     "execution_count": 50,
     "metadata": {},
     "output_type": "execute_result"
    }
   ],
   "source": [
    "age==5"
   ]
  },
  {
   "cell_type": "code",
   "execution_count": 52,
   "id": "dd8a2070-4fe2-4117-bc88-bcf8691b17d9",
   "metadata": {},
   "outputs": [
    {
     "data": {
      "text/plain": [
       "False"
      ]
     },
     "execution_count": 52,
     "metadata": {},
     "output_type": "execute_result"
    }
   ],
   "source": [
    "age>5"
   ]
  },
  {
   "cell_type": "code",
   "execution_count": null,
   "id": "63fed849-73dc-41da-86c9-d15ce93be67a",
   "metadata": {},
   "outputs": [],
   "source": []
  }
 ],
 "metadata": {
  "kernelspec": {
   "display_name": "Python 3 (ipykernel)",
   "language": "python",
   "name": "python3"
  },
  "language_info": {
   "codemirror_mode": {
    "name": "ipython",
    "version": 3
   },
   "file_extension": ".py",
   "mimetype": "text/x-python",
   "name": "python",
   "nbconvert_exporter": "python",
   "pygments_lexer": "ipython3",
   "version": "3.12.4"
  }
 },
 "nbformat": 4,
 "nbformat_minor": 5
}
