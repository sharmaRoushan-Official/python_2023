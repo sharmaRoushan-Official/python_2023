{
 "cells": [
  {
   "cell_type": "markdown",
   "id": "bdf1008e-bcad-418c-81fe-5ce11d69e860",
   "metadata": {},
   "source": [
    "# 7. Conditions in Python\n",
    "\n",
    " * __Comparison operator__\n",
    " * __Less than(<)__\n",
    " * __Greater than(>)__\n",
    " * __Less than or equal to(<=)__\n",
    " * __Greater than or equal to(>=)__\n",
    " * __Equal to (==)__\n",
    " * __Not equal to(!=)__\n",
    "\n",
    "# Branching (if,elif,else) in c programming(if,else-if, else)\n",
    "\n",
    " * __Decision making is required when we want to execute a code only if a certain condition is satisfied.__\n",
    " * __The if/elif/else statement is used in Python for decision making.__\n",
    " * __An else statement can be combined with an if statement.__\n",
    " * __An else statement contains the block of code that executes if the conditional expression in the if statement resolves to 0 or a False value.__\n",
    " * __The else statement is optional and there could be at most only one else statement following if.__\n",
    " * __The elif statement allows you to check multiple expressions for True and execute a block of code as soon as one of the conditions evaluates True.__\n",
    "\n",
    " * __Similar to the else, the elif statement is optional.__"
   ]
  },
  {
   "cell_type": "code",
   "execution_count": 2,
   "id": "38fcc483-0cee-43ec-b905-154b192f0bdd",
   "metadata": {},
   "outputs": [
    {
     "name": "stdout",
     "output_type": "stream",
     "text": [
      "False\n"
     ]
    }
   ],
   "source": [
    "# Operators always returns Boolean value.\n",
    "\n",
    "val = 1.618\n",
    "\n",
    "print(val>20)  # "
   ]
  },
  {
   "cell_type": "code",
   "execution_count": 3,
   "id": "717b73d0-6778-4efc-8851-2f2e13c44cb1",
   "metadata": {},
   "outputs": [
    {
     "name": "stdout",
     "output_type": "stream",
     "text": [
      "True\n"
     ]
    }
   ],
   "source": [
    "print(val<20)"
   ]
  },
  {
   "cell_type": "code",
   "execution_count": 4,
   "id": "41a4dae2-53bf-4f71-96c4-c193c31e4c67",
   "metadata": {},
   "outputs": [],
   "source": [
    "age = 4\n",
    "\n",
    "if (age>5):\n",
    "    print(\"you Can go to primary school.\")"
   ]
  },
  {
   "cell_type": "code",
   "execution_count": 5,
   "id": "dc2e735f-19b5-4cf7-a789-f4e621ec6482",
   "metadata": {},
   "outputs": [
    {
     "data": {
      "text/plain": [
       "False"
      ]
     },
     "execution_count": 5,
     "metadata": {},
     "output_type": "execute_result"
    }
   ],
   "source": [
    "age>5"
   ]
  },
  {
   "cell_type": "code",
   "execution_count": 6,
   "id": "e9cfe67c-e59c-4a92-8cd2-432c60f441d1",
   "metadata": {},
   "outputs": [
    {
     "data": {
      "text/plain": [
       "False"
      ]
     },
     "execution_count": 6,
     "metadata": {},
     "output_type": "execute_result"
    }
   ],
   "source": [
    "age>5"
   ]
  },
  {
   "cell_type": "code",
   "execution_count": 7,
   "id": "35d30d80-facf-4f3e-98fe-d6b515aa683d",
   "metadata": {},
   "outputs": [
    {
     "name": "stdout",
     "output_type": "stream",
     "text": [
      "You can go kindergarten\n"
     ]
    }
   ],
   "source": [
    "age = 5  # 5 you can go to kindergarten\n",
    "\n",
    "if (age>5):\n",
    "    print(\"you Can go to primary school.\")\n",
    "\n",
    "elif age==5:\n",
    "    # print(\"statement\")\n",
    "    print('You can go kindergarten')\n",
    "\n",
    "else:\n",
    "    print('your are a baby')"
   ]
  },
  {
   "cell_type": "code",
   "execution_count": 8,
   "id": "f63eec4e-603f-4209-b26f-f21cfe306f0a",
   "metadata": {},
   "outputs": [
    {
     "data": {
      "text/plain": [
       "True"
      ]
     },
     "execution_count": 8,
     "metadata": {},
     "output_type": "execute_result"
    }
   ],
   "source": [
    "age==5"
   ]
  },
  {
   "cell_type": "code",
   "execution_count": 9,
   "id": "dd8a2070-4fe2-4117-bc88-bcf8691b17d9",
   "metadata": {},
   "outputs": [
    {
     "data": {
      "text/plain": [
       "False"
      ]
     },
     "execution_count": 9,
     "metadata": {},
     "output_type": "execute_result"
    }
   ],
   "source": [
    "age>5"
   ]
  },
  {
   "cell_type": "code",
   "execution_count": 10,
   "id": "63fed849-73dc-41da-86c9-d15ce93be67a",
   "metadata": {},
   "outputs": [],
   "source": [
    "# if(condtion/True):\n",
    "#     statement \n",
    "\n",
    "# elif (condition):\n",
    "#     statement\n",
    "\n",
    "# else:\n",
    "#     print(statment)"
   ]
  },
  {
   "cell_type": "code",
   "execution_count": 11,
   "id": "4a89b242-c51c-4602-87bb-6119666ca0d2",
   "metadata": {},
   "outputs": [
    {
     "name": "stdin",
     "output_type": "stream",
     "text": [
      "Enter any value from 0 to 6:  4\n"
     ]
    },
    {
     "name": "stdout",
     "output_type": "stream",
     "text": [
      "Thursday\n"
     ]
    }
   ],
   "source": [
    "# weekdays name: - 0-7 = ('Sunday',Monday,'Tuesday',..............\"Saturday\")\n",
    "\n",
    "\n",
    "userNum = int(input(\"Enter any value from 0 to 6: \"))\n",
    "\n",
    "if (userNum == 0):\n",
    "    print(\"Sunday\")\n",
    "\n",
    "elif userNum == 1:\n",
    "    print('Monday')\n",
    "\n",
    "elif userNum == 2:\n",
    "    print(\"TuesDay\")\n",
    "\n",
    "elif userNum == 3:\n",
    "    print(\"WednesDay\")\n",
    "\n",
    "elif userNum == 4:\n",
    "    print(\"Thursday\")\n",
    "\n",
    "elif userNum == 5:\n",
    "    print(\"Friday\")\n",
    "\n",
    "elif userNum == 6:\n",
    "    print('Saturday')\n",
    "\n",
    "else:\n",
    "    print('No weekdays')"
   ]
  },
  {
   "cell_type": "code",
   "execution_count": 12,
   "id": "a6dc609c-9815-4987-b7cd-3ec81e43890c",
   "metadata": {},
   "outputs": [
    {
     "name": "stdin",
     "output_type": "stream",
     "text": [
      "enter a number:  5\n"
     ]
    },
    {
     "name": "stdout",
     "output_type": "stream",
     "text": [
      "5 is odd number\n"
     ]
    }
   ],
   "source": [
    "# write to check the value is even or odd - userNumber\n",
    "# Aditya\n",
    "num = int(input(\"enter a number: \"))\n",
    "\n",
    "if num % 2 == 0:\n",
    "    print(f\"{num} is even number \")  # formatting of string\n",
    "else:\n",
    "    print(f\"{num} is odd number\")  # formatting of string"
   ]
  },
  {
   "cell_type": "code",
   "execution_count": 28,
   "id": "c2300227-f13e-4b4a-8e5a-175a692a2aae",
   "metadata": {},
   "outputs": [
    {
     "name": "stdin",
     "output_type": "stream",
     "text": [
      "Enter number to check even or odd 4\n"
     ]
    },
    {
     "name": "stdout",
     "output_type": "stream",
     "text": [
      "Even\n"
     ]
    }
   ],
   "source": [
    "# Asma\n",
    "user_number=int(input(\"Enter number to check even or odd\"))\n",
    "if user_number % 2==0:\n",
    "    print(\"Even\")\n",
    "else:\n",
    "   Print(\"odd \")"
   ]
  },
  {
   "cell_type": "code",
   "execution_count": null,
   "id": "26d08035-ee23-42fd-a240-2a9900fc5af2",
   "metadata": {},
   "outputs": [],
   "source": [
    "# write a program to check if any number entered by the user is divisible by 3 and 5,\n",
    "# 15- is divisible by both 3 and 5\n",
    "# 10- is divisible by only 5, not 3\n",
    "# 9- is divisible by only 3, not 5\n",
    "# 23- is not divisible by both of them, like 3 and 5."
   ]
  },
  {
   "cell_type": "code",
   "execution_count": 30,
   "id": "0d56a8f5-ae9a-41c3-8964-0fd43495d0b9",
   "metadata": {},
   "outputs": [
    {
     "name": "stdin",
     "output_type": "stream",
     "text": [
      "enter a number:  45\n"
     ]
    },
    {
     "name": "stdout",
     "output_type": "stream",
     "text": [
      "45 is divisible by 3 and 5\n"
     ]
    }
   ],
   "source": [
    "# Aditya\n",
    "n = int(input(\"enter a number: \"))\n",
    "\n",
    "if n % 3 == 0 and n % 5 == 0:\n",
    "    print(f\"{n} is divisible by 3 and 5\")\n",
    "elif n % 5 == 0:\n",
    "    print(f\"{n} is divisible by 5 and not by 3\")\n",
    "elif n % 3 == 0:\n",
    "    print(f\"{n} is divisible by 3 and not by 5\")\n",
    "else:\n",
    "    print(f\" {n} is not divisible by both of them like 3 and 5\")"
   ]
  },
  {
   "cell_type": "code",
   "execution_count": 32,
   "id": "19681de3-a4d4-4dc9-bfdf-406a66d7e777",
   "metadata": {},
   "outputs": [
    {
     "name": "stdin",
     "output_type": "stream",
     "text": [
      "Enter any Value:  78\n"
     ]
    },
    {
     "name": "stdout",
     "output_type": "stream",
     "text": [
      "Divisible by 3\n"
     ]
    }
   ],
   "source": [
    "a = int(input(\"Enter any Value: \"))\n",
    "if a%3 == 0 and a%5 == 0:\n",
    "    print(\"Divisible by 15\")\n",
    "elif a%5 == 0:\n",
    "      print(\"Divisible by 5\")\n",
    "elif a%3 == 0:\n",
    "      print(\"Divisible by 3\") \n",
    "else:\n",
    "    print(\"Not divisible by 3 and 4\")"
   ]
  },
  {
   "cell_type": "code",
   "execution_count": 34,
   "id": "de050617-5302-4930-99aa-bef36d300b75",
   "metadata": {},
   "outputs": [
    {
     "name": "stdin",
     "output_type": "stream",
     "text": [
      "Enter a number 78\n"
     ]
    },
    {
     "name": "stdout",
     "output_type": "stream",
     "text": [
      "78 divisible by 3\n"
     ]
    }
   ],
   "source": [
    "num=int(input(\"Enter a number\"))\n",
    "if num%3==0 and num%5==0:\n",
    "    print(f\"{num}is divisible by 3 and 5\")\n",
    "elif num%3==0 and num%5!=0:\n",
    "    print(f\"{num} divisible by 3\")\n",
    "elif num%5==0 and num%3!=0:\n",
    "   print(f\"{num} divisible by 5\")\n",
    "else:\n",
    "   print(f\"{num} not divisible by both number\")"
   ]
  },
  {
   "cell_type": "code",
   "execution_count": 36,
   "id": "855b3c9e-889a-4cb8-a0c9-a9b185b7f5c9",
   "metadata": {},
   "outputs": [
    {
     "name": "stdin",
     "output_type": "stream",
     "text": [
      "Enter a string to check vowel and consonant a\n"
     ]
    },
    {
     "name": "stdout",
     "output_type": "stream",
     "text": [
      "a is vowel\n"
     ]
    }
   ],
   "source": [
    "# Accepts any character from the user and guesses vowel and consonant.\n",
    "\n",
    "# a - vowel\n",
    "# A - Vowel\n",
    "\n",
    "# B - consonant\n",
    "# b - consonant\n",
    "\n",
    "# --------------------------------------\n",
    "\n",
    "user=input(\"Enter a string to check vowel and consonant\")\n",
    "if (user == 'a' or user == 'e' or\n",
    "     user == 'i' or user == 'o' or user == 'u' or  user == 'A' or user == 'E' or\n",
    "    user == 'I' or user == 'O' or user == 'U'):\n",
    "    print(f\"{user} is vowel\")\n",
    "else:\n",
    "   print(f\"{user} is consonant\")"
   ]
  },
  {
   "cell_type": "code",
   "execution_count": 38,
   "id": "5cd17344-12a0-48fc-b9a8-1dc966e1b5d8",
   "metadata": {},
   "outputs": [
    {
     "name": "stdin",
     "output_type": "stream",
     "text": [
      "Enter any charecter:  a\n"
     ]
    },
    {
     "name": "stdout",
     "output_type": "stream",
     "text": [
      "a is Vowel\n"
     ]
    }
   ],
   "source": [
    "input1 = input(\"Enter any charecter: \")\n",
    "char = input1.lower()\n",
    "if char == \"a\" or char == \"e\" or char == \"i\" or char == \"o\" or char == \"u\":\n",
    "    print(f\"{input1} is Vowel\")\n",
    "else:\n",
    "    print(f\"{input1} is consonant\")"
   ]
  },
  {
   "cell_type": "code",
   "execution_count": 40,
   "id": "aa46bc5f-2e8f-4a15-b74d-b7f736a0ff05",
   "metadata": {},
   "outputs": [
    {
     "name": "stdin",
     "output_type": "stream",
     "text": [
      "Enter any character:  a\n"
     ]
    },
    {
     "name": "stdout",
     "output_type": "stream",
     "text": [
      "a is a vowel letter\n"
     ]
    }
   ],
   "source": [
    "letter = input(\"Enter any character: \")  \n",
    "char = letter.lower()\n",
    "\n",
    "if char in ['a', 'e', 'i', 'o', 'u']:\n",
    "    print(f\"{letter} is a vowel letter\")\n",
    "else:\n",
    "    print(f\"{letter} is a consonant\")"
   ]
  },
  {
   "cell_type": "code",
   "execution_count": 42,
   "id": "c219c16e-bdc1-46e7-9155-3554126c951b",
   "metadata": {},
   "outputs": [
    {
     "name": "stdin",
     "output_type": "stream",
     "text": [
      "Enter any character:  a\n"
     ]
    },
    {
     "name": "stdout",
     "output_type": "stream",
     "text": [
      "a is a vowel letter\n"
     ]
    }
   ],
   "source": [
    "letter = input(\"Enter any character: \")  \n",
    "char = letter.lower()\n",
    "vow = \"aeiou\"\n",
    "if char in vow :\n",
    "    print(f\"{letter} is a vowel letter\")\n",
    "else:\n",
    "    print(f\"{letter} is a consonant\")"
   ]
  },
  {
   "cell_type": "code",
   "execution_count": null,
   "id": "33ddce47-3637-46f6-b70f-33fe13d2e155",
   "metadata": {},
   "outputs": [],
   "source": [
    "list=['Delhi','Agra',\"Jaipur\",'Amritsar',\"Madurai\",\"Mysore\",\"Mumbai\",\"Sanchi\",\"Hydrabad\",\"Gujarat\"]\n",
    "print(f\"Choose Your city from the list:\\n{list}\")\n",
    "\n"
   ]
  },
  {
   "cell_type": "code",
   "execution_count": 44,
   "id": "9fa8971f-8187-4382-b0b6-f0e3cce0d7a3",
   "metadata": {},
   "outputs": [
    {
     "name": "stdout",
     "output_type": "stream",
     "text": [
      "Choose Your city from the list:\n",
      "['Delhi', 'Agra', 'Jaipur', 'Amritsar', 'Madurai', 'Mysore', 'Mumbai', 'Sanchi', 'Hydrabad', 'Gujarat']\n"
     ]
    },
    {
     "name": "stdin",
     "output_type": "stream",
     "text": [
      "Enter a city name:  delhi\n"
     ]
    },
    {
     "name": "stdout",
     "output_type": "stream",
     "text": [
      "Redfort, QutubMinar, LotusTemple\n"
     ]
    }
   ],
   "source": [
    "# Delhi\n",
    "# delhi\n",
    "# DELHI\n",
    "# delHI\n",
    "city_list=['Delhi','Agra',\"Jaipur\",'Amritsar',\"Madurai\",\"Mysore\",\"Mumbai\",\"Sanchi\",\"Hydrabad\",\"Gujarat\"]\n",
    "print(f\"Choose Your city from the list:\\n{city_list}\")\n",
    "\n",
    "\n",
    "city_name = input(\"Enter a city name: \").strip().lower()\n",
    "\n",
    "if city_name == city_list[0].lower():\n",
    "    print(\"Redfort, QutubMinar, LotusTemple\")\n",
    "elif city_name == city_list[1].lower():\n",
    "    print(\"TajMahal\")\n",
    "elif city_name == city_list[2].lower():\n",
    "    print(\"HawaMahal, JalMahal\")\n",
    "elif city_name == city_list[3].lower():\n",
    "    print(\"GoldenTemple, Jalliawalabagh\") \n",
    "elif city_name == city_list[4].lower():\n",
    "    print(\"Meenakshi Temple\")\n",
    "elif city_name == city_list[5].lower():\n",
    "    print(\"Mysore palace\")\n",
    "\n",
    "elif city_name == city_list[6].lower():\n",
    "    print(\"Gateway of India\")\n",
    "elif city_name == city_list[7].lower():\n",
    "    print(\"Sanchi Stupa\")\n",
    "elif city_name == city_list[8].lower():\n",
    "    print(\"Charminar\")\n",
    "elif city_name == city_list[9].lower():\n",
    "    print(\"Statue of Unity\")\n",
    "else:\n",
    "    print(\"Invalid city name or spelling mistake\")"
   ]
  },
  {
   "cell_type": "code",
   "execution_count": null,
   "id": "e3d9158d-3493-49c6-9c9d-902f23ed748f",
   "metadata": {},
   "outputs": [],
   "source": [
    "city_list=['Delhi','Agra',\"Jaipur\",'Amritsar',\"Madurai\",\"Mysore\",\"Mumbai\",\"Sanchi\",\"Hydrabad\",\"Gujarat\"]\n",
    "print(f\"Choose Your city from the list:\\n{city_list}\")\n",
    "\n",
    "city = {\n",
    "    \"Delhi\": \"Red fort\", \n",
    "    \"Agra\" : 'Taj Mahal', \n",
    "    \"jaipur\" : \"Hawamahal\", \n",
    "    \"Amritsar\": \"Golden temple\"}\n",
    "# cname = list(city.keys())\n",
    "#print(cname)\n",
    "print (f\"Choose your city from the list\\n{cname}\")    \n",
    "user = input(\"enter the city: \").strip().title()\n",
    "\n",
    "if user in cname :\n",
    "    print(city[user])\n",
    "else :\n",
    "    print(\"city not found\")"
   ]
  },
  {
   "cell_type": "code",
   "execution_count": null,
   "id": "6ed3c797-f27d-4533-8341-3e973961f277",
   "metadata": {},
   "outputs": [],
   "source": [
    "x = {'a':'apple','b':'ball'}\n",
    "print(x,type(x))\n",
    "\n",
    "y = list(x)\n",
    "print(y)"
   ]
  },
  {
   "cell_type": "code",
   "execution_count": null,
   "id": "bf282616-9002-4017-8478-ab2187420349",
   "metadata": {},
   "outputs": [],
   "source": [
    "city_list=['Delhi','Agra',\"Jaipur\",'Amritsar',\"Madurai\",\"Mysore\",\"Mumbai\",\"Sanchi\",\"Hydrabad\",\"Gujarat\"]\n",
    "print(f\"Choose Your city from the list:\\n{city_list}\")\n",
    "\n",
    "city = {\n",
    "    \"Delhi\": \"Red fort\", \n",
    "    \"Agra\" : 'Taj Mahal', \n",
    "    \"Jaipur\" : \"Hawamahal\", \n",
    "    \"Amritsar\": \"Golden temple\"\n",
    "}\n",
    "\n",
    "# print(city)\n",
    "\n",
    "val = input(\"Enter your city:\")\n",
    "val2 = val.title()\n",
    "print(city[val2])"
   ]
  },
  {
   "cell_type": "code",
   "execution_count": 46,
   "id": "df27e81f-e64f-43f2-8f61-f871f3df6a7c",
   "metadata": {},
   "outputs": [
    {
     "name": "stdout",
     "output_type": "stream",
     "text": [
      "Choose Your city from the list:\n",
      "['Delhi', 'Agra', 'Jaipur', 'Amritsar', 'Madurai', 'Mysore', 'Mumbai', 'Sanchi', 'Hydrabad', 'Gujarat']\n"
     ]
    },
    {
     "name": "stdin",
     "output_type": "stream",
     "text": [
      "Enter a city name:  delhi\n"
     ]
    },
    {
     "name": "stdout",
     "output_type": "stream",
     "text": [
      "Redfort, QutubMinar, LotusTemple\n"
     ]
    }
   ],
   "source": [
    "# Delhi\n",
    "# delhi\n",
    "# DELHI\n",
    "# delHI\n",
    "city_list1=['Delhi','Agra',\"Jaipur\",'Amritsar',\"Madurai\",\"Mysore\",\"Mumbai\",\"Sanchi\",\"Hydrabad\",\"Gujarat\"]\n",
    "\n",
    "print(f\"Choose Your city from the list:\\n{city_list}\")\n",
    "\n",
    "\n",
    "city_name = input(\"Enter a city name: \").strip().title()\n",
    "\n",
    "if city_name == city_list[0]:\n",
    "    print(\"Redfort, QutubMinar, LotusTemple\")\n",
    "elif city_name == city_list[1]:\n",
    "    print(\"TajMahal\")\n",
    "elif city_name == city_list[2]:\n",
    "    print(\"HawaMahal, JalMahal\")\n",
    "elif city_name == city_list[3]:\n",
    "    print(\"GoldenTemple, Jalliawalabagh\") \n",
    "elif city_name == city_list[4]:\n",
    "    print(\"Meenakshi Temple\")\n",
    "elif city_name == city_list[5]:\n",
    "    print(\"Mysore palace\")\n",
    "\n",
    "elif city_name == city_list[6]:\n",
    "    print(\"Gateway of India\")\n",
    "elif city_name == city_list[7]:\n",
    "    print(\"Sanchi Stupa\")\n",
    "elif city_name == city_list[8]:\n",
    "    print(\"Charminar\")\n",
    "elif city_name == city_list[9]:\n",
    "    print(\"Statue of Unity\")\n",
    "else:\n",
    "    print(\"Invalid city name or spelling mistake\")"
   ]
  },
  {
   "cell_type": "code",
   "execution_count": 48,
   "id": "eece7b7c-7f6b-4d6e-9b31-fa2e9f2ab10e",
   "metadata": {},
   "outputs": [
    {
     "name": "stdout",
     "output_type": "stream",
     "text": [
      "Choose Your city from the list:\n",
      "['Delhi', 'Agra', 'Jaipur', 'Amritsar', 'Madurai', 'Mysore', 'Mumbai', 'Sanchi', 'Hydrabad', 'Gujarat']\n"
     ]
    },
    {
     "name": "stdin",
     "output_type": "stream",
     "text": [
      "Enter a city name:  delhi\n"
     ]
    },
    {
     "name": "stdout",
     "output_type": "stream",
     "text": [
      "Redfort, QutubMinar, LotusTemple\n"
     ]
    }
   ],
   "source": [
    "# Delhi\n",
    "# delhi\n",
    "# DELHI\n",
    "# delHI\n",
    "city_list=['Delhi','Agra',\"Jaipur\",'Amritsar',\"Madurai\",\"Mysore\",\"Mumbai\",\"Sanchi\",\"Hydrabad\",\"Gujarat\"]\n",
    "# city_list = city_list1.title()\n",
    "print(f\"Choose Your city from the list:\\n{city_list}\")\n",
    "\n",
    "\n",
    "city_name = input(\"Enter a city name: \").strip().title()\n",
    "\n",
    "if city_name == city_list[0]:\n",
    "    print(\"Redfort, QutubMinar, LotusTemple\")\n",
    "elif city_name == city_list[1]:\n",
    "    print(\"TajMahal\")\n",
    "elif city_name == city_list[2]:\n",
    "    print(\"HawaMahal, JalMahal\")\n",
    "elif city_name == city_list[3]:\n",
    "    print(\"GoldenTemple, Jalliawalabagh\") \n",
    "elif city_name == city_list[4]:\n",
    "    print(\"Meenakshi Temple\")\n",
    "elif city_name == city_list[5]:\n",
    "    print(\"Mysore palace\")\n",
    "\n",
    "elif city_name == city_list[6]:\n",
    "    print(\"Gateway of India\")\n",
    "elif city_name == city_list[7]:\n",
    "    print(\"Sanchi Stupa\")\n",
    "elif city_name == city_list[8]:\n",
    "    print(\"Charminar\")\n",
    "elif city_name == city_list[9]:\n",
    "    print(\"Statue of Unity\")\n",
    "else:\n",
    "    print(\"Invalid city name or spelling mistake\")"
   ]
  },
  {
   "cell_type": "code",
   "execution_count": 50,
   "id": "9efba703-1595-479a-af9d-1d093683b06a",
   "metadata": {},
   "outputs": [
    {
     "name": "stdin",
     "output_type": "stream",
     "text": [
      "Enter shopping Amount:  780\n"
     ]
    },
    {
     "name": "stdout",
     "output_type": "stream",
     "text": [
      "Total Shpping Price:₹780.0\n",
      "Total disount:₹0%\n",
      "Discount Amount:₹0.0\n",
      "Amount to Pay:₹780.0\n",
      "If you want to get 10% discount then you need to:₹ 220.0 more to shop.\n"
     ]
    }
   ],
   "source": [
    "# 2. A shop will give you a discount of 20% if the cost of purchase is more than 2000, and if \n",
    "# purchased amount will be 1000 more than that, it will be discounted by 10%, and if the purchased amount \n",
    "# is less than 1000- \"No discount\" as well as print how much more shopping is needed \n",
    "# Amount will be used to get the minimum discount.\n",
    "\n",
    "\n",
    "amount = float(input(\"Enter shopping Amount: \"))\n",
    "\n",
    "if amount>0:\n",
    "    if amount>=2000:\n",
    "        dis = \"20%\"\n",
    "        discountAmount = (amount*20)/100\n",
    "        # print(discountAmount)\n",
    "        amountPay=amount-discountAmount\n",
    "        print(f\"Total Shpping Price:₹{amount}\\nTotal disount:₹{dis}\\nDiscount Amount:₹{discountAmount}\\nAmount to Pay:₹{amountPay}\")\n",
    "    elif amount>=1000 and amount<2000:\n",
    "        dis = \"10%\"\n",
    "        discountAmount = (amount*10)/100\n",
    "        # print(discountAmount)\n",
    "        amountPay=amount-discountAmount\n",
    "        print(f\"Total Shpping Price:₹{amount}\\nTotal disount:₹{dis}\\nDiscount Amount:₹{discountAmount}\\nAmount to Pay:₹{amountPay}\")\n",
    "    else:\n",
    "        dis = \"0%\"\n",
    "        discountAmount = (amount*0)/100\n",
    "        # print(discountAmount)\n",
    "        amountPay=amount-discountAmount\n",
    "        requiredAmount = 1000-amount\n",
    "        print(f\"Total Shpping Price:₹{amount}\\nTotal disount:₹{dis}\\nDiscount Amount:₹{discountAmount}\\nAmount to Pay:₹{amountPay}\")\n",
    "        print(f\"If you want to get 10% discount then you need to:₹ {requiredAmount} more to shop.\")\n",
    "\n",
    "else:\n",
    "    print(\"Enter a Valid Amount.Amount Can't be in Negative.\")"
   ]
  },
  {
   "cell_type": "code",
   "execution_count": 52,
   "id": "9166cce5-aac8-41fc-b8d6-83999d1c3c9b",
   "metadata": {},
   "outputs": [
    {
     "name": "stdin",
     "output_type": "stream",
     "text": [
      "Enter your Salary ₹:  780000\n",
      "Enter the time period of your Service:  45\n"
     ]
    },
    {
     "name": "stdout",
     "output_type": "stream",
     "text": [
      "Your Current Salary:₹780000.0\n",
      "Bonus Percent:₹10%\n",
      "Bonus Amount:₹78000.0\n",
      "Total Salary:₹858000.0\n"
     ]
    }
   ],
   "source": [
    "#3. A company will decide to give a bonus to the employee according to the following criteria:\n",
    "\n",
    "# Period of the service -------------------> Bonus\n",
    "# More than 10 Years ---------------------------> 10%\n",
    "# >=6 and <=10 ---------------------------------> 8%\n",
    "# <6 -------------------------------------------> 5%\n",
    "# Ask the user for their salary and years of service, and then calculate the bonus amount is, \n",
    "# and display the total salary after the increment of the bonus.\n",
    "\n",
    "salary = float(input(\"Enter your Salary ₹: \"))\n",
    "timePeriod = int(input(\"Enter the time period of your Service: \"))\n",
    "\n",
    "if salary>0:\n",
    "    if timePeriod>0 and timePeriod<50:\n",
    "        if timePeriod>10:\n",
    "            bonusPercent = \"10%\"\n",
    "            bonus = ((salary*10)/100)\n",
    "            # print(bonus)\n",
    "            totalSal = salary+bonus\n",
    "            print(f\"Your Current Salary:₹{salary}\\nBonus Percent:₹{bonusPercent}\\nBonus Amount:₹{bonus}\\nTotal Salary:₹{totalSal}\")\n",
    "        elif timePeriod>=6 and timePeriod<=10:\n",
    "            bonusPercent = \"8%\"\n",
    "            bonus = ((salary*8)/100)\n",
    "            # print(bonus)\n",
    "            totalSal = salary+bonus\n",
    "            print(f\"Your Current Salary:₹{salary}\\nBonus Percent:₹{bonusPercent}\\nBonus Amount:₹{bonus}\\nTotal Salary:₹{totalSal}\")\n",
    "        else:\n",
    "            bonusPercent = \"5%\"\n",
    "            bonus = ((salary*5)/100)\n",
    "            # print(bonus)\n",
    "            totalSal = salary+bonus\n",
    "            print(f\"Your Current Salary:₹{salary}\\nBonus Percent:₹{bonusPercent}\\nBonus Amount:₹{bonus}\\nTotal Salary:₹{totalSal}\")\n",
    "    else:\n",
    "        print(\"Enter a Valid Time Period\")\n",
    "else:\n",
    "    print(\"Enter a Valid Salary.\")"
   ]
  },
  {
   "cell_type": "code",
   "execution_count": 54,
   "id": "6180f5d0-2d22-49eb-9c38-89f9870aab6f",
   "metadata": {},
   "outputs": [
    {
     "name": "stdin",
     "output_type": "stream",
     "text": [
      "Enter the price of the bike 4500000\n"
     ]
    },
    {
     "name": "stdout",
     "output_type": "stream",
     "text": [
      "as the price of the bike is : 4500000\n",
      "So the tax is 675000.0 \n",
      "Total price of the bike after tax: 5175000.0\n"
     ]
    }
   ],
   "source": [
    "# 4. Write a program to accept the cost price of a bike and display the road tax to be paid \n",
    "# according to the following criteria:\n",
    "# Cost price of bike (in RS) ------------ Tax:\n",
    "# >100000 -------------------------------> 15%\n",
    "# >50000 and <=100000---------------------> 10%\n",
    "# <50000 --------------------------------> 8%\n",
    "\n",
    "\n",
    "bike_price = int(input(\"Enter the price of the bike\" ))\n",
    "if bike_price > 0:\n",
    "    if bike_price > 100000:\n",
    "        tax = bike_price * 0.15\n",
    "        total_price = tax + bike_price\n",
    "        print(f\"as the price of the bike is : {bike_price}\\nSo the tax is {tax} \\nTotal price of the bike after tax: {total_price}\")\n",
    "    \n",
    "    elif bike_price > 50000 and bike_price <= 100000:\n",
    "        tax = bike_price * 0.10\n",
    "        total_price = tax + bike_price\n",
    "        print(f\"as the price of the bike is : {bike_price}\\nSo the tax is{tax} \\nTotal price of the bike after tax: {total_price}\")\n",
    "    \n",
    "    \n",
    "    elif bike_price <= 50000:\n",
    "        tax = bike_price * 0.08\n",
    "        total_price = tax + bike_price\n",
    "        print(f\"as the price of the bike is : {bike_price}\\nSo the tax is {tax}\\n total price of the bike after tax:{total_price}\")\n",
    "else:\n",
    "    print(\"Enter a positive bike price\")"
   ]
  },
  {
   "cell_type": "code",
   "execution_count": 56,
   "id": "c8fe9d49-c4a5-4ebd-9a4d-0f6d3fc0cc75",
   "metadata": {},
   "outputs": [
    {
     "name": "stdin",
     "output_type": "stream",
     "text": [
      "Enter the cost price of the bike (in Rs):  498900\n"
     ]
    },
    {
     "name": "stdout",
     "output_type": "stream",
     "text": [
      "Cost price is more than 100000 → 15% tax applied\n",
      "Bike Price: 498900.0, Road Tax: 74835.0, Total Price (with tax): 573735.0\n"
     ]
    }
   ],
   "source": [
    "cost_price = float(input(\"Enter the cost price of the bike (in Rs): \"))\n",
    "\n",
    "if cost_price > 100000:\n",
    "    tax = cost_price * 0.15\n",
    "    print(\"Cost price is more than 100000 → 15% tax applied\")\n",
    "    print(f\"Bike Price: {cost_price}, Road Tax: {tax}, Total Price (with tax): {cost_price + tax}\")\n",
    "\n",
    "elif cost_price > 50000 and cost_price <= 100000:\n",
    "    tax = cost_price * 0.10\n",
    "    print(\"Cost price is between 50001 and 100000 → 10% tax applied\")\n",
    "    print(f\"Bike Price: {cost_price}, Road Tax: {tax}, Total Price (with tax): {cost_price + tax}\")\n",
    "\n",
    "else:\n",
    "    tax = cost_price * 0.08\n",
    "    print(\"Cost price is less than or equal to 50000 → 8% tax applied\")\n",
    "    print(f\"Bike Price: {cost_price}, Road Tax: {tax}, Total Price (with tax): {cost_price + tax}\")\n",
    "   "
   ]
  },
  {
   "cell_type": "code",
   "execution_count": 58,
   "id": "9346f94d-c9df-468c-9a5f-132324678250",
   "metadata": {},
   "outputs": [
    {
     "name": "stdin",
     "output_type": "stream",
     "text": [
      "enter your age:  98\n"
     ]
    },
    {
     "name": "stdout",
     "output_type": "stream",
     "text": [
      "98 is a old age, So you are a senior citizen\n"
     ]
    }
   ],
   "source": [
    "# 5. Write a program to check person is a senior citizen or not?\n",
    "\n",
    "age = int(input(\"enter your age: \"))\n",
    "\n",
    "if age > 0 and age <= 130:\n",
    "    if age >= 60:\n",
    "        print(f\"{age} is a old age, So you are a senior citizen\")\n",
    "    else:\n",
    "        print(\"You are not a senior citizen\")\n",
    "else:\n",
    "    print(\"Please enter a valid age\")"
   ]
  },
  {
   "cell_type": "code",
   "execution_count": 60,
   "id": "5f823f6c-a5d0-4aab-ae93-739888b64f43",
   "metadata": {},
   "outputs": [
    {
     "name": "stdin",
     "output_type": "stream",
     "text": [
      "Enter the person's age:  98\n"
     ]
    },
    {
     "name": "stdout",
     "output_type": "stream",
     "text": [
      "Age is greater than or equal to 60 → Person is a Senior Citizen\n"
     ]
    }
   ],
   "source": [
    "age = int(input(\"Enter the person's age: \"))\n",
    "\n",
    "if age >= 60:\n",
    "    print(\"Age is greater than or equal to 60 → Person is a Senior Citizen\")\n",
    "else:\n",
    "    print(\"Age is less than 60 → Person is NOT a Senior Citizen\")"
   ]
  },
  {
   "cell_type": "code",
   "execution_count": 62,
   "id": "4d9d92d3-d45e-4ad9-84df-9031d2c2f09f",
   "metadata": {},
   "outputs": [
    {
     "name": "stdin",
     "output_type": "stream",
     "text": [
      "enter a number 78\n"
     ]
    },
    {
     "name": "stdout",
     "output_type": "stream",
     "text": [
      "78.0 is a positive number\n"
     ]
    }
   ],
   "source": [
    "# 6. Write a program to check whether a number (accepted from the user) is positive or negative.\n",
    "\n",
    "num = float(input(\"enter a number\"))\n",
    "\n",
    "if num > 0:\n",
    "    print(f\"{num} is a positive number\")\n",
    "elif num < 0:\n",
    "    print(f\"{num} is a negative number\")\n",
    "else:\n",
    "    print(f\"{num} is neutral number\")"
   ]
  },
  {
   "cell_type": "code",
   "execution_count": 64,
   "id": "8b98b641-d734-4e3d-9cee-99cad9cdbe1d",
   "metadata": {},
   "outputs": [
    {
     "name": "stdin",
     "output_type": "stream",
     "text": [
      "Enter total number of working days:  780\n",
      "Enter total number of absent days:  500\n"
     ]
    },
    {
     "name": "stdout",
     "output_type": "stream",
     "text": [
      "Attendance Percentage: 35.8974358974359%\n",
      "You are not allowed to sit for the exam.\n"
     ]
    }
   ],
   "source": [
    "# 7. Accept the following from the user and calculate the percentage of class attendance.\n",
    "# Total number of working days. = 250\n",
    "# Total number of absences.\n",
    "# if the percentage is less than 75%, then the student will not sit the exam.\n",
    "\n",
    "total_days = int(input(\"Enter total number of working days: \"))\n",
    "absent_days = int(input(\"Enter total number of absent days: \"))\n",
    "present_days = total_days - absent_days\n",
    "percentage = (present_days / total_days) * 100\n",
    "print(f\"Attendance Percentage: {percentage:}%\")\n",
    "if percentage < 75:\n",
    "    print(\"You are not allowed to sit for the exam.\")\n",
    "else:\n",
    "    print(\"You are allowed to sit for the exam.\")"
   ]
  },
  {
   "cell_type": "code",
   "execution_count": 66,
   "id": "f6b6c778-ae63-4e60-a13c-9f50aefd83a5",
   "metadata": {},
   "outputs": [
    {
     "name": "stdin",
     "output_type": "stream",
     "text": [
      "Enter total number of days student was absent:  780\n"
     ]
    },
    {
     "name": "stdout",
     "output_type": "stream",
     "text": [
      "\n",
      "Total Working Days: 130\n",
      "Days Present: -650\n",
      "Attendance Percentage: -500.00%\n",
      "Attendance is less than 75% → Student is NOT allowed to sit in the exam\n"
     ]
    }
   ],
   "source": [
    "total_days = 130  # fixed total working days\n",
    "absent_days = int(input(\"Enter total number of days student was absent: \"))\n",
    "present_days = total_days - absent_days\n",
    "percentage = (present_days / total_days) * 100\n",
    "\n",
    "print(f\"\\nTotal Working Days: {total_days}\")\n",
    "print(f\"Days Present: {present_days}\")\n",
    "print(f\"Attendance Percentage: {percentage:.2f}%\")\n",
    "\n",
    "\n",
    "if percentage < 75:\n",
    "    print(\"Attendance is less than 75% → Student is NOT allowed to sit in the exam\")\n",
    "else:\n",
    "    print(\"Attendance is 75% or more → Student Is allowed to sit in the exam\")"
   ]
  },
  {
   "cell_type": "code",
   "execution_count": 68,
   "id": "67f876a2-6214-4af1-a55f-779f1267af37",
   "metadata": {},
   "outputs": [
    {
     "name": "stdin",
     "output_type": "stream",
     "text": [
      "Enter your score (0-100):  78\n"
     ]
    },
    {
     "name": "stdout",
     "output_type": "stream",
     "text": [
      "Score is between 70 and 79 → Grade C\n",
      "Score: 78, Grade: C\n"
     ]
    }
   ],
   "source": [
    "score = int(input(\"Enter your score (0-100): \"))\n",
    "\n",
    "if score >= 90 and score <= 100:\n",
    "    grade = \"A\"\n",
    "    print(\"Score is between 90 and 100 → Grade A\")\n",
    "\n",
    "elif score >= 80 and score <= 89:\n",
    "    grade = \"B\"\n",
    "    print(\"Score is between 80 and 89 → Grade B\")\n",
    "\n",
    "elif score >= 70 and score <= 79:\n",
    "    grade = \"C\"\n",
    "    print(\"Score is between 70 and 79 → Grade C\")\n",
    "\n",
    "elif score >= 60 and score <= 69:\n",
    "    grade = \"D\"\n",
    "    print(\"Score is between 60 and 69 → Grade D\")\n",
    "\n",
    "elif score >= 50 and score <= 59:\n",
    "    grade =\"E\"\n",
    "    print(\"Score is between 50 and 59 → Grade E\")\n",
    "\n",
    "else:\n",
    "    grade = \"Fail\"\n",
    "    print(\"Score is less than 50 → Fail\")\n",
    "\n",
    "print(f\"Score: {score}, Grade: {grade}\")"
   ]
  },
  {
   "cell_type": "code",
   "execution_count": 70,
   "id": "62ac8574-a1af-4ca0-9ab5-8fd1c8f92ffd",
   "metadata": {},
   "outputs": [
    {
     "name": "stdin",
     "output_type": "stream",
     "text": [
      "Enter no of working days:  780\n",
      "Enter total no of absent days:  780\n"
     ]
    },
    {
     "name": "stdout",
     "output_type": "stream",
     "text": [
      "As 0.0% attendance is less than 75%, you cannot sit for exam.\n"
     ]
    }
   ],
   "source": [
    "total_working_days = int(input(\"Enter no of working days: \"))\n",
    "total_absent_days = int(input(\"Enter total no of absent days: \"))\n",
    "\n",
    "if total_working_days > 0 and 0 <= total_absent_days <= total_working_days:\n",
    "    present_days = total_working_days - total_absent_days\n",
    "    attendance_percentage = (present_days / total_working_days) * 100\n",
    "\n",
    "    if attendance_percentage < 75:\n",
    "        print(f\"As {attendance_percentage:}% attendance is less than 75%, you cannot sit for exam.\")\n",
    "    else:\n",
    "        print(f\"You can sit for exam, as your attendance {attendance_percentage}% is in acceptable range.\")\n",
    "elif total_working_days <= 0:\n",
    "    print(\"Please enter a valid number of working days.\")\n",
    "else:\n",
    "    print(\"Please enter a valid number of absent days.\")"
   ]
  },
  {
   "cell_type": "code",
   "execution_count": 72,
   "id": "98111585-5958-4ae2-ab9b-37e15860f46c",
   "metadata": {},
   "outputs": [
    {
     "name": "stdin",
     "output_type": "stream",
     "text": [
      "enter the score:  780\n"
     ]
    },
    {
     "name": "stdout",
     "output_type": "stream",
     "text": [
      "As score is 780 so you are fail\n"
     ]
    }
   ],
   "source": [
    "score = int(input(\"enter the score: \"))\n",
    "\n",
    "if score >0:\n",
    "    if score > 90 and score <=100:\n",
    "        print(f\"As score {score}, is in range between 90 t0 100 \\n So the grade is: A \")\n",
    "    elif score > 80 and score <= 89:\n",
    "        print(f\"As score {score}, is in range between 80 t0 89 \\n So the grade is: B \")\n",
    "    elif score > 70 and score <=79:\n",
    "        print(f\"As score {score}, is in range between 70 t0 79 \\n So the grade is: C \")\n",
    "    elif score > 50  and score <=59:\n",
    "        print(f\"As score {score}, is in range between 50 t0 59  \\n So the grade is: E \")\n",
    "    else:\n",
    "        print(f\"As score is {score} so you are fail\")\n",
    "else:\n",
    "    print(\"Enter a valid score\")"
   ]
  },
  {
   "cell_type": "code",
   "execution_count": 74,
   "id": "167fb8ca-18e1-48cc-b208-b6c36b093b11",
   "metadata": {},
   "outputs": [
    {
     "name": "stdin",
     "output_type": "stream",
     "text": [
      "Enter a Character  780\n"
     ]
    },
    {
     "name": "stdout",
     "output_type": "stream",
     "text": [
      "The character is a Digit.\n"
     ]
    }
   ],
   "source": [
    "# 12. Determine if a character is uppercase, lowercase, a digit or a special character.\n",
    "\n",
    "user=input(\"Enter a Character \")\n",
    "if user.isupper():\n",
    "    print(\"The character is uppercase\")\n",
    "elif user.islower():\n",
    "    print(\"The character is lowercase\")  \n",
    "elif user.isdigit():\n",
    "    print(\"The character is a Digit.\")    \n",
    "else:\n",
    "    print(\"The character is special character\")"
   ]
  },
  {
   "cell_type": "code",
   "execution_count": 76,
   "id": "118a6ead-2606-48e0-8e58-86ae13d12337",
   "metadata": {},
   "outputs": [
    {
     "name": "stdin",
     "output_type": "stream",
     "text": [
      "Enter a Character  780\n"
     ]
    },
    {
     "name": "stdout",
     "output_type": "stream",
     "text": [
      "The character is a Digit.\n"
     ]
    }
   ],
   "source": [
    "user=input(\"Enter a Character \")\n",
    "if user.isupper():\n",
    "    print(\"The character is uppercase\")\n",
    "elif user.islower():\n",
    "    print(\"The character is lowercase\")  \n",
    "elif user.isdigit():\n",
    "    print(\"The character is a Digit.\")    \n",
    "elif user.isalnum():\n",
    "    print(\"Alphanumeric\")\n",
    "else:\n",
    "    print(\"The character is special character\")"
   ]
  },
  {
   "cell_type": "code",
   "execution_count": 78,
   "id": "a2bf1896-49ed-4cfc-a0e1-e01c8db70314",
   "metadata": {},
   "outputs": [
    {
     "name": "stdin",
     "output_type": "stream",
     "text": [
      "Enter any value:  780\n"
     ]
    },
    {
     "name": "stdout",
     "output_type": "stream",
     "text": [
      "780 is in Digit\n"
     ]
    }
   ],
   "source": [
    "# check value\n",
    "userVal = input(\"Enter any value: \")\n",
    "\n",
    "if \"A\"<= userVal <=\"Z\":\n",
    "    print(f\"{userVal} is in Upper Case\")\n",
    "elif 'a'<= userVal <= 'z':\n",
    "    print(f\"{userVal} is in Lower Case\")\n",
    "elif \"0\" <= userVal<=\"9\":\n",
    "    print(f\"{userVal} is in Digit\")\n",
    "elif userVal.isalnum():\n",
    "    print(f\"{userVal} is in alpha and Numeric Value\")\n",
    "else:\n",
    "    print(f\"{userVal} is in special Characters\")"
   ]
  },
  {
   "cell_type": "code",
   "execution_count": null,
   "id": "d4fe8081-e616-4f52-b29a-9d7eab439d2e",
   "metadata": {},
   "outputs": [],
   "source": [
    "chr(97)"
   ]
  },
  {
   "cell_type": "code",
   "execution_count": null,
   "id": "7be53577-308f-44a4-8693-9b501aff53f6",
   "metadata": {},
   "outputs": [],
   "source": [
    "chr(65)"
   ]
  },
  {
   "cell_type": "code",
   "execution_count": null,
   "id": "5ac5399f-eac6-429b-9e9f-5873df866231",
   "metadata": {},
   "outputs": [],
   "source": [
    "import string"
   ]
  },
  {
   "cell_type": "code",
   "execution_count": null,
   "id": "cfc84bfc-9fd8-42b5-b0dd-c3b0c22b88a4",
   "metadata": {},
   "outputs": [],
   "source": [
    "help(string)"
   ]
  },
  {
   "cell_type": "code",
   "execution_count": 112,
   "id": "16b1c573-7efe-4613-b245-179d7a5662a6",
   "metadata": {},
   "outputs": [
    {
     "name": "stdin",
     "output_type": "stream",
     "text": [
      "Enter any value:  a\n"
     ]
    },
    {
     "name": "stdout",
     "output_type": "stream",
     "text": [
      "a is in Lower Case\n"
     ]
    }
   ],
   "source": [
    "userValue = input(\"Enter any value: \")\n",
    "\n",
    "\n",
    "ascii_letters = 'abcdefghijklmnopqrstuvwxyzABCDEFGHIJKLMNOPQRSTUVWXYZ'\n",
    "ascii_lowercase = 'abcdefghijklmnopqrstuvwxyz'\n",
    "ascii_uppercase = 'ABCDEFGHIJKLMNOPQRSTUVWXYZ'\n",
    "digits = '0123456789'\n",
    "hexdigits = '0123456789abcdefABCDEF'\n",
    "octdigits = '01234567'\n",
    "printable = '0123456789abcdefghijklmnopqrstuvwxyzABCDEFGHIJKLMNOPQRSTU...'\n",
    "punctuation = '!\"#$%&\\'()*+,-./:;<=>?@[\\\\]^_`{|}~'\n",
    "whitespace = ' \\t\\n\\r\\x0b\\x0c'\n",
    "\n",
    "\n",
    "val = \"abcdefghijklmnopqrstuvwxyzABCDEFGHIJKLMNOPQRSTUVWXYZ0123456789\"\n",
    "if userValue in ascii_lowercase:\n",
    "    print(f\"{userValue} is in Lower Case\")\n",
    "elif userValue in ascii_uppercase:\n",
    "    print(f\"{userValue} is in Upper Case\")\n",
    "elif userValue in val:\n",
    "    print(f\"{userValue} is in Alphabet and Numeric\")\n",
    "elif userValue in digits:\n",
    "    print(f\"{userValue} is in Digits\")\n",
    "elif userValue in punctuation:\n",
    "    print(f\"{userValue} is in Special Characters\")"
   ]
  },
  {
   "cell_type": "code",
   "execution_count": null,
   "id": "4d5eeb2b-30fe-4631-aa54-22dc76a31f55",
   "metadata": {},
   "outputs": [],
   "source": []
  },
  {
   "cell_type": "code",
   "execution_count": null,
   "id": "974eb36d-e50b-429a-8a80-aeb5d3737737",
   "metadata": {},
   "outputs": [],
   "source": []
  }
 ],
 "metadata": {
  "kernelspec": {
   "display_name": "Python 3 (ipykernel)",
   "language": "python",
   "name": "python3"
  },
  "language_info": {
   "codemirror_mode": {
    "name": "ipython",
    "version": 3
   },
   "file_extension": ".py",
   "mimetype": "text/x-python",
   "name": "python",
   "nbconvert_exporter": "python",
   "pygments_lexer": "ipython3",
   "version": "3.12.4"
  }
 },
 "nbformat": 4,
 "nbformat_minor": 5
}
