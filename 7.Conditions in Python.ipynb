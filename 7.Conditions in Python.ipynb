{
 "cells": [
  {
   "cell_type": "markdown",
   "id": "bdf1008e-bcad-418c-81fe-5ce11d69e860",
   "metadata": {},
   "source": [
    "# 7. Conditions in Python\n",
    "\n",
    " * __Comparison operator__\n",
    " * __Less than(<)__\n",
    " * __Greater than(>)__\n",
    " * __Less than or equal to(<=)__\n",
    " * __Greater than or equal to(>=)__\n",
    " * __Equal to (==)__\n",
    " * __Not equal to(!=)__\n",
    "\n",
    "# Branching (if,elif,else) in c programming(if,else-if, else)\n",
    "\n",
    " * __Decision making is required when we want to execute a code only if a certain condition is satisfied.__\n",
    " * __The if/elif/else statement is used in Python for decision making.__\n",
    " * __An else statement can be combined with an if statement.__\n",
    " * __An else statement contains the block of code that executes if the conditional expression in the if statement resolves to 0 or a False value.__\n",
    " * __The else statement is optional and there could be at most only one else statement following if.__\n",
    " * __The elif statement allows you to check multiple expressions for True and execute a block of code as soon as one of the conditions evaluates True.__\n",
    "\n",
    " * __Similar to the else, the elif statement is optional.__"
   ]
  },
  {
   "cell_type": "code",
   "execution_count": 5,
   "id": "38fcc483-0cee-43ec-b905-154b192f0bdd",
   "metadata": {},
   "outputs": [
    {
     "name": "stdout",
     "output_type": "stream",
     "text": [
      "False\n"
     ]
    }
   ],
   "source": [
    "# Operators always returns Boolean value.\n",
    "\n",
    "val = 1.618\n",
    "\n",
    "print(val>20)  # "
   ]
  },
  {
   "cell_type": "code",
   "execution_count": 7,
   "id": "717b73d0-6778-4efc-8851-2f2e13c44cb1",
   "metadata": {},
   "outputs": [
    {
     "name": "stdout",
     "output_type": "stream",
     "text": [
      "True\n"
     ]
    }
   ],
   "source": [
    "print(val<20)"
   ]
  },
  {
   "cell_type": "code",
   "execution_count": 30,
   "id": "41a4dae2-53bf-4f71-96c4-c193c31e4c67",
   "metadata": {},
   "outputs": [],
   "source": [
    "age = 4\n",
    "\n",
    "if (age>5):\n",
    "    print(\"you Can go to primary school.\")"
   ]
  },
  {
   "cell_type": "code",
   "execution_count": 14,
   "id": "dc2e735f-19b5-4cf7-a789-f4e621ec6482",
   "metadata": {},
   "outputs": [
    {
     "data": {
      "text/plain": [
       "False"
      ]
     },
     "execution_count": 14,
     "metadata": {},
     "output_type": "execute_result"
    }
   ],
   "source": [
    "age>5"
   ]
  },
  {
   "cell_type": "code",
   "execution_count": 24,
   "id": "e9cfe67c-e59c-4a92-8cd2-432c60f441d1",
   "metadata": {},
   "outputs": [
    {
     "data": {
      "text/plain": [
       "False"
      ]
     },
     "execution_count": 24,
     "metadata": {},
     "output_type": "execute_result"
    }
   ],
   "source": [
    "age>5"
   ]
  },
  {
   "cell_type": "code",
   "execution_count": 48,
   "id": "35d30d80-facf-4f3e-98fe-d6b515aa683d",
   "metadata": {},
   "outputs": [
    {
     "name": "stdout",
     "output_type": "stream",
     "text": [
      "You can go kindergarten\n"
     ]
    }
   ],
   "source": [
    "age = 5  # 5 you can go to kindergarten\n",
    "\n",
    "if (age>5):\n",
    "    print(\"you Can go to primary school.\")\n",
    "\n",
    "elif age==5:\n",
    "    # print(\"statement\")\n",
    "    print('You can go kindergarten')\n",
    "\n",
    "else:\n",
    "    print('your are a baby')"
   ]
  },
  {
   "cell_type": "code",
   "execution_count": 50,
   "id": "f63eec4e-603f-4209-b26f-f21cfe306f0a",
   "metadata": {},
   "outputs": [
    {
     "data": {
      "text/plain": [
       "True"
      ]
     },
     "execution_count": 50,
     "metadata": {},
     "output_type": "execute_result"
    }
   ],
   "source": [
    "age==5"
   ]
  },
  {
   "cell_type": "code",
   "execution_count": 52,
   "id": "dd8a2070-4fe2-4117-bc88-bcf8691b17d9",
   "metadata": {},
   "outputs": [
    {
     "data": {
      "text/plain": [
       "False"
      ]
     },
     "execution_count": 52,
     "metadata": {},
     "output_type": "execute_result"
    }
   ],
   "source": [
    "age>5"
   ]
  },
  {
   "cell_type": "code",
   "execution_count": 1,
   "id": "63fed849-73dc-41da-86c9-d15ce93be67a",
   "metadata": {},
   "outputs": [],
   "source": [
    "# if(condtion/True):\n",
    "#     statement \n",
    "\n",
    "# elif (condition):\n",
    "#     statement\n",
    "\n",
    "# else:\n",
    "#     print(statment)"
   ]
  },
  {
   "cell_type": "code",
   "execution_count": 50,
   "id": "4a89b242-c51c-4602-87bb-6119666ca0d2",
   "metadata": {},
   "outputs": [
    {
     "name": "stdin",
     "output_type": "stream",
     "text": [
      "Enter any value from 0 to 6:  4\n"
     ]
    },
    {
     "name": "stdout",
     "output_type": "stream",
     "text": [
      "Thursday\n"
     ]
    }
   ],
   "source": [
    "# weekdays name: - 0-7 = ('Sunday',Monday,'Tuesday',..............\"Saturday\")\n",
    "\n",
    "\n",
    "userNum = int(input(\"Enter any value from 0 to 6: \"))\n",
    "\n",
    "if (userNum == 0):\n",
    "    print(\"Sunday\")\n",
    "\n",
    "elif userNum == 1:\n",
    "    print('Monday')\n",
    "\n",
    "elif userNum == 2:\n",
    "    print(\"TuesDay\")\n",
    "\n",
    "elif userNum == 3:\n",
    "    print(\"WednesDay\")\n",
    "\n",
    "elif userNum == 4:\n",
    "    print(\"Thursday\")\n",
    "\n",
    "elif userNum == 5:\n",
    "    print(\"Friday\")\n",
    "\n",
    "elif userNum == 6:\n",
    "    print('Saturday')\n",
    "\n",
    "else:\n",
    "    print('No weekdays')"
   ]
  },
  {
   "cell_type": "code",
   "execution_count": 62,
   "id": "a6dc609c-9815-4987-b7cd-3ec81e43890c",
   "metadata": {},
   "outputs": [
    {
     "name": "stdin",
     "output_type": "stream",
     "text": [
      "enter a number:  654564685446\n"
     ]
    },
    {
     "name": "stdout",
     "output_type": "stream",
     "text": [
      "654564685446 is even number \n"
     ]
    }
   ],
   "source": [
    "# write to check the value is even or odd - userNumber\n",
    "# Aditya\n",
    "num = int(input(\"enter a number: \"))\n",
    "\n",
    "if num % 2 == 0:\n",
    "    print(f\"{num} is even number \")  # formatting of string\n",
    "else:\n",
    "    print(f\"{num} is odd number\")  # formatting of string"
   ]
  },
  {
   "cell_type": "code",
   "execution_count": null,
   "id": "c2300227-f13e-4b4a-8e5a-175a692a2aae",
   "metadata": {},
   "outputs": [],
   "source": [
    "# Asma\n",
    "user_number=int(input(\"Enter number to check even or odd\"))\n",
    "If user_number % 2==0\n",
    "    print(\"Even\")\n",
    "Else:\n",
    "   Print(\"odd \")"
   ]
  },
  {
   "cell_type": "code",
   "execution_count": 64,
   "id": "26d08035-ee23-42fd-a240-2a9900fc5af2",
   "metadata": {},
   "outputs": [],
   "source": [
    "# write a program to check if any number entered by the user is divisible by 3 and 5,\n",
    "# 15- is divisible by both 3 and 5\n",
    "# 10- is divisible by only 5, not 3\n",
    "# 9- is divisible by only 3, not 5\n",
    "# 23- is not divisible by both of them, like 3 and 5."
   ]
  },
  {
   "cell_type": "code",
   "execution_count": 76,
   "id": "0d56a8f5-ae9a-41c3-8964-0fd43495d0b9",
   "metadata": {},
   "outputs": [
    {
     "name": "stdin",
     "output_type": "stream",
     "text": [
      "enter a number:  35\n"
     ]
    },
    {
     "name": "stdout",
     "output_type": "stream",
     "text": [
      "35 is divisible by 5 and not by 3\n"
     ]
    }
   ],
   "source": [
    "# Aditya\n",
    "n = int(input(\"enter a number: \"))\n",
    "\n",
    "if n % 3 == 0 and n % 5 == 0:\n",
    "    print(f\"{n} is divisible by 3 and 5\")\n",
    "elif n % 5 == 0:\n",
    "    print(f\"{n} is divisible by 5 and not by 3\")\n",
    "elif n % 3 == 0:\n",
    "    print(f\"{n} is divisible by 3 and not by 5\")\n",
    "else:\n",
    "    print(f\" {n} is not divisible by both of them like 3 and 5\")"
   ]
  },
  {
   "cell_type": "code",
   "execution_count": 82,
   "id": "19681de3-a4d4-4dc9-bfdf-406a66d7e777",
   "metadata": {},
   "outputs": [
    {
     "name": "stdin",
     "output_type": "stream",
     "text": [
      "Enter any Value:  44\n"
     ]
    },
    {
     "name": "stdout",
     "output_type": "stream",
     "text": [
      "Not divisible by 3 and 4\n"
     ]
    }
   ],
   "source": [
    "a = int(input(\"Enter any Value: \"))\n",
    "if a%3 == 0 and a%5 == 0:\n",
    "    print(\"Divisible by 15\")\n",
    "elif a%5 == 0:\n",
    "      print(\"Divisible by 5\")\n",
    "elif a%3 == 0:\n",
    "      print(\"Divisible by 3\") \n",
    "else:\n",
    "    print(\"Not divisible by 3 and 4\")"
   ]
  },
  {
   "cell_type": "code",
   "execution_count": 90,
   "id": "de050617-5302-4930-99aa-bef36d300b75",
   "metadata": {},
   "outputs": [
    {
     "name": "stdin",
     "output_type": "stream",
     "text": [
      "Enter a number 25\n"
     ]
    },
    {
     "name": "stdout",
     "output_type": "stream",
     "text": [
      "25 divisible by 5\n"
     ]
    }
   ],
   "source": [
    "num=int(input(\"Enter a number\"))\n",
    "if num%3==0 and num%5==0:\n",
    "    print(f\"{num}is divisible by 3 and 5\")\n",
    "elif num%3==0 and num%5!=0:\n",
    "    print(f\"{num} divisible by 3\")\n",
    "elif num%5==0 and num%3!=0:\n",
    "   print(f\"{num} divisible by 5\")\n",
    "else:\n",
    "   print(f\"{num} not divisible by both number\")"
   ]
  },
  {
   "cell_type": "code",
   "execution_count": 9,
   "id": "855b3c9e-889a-4cb8-a0c9-a9b185b7f5c9",
   "metadata": {},
   "outputs": [
    {
     "name": "stdin",
     "output_type": "stream",
     "text": [
      "Enter a string to check vowel and consonant b\n"
     ]
    },
    {
     "name": "stdout",
     "output_type": "stream",
     "text": [
      "b is consonant\n"
     ]
    }
   ],
   "source": [
    "# Accepts any character from the user and guesses vowel and consonant.\n",
    "\n",
    "# a - vowel\n",
    "# A - Vowel\n",
    "\n",
    "# B - consonant\n",
    "# b - consonant\n",
    "\n",
    "# --------------------------------------\n",
    "\n",
    "user=input(\"Enter a string to check vowel and consonant\")\n",
    "if (user == 'a' or user == 'e' or\n",
    "     user == 'i' or user == 'o' or user == 'u' or  user == 'A' or user == 'E' or\n",
    "    user == 'I' or user == 'O' or user == 'U'):\n",
    "    print(f\"{user} is vowel\")\n",
    "else:\n",
    "   print(f\"{user} is consonant\")"
   ]
  },
  {
   "cell_type": "code",
   "execution_count": 15,
   "id": "5cd17344-12a0-48fc-b9a8-1dc966e1b5d8",
   "metadata": {},
   "outputs": [
    {
     "name": "stdin",
     "output_type": "stream",
     "text": [
      "Enter any charecter:  c\n"
     ]
    },
    {
     "name": "stdout",
     "output_type": "stream",
     "text": [
      "c is consonant\n"
     ]
    }
   ],
   "source": [
    "input1 = input(\"Enter any charecter: \")\n",
    "char = input1.lower()\n",
    "if char == \"a\" or char == \"e\" or char == \"i\" or char == \"o\" or char == \"u\":\n",
    "    print(f\"{input1} is Vowel\")\n",
    "else:\n",
    "    print(f\"{input1} is consonant\")"
   ]
  },
  {
   "cell_type": "code",
   "execution_count": 22,
   "id": "aa46bc5f-2e8f-4a15-b74d-b7f736a0ff05",
   "metadata": {},
   "outputs": [
    {
     "name": "stdin",
     "output_type": "stream",
     "text": [
      "Enter any character:  b\n"
     ]
    },
    {
     "name": "stdout",
     "output_type": "stream",
     "text": [
      "b is a consonant\n"
     ]
    }
   ],
   "source": [
    "letter = input(\"Enter any character: \")  \n",
    "char = letter.lower()\n",
    "\n",
    "if char in ['a', 'e', 'i', 'o', 'u']:\n",
    "    print(f\"{letter} is a vowel letter\")\n",
    "else:\n",
    "    print(f\"{letter} is a consonant\")"
   ]
  },
  {
   "cell_type": "code",
   "execution_count": 28,
   "id": "c219c16e-bdc1-46e7-9155-3554126c951b",
   "metadata": {},
   "outputs": [
    {
     "name": "stdin",
     "output_type": "stream",
     "text": [
      "Enter any character:  O\n"
     ]
    },
    {
     "name": "stdout",
     "output_type": "stream",
     "text": [
      "O is a vowel letter\n"
     ]
    }
   ],
   "source": [
    "letter = input(\"Enter any character: \")  \n",
    "char = letter.lower()\n",
    "vow = \"aeiou\"\n",
    "if char in vow :\n",
    "    print(f\"{letter} is a vowel letter\")\n",
    "else:\n",
    "    print(f\"{letter} is a consonant\")"
   ]
  },
  {
   "cell_type": "code",
   "execution_count": 32,
   "id": "33ddce47-3637-46f6-b70f-33fe13d2e155",
   "metadata": {},
   "outputs": [
    {
     "name": "stdout",
     "output_type": "stream",
     "text": [
      "Choose Your city from the list:\n",
      "['Delhi', 'Agra', 'Jaipur', 'Amritsar', 'Madurai', 'Mysore', 'Mumbai', 'Sanchi', 'Hydrabad', 'Gujarat']\n"
     ]
    }
   ],
   "source": [
    "list=['Delhi','Agra',\"Jaipur\",'Amritsar',\"Madurai\",\"Mysore\",\"Mumbai\",\"Sanchi\",\"Hydrabad\",\"Gujarat\"]\n",
    "print(f\"Choose Your city from the list:\\n{list}\")\n",
    "\n"
   ]
  },
  {
   "cell_type": "code",
   "execution_count": 40,
   "id": "9fa8971f-8187-4382-b0b6-f0e3cce0d7a3",
   "metadata": {},
   "outputs": [
    {
     "name": "stdout",
     "output_type": "stream",
     "text": [
      "Choose Your city from the list:\n",
      "['Delhi', 'Agra', 'Jaipur', 'Amritsar', 'Madurai', 'Mysore', 'Mumbai', 'Sanchi', 'Hydrabad', 'Gujarat']\n"
     ]
    },
    {
     "name": "stdin",
     "output_type": "stream",
     "text": [
      "Enter a city name:  agra\n"
     ]
    },
    {
     "name": "stdout",
     "output_type": "stream",
     "text": [
      "TajMahal\n"
     ]
    }
   ],
   "source": [
    "# Delhi\n",
    "# delhi\n",
    "# DELHI\n",
    "# delHI\n",
    "city_list=['Delhi','Agra',\"Jaipur\",'Amritsar',\"Madurai\",\"Mysore\",\"Mumbai\",\"Sanchi\",\"Hydrabad\",\"Gujarat\"]\n",
    "print(f\"Choose Your city from the list:\\n{city_list}\")\n",
    "\n",
    "\n",
    "city_name = input(\"Enter a city name: \").strip().lower()\n",
    "\n",
    "if city_name == city_list[0].lower():\n",
    "    print(\"Redfort, QutubMinar, LotusTemple\")\n",
    "elif city_name == city_list[1].lower():\n",
    "    print(\"TajMahal\")\n",
    "elif city_name == city_list[2].lower():\n",
    "    print(\"HawaMahal, JalMahal\")\n",
    "elif city_name == city_list[3].lower():\n",
    "    print(\"GoldenTemple, Jalliawalabagh\") \n",
    "elif city_name == city_list[4].lower():\n",
    "    print(\"Meenakshi Temple\")\n",
    "elif city_name == city_list[5].lower():\n",
    "    print(\"Mysore palace\")\n",
    "\n",
    "elif city_name == city_list[6].lower():\n",
    "    print(\"Gateway of India\")\n",
    "elif city_name == city_list[7].lower():\n",
    "    print(\"Sanchi Stupa\")\n",
    "elif city_name == city_list[8].lower():\n",
    "    print(\"Charminar\")\n",
    "elif city_name == city_list[9].lower():\n",
    "    print(\"Statue of Unity\")\n",
    "else:\n",
    "    print(\"Invalid city name or spelling mistake\")"
   ]
  },
  {
   "cell_type": "code",
   "execution_count": 52,
   "id": "e3d9158d-3493-49c6-9c9d-902f23ed748f",
   "metadata": {},
   "outputs": [
    {
     "name": "stdout",
     "output_type": "stream",
     "text": [
      "Choose Your city from the list:\n",
      "['Delhi', 'Agra', 'Jaipur', 'Amritsar', 'Madurai', 'Mysore', 'Mumbai', 'Sanchi', 'Hydrabad', 'Gujarat']\n"
     ]
    },
    {
     "ename": "TypeError",
     "evalue": "'list' object is not callable",
     "output_type": "error",
     "traceback": [
      "\u001b[1;31m---------------------------------------------------------------------------\u001b[0m",
      "\u001b[1;31mTypeError\u001b[0m                                 Traceback (most recent call last)",
      "Cell \u001b[1;32mIn[52], line 9\u001b[0m\n\u001b[0;32m      2\u001b[0m \u001b[38;5;28mprint\u001b[39m(\u001b[38;5;124mf\u001b[39m\u001b[38;5;124m\"\u001b[39m\u001b[38;5;124mChoose Your city from the list:\u001b[39m\u001b[38;5;130;01m\\n\u001b[39;00m\u001b[38;5;132;01m{\u001b[39;00mcity_list\u001b[38;5;132;01m}\u001b[39;00m\u001b[38;5;124m\"\u001b[39m)\n\u001b[0;32m      4\u001b[0m city \u001b[38;5;241m=\u001b[39m {\n\u001b[0;32m      5\u001b[0m     \u001b[38;5;124m\"\u001b[39m\u001b[38;5;124mDelhi\u001b[39m\u001b[38;5;124m\"\u001b[39m: \u001b[38;5;124m\"\u001b[39m\u001b[38;5;124mRed fort\u001b[39m\u001b[38;5;124m\"\u001b[39m, \n\u001b[0;32m      6\u001b[0m     \u001b[38;5;124m\"\u001b[39m\u001b[38;5;124mAgra\u001b[39m\u001b[38;5;124m\"\u001b[39m : \u001b[38;5;124m'\u001b[39m\u001b[38;5;124mTaj Mahal\u001b[39m\u001b[38;5;124m'\u001b[39m, \n\u001b[0;32m      7\u001b[0m     \u001b[38;5;124m\"\u001b[39m\u001b[38;5;124mjaipur\u001b[39m\u001b[38;5;124m\"\u001b[39m : \u001b[38;5;124m\"\u001b[39m\u001b[38;5;124mHawamahal\u001b[39m\u001b[38;5;124m\"\u001b[39m, \n\u001b[0;32m      8\u001b[0m     \u001b[38;5;124m\"\u001b[39m\u001b[38;5;124mAmritsar\u001b[39m\u001b[38;5;124m\"\u001b[39m: \u001b[38;5;124m\"\u001b[39m\u001b[38;5;124mGolden temple\u001b[39m\u001b[38;5;124m\"\u001b[39m}\n\u001b[1;32m----> 9\u001b[0m cname \u001b[38;5;241m=\u001b[39m \u001b[38;5;28mlist\u001b[39m(city\u001b[38;5;241m.\u001b[39mkeys())\n\u001b[0;32m     10\u001b[0m \u001b[38;5;66;03m#print(cname)\u001b[39;00m\n\u001b[0;32m     11\u001b[0m \u001b[38;5;28mprint\u001b[39m (\u001b[38;5;124mf\u001b[39m\u001b[38;5;124m\"\u001b[39m\u001b[38;5;124mChoose your city from the list\u001b[39m\u001b[38;5;130;01m\\n\u001b[39;00m\u001b[38;5;132;01m{\u001b[39;00mcname\u001b[38;5;132;01m}\u001b[39;00m\u001b[38;5;124m\"\u001b[39m)    \n",
      "\u001b[1;31mTypeError\u001b[0m: 'list' object is not callable"
     ]
    }
   ],
   "source": [
    "city_list=['Delhi','Agra',\"Jaipur\",'Amritsar',\"Madurai\",\"Mysore\",\"Mumbai\",\"Sanchi\",\"Hydrabad\",\"Gujarat\"]\n",
    "print(f\"Choose Your city from the list:\\n{city_list}\")\n",
    "\n",
    "city = {\n",
    "    \"Delhi\": \"Red fort\", \n",
    "    \"Agra\" : 'Taj Mahal', \n",
    "    \"jaipur\" : \"Hawamahal\", \n",
    "    \"Amritsar\": \"Golden temple\"}\n",
    "# cname = list(city.keys())\n",
    "#print(cname)\n",
    "print (f\"Choose your city from the list\\n{cname}\")    \n",
    "user = input(\"enter the city: \").strip().title()\n",
    "\n",
    "if user in cname :\n",
    "    print(city[user])\n",
    "else :\n",
    "    print(\"city not found\")"
   ]
  },
  {
   "cell_type": "code",
   "execution_count": 56,
   "id": "6ed3c797-f27d-4533-8341-3e973961f277",
   "metadata": {},
   "outputs": [
    {
     "name": "stdout",
     "output_type": "stream",
     "text": [
      "{'a': 'apple', 'b': 'ball'} <class 'dict'>\n"
     ]
    },
    {
     "ename": "TypeError",
     "evalue": "'list' object is not callable",
     "output_type": "error",
     "traceback": [
      "\u001b[1;31m---------------------------------------------------------------------------\u001b[0m",
      "\u001b[1;31mTypeError\u001b[0m                                 Traceback (most recent call last)",
      "Cell \u001b[1;32mIn[56], line 4\u001b[0m\n\u001b[0;32m      1\u001b[0m x \u001b[38;5;241m=\u001b[39m {\u001b[38;5;124m'\u001b[39m\u001b[38;5;124ma\u001b[39m\u001b[38;5;124m'\u001b[39m:\u001b[38;5;124m'\u001b[39m\u001b[38;5;124mapple\u001b[39m\u001b[38;5;124m'\u001b[39m,\u001b[38;5;124m'\u001b[39m\u001b[38;5;124mb\u001b[39m\u001b[38;5;124m'\u001b[39m:\u001b[38;5;124m'\u001b[39m\u001b[38;5;124mball\u001b[39m\u001b[38;5;124m'\u001b[39m}\n\u001b[0;32m      2\u001b[0m \u001b[38;5;28mprint\u001b[39m(x,\u001b[38;5;28mtype\u001b[39m(x))\n\u001b[1;32m----> 4\u001b[0m y \u001b[38;5;241m=\u001b[39m \u001b[38;5;28mlist\u001b[39m(x)\n\u001b[0;32m      5\u001b[0m \u001b[38;5;28mprint\u001b[39m(y)\n",
      "\u001b[1;31mTypeError\u001b[0m: 'list' object is not callable"
     ]
    }
   ],
   "source": [
    "x = {'a':'apple','b':'ball'}\n",
    "print(x,type(x))\n",
    "\n",
    "y = list(x)\n",
    "print(y)"
   ]
  },
  {
   "cell_type": "code",
   "execution_count": 75,
   "id": "bf282616-9002-4017-8478-ab2187420349",
   "metadata": {},
   "outputs": [
    {
     "name": "stdout",
     "output_type": "stream",
     "text": [
      "Choose Your city from the list:\n",
      "['Delhi', 'Agra', 'Jaipur', 'Amritsar', 'Madurai', 'Mysore', 'Mumbai', 'Sanchi', 'Hydrabad', 'Gujarat']\n"
     ]
    },
    {
     "name": "stdin",
     "output_type": "stream",
     "text": [
      "Enter your city: aMRITSAR\n"
     ]
    },
    {
     "name": "stdout",
     "output_type": "stream",
     "text": [
      "Golden temple\n"
     ]
    }
   ],
   "source": [
    "city_list=['Delhi','Agra',\"Jaipur\",'Amritsar',\"Madurai\",\"Mysore\",\"Mumbai\",\"Sanchi\",\"Hydrabad\",\"Gujarat\"]\n",
    "print(f\"Choose Your city from the list:\\n{city_list}\")\n",
    "\n",
    "city = {\n",
    "    \"Delhi\": \"Red fort\", \n",
    "    \"Agra\" : 'Taj Mahal', \n",
    "    \"Jaipur\" : \"Hawamahal\", \n",
    "    \"Amritsar\": \"Golden temple\"\n",
    "}\n",
    "\n",
    "# print(city)\n",
    "\n",
    "val = input(\"Enter your city:\")\n",
    "val2 = val.title()\n",
    "print(city[val2])"
   ]
  },
  {
   "cell_type": "code",
   "execution_count": 83,
   "id": "df27e81f-e64f-43f2-8f61-f871f3df6a7c",
   "metadata": {},
   "outputs": [
    {
     "name": "stdout",
     "output_type": "stream",
     "text": [
      "Choose Your city from the list:\n",
      "['Delhi', 'Agra', 'Jaipur', 'Amritsar', 'Madurai', 'Mysore', 'Mumbai', 'Sanchi', 'Hydrabad', 'Gujarat']\n"
     ]
    },
    {
     "name": "stdin",
     "output_type": "stream",
     "text": [
      "Enter a city name:  delhi\n"
     ]
    },
    {
     "name": "stdout",
     "output_type": "stream",
     "text": [
      "Redfort, QutubMinar, LotusTemple\n"
     ]
    }
   ],
   "source": [
    "# Delhi\n",
    "# delhi\n",
    "# DELHI\n",
    "# delHI\n",
    "city_list1=['Delhi','Agra',\"Jaipur\",'Amritsar',\"Madurai\",\"Mysore\",\"Mumbai\",\"Sanchi\",\"Hydrabad\",\"Gujarat\"]\n",
    "\n",
    "print(f\"Choose Your city from the list:\\n{city_list}\")\n",
    "\n",
    "\n",
    "city_name = input(\"Enter a city name: \").strip().title()\n",
    "\n",
    "if city_name == city_list[0]:\n",
    "    print(\"Redfort, QutubMinar, LotusTemple\")\n",
    "elif city_name == city_list[1]:\n",
    "    print(\"TajMahal\")\n",
    "elif city_name == city_list[2]:\n",
    "    print(\"HawaMahal, JalMahal\")\n",
    "elif city_name == city_list[3]:\n",
    "    print(\"GoldenTemple, Jalliawalabagh\") \n",
    "elif city_name == city_list[4]:\n",
    "    print(\"Meenakshi Temple\")\n",
    "elif city_name == city_list[5]:\n",
    "    print(\"Mysore palace\")\n",
    "\n",
    "elif city_name == city_list[6]:\n",
    "    print(\"Gateway of India\")\n",
    "elif city_name == city_list[7]:\n",
    "    print(\"Sanchi Stupa\")\n",
    "elif city_name == city_list[8]:\n",
    "    print(\"Charminar\")\n",
    "elif city_name == city_list[9]:\n",
    "    print(\"Statue of Unity\")\n",
    "else:\n",
    "    print(\"Invalid city name or spelling mistake\")"
   ]
  },
  {
   "cell_type": "code",
   "execution_count": 3,
   "id": "eece7b7c-7f6b-4d6e-9b31-fa2e9f2ab10e",
   "metadata": {},
   "outputs": [
    {
     "name": "stdout",
     "output_type": "stream",
     "text": [
      "Choose Your city from the list:\n",
      "['Delhi', 'Agra', 'Jaipur', 'Amritsar', 'Madurai', 'Mysore', 'Mumbai', 'Sanchi', 'Hydrabad', 'Gujarat']\n"
     ]
    },
    {
     "name": "stdin",
     "output_type": "stream",
     "text": [
      "Enter a city name:  delhi\n"
     ]
    },
    {
     "name": "stdout",
     "output_type": "stream",
     "text": [
      "Redfort, QutubMinar, LotusTemple\n"
     ]
    }
   ],
   "source": [
    "# Delhi\n",
    "# delhi\n",
    "# DELHI\n",
    "# delHI\n",
    "city_list=['Delhi','Agra',\"Jaipur\",'Amritsar',\"Madurai\",\"Mysore\",\"Mumbai\",\"Sanchi\",\"Hydrabad\",\"Gujarat\"]\n",
    "# city_list = city_list1.title()\n",
    "print(f\"Choose Your city from the list:\\n{city_list}\")\n",
    "\n",
    "\n",
    "city_name = input(\"Enter a city name: \").strip().title()\n",
    "\n",
    "if city_name == city_list[0]:\n",
    "    print(\"Redfort, QutubMinar, LotusTemple\")\n",
    "elif city_name == city_list[1]:\n",
    "    print(\"TajMahal\")\n",
    "elif city_name == city_list[2]:\n",
    "    print(\"HawaMahal, JalMahal\")\n",
    "elif city_name == city_list[3]:\n",
    "    print(\"GoldenTemple, Jalliawalabagh\") \n",
    "elif city_name == city_list[4]:\n",
    "    print(\"Meenakshi Temple\")\n",
    "elif city_name == city_list[5]:\n",
    "    print(\"Mysore palace\")\n",
    "\n",
    "elif city_name == city_list[6]:\n",
    "    print(\"Gateway of India\")\n",
    "elif city_name == city_list[7]:\n",
    "    print(\"Sanchi Stupa\")\n",
    "elif city_name == city_list[8]:\n",
    "    print(\"Charminar\")\n",
    "elif city_name == city_list[9]:\n",
    "    print(\"Statue of Unity\")\n",
    "else:\n",
    "    print(\"Invalid city name or spelling mistake\")"
   ]
  },
  {
   "cell_type": "code",
   "execution_count": null,
   "id": "9efba703-1595-479a-af9d-1d093683b06a",
   "metadata": {},
   "outputs": [],
   "source": []
  }
 ],
 "metadata": {
  "kernelspec": {
   "display_name": "Python 3 (ipykernel)",
   "language": "python",
   "name": "python3"
  },
  "language_info": {
   "codemirror_mode": {
    "name": "ipython",
    "version": 3
   },
   "file_extension": ".py",
   "mimetype": "text/x-python",
   "name": "python",
   "nbconvert_exporter": "python",
   "pygments_lexer": "ipython3",
   "version": "3.12.4"
  }
 },
 "nbformat": 4,
 "nbformat_minor": 5
}
