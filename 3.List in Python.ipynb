{
 "cells": [
  {
   "cell_type": "markdown",
   "id": "c049b644-b165-4d12-acd5-42cf2f7bb846",
   "metadata": {},
   "source": [
    "# 3. Lists in Python\n",
    "\n",
    " * __Lists are ordered.__\n",
    " * __Lists can contain any objects.__\n",
    " * __List element can be accessed by index value.__\n",
    " * __Lists are a mutable data type of Python.__"
   ]
  },
  {
   "cell_type": "code",
   "execution_count": 2,
   "id": "c44daafd-8198-4c11-9cbf-0b4471ba5cbb",
   "metadata": {},
   "outputs": [
    {
     "name": "stdout",
     "output_type": "stream",
     "text": [
      "[] <class 'list'>\n"
     ]
    }
   ],
   "source": [
    "# data:- string, list, tuple [sequence]\n",
    "\n",
    "x = []\n",
    "print(x,type(x))"
   ]
  },
  {
   "cell_type": "code",
   "execution_count": 6,
   "id": "6a80db32-bec4-4610-844a-fee8faffb9a4",
   "metadata": {},
   "outputs": [
    {
     "name": "stdout",
     "output_type": "stream",
     "text": [
      "['python', 3.147, 50, True, False]\n",
      "<class 'list'>\n"
     ]
    }
   ],
   "source": [
    "x1 = ['python',3.147,50,True,False]\n",
    "print(x1)\n",
    "print(type(x1))"
   ]
  },
  {
   "cell_type": "code",
   "execution_count": 22,
   "id": "4f5966cc-0eb5-4dab-9aee-ff0b7c9157b2",
   "metadata": {},
   "outputs": [
    {
     "name": "stdout",
     "output_type": "stream",
     "text": [
      "python\n",
      "3.147\n",
      "50\n",
      "True\n",
      "False\n"
     ]
    },
    {
     "ename": "IndexError",
     "evalue": "list index out of range",
     "output_type": "error",
     "traceback": [
      "\u001b[1;31m---------------------------------------------------------------------------\u001b[0m",
      "\u001b[1;31mIndexError\u001b[0m                                Traceback (most recent call last)",
      "Cell \u001b[1;32mIn[22], line 7\u001b[0m\n\u001b[0;32m      5\u001b[0m \u001b[38;5;28mprint\u001b[39m(x1[\u001b[38;5;241m3\u001b[39m])\n\u001b[0;32m      6\u001b[0m \u001b[38;5;28mprint\u001b[39m(x1[\u001b[38;5;241m4\u001b[39m])\n\u001b[1;32m----> 7\u001b[0m \u001b[38;5;28mprint\u001b[39m(x1[\u001b[38;5;241m5\u001b[39m])\n",
      "\u001b[1;31mIndexError\u001b[0m: list index out of range"
     ]
    }
   ],
   "source": [
    "# index value. [Fast Access]\n",
    "print(x1[0])\n",
    "print(x1[1])\n",
    "print(x1[2])\n",
    "print(x1[3])\n",
    "print(x1[4])\n",
    "print(x1[5])"
   ]
  },
  {
   "cell_type": "code",
   "execution_count": 33,
   "id": "ee47eff0-0e7f-47c3-b5f0-b37f6012dd74",
   "metadata": {},
   "outputs": [
    {
     "name": "stdout",
     "output_type": "stream",
     "text": [
      "False\n",
      "True\n",
      "50\n",
      "3.147\n",
      "python\n"
     ]
    }
   ],
   "source": [
    "# index value. [Fast Access]\n",
    "# Negative index value\n",
    "print(x1[-1])\n",
    "print(x1[-2])\n",
    "print(x1[-3])\n",
    "print(x1[-4])\n",
    "print(x1[-5])\n"
   ]
  },
  {
   "cell_type": "markdown",
   "id": "c8a877af-8e8a-42f6-8e32-49d322f35149",
   "metadata": {},
   "source": [
    "# slicing of list element\n"
   ]
  },
  {
   "cell_type": "code",
   "execution_count": 36,
   "id": "4ccf6ecb-13ec-4883-b8c0-08e1119c6d3b",
   "metadata": {},
   "outputs": [
    {
     "name": "stdout",
     "output_type": "stream",
     "text": [
      "['python', 3.147, 50, True, False]\n",
      "<class 'list'>\n"
     ]
    }
   ],
   "source": [
    "x1 = ['python',3.147,50,True,False]\n",
    "print(x1)\n",
    "print(type(x1))"
   ]
  },
  {
   "cell_type": "code",
   "execution_count": 38,
   "id": "91f08f85-791a-49dd-8f61-0f8ed61ad740",
   "metadata": {},
   "outputs": [
    {
     "data": {
      "text/plain": [
       "[3.147, 50]"
      ]
     },
     "execution_count": 38,
     "metadata": {},
     "output_type": "execute_result"
    }
   ],
   "source": [
    "x1[1:3]  # n-1 - 1,2"
   ]
  },
  {
   "cell_type": "code",
   "execution_count": 48,
   "id": "23607bfc-38eb-4a67-9874-412289d2805e",
   "metadata": {},
   "outputs": [
    {
     "data": {
      "text/plain": [
       "['python', False]"
      ]
     },
     "execution_count": 48,
     "metadata": {},
     "output_type": "execute_result"
    }
   ],
   "source": [
    "# striding value - Alternate\n",
    "x1[::4]"
   ]
  },
  {
   "cell_type": "code",
   "execution_count": 42,
   "id": "6c84669e-3244-44fc-8cb2-bd69a932cbae",
   "metadata": {},
   "outputs": [
    {
     "data": {
      "text/plain": [
       "['python', 3.147, 50, True, False]"
      ]
     },
     "execution_count": 42,
     "metadata": {},
     "output_type": "execute_result"
    }
   ],
   "source": [
    "x1"
   ]
  },
  {
   "cell_type": "code",
   "execution_count": 54,
   "id": "0ff7045c-245a-43d6-a35d-1604397d3b84",
   "metadata": {},
   "outputs": [],
   "source": [
    "x=['Py',[[[10,20],'Python']],[[0],[['Ashwini']],['Aditya']],[[[[[5],['Shankarshan']]],'Asma sayyed'],['Hawaldar']]]"
   ]
  },
  {
   "cell_type": "code",
   "execution_count": 58,
   "id": "9d42b56c-462b-400a-b0fe-aa45b9e280a7",
   "metadata": {},
   "outputs": [
    {
     "data": {
      "text/plain": [
       "'Aditya'"
      ]
     },
     "execution_count": 58,
     "metadata": {},
     "output_type": "execute_result"
    }
   ],
   "source": [
    "x[2][2][0]"
   ]
  },
  {
   "cell_type": "code",
   "execution_count": 60,
   "id": "4a6fa821-1c7c-495a-a8c9-fa17789a733c",
   "metadata": {},
   "outputs": [
    {
     "ename": "TypeError",
     "evalue": "'bool' object is not subscriptable",
     "output_type": "error",
     "traceback": [
      "\u001b[1;31m---------------------------------------------------------------------------\u001b[0m",
      "\u001b[1;31mTypeError\u001b[0m                                 Traceback (most recent call last)",
      "Cell \u001b[1;32mIn[60], line 1\u001b[0m\n\u001b[1;32m----> 1\u001b[0m \u001b[38;5;28mprint\u001b[39m(x1[\u001b[38;5;241m3\u001b[39m][\u001b[38;5;241m1\u001b[39m][\u001b[38;5;241m0\u001b[39m])\n",
      "\u001b[1;31mTypeError\u001b[0m: 'bool' object is not subscriptable"
     ]
    }
   ],
   "source": [
    "print(x1[3][1][0])"
   ]
  },
  {
   "cell_type": "code",
   "execution_count": 64,
   "id": "a35f283f-7794-40b1-9d8c-52b598c9c5d1",
   "metadata": {},
   "outputs": [
    {
     "name": "stdout",
     "output_type": "stream",
     "text": [
      "Shankarshan\n"
     ]
    }
   ],
   "source": [
    "print(x[3][0][0][0][1][0])"
   ]
  },
  {
   "cell_type": "code",
   "execution_count": 66,
   "id": "b3c2ce69-f245-48f1-801e-1f339015f71a",
   "metadata": {},
   "outputs": [
    {
     "ename": "IndexError",
     "evalue": "list index out of range",
     "output_type": "error",
     "traceback": [
      "\u001b[1;31m---------------------------------------------------------------------------\u001b[0m",
      "\u001b[1;31mIndexError\u001b[0m                                Traceback (most recent call last)",
      "Cell \u001b[1;32mIn[66], line 1\u001b[0m\n\u001b[1;32m----> 1\u001b[0m \u001b[38;5;28mprint\u001b[39m(x[\u001b[38;5;241m3\u001b[39m][\u001b[38;5;241m3\u001b[39m])\n",
      "\u001b[1;31mIndexError\u001b[0m: list index out of range"
     ]
    }
   ],
   "source": [
    "print(x[3][3])"
   ]
  },
  {
   "cell_type": "code",
   "execution_count": 68,
   "id": "4f036d7a-e4b1-4af0-870b-c8a799567d88",
   "metadata": {},
   "outputs": [],
   "source": [
    "x=['Py',[[[10,20],'Python']],[[0],[['Ashwini']],['Aditya']],[[[[[5],['Shankarshan']]],'Asma sayyed'],['Hawaldar']]]"
   ]
  },
  {
   "cell_type": "code",
   "execution_count": 86,
   "id": "44ee600d-6381-47e8-ae7b-ff00a0baaf8d",
   "metadata": {},
   "outputs": [
    {
     "data": {
      "text/plain": [
       "'Ashwini'"
      ]
     },
     "execution_count": 86,
     "metadata": {},
     "output_type": "execute_result"
    }
   ],
   "source": [
    "x[2][1][0][0]"
   ]
  },
  {
   "cell_type": "code",
   "execution_count": 106,
   "id": "fe6339af-4a88-4401-a9ad-142e31156028",
   "metadata": {},
   "outputs": [
    {
     "data": {
      "text/plain": [
       "'Shankarshan'"
      ]
     },
     "execution_count": 106,
     "metadata": {},
     "output_type": "execute_result"
    }
   ],
   "source": [
    "x[3][0][0][0][1][0]"
   ]
  },
  {
   "cell_type": "code",
   "execution_count": 120,
   "id": "6ead4c83-ae03-42e8-87e6-dba8b2650d9a",
   "metadata": {},
   "outputs": [
    {
     "data": {
      "text/plain": [
       "'Asma sayyed'"
      ]
     },
     "execution_count": 120,
     "metadata": {},
     "output_type": "execute_result"
    }
   ],
   "source": [
    "x[3][0][1]"
   ]
  },
  {
   "cell_type": "code",
   "execution_count": 156,
   "id": "ecd19112-b5f8-4d5d-ae70-cc7709bafd6b",
   "metadata": {},
   "outputs": [
    {
     "data": {
      "text/plain": [
       "['Python', True, False, 10, 20, 3.147]"
      ]
     },
     "execution_count": 156,
     "metadata": {},
     "output_type": "execute_result"
    }
   ],
   "source": [
    "# List is a mutable data type\n",
    "\n",
    "x = ['Python',True,False,10,20,3.147]\n",
    "x"
   ]
  },
  {
   "cell_type": "code",
   "execution_count": 132,
   "id": "4b338c7e-25b6-42a8-9a2e-ada3ef0aa454",
   "metadata": {},
   "outputs": [],
   "source": [
    "# change, delete, add\n",
    "\n",
    "x[0] = 'Hello world'"
   ]
  },
  {
   "cell_type": "code",
   "execution_count": 134,
   "id": "1a5a362d-c10f-43b0-b075-fb92e7862898",
   "metadata": {},
   "outputs": [
    {
     "data": {
      "text/plain": [
       "['Hello world', True, False, 10, 20, 3.147]"
      ]
     },
     "execution_count": 134,
     "metadata": {},
     "output_type": "execute_result"
    }
   ],
   "source": [
    "x"
   ]
  },
  {
   "cell_type": "code",
   "execution_count": 140,
   "id": "8b281e71-0d91-4c22-a997-f920e8f084c4",
   "metadata": {},
   "outputs": [],
   "source": [
    "# 100.23\n",
    "\n",
    "x[5] = 100.23"
   ]
  },
  {
   "cell_type": "code",
   "execution_count": 142,
   "id": "36ded21b-73fe-4d38-99f4-19816ce7cfec",
   "metadata": {},
   "outputs": [
    {
     "data": {
      "text/plain": [
       "['Hello world', True, False, 10, 20, 100.23]"
      ]
     },
     "execution_count": 142,
     "metadata": {},
     "output_type": "execute_result"
    }
   ],
   "source": [
    "x"
   ]
  },
  {
   "cell_type": "code",
   "execution_count": 144,
   "id": "62468dcb-f043-4175-aee0-4f3e18ce2177",
   "metadata": {},
   "outputs": [
    {
     "data": {
      "text/plain": [
       "['Hello world', True, False, 10, 20, 100.23]"
      ]
     },
     "execution_count": 144,
     "metadata": {},
     "output_type": "execute_result"
    }
   ],
   "source": [
    "# delete \n",
    "# del(), \n",
    "\n",
    "x"
   ]
  },
  {
   "cell_type": "code",
   "execution_count": 148,
   "id": "322db9ca-8235-4cb7-aa16-38886c7a9d77",
   "metadata": {},
   "outputs": [],
   "source": [
    "del(x[1])"
   ]
  },
  {
   "cell_type": "code",
   "execution_count": 150,
   "id": "e1ac3236-f169-411e-91e5-9e3e0f1f45e7",
   "metadata": {},
   "outputs": [
    {
     "data": {
      "text/plain": [
       "['Hello world', False, 10, 20, 100.23]"
      ]
     },
     "execution_count": 150,
     "metadata": {},
     "output_type": "execute_result"
    }
   ],
   "source": [
    "x"
   ]
  },
  {
   "cell_type": "code",
   "execution_count": 152,
   "id": "a6e4918f-92e0-4d9f-bbb4-aeec664d2e60",
   "metadata": {},
   "outputs": [],
   "source": [
    "del(x)"
   ]
  },
  {
   "cell_type": "code",
   "execution_count": 154,
   "id": "bc0c046f-45b3-4beb-be0c-165dccf9e117",
   "metadata": {},
   "outputs": [
    {
     "ename": "NameError",
     "evalue": "name 'x' is not defined",
     "output_type": "error",
     "traceback": [
      "\u001b[1;31m---------------------------------------------------------------------------\u001b[0m",
      "\u001b[1;31mNameError\u001b[0m                                 Traceback (most recent call last)",
      "Cell \u001b[1;32mIn[154], line 1\u001b[0m\n\u001b[1;32m----> 1\u001b[0m x\n",
      "\u001b[1;31mNameError\u001b[0m: name 'x' is not defined"
     ]
    }
   ],
   "source": [
    "x"
   ]
  },
  {
   "cell_type": "code",
   "execution_count": 158,
   "id": "6f90f226-b6a8-4da5-91dd-e7fb834c75aa",
   "metadata": {},
   "outputs": [
    {
     "data": {
      "text/plain": [
       "['Python', True, False, 10, 20, 3.147]"
      ]
     },
     "execution_count": 158,
     "metadata": {},
     "output_type": "execute_result"
    }
   ],
   "source": [
    "x"
   ]
  },
  {
   "cell_type": "code",
   "execution_count": 160,
   "id": "8ff3defd-ac0f-43b5-9d19-bbc5a25795cc",
   "metadata": {},
   "outputs": [
    {
     "data": {
      "text/plain": [
       "['Python', True, False, 10, 20, 3.147]"
      ]
     },
     "execution_count": 160,
     "metadata": {},
     "output_type": "execute_result"
    }
   ],
   "source": [
    "# adding element inside the list.\n",
    "\n",
    "x"
   ]
  },
  {
   "cell_type": "code",
   "execution_count": 162,
   "id": "967d0c3c-8e22-4a4f-b1bf-e9f1b02dc966",
   "metadata": {},
   "outputs": [
    {
     "name": "stdout",
     "output_type": "stream",
     "text": [
      "['Python', True, False, 10, 20, 3.147, 'Shankarshan']\n"
     ]
    }
   ],
   "source": [
    "# shankarshan  : - [] - [] - [lifo] - pop()\n",
    "# adding [append,extend, insert]\n",
    "x.append('Shankarshan') # append takes exactly one argument at a time.\n",
    "print(x)"
   ]
  },
  {
   "cell_type": "code",
   "execution_count": 164,
   "id": "35d8f5f6-5a24-4de3-8c31-97cad4266bf1",
   "metadata": {},
   "outputs": [
    {
     "data": {
      "text/plain": [
       "'Shankarshan'"
      ]
     },
     "execution_count": 164,
     "metadata": {},
     "output_type": "execute_result"
    }
   ],
   "source": [
    "x.pop() # pop remove one element at a time."
   ]
  },
  {
   "cell_type": "code",
   "execution_count": 166,
   "id": "9135334e-e0b5-4399-87f1-7133d11cb5ca",
   "metadata": {},
   "outputs": [
    {
     "data": {
      "text/plain": [
       "['Python', True, False, 10, 20, 3.147]"
      ]
     },
     "execution_count": 166,
     "metadata": {},
     "output_type": "execute_result"
    }
   ],
   "source": [
    "x"
   ]
  },
  {
   "cell_type": "code",
   "execution_count": 168,
   "id": "ee829de2-32b1-470f-80ca-ecdd0000684c",
   "metadata": {},
   "outputs": [
    {
     "ename": "TypeError",
     "evalue": "list.append() takes exactly one argument (2 given)",
     "output_type": "error",
     "traceback": [
      "\u001b[1;31m---------------------------------------------------------------------------\u001b[0m",
      "\u001b[1;31mTypeError\u001b[0m                                 Traceback (most recent call last)",
      "Cell \u001b[1;32mIn[168], line 1\u001b[0m\n\u001b[1;32m----> 1\u001b[0m x\u001b[38;5;241m.\u001b[39mappend(\u001b[38;5;124m'\u001b[39m\u001b[38;5;124mapple\u001b[39m\u001b[38;5;124m'\u001b[39m,\u001b[38;5;124m\"\u001b[39m\u001b[38;5;124mcarrot\u001b[39m\u001b[38;5;124m\"\u001b[39m)\n",
      "\u001b[1;31mTypeError\u001b[0m: list.append() takes exactly one argument (2 given)"
     ]
    }
   ],
   "source": [
    "x.append('apple',\"carrot\")"
   ]
  },
  {
   "cell_type": "code",
   "execution_count": 170,
   "id": "e2028209-c0ef-4e3e-8d3a-8a05cfdad70d",
   "metadata": {},
   "outputs": [],
   "source": [
    "x.append('apple')"
   ]
  },
  {
   "cell_type": "code",
   "execution_count": 172,
   "id": "6e51c098-7e33-44d7-98c6-e463e2f429f5",
   "metadata": {},
   "outputs": [
    {
     "data": {
      "text/plain": [
       "['Python', True, False, 10, 20, 3.147, 'apple']"
      ]
     },
     "execution_count": 172,
     "metadata": {},
     "output_type": "execute_result"
    }
   ],
   "source": [
    "x"
   ]
  },
  {
   "cell_type": "code",
   "execution_count": 176,
   "id": "dbaad0b2-9047-4ec4-8025-8e9eaf23d9b2",
   "metadata": {},
   "outputs": [
    {
     "name": "stdout",
     "output_type": "stream",
     "text": [
      "['Python', True, False, 10, 20, 3.147, 'apple', 'strawberry', 'papaya', 'grapes']\n"
     ]
    }
   ],
   "source": [
    "# Extend: You can add multiple elements at a time.\n",
    "\n",
    "x.extend(['strawberry',\"papaya\",\"grapes\"])\n",
    "print(x)"
   ]
  },
  {
   "cell_type": "code",
   "execution_count": 178,
   "id": "3c323404-7483-40f0-bee7-262ee3842637",
   "metadata": {},
   "outputs": [
    {
     "name": "stdout",
     "output_type": "stream",
     "text": [
      "['Python', True, False, 10, 20, 3.147, 'apple', 'strawberry', 'papaya', 'grapes', ['strawberry', 'papaya', 'grapes']]\n"
     ]
    }
   ],
   "source": [
    "x.append(['strawberry',\"papaya\",\"grapes\"])\n",
    "print(x)"
   ]
  },
  {
   "cell_type": "code",
   "execution_count": 182,
   "id": "fafc06b4-5de2-4a69-9bdb-8da675bbcf80",
   "metadata": {},
   "outputs": [
    {
     "data": {
      "text/plain": [
       "['strawberry', 'papaya', 'grapes']"
      ]
     },
     "execution_count": 182,
     "metadata": {},
     "output_type": "execute_result"
    }
   ],
   "source": [
    "# insert: insert takes two argument first one is position of element and second is the value.\n",
    "\n",
    "x.pop()"
   ]
  },
  {
   "cell_type": "code",
   "execution_count": 186,
   "id": "5f1f0e6b-547a-418c-904a-f0dccff8a4f3",
   "metadata": {},
   "outputs": [
    {
     "name": "stdout",
     "output_type": "stream",
     "text": [
      "['Python', True, False, 10, 20, 3.147, 'apple', 'strawberry', 'papaya', 'grapes']\n"
     ]
    }
   ],
   "source": [
    "print(x)"
   ]
  },
  {
   "cell_type": "code",
   "execution_count": 190,
   "id": "783c5652-92e8-4693-abd5-33542762e75b",
   "metadata": {},
   "outputs": [
    {
     "name": "stdout",
     "output_type": "stream",
     "text": [
      "['Aditya', 'Aditya', 'Python', True, False, 10, 20, 3.147, 'apple', 'strawberry', 'papaya', 'grapes']\n"
     ]
    }
   ],
   "source": [
    "x.insert(0,\"Aditya\")\n",
    "print(x)"
   ]
  },
  {
   "cell_type": "code",
   "execution_count": 192,
   "id": "88ea7bd4-03c1-4025-b152-2e9dd199536d",
   "metadata": {},
   "outputs": [],
   "source": [
    "del(x[0])"
   ]
  },
  {
   "cell_type": "code",
   "execution_count": 194,
   "id": "65111c57-194e-43b8-b42e-394353919fe2",
   "metadata": {},
   "outputs": [
    {
     "data": {
      "text/plain": [
       "['Aditya',\n",
       " 'Python',\n",
       " True,\n",
       " False,\n",
       " 10,\n",
       " 20,\n",
       " 3.147,\n",
       " 'apple',\n",
       " 'strawberry',\n",
       " 'papaya',\n",
       " 'grapes']"
      ]
     },
     "execution_count": 194,
     "metadata": {},
     "output_type": "execute_result"
    }
   ],
   "source": [
    "x"
   ]
  },
  {
   "cell_type": "code",
   "execution_count": 196,
   "id": "d5468547-32e5-4154-bc99-dd1ae9a0c5db",
   "metadata": {},
   "outputs": [
    {
     "name": "stdout",
     "output_type": "stream",
     "text": [
      "['Aditya', 'Python', True, False, 10, 20, 3.147, 'apple', 'strawberry', 'papaya', 'grapes']\n"
     ]
    }
   ],
   "source": [
    "print(x)"
   ]
  },
  {
   "cell_type": "code",
   "execution_count": 198,
   "id": "360927af-c33d-433a-9b96-c7a381290e13",
   "metadata": {},
   "outputs": [
    {
     "name": "stdout",
     "output_type": "stream",
     "text": [
      "['Asma', 'Python', True, False, 10, 20, 3.147, 'apple', 'strawberry', 'papaya', 'grapes']\n"
     ]
    }
   ],
   "source": [
    "x[0] = \"Asma\"\n",
    "print(x)"
   ]
  },
  {
   "cell_type": "code",
   "execution_count": 200,
   "id": "3f66382a-acb0-44ab-b282-ea5eaf830209",
   "metadata": {},
   "outputs": [
    {
     "data": {
      "text/plain": [
       "'Python is a programming language'"
      ]
     },
     "execution_count": 200,
     "metadata": {},
     "output_type": "execute_result"
    }
   ],
   "source": [
    "# conversion of string into a slit using split() function\n",
    "\n",
    "# predefined-Build-in()\n",
    "\n",
    "x = 'Python is a programming language'\n",
    "x"
   ]
  },
  {
   "cell_type": "code",
   "execution_count": 202,
   "id": "85d53c09-96da-4664-a4da-55cf2df63ccd",
   "metadata": {},
   "outputs": [
    {
     "data": {
      "text/plain": [
       "['Python', 'is', 'a', 'programming', 'language']"
      ]
     },
     "execution_count": 202,
     "metadata": {},
     "output_type": "execute_result"
    }
   ],
   "source": [
    "x.split()"
   ]
  },
  {
   "cell_type": "code",
   "execution_count": 210,
   "id": "6466ffc8-c9d5-431e-a328-0870e77ef92e",
   "metadata": {},
   "outputs": [
    {
     "name": "stdout",
     "output_type": "stream",
     "text": [
      "A,s,m,a\n"
     ]
    },
    {
     "data": {
      "text/plain": [
       "['A', 's', 'm', 'a']"
      ]
     },
     "execution_count": 210,
     "metadata": {},
     "output_type": "execute_result"
    }
   ],
   "source": [
    "text = \"A,s,m,a\"\n",
    "print(text)\n",
    "\n",
    "text.split(\",\")"
   ]
  },
  {
   "cell_type": "code",
   "execution_count": null,
   "id": "25168079-8f36-4a61-be02-2a210181be20",
   "metadata": {},
   "outputs": [],
   "source": [
    "# Baisc operations"
   ]
  }
 ],
 "metadata": {
  "kernelspec": {
   "display_name": "Python 3 (ipykernel)",
   "language": "python",
   "name": "python3"
  },
  "language_info": {
   "codemirror_mode": {
    "name": "ipython",
    "version": 3
   },
   "file_extension": ".py",
   "mimetype": "text/x-python",
   "name": "python",
   "nbconvert_exporter": "python",
   "pygments_lexer": "ipython3",
   "version": "3.12.4"
  }
 },
 "nbformat": 4,
 "nbformat_minor": 5
}
