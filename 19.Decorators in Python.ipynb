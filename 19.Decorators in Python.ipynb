{
 "cells": [
  {
   "cell_type": "markdown",
   "id": "30ed57af-854d-417e-8a29-db377348aeb3",
   "metadata": {},
   "source": [
    "# 19. Decorators in Python\n",
    "\n",
    " * __Decorator provides a simple syntax for calling higher-order functions.__\n",
    " * __By defintion, a decorator is a fucntion that takes other functions and extends their behaviours without smodification them.__\n",
    " * __Decorator can be extremely useful as they allow the extension of an existing functions, without any modification to the original function source code.__\n",
    " * __In fact, there are two types of decorator in Python: a). Class decorator and b). Function decorator__\n",
    " * __In application, decorator are mainly used in creating a middle layer in the backend, which perform tasks like token authentication, image compression, validatian, and manymore.__"
   ]
  },
  {
   "cell_type": "code",
   "execution_count": 1,
   "id": "9ac50642-25f6-413f-84ff-d64b400765cd",
   "metadata": {},
   "outputs": [
    {
     "data": {
      "text/plain": [
       "15"
      ]
     },
     "execution_count": 1,
     "metadata": {},
     "output_type": "execute_result"
    }
   ],
   "source": [
    "def viewHome(a,b):\n",
    "    sum1 = a+b\n",
    "    return sum1\n",
    "\n",
    "viewHome(5,10)"
   ]
  },
  {
   "cell_type": "code",
   "execution_count": null,
   "id": "3821d885-28de-4a77-a3af-32e7016bca52",
   "metadata": {},
   "outputs": [],
   "source": [
    "# face scanner: \n",
    "# face lock \n",
    "\n",
    "#  : read: source file: object file [binary value]\n",
    "# : fingerprint: sourcefile: object file [binary value]\n",
    "\n",
    "# Retina: different\n",
    "# fingerprint: \n",
    "\n",
    "# blackberry \n"
   ]
  },
  {
   "cell_type": "code",
   "execution_count": 2,
   "id": "5edb2bea-6560-492b-bd5b-a61e6dbf4e1a",
   "metadata": {},
   "outputs": [],
   "source": [
    "import decorator"
   ]
  },
  {
   "cell_type": "code",
   "execution_count": 4,
   "id": "df70aa00-7914-4679-87ed-4852ae87e261",
   "metadata": {},
   "outputs": [],
   "source": [
    "# help(decorator)"
   ]
  },
  {
   "cell_type": "code",
   "execution_count": 5,
   "id": "6c2c7874-54ac-48a0-bdd4-b100d49d8545",
   "metadata": {},
   "outputs": [
    {
     "data": {
      "text/plain": [
       "'Hello world'"
      ]
     },
     "execution_count": 5,
     "metadata": {},
     "output_type": "execute_result"
    }
   ],
   "source": [
    "def myText(text):\n",
    "    return text\n",
    "\n",
    "myText('Hello world')"
   ]
  },
  {
   "cell_type": "code",
   "execution_count": 6,
   "id": "cb7c0016-6dfe-4083-92fd-050a9846ba47",
   "metadata": {},
   "outputs": [
    {
     "name": "stdin",
     "output_type": "stream",
     "text": [
      "enter your name here:  hello world\n"
     ]
    },
    {
     "data": {
      "text/plain": [
       "'hello world'"
      ]
     },
     "execution_count": 6,
     "metadata": {},
     "output_type": "execute_result"
    }
   ],
   "source": [
    "def text2():\n",
    "    name = input(\"enter your name here: \")\n",
    "    return name\n",
    "\n",
    "text2()"
   ]
  },
  {
   "cell_type": "code",
   "execution_count": 7,
   "id": "b6ed50f7-8ff2-403a-8479-88e7a8673151",
   "metadata": {},
   "outputs": [
    {
     "data": {
      "text/plain": [
       "4"
      ]
     },
     "execution_count": 7,
     "metadata": {},
     "output_type": "execute_result"
    }
   ],
   "source": [
    "# find sqr of the value \n",
    "\n",
    "def sqrValue(x):\n",
    "    sqr = x**2\n",
    "    return sqr\n",
    "\n",
    "sqrValue(2)"
   ]
  },
  {
   "cell_type": "code",
   "execution_count": 17,
   "id": "ad5c83f8-bd3e-495e-bed7-e3d46025cedb",
   "metadata": {},
   "outputs": [
    {
     "name": "stdin",
     "output_type": "stream",
     "text": [
      "Enter second number for multiplication:  20\n"
     ]
    },
    {
     "data": {
      "text/plain": [
       "20"
      ]
     },
     "execution_count": 17,
     "metadata": {},
     "output_type": "execute_result"
    }
   ],
   "source": [
    "def multi(x):   # x=20\n",
    "    y = int(input(\"Enter second number for multiplication: \"))\n",
    "    return x*y\n",
    "multi(1)"
   ]
  },
  {
   "cell_type": "code",
   "execution_count": 9,
   "id": "a8b81733-afcb-4b15-9ae4-d37bf2948435",
   "metadata": {},
   "outputs": [
    {
     "data": {
      "text/plain": [
       "6.355258976803305"
      ]
     },
     "execution_count": 9,
     "metadata": {},
     "output_type": "execute_result"
    }
   ],
   "source": [
    "def divide(y):  # divide(3)\n",
    "    return y/3.147\n",
    "\n",
    "divide(20)"
   ]
  },
  {
   "cell_type": "code",
   "execution_count": 18,
   "id": "6fd88fbf-03c0-448a-854d-7ebbbc5a4731",
   "metadata": {},
   "outputs": [
    {
     "name": "stdin",
     "output_type": "stream",
     "text": [
      "Enter second number for multiplication:  3\n"
     ]
    },
    {
     "data": {
      "text/plain": [
       "90"
      ]
     },
     "execution_count": 18,
     "metadata": {},
     "output_type": "execute_result"
    }
   ],
   "source": [
    "def operator(func,x1):  # function, x1=value\n",
    "    num = func(x1)  # multi(20) \n",
    "    x2 = num + 30\n",
    "    return x2\n",
    "\n",
    "operator(multi,20)"
   ]
  },
  {
   "cell_type": "code",
   "execution_count": 19,
   "id": "7c330a56-4960-4551-8fe3-0425768f6d80",
   "metadata": {},
   "outputs": [
    {
     "data": {
      "text/plain": [
       "0.9532888465204957"
      ]
     },
     "execution_count": 19,
     "metadata": {},
     "output_type": "execute_result"
    }
   ],
   "source": [
    "def operator2(function, y1):  # divide, 3\n",
    "    result = function(y1)  # divide(3)\n",
    "    return result\n",
    "\n",
    "operator2(divide,3)"
   ]
  },
  {
   "cell_type": "code",
   "execution_count": 24,
   "id": "c4135e92-c32b-4c4e-b7f1-e2e11ae157a0",
   "metadata": {},
   "outputs": [
    {
     "name": "stdin",
     "output_type": "stream",
     "text": [
      "enter first number:  1\n",
      "enter second number:  2\n"
     ]
    },
    {
     "data": {
      "text/plain": [
       "1.5"
      ]
     },
     "execution_count": 24,
     "metadata": {},
     "output_type": "execute_result"
    }
   ],
   "source": [
    "def addition():\n",
    "    num1 = int(input(\"enter first number: \"))\n",
    "    num2 = int(input(\"enter second number: \"))\n",
    "    sum1 = num1+num2\n",
    "    return sum1\n",
    "\n",
    "\n",
    "\n",
    "def calledFunction(func):\n",
    "    res = func()  # addition()\n",
    "    div  = res/2\n",
    "    return div\n",
    "calledFunction(addition)"
   ]
  },
  {
   "cell_type": "code",
   "execution_count": 29,
   "id": "f49bbb7d-ab7b-4a22-ad64-f9f8d5b3d968",
   "metadata": {},
   "outputs": [
    {
     "data": {
      "text/plain": [
       "'aditya'"
      ]
     },
     "execution_count": 29,
     "metadata": {},
     "output_type": "execute_result"
    }
   ],
   "source": [
    "def decoratedText(val):\n",
    "    print(val)  # text1\n",
    "    def text():\n",
    "        function = val()  #  text1()\n",
    "        textUpper = function.upper()  # text1().upper()\n",
    "        return f\"You text is in upper case: {textUpper}\"\n",
    "    return text\n",
    "\n",
    "\n",
    "\n",
    "def text1():\n",
    "    name = \"aditya\"\n",
    "    return name\n",
    "text1()"
   ]
  },
  {
   "cell_type": "code",
   "execution_count": 35,
   "id": "61cbfc69-afd2-45ed-8f88-461476029e7b",
   "metadata": {},
   "outputs": [
    {
     "name": "stdout",
     "output_type": "stream",
     "text": [
      "<function text1 at 0x0000014420B57F60>\n"
     ]
    },
    {
     "name": "stdin",
     "output_type": "stream",
     "text": [
      "enter any value:  Python, a high-level, interpreted programming language, was created by Guido van Rossum in the late 1980s at the National Research Institute for Mathematics and Computer Science (CWI) in the Netherlands. Van Rossum began working on Python as a \"hobby project\" during the Christmas holidays of 1989, seeking to develop a language that combined the accessibility of ABC with greater power and adaptability. He named it after the British comedy television show \"Monty Python's Flying\n"
     ]
    },
    {
     "data": {
      "text/plain": [
       "'You text is in upper case: PYTHON, A HIGH-LEVEL, INTERPRETED PROGRAMMING LANGUAGE, WAS CREATED BY GUIDO VAN ROSSUM IN THE LATE 1980S AT THE NATIONAL RESEARCH INSTITUTE FOR MATHEMATICS AND COMPUTER SCIENCE (CWI) IN THE NETHERLANDS. VAN ROSSUM BEGAN WORKING ON PYTHON AS A \"HOBBY PROJECT\" DURING THE CHRISTMAS HOLIDAYS OF 1989, SEEKING TO DEVELOP A LANGUAGE THAT COMBINED THE ACCESSIBILITY OF ABC WITH GREATER POWER AND ADAPTABILITY. HE NAMED IT AFTER THE BRITISH COMEDY TELEVISION SHOW \"MONTY PYTHON\\'S FLYING'"
      ]
     },
     "execution_count": 35,
     "metadata": {},
     "output_type": "execute_result"
    }
   ],
   "source": [
    "@decoratedText  # decorator\n",
    "def text1():\n",
    "    name = input(\"enter any value: \")\n",
    "    return name\n",
    "text1()"
   ]
  },
  {
   "cell_type": "code",
   "execution_count": 40,
   "id": "30a76db6-eda2-44ff-964b-6730fb07ce7c",
   "metadata": {},
   "outputs": [],
   "source": [
    "def logger(func):\n",
    "    def wrapper(*args, **kwargs):\n",
    "        print(\"Function Started\")\n",
    "        result = func(*args, **kwargs)\n",
    "        print(\"Function Ended\")\n",
    "        return result\n",
    "    return wrapper"
   ]
  },
  {
   "cell_type": "code",
   "execution_count": 43,
   "id": "922269ac-5c50-43f5-a757-719089f59541",
   "metadata": {},
   "outputs": [
    {
     "name": "stdout",
     "output_type": "stream",
     "text": [
      "Function Started\n"
     ]
    },
    {
     "name": "stdin",
     "output_type": "stream",
     "text": [
      "Enter your name:  asma\n"
     ]
    },
    {
     "name": "stdout",
     "output_type": "stream",
     "text": [
      "Function Ended\n"
     ]
    },
    {
     "data": {
      "text/plain": [
       "'Hello asma'"
      ]
     },
     "execution_count": 43,
     "metadata": {},
     "output_type": "execute_result"
    }
   ],
   "source": [
    "@logger\n",
    "def greet():\n",
    "    name = input(\"Enter your name: \")\n",
    "    result1 = f\"Hello {name}\"\n",
    "    return result1\n",
    "\n",
    "greet()"
   ]
  },
  {
   "cell_type": "code",
   "execution_count": 45,
   "id": "84c7a8ce-e7d8-4bd3-a948-574c00e21070",
   "metadata": {},
   "outputs": [],
   "source": [
    "import time\n",
    "\n",
    "def logger(func):\n",
    "    def wrapper(*args, **kwargs):\n",
    "        start = time.time()\n",
    "        print(\"Function Started\")\n",
    "        result = func(*args, **kwargs)\n",
    "        end = time.time()\n",
    "        print(f\"Execution time: {end-start: 4f} seconds\")\n",
    "        print(\"Function Ended\")\n",
    "        return result\n",
    "    return wrapper"
   ]
  },
  {
   "cell_type": "code",
   "execution_count": 50,
   "id": "3f1c6058-2f64-426b-85e9-52e75512f6b5",
   "metadata": {},
   "outputs": [
    {
     "name": "stdout",
     "output_type": "stream",
     "text": [
      "Function Started\n"
     ]
    },
    {
     "name": "stdin",
     "output_type": "stream",
     "text": [
      "Enter your name:  asma\n"
     ]
    },
    {
     "name": "stdout",
     "output_type": "stream",
     "text": [
      "Execution time:  7.401799 seconds\n",
      "Function Ended\n"
     ]
    },
    {
     "data": {
      "text/plain": [
       "'Hello asma'"
      ]
     },
     "execution_count": 50,
     "metadata": {},
     "output_type": "execute_result"
    }
   ],
   "source": [
    "@logger\n",
    "def greet():\n",
    "    name = input(\"Enter your name: \")\n",
    "    result1 = f\"Hello {name}\"\n",
    "    time.sleep(5)\n",
    "    return result1\n",
    "greet()"
   ]
  },
  {
   "cell_type": "code",
   "execution_count": 60,
   "id": "b0dff37b-aad9-453b-9ce5-dc51fe442ca9",
   "metadata": {},
   "outputs": [
    {
     "data": {
      "text/plain": [
       "11757"
      ]
     },
     "execution_count": 60,
     "metadata": {},
     "output_type": "execute_result"
    }
   ],
   "source": [
    "def sum1(*args):\n",
    "    # x = int(input(\"Enter any value: \"))\n",
    "    sum1 = sum(args)\n",
    "    return sum1\n",
    "sum1(10,20,30,501,50,50,50,5401,1501,4144)"
   ]
  },
  {
   "cell_type": "code",
   "execution_count": 59,
   "id": "b34e0c22-39cf-4eee-9879-e47694def6d4",
   "metadata": {},
   "outputs": [
    {
     "name": "stdin",
     "output_type": "stream",
     "text": [
      "Enter any value:  30\n"
     ]
    },
    {
     "data": {
      "text/plain": [
       "60"
      ]
     },
     "execution_count": 59,
     "metadata": {},
     "output_type": "execute_result"
    }
   ],
   "source": [
    "def sum1(a,b):\n",
    "    x = int(input(\"Enter any value: \"))\n",
    "    sum1 = x+a+b\n",
    "    return sum1\n",
    "sum1(10,20)"
   ]
  },
  {
   "cell_type": "code",
   "execution_count": null,
   "id": "18dd6fe4-bfbe-48a5-9e89-eae93e04df18",
   "metadata": {},
   "outputs": [],
   "source": [
    "# Generator\n",
    "# Json\n",
    "# API : calling api"
   ]
  }
 ],
 "metadata": {
  "kernelspec": {
   "display_name": "Python 3 (ipykernel)",
   "language": "python",
   "name": "python3"
  },
  "language_info": {
   "codemirror_mode": {
    "name": "ipython",
    "version": 3
   },
   "file_extension": ".py",
   "mimetype": "text/x-python",
   "name": "python",
   "nbconvert_exporter": "python",
   "pygments_lexer": "ipython3",
   "version": "3.13.7"
  }
 },
 "nbformat": 4,
 "nbformat_minor": 5
}
