{
 "cells": [
  {
   "cell_type": "code",
   "execution_count": null,
   "id": "f0ba6937",
   "metadata": {},
   "outputs": [],
   "source": [
    "# Name : Aditya Pimpale\n",
    "# Assignment 1 \n",
    "\n",
    "# 1. write a program to display the following pattern using while nested loops:-\n",
    "\n",
    "# 1\n",
    "# 12\n",
    "# 123\n",
    "# 1234\n",
    "\n",
    "\n",
    "# 2. Write a function that takes a list of integer and returns a new list with only the even numbers.\n",
    "\n",
    "\n",
    "# 3. Write a recursive function to calculate the factorial of a number.\n",
    "\n",
    "# 4. Create a class bok with attributes title, author, and pages. Add a method to disply book details.\n",
    "\n",
    "# 5. Create a class Calculator with method for add, subtract, multiply and divide.\n",
    "\n",
    "# 6. Create a class Student that stores name and grades, Add a method to calculate average marks.\n",
    "\n",
    "# 7. Copy content from one file to another using Python.\n",
    "\n",
    "# 8.Convert a Python dictionary into a JSON string and save it in a .json file.\n",
    "\n",
    "# 9. Read a JSON file containing employee data and print each employee's name.\n",
    "\n",
    "# 10. Modify a key's value in a JSON file and save the updated content.\n",
    "\n",
    "# 11. Create a function that accepts a list of number and return the second largest numgber.\n",
    "\n",
    "# 12. Write a funciton that takes a sentence and retuns the number of words in it.\n",
    "\n",
    "# 13. Create a function that retuns a list of all unique characters from a string.\n",
    "\n",
    "# 14. Define a class Shopping Card that allows adding/removing items and calculating total.\n",
    "\n",
    "# 15. Create a python object with nested dictinaries and convert to JSON format."
   ]
  },
  {
   "cell_type": "code",
   "execution_count": 9,
   "id": "3b2a6991",
   "metadata": {},
   "outputs": [
    {
     "name": "stdout",
     "output_type": "stream",
     "text": [
      "1\n",
      "12\n",
      "123\n",
      "1234\n"
     ]
    }
   ],
   "source": [
    "# 1. write a program to display the following pattern using while nested loops:-\n",
    "\n",
    "# 1\n",
    "# 12\n",
    "# 123\n",
    "# 1234\n",
    "\n",
    "n = 5 \n",
    "i = 1\n",
    "while i < n:\n",
    "    j = 1\n",
    "    while j <= i:\n",
    "        print(j,end='')\n",
    "        j = j + 1    \n",
    "    i = i + 1\n",
    "    print()"
   ]
  },
  {
   "cell_type": "code",
   "execution_count": null,
   "id": "19a51ad3",
   "metadata": {},
   "outputs": [],
   "source": [
    "# 2. Write a function that takes a list of integer and returns a new list with only the even numbers."
   ]
  },
  {
   "cell_type": "code",
   "execution_count": 2,
   "id": "c18c9eb7",
   "metadata": {},
   "outputs": [
    {
     "data": {
      "text/plain": [
       "'even numbers list : [2, 4, 6, 8, 10]'"
      ]
     },
     "execution_count": 2,
     "metadata": {},
     "output_type": "execute_result"
    }
   ],
   "source": [
    "def evenNums(nums):\n",
    "    evennums = []\n",
    "    for i in nums:\n",
    "        if i % 2 == 0:\n",
    "            evennums.append(i)\n",
    "    return f\"even numbers list : {evennums}\"\n",
    "\n",
    "evenNums([1,2,3,4,5,6,7,8,9,10])"
   ]
  },
  {
   "cell_type": "code",
   "execution_count": 3,
   "id": "553cb62b",
   "metadata": {},
   "outputs": [],
   "source": [
    "# 3. Write a recursive function to calculate the factorial of a number."
   ]
  },
  {
   "cell_type": "code",
   "execution_count": 6,
   "id": "1844e463",
   "metadata": {},
   "outputs": [
    {
     "name": "stdout",
     "output_type": "stream",
     "text": [
      "the factorial of 5 is : 120\n"
     ]
    }
   ],
   "source": [
    "def factorial(n):\n",
    "    if n == 1:\n",
    "        return 1\n",
    "    else:\n",
    "        return (n * factorial(n-1))\n",
    "num = int(input())   \n",
    "print(f\"the factorial of {num} is : {factorial(num)}\")\n"
   ]
  },
  {
   "cell_type": "code",
   "execution_count": null,
   "id": "f746a023",
   "metadata": {},
   "outputs": [],
   "source": [
    "# 4. Create a class book with attributes title, author, and pages. Add a method to disply book details."
   ]
  },
  {
   "cell_type": "code",
   "execution_count": 5,
   "id": "40a5dcb8",
   "metadata": {},
   "outputs": [
    {
     "name": "stdout",
     "output_type": "stream",
     "text": [
      "Enter the title of the book:  python\n"
     ]
    },
    {
     "name": "stdout",
     "output_type": "stream",
     "text": [
      "Title entered succesfully\n"
     ]
    },
    {
     "name": "stdout",
     "output_type": "stream",
     "text": [
      "Enter the author name:  aditya\n"
     ]
    },
    {
     "name": "stdout",
     "output_type": "stream",
     "text": [
      "Author name entered succesfully\n"
     ]
    },
    {
     "name": "stdout",
     "output_type": "stream",
     "text": [
      "Enter the count of pages:  120\n"
     ]
    },
    {
     "name": "stdout",
     "output_type": "stream",
     "text": [
      "Count of pages entered succesfully\n",
      "\n",
      "        \n",
      "1. Book Details\n",
      "        \n",
      "2. Exit\n",
      "        \n"
     ]
    },
    {
     "name": "stdout",
     "output_type": "stream",
     "text": [
      "Choose an Option:  1\n"
     ]
    },
    {
     "name": "stdout",
     "output_type": "stream",
     "text": [
      "Name of the book is:python\n",
      "Author of the book is:aditya\n",
      "No of pages in the book is :120\n"
     ]
    },
    {
     "name": "stdout",
     "output_type": "stream",
     "text": [
      "Choose an Option:  2\n"
     ]
    },
    {
     "name": "stdout",
     "output_type": "stream",
     "text": [
      "\n",
      "Thank You\n"
     ]
    }
   ],
   "source": [
    "class book:\n",
    "    def __init__(self):\n",
    "        while True:\n",
    "            self.title = input(\"Enter the title of the book: \")\n",
    "            if 5 < len(self.title) <= 40:\n",
    "                print(\"Title entered succesfully\")\n",
    "                break\n",
    "            else:\n",
    "                print(\"The length of the title is too big or too small, make it below 40 characters or above 5 characters\")\n",
    "        while True:\n",
    "            self.author = input(\"Enter the author name: \")\n",
    "            if 5 < len(self.author) <= 25:\n",
    "                print(\"Author name entered succesfully\")\n",
    "                break\n",
    "            else:\n",
    "                print(\"The length of the author is too big or too small, make it below 25 characters or above 5 characters\") \n",
    "        while True:\n",
    "            self.pages = int(input(\"Enter the count of pages: \"))\n",
    "            \n",
    "            if self.pages > 5:\n",
    "                print(\"Count of pages entered succesfully\")\n",
    "                break\n",
    "            else:\n",
    "                print(\"The count of the book pages is  too small, book should be a least have 5 pages\") \n",
    "    \n",
    "    def book_details(self):\n",
    "        print(f\"Name of the book is:{self.title}\")\n",
    "        print(f\"Author of the book is:{self.author}\")\n",
    "        print(f\"No of pages in the book is :{self.pages}\")\n",
    "    \n",
    "    def book_portal(self):\n",
    "        print(\"\"\"\n",
    "        \\n1. Book Details\n",
    "        \\n2. Exit\n",
    "        \"\"\")\n",
    "        while True:\n",
    "            try:\n",
    "                opt = int(input(\"Choose an Option: \"))\n",
    "            except:\n",
    "                print(\"Error: Choose Correct Option\")\n",
    "            else:\n",
    "                if opt == 1:\n",
    "                    self.book_details()\n",
    "                elif opt == 2:\n",
    "                    print(\"\\nThank You\")\n",
    "                    break\n",
    "\n",
    "b1 = book()\n",
    "b1.book_portal()"
   ]
  },
  {
   "cell_type": "code",
   "execution_count": 6,
   "id": "020ccd34-797d-4c54-9a82-eee5421227b7",
   "metadata": {},
   "outputs": [],
   "source": [
    "# 5. Create a class Calculator with method for add, subtract, multiply and divide."
   ]
  },
  {
   "cell_type": "code",
   "execution_count": 17,
   "id": "78652682-ebc3-4467-8366-63678b7b19d2",
   "metadata": {},
   "outputs": [
    {
     "name": "stdout",
     "output_type": "stream",
     "text": [
      "Enter 1st number: 12\n"
     ]
    },
    {
     "name": "stdout",
     "output_type": "stream",
     "text": [
      "number 1st  entered successfully\n"
     ]
    },
    {
     "name": "stdout",
     "output_type": "stream",
     "text": [
      "Enter 1st number: 3\n"
     ]
    },
    {
     "name": "stdout",
     "output_type": "stream",
     "text": [
      "number 2nd entered successfully\n",
      "\n",
      "        \n",
      "1. Add\n",
      "        \n",
      "2. Subtract\n",
      "        \n",
      "3. Mulitplication\n",
      "        \n",
      "4. Division\n",
      "        \n",
      "5. Exit\n",
      "        \n"
     ]
    },
    {
     "name": "stdout",
     "output_type": "stream",
     "text": [
      "Choose an Option:  1\n"
     ]
    },
    {
     "name": "stdout",
     "output_type": "stream",
     "text": [
      "Addtion is: 15\n"
     ]
    },
    {
     "name": "stdout",
     "output_type": "stream",
     "text": [
      "Choose an Option:  2\n"
     ]
    },
    {
     "name": "stdout",
     "output_type": "stream",
     "text": [
      "Subtraction is : 9\n"
     ]
    },
    {
     "name": "stdout",
     "output_type": "stream",
     "text": [
      "Choose an Option:  3\n"
     ]
    },
    {
     "name": "stdout",
     "output_type": "stream",
     "text": [
      "Multiplication is : 36\n"
     ]
    },
    {
     "name": "stdout",
     "output_type": "stream",
     "text": [
      "Choose an Option:  4\n"
     ]
    },
    {
     "name": "stdout",
     "output_type": "stream",
     "text": [
      "Division is: 4.0\n"
     ]
    },
    {
     "name": "stdout",
     "output_type": "stream",
     "text": [
      "Choose an Option:  5\n"
     ]
    },
    {
     "name": "stdout",
     "output_type": "stream",
     "text": [
      "\n",
      "Thank You\n"
     ]
    }
   ],
   "source": [
    "class Calculator:\n",
    "    def __init__(self):\n",
    "        while True:\n",
    "            self.n1 = input(\"Enter 1st number:\")\n",
    "            if self.n1.isnumeric():\n",
    "                self.n1 = int(self.n1)\n",
    "                print(\"number 1st  entered successfully\")\n",
    "                break\n",
    "            else:\n",
    "                print(\"enter a valid number\")\n",
    "        while True:\n",
    "            self.n2 = input(\"Enter 1st number:\")\n",
    "            if self.n2.isnumeric():\n",
    "                self.n2 = int(self.n2)\n",
    "                print(\"number 2nd entered successfully\")\n",
    "                break\n",
    "            else:\n",
    "                print(\"enter a valid number\")\n",
    "    def addNums(self):\n",
    "        addtion = self.n1 + self.n2\n",
    "        print(f\"Addtion is: {addtion}\")\n",
    "    def subNums(self):\n",
    "        subtract = self.n1 - self.n2\n",
    "        print(f\"Subtraction is : {subtract}\")\n",
    "    def multNums(self):\n",
    "        mult = self.n1 * self.n2\n",
    "        print(f\"Multiplication is : {mult}\")\n",
    "    def divNums(self):\n",
    "        if self.n2 == 0:\n",
    "            print(\"Division by 0 is undefined\")\n",
    "        else:\n",
    "            print(f\"Division is: {self.n1 / self.n2}\")\n",
    "    def calculate_menu(self):\n",
    "        print(\"\"\"\n",
    "        \\n1. Add\n",
    "        \\n2. Subtract\n",
    "        \\n3. Mulitplication\n",
    "        \\n4. Division\n",
    "        \\n5. Exit\n",
    "        \"\"\")\n",
    "        while True:\n",
    "            try:\n",
    "                opt = int(input(\"Choose an Option: \"))\n",
    "            except:\n",
    "                print(\"Error: Choose Correct Option\")\n",
    "            else:\n",
    "                if opt == 1:\n",
    "                    self.addNums()\n",
    "                elif opt == 2:\n",
    "                    self.subNums()\n",
    "                elif opt == 3:\n",
    "                    self.multNums()\n",
    "                elif opt == 4:\n",
    "                    self.divNums()\n",
    "                elif opt == 5:\n",
    "                    print(\"\\nThank You\")\n",
    "                    break\n",
    "a = Calculator()\n",
    "a.calculate_menu()"
   ]
  },
  {
   "cell_type": "code",
   "execution_count": 54,
   "id": "153d1047-7d3c-49a1-938d-4b09003a886a",
   "metadata": {},
   "outputs": [],
   "source": [
    "# 6. Create a class Student that stores name and grades, Add a method to calculate average marks."
   ]
  },
  {
   "cell_type": "code",
   "execution_count": 56,
   "id": "4ec6aae6-e579-4d08-aca7-6769fe28eb8d",
   "metadata": {},
   "outputs": [
    {
     "name": "stdout",
     "output_type": "stream",
     "text": [
      "Enter your name:  aditya\n"
     ]
    },
    {
     "name": "stdout",
     "output_type": "stream",
     "text": [
      "Name entered successfully!\n"
     ]
    },
    {
     "name": "stdout",
     "output_type": "stream",
     "text": [
      "Enter the number of subjects:  0\n"
     ]
    },
    {
     "name": "stdout",
     "output_type": "stream",
     "text": [
      "Enter a positive number.\n"
     ]
    },
    {
     "name": "stdout",
     "output_type": "stream",
     "text": [
      "Enter the number of subjects:  1\n",
      "Enter subject name:  history\n",
      "Enter grade for history:  90\n"
     ]
    },
    {
     "name": "stdout",
     "output_type": "stream",
     "text": [
      "\n",
      "Student Name: aditya\n",
      "Grades:\n",
      "history: 90.0\n",
      "Average: 90.0\n"
     ]
    }
   ],
   "source": [
    "class Student:\n",
    "    def __init__(self):\n",
    "        while True:\n",
    "            self.name = input(\"Enter your name: \")\n",
    "            if not self.name.isnumeric():\n",
    "                print(\"Name entered successfully!\")\n",
    "                break\n",
    "            else:\n",
    "                print(\"Enter a valid name.\")\n",
    "        \n",
    "        self.grades = {}\n",
    "        while True:\n",
    "            try:\n",
    "                n = int(input(\"Enter the number of subjects: \"))\n",
    "                if n <= 0:\n",
    "                    print(\"Enter a positive number.\")\n",
    "                    continue\n",
    "                for _ in range(n):\n",
    "                    subject = input(\"Enter subject name: \")\n",
    "                    while True:\n",
    "                        try:\n",
    "                            grade = float(input(f\"Enter grade for {subject}: \"))\n",
    "                            break\n",
    "                        except ValueError:\n",
    "                            print(\"Enter a valid number for grade.\")\n",
    "                    self.grades[subject] = grade\n",
    "                break\n",
    "            except ValueError:\n",
    "                print(\"Enter a valid number.\")\n",
    "    \n",
    "    def calculate_average(self):\n",
    "        if len(self.grades) == 0:\n",
    "            return 0\n",
    "        total = sum(self.grades.values())\n",
    "        return total / len(self.grades)\n",
    "\n",
    "    def display(self):\n",
    "        print(f\"\\nStudent Name: {self.name}\")\n",
    "        print(\"Grades:\")\n",
    "        for subject, grade in self.grades.items():\n",
    "            print(f\"{subject}: {grade}\")\n",
    "        print(f\"Average: {self.calculate_average():}\")\n",
    "\n",
    "\n",
    "student1 = Student()\n",
    "student1.display()"
   ]
  },
  {
   "cell_type": "code",
   "execution_count": 57,
   "id": "f48ed79d-91e0-4352-831f-61da289d5f8d",
   "metadata": {},
   "outputs": [],
   "source": [
    "# 7. Copy content from one file to another using Python."
   ]
  },
  {
   "cell_type": "code",
   "execution_count": 61,
   "id": "8138f6be-3267-475f-9006-5f3983a496b9",
   "metadata": {},
   "outputs": [
    {
     "name": "stdout",
     "output_type": "stream",
     "text": [
      "Content copied successfully!\n",
      "My name is Aditya Pimpale \n"
     ]
    },
    {
     "name": "stderr",
     "output_type": "stream",
     "text": [
      "<>:1: SyntaxWarning: invalid escape sequence '\\P'\n",
      "<>:4: SyntaxWarning: invalid escape sequence '\\P'\n",
      "<>:1: SyntaxWarning: invalid escape sequence '\\P'\n",
      "<>:4: SyntaxWarning: invalid escape sequence '\\P'\n",
      "C:\\Users\\shree\\AppData\\Local\\Temp\\ipykernel_14348\\987021985.py:1: SyntaxWarning: invalid escape sequence '\\P'\n",
      "  with open(\"E:\\Python course 2025\\data\\data.txt\", \"r\") as source_file:\n",
      "C:\\Users\\shree\\AppData\\Local\\Temp\\ipykernel_14348\\987021985.py:4: SyntaxWarning: invalid escape sequence '\\P'\n",
      "  with open(\"E:\\Python course 2025\\data\\desttination.txt\", \"w\") as dest_file:\n"
     ]
    }
   ],
   "source": [
    "with open(\"E:\\Python course 2025\\data\\data.txt\", \"r\") as source_file:\n",
    "    content = source_file.read()  \n",
    "\n",
    "with open(\"E:\\Python course 2025\\data\\desttination.txt\", \"w\") as dest_file:\n",
    "    dest_file.write(content) \n",
    "    \n",
    "print(\"Content copied successfully!\")\n",
    "print(content)"
   ]
  },
  {
   "cell_type": "code",
   "execution_count": null,
   "id": "1bd0bf43-6305-4053-9899-dfad573e120a",
   "metadata": {},
   "outputs": [],
   "source": [
    "# 9. Read a JSON file containing employee data and print each employee's name."
   ]
  },
  {
   "cell_type": "code",
   "execution_count": 2,
   "id": "f2241762-5fb9-458a-9365-41fb8c4ee45d",
   "metadata": {},
   "outputs": [
    {
     "name": "stdout",
     "output_type": "stream",
     "text": [
      "Aditya Pimpale\n",
      "Rohit Sharma\n",
      "Sneha Patil\n",
      "Amit Verma\n",
      "Priya Singh\n"
     ]
    },
    {
     "name": "stderr",
     "output_type": "stream",
     "text": [
      "<>:2: SyntaxWarning: invalid escape sequence '\\P'\n",
      "<>:2: SyntaxWarning: invalid escape sequence '\\P'\n",
      "C:\\Users\\shree\\AppData\\Local\\Temp\\ipykernel_15784\\4203980577.py:2: SyntaxWarning: invalid escape sequence '\\P'\n",
      "  with open(\"E:\\Python course 2025\\data\\employee.json\",\"r\") as file:\n"
     ]
    }
   ],
   "source": [
    "import json\n",
    "with open(\"E:\\Python course 2025\\data\\employee.json\",\"r\") as file:\n",
    "    data = json.load(file)\n",
    "for employee in data:\n",
    "    print(employee['name'])"
   ]
  },
  {
   "cell_type": "code",
   "execution_count": null,
   "id": "46656825-355b-4355-be9a-a3dcc8bd2513",
   "metadata": {},
   "outputs": [],
   "source": [
    "# 8.Convert a Python dictionary into a JSON string and save it in a .json file."
   ]
  },
  {
   "cell_type": "code",
   "execution_count": 8,
   "id": "5d147339-954e-4aa6-ab71-7bfe069eb6b6",
   "metadata": {},
   "outputs": [
    {
     "name": "stdout",
     "output_type": "stream",
     "text": [
      "23\n"
     ]
    }
   ],
   "source": [
    "import json\n",
    "employee = {\n",
    "    \"name\": \"Aditya Pimpale\",\n",
    "    \"age\": 23,\n",
    "    \"city\": \"Pune\",\n",
    "    \"address\": {\n",
    "        \"street\": \"MG Road\",\n",
    "        \"house_no\": \"12A\",\n",
    "        \"pincode\": \"411001\"\n",
    "    },\n",
    "    \"designation\": \"Software Engineer\"\n",
    "}\n",
    "with open(\"E:/Python course 2025/data/new_employe.json\",\"w\") as file:\n",
    "    json.dump(employee,file,indent=4)\n",
    "\n",
    "with open(\"E:/Python course 2025/data/new_employe.json\",\"r\") as file:\n",
    "    data = json.load(file)\n",
    "\n",
    "print(data['age'])"
   ]
  },
  {
   "cell_type": "code",
   "execution_count": 14,
   "id": "78b74d66-eec8-482a-bfa9-a4c579a195a3",
   "metadata": {},
   "outputs": [
    {
     "name": "stdout",
     "output_type": "stream",
     "text": [
      "Aditya Pimpale\n",
      "Mohini Singh\n"
     ]
    }
   ],
   "source": [
    "with open(\"E:/Python course 2025/data/new_employe.json\",\"r\") as file:\n",
    "    data = json.load(file)\n",
    "print(data['name'])\n",
    "data['name'] = 'Mohini Singh'\n",
    "with open(\"E:/Python course 2025/data/new_employe.json\",\"w\") as file:\n",
    "    json.dump(data,file,indent=4)\n",
    "print(data['name'])"
   ]
  },
  {
   "cell_type": "code",
   "execution_count": 13,
   "id": "43692cc0-1f1e-43cf-a523-075b6059aabc",
   "metadata": {},
   "outputs": [],
   "source": [
    "# 11. Create a function that accepts a list of number and return the second largest numgber."
   ]
  },
  {
   "cell_type": "code",
   "execution_count": 34,
   "id": "da0d32fe-6ab8-46d9-9dc9-94c1cba86937",
   "metadata": {},
   "outputs": [
    {
     "data": {
      "text/plain": [
       "44"
      ]
     },
     "execution_count": 34,
     "metadata": {},
     "output_type": "execute_result"
    }
   ],
   "source": [
    "def secondLarge(nums1):\n",
    "    if len(nums1) < 2:\n",
    "        return None\n",
    "    maxi = nums1[0] \n",
    "    sec_max = nums1[1]\n",
    "    for num in nums1:\n",
    "        if num > maxi:\n",
    "            sec_max = maxi\n",
    "            maxi = num   \n",
    "        elif num > sec_max:\n",
    "            sec_max = num\n",
    "    return sec_max\n",
    "secondLarge([1,2,33,44,3,4,55])"
   ]
  },
  {
   "cell_type": "code",
   "execution_count": 35,
   "id": "d75fc000-099c-417d-88f6-5ff65c7db17f",
   "metadata": {},
   "outputs": [],
   "source": [
    "# 12. Write a funciton that takes a sentence and retuns the number of words in it."
   ]
  },
  {
   "cell_type": "code",
   "execution_count": 36,
   "id": "6a475fc9-8e32-42f0-940d-4f3a7fc85237",
   "metadata": {},
   "outputs": [
    {
     "data": {
      "text/plain": [
       "'No of words in the sentence are: 6'"
      ]
     },
     "execution_count": 36,
     "metadata": {},
     "output_type": "execute_result"
    }
   ],
   "source": [
    "def countWords(sen):\n",
    "    count = 0\n",
    "    words = sen.split()\n",
    "    for word in words:\n",
    "        count +=1\n",
    "    return f\"No of words in the sentence are: {count}\"\n",
    "\n",
    "countWords(\"Himalayan 411 is an adventure bike\")"
   ]
  },
  {
   "cell_type": "code",
   "execution_count": 37,
   "id": "bc761d57-c10b-4aea-8c4e-bb954d90fce1",
   "metadata": {},
   "outputs": [],
   "source": [
    "# 13. Create a function that retuns a list of all unique characters from a string."
   ]
  },
  {
   "cell_type": "code",
   "execution_count": 50,
   "id": "1062af15-b287-42ba-9b87-ca6c726870f4",
   "metadata": {},
   "outputs": [
    {
     "name": "stdout",
     "output_type": "stream",
     "text": [
      "{'a', 'n', 'p', 'W', 'c', 'o', 'y', 's', 'S', 'g', 't', 'm', 'i', 'e', 'A', 'r'}"
     ]
    }
   ],
   "source": [
    "def uniqueChars(str2):\n",
    "    str2 = list(str2)\n",
    "    uniqueSet = set(str2)\n",
    "    uniqueList = list(uniqueSet)\n",
    "    for i in uniqueList:\n",
    "        if i == \" \":\n",
    "            uniqueSet.remove(i)\n",
    "    print(uniqueSet,end=\"\")\n",
    "uniqueChars(\"AWS is a great company\")"
   ]
  },
  {
   "cell_type": "code",
   "execution_count": 48,
   "id": "3fd6a76b-a787-4a18-977f-26ced2c8f0ee",
   "metadata": {},
   "outputs": [],
   "source": [
    "# 14. Define a class Shopping Card that allows adding/removing items and calculating total."
   ]
  },
  {
   "cell_type": "code",
   "execution_count": 53,
   "id": "38f425f4-9620-48d8-90eb-156e6e03fec4",
   "metadata": {},
   "outputs": [
    {
     "name": "stdout",
     "output_type": "stream",
     "text": [
      "\n",
      "            Shopping Cart Menu\n",
      "            1. Add Item\n",
      "            2. Remove Item\n",
      "            3. Show Cart\n",
      "            4. Calculate Total\n",
      "            5. Exit\n",
      "            \n"
     ]
    },
    {
     "name": "stdout",
     "output_type": "stream",
     "text": [
      "Choose an option (1-5):  5\n"
     ]
    },
    {
     "name": "stdout",
     "output_type": "stream",
     "text": [
      "Thank you for shopping!\n"
     ]
    }
   ],
   "source": [
    "class ShoppingCart:\n",
    "    def __init__(self):\n",
    "        self.items = {}  \n",
    "\n",
    "    def add_item(self, name, price, quantity=1):\n",
    "        if name in self.items:\n",
    "            self.items[name][\"quantity\"] += quantity\n",
    "        else:\n",
    "            self.items[name] = {\"price\": price, \"quantity\": quantity}\n",
    "        print(f\"{quantity} {name}(s) added to cart.\")\n",
    "\n",
    "    def remove_item(self, name, quantity=1):\n",
    "        if name in self.items:\n",
    "            self.items[name][\"quantity\"] -= quantity\n",
    "            if self.items[name][\"quantity\"] <= 0:\n",
    "                del self.items[name]\n",
    "            print(f\"{quantity} {name}(s) removed from cart.\")\n",
    "        else:\n",
    "            print(f\"{name} not found in cart.\")\n",
    "\n",
    "    def calculate_total(self):\n",
    "        total = 0\n",
    "        for item in self.items.values():\n",
    "            total += item[\"price\"] * item[\"quantity\"]\n",
    "        print(f\"Total amount: ₹{total}\")\n",
    "\n",
    "    def show_items(self):\n",
    "        if not self.items:\n",
    "            print(\"Cart is empty.\")\n",
    "        else:\n",
    "            print(\"Items in cart:\")\n",
    "            for name, info in self.items.items():\n",
    "                print(f\"{name} - {info['quantity']} pcs - ₹{info['price']} each\")\n",
    "\n",
    "    def menu(self):\n",
    "        while True:\n",
    "            print(\"\"\"\n",
    "            Shopping Cart Menu\n",
    "            1. Add Item\n",
    "            2. Remove Item\n",
    "            3. Show Cart\n",
    "            4. Calculate Total\n",
    "            5. Exit\n",
    "            \"\"\")\n",
    "            try:\n",
    "                choice = int(input(\"Choose an option (1-5): \"))\n",
    "            except ValueError:\n",
    "                print(\" Invalid input. Enter a number 1-5.\")\n",
    "                continue\n",
    "\n",
    "            if choice == 1:\n",
    "                name = input(\"Enter item name: \")\n",
    "                try:\n",
    "                    price = float(input(\"Enter price: \"))\n",
    "                    quantity = int(input(\"Enter quantity: \"))\n",
    "                    self.add_item(name, price, quantity)\n",
    "                except ValueError:\n",
    "                    print(\"Invalid price or quantity.\")\n",
    "            elif choice == 2:\n",
    "                name = input(\"Enter item name to remove: \")\n",
    "                try:\n",
    "                    quantity = int(input(\"Enter quantity to remove: \"))\n",
    "                    self.remove_item(name, quantity)\n",
    "                except ValueError:\n",
    "                    print(\"Invalid quantity.\")\n",
    "            elif choice == 3:\n",
    "                self.show_items()\n",
    "            elif choice == 4:\n",
    "                self.calculate_total()\n",
    "            elif choice == 5:\n",
    "                print(\"Thank you for shopping!\")\n",
    "                break\n",
    "            else:\n",
    "                print(\" Invalid choice. Enter 1-5.\")\n",
    "\n",
    "cart = ShoppingCart()\n",
    "cart.menu()"
   ]
  },
  {
   "cell_type": "code",
   "execution_count": 15,
   "id": "7d467904-984e-4f37-9a34-15677ebf5540",
   "metadata": {},
   "outputs": [],
   "source": [
    "# 15. Create a python object with nested dictinaries and convert to JSON format."
   ]
  },
  {
   "cell_type": "code",
   "execution_count": 25,
   "id": "5f464d4f-2477-4901-af45-e5f842a9de67",
   "metadata": {},
   "outputs": [],
   "source": [
    "employee1 = {\n",
    "    \"id\": \"E101\",\n",
    "    \"name\": \"Aditya Pimpale\",\n",
    "    \"age\": 23,\n",
    "    \"contact\": {\n",
    "        \"email\": \"aditya.pimpale@example.com\",\n",
    "        \"phone\": \"+91-9876543210\"\n",
    "    },\n",
    "    \"address\": {\n",
    "        \"current\": {\n",
    "            \"street\": \"MG Road\",\n",
    "            \"city\": \"Pune\",\n",
    "            \"pincode\": \"411001\"\n",
    "        },\n",
    "        \"permanent\": {\n",
    "            \"street\": \"Shivaji Nagar\",\n",
    "            \"city\": \"Nagpur\",\n",
    "            \"pincode\": \"440001\"\n",
    "        }\n",
    "    },\n",
    "    \"job_details\": {\n",
    "        \"designation\": \"Software Engineer\",\n",
    "        \"department\": \"IT\",\n",
    "        \"skills\": [\"Python\", \"React\", \"Machine Learning\"]\n",
    "    }\n",
    "}\n"
   ]
  },
  {
   "cell_type": "code",
   "execution_count": 26,
   "id": "026ea930-b928-44c6-909c-d973421ec419",
   "metadata": {},
   "outputs": [
    {
     "name": "stderr",
     "output_type": "stream",
     "text": [
      "<>:1: SyntaxWarning: invalid escape sequence '\\P'\n",
      "<>:1: SyntaxWarning: invalid escape sequence '\\P'\n",
      "C:\\Users\\shree\\AppData\\Local\\Temp\\ipykernel_15784\\1961164618.py:1: SyntaxWarning: invalid escape sequence '\\P'\n",
      "  with open(\"E:\\Python course 2025\\data\\employee1.json\", \"w\") as file:\n"
     ]
    }
   ],
   "source": [
    "with open(\"E:\\Python course 2025\\data\\employee1.json\", \"w\") as file:\n",
    "    json.dump(employee, file, indent=4)"
   ]
  },
  {
   "cell_type": "code",
   "execution_count": 27,
   "id": "d4e1257f-1fe2-44ca-8484-4cb529c8466f",
   "metadata": {},
   "outputs": [
    {
     "name": "stdout",
     "output_type": "stream",
     "text": [
      "E101\n"
     ]
    },
    {
     "name": "stderr",
     "output_type": "stream",
     "text": [
      "<>:1: SyntaxWarning: invalid escape sequence '\\P'\n",
      "<>:1: SyntaxWarning: invalid escape sequence '\\P'\n",
      "C:\\Users\\shree\\AppData\\Local\\Temp\\ipykernel_15784\\2860455582.py:1: SyntaxWarning: invalid escape sequence '\\P'\n",
      "  with open(\"E:\\Python course 2025\\data\\employee1.json\",\"r\") as file:\n"
     ]
    }
   ],
   "source": [
    "with open(\"E:\\Python course 2025\\data\\employee1.json\",\"r\") as file:\n",
    "    data = json.load(file)\n",
    "print(data['id'])"
   ]
  },
  {
   "cell_type": "markdown",
   "id": "562f7fa4-8805-4683-b9b5-bbd6d895a32c",
   "metadata": {},
   "source": [
    "## NEW QUESTIONS"
   ]
  },
  {
   "cell_type": "code",
   "execution_count": 28,
   "id": "75dc1046-3bb6-42d0-af6b-b9733215ed6b",
   "metadata": {},
   "outputs": [],
   "source": [
    "# 16. Write a function to find the greatest number in the list without max() keyword list1 = [10,20,30,44,55,66,99,101,1,2,3,5,8,7,3]"
   ]
  },
  {
   "cell_type": "code",
   "execution_count": 31,
   "id": "6088e771-4d41-4e69-b636-41398871d4d8",
   "metadata": {},
   "outputs": [
    {
     "data": {
      "text/plain": [
       "101"
      ]
     },
     "execution_count": 31,
     "metadata": {},
     "output_type": "execute_result"
    }
   ],
   "source": [
    "def largestNum(list1):\n",
    "    maxi = list1[0]\n",
    "    for i in list1:\n",
    "        if i > maxi:\n",
    "            maxi = i\n",
    "    return maxi\n",
    "largestNum([10,20,30,44,55,66,99,101,1,2,3,5,8,7,3])"
   ]
  },
  {
   "cell_type": "code",
   "execution_count": 32,
   "id": "89a040cb-c2b2-4b9d-87b3-51e5800bca7b",
   "metadata": {},
   "outputs": [],
   "source": [
    "# 17. Write a function to find the smallest number in the list without max() keyword list1 = [10,20,30,44,55,66,99,101,1,2,3,5,8,7,3]"
   ]
  },
  {
   "cell_type": "code",
   "execution_count": 39,
   "id": "ef92e632-eb68-41e9-bd8b-e088ddc8c92b",
   "metadata": {},
   "outputs": [
    {
     "data": {
      "text/plain": [
       "1"
      ]
     },
     "execution_count": 39,
     "metadata": {},
     "output_type": "execute_result"
    }
   ],
   "source": [
    "def smallestNum(list2):\n",
    "    mini = list2[0]\n",
    "    for i in list2:\n",
    "        if i < mini:\n",
    "            mini = i\n",
    "    return mini\n",
    "smallestNum([10,20,30,44,55,66,99,101,1,2,3,5,8,7,3])"
   ]
  },
  {
   "cell_type": "code",
   "execution_count": 40,
   "id": "8adc12b2-e347-4f14-b424-7793f68211dc",
   "metadata": {},
   "outputs": [],
   "source": [
    "# 18. Write a program t demonstrate encapsulation using variables in a class."
   ]
  },
  {
   "cell_type": "code",
   "execution_count": 2,
   "id": "c959ac3f-6bdb-4eef-a473-636268dbe3c7",
   "metadata": {},
   "outputs": [
    {
     "name": "stdout",
     "output_type": "stream",
     "text": [
      "83\n",
      "('phone battery charge is: ', 79)\n",
      "after usage of 2, battery left is: 59\n"
     ]
    }
   ],
   "source": [
    "class smartphone:\n",
    "    def __init__(self,phoneName,battery):\n",
    "        self.phoneName = phoneName\n",
    "        self.__battery = battery\n",
    "\n",
    "    def get_battery_percentage(self):\n",
    "        return self.__battery\n",
    "\n",
    "    def charge_Phone(self):\n",
    "        charge = int(input(\"enter charged percent: \"))\n",
    "        if charge == 100:\n",
    "            self.__battery = charge\n",
    "            return(\"Your smart phone is fully charged: \",self.__battery)\n",
    "        elif charge < 20:\n",
    "            self.__battery = charge\n",
    "            return(\"Charge your phone battery: \",self.__battery)\n",
    "        else:\n",
    "            self.__battery = charge\n",
    "            return(\"phone battery charge is: \",self.__battery)\n",
    "\n",
    "    def usage_hours(self):\n",
    "        usage_hours = int(input(\"enter the phone usage hours to know your battery % :\"))\n",
    "        if usage_hours == 0:\n",
    "            return(f\"battery left is: {self.__battery}\")\n",
    "        elif 0 < usage_hours <= 2:\n",
    "            self.__battery -= 20\n",
    "            return(f\"after usage of {usage_hours}, battery left is: {self.__battery}\")\n",
    "        elif 2 < usage_hours <= 4:\n",
    "            self.__battery -= 40\n",
    "            return(f\"after usage of {usage_hours}, battery left is: {self.__battery}\")\n",
    "        elif 4 < usage_hours <= 6:\n",
    "            self.__battery -= 20\n",
    "            return(f\"after usage of {usage_hours}, battery left is: {self.__battery}\")\n",
    "phone = smartphone('One Plus',83)\n",
    "print(phone.get_battery_percentage())\n",
    "print(phone.charge_Phone())\n",
    "print(phone.usage_hours())"
   ]
  },
  {
   "cell_type": "code",
   "execution_count": null,
   "id": "90fa674f-3e96-4389-a2e2-041d11814fc7",
   "metadata": {},
   "outputs": [],
   "source": []
  }
 ],
 "metadata": {
  "kernelspec": {
   "display_name": "base",
   "language": "python",
   "name": "python3"
  },
  "language_info": {
   "codemirror_mode": {
    "name": "ipython",
    "version": 3
   },
   "file_extension": ".py",
   "mimetype": "text/x-python",
   "name": "python",
   "nbconvert_exporter": "python",
   "pygments_lexer": "ipython3",
   "version": "3.13.5"
  }
 },
 "nbformat": 4,
 "nbformat_minor": 5
}
