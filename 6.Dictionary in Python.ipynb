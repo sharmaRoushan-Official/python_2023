{
 "cells": [
  {
   "cell_type": "markdown",
   "id": "c58bb53d-9d1c-411b-af50-313db3c73db9",
   "metadata": {},
   "source": [
    "# 6. Dictionary in Python\n",
    "\n",
    " * __Dictionaries are used to store data values in key: value pairs.__\n",
    " * __A dictionary is a collection that is ordered, changeable, or mutable and does not allow duplicates.__\n",
    " * __Dictionary items are presented in key: value pairs, and can be referred to by using the key name.__\n",
    " * __Dictionaries are changeable, meaning that we change, add, or remove items after the dictionary has been created.__\n",
    " * __Dictionaries cannot have two items with the same key.__\n",
    " * __A dictionary can be nested and can contain another dictionary.__\n",
    "    * __Keys__--------------__Values__\n",
    "    * __'name'__-----------__'John'__\n",
    "    * __'age'__------------__25__\n",
    "    * __'city'__----------__'New York'__\n",
    "    * __'email'__---------__'bob@hotmail.com'__\n",
    "      "
   ]
  },
  {
   "cell_type": "code",
   "execution_count": 6,
   "id": "0174901f-1060-4b3d-b776-1edae8ea8fde",
   "metadata": {},
   "outputs": [
    {
     "name": "stdout",
     "output_type": "stream",
     "text": [
      "{}\n",
      "<class 'dict'>\n"
     ]
    }
   ],
   "source": [
    "sampleDict = {}\n",
    "print(sampleDict)\n",
    "print(type(sampleDict))"
   ]
  },
  {
   "cell_type": "code",
   "execution_count": 13,
   "id": "be386f6f-3ac9-460d-9026-ef731bd924a1",
   "metadata": {},
   "outputs": [
    {
     "name": "stdout",
     "output_type": "stream",
     "text": [
      "{'name': 'Aditya', 'age': 25, 'city': 'Kharadi'}\n",
      "<class 'dict'>\n"
     ]
    }
   ],
   "source": [
    "dict1 = {\n",
    "    'name': \"Aditya\",\n",
    "    'age': 25,\n",
    "    'city': \"Kharadi\"\n",
    "}\n",
    "print(dict1)\n",
    "print(type(dict1))"
   ]
  },
  {
   "cell_type": "markdown",
   "id": "d1a6c1b1-7606-4b40-9bdc-bcbfd3816cb5",
   "metadata": {},
   "source": [
    "__Note:__ __As you see that the whole dictionary is enclosed in curly brackets, each key is separated from its value by a colon':', and commas are used to separate the items in the dictionary.__"
   ]
  },
  {
   "cell_type": "code",
   "execution_count": 25,
   "id": "a1d556b1-52dc-4095-b156-4a858f4eab72",
   "metadata": {},
   "outputs": [
    {
     "name": "stdout",
     "output_type": "stream",
     "text": [
      "Aditya\n",
      "25\n",
      "Kharadi\n"
     ]
    }
   ],
   "source": [
    "print(dict1['name'])\n",
    "print(dict1['age'])\n",
    "print(dict1['city'])\n",
    "# print(dict1['address'])"
   ]
  },
  {
   "cell_type": "code",
   "execution_count": 27,
   "id": "0f5684f6-bb28-4aa9-b2c9-6ca2176da9c0",
   "metadata": {},
   "outputs": [
    {
     "data": {
      "text/plain": [
       "dict_keys(['name', 'age', 'city'])"
      ]
     },
     "execution_count": 27,
     "metadata": {},
     "output_type": "execute_result"
    }
   ],
   "source": [
    "# keys()\n",
    "\n",
    "dict1.keys()"
   ]
  },
  {
   "cell_type": "code",
   "execution_count": 29,
   "id": "f79b49f8-33bd-4237-92a7-41fbb76423fe",
   "metadata": {},
   "outputs": [
    {
     "data": {
      "text/plain": [
       "{'name': 'Aditya', 'age': 25, 'city': 'Kharadi'}"
      ]
     },
     "execution_count": 29,
     "metadata": {},
     "output_type": "execute_result"
    }
   ],
   "source": [
    "dict1"
   ]
  },
  {
   "cell_type": "code",
   "execution_count": 31,
   "id": "b1b7cdf9-1865-4e7d-893a-e915d2ae38c7",
   "metadata": {},
   "outputs": [
    {
     "data": {
      "text/plain": [
       "dict_values(['Aditya', 25, 'Kharadi'])"
      ]
     },
     "execution_count": 31,
     "metadata": {},
     "output_type": "execute_result"
    }
   ],
   "source": [
    "# values()\n",
    "\n",
    "dict1.values()"
   ]
  },
  {
   "cell_type": "code",
   "execution_count": 33,
   "id": "4cdd325f-3a42-4937-9a71-7933982361b2",
   "metadata": {},
   "outputs": [
    {
     "data": {
      "text/plain": [
       "dict_items([('name', 'Aditya'), ('age', 25), ('city', 'Kharadi')])"
      ]
     },
     "execution_count": 33,
     "metadata": {},
     "output_type": "execute_result"
    }
   ],
   "source": [
    "# items()\n",
    "\n",
    "dict1.items()"
   ]
  },
  {
   "cell_type": "code",
   "execution_count": 35,
   "id": "8b7fb75b-cb1b-4224-a5c6-5b1552f34c1e",
   "metadata": {},
   "outputs": [
    {
     "data": {
      "text/plain": [
       "{'name': 'Aditya', 'age': 25, 'city': 'Kharadi'}"
      ]
     },
     "execution_count": 35,
     "metadata": {},
     "output_type": "execute_result"
    }
   ],
   "source": [
    "# dictionary, a mutable data type Python\n",
    "\n",
    "# create\n",
    "dict1"
   ]
  },
  {
   "cell_type": "code",
   "execution_count": 37,
   "id": "ccf8b102-6c38-4b92-849b-37c21e090d37",
   "metadata": {},
   "outputs": [
    {
     "data": {
      "text/plain": [
       "{'name': 'Aditya', 'age': 25, 'city': 'Kharadi', 'contactNo.': '21545645641'}"
      ]
     },
     "execution_count": 37,
     "metadata": {},
     "output_type": "execute_result"
    }
   ],
   "source": [
    "# new value add\n",
    "\n",
    "dict1['contactNo.'] = \"21545645641\"\n",
    "dict1"
   ]
  },
  {
   "cell_type": "code",
   "execution_count": 39,
   "id": "87baf51c-32ae-4aa8-a5a3-3a7377131723",
   "metadata": {},
   "outputs": [
    {
     "data": {
      "text/plain": [
       "{'name': 'Aditya', 'age': 25, 'city': 'Kharadi', 'contactNo.': '1234'}"
      ]
     },
     "execution_count": 39,
     "metadata": {},
     "output_type": "execute_result"
    }
   ],
   "source": [
    "# updating the value\n",
    "# dictionary keys are unique.\n",
    "dict1['contactNo.']= '1234'\n",
    "dict1"
   ]
  },
  {
   "cell_type": "code",
   "execution_count": 45,
   "id": "c26116ed-9e98-46c9-90f1-a48ae8aefebb",
   "metadata": {},
   "outputs": [
    {
     "data": {
      "text/plain": [
       "'1234'"
      ]
     },
     "execution_count": 45,
     "metadata": {},
     "output_type": "execute_result"
    }
   ],
   "source": [
    "# pop()\n",
    "\n",
    "dict1.pop('contactNo.')"
   ]
  },
  {
   "cell_type": "code",
   "execution_count": 47,
   "id": "40370cf1-93b6-4cfc-8001-26def1a9d21b",
   "metadata": {},
   "outputs": [
    {
     "data": {
      "text/plain": [
       "{'name': 'Aditya', 'age': 25, 'city': 'Kharadi'}"
      ]
     },
     "execution_count": 47,
     "metadata": {},
     "output_type": "execute_result"
    }
   ],
   "source": [
    "dict1"
   ]
  },
  {
   "cell_type": "code",
   "execution_count": 49,
   "id": "af2fe4e6-02c4-499a-a51f-77f2c777b083",
   "metadata": {},
   "outputs": [
    {
     "data": {
      "text/plain": [
       "('city', 'Kharadi')"
      ]
     },
     "execution_count": 49,
     "metadata": {},
     "output_type": "execute_result"
    }
   ],
   "source": [
    "dict1.popitem()"
   ]
  },
  {
   "cell_type": "code",
   "execution_count": 51,
   "id": "49a13b66-e10a-4ed2-b06b-23a0798e0701",
   "metadata": {},
   "outputs": [],
   "source": [
    "dict1[2] = 'hello'"
   ]
  },
  {
   "cell_type": "code",
   "execution_count": 53,
   "id": "61914e2f-315e-407b-b451-8ba00c2a5200",
   "metadata": {},
   "outputs": [
    {
     "data": {
      "text/plain": [
       "{'name': 'Aditya', 'age': 25, 2: 'hello'}"
      ]
     },
     "execution_count": 53,
     "metadata": {},
     "output_type": "execute_result"
    }
   ],
   "source": [
    "dict1"
   ]
  },
  {
   "cell_type": "code",
   "execution_count": 55,
   "id": "b3fbec6a-41c9-4827-af55-39869bc62d67",
   "metadata": {},
   "outputs": [
    {
     "data": {
      "text/plain": [
       "(2, 'hello')"
      ]
     },
     "execution_count": 55,
     "metadata": {},
     "output_type": "execute_result"
    }
   ],
   "source": [
    "dict1.popitem()"
   ]
  },
  {
   "cell_type": "code",
   "execution_count": 57,
   "id": "4a586869-0d00-4fc0-ae84-9fde3c4d81d8",
   "metadata": {},
   "outputs": [
    {
     "data": {
      "text/plain": [
       "{'name': 'Aditya', 'age': 25}"
      ]
     },
     "execution_count": 57,
     "metadata": {},
     "output_type": "execute_result"
    }
   ],
   "source": [
    "dict1"
   ]
  },
  {
   "cell_type": "code",
   "execution_count": 59,
   "id": "8ce93b5b-0a3d-47d8-a8ea-2f79010b69ad",
   "metadata": {},
   "outputs": [
    {
     "name": "stdout",
     "output_type": "stream",
     "text": [
      "False\n"
     ]
    }
   ],
   "source": [
    "# Verification using in or not in = [membership operation] - return Boolean value [True,False]\n",
    "\n",
    "print(2 in dict1) "
   ]
  },
  {
   "cell_type": "code",
   "execution_count": 61,
   "id": "9d253832-c846-4408-aa34-37b3e815eb93",
   "metadata": {},
   "outputs": [
    {
     "name": "stdout",
     "output_type": "stream",
     "text": [
      "False\n"
     ]
    }
   ],
   "source": [
    "print(25 in dict1)  # membership operator only checks the keys, not the value."
   ]
  },
  {
   "cell_type": "code",
   "execution_count": 63,
   "id": "d6420071-aec6-4b02-87d2-08569cc9d3bd",
   "metadata": {},
   "outputs": [],
   "source": [
    "dict1[25] = 100"
   ]
  },
  {
   "cell_type": "code",
   "execution_count": 65,
   "id": "8c67427a-beff-42b3-abff-e11c2e47994c",
   "metadata": {},
   "outputs": [
    {
     "data": {
      "text/plain": [
       "{'name': 'Aditya', 'age': 25, 25: 100}"
      ]
     },
     "execution_count": 65,
     "metadata": {},
     "output_type": "execute_result"
    }
   ],
   "source": [
    "dict1"
   ]
  },
  {
   "cell_type": "code",
   "execution_count": 67,
   "id": "ba828f87-3e00-40c5-b025-e31398f142ee",
   "metadata": {},
   "outputs": [
    {
     "name": "stdout",
     "output_type": "stream",
     "text": [
      "True\n"
     ]
    }
   ],
   "source": [
    "print(25 in dict1)  # membership operator only checks the keys, not the value."
   ]
  },
  {
   "cell_type": "code",
   "execution_count": 69,
   "id": "3eb99a07-8b3a-49b5-92a3-0bde9e48a1de",
   "metadata": {},
   "outputs": [
    {
     "data": {
      "text/plain": [
       "dict_keys(['name', 'age', 25])"
      ]
     },
     "execution_count": 69,
     "metadata": {},
     "output_type": "execute_result"
    }
   ],
   "source": [
    "dict1.keys()"
   ]
  },
  {
   "cell_type": "code",
   "execution_count": 71,
   "id": "ee9ea165-514e-4619-929a-8318e746deb4",
   "metadata": {},
   "outputs": [
    {
     "data": {
      "text/plain": [
       "dict_values(['Aditya', 25, 100])"
      ]
     },
     "execution_count": 71,
     "metadata": {},
     "output_type": "execute_result"
    }
   ],
   "source": [
    "dict1.values()"
   ]
  },
  {
   "cell_type": "code",
   "execution_count": 78,
   "id": "263affc9-aa64-46c6-82f4-a67f9060d078",
   "metadata": {},
   "outputs": [
    {
     "data": {
      "text/plain": [
       "{'family': 'music', 'type': 'pop', 'year': 2026, 'name': 'happy new year'}"
      ]
     },
     "execution_count": 78,
     "metadata": {},
     "output_type": "execute_result"
    }
   ],
   "source": [
    "# dict() function/ keyword\n",
    "# This funciton is used to create dictionary\n",
    "\n",
    "dict2 = dict(family = 'music',type='pop',year=2026,name='happy new year')\n",
    "dict2"
   ]
  },
  {
   "cell_type": "code",
   "execution_count": 73,
   "id": "82df7f4b-fbcd-4703-bb76-e583f2aca3a3",
   "metadata": {},
   "outputs": [
    {
     "data": {
      "text/plain": [
       "101"
      ]
     },
     "execution_count": 73,
     "metadata": {},
     "output_type": "execute_result"
    }
   ],
   "source": [
    "x = 101\n",
    "x"
   ]
  },
  {
   "cell_type": "code",
   "execution_count": 85,
   "id": "1daffb63-fdf3-4085-b889-d561e17465e9",
   "metadata": {},
   "outputs": [
    {
     "data": {
      "text/plain": [
       "{'family': 'music', 'type': 'pop', 'year': 2026, 'name': 'happy new year'}"
      ]
     },
     "execution_count": 85,
     "metadata": {},
     "output_type": "execute_result"
    }
   ],
   "source": [
    "dict2 = dict(family = 'music',type='pop',year=2026,name='happy new year')\n",
    "dict2"
   ]
  },
  {
   "cell_type": "code",
   "execution_count": 87,
   "id": "01542d82-8eea-4a3d-b010-e3b273886c02",
   "metadata": {},
   "outputs": [
    {
     "data": {
      "text/plain": [
       "{'family': 'music',\n",
       " 'type': 'pop',\n",
       " 'year': 2026,\n",
       " 'name': 'happy new year',\n",
       " 10: 99}"
      ]
     },
     "execution_count": 87,
     "metadata": {},
     "output_type": "execute_result"
    }
   ],
   "source": [
    "dict2[10] = 99\n",
    "dict2"
   ]
  },
  {
   "cell_type": "code",
   "execution_count": 93,
   "id": "1e72285e-c893-4c66-b348-2ecea1d10faa",
   "metadata": {},
   "outputs": [
    {
     "data": {
      "text/plain": [
       "'happy new year'"
      ]
     },
     "execution_count": 93,
     "metadata": {},
     "output_type": "execute_result"
    }
   ],
   "source": [
    "# get() function # fullstack\n",
    "\n",
    "dict2[\"name\"]  # check keys is valid or not"
   ]
  },
  {
   "cell_type": "code",
   "execution_count": 95,
   "id": "8a8789c6-0f64-46c4-8754-370735a134d9",
   "metadata": {},
   "outputs": [
    {
     "data": {
      "text/plain": [
       "'happy new year'"
      ]
     },
     "execution_count": 95,
     "metadata": {},
     "output_type": "execute_result"
    }
   ],
   "source": [
    "dict2.get('name') # "
   ]
  },
  {
   "cell_type": "code",
   "execution_count": 101,
   "id": "1311f3d0-5dab-49f8-bf63-0a154d11ba20",
   "metadata": {},
   "outputs": [
    {
     "ename": "SyntaxError",
     "evalue": "expression expected after dictionary key and ':' (792604666.py, line 6)",
     "output_type": "error",
     "traceback": [
      "\u001b[1;36m  Cell \u001b[1;32mIn[101], line 6\u001b[1;36m\u001b[0m\n\u001b[1;33m    dict3 = {'name':}\u001b[0m\n\u001b[1;37m                   ^\u001b[0m\n\u001b[1;31mSyntaxError\u001b[0m\u001b[1;31m:\u001b[0m expression expected after dictionary key and ':'\n"
     ]
    }
   ],
   "source": [
    "# fromkeys() function\n",
    "# It returns a new dictionary with a certain sequence of the items as the key of \n",
    "# the dictionary and the values are assigned with None.\n",
    "\n",
    "\n",
    "dict3 = {'name':}\n",
    "dict3"
   ]
  },
  {
   "cell_type": "code",
   "execution_count": 105,
   "id": "c4aaa079-c30e-4fff-b77c-c80a0c2a8a87",
   "metadata": {},
   "outputs": [
    {
     "name": "stdout",
     "output_type": "stream",
     "text": [
      "{'a', 'b', 'c'}\n",
      "<class 'set'>\n"
     ]
    }
   ],
   "source": [
    "# keys create empty values.\n",
    "\n",
    "keys = {'a','b','c'}\n",
    "print(keys)\n",
    "print(type(keys))"
   ]
  },
  {
   "cell_type": "code",
   "execution_count": 109,
   "id": "4c76a04b-58a3-47d6-b45e-d109da0ca00e",
   "metadata": {},
   "outputs": [
    {
     "data": {
      "text/plain": [
       "{'a': None, 'b': None, 'c': None}"
      ]
     },
     "execution_count": 109,
     "metadata": {},
     "output_type": "execute_result"
    }
   ],
   "source": [
    "x =dict.fromkeys(keys)\n",
    "x"
   ]
  },
  {
   "cell_type": "code",
   "execution_count": 111,
   "id": "c65d025a-bcef-4f7f-8262-4a6440398811",
   "metadata": {},
   "outputs": [
    {
     "data": {
      "text/plain": [
       "{'a': 'apple', 'b': None, 'c': None}"
      ]
     },
     "execution_count": 111,
     "metadata": {},
     "output_type": "execute_result"
    }
   ],
   "source": [
    "x['a'] = 'apple'\n",
    "x"
   ]
  },
  {
   "cell_type": "code",
   "execution_count": 113,
   "id": "7d676d62-2fa7-49cc-874c-9be5fe10ca81",
   "metadata": {},
   "outputs": [
    {
     "data": {
      "text/plain": [
       "{'name': 'Aditya', 'age': 25, 25: 100}"
      ]
     },
     "execution_count": 113,
     "metadata": {},
     "output_type": "execute_result"
    }
   ],
   "source": [
    "# Iterating value: loop [for,while] -> Entry control loop\n",
    "\n",
    "\n",
    "dict1\n",
    "\n"
   ]
  },
  {
   "cell_type": "code",
   "execution_count": 115,
   "id": "7ca83aad-5532-44a0-9665-6f28b63e6e44",
   "metadata": {},
   "outputs": [
    {
     "name": "stdout",
     "output_type": "stream",
     "text": [
      "name\n",
      "age\n",
      "25\n"
     ]
    }
   ],
   "source": [
    "for i in dict1:\n",
    "    print(i)"
   ]
  },
  {
   "cell_type": "code",
   "execution_count": 117,
   "id": "40ae4bde-55cd-4a9a-add2-2d80cc9f3c47",
   "metadata": {},
   "outputs": [
    {
     "name": "stdout",
     "output_type": "stream",
     "text": [
      "Aditya\n",
      "25\n",
      "100\n"
     ]
    }
   ],
   "source": [
    "for i in dict1.values():\n",
    "    print(i)"
   ]
  },
  {
   "cell_type": "code",
   "execution_count": 119,
   "id": "e62b521f-6930-4039-aa1d-faf5527dd623",
   "metadata": {},
   "outputs": [
    {
     "name": "stdout",
     "output_type": "stream",
     "text": [
      "name\n",
      "age\n",
      "25\n"
     ]
    }
   ],
   "source": [
    "for i in dict1.keys():\n",
    "    print(i)"
   ]
  },
  {
   "cell_type": "code",
   "execution_count": 123,
   "id": "0abf5573-9b8d-4c9f-9995-080121ac9eb5",
   "metadata": {},
   "outputs": [
    {
     "name": "stdout",
     "output_type": "stream",
     "text": [
      "('name', 'Aditya')\n",
      "('age', 25)\n",
      "(25, 100)\n"
     ]
    }
   ],
   "source": [
    "for i in dict1.items():\n",
    "    print(i)"
   ]
  },
  {
   "cell_type": "code",
   "execution_count": 133,
   "id": "5d449753-75b8-4d3e-9bc6-2bc3d302481b",
   "metadata": {},
   "outputs": [
    {
     "name": "stdout",
     "output_type": "stream",
     "text": [
      "name : Aditya\n",
      "age : 25\n",
      "25 : 100\n"
     ]
    }
   ],
   "source": [
    "for i,j in dict1.items():\n",
    "    print(i,\":\",j)"
   ]
  },
  {
   "cell_type": "code",
   "execution_count": null,
   "id": "7e3ed2be-b7b7-45ab-8b16-9f63d0664c00",
   "metadata": {},
   "outputs": [],
   "source": [
    "# string,list,tuple,set,dictionary."
   ]
  }
 ],
 "metadata": {
  "kernelspec": {
   "display_name": "Python 3 (ipykernel)",
   "language": "python",
   "name": "python3"
  },
  "language_info": {
   "codemirror_mode": {
    "name": "ipython",
    "version": 3
   },
   "file_extension": ".py",
   "mimetype": "text/x-python",
   "name": "python",
   "nbconvert_exporter": "python",
   "pygments_lexer": "ipython3",
   "version": "3.12.4"
  }
 },
 "nbformat": 4,
 "nbformat_minor": 5
}
