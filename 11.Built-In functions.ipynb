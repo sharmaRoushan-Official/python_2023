{
 "cells": [
  {
   "cell_type": "markdown",
   "id": "b2af5979-3d0b-42f4-b04d-a262f09d7c27",
   "metadata": {},
   "source": [
    "\n",
    "\n",
    "### 🔹 Python Built-in Functions\n",
    "\n",
    "```\n",
    "abs()          delattr()      hash()         memoryview()   set()\n",
    "all()          dict()         help()         min()          setattr()\n",
    "any()          dir()          hex()          next()         slice()\n",
    "ascii()        divmod()       id()           object()       sorted()\n",
    "bin()          enumerate()    input()        oct()          staticmethod()\n",
    "bool()         eval()         int()          open()         str()\n",
    "breakpoint()   exec()         isinstance()   ord()          sum()\n",
    "bytearray()    filter()       issubclass()   pow()          super()\n",
    "bytes()        float()        iter()         print()        tuple()\n",
    "callable()     format()       len()          property()     type()\n",
    "chr()          frozenset()    list()         range()        vars()\n",
    "classmethod()  getattr()      locals()       repr()         zip()\n",
    "compile()      globals()      map()          reversed()     __import__()\n",
    "complex()      hasattr()      max()          round()\n",
    "```\n",
    "\n",
    "---\n",
    "\n",
    "✅ Some important categories:\n",
    "\n",
    "* **Type Conversion** → `int(), float(), str(), bool(), list(), tuple(), dict(), set(), frozenset(), bytes(), bytearray(), complex()`\n",
    "* **Math Functions** → `abs(), pow(), round(), min(), max(), sum(), divmod()`\n",
    "* **Iteration & Sequence** → `len(), range(), enumerate(), iter(), next(), sorted(), reversed(), slice(), zip(), filter(), map()`\n",
    "* **Object & Class Related** → `isinstance(), issubclass(), getattr(), setattr(), hasattr(), delattr(), property(), super(), type(), classmethod(), staticmethod(), callable()`\n",
    "* **Input/Output** → `print(), input(), open()`\n",
    "* **Others** → `globals(), locals(), vars(), dir(), help(), eval(), exec(), compile(), __import__()`\n",
    "\n",
    "---\n",
    "\n"
   ]
  },
  {
   "cell_type": "code",
   "execution_count": null,
   "id": "08b2a004-df15-422f-b27d-cb39893042f9",
   "metadata": {},
   "outputs": [],
   "source": []
  }
 ],
 "metadata": {
  "kernelspec": {
   "display_name": "Python 3 (ipykernel)",
   "language": "python",
   "name": "python3"
  },
  "language_info": {
   "codemirror_mode": {
    "name": "ipython",
    "version": 3
   },
   "file_extension": ".py",
   "mimetype": "text/x-python",
   "name": "python",
   "nbconvert_exporter": "python",
   "pygments_lexer": "ipython3",
   "version": "3.13.7"
  }
 },
 "nbformat": 4,
 "nbformat_minor": 5
}
