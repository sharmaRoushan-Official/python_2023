{
 "cells": [
  {
   "cell_type": "markdown",
   "id": "0ca1a851-f86e-428d-82ed-1d5c53751bdf",
   "metadata": {},
   "source": [
    "# **Assignment-1**"
   ]
  },
  {
   "cell_type": "code",
   "execution_count": 2,
   "id": "1245b8ed-5b92-4931-bdcb-4cbb06b3f99b",
   "metadata": {},
   "outputs": [
    {
     "name": "stdout",
     "output_type": "stream",
     "text": [
      "1\n",
      "12\n",
      "123\n",
      "1234\n"
     ]
    }
   ],
   "source": [
    "# 1. write a program to display the following pattern using while nested loops:-\n",
    "\n",
    "# 1\n",
    "# 12\n",
    "# 123\n",
    "# 1234\n",
    "\n",
    "\n",
    "for i in range(1, 5):  \n",
    "    for j in range(1, i + 1): \n",
    "        print(j, end=\"\")\n",
    "    print()"
   ]
  },
  {
   "cell_type": "code",
   "execution_count": 7,
   "id": "8d56d955-b679-4089-a9b4-21c3a52dcbe5",
   "metadata": {},
   "outputs": [
    {
     "name": "stdout",
     "output_type": "stream",
     "text": [
      "[12, 112, 204, 54]\n"
     ]
    }
   ],
   "source": [
    "# 2. Write a function that takes a list of integer and returns a new list with only the even numbers.\n",
    "\n",
    "def even_num(numbers):\n",
    "    even_list = []\n",
    "    for num in numbers:\n",
    "        if num % 2 == 0:\n",
    "            even_list.append(num)\n",
    "    return even_list\n",
    "\n",
    "nums = [12, 43, 67, 99, 103, 43, 112, 204, 54]\n",
    "evens = even_num(nums)\n",
    "print(evens)\n",
    "\n"
   ]
  },
  {
   "cell_type": "code",
   "execution_count": 12,
   "id": "c3854710-cd2b-418a-a956-a5fc84b81bb0",
   "metadata": {},
   "outputs": [
    {
     "name": "stdin",
     "output_type": "stream",
     "text": [
      "Enter a number:  5\n"
     ]
    },
    {
     "name": "stdout",
     "output_type": "stream",
     "text": [
      "Factorial of 5 is: 120\n"
     ]
    }
   ],
   "source": [
    "# 3. Write a recursive function to calculate the factorial of a number.\n",
    "\n",
    "def factorial(n):\n",
    "    if n == 0 or n == 1:\n",
    "        return 1\n",
    "    else:\n",
    "        return n * factorial(n - 1)\n",
    "\n",
    "num = int(input(\"Enter a number: \"))\n",
    "print(f\"Factorial of {num} is:\", factorial(num))\n"
   ]
  },
  {
   "cell_type": "code",
   "execution_count": 13,
   "id": "c150c0c9-3bcf-4c6c-892b-ceaa2e99e368",
   "metadata": {},
   "outputs": [
    {
     "name": "stdout",
     "output_type": "stream",
     "text": [
      "Title : Mission India: A Vision for Indian Youth\n",
      "Author: A.P.J. Abdul Kalam\n",
      "Pages : 210\n"
     ]
    }
   ],
   "source": [
    "# 4. Create a class bok with attributes title, author, and pages. Add a method to disply book details.\n",
    "\n",
    "class Book:\n",
    "    def __init__(self, title, author, pages):\n",
    "        self.title = title\n",
    "        self.author = author\n",
    "        self.pages = pages\n",
    "\n",
    "    def display_details(self):\n",
    "        print(f\"Title : {self.title}\")\n",
    "        print(f\"Author: {self.author}\")\n",
    "        print(f\"Pages : {self.pages}\")\n",
    "\n",
    "\n",
    "book1 = Book(\"Mission India: A Vision for Indian Youth\", \"A.P.J. Abdul Kalam\", 210)\n",
    "book1.display_details()\n"
   ]
  },
  {
   "cell_type": "code",
   "execution_count": 15,
   "id": "eb450ee9-cfbf-41ae-a92a-9e8c8dbf4f55",
   "metadata": {},
   "outputs": [
    {
     "name": "stdout",
     "output_type": "stream",
     "text": [
      "Numbers: 10, 5\n",
      "Addition: 15\n",
      "Subtraction: 5\n",
      "Multiplication: 50\n",
      "Division: 2.0\n"
     ]
    }
   ],
   "source": [
    "# 5. Create a class Calculator with method for add, subtract, multiply and divide.\n",
    "\n",
    "class Calculator:\n",
    "    def __init__(self, a, b):\n",
    "        self.a = a\n",
    "        self.b = b\n",
    "\n",
    "    def operations(self):\n",
    "        addition = self.a + self.b\n",
    "        subtraction = self.a - self.b\n",
    "        multiplication = self.a * self.b\n",
    "        division = self.a / self.b if self.b != 0 else \"Error! Division by zero\"\n",
    "\n",
    "        print(f\"Numbers: {self.a}, {self.b}\")\n",
    "        print(f\"Addition: {addition}\")\n",
    "        print(f\"Subtraction: {subtraction}\")\n",
    "        print(f\"Multiplication: {multiplication}\")\n",
    "        print(f\"Division: {division}\")\n",
    "\n",
    "# Example usage\n",
    "cal = Calculator(10, 5)\n",
    "cal.operations()\n"
   ]
  },
  {
   "cell_type": "code",
   "execution_count": 22,
   "id": "3af598c8-8849-479c-99d3-b1c6eaddfaf8",
   "metadata": {},
   "outputs": [
    {
     "name": "stdout",
     "output_type": "stream",
     "text": [
      "Student Name: Asma\n",
      "Grades: [85, 90, 78, 92]\n",
      "Average: 86.25\n"
     ]
    }
   ],
   "source": [
    "# 6. Create a class Student that stores name and grades, Add a method to calculate average marks.\n",
    "\n",
    "class Student:\n",
    "    def __init__(self, name, grades):\n",
    "        self.name = name\n",
    "        self.grades = grades\n",
    "\n",
    "    def studentDetails(self):\n",
    "        total = 0\n",
    "        count = 0\n",
    "        for grade in self.grades:\n",
    "            total += grade\n",
    "            count += 1\n",
    "        average = total / count if count != 0 else 0\n",
    "\n",
    "        print(f\"Student Name: {self.name}\")\n",
    "        print(f\"Grades: {self.grades}\")\n",
    "        print(f\"Average: {average:.2f}\")\n",
    "\n",
    "\n",
    "stud = Student(\"Asma\", [85, 90, 78, 92])\n",
    "stud.studentDetails()\n",
    "\n"
   ]
  },
  {
   "cell_type": "code",
   "execution_count": 3,
   "id": "a7f772f3-31dc-413b-b791-f3000291170a",
   "metadata": {},
   "outputs": [
    {
     "name": "stdout",
     "output_type": "stream",
     "text": [
      "Content copied successfully!\n",
      "Once upon a time in a small village, there lived a curious little girl named Aisha. \n",
      "She loved asking questions and exploring the world around her. One day, while walking \n",
      "through the forest, she found a tiny injured bird. Aisha gently picked it up and took it home. \n",
      "\n",
      "With care, love, and patience, she nursed the bird back to health. Soon, the bird \n",
      "was strong enough to fly again. It circled happily above Aisha before flying back into the forest.\n",
      "\n",
      "From that day on, Aisha believed that small acts of kindness could make the world \n",
      "a brighter place for everyone.\n"
     ]
    },
    {
     "name": "stderr",
     "output_type": "stream",
     "text": [
      "<>:1: SyntaxWarning: invalid escape sequence '\\P'\n",
      "<>:2: SyntaxWarning: invalid escape sequence '\\P'\n",
      "<>:1: SyntaxWarning: invalid escape sequence '\\P'\n",
      "<>:2: SyntaxWarning: invalid escape sequence '\\P'\n",
      "C:\\Users\\Admin\\AppData\\Local\\Temp\\ipykernel_7572\\3186317791.py:1: SyntaxWarning: invalid escape sequence '\\P'\n",
      "  source_file = \"D:\\Python Fundamentals\\simple_story.txt\"\n",
      "C:\\Users\\Admin\\AppData\\Local\\Temp\\ipykernel_7572\\3186317791.py:2: SyntaxWarning: invalid escape sequence '\\P'\n",
      "  destination_file = \"D:\\Python Fundamentals\\destination.txt\"\n"
     ]
    }
   ],
   "source": [
    "# 7. Copy content from one file to another using Python.\n",
    "\n",
    "source_file = \"D:\\Python Fundamentals\\simple_story.txt\"\n",
    "destination_file = \"D:\\Python Fundamentals\\destination.txt\"\n",
    "\n",
    "with open(source_file, \"r\") as src, open(destination_file, \"w\") as dest:\n",
    "    content = src.read()\n",
    "    dest.write(content)\n",
    "\n",
    "print(\"Content copied successfully!\")\n",
    "print(content)"
   ]
  },
  {
   "cell_type": "code",
   "execution_count": 24,
   "id": "b2c8ca9c-427d-4f39-80a9-6d85981d83c4",
   "metadata": {},
   "outputs": [
    {
     "name": "stdout",
     "output_type": "stream",
     "text": [
      "Second largest: 154\n"
     ]
    }
   ],
   "source": [
    "# 11. Create a function that accepts a list of number and return the second largest numgber.\n",
    "\n",
    "def second_largest(numbers):\n",
    "    newlist=list(set(numbers))\n",
    "    newlist.sort()\n",
    "    return newlist[-2]\n",
    "nums=[12, 154, -9, -43, 454, 143]\n",
    "print(\"Second largest:\",second_largest(nums))"
   ]
  },
  {
   "cell_type": "code",
   "execution_count": 25,
   "id": "f0bf30dc-cc0c-4a1f-be01-e42134ac7500",
   "metadata": {},
   "outputs": [
    {
     "name": "stdout",
     "output_type": "stream",
     "text": [
      "Number of words: 5\n"
     ]
    }
   ],
   "source": [
    "# 12. Write a funciton that takes a sentence and retuns the number of words in it.\n",
    "\n",
    "def count_words(sentence):\n",
    "    words = sentence.split()\n",
    "    count = 0\n",
    "    for word in words:\n",
    "        count += 1\n",
    "    return count\n",
    "\n",
    "sentence = \"Hello, My Name is Asma\"\n",
    "print(\"Number of words:\", count_words(sentence))\n"
   ]
  },
  {
   "cell_type": "code",
   "execution_count": 27,
   "id": "0d7723bc-cbbf-4a29-a227-68abfbc262bc",
   "metadata": {},
   "outputs": [
    {
     "name": "stdout",
     "output_type": "stream",
     "text": [
      "['P', 'y', 't', 'h', 'o', 'n', '_', 'r', 'g', 'a', 'm', 'i']\n"
     ]
    }
   ],
   "source": [
    "# 13. Create a function that retuns a list of all unique characters from a string.\n",
    "\n",
    "def unique(string):\n",
    "    uniquelist = []\n",
    "    for char in string:\n",
    "        if char not in uniquelist:\n",
    "            uniquelist.append(char)\n",
    "    return uniquelist\n",
    "\n",
    "str = \"Python_Programming\"\n",
    "print(unique(str))\n"
   ]
  },
  {
   "cell_type": "code",
   "execution_count": 2,
   "id": "5171c175-29fc-460c-85c4-642d51048ec0",
   "metadata": {},
   "outputs": [
    {
     "name": "stdout",
     "output_type": "stream",
     "text": [
      "=== Welcome to Simple Online Shop ===\n"
     ]
    },
    {
     "name": "stdin",
     "output_type": "stream",
     "text": [
      "Enter Your Name:  Shaheen\n",
      "Are you a Registered Customer? [yes/no]:  y\n",
      "Enter your Email:  asma@123gmail.com\n"
     ]
    },
    {
     "name": "stdout",
     "output_type": "stream",
     "text": [
      "\n",
      "Available Products:\n",
      "P001 | Mobile Phone | ₹15000\n",
      "P002 | Laptop | ₹50000\n",
      "P003 | Headphones | ₹2000\n",
      "P004 | Smartwatch | ₹5000\n",
      "\n",
      "1. Add Product to Cart\n",
      "2. Remove Product from Cart\n",
      "3. View Cart\n",
      "4. Checkout\n",
      "5. Exit\n",
      "        \n"
     ]
    },
    {
     "name": "stdin",
     "output_type": "stream",
     "text": [
      "Choose an option:  1\n",
      "Enter Product ID to Add:  P001\n"
     ]
    },
    {
     "name": "stdout",
     "output_type": "stream",
     "text": [
      "Mobile Phone added to cart.\n",
      "\n",
      "1. Add Product to Cart\n",
      "2. Remove Product from Cart\n",
      "3. View Cart\n",
      "4. Checkout\n",
      "5. Exit\n",
      "        \n"
     ]
    },
    {
     "name": "stdin",
     "output_type": "stream",
     "text": [
      "Choose an option:  1\n",
      "Enter Product ID to Add:  P002\n"
     ]
    },
    {
     "name": "stdout",
     "output_type": "stream",
     "text": [
      "Laptop added to cart.\n",
      "\n",
      "1. Add Product to Cart\n",
      "2. Remove Product from Cart\n",
      "3. View Cart\n",
      "4. Checkout\n",
      "5. Exit\n",
      "        \n"
     ]
    },
    {
     "name": "stdin",
     "output_type": "stream",
     "text": [
      "Choose an option:  5\n"
     ]
    },
    {
     "name": "stdout",
     "output_type": "stream",
     "text": [
      " Thank you! Come again.\n"
     ]
    }
   ],
   "source": [
    "# 14. Define a class Shopping Card that allows adding/removing items and calculating total.\n",
    "\n",
    "class Product:\n",
    "    def __init__(self, product_id, name, price):\n",
    "        self.product_id = product_id\n",
    "        self.name = name\n",
    "        self.price = price\n",
    "\n",
    "    def __str__(self):\n",
    "        return f\"{self.product_id} | {self.name} | ₹{self.price}\"\n",
    "\n",
    "class Cart:\n",
    "    def __init__(self):\n",
    "        self.products = []\n",
    "\n",
    "    def add_product(self, product):\n",
    "        self.products.append(product)\n",
    "        print(f\"{product.name} added to cart.\")\n",
    "\n",
    "    def remove_product(self, product_id):\n",
    "        for p in self.products:\n",
    "            if p.product_id == product_id:\n",
    "                self.products.remove(p)\n",
    "                print(f\"Product {p.name} removed from cart.\")\n",
    "                return\n",
    "        print(\" Product ID not found in cart.\")\n",
    "\n",
    "    def show_cart(self):\n",
    "        if not self.products:\n",
    "            print(\" Cart is empty.\")\n",
    "            return 0\n",
    "        print(\"\\n Your Cart Contents:\")\n",
    "        total = 0\n",
    "        for p in self.products:\n",
    "            print(f\"- {p}\")\n",
    "            total += p.price\n",
    "        print(f\" Total Price: ₹{total}\")\n",
    "        return total\n",
    "\n",
    "class Customer:\n",
    "    def __init__(self, name):\n",
    "        self.name = name\n",
    "        self.cart = Cart()\n",
    "\n",
    "    def checkout(self):\n",
    "        total = self.cart.show_cart()\n",
    "        print(f\"\\nCheckout for {self.name}. Total Amount: ₹{total}\")\n",
    "\n",
    "class GuestCustomer(Customer):\n",
    "    def checkout(self):\n",
    "        print(\"\\n Guest Checkout - Pay by cash/card at delivery.\")\n",
    "        super().checkout()\n",
    "\n",
    "class RegisteredCustomer(Customer):\n",
    "    def __init__(self, name, email):\n",
    "        super().__init__(name)\n",
    "        self.email = email\n",
    "\n",
    "    def checkout(self):\n",
    "        print(f\"\\n Registered Checkout - Confirmation email sent to {self.email}.\")\n",
    "        super().checkout()\n",
    "\n",
    "\n",
    "class Order:\n",
    "    order_counter = 100\n",
    "\n",
    "    def __init__(self, customer):\n",
    "        Order.order_counter += 1\n",
    "        self.__order_id = Order.order_counter\n",
    "        self.customer = customer\n",
    "        self.total_amount = customer.cart.show_cart()\n",
    "\n",
    "    \n",
    "    def show_order_details(self):\n",
    "        print(f\"\\n Order Details:\") \n",
    "        print(f\"Order ID: {self.__order_id}\")\n",
    "        print(f\"Customer Name: {self.customer.name}\")\n",
    "        print(f\"Total Amount: ₹{self.total_amount}\")\n",
    "\n",
    "\n",
    "def shopping_flow():\n",
    "    print(\"=== Welcome to Simple Online Shop ===\")\n",
    "    name = input(\"Enter Your Name: \")\n",
    "    customer_type = input(\"Are you a Registered Customer? [yes/no]: \").lower()\n",
    "\n",
    "    if customer_type in ['yes', 'y']:\n",
    "        email = input(\"Enter your Email: \")\n",
    "        customer = RegisteredCustomer(name, email)\n",
    "    else:\n",
    "        customer = GuestCustomer(name)\n",
    "\n",
    "    products = [\n",
    "        Product('P001', 'Mobile Phone', 15000),\n",
    "        Product('P002', 'Laptop', 50000),\n",
    "        Product('P003', 'Headphones', 2000),\n",
    "        Product('P004', 'Smartwatch', 5000),\n",
    "    ]\n",
    "\n",
    "    print(\"\\nAvailable Products:\")\n",
    "    for p in products:\n",
    "        print(p)\n",
    "\n",
    "    while True:\n",
    "        print(\"\"\"\n",
    "1. Add Product to Cart\n",
    "2. Remove Product from Cart\n",
    "3. View Cart\n",
    "4. Checkout\n",
    "5. Exit\n",
    "        \"\"\")\n",
    "        try:\n",
    "            choice = int(input(\"Choose an option: \"))\n",
    "        except ValueError:\n",
    "            print(\" Please enter a valid number.\")\n",
    "            continue\n",
    "\n",
    "        if choice == 1:\n",
    "            pid = input(\"Enter Product ID to Add: \")\n",
    "            product = next((p for p in products if p.product_id == pid), None)\n",
    "            if product:\n",
    "                customer.cart.add_product(product)\n",
    "            else:\n",
    "                print(\"Invalid Product ID.\")\n",
    "\n",
    "        elif choice == 2:\n",
    "            pid = input(\"Enter Product ID to Remove: \")\n",
    "            customer.cart.remove_product(pid)\n",
    "\n",
    "        elif choice == 3:\n",
    "            customer.cart.show_cart()\n",
    "\n",
    "        elif choice == 4:\n",
    "            customer.checkout()\n",
    "            order = Order(customer)\n",
    "            order.show_order_details()\n",
    "            print(\"\\n Thank you for shopping with us!\")\n",
    "            break\n",
    "\n",
    "        elif choice == 5:\n",
    "            print(\" Thank you! Come again.\")\n",
    "            break\n",
    "\n",
    "        else:\n",
    "            print(\" Invalid option. Try again.\")\n",
    "\n",
    "shopping_flow()\n"
   ]
  },
  {
   "cell_type": "markdown",
   "id": "e2b306c3-27c0-4735-a65d-53a8840da5da",
   "metadata": {},
   "source": []
  }
 ],
 "metadata": {
  "kernelspec": {
   "display_name": "Python 3 (ipykernel)",
   "language": "python",
   "name": "python3"
  },
  "language_info": {
   "codemirror_mode": {
    "name": "ipython",
    "version": 3
   },
   "file_extension": ".py",
   "mimetype": "text/x-python",
   "name": "python",
   "nbconvert_exporter": "python",
   "pygments_lexer": "ipython3",
   "version": "3.12.5"
  }
 },
 "nbformat": 4,
 "nbformat_minor": 5
}
