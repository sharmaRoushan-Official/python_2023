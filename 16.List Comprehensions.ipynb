{
 "cells": [
  {
   "cell_type": "markdown",
   "id": "0288a14f-88af-41d0-87cb-11dcc786be22",
   "metadata": {},
   "source": [
    "# 16. List Comprehensions\n",
    "\n",
    " * __List Comprehensions in Python is an easy and compact syntax for creating a list from a string or another list.__\n",
    " * __It is very concise way to create a new list by operating on each item in the existing list.__\n",
    " * __List comprehension is considerably faster than processing a list using the for loop.__"
   ]
  },
  {
   "cell_type": "code",
   "execution_count": 1,
   "id": "e178df27-a7fc-4634-b8ea-d9ef678966c0",
   "metadata": {},
   "outputs": [
    {
     "name": "stdout",
     "output_type": "stream",
     "text": [
      "1\n",
      "2\n",
      "3\n",
      "4\n",
      "5\n",
      "6\n",
      "7\n",
      "8\n",
      "9\n",
      "10\n"
     ]
    }
   ],
   "source": [
    "for i in range(1,11):\n",
    "    print(i)"
   ]
  },
  {
   "cell_type": "code",
   "execution_count": 2,
   "id": "26ab49c9-e065-4737-a63e-b9929f585df4",
   "metadata": {},
   "outputs": [
    {
     "data": {
      "text/plain": [
       "[1, 2, 3, 4, 5, 6, 7, 8, 9, 10]"
      ]
     },
     "execution_count": 2,
     "metadata": {},
     "output_type": "execute_result"
    }
   ],
   "source": [
    "[i for i in range(1,11)]"
   ]
  },
  {
   "cell_type": "code",
   "execution_count": 3,
   "id": "1345c906-9116-468a-9be6-75bd9ef6efec",
   "metadata": {},
   "outputs": [
    {
     "name": "stdout",
     "output_type": "stream",
     "text": [
      "2\n",
      "4\n",
      "6\n",
      "8\n",
      "10\n"
     ]
    }
   ],
   "source": [
    "for x in range(1,11):\n",
    "    if x%2==0:\n",
    "        print(x)"
   ]
  },
  {
   "cell_type": "code",
   "execution_count": 6,
   "id": "06d93eee-9a17-4ccf-b030-7e4f8dd2323c",
   "metadata": {},
   "outputs": [
    {
     "data": {
      "text/plain": [
       "[2, 4, 6, 8, 10]"
      ]
     },
     "execution_count": 6,
     "metadata": {},
     "output_type": "execute_result"
    }
   ],
   "source": [
    "[a for a in range(1,11) if a%2==0]"
   ]
  },
  {
   "cell_type": "code",
   "execution_count": 7,
   "id": "afac2542-bc22-42f6-80d0-10f5a52a13d3",
   "metadata": {},
   "outputs": [
    {
     "data": {
      "text/plain": [
       "[1, 3, 5, 7, 9, 11, 13, 15, 17, 19]"
      ]
     },
     "execution_count": 7,
     "metadata": {},
     "output_type": "execute_result"
    }
   ],
   "source": [
    "[b for b in range(1,21) if b%2!=0]"
   ]
  },
  {
   "cell_type": "code",
   "execution_count": 8,
   "id": "5bc9cf63-ba70-4b91-bb4d-9187b64f910d",
   "metadata": {},
   "outputs": [],
   "source": [
    "lang = ['Python',\"C++\",\"C\",\"C#\",\"ForTran\",\"BASIC\",'Java']\n",
    "\n"
   ]
  },
  {
   "cell_type": "code",
   "execution_count": 14,
   "id": "c8a3df90-bf6e-48d2-98ed-e63d79ec4997",
   "metadata": {},
   "outputs": [
    {
     "name": "stdout",
     "output_type": "stream",
     "text": [
      "['C++', 'c']\n"
     ]
    }
   ],
   "source": [
    "a= [\"Phython\", \"C++\", \"c\"]\n",
    "\n",
    "ans = [i for i in a if i[0]== \"C\" or i[0] == \"c\"]\n",
    "print(ans)"
   ]
  },
  {
   "cell_type": "code",
   "execution_count": 17,
   "id": "5b01e9f6-ad99-425b-a735-208eba86556c",
   "metadata": {},
   "outputs": [
    {
     "data": {
      "text/plain": [
       "['C++', 'C', 'C#', 'c']"
      ]
     },
     "execution_count": 17,
     "metadata": {},
     "output_type": "execute_result"
    }
   ],
   "source": [
    "lang = ['Python','C++','C','C#','Fortran','BASIC','Java','c']\n",
    "[i for i in lang if i.startswith('C') or i.startswith('c')  ]"
   ]
  },
  {
   "cell_type": "code",
   "execution_count": 19,
   "id": "b55c8454-a46d-48c5-b7dd-6db4c14a314b",
   "metadata": {},
   "outputs": [
    {
     "name": "stdout",
     "output_type": "stream",
     "text": [
      "['C++', 'c']\n"
     ]
    }
   ],
   "source": [
    "a= [\"Phython\", \"C++\", \"c\"]\n",
    "\n",
    "ans = [i for i in a if i[0].upper()== \"C\"]\n",
    "print(ans)"
   ]
  },
  {
   "cell_type": "code",
   "execution_count": null,
   "id": "af705887-dcc2-4372-bab2-05d42d2664bd",
   "metadata": {},
   "outputs": [],
   "source": []
  }
 ],
 "metadata": {
  "kernelspec": {
   "display_name": "Python 3 (ipykernel)",
   "language": "python",
   "name": "python3"
  },
  "language_info": {
   "codemirror_mode": {
    "name": "ipython",
    "version": 3
   },
   "file_extension": ".py",
   "mimetype": "text/x-python",
   "name": "python",
   "nbconvert_exporter": "python",
   "pygments_lexer": "ipython3",
   "version": "3.13.7"
  }
 },
 "nbformat": 4,
 "nbformat_minor": 5
}
