{
 "cells": [
  {
   "cell_type": "markdown",
   "id": "7a5ac269-15a7-4246-8e81-20b62a92a72e",
   "metadata": {},
   "source": [
    "# 12. Classes and Objects in Python\n",
    "\n",
    " * __Python is an object-oriented programming language.__\n",
    " * __Unlike procedure-oriented programming, where the main emphasis is on functions, object-oriented programming stresses on objects.__\n",
    " * __An object is simply a collection of data(variable) and methods(function) that act on those data.__\n",
    " * __Similarly, a class is a blueprint for that object.__\n",
    " * __Like function defintion begin with the def keyword in Python, class defintion begins with a class keyword.__\n",
    " * __The first string inside the class is called docstring and has a brief description of the class.__\n",
    " * __Although not mandatory, this is highly recommended.__\n",
    "   * __Syntax:__\n",
    "   * __class student:__\n",
    "     * __ school_name = \"ABC School\"__\n",
    "     * __`def __init__(self, name, age)`__\n",
    "         * __self.name = name__\n",
    "         * __self.age = age__\n",
    "   * __obj = student('Harry Proter',25)__\n",
    "   * __obj.name__\n",
    "   * __obj.age__ \n"
   ]
  },
  {
   "cell_type": "code",
   "execution_count": 1,
   "id": "fcc8c16a-21ef-4d5c-b08a-0a07f4ae6f93",
   "metadata": {},
   "outputs": [
    {
     "data": {
      "text/plain": [
       "<__main__.Data at 0x1f3d7f91160>"
      ]
     },
     "execution_count": 1,
     "metadata": {},
     "output_type": "execute_result"
    }
   ],
   "source": [
    "class Data:\n",
    "    num = 3.147\n",
    "    num2 = 10\n",
    "Data()"
   ]
  },
  {
   "cell_type": "code",
   "execution_count": 2,
   "id": "6671cb03-8da6-4ce2-a6b0-be3175fd9d4e",
   "metadata": {},
   "outputs": [
    {
     "data": {
      "text/plain": [
       "2146793435936"
      ]
     },
     "execution_count": 2,
     "metadata": {},
     "output_type": "execute_result"
    }
   ],
   "source": [
    "id(Data)"
   ]
  },
  {
   "cell_type": "code",
   "execution_count": 3,
   "id": "a714b76c-e6c0-44c7-bc34-0d6a18f5ec35",
   "metadata": {},
   "outputs": [
    {
     "data": {
      "text/plain": [
       "3.147"
      ]
     },
     "execution_count": 3,
     "metadata": {},
     "output_type": "execute_result"
    }
   ],
   "source": [
    "Data.num"
   ]
  },
  {
   "cell_type": "code",
   "execution_count": 4,
   "id": "90142669-8bcd-4f7e-b222-757960eb2ae4",
   "metadata": {},
   "outputs": [
    {
     "data": {
      "text/plain": [
       "10"
      ]
     },
     "execution_count": 4,
     "metadata": {},
     "output_type": "execute_result"
    }
   ],
   "source": [
    "Data.num2"
   ]
  },
  {
   "cell_type": "code",
   "execution_count": 6,
   "id": "60187836-89df-4a73-9cc3-f7f12d971cf0",
   "metadata": {},
   "outputs": [
    {
     "data": {
      "text/plain": [
       "3.147"
      ]
     },
     "execution_count": 6,
     "metadata": {},
     "output_type": "execute_result"
    }
   ],
   "source": [
    "obj = Data()\n",
    "obj.num"
   ]
  },
  {
   "cell_type": "code",
   "execution_count": 7,
   "id": "3fb0ecb2-40a4-42f1-aa4b-edb38ff65397",
   "metadata": {},
   "outputs": [
    {
     "data": {
      "text/plain": [
       "10"
      ]
     },
     "execution_count": 7,
     "metadata": {},
     "output_type": "execute_result"
    }
   ],
   "source": [
    "obj.num2"
   ]
  },
  {
   "cell_type": "code",
   "execution_count": 9,
   "id": "792911eb-fb36-459a-96c6-3fcd228965ca",
   "metadata": {},
   "outputs": [
    {
     "data": {
      "text/plain": [
       "__main__.Data"
      ]
     },
     "execution_count": 9,
     "metadata": {},
     "output_type": "execute_result"
    }
   ],
   "source": [
    "type(Data())"
   ]
  },
  {
   "cell_type": "code",
   "execution_count": 12,
   "id": "262a952f-b884-4417-9d27-4f92bd219775",
   "metadata": {},
   "outputs": [
    {
     "name": "stdout",
     "output_type": "stream",
     "text": [
      "Asma\n",
      "15\n",
      "MP\n"
     ]
    }
   ],
   "source": [
    "class student:\n",
    "    def __init__(self,name,age,mobNo):\n",
    "        self.name = name\n",
    "        self.age = age\n",
    "        self.mobNo = mobNo\n",
    "\n",
    "\n",
    "obj = student(\"Asma\",15,\"MP\")\n",
    "print(obj.name)\n",
    "print(obj.age)\n",
    "print(obj.mobNo)"
   ]
  },
  {
   "cell_type": "code",
   "execution_count": 17,
   "id": "2b91cd33-1709-4afb-92d1-90263aab2363",
   "metadata": {},
   "outputs": [
    {
     "name": "stdout",
     "output_type": "stream",
     "text": [
      "Aditya\n",
      "16\n",
      "Kerala\n"
     ]
    }
   ],
   "source": [
    "obj2 = student(\"Aditya\",16,\"Kerala\")\n",
    "print(obj2.name)\n",
    "print(obj2.age)\n",
    "print(obj2.mobNo)"
   ]
  },
  {
   "cell_type": "code",
   "execution_count": 18,
   "id": "b10ddaa7-e2a7-42dc-98b9-0b1f6f5089f9",
   "metadata": {},
   "outputs": [
    {
     "data": {
      "text/plain": [
       "'Asma'"
      ]
     },
     "execution_count": 18,
     "metadata": {},
     "output_type": "execute_result"
    }
   ],
   "source": [
    "obj.name"
   ]
  },
  {
   "cell_type": "code",
   "execution_count": 19,
   "id": "060f733e-2ea7-4196-a1fe-0997ed96cee3",
   "metadata": {},
   "outputs": [
    {
     "data": {
      "text/plain": [
       "'Aditya'"
      ]
     },
     "execution_count": 19,
     "metadata": {},
     "output_type": "execute_result"
    }
   ],
   "source": [
    "obj2.name"
   ]
  },
  {
   "cell_type": "code",
   "execution_count": 24,
   "id": "a46d41b7-69c7-49af-9cd6-d466b0618330",
   "metadata": {},
   "outputs": [
    {
     "name": "stdout",
     "output_type": "stream",
     "text": [
      "Myself Ganesh\n",
      "Ganesh age is: 45\n",
      "Ganesh Live at: Tamil\n"
     ]
    }
   ],
   "source": [
    "class student:\n",
    "    def __init__(self,name,age,address):\n",
    "        self.name = name\n",
    "        self.age = age\n",
    "        self.address = address\n",
    "\n",
    "\n",
    "    # method\n",
    "    def studentDetails(self):\n",
    "        print(f\"Myself {self.name}\")\n",
    "        print(f\"{self.name} age is: {self.age}\")\n",
    "        print(f\"{self.name} Live at: {self.address}\")\n",
    "        \n",
    "obj = student('Ganesh',45,\"Tamil\")\n",
    "# print(obj.name)\n",
    "# print(obj.age)\n",
    "# print(obj.address)\n",
    "\n",
    "obj.studentDetails()"
   ]
  },
  {
   "cell_type": "code",
   "execution_count": 25,
   "id": "d02b6f2e-11b5-4966-8ad5-47b665e7b69e",
   "metadata": {},
   "outputs": [
    {
     "name": "stdout",
     "output_type": "stream",
     "text": [
      "Myself Asma\n",
      "Asma age is: 25\n",
      "Asma Live at: Orrisa\n"
     ]
    }
   ],
   "source": [
    "obj3 = student('Asma',25,'Orrisa')\n",
    "obj3.studentDetails()"
   ]
  },
  {
   "cell_type": "code",
   "execution_count": 30,
   "id": "3574ea8e-3151-480f-9928-0f97981c751e",
   "metadata": {},
   "outputs": [
    {
     "name": "stdout",
     "output_type": "stream",
     "text": [
      "Area of circle is: 314.1592653589793 cm²\n",
      "Circumference of Circle: 62.83185307179586 cm\n"
     ]
    }
   ],
   "source": [
    "# mathematical calculation\n",
    "import math\n",
    "class circle:  # class\n",
    "    def __init__(self,radius):  # constructor\n",
    "        self.radius = radius\n",
    "\n",
    "    # method\n",
    "    def detailsCircle(self):\n",
    "        area = math.pi*self.radius*self.radius\n",
    "        circumference = 2*math.pi*self.radius\n",
    "        print(f\"Area of circle is:\",area,\"cm²\")\n",
    "        print(f\"Circumference of Circle:\",circumference,\"cm\")\n",
    "\n",
    "\n",
    "circle1 = circle(10)  # object circle1  of class circle\n",
    "circle1.detailsCircle()  # calls method of details of circle."
   ]
  },
  {
   "cell_type": "code",
   "execution_count": 32,
   "id": "7ee88042-bf10-4119-83af-7418609e0949",
   "metadata": {},
   "outputs": [
    {
     "name": "stdout",
     "output_type": "stream",
     "text": [
      "Area of circle is: 7853.981633974483 cm²\n",
      "Circumference of Circle: 314.1592653589793 cm\n"
     ]
    }
   ],
   "source": [
    "circle2 = circle(50)\n",
    "circle2.detailsCircle()"
   ]
  },
  {
   "cell_type": "code",
   "execution_count": 33,
   "id": "d990a79b-9701-4cae-8816-650d915bb1bb",
   "metadata": {},
   "outputs": [
    {
     "name": "stdout",
     "output_type": "stream",
     "text": [
      "Area of circle is: 530.929158456675 cm²\n",
      "Circumference of Circle: 81.68140899333463 cm\n"
     ]
    }
   ],
   "source": [
    "cir3 = circle(13)\n",
    "cir3.detailsCircle()"
   ]
  },
  {
   "cell_type": "code",
   "execution_count": 1,
   "id": "9b245ea1-f5a3-42dd-809e-235f7c5b180e",
   "metadata": {},
   "outputs": [
    {
     "name": "stdout",
     "output_type": "stream",
     "text": [
      "The are of squaer is:100 Cm²\n",
      "Perimeter of Square is:40 Cm\n"
     ]
    }
   ],
   "source": [
    "# Wrp to find the area of square and thier perimeter of square using class and object.\n",
    "\n",
    "class square:\n",
    "    def __init__(self,side):\n",
    "        self.side = side\n",
    "\n",
    "    # method\n",
    "\n",
    "    def detailsSquare(self):\n",
    "        area = self.side*self.side\n",
    "        perimeter = 4*self.side\n",
    "        print(f\"The are of squaer is:{area} Cm²\\nPerimeter of Square is:{perimeter} Cm\")\n",
    "\n",
    "\n",
    "sqr1 = square(10)\n",
    "sqr1.detailsSquare()"
   ]
  },
  {
   "cell_type": "code",
   "execution_count": 2,
   "id": "c5e94915-a578-42b5-a570-99319620d629",
   "metadata": {},
   "outputs": [
    {
     "name": "stdout",
     "output_type": "stream",
     "text": [
      "The are of squaer is:400 Cm²\n",
      "Perimeter of Square is:80 Cm\n"
     ]
    }
   ],
   "source": [
    "sqr2 = square(20)\n",
    "sqr2.detailsSquare()"
   ]
  },
  {
   "cell_type": "code",
   "execution_count": 6,
   "id": "e95c4331-bfea-4ca9-aabd-6b48d1fcd5bd",
   "metadata": {},
   "outputs": [
    {
     "name": "stdin",
     "output_type": "stream",
     "text": [
      "Enter the Side of Square:  50.23\n"
     ]
    },
    {
     "name": "stdout",
     "output_type": "stream",
     "text": [
      "The are of squaer is:2523.0528999999997 Cm²\n",
      "Perimeter of Square is:200.92 Cm\n"
     ]
    }
   ],
   "source": [
    "# 1. Wrp to find the area of square and thier perimeter of square using class and object.\n",
    "\n",
    "class square:\n",
    "    def __init__(self):\n",
    "        self.side = float(input(\"Enter the Side of Square: \"))\n",
    "\n",
    "    # method\n",
    "\n",
    "    def detailsSquare(self):\n",
    "        area = self.side*self.side\n",
    "        perimeter = 4*self.side\n",
    "        print(f\"The are of squaer is:{area} Cm²\\nPerimeter of Square is:{perimeter} Cm\")\n",
    "\n",
    "sqr1 = square()\n",
    "sqr1.detailsSquare()"
   ]
  },
  {
   "cell_type": "code",
   "execution_count": 8,
   "id": "967cdf83-e55f-48ed-b024-f2526d876a0d",
   "metadata": {},
   "outputs": [
    {
     "name": "stdout",
     "output_type": "stream",
     "text": [
      "The area of a rectangle of  10 and 12 is: 120 Cm²\n",
      "The perimeter of a rectangle of side_length 10 and 12  is: 44 Cm\n"
     ]
    }
   ],
   "source": [
    "# 2. wap to find area of rectangle and thier perimeter\n",
    "\n",
    "\n",
    "# Aditya Pimpale\n",
    "# 4:14 PM\n",
    "class rectangle:\n",
    "    def __init__(self,length,breadth):\n",
    "        self.length = length\n",
    "        self.breadth  = breadth\n",
    "\n",
    "    def rectangleCal(self):\n",
    "        area = self.length * self.breadth\n",
    "        peri = 2* (self.length + self.breadth)\n",
    "        print(f\"The area of a rectangle of  {self.length} and {self.breadth} is: {area} Cm²\")\n",
    "        print(f\"The perimeter of a rectangle of side_length {self.length} and {self.breadth}  is: {peri} Cm\")\n",
    "rect1 =  rectangle(10,12)\n",
    "rect1.rectangleCal()"
   ]
  },
  {
   "cell_type": "code",
   "execution_count": 15,
   "id": "53fcbfbb-1dc5-4b3c-bd63-1962d85d026e",
   "metadata": {},
   "outputs": [
    {
     "name": "stdout",
     "output_type": "stream",
     "text": [
      "Area of circle is:314.1592653589793 Cm²\n",
      "Circumference of Circle is:62.83185307179586 Cm\n"
     ]
    }
   ],
   "source": [
    "#3. wap to find area of circle and their circumference and their diameter.\n",
    "\n",
    "import math\n",
    "\n",
    "class circle:\n",
    "    def __init__(self,radius):\n",
    "        self.radius = radius\n",
    "\n",
    "\n",
    "    def detailsCircle(self):\n",
    "        area = math.pi*self.radius**2\n",
    "        circumference = 2*math.pi*self.radius\n",
    "        print(f'Area of circle is:{area} Cm²')\n",
    "        print(f\"Circumference of Circle is:{circumference} Cm\")\n",
    "\n",
    "circle1 = circle(10)\n",
    "circle1.detailsCircle()"
   ]
  },
  {
   "cell_type": "code",
   "execution_count": 12,
   "id": "ddb8de63-dfe3-4b3d-ae4d-6502fdd56bd9",
   "metadata": {},
   "outputs": [
    {
     "name": "stdout",
     "output_type": "stream",
     "text": [
      "Area of circle is:7853.981633974483 Cm²\n",
      "Circumference of Circle is:314.1592653589793 Cm\n"
     ]
    }
   ],
   "source": [
    "circle2 = circle(50)\n",
    "circle2.detailsCircle()"
   ]
  },
  {
   "cell_type": "code",
   "execution_count": 13,
   "id": "bb4ae924-cc2b-4d2a-98ed-9b977181da25",
   "metadata": {},
   "outputs": [
    {
     "name": "stdout",
     "output_type": "stream",
     "text": [
      "the area of the circle of 5 is : 78.53981633974483 cm²\n",
      "the circumference of the circle of 10 is: 31.41592653589793cm\n"
     ]
    }
   ],
   "source": [
    "import math\n",
    "class circle:\n",
    "    def __init__(self,radius,diameter):\n",
    "        self.radius = radius\n",
    "        self.diameter = diameter\n",
    "    def circleCal(self):\n",
    "        area = math.pi * (self.radius ** 2)\n",
    "        circum = math.pi * self.diameter\n",
    "        print(f\"the area of the circle of {self.radius} is : {area} cm²\")\n",
    "        print(f\"the circumference of the circle of {self.diameter} is: {circum}cm\")\n",
    "circle1 = circle(5,10)\n",
    "circle1.circleCal()"
   ]
  },
  {
   "cell_type": "code",
   "execution_count": 16,
   "id": "b40587e5-683e-45bf-97a4-22d3fd0b43a3",
   "metadata": {},
   "outputs": [
    {
     "name": "stdout",
     "output_type": "stream",
     "text": [
      "Area of circle is:78.53981633974483 Cm²\n",
      "Circumference of Circle is:31.41592653589793 Cm\n"
     ]
    }
   ],
   "source": [
    "circle2 = circle(5)\n",
    "circle2.detailsCircle()"
   ]
  },
  {
   "cell_type": "code",
   "execution_count": 41,
   "id": "c86ba6d9-8de2-4a01-b408-f844c96525c0",
   "metadata": {},
   "outputs": [
    {
     "name": "stdout",
     "output_type": "stream",
     "text": [
      "Value can't be in Negative\n"
     ]
    }
   ],
   "source": [
    "#4. find the area scalen triangle and their perimeter.\n",
    "\n",
    "# Area  = (1/2) x b x h square units\n",
    "# s = (a+b+c)/2\n",
    "# Area of the triangle A = √s(s - a)(s - b)(s - c) square units\n",
    "\n",
    "class scalenTriangle:\n",
    "    def __init__(self,a,b,c):\n",
    "        self.a = a\n",
    "        self.b = b\n",
    "        self.c = c\n",
    "\n",
    "    def detailsScalenTriangle(self):\n",
    "        if self.a>0 and self.b>0 and self.c>0:\n",
    "            if self.a+self.b>self.a or self.a+sel.c>self.b or self.a>self.b+self.c:\n",
    "                side = (self.a+self.b+self.c)/2\n",
    "                try:\n",
    "                    areaofScalen = math.sqrt(side*(side-self.a)*(side-self.b)*(side-self.c))\n",
    "                except ValueError:\n",
    "                    print(\"Enter A Valid Triangle Value\")\n",
    "                else:\n",
    "                    print(f\"Side of Scalen Triangle is:{side} Cm\\nArea of Scalen Triangle is:{areaofScalen} Cm²\")\n",
    "            else:\n",
    "                print('Enter a Valid Triangle value.')\n",
    "        else:\n",
    "            print(\"Value can't be in Negative\")\n",
    "            \n",
    "scalen1 = scalenTriangle(-7,10,5)\n",
    "scalen1.detailsScalenTriangle()"
   ]
  },
  {
   "cell_type": "code",
   "execution_count": 45,
   "id": "20e89ab8-9ee5-4f19-b366-9a0fd4ea1f4a",
   "metadata": {},
   "outputs": [
    {
     "name": "stdout",
     "output_type": "stream",
     "text": [
      "Side of Scalen Triangle is:16.0 Cm\n",
      "Area of Scalen Triangle is:48.0 Cm²\n"
     ]
    }
   ],
   "source": [
    "scalen2 = scalenTriangle(10,10,12)\n",
    "scalen2.detailsScalenTriangle()"
   ]
  },
  {
   "cell_type": "code",
   "execution_count": 46,
   "id": "9da3f1ce-40e8-4292-9fb6-9863c57a8f38",
   "metadata": {},
   "outputs": [
    {
     "name": "stdout",
     "output_type": "stream",
     "text": [
      "perimater is:24\n",
      "area is:27.712812921102035\n"
     ]
    }
   ],
   "source": [
    "# 5. find the area of equilateral triangle and their perimeter.\n",
    "\n",
    "class equilateralTri:\n",
    "    def __init__(self,a,b,c,ang_A,ang_B,ang_C):\n",
    "        self.a = a\n",
    "        self.b = b\n",
    "        self.c = c\n",
    "        self.ang_A = ang_A\n",
    "        self.ang_B = ang_B\n",
    "        self.ang_C = ang_C\n",
    "    def equiTri(self):\n",
    "        if self.a == self.b == self.c:\n",
    "            if self.ang_A + self.ang_B + self.ang_C == 180:\n",
    "                if self.ang_A == self.ang_B == self.ang_C == 60:\n",
    "                    peri = self.a + self.b + self.c\n",
    "                    area = ((3 ** 0.5) / 4) * (self.a ** 2)\n",
    "                    print(f\"perimater is:{peri}\")\n",
    "                    print(f\"area is:{area}\")\n",
    "                else:\n",
    "                    print(\"angles not equal\")\n",
    "            else:\n",
    "                print(\"sum of angles not equal to 180 degree\")\n",
    "        else: \n",
    "            print(\"Sides not equal\")\n",
    "tri1 = equilateralTri(8,8,8,60,60,60)\n",
    "tri1.equiTri()"
   ]
  },
  {
   "cell_type": "code",
   "execution_count": 47,
   "id": "f01e102b-6415-415c-96ac-cd8c63522eb1",
   "metadata": {},
   "outputs": [
    {
     "name": "stdout",
     "output_type": "stream",
     "text": [
      "10.825317547305483\n",
      "15\n"
     ]
    }
   ],
   "source": [
    "#5. find the area of equilateral triangle and their perimeter.\n",
    "class Equilateral:\n",
    "    def __init__(self, a):\n",
    "        self.side = a\n",
    "\n",
    "    def area_equilateral(self):\n",
    "        area = (math.sqrt(3)/4)*(self.side*self.side)\n",
    "        print(area)\n",
    "\n",
    "    def perimeter_equilateral(self):\n",
    "        perimeter = 3*self.side\n",
    "        print(perimeter)\n",
    "\n",
    "equilateral = Equilateral(5)\n",
    "equilateral.area_equilateral()\n",
    "equilateral.perimeter_equilateral()"
   ]
  },
  {
   "cell_type": "code",
   "execution_count": 49,
   "id": "af0def82-e301-4e9a-aa4e-efb37286caa0",
   "metadata": {},
   "outputs": [
    {
     "name": "stdout",
     "output_type": "stream",
     "text": [
      "Perimeter of the triangle: 105 Cm\n",
      "Area of the triangle: 530.4405598179686 Cm²\n"
     ]
    }
   ],
   "source": [
    "import math\n",
    "\n",
    "class equilateralTriangle:\n",
    "    def __init__(self, side):\n",
    "        self.side = side  \n",
    "\n",
    "    def calculate(self):\n",
    "        perimeter = 3 * self.side\n",
    "        area = (math.sqrt(3) / 4) * (self.side ** 2)\n",
    "\n",
    "        print(\"Perimeter of the triangle:\", perimeter,\"Cm\")\n",
    "        print(\"Area of the triangle:\", area,\"Cm²\")\n",
    "triangle=equilateralTriangle(35)\n",
    "triangle.calculate()"
   ]
  },
  {
   "cell_type": "code",
   "execution_count": 56,
   "id": "7b40c6ef-58d2-4cbb-bb74-6fd2bfec29da",
   "metadata": {},
   "outputs": [
    {
     "name": "stdout",
     "output_type": "stream",
     "text": [
      "Area of Right Angled Triangle is:250.0 Cm²\n",
      "Perimeter of Right Angled Triangle is:110.99019513592785 Cm\n"
     ]
    }
   ],
   "source": [
    "#6. find the area of right-angle triangle and thier perimeter.\n",
    "\n",
    "\n",
    "# Hypotenuse = √(Perpendicular2 + Base2)\n",
    "\n",
    "# Area of Right Angle Triangle = ½ (Base × Perpendicular)\n",
    "\n",
    "class rightAngleTriangle:\n",
    "    def __init__(self,perpendicular,base):\n",
    "        self.perpendicular = perpendicular\n",
    "        self.base = base\n",
    "\n",
    "    def detailsRightTrianlge(self):\n",
    "        h = math.sqrt(self.perpendicular**2+self.base**2)\n",
    "        # print(h)\n",
    "        area = 1/2*(self.base*self.perpendicular)\n",
    "        print(f'Area of Right Angled Triangle is:{area} Cm²')\n",
    "        perimeter = h+self.base+self.perpendicular\n",
    "        print(f\"Perimeter of Right Angled Triangle is:{perimeter} Cm\")\n",
    "\n",
    "\n",
    "trianlge = rightAngleTriangle(10,50)\n",
    "trianlge.detailsRightTrianlge()"
   ]
  },
  {
   "cell_type": "code",
   "execution_count": 61,
   "id": "36a2a8e8-cff5-43b8-ba40-32188ecef679",
   "metadata": {},
   "outputs": [
    {
     "name": "stdout",
     "output_type": "stream",
     "text": [
      "Area of Rhombus: 40.0\n",
      "Perimeter of Rhombus: 24\n"
     ]
    }
   ],
   "source": [
    "#7. find the are of rhombus and thier perimeter.\n",
    "\n",
    "# Area of a Rhombus = A = ½ × d1 × d2\n",
    "class Rhombus:\n",
    "    def __init__(self, side, d1, d2):\n",
    "        self.side = side      \n",
    "        self.d1 = d1\n",
    "        self.d2 = d2\n",
    "    def detailsRhombus(self):      \n",
    "        area =1/2 * (self.d1 * self.d2)       \n",
    "        perimeter = 4 * self.side\n",
    "        print(f\"Area of Rhombus: {area}\")\n",
    "        print(f\"Perimeter of Rhombus: {perimeter}\")\n",
    "\n",
    "calculate = Rhombus(6, 10, 8)   \n",
    "calculate.detailsRhombus()\n"
   ]
  },
  {
   "cell_type": "code",
   "execution_count": 60,
   "id": "828d942c-9554-4bdc-8cf4-a2d7d27b28b7",
   "metadata": {},
   "outputs": [
    {
     "name": "stdout",
     "output_type": "stream",
     "text": [
      "7.154544010627092\n",
      "13\n"
     ]
    }
   ],
   "source": [
    "#8. find the area of isosclaes triangle and their perimeter.\n",
    "# Area = ½ × base × Height\n",
    "\n",
    "\n",
    "# The perimeter of the isosceles triangle\tP = 2a + b\n",
    "\n",
    "\n",
    "class Isosceles:\n",
    "    def __init__(self, equal_side, base):\n",
    "        self.a = equal_side\n",
    "        self.b = base\n",
    "\n",
    "    def area_iso(self):\n",
    "        h = math.sqrt((self.a ** 2) - (self.b / 2) ** 2)\n",
    "        area = 1/2 * self.b * h\n",
    "        print(area)\n",
    "    def perimeter_iso(self):\n",
    "        perimeter = 2 * self.a + self.b\n",
    "        print(perimeter)\n",
    "isosceles = Isosceles(5, 3)\n",
    "isosceles.area_iso()\n",
    "isosceles.perimeter_iso()"
   ]
  },
  {
   "cell_type": "code",
   "execution_count": 63,
   "id": "a04c9571-edb3-4dc5-91fd-bbe0d055a489",
   "metadata": {},
   "outputs": [
    {
     "name": "stdout",
     "output_type": "stream",
     "text": [
      "area: 50 Cm²\n",
      "20 cm\n"
     ]
    }
   ],
   "source": [
    "class Rhombus:\n",
    "    def __init__(self, base, perpendiclar):\n",
    "        self.b = base\n",
    "        self.p = perpendiclar\n",
    "\n",
    "    def area_Rhombus(self):\n",
    "        area = self.b * self.p\n",
    "        print(f\"area: {area} Cm²\")\n",
    "\n",
    "    def perimeter_Rhombus(self):\n",
    "        perimeter = 4* self.b\n",
    "        print(perimeter,\"cm\")\n",
    "rhombus = Rhombus(5, 10)\n",
    "rhombus.area_Rhombus()\n",
    "rhombus.perimeter_Rhombus()"
   ]
  },
  {
   "cell_type": "code",
   "execution_count": 64,
   "id": "d616def4-2299-4b93-a261-d85ea7c8bfce",
   "metadata": {},
   "outputs": [],
   "source": [
    "#9. find the are of parallelogram and their perimter.\n",
    "\n"
   ]
  },
  {
   "cell_type": "markdown",
   "id": "9e9ecefc-bab5-4803-a433-529705b9a46f",
   "metadata": {},
   "source": [
    "# Pillars of OOPs\n",
    "\n",
    "## 🔹 Inheritance\n",
    "- **Single / Simple Inheritance**  \n",
    "- **Multilevel Inheritance**  \n",
    "- **Multiple Inheritance**  \n",
    "- **Hierarchical Inheritance**  \n",
    "- **Hybrid Inheritance**  \n",
    "\n",
    "## 🔹 Polymorphism\n",
    "- **Overriding (Run-Time)**  \n",
    "  - Same name, same parameter  \n",
    "  - Dynamic  \n",
    "- **Overloading (Compile-Time)**  \n",
    "  - Same name, different parameter  \n",
    "  - Static  \n",
    "\n",
    "## 🔹 Encapsulation\n",
    "- **Protected**  \n",
    "- **Private**  \n",
    "- **Public**  \n",
    "\n",
    "## 🔹 Data Abstraction\n",
    "- Hiding implementation details  \n",
    "- Showing only essential features  \n",
    "\n"
   ]
  },
  {
   "cell_type": "code",
   "execution_count": null,
   "id": "4f91e622-038d-4e83-856e-adf8393b3697",
   "metadata": {},
   "outputs": [],
   "source": []
  }
 ],
 "metadata": {
  "kernelspec": {
   "display_name": "Python 3 (ipykernel)",
   "language": "python",
   "name": "python3"
  },
  "language_info": {
   "codemirror_mode": {
    "name": "ipython",
    "version": 3
   },
   "file_extension": ".py",
   "mimetype": "text/x-python",
   "name": "python",
   "nbconvert_exporter": "python",
   "pygments_lexer": "ipython3",
   "version": "3.13.7"
  }
 },
 "nbformat": 4,
 "nbformat_minor": 5
}
