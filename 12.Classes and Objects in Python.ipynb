{
 "cells": [
  {
   "cell_type": "markdown",
   "id": "7a5ac269-15a7-4246-8e81-20b62a92a72e",
   "metadata": {},
   "source": [
    "# 12. Classes and Objects in Python\n",
    "\n",
    " * __Python is an object-oriented programming language.__\n",
    " * __Unlike procedure-oriented programming, where the main emphasis is on functions, object-oriented programming stresses on objects.__\n",
    " * __An object is simply a collection of data(variable) and methods(function) that act on those data.__\n",
    " * __Similarly, a class is a blueprint for that object.__\n",
    " * __Like function defintion begin with the def keyword in Python, class defintion begins with a class keyword.__\n",
    " * __The first string inside the class is called docstring and has a brief description of the class.__\n",
    " * __Although not mandatory, this is highly recommended.__\n",
    "   * __Syntax:__\n",
    "   * __class student:__\n",
    "     * __ school_name = \"ABC School\"__\n",
    "     * __`def __init__(self, name, age)`__\n",
    "         * __self.name = name__\n",
    "         * __self.age = age__\n",
    "   * __obj = student('Harry Proter',25)__\n",
    "   * __obj.name__\n",
    "   * __obj.age__ \n"
   ]
  },
  {
   "cell_type": "code",
   "execution_count": 1,
   "id": "fcc8c16a-21ef-4d5c-b08a-0a07f4ae6f93",
   "metadata": {},
   "outputs": [
    {
     "data": {
      "text/plain": [
       "<__main__.Data at 0x1f3d7f91160>"
      ]
     },
     "execution_count": 1,
     "metadata": {},
     "output_type": "execute_result"
    }
   ],
   "source": [
    "class Data:\n",
    "    num = 3.147\n",
    "    num2 = 10\n",
    "Data()"
   ]
  },
  {
   "cell_type": "code",
   "execution_count": 2,
   "id": "6671cb03-8da6-4ce2-a6b0-be3175fd9d4e",
   "metadata": {},
   "outputs": [
    {
     "data": {
      "text/plain": [
       "2146793435936"
      ]
     },
     "execution_count": 2,
     "metadata": {},
     "output_type": "execute_result"
    }
   ],
   "source": [
    "id(Data)"
   ]
  },
  {
   "cell_type": "code",
   "execution_count": 3,
   "id": "a714b76c-e6c0-44c7-bc34-0d6a18f5ec35",
   "metadata": {},
   "outputs": [
    {
     "data": {
      "text/plain": [
       "3.147"
      ]
     },
     "execution_count": 3,
     "metadata": {},
     "output_type": "execute_result"
    }
   ],
   "source": [
    "Data.num"
   ]
  },
  {
   "cell_type": "code",
   "execution_count": 4,
   "id": "90142669-8bcd-4f7e-b222-757960eb2ae4",
   "metadata": {},
   "outputs": [
    {
     "data": {
      "text/plain": [
       "10"
      ]
     },
     "execution_count": 4,
     "metadata": {},
     "output_type": "execute_result"
    }
   ],
   "source": [
    "Data.num2"
   ]
  },
  {
   "cell_type": "code",
   "execution_count": 6,
   "id": "60187836-89df-4a73-9cc3-f7f12d971cf0",
   "metadata": {},
   "outputs": [
    {
     "data": {
      "text/plain": [
       "3.147"
      ]
     },
     "execution_count": 6,
     "metadata": {},
     "output_type": "execute_result"
    }
   ],
   "source": [
    "obj = Data()\n",
    "obj.num"
   ]
  },
  {
   "cell_type": "code",
   "execution_count": 7,
   "id": "3fb0ecb2-40a4-42f1-aa4b-edb38ff65397",
   "metadata": {},
   "outputs": [
    {
     "data": {
      "text/plain": [
       "10"
      ]
     },
     "execution_count": 7,
     "metadata": {},
     "output_type": "execute_result"
    }
   ],
   "source": [
    "obj.num2"
   ]
  },
  {
   "cell_type": "code",
   "execution_count": 9,
   "id": "792911eb-fb36-459a-96c6-3fcd228965ca",
   "metadata": {},
   "outputs": [
    {
     "data": {
      "text/plain": [
       "__main__.Data"
      ]
     },
     "execution_count": 9,
     "metadata": {},
     "output_type": "execute_result"
    }
   ],
   "source": [
    "type(Data())"
   ]
  },
  {
   "cell_type": "code",
   "execution_count": 12,
   "id": "262a952f-b884-4417-9d27-4f92bd219775",
   "metadata": {},
   "outputs": [
    {
     "name": "stdout",
     "output_type": "stream",
     "text": [
      "Asma\n",
      "15\n",
      "MP\n"
     ]
    }
   ],
   "source": [
    "class student:\n",
    "    def __init__(self,name,age,mobNo):\n",
    "        self.name = name\n",
    "        self.age = age\n",
    "        self.mobNo = mobNo\n",
    "\n",
    "\n",
    "obj = student(\"Asma\",15,\"MP\")\n",
    "print(obj.name)\n",
    "print(obj.age)\n",
    "print(obj.mobNo)"
   ]
  },
  {
   "cell_type": "code",
   "execution_count": 17,
   "id": "2b91cd33-1709-4afb-92d1-90263aab2363",
   "metadata": {},
   "outputs": [
    {
     "name": "stdout",
     "output_type": "stream",
     "text": [
      "Aditya\n",
      "16\n",
      "Kerala\n"
     ]
    }
   ],
   "source": [
    "obj2 = student(\"Aditya\",16,\"Kerala\")\n",
    "print(obj2.name)\n",
    "print(obj2.age)\n",
    "print(obj2.mobNo)"
   ]
  },
  {
   "cell_type": "code",
   "execution_count": 18,
   "id": "b10ddaa7-e2a7-42dc-98b9-0b1f6f5089f9",
   "metadata": {},
   "outputs": [
    {
     "data": {
      "text/plain": [
       "'Asma'"
      ]
     },
     "execution_count": 18,
     "metadata": {},
     "output_type": "execute_result"
    }
   ],
   "source": [
    "obj.name"
   ]
  },
  {
   "cell_type": "code",
   "execution_count": 19,
   "id": "060f733e-2ea7-4196-a1fe-0997ed96cee3",
   "metadata": {},
   "outputs": [
    {
     "data": {
      "text/plain": [
       "'Aditya'"
      ]
     },
     "execution_count": 19,
     "metadata": {},
     "output_type": "execute_result"
    }
   ],
   "source": [
    "obj2.name"
   ]
  },
  {
   "cell_type": "code",
   "execution_count": 24,
   "id": "a46d41b7-69c7-49af-9cd6-d466b0618330",
   "metadata": {},
   "outputs": [
    {
     "name": "stdout",
     "output_type": "stream",
     "text": [
      "Myself Ganesh\n",
      "Ganesh age is: 45\n",
      "Ganesh Live at: Tamil\n"
     ]
    }
   ],
   "source": [
    "class student:\n",
    "    def __init__(self,name,age,address):\n",
    "        self.name = name\n",
    "        self.age = age\n",
    "        self.address = address\n",
    "\n",
    "\n",
    "    # method\n",
    "    def studentDetails(self):\n",
    "        print(f\"Myself {self.name}\")\n",
    "        print(f\"{self.name} age is: {self.age}\")\n",
    "        print(f\"{self.name} Live at: {self.address}\")\n",
    "        \n",
    "obj = student('Ganesh',45,\"Tamil\")\n",
    "# print(obj.name)\n",
    "# print(obj.age)\n",
    "# print(obj.address)\n",
    "\n",
    "obj.studentDetails()"
   ]
  },
  {
   "cell_type": "code",
   "execution_count": 25,
   "id": "d02b6f2e-11b5-4966-8ad5-47b665e7b69e",
   "metadata": {},
   "outputs": [
    {
     "name": "stdout",
     "output_type": "stream",
     "text": [
      "Myself Asma\n",
      "Asma age is: 25\n",
      "Asma Live at: Orrisa\n"
     ]
    }
   ],
   "source": [
    "obj3 = student('Asma',25,'Orrisa')\n",
    "obj3.studentDetails()"
   ]
  },
  {
   "cell_type": "code",
   "execution_count": 30,
   "id": "3574ea8e-3151-480f-9928-0f97981c751e",
   "metadata": {},
   "outputs": [
    {
     "name": "stdout",
     "output_type": "stream",
     "text": [
      "Area of circle is: 314.1592653589793 cm²\n",
      "Circumference of Circle: 62.83185307179586 cm\n"
     ]
    }
   ],
   "source": [
    "# mathematical calculation\n",
    "import math\n",
    "class circle:  # class\n",
    "    def __init__(self,radius):  # constructor\n",
    "        self.radius = radius\n",
    "\n",
    "    # method\n",
    "    def detailsCircle(self):\n",
    "        area = math.pi*self.radius*self.radius\n",
    "        circumference = 2*math.pi*self.radius\n",
    "        print(f\"Area of circle is:\",area,\"cm²\")\n",
    "        print(f\"Circumference of Circle:\",circumference,\"cm\")\n",
    "\n",
    "\n",
    "circle1 = circle(10)  # object circle1  of class circle\n",
    "circle1.detailsCircle()  # calls method of details of circle."
   ]
  },
  {
   "cell_type": "code",
   "execution_count": 32,
   "id": "7ee88042-bf10-4119-83af-7418609e0949",
   "metadata": {},
   "outputs": [
    {
     "name": "stdout",
     "output_type": "stream",
     "text": [
      "Area of circle is: 7853.981633974483 cm²\n",
      "Circumference of Circle: 314.1592653589793 cm\n"
     ]
    }
   ],
   "source": [
    "circle2 = circle(50)\n",
    "circle2.detailsCircle()"
   ]
  },
  {
   "cell_type": "code",
   "execution_count": 33,
   "id": "d990a79b-9701-4cae-8816-650d915bb1bb",
   "metadata": {},
   "outputs": [
    {
     "name": "stdout",
     "output_type": "stream",
     "text": [
      "Area of circle is: 530.929158456675 cm²\n",
      "Circumference of Circle: 81.68140899333463 cm\n"
     ]
    }
   ],
   "source": [
    "cir3 = circle(13)\n",
    "cir3.detailsCircle()"
   ]
  },
  {
   "cell_type": "code",
   "execution_count": null,
   "id": "9b245ea1-f5a3-42dd-809e-235f7c5b180e",
   "metadata": {},
   "outputs": [],
   "source": []
  }
 ],
 "metadata": {
  "kernelspec": {
   "display_name": "Python 3 (ipykernel)",
   "language": "python",
   "name": "python3"
  },
  "language_info": {
   "codemirror_mode": {
    "name": "ipython",
    "version": 3
   },
   "file_extension": ".py",
   "mimetype": "text/x-python",
   "name": "python",
   "nbconvert_exporter": "python",
   "pygments_lexer": "ipython3",
   "version": "3.13.7"
  }
 },
 "nbformat": 4,
 "nbformat_minor": 5
}
