{
 "cells": [
  {
   "cell_type": "markdown",
   "id": "20cb436c-7251-457e-9a2b-a65d2c40bf9b",
   "metadata": {},
   "source": [
    "# 9. Functions in Python\n",
    " * __In Python, a function is a group of related statements that performs a specific task.__\n",
    " * __Functuibs help break our program into smaller and mdoular chunks. As our program grows largar and larger, functions make it more organized and manageable.__\n",
    " * __Furthermore, it avoids repetition and makes the code reusable.__\n",
    " * __Pre-defined functions.__\n",
    " * __User defined functions.__\n",
    " * __In Python, a function is defined using the def keyword followed by the function name and parentheses().__\n",
    " * __Keyword def that marks the start of the function header.__\n",
    " * __A function name to uniquely identify the function.__\n",
    " * __Function naming follows the same rule of witing identifiers in Python.__\n",
    " * __Parameters(arguments) through which we pass values to a function. They are optional.__\n",
    " * __A colon(:) to mark the end of the function header.__\n",
    " * __Optional documentation string(docstring) to describe what the fucntion does.__\n",
    " * __Statements must have the same identation level(usually 4 spaces).__\n",
    " * __An optional return statement to return a value from the function.__"
   ]
  },
  {
   "cell_type": "markdown",
   "id": "97ba402e-0344-4bdf-bcf6-99e92b25c826",
   "metadata": {},
   "source": [
    "# Function have:\n",
    " * __function with parameter.[parameterized function]__\n",
    " * __fucntion without parameter[Non-parameterized function].__\n",
    " * __function with return value.__\n",
    " * __function without return value.__"
   ]
  },
  {
   "cell_type": "code",
   "execution_count": 1,
   "id": "94427b95-ddde-431c-a531-d6b5fb5bbc2a",
   "metadata": {},
   "outputs": [
    {
     "name": "stdin",
     "output_type": "stream",
     "text": [
      "enter any value:  2\n"
     ]
    },
    {
     "name": "stdout",
     "output_type": "stream",
     "text": [
      "Even\n"
     ]
    }
   ],
   "source": [
    "# condition (if,elif,else)\n",
    "# loop (for, while, break,continue)\n",
    "\n",
    "\n",
    "userNum = int(input(\"enter any value: \"))\n",
    "\n",
    "if userNum%2==0:\n",
    "    print(\"Even\")\n",
    "else:\n",
    "    print(\"Odd\")"
   ]
  },
  {
   "cell_type": "code",
   "execution_count": null,
   "id": "39497e59-119b-4934-b297-8a61e86f3cab",
   "metadata": {},
   "outputs": [],
   "source": [
    "hello()  # priority lost\n",
    "\n",
    "hello1() # this fucntion"
   ]
  },
  {
   "cell_type": "code",
   "execution_count": 2,
   "id": "90f513e8-d742-4cd3-8849-238e2db3fbd3",
   "metadata": {},
   "outputs": [
    {
     "data": {
      "text/plain": [
       "''"
      ]
     },
     "execution_count": 2,
     "metadata": {},
     "output_type": "execute_result"
    }
   ],
   "source": [
    "''\n",
    "\"\"\n",
    "# \"\"\"   \"\"\"\n",
    "# '''   '''\n"
   ]
  },
  {
   "cell_type": "code",
   "execution_count": 8,
   "id": "5234f07f-7090-4802-aa65-66455cd6b305",
   "metadata": {},
   "outputs": [
    {
     "data": {
      "text/plain": [
       "(0, 16, 64, 1.0, 0)"
      ]
     },
     "execution_count": 8,
     "metadata": {},
     "output_type": "execute_result"
    }
   ],
   "source": [
    "# paremeterized funciton: function with return value.\n",
    "def process(x):\n",
    "    y1 = x-8\n",
    "    y2 = x+8\n",
    "    y3 = x*8\n",
    "    y4 = x/8\n",
    "    y5 = x%8\n",
    "    return y1,y2,y3,y4,y5\n",
    "process(8)"
   ]
  },
  {
   "cell_type": "code",
   "execution_count": 9,
   "id": "fefa11b0-48e9-490d-bc8c-c45c8188c439",
   "metadata": {},
   "outputs": [
    {
     "data": {
      "text/plain": [
       "(2, 18, 80, 1.25, 2)"
      ]
     },
     "execution_count": 9,
     "metadata": {},
     "output_type": "execute_result"
    }
   ],
   "source": [
    "process(10)"
   ]
  },
  {
   "cell_type": "code",
   "execution_count": 10,
   "id": "fd621f0b-c44f-47d3-8112-a862bdd9e765",
   "metadata": {},
   "outputs": [
    {
     "data": {
      "text/plain": [
       "(12, 28, 160, 2.5, 4)"
      ]
     },
     "execution_count": 10,
     "metadata": {},
     "output_type": "execute_result"
    }
   ],
   "source": [
    "process(20)"
   ]
  },
  {
   "cell_type": "code",
   "execution_count": 11,
   "id": "19205f94-3b39-4fa9-8c0e-b3a14188a823",
   "metadata": {},
   "outputs": [
    {
     "name": "stdout",
     "output_type": "stream",
     "text": [
      "Help on function process in module __main__:\n",
      "\n",
      "process(x)\n",
      "\n"
     ]
    }
   ],
   "source": [
    "help(process)"
   ]
  },
  {
   "cell_type": "code",
   "execution_count": 15,
   "id": "20e77dd3-4808-4885-80fa-316edcd83d72",
   "metadata": {},
   "outputs": [
    {
     "data": {
      "text/plain": [
       "30"
      ]
     },
     "execution_count": 15,
     "metadata": {},
     "output_type": "execute_result"
    }
   ],
   "source": [
    "x = [10,20]\n",
    "sum()"
   ]
  },
  {
   "cell_type": "code",
   "execution_count": null,
   "id": "d74bde25-2399-46cd-a52d-b94d03ab9b67",
   "metadata": {},
   "outputs": [],
   "source": [
    "process()"
   ]
  },
  {
   "cell_type": "markdown",
   "id": "c6808598-eba7-4b3f-87c8-30a7954406f0",
   "metadata": {},
   "source": [
    "# Function with multiple parameters:"
   ]
  },
  {
   "cell_type": "code",
   "execution_count": 16,
   "id": "febc378c-abb2-45e3-9d43-bd9f9dbaf683",
   "metadata": {},
   "outputs": [
    {
     "data": {
      "text/plain": [
       "59.370000000000005"
      ]
     },
     "execution_count": 16,
     "metadata": {},
     "output_type": "execute_result"
    }
   ],
   "source": [
    "def multi(x,y):\n",
    "    z = 2*x+5*y+45\n",
    "    return z\n",
    "\n",
    "output = multi(3.14,1.618) # function invoking\n",
    "output"
   ]
  },
  {
   "cell_type": "code",
   "execution_count": 17,
   "id": "19921d8c-ec48-403e-8c8d-8b49aec55083",
   "metadata": {},
   "outputs": [],
   "source": [
    "# prcedence rule:\n",
    "# left to right\n",
    "# high precedence [%,/,*] \n",
    "# low precedence: [+,-]"
   ]
  },
  {
   "cell_type": "markdown",
   "id": "c0d90cbd-b737-479f-ab7c-833f669a5a65",
   "metadata": {},
   "source": [
    "# Varibles:\n",
    " * __The input to a function is called formal parameter.__\n",
    " * __A variable that is declared inside a function is called a local variable.__\n",
    " * __The parameter only exists within the function(i.e the point where the function starts and stops.)__\n",
    " * __A variable that is declared outside a function definition is a global varible, and its value is accessible and modifiable throughout the program.__"
   ]
  },
  {
   "cell_type": "code",
   "execution_count": 25,
   "id": "6a63ec59-21a1-40bc-92e5-bf5f2e606b8c",
   "metadata": {},
   "outputs": [
    {
     "name": "stdout",
     "output_type": "stream",
     "text": [
      "15 is a local vairble\n",
      "10 is a global varible\n"
     ]
    }
   ],
   "source": [
    "a = 10  # globle variable: \n",
    "\n",
    "def val():\n",
    "    x1 = 15  # it is local varible\n",
    "    print(x1,'is a local vairble')\n",
    "    print(a,'is a global varible')\n",
    "val()"
   ]
  },
  {
   "cell_type": "code",
   "execution_count": 26,
   "id": "85d10585-cf07-43df-84f1-984fab6fc36e",
   "metadata": {},
   "outputs": [
    {
     "name": "stdout",
     "output_type": "stream",
     "text": [
      "10\n"
     ]
    },
    {
     "ename": "NameError",
     "evalue": "name 'x1' is not defined",
     "output_type": "error",
     "traceback": [
      "\u001b[31m---------------------------------------------------------------------------\u001b[39m",
      "\u001b[31mNameError\u001b[39m                                 Traceback (most recent call last)",
      "\u001b[36mCell\u001b[39m\u001b[36m \u001b[39m\u001b[32mIn[26]\u001b[39m\u001b[32m, line 2\u001b[39m\n\u001b[32m      1\u001b[39m \u001b[38;5;28mprint\u001b[39m(a)\n\u001b[32m----> \u001b[39m\u001b[32m2\u001b[39m \u001b[38;5;28mprint\u001b[39m(\u001b[43mx1\u001b[49m)\n",
      "\u001b[31mNameError\u001b[39m: name 'x1' is not defined"
     ]
    }
   ],
   "source": [
    "print(a)  # global varible\n",
    "print(x1) # x1 is local vairble"
   ]
  },
  {
   "cell_type": "code",
   "execution_count": 40,
   "id": "33be6453-be4f-46b9-aeea-e9dcaa5e1d5f",
   "metadata": {},
   "outputs": [
    {
     "name": "stdout",
     "output_type": "stream",
     "text": [
      "Hello world\n"
     ]
    }
   ],
   "source": [
    "# Define a function with and without return value.\n",
    "\n",
    "def msg1():  # \n",
    "    print(\"Hello world\")\n",
    "\n",
    "def msg2():\n",
    "    return \"Hello Python\"\n",
    "\n",
    "msg1()"
   ]
  },
  {
   "cell_type": "code",
   "execution_count": 34,
   "id": "55f15c07-52e1-4a4a-9b4d-13f3ad9969b0",
   "metadata": {},
   "outputs": [
    {
     "data": {
      "text/plain": [
       "'Hello Python'"
      ]
     },
     "execution_count": 34,
     "metadata": {},
     "output_type": "execute_result"
    }
   ],
   "source": [
    "msg2()"
   ]
  },
  {
   "cell_type": "code",
   "execution_count": 35,
   "id": "e4ec35b4-33fc-4d30-948b-0a1bdf083f18",
   "metadata": {},
   "outputs": [
    {
     "name": "stdout",
     "output_type": "stream",
     "text": [
      "Hello world\n",
      "None\n"
     ]
    }
   ],
   "source": [
    "print(msg1())"
   ]
  },
  {
   "cell_type": "code",
   "execution_count": 41,
   "id": "bb3bd8a8-5870-43b1-913a-9fe5097929f8",
   "metadata": {},
   "outputs": [
    {
     "name": "stdout",
     "output_type": "stream",
     "text": [
      "Hello Python\n"
     ]
    }
   ],
   "source": [
    "print(msg2())"
   ]
  },
  {
   "cell_type": "code",
   "execution_count": 42,
   "id": "9759e0f8-f245-4ec9-b3ac-4d1f54962de5",
   "metadata": {},
   "outputs": [
    {
     "data": {
      "text/plain": [
       "'Hello python'"
      ]
     },
     "execution_count": 42,
     "metadata": {},
     "output_type": "execute_result"
    }
   ],
   "source": [
    "# Define a function\n",
    "\n",
    "def strings(x,y):  # string, or integer\n",
    "    return x+y\n",
    "\n",
    "strings(\"Hello \",\"python\")  # concatenation"
   ]
  },
  {
   "cell_type": "code",
   "execution_count": 43,
   "id": "f5eea5f5-4ee9-4473-9757-5912b008c6b0",
   "metadata": {},
   "outputs": [
    {
     "data": {
      "text/plain": [
       "9"
      ]
     },
     "execution_count": 43,
     "metadata": {},
     "output_type": "execute_result"
    }
   ],
   "source": [
    "strings(4,5)  # constant value"
   ]
  },
  {
   "cell_type": "code",
   "execution_count": 45,
   "id": "0aab6fc8-386e-4143-b4ad-781bb1e6bdf5",
   "metadata": {},
   "outputs": [
    {
     "data": {
      "text/plain": [
       "'a3'"
      ]
     },
     "execution_count": 45,
     "metadata": {},
     "output_type": "execute_result"
    }
   ],
   "source": [
    "strings(\"a\",\"3\")  # concatenation value."
   ]
  },
  {
   "cell_type": "code",
   "execution_count": 47,
   "id": "049ac128-80ac-4717-9e7c-583d7171f590",
   "metadata": {},
   "outputs": [
    {
     "name": "stdout",
     "output_type": "stream",
     "text": [
      "-32.136714\n"
     ]
    },
    {
     "data": {
      "text/plain": [
       "37"
      ]
     },
     "execution_count": 47,
     "metadata": {},
     "output_type": "execute_result"
    }
   ],
   "source": [
    "# The following code\n",
    "\n",
    "x = 2.718\n",
    "y = 0.577\n",
    "\n",
    "equation = x*y+x+y-37  # global varibel\n",
    "print(equation)\n",
    "if equation>0:\n",
    "    equation = 6\n",
    "else: \n",
    "    equation = 37\n",
    "\n",
    "\n",
    "equation"
   ]
  },
  {
   "cell_type": "code",
   "execution_count": 51,
   "id": "fe4cdf34-b9d4-450f-8f7c-88ab070e61e1",
   "metadata": {},
   "outputs": [
    {
     "name": "stdout",
     "output_type": "stream",
     "text": [
      "-37\n"
     ]
    },
    {
     "data": {
      "text/plain": [
       "0"
      ]
     },
     "execution_count": 51,
     "metadata": {},
     "output_type": "execute_result"
    }
   ],
   "source": [
    "x = 0\n",
    "y = 0\n",
    "\n",
    "equation = x*y+x+y-37  # global varibel\n",
    "print(equation)\n",
    "if equation<0:\n",
    "    equation = 0\n",
    "else: \n",
    "    equation = 37\n",
    "equation"
   ]
  },
  {
   "cell_type": "code",
   "execution_count": 52,
   "id": "dc01d816-bc61-45a2-ba70-171bc72d7ca5",
   "metadata": {},
   "outputs": [
    {
     "data": {
      "text/plain": [
       "55"
      ]
     },
     "execution_count": 52,
     "metadata": {},
     "output_type": "execute_result"
    }
   ],
   "source": [
    "# write a function to find the sum of user value starts form 1.\n",
    "# 55\n",
    "# 1,2,3,4,5,6,7,8,9,10.........55 \n",
    "\n",
    "def sum1(n):\n",
    "    Sum = 0 \n",
    "    for i in range(1,n+1):\n",
    "        Sum+=i\n",
    "    return Sum\n",
    "\n",
    "sum1(10)"
   ]
  },
  {
   "cell_type": "code",
   "execution_count": 53,
   "id": "c9d44c45-ea91-4e60-92ab-3fe756ebe621",
   "metadata": {},
   "outputs": [
    {
     "name": "stdin",
     "output_type": "stream",
     "text": [
      "Enter a number:  55\n"
     ]
    },
    {
     "name": "stdout",
     "output_type": "stream",
     "text": [
      "Sum = 1540\n"
     ]
    }
   ],
   "source": [
    "def sum1():\n",
    "    n = int(input(\"Enter a number: \"))\n",
    "    total = 0\n",
    "    for i in range(1, n+1):\n",
    "        total += i\n",
    "    print(\"Sum =\", total)\n",
    "sum1()"
   ]
  },
  {
   "cell_type": "code",
   "execution_count": 54,
   "id": "a6bb0d78-0cf9-4d80-a90d-1dabe3aae80e",
   "metadata": {},
   "outputs": [
    {
     "name": "stdout",
     "output_type": "stream",
     "text": [
      "55\n"
     ]
    }
   ],
   "source": [
    "def function(x):\n",
    "    sum1 = 0\n",
    "    for i in range(1, x + 1):\n",
    "        sum1 = sum1 + i\n",
    "    return sum1\n",
    "print(function(10))"
   ]
  },
  {
   "cell_type": "code",
   "execution_count": 68,
   "id": "e6bb1c0f-3bcc-4364-b123-0ab1bb8023f7",
   "metadata": {},
   "outputs": [
    {
     "name": "stdout",
     "output_type": "stream",
     "text": [
      "Total Number of characters is:43\n",
      "Total Number of vowels is:11\n",
      "Total Number of Consonenet is:32\n",
      "Total Number of spaces is:8\n",
      "Total Number of charactes without spaces is:35\n",
      "Total Number of words in sentence is:9\n"
     ]
    }
   ],
   "source": [
    "# count total number of vowels and their consonents without spaces using function and total \n",
    "# number of characters as well total number of words:\n",
    "# val = \"The Quick Brown Fox Jumps Over The Lazy Dog\"\n",
    "\n",
    "# words = 9\n",
    "# vowels = []\n",
    "# consonents = []\n",
    "# totalCharwithoutspace = []\n",
    "# totalCharwithspace=[]\n",
    "\n",
    "\n",
    "\n",
    "def functionCount():\n",
    "    \n",
    "    val = \"The Quick Brown Fox Jumps Over The Lazy Dog\"\n",
    "    val2 = val.split()\n",
    "    # print(val2)\n",
    "    vow = \"aeiou\"\n",
    "    vowels = 0\n",
    "    consonent = 0\n",
    "    countChar=0\n",
    "    spaceCount = 0\n",
    "    countWords= 0\n",
    "    for i in val:\n",
    "        if i.lower() in vow:\n",
    "            vowels+=1\n",
    "            # print(i)\n",
    "        else:\n",
    "            consonent+=1\n",
    "        if i == \" \":\n",
    "            spaceCount+=1\n",
    "        countChar+=1\n",
    "    for j in val2:\n",
    "        countWords+=1\n",
    "    \n",
    "    print(f\"Total Number of characters is:{countChar}\")\n",
    "    print(f\"Total Number of vowels is:{vowels}\")\n",
    "    print(f\"Total Number of Consonenet is:{consonent}\")\n",
    "    print(f\"Total Number of spaces is:{spaceCount}\")\n",
    "    print(f\"Total Number of charactes without spaces is:{countChar-spaceCount}\")\n",
    "    print(f\"Total Number of words in sentence is:{countWords}\")\n",
    "\n",
    "functionCount()\n"
   ]
  },
  {
   "cell_type": "code",
   "execution_count": null,
   "id": "f75ab9e6-cbda-4515-961d-795e847e7c82",
   "metadata": {},
   "outputs": [],
   "source": []
  }
 ],
 "metadata": {
  "kernelspec": {
   "display_name": "Python 3 (ipykernel)",
   "language": "python",
   "name": "python3"
  },
  "language_info": {
   "codemirror_mode": {
    "name": "ipython",
    "version": 3
   },
   "file_extension": ".py",
   "mimetype": "text/x-python",
   "name": "python",
   "nbconvert_exporter": "python",
   "pygments_lexer": "ipython3",
   "version": "3.13.7"
  }
 },
 "nbformat": 4,
 "nbformat_minor": 5
}
