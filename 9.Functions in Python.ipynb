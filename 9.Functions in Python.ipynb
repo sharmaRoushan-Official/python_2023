{
 "cells": [
  {
   "cell_type": "markdown",
   "id": "20cb436c-7251-457e-9a2b-a65d2c40bf9b",
   "metadata": {},
   "source": [
    "# 9. Functions in Python\n",
    " * __In Python, a function is a group of related statements that performs a specific task.__\n",
    " * __Functuibs help break our program into smaller and mdoular chunks. As our program grows largar and larger, functions make it more organized and manageable.__\n",
    " * __Furthermore, it avoids repetition and makes the code reusable.__\n",
    " * __Pre-defined functions.__\n",
    " * __User defined functions.__\n",
    " * __In Python, a function is defined using the def keyword followed by the function name and parentheses().__\n",
    " * __Keyword def that marks the start of the function header.__\n",
    " * __A function name to uniquely identify the function.__\n",
    " * __Function naming follows the same rule of witing identifiers in Python.__\n",
    " * __Parameters(arguments) through which we pass values to a function. They are optional.__\n",
    " * __A colon(:) to mark the end of the function header.__\n",
    " * __Optional documentation string(docstring) to describe what the fucntion does.__\n",
    " * __Statements must have the same identation level(usually 4 spaces).__\n",
    " * __An optional return statement to return a value from the function.__"
   ]
  },
  {
   "cell_type": "markdown",
   "id": "97ba402e-0344-4bdf-bcf6-99e92b25c826",
   "metadata": {},
   "source": [
    "# Function have:\n",
    " * __function with parameter.[parameterized function]__\n",
    " * __fucntion without parameter[Non-parameterized function].__\n",
    " * __function with return value.__\n",
    " * __function without return value.__"
   ]
  },
  {
   "cell_type": "code",
   "execution_count": 1,
   "id": "94427b95-ddde-431c-a531-d6b5fb5bbc2a",
   "metadata": {},
   "outputs": [
    {
     "name": "stdin",
     "output_type": "stream",
     "text": [
      "enter any value:  2\n"
     ]
    },
    {
     "name": "stdout",
     "output_type": "stream",
     "text": [
      "Even\n"
     ]
    }
   ],
   "source": [
    "# condition (if,elif,else)\n",
    "# loop (for, while, break,continue)\n",
    "\n",
    "\n",
    "userNum = int(input(\"enter any value: \"))\n",
    "\n",
    "if userNum%2==0:\n",
    "    print(\"Even\")\n",
    "else:\n",
    "    print(\"Odd\")"
   ]
  },
  {
   "cell_type": "code",
   "execution_count": null,
   "id": "39497e59-119b-4934-b297-8a61e86f3cab",
   "metadata": {},
   "outputs": [],
   "source": [
    "hello()  # priority lost\n",
    "\n",
    "hello1() # this fucntion"
   ]
  },
  {
   "cell_type": "code",
   "execution_count": 2,
   "id": "90f513e8-d742-4cd3-8849-238e2db3fbd3",
   "metadata": {},
   "outputs": [
    {
     "data": {
      "text/plain": [
       "''"
      ]
     },
     "execution_count": 2,
     "metadata": {},
     "output_type": "execute_result"
    }
   ],
   "source": [
    "''\n",
    "\"\"\n",
    "# \"\"\"   \"\"\"\n",
    "# '''   '''\n"
   ]
  },
  {
   "cell_type": "code",
   "execution_count": 8,
   "id": "5234f07f-7090-4802-aa65-66455cd6b305",
   "metadata": {},
   "outputs": [
    {
     "data": {
      "text/plain": [
       "(0, 16, 64, 1.0, 0)"
      ]
     },
     "execution_count": 8,
     "metadata": {},
     "output_type": "execute_result"
    }
   ],
   "source": [
    "# paremeterized funciton: function with return value.\n",
    "def process(x):\n",
    "    y1 = x-8\n",
    "    y2 = x+8\n",
    "    y3 = x*8\n",
    "    y4 = x/8\n",
    "    y5 = x%8\n",
    "    return y1,y2,y3,y4,y5\n",
    "process(8)"
   ]
  },
  {
   "cell_type": "code",
   "execution_count": 9,
   "id": "fefa11b0-48e9-490d-bc8c-c45c8188c439",
   "metadata": {},
   "outputs": [
    {
     "data": {
      "text/plain": [
       "(2, 18, 80, 1.25, 2)"
      ]
     },
     "execution_count": 9,
     "metadata": {},
     "output_type": "execute_result"
    }
   ],
   "source": [
    "process(10)"
   ]
  },
  {
   "cell_type": "code",
   "execution_count": 10,
   "id": "fd621f0b-c44f-47d3-8112-a862bdd9e765",
   "metadata": {},
   "outputs": [
    {
     "data": {
      "text/plain": [
       "(12, 28, 160, 2.5, 4)"
      ]
     },
     "execution_count": 10,
     "metadata": {},
     "output_type": "execute_result"
    }
   ],
   "source": [
    "process(20)"
   ]
  },
  {
   "cell_type": "code",
   "execution_count": 11,
   "id": "19205f94-3b39-4fa9-8c0e-b3a14188a823",
   "metadata": {},
   "outputs": [
    {
     "name": "stdout",
     "output_type": "stream",
     "text": [
      "Help on function process in module __main__:\n",
      "\n",
      "process(x)\n",
      "\n"
     ]
    }
   ],
   "source": [
    "help(process)"
   ]
  },
  {
   "cell_type": "code",
   "execution_count": 15,
   "id": "20e77dd3-4808-4885-80fa-316edcd83d72",
   "metadata": {},
   "outputs": [
    {
     "data": {
      "text/plain": [
       "30"
      ]
     },
     "execution_count": 15,
     "metadata": {},
     "output_type": "execute_result"
    }
   ],
   "source": [
    "x = [10,20]\n",
    "sum()"
   ]
  },
  {
   "cell_type": "code",
   "execution_count": null,
   "id": "d74bde25-2399-46cd-a52d-b94d03ab9b67",
   "metadata": {},
   "outputs": [],
   "source": [
    "process()"
   ]
  },
  {
   "cell_type": "markdown",
   "id": "c6808598-eba7-4b3f-87c8-30a7954406f0",
   "metadata": {},
   "source": [
    "# Function with multiple parameters:"
   ]
  },
  {
   "cell_type": "code",
   "execution_count": 16,
   "id": "febc378c-abb2-45e3-9d43-bd9f9dbaf683",
   "metadata": {},
   "outputs": [
    {
     "data": {
      "text/plain": [
       "59.370000000000005"
      ]
     },
     "execution_count": 16,
     "metadata": {},
     "output_type": "execute_result"
    }
   ],
   "source": [
    "def multi(x,y):\n",
    "    z = 2*x+5*y+45\n",
    "    return z\n",
    "\n",
    "output = multi(3.14,1.618) # function invoking\n",
    "output"
   ]
  },
  {
   "cell_type": "code",
   "execution_count": 17,
   "id": "19921d8c-ec48-403e-8c8d-8b49aec55083",
   "metadata": {},
   "outputs": [],
   "source": [
    "# prcedence rule:\n",
    "# left to right\n",
    "# high precedence [%,/,*] \n",
    "# low precedence: [+,-]"
   ]
  },
  {
   "cell_type": "markdown",
   "id": "c0d90cbd-b737-479f-ab7c-833f669a5a65",
   "metadata": {},
   "source": [
    "# Varibles:\n",
    " * __The input to a function is called formal parameter.__\n",
    " * __A variable that is declared inside a function is called a local variable.__\n",
    " * __The parameter only exists within the function(i.e the point where the function starts and stops.)__\n",
    " * __A variable that is declared outside a function definition is a global varible, and its value is accessible and modifiable throughout the program.__"
   ]
  },
  {
   "cell_type": "code",
   "execution_count": 25,
   "id": "6a63ec59-21a1-40bc-92e5-bf5f2e606b8c",
   "metadata": {},
   "outputs": [
    {
     "name": "stdout",
     "output_type": "stream",
     "text": [
      "15 is a local vairble\n",
      "10 is a global varible\n"
     ]
    }
   ],
   "source": [
    "a = 10  # globle variable: \n",
    "\n",
    "def val():\n",
    "    x1 = 15  # it is local varible\n",
    "    print(x1,'is a local vairble')\n",
    "    print(a,'is a global varible')\n",
    "val()"
   ]
  },
  {
   "cell_type": "code",
   "execution_count": 26,
   "id": "85d10585-cf07-43df-84f1-984fab6fc36e",
   "metadata": {},
   "outputs": [
    {
     "name": "stdout",
     "output_type": "stream",
     "text": [
      "10\n"
     ]
    },
    {
     "ename": "NameError",
     "evalue": "name 'x1' is not defined",
     "output_type": "error",
     "traceback": [
      "\u001b[31m---------------------------------------------------------------------------\u001b[39m",
      "\u001b[31mNameError\u001b[39m                                 Traceback (most recent call last)",
      "\u001b[36mCell\u001b[39m\u001b[36m \u001b[39m\u001b[32mIn[26]\u001b[39m\u001b[32m, line 2\u001b[39m\n\u001b[32m      1\u001b[39m \u001b[38;5;28mprint\u001b[39m(a)\n\u001b[32m----> \u001b[39m\u001b[32m2\u001b[39m \u001b[38;5;28mprint\u001b[39m(\u001b[43mx1\u001b[49m)\n",
      "\u001b[31mNameError\u001b[39m: name 'x1' is not defined"
     ]
    }
   ],
   "source": [
    "print(a)  # global varible\n",
    "print(x1) # x1 is local vairble"
   ]
  },
  {
   "cell_type": "code",
   "execution_count": 40,
   "id": "33be6453-be4f-46b9-aeea-e9dcaa5e1d5f",
   "metadata": {},
   "outputs": [
    {
     "name": "stdout",
     "output_type": "stream",
     "text": [
      "Hello world\n"
     ]
    }
   ],
   "source": [
    "# Define a function with and without return value.\n",
    "\n",
    "def msg1():  # \n",
    "    print(\"Hello world\")\n",
    "\n",
    "def msg2():\n",
    "    return \"Hello Python\"\n",
    "\n",
    "msg1()"
   ]
  },
  {
   "cell_type": "code",
   "execution_count": 34,
   "id": "55f15c07-52e1-4a4a-9b4d-13f3ad9969b0",
   "metadata": {},
   "outputs": [
    {
     "data": {
      "text/plain": [
       "'Hello Python'"
      ]
     },
     "execution_count": 34,
     "metadata": {},
     "output_type": "execute_result"
    }
   ],
   "source": [
    "msg2()"
   ]
  },
  {
   "cell_type": "code",
   "execution_count": 35,
   "id": "e4ec35b4-33fc-4d30-948b-0a1bdf083f18",
   "metadata": {},
   "outputs": [
    {
     "name": "stdout",
     "output_type": "stream",
     "text": [
      "Hello world\n",
      "None\n"
     ]
    }
   ],
   "source": [
    "print(msg1())"
   ]
  },
  {
   "cell_type": "code",
   "execution_count": 41,
   "id": "bb3bd8a8-5870-43b1-913a-9fe5097929f8",
   "metadata": {},
   "outputs": [
    {
     "name": "stdout",
     "output_type": "stream",
     "text": [
      "Hello Python\n"
     ]
    }
   ],
   "source": [
    "print(msg2())"
   ]
  },
  {
   "cell_type": "code",
   "execution_count": 42,
   "id": "9759e0f8-f245-4ec9-b3ac-4d1f54962de5",
   "metadata": {},
   "outputs": [
    {
     "data": {
      "text/plain": [
       "'Hello python'"
      ]
     },
     "execution_count": 42,
     "metadata": {},
     "output_type": "execute_result"
    }
   ],
   "source": [
    "# Define a function\n",
    "\n",
    "def strings(x,y):  # string, or integer\n",
    "    return x+y\n",
    "\n",
    "strings(\"Hello \",\"python\")  # concatenation"
   ]
  },
  {
   "cell_type": "code",
   "execution_count": 43,
   "id": "f5eea5f5-4ee9-4473-9757-5912b008c6b0",
   "metadata": {},
   "outputs": [
    {
     "data": {
      "text/plain": [
       "9"
      ]
     },
     "execution_count": 43,
     "metadata": {},
     "output_type": "execute_result"
    }
   ],
   "source": [
    "strings(4,5)  # constant value"
   ]
  },
  {
   "cell_type": "code",
   "execution_count": 45,
   "id": "0aab6fc8-386e-4143-b4ad-781bb1e6bdf5",
   "metadata": {},
   "outputs": [
    {
     "data": {
      "text/plain": [
       "'a3'"
      ]
     },
     "execution_count": 45,
     "metadata": {},
     "output_type": "execute_result"
    }
   ],
   "source": [
    "strings(\"a\",\"3\")  # concatenation value."
   ]
  },
  {
   "cell_type": "code",
   "execution_count": 47,
   "id": "049ac128-80ac-4717-9e7c-583d7171f590",
   "metadata": {},
   "outputs": [
    {
     "name": "stdout",
     "output_type": "stream",
     "text": [
      "-32.136714\n"
     ]
    },
    {
     "data": {
      "text/plain": [
       "37"
      ]
     },
     "execution_count": 47,
     "metadata": {},
     "output_type": "execute_result"
    }
   ],
   "source": [
    "# The following code\n",
    "\n",
    "x = 2.718\n",
    "y = 0.577\n",
    "\n",
    "equation = x*y+x+y-37  # global varibel\n",
    "print(equation)\n",
    "if equation>0:\n",
    "    equation = 6\n",
    "else: \n",
    "    equation = 37\n",
    "\n",
    "\n",
    "equation"
   ]
  },
  {
   "cell_type": "code",
   "execution_count": 51,
   "id": "fe4cdf34-b9d4-450f-8f7c-88ab070e61e1",
   "metadata": {},
   "outputs": [
    {
     "name": "stdout",
     "output_type": "stream",
     "text": [
      "-37\n"
     ]
    },
    {
     "data": {
      "text/plain": [
       "0"
      ]
     },
     "execution_count": 51,
     "metadata": {},
     "output_type": "execute_result"
    }
   ],
   "source": [
    "x = 0\n",
    "y = 0\n",
    "\n",
    "equation = x*y+x+y-37  # global varibel\n",
    "print(equation)\n",
    "if equation<0:\n",
    "    equation = 0\n",
    "else: \n",
    "    equation = 37\n",
    "equation"
   ]
  },
  {
   "cell_type": "code",
   "execution_count": 52,
   "id": "dc01d816-bc61-45a2-ba70-171bc72d7ca5",
   "metadata": {},
   "outputs": [
    {
     "data": {
      "text/plain": [
       "55"
      ]
     },
     "execution_count": 52,
     "metadata": {},
     "output_type": "execute_result"
    }
   ],
   "source": [
    "# write a function to find the sum of user value starts form 1.\n",
    "# 55\n",
    "# 1,2,3,4,5,6,7,8,9,10.........55 \n",
    "\n",
    "def sum1(n):\n",
    "    Sum = 0 \n",
    "    for i in range(1,n+1):\n",
    "        Sum+=i\n",
    "    return Sum\n",
    "\n",
    "sum1(10)"
   ]
  },
  {
   "cell_type": "code",
   "execution_count": 53,
   "id": "c9d44c45-ea91-4e60-92ab-3fe756ebe621",
   "metadata": {},
   "outputs": [
    {
     "name": "stdin",
     "output_type": "stream",
     "text": [
      "Enter a number:  55\n"
     ]
    },
    {
     "name": "stdout",
     "output_type": "stream",
     "text": [
      "Sum = 1540\n"
     ]
    }
   ],
   "source": [
    "def sum1():\n",
    "    n = int(input(\"Enter a number: \"))\n",
    "    total = 0\n",
    "    for i in range(1, n+1):\n",
    "        total += i\n",
    "    print(\"Sum =\", total)\n",
    "sum1()"
   ]
  },
  {
   "cell_type": "code",
   "execution_count": 54,
   "id": "a6bb0d78-0cf9-4d80-a90d-1dabe3aae80e",
   "metadata": {},
   "outputs": [
    {
     "name": "stdout",
     "output_type": "stream",
     "text": [
      "55\n"
     ]
    }
   ],
   "source": [
    "def function(x):\n",
    "    sum1 = 0\n",
    "    for i in range(1, x + 1):\n",
    "        sum1 = sum1 + i\n",
    "    return sum1\n",
    "print(function(10))"
   ]
  },
  {
   "cell_type": "code",
   "execution_count": 68,
   "id": "e6bb1c0f-3bcc-4364-b123-0ab1bb8023f7",
   "metadata": {},
   "outputs": [
    {
     "name": "stdout",
     "output_type": "stream",
     "text": [
      "Total Number of characters is:43\n",
      "Total Number of vowels is:11\n",
      "Total Number of Consonenet is:32\n",
      "Total Number of spaces is:8\n",
      "Total Number of charactes without spaces is:35\n",
      "Total Number of words in sentence is:9\n"
     ]
    }
   ],
   "source": [
    "# count total number of vowels and their consonents without spaces using function and total \n",
    "# number of characters as well total number of words:\n",
    "# val = \"The Quick Brown Fox Jumps Over The Lazy Dog\"\n",
    "\n",
    "# words = 9\n",
    "# vowels = []\n",
    "# consonents = []\n",
    "# totalCharwithoutspace = []\n",
    "# totalCharwithspace=[]\n",
    "\n",
    "\n",
    "\n",
    "def functionCount():\n",
    "    \n",
    "    val = \"The Quick Brown Fox Jumps Over The Lazy Dog\"\n",
    "    val2 = val.split()\n",
    "    # print(val2)\n",
    "    vow = \"aeiou\"\n",
    "    vowels = 0\n",
    "    consonent = 0\n",
    "    countChar=0\n",
    "    spaceCount = 0\n",
    "    countWords= 0\n",
    "    for i in val:\n",
    "        if i.lower() in vow:\n",
    "            vowels+=1\n",
    "            # print(i)\n",
    "        else:\n",
    "            consonent+=1\n",
    "        if i == \" \":\n",
    "            spaceCount+=1\n",
    "        countChar+=1\n",
    "    for j in val2:\n",
    "        countWords+=1\n",
    "    \n",
    "    print(f\"Total Number of characters is:{countChar}\")\n",
    "    print(f\"Total Number of vowels is:{vowels}\")\n",
    "    print(f\"Total Number of Consonenet is:{consonent}\")\n",
    "    print(f\"Total Number of spaces is:{spaceCount}\")\n",
    "    print(f\"Total Number of charactes without spaces is:{countChar-spaceCount}\")\n",
    "    print(f\"Total Number of words in sentence is:{countWords}\")\n",
    "\n",
    "functionCount()\n"
   ]
  },
  {
   "cell_type": "code",
   "execution_count": 69,
   "id": "f75ab9e6-cbda-4515-961d-795e847e7c82",
   "metadata": {},
   "outputs": [
    {
     "name": "stdout",
     "output_type": "stream",
     "text": [
      "Total Number of characters is:43\n",
      "Total Number of vowels is:11\n",
      "Total Number of Consonenet is:32\n",
      "Total Number of spaces is:8\n",
      "Total Number of charactes without spaces is:35\n",
      "Total Number of words in sentence is:9\n"
     ]
    }
   ],
   "source": [
    "functionCount()"
   ]
  },
  {
   "cell_type": "code",
   "execution_count": 70,
   "id": "ad27c496-cf35-4248-987b-ea028e92f88e",
   "metadata": {},
   "outputs": [
    {
     "name": "stdout",
     "output_type": "stream",
     "text": [
      "words:  9\n",
      "total : 44\n",
      "whitespaces:  8\n",
      "total character:  36\n",
      "No of Vowels:  11\n",
      "no of consonant:  25\n"
     ]
    }
   ],
   "source": [
    "def function(n):\n",
    "    vowel = 0\n",
    "    total = 0\n",
    "    whitespace = 0\n",
    "    for i in n:\n",
    "        if i in n:\n",
    "            total += 1\n",
    "        if i.lower() in \"aeiou\":\n",
    "            vowel += 1\n",
    "        if i in n:\n",
    "            if i == \" \":\n",
    "                whitespace += 1\n",
    "    char = total - whitespace\n",
    "    print(\"words: \", whitespace + 1)\n",
    "    print(\"total :\", total)\n",
    "    print(\"whitespaces: \", whitespace)\n",
    "    print(\"total character: \", char)\n",
    "    print(\"No of Vowels: \", vowel)\n",
    "    print(\"no of consonant: \", char - vowel)\n",
    "val = \"The Quick Brown Fox Jumps Over The Lazy Dog.\"\n",
    "function(val)"
   ]
  },
  {
   "cell_type": "code",
   "execution_count": 71,
   "id": "65de8333-d298-4119-bf40-eae350e26b34",
   "metadata": {},
   "outputs": [
    {
     "data": {
      "text/plain": [
       "(11,\n",
       " 32,\n",
       " 9,\n",
       " 43,\n",
       " ['The', 'quick', 'brown', 'fox', 'jumps', 'over', 'the', 'lazy', 'dog'],\n",
       " 8,\n",
       " 35)"
      ]
     },
     "execution_count": 71,
     "metadata": {},
     "output_type": "execute_result"
    }
   ],
   "source": [
    "val = \"The quick brown fox jumps over the lazy dog\"\n",
    "def vowelConsocount():\n",
    "    Vowels = \"aeiou\"\n",
    "    consoCount,vowelCount,char_count, word_count,white_space_count  = 0,0,0,0,0\n",
    "    for ch in val:\n",
    "        char_count += 1\n",
    "        if ch in Vowels:\n",
    "            vowelCount += 1\n",
    "        else:\n",
    "            consoCount += 1\n",
    "        if ch == \" \":\n",
    "            white_space_count +=1     \n",
    "        total_char_without_white_space = char_count - white_space_count\n",
    "    words = val.split(\" \")\n",
    "    for word in words:\n",
    "        word_count += 1\n",
    "    return vowelCount,consoCount,word_count,char_count,words,white_space_count,total_char_without_white_space\n",
    "vowelConsocount()"
   ]
  },
  {
   "cell_type": "code",
   "execution_count": 3,
   "id": "b7307f50-2ffd-4821-bc62-031c199ced03",
   "metadata": {},
   "outputs": [
    {
     "name": "stdout",
     "output_type": "stream",
     "text": [
      "Celsius to Fahrenheit:  98.6 °F\n"
     ]
    }
   ],
   "source": [
    "# 1.Define a function to convert \"Celsius to Fahrenheit\"\n",
    "# 1. Define a function to convert **Celsius to Fahrenheit**.\n",
    "def function(c):\n",
    "    f = (c*9/5) + 32\n",
    "    print(\"Celsius to Fahrenheit: \", f,\"°F\")\n",
    "\n",
    "function(37)"
   ]
  },
  {
   "cell_type": "code",
   "execution_count": 4,
   "id": "8223c38c-8d2f-49f0-8a31-508bbef1ad96",
   "metadata": {},
   "outputs": [
    {
     "data": {
      "text/plain": [
       "212.0"
      ]
     },
     "execution_count": 4,
     "metadata": {},
     "output_type": "execute_result"
    }
   ],
   "source": [
    "def celtofar(c):\n",
    "    f = (c * 9 /5) + 32\n",
    "    return f\n",
    "\n",
    "celtofar(100)"
   ]
  },
  {
   "cell_type": "code",
   "execution_count": 5,
   "id": "e0bc295d-6781-4c12-8c95-59effc71853c",
   "metadata": {},
   "outputs": [
    {
     "name": "stdin",
     "output_type": "stream",
     "text": [
      "Enter temperature in celcius 37\n"
     ]
    },
    {
     "name": "stdout",
     "output_type": "stream",
     "text": [
      "Temperature in fahrenheit: 98.6\n"
     ]
    }
   ],
   "source": [
    "def temp(celsius):\n",
    "    fahrenheit = (celsius * 9/5) + 32\n",
    "    return fahrenheit\n",
    "n=float(input(\"Enter temperature in celcius\"))\n",
    "print(\"Temperature in fahrenheit:\", temp(n))"
   ]
  },
  {
   "cell_type": "code",
   "execution_count": 6,
   "id": "792b6ad3-d064-47b4-8010-69d8b56f2f5c",
   "metadata": {},
   "outputs": [
    {
     "name": "stdin",
     "output_type": "stream",
     "text": [
      "Enter temperature in Celsius:  37\n"
     ]
    },
    {
     "name": "stdout",
     "output_type": "stream",
     "text": [
      "Temperature in Fahrenheit: 98.6\n"
     ]
    }
   ],
   "source": [
    "def celsius_to_fahrenheit(celsius):\n",
    "    return (celsius * 9/5) + 32\n",
    "\n",
    "c = float(input(\"Enter temperature in Celsius: \"))\n",
    "\n",
    "f = celsius_to_fahrenheit(c)\n",
    "\n",
    "print(\"Temperature in Fahrenheit:\", f)"
   ]
  },
  {
   "cell_type": "code",
   "execution_count": null,
   "id": "6388e226-8f7e-49d9-8a59-579818f21334",
   "metadata": {},
   "outputs": [],
   "source": [
    "# 1 (1 x 1)\n",
    "# 4 (2 x 2)\n",
    "# 9 (3 x 3)\n",
    "# 16 (4 x 4)\n",
    "# 25 (5 x 5)\n",
    "# 36 (6 x 6)\n",
    "# 49 (7 x 7)\n",
    "# 64 (8 x 8)\n",
    "# 81 (9 x 9)\n",
    "# 100 (10 x 10)"
   ]
  },
  {
   "cell_type": "code",
   "execution_count": 9,
   "id": "c731654c-180b-4ea2-9ed8-df0030a9d33d",
   "metadata": {},
   "outputs": [
    {
     "name": "stdout",
     "output_type": "stream",
     "text": [
      "36 is a perfect square\n"
     ]
    }
   ],
   "source": [
    "# 2. Write a function to check if a number is a **perfect square**.\n",
    "def square(x):\n",
    "    a = []\n",
    "    for i in range(1, x+1):\n",
    "        a.append(i*i)\n",
    "    if x in a:\n",
    "        print(f\"{x} is a perfect square\")\n",
    "    else:\n",
    "        print(f\"{x} is not a perfect square!\")\n",
    "square(36)"
   ]
  },
  {
   "cell_type": "code",
   "execution_count": null,
   "id": "2e733c28-35e4-4535-9139-6cf8c4af6196",
   "metadata": {},
   "outputs": [],
   "source": [
    "def is_perfect_square(num):\n",
    "    if num < 0:\n",
    "        return False\n",
    "   \n",
    "    root = int(num ** 0.5)\n",
    "    \n",
    "    return root * root == num\n",
    "\n",
    "n = int(input(\"Enter a number: \"))\n",
    "\n",
    "if is_perfect_square(n):\n",
    "    print(n, \"is a perfect square.\")\n",
    "else:\n",
    "    print(n, \"is not a perfect square.\")"
   ]
  },
  {
   "cell_type": "code",
   "execution_count": 10,
   "id": "95742e9b-8ac3-4567-8e9e-29b49e5b905d",
   "metadata": {},
   "outputs": [
    {
     "data": {
      "text/plain": [
       "2.0"
      ]
     },
     "execution_count": 10,
     "metadata": {},
     "output_type": "execute_result"
    }
   ],
   "source": [
    "import math\n",
    "\n",
    "math.sqrt(4)"
   ]
  },
  {
   "cell_type": "code",
   "execution_count": 11,
   "id": "7e70884c-d725-4291-97cf-4402972f9d58",
   "metadata": {},
   "outputs": [
    {
     "name": "stdout",
     "output_type": "stream",
     "text": [
      "256 is a perfect sqaure\n"
     ]
    }
   ],
   "source": [
    "def perfectSqaure(n):\n",
    "    if n < 0:\n",
    "        return False\n",
    "    lst = []\n",
    "    for i in range(1, n + 1):\n",
    "        lst.append(i*i)\n",
    "    if  n in lst:\n",
    "        print(f\"{n} is a perfect sqaure\")\n",
    "    else:\n",
    "        print(f\"{n} is not a perfect sqaure\")\n",
    "perfectSqaure(256)"
   ]
  },
  {
   "cell_type": "code",
   "execution_count": 12,
   "id": "d5042252-34bb-4102-8b49-1958c6f745f9",
   "metadata": {},
   "outputs": [
    {
     "data": {
      "text/plain": [
       "6"
      ]
     },
     "execution_count": 12,
     "metadata": {},
     "output_type": "execute_result"
    }
   ],
   "source": [
    "# 3. Create a function to return the *length of a string*.\n",
    "def length_count(string1):\n",
    "    count = 0\n",
    "    for i in string1:\n",
    "        count += 1\n",
    "    return count\n",
    "length_count(\"aditya\")"
   ]
  },
  {
   "cell_type": "code",
   "execution_count": 14,
   "id": "b7c3aa60-03a1-40e5-bace-13f1fcbc14cf",
   "metadata": {},
   "outputs": [
    {
     "name": "stdout",
     "output_type": "stream",
     "text": [
      "4\n"
     ]
    }
   ],
   "source": [
    "# 3. Create a function to return the **length of a string**.\n",
    "def length(x):\n",
    "    count = 0\n",
    "    for i in x:\n",
    "        count += 1\n",
    "    print(count)\n",
    "length(\"abcd\")"
   ]
  },
  {
   "cell_type": "code",
   "execution_count": 15,
   "id": "7babf943-0982-4173-876e-33c0827326e5",
   "metadata": {},
   "outputs": [
    {
     "name": "stdin",
     "output_type": "stream",
     "text": [
      "Enter a string apple\n"
     ]
    },
    {
     "name": "stdout",
     "output_type": "stream",
     "text": [
      "Length of string: 5\n"
     ]
    }
   ],
   "source": [
    "def str(s):\n",
    "    count = 0\n",
    "    for i in s:   \n",
    "        count += 1\n",
    "    return count\n",
    "text = input(\"Enter a string\")\n",
    "print(\"Length of string:\", str(text))"
   ]
  },
  {
   "cell_type": "code",
   "execution_count": null,
   "id": "c7f566b6-eee3-4d6d-b855-1d55ecbbe3db",
   "metadata": {},
   "outputs": [],
   "source": [
    "# 4. Define a function to find the *sum of all digits* of a number\n",
    "\n",
    "digit = 1234567"
   ]
  },
  {
   "cell_type": "code",
   "execution_count": 23,
   "id": "5a547c3d-c637-4dd2-86c2-e3647c64fe4c",
   "metadata": {},
   "outputs": [
    {
     "name": "stdin",
     "output_type": "stream",
     "text": [
      " 1234\n"
     ]
    },
    {
     "name": "stdout",
     "output_type": "stream",
     "text": [
      "Sum of Digits : 10\n"
     ]
    }
   ],
   "source": [
    "# 4. Define a function to find the **sum of all digits** of a number.\n",
    "def digit_sum(x):\n",
    "    s = 0\n",
    "    for i in x:\n",
    "        a = int(i)\n",
    "        s = s + a\n",
    "    print(f\"Sum of Digits : {s}\")\n",
    "\n",
    "\n",
    "d = input()\n",
    "digit_sum(d)"
   ]
  },
  {
   "cell_type": "code",
   "execution_count": 18,
   "id": "573deaef-2d2c-420b-997a-ddeb0b759106",
   "metadata": {},
   "outputs": [
    {
     "name": "stdin",
     "output_type": "stream",
     "text": [
      "Enter a number 1234\n"
     ]
    },
    {
     "name": "stdout",
     "output_type": "stream",
     "text": [
      "Sum of digits: 10\n"
     ]
    }
   ],
   "source": [
    "def sum1(n):\n",
    "    total = 0\n",
    "    while n > 0:\n",
    "        digit = n % 10      \n",
    "        total += digit      \n",
    "        n //= 10            \n",
    "    return total\n",
    "num = int(input(\"Enter a number\"))\n",
    "print(\"Sum of digits:\", sum1(num))"
   ]
  },
  {
   "cell_type": "code",
   "execution_count": 19,
   "id": "af61c76c-734f-4f03-82f3-4cbe1d95559e",
   "metadata": {},
   "outputs": [
    {
     "name": "stdin",
     "output_type": "stream",
     "text": [
      "enter a number:  1235\n"
     ]
    },
    {
     "data": {
      "text/plain": [
       "11"
      ]
     },
     "execution_count": 19,
     "metadata": {},
     "output_type": "execute_result"
    }
   ],
   "source": [
    "def sumDigits():\n",
    "    n = input(\"enter a number: \" )\n",
    "    sum1 = 0\n",
    "    for i in n:\n",
    "        a = int(i)\n",
    "        sum1 += a\n",
    "    return sum1\n",
    "sumDigits()"
   ]
  },
  {
   "cell_type": "code",
   "execution_count": 24,
   "id": "eb1888f6-c57a-431e-8b08-a6ffcde22662",
   "metadata": {},
   "outputs": [
    {
     "name": "stdout",
     "output_type": "stream",
     "text": [
      "ABCD\n"
     ]
    }
   ],
   "source": [
    "# 5. Write a function that accepts a string and returns it in **uppercase**.\n",
    "def uppercase(s):\n",
    "    print(s.upper())\n",
    "\n",
    "uppercase(\"abcd\")"
   ]
  },
  {
   "cell_type": "code",
   "execution_count": 25,
   "id": "200e01be-32d5-46c5-9b75-abe9bd62eae6",
   "metadata": {},
   "outputs": [
    {
     "name": "stdin",
     "output_type": "stream",
     "text": [
      "Enter a string:  apple\n"
     ]
    },
    {
     "name": "stdout",
     "output_type": "stream",
     "text": [
      "Uppercase string: APPLE\n"
     ]
    }
   ],
   "source": [
    "def to_uppercase(text):\n",
    "    return text.upper()\n",
    "s = input(\"Enter a string: \")\n",
    "print(\"Uppercase string:\", to_uppercase(s))"
   ]
  },
  {
   "cell_type": "code",
   "execution_count": 26,
   "id": "2cd8f4fa-576f-4688-83d7-372c58d19d2b",
   "metadata": {},
   "outputs": [
    {
     "data": {
      "text/plain": [
       "'ADITYA'"
      ]
     },
     "execution_count": 26,
     "metadata": {},
     "output_type": "execute_result"
    }
   ],
   "source": [
    "def upperMaker(word):\n",
    "    uppercase = word.upper()\n",
    "    return uppercase\n",
    "\n",
    "upperMaker(\"aditya\")"
   ]
  },
  {
   "cell_type": "code",
   "execution_count": 30,
   "id": "f469a4b2-55ce-4843-ba98-5369e4353255",
   "metadata": {},
   "outputs": [
    {
     "name": "stdout",
     "output_type": "stream",
     "text": [
      "No of word:  9\n"
     ]
    }
   ],
   "source": [
    "# 6. Define a function to count the number of **words in a sentence**.\n",
    "def words(x):\n",
    "    count = 0\n",
    "    for i in x:\n",
    "        if i == \" \":\n",
    "            count += 1\n",
    "    print(\"No of word: \", count+1)\n",
    "words(\"the quick brown fox jump over the lazy dog\")"
   ]
  },
  {
   "cell_type": "code",
   "execution_count": 28,
   "id": "c3e5703b-f201-487a-a489-4b03ab1be152",
   "metadata": {},
   "outputs": [
    {
     "name": "stdin",
     "output_type": "stream",
     "text": [
      "Enter a sentence:  the quick brown fox jump over the lazy dog\n"
     ]
    },
    {
     "name": "stdout",
     "output_type": "stream",
     "text": [
      "Number of words: 9\n"
     ]
    }
   ],
   "source": [
    "def count_words(sentence):\n",
    "    val = sentence.split()   \n",
    "    count = 0\n",
    "    for i in val:            \n",
    "        count += 1\n",
    "    return count\n",
    "s = input(\"Enter a sentence: \")\n",
    "print(\"Number of words:\", count_words(s))"
   ]
  },
  {
   "cell_type": "code",
   "execution_count": 31,
   "id": "09a02416-90ed-4d3b-a5ee-f9513d19561c",
   "metadata": {},
   "outputs": [
    {
     "name": "stdin",
     "output_type": "stream",
     "text": [
      "enter a sentence:  the quick brown fox jump over the lazy dog\n"
     ]
    },
    {
     "name": "stdout",
     "output_type": "stream",
     "text": [
      "words in the sentence: ['the', 'quick', 'brown', 'fox', 'jump', 'over', 'the', 'lazy', 'dog']\n",
      "no of words are: 9\n"
     ]
    }
   ],
   "source": []
  },
  {
   "cell_type": "code",
   "execution_count": 34,
   "id": "e039f914-ce56-4316-ba9c-a9ca03b35091",
   "metadata": {},
   "outputs": [
    {
     "name": "stdout",
     "output_type": "stream",
     "text": [
      "The smallest number : 1\n"
     ]
    }
   ],
   "source": [
    "# 7. Write a function to return the **smallest number in a list**.\n",
    "def smallest_number(x):\n",
    "    s = max(x)\n",
    "    for i in x:\n",
    "        if i < s:\n",
    "            s = i\n",
    "    print(f\"The smallest number : {s}\")\n",
    "smallest_number([2, 3, 5, 7, 9, 1,45])"
   ]
  },
  {
   "cell_type": "code",
   "execution_count": 35,
   "id": "b5f9ecb3-675f-41f4-a9eb-86d7233d6dae",
   "metadata": {},
   "outputs": [
    {
     "name": "stdout",
     "output_type": "stream",
     "text": [
      "The smallest number : 1\n"
     ]
    }
   ],
   "source": [
    "# write a function to take list of numbers from user and find maximum and minimum from generated list.\n",
    "\n",
    "def smallest_number(x):\n",
    "    s = max(x)\n",
    "    for i in x:\n",
    "        if i < s:\n",
    "            s = i\n",
    "    print(f\"The smallest number : {s}\")\n",
    "smallest_number([2, 3, 5, 7, 9, 1])"
   ]
  },
  {
   "cell_type": "code",
   "execution_count": 36,
   "id": "a9a24f4e-24c0-4be9-a55e-efe8fac8c702",
   "metadata": {},
   "outputs": [
    {
     "name": "stdout",
     "output_type": "stream",
     "text": [
      "The smallest no in the list is: 1\n"
     ]
    }
   ],
   "source": [
    "def smallestNum (list1):\n",
    "    min1 = list1[0]\n",
    "    for num in list1:\n",
    "        if num < min1:\n",
    "            min1 = num\n",
    "    print(f\"The smallest no in the list is: {min1}\")\n",
    "\n",
    "smallestNum([1,2,3,4,1,23,22,21])"
   ]
  },
  {
   "cell_type": "code",
   "execution_count": 37,
   "id": "92e3eace-a865-4955-b87c-104220149a48",
   "metadata": {},
   "outputs": [
    {
     "name": "stdout",
     "output_type": "stream",
     "text": [
      "List: [10, 45, 76, 89, 5, 34]\n",
      "Smallest number: 5\n"
     ]
    }
   ],
   "source": [
    "def smallest_number(numbers):\n",
    "    smallest = numbers[0]\n",
    "    for i in numbers:\n",
    "        if i < smallest:\n",
    "            smallest = i\n",
    "    return smallest\n",
    "nums = [10,45,76,89,5,34]\n",
    "print(\"List:\", nums)\n",
    "print(\"Smallest number:\",\n",
    "smallest_number(nums))"
   ]
  },
  {
   "cell_type": "code",
   "execution_count": 38,
   "id": "4a971bd1-4ccc-408e-bd37-32199aaf15ec",
   "metadata": {},
   "outputs": [
    {
     "name": "stdin",
     "output_type": "stream",
     "text": [
      "Enter numbers separated by space:  10 45 68 95 82 56 45 78 26 1 0 45 22 1 \n"
     ]
    },
    {
     "name": "stdout",
     "output_type": "stream",
     "text": [
      "List: [10, 45, 68, 95, 82, 56, 45, 78, 26, 1, 0, 45, 22, 1]\n",
      "Maximum from [10, 45, 68, 95, 82, 56, 45, 78, 26, 1, 0, 45, 22, 1]: 95\n",
      "Minimum from [10, 45, 68, 95, 82, 56, 45, 78, 26, 1, 0, 45, 22, 1]: 0\n"
     ]
    }
   ],
   "source": [
    "def find():\n",
    "    user = input(\"Enter numbers separated by space: \").split()\n",
    "    \n",
    "    numbers = []\n",
    "    for item in user:\n",
    "        numbers.append(int(item))\n",
    "        \n",
    "    maximum = numbers[0]\n",
    "    minimum = numbers[0]\n",
    "    \n",
    "    for i in numbers:\n",
    "        if i > maximum:\n",
    "            maximum = i\n",
    "        if i < minimum:\n",
    "            minimum = i\n",
    "    \n",
    "    print(\"List:\", numbers)\n",
    "    print(f\"Maximum from {numbers}:\", maximum)\n",
    "    print(f\"Minimum from {numbers}:\", minimum)\n",
    "\n",
    "find()"
   ]
  },
  {
   "cell_type": "code",
   "execution_count": 41,
   "id": "ceec2b5e-f679-4507-8bc4-16df9b52dbbd",
   "metadata": {},
   "outputs": [
    {
     "name": "stdin",
     "output_type": "stream",
     "text": [
      "Enter any value (0 to stop):  15\n",
      "Enter any value (0 to stop):  78\n",
      "Enter any value (0 to stop):  -10\n",
      "Enter any value (0 to stop):  1\n",
      "Enter any value (0 to stop):  20\n",
      "Enter any value (0 to stop):  30\n",
      "Enter any value (0 to stop):  60\n",
      "Enter any value (0 to stop):  0\n"
     ]
    },
    {
     "name": "stdout",
     "output_type": "stream",
     "text": [
      "The smallest number in the list is: -10 and max: 78\n"
     ]
    }
   ],
   "source": [
    "\n",
    "def minNum():\n",
    "    listVal = []\n",
    "    \n",
    "    while True:\n",
    "        userVal = int(input(\"Enter any value (0 to stop): \"))\n",
    "        listVal.append(userVal)\n",
    "        if userVal == 0:  \n",
    "            break\n",
    "        \n",
    "    \n",
    "    min1 = listVal[0]\n",
    "    max1 = listVal[-1]\n",
    "    for num in listVal:\n",
    "        if num < min1:\n",
    "            min1 = num\n",
    "        if num> max1:\n",
    "            max1 = num\n",
    "    print(f\"The smallest number in the list is: {min1} and max: {max1}\")\n",
    "minNum()"
   ]
  },
  {
   "cell_type": "code",
   "execution_count": null,
   "id": "0a795649-43d4-4e05-b66c-140092222e70",
   "metadata": {},
   "outputs": [],
   "source": []
  }
 ],
 "metadata": {
  "kernelspec": {
   "display_name": "Python 3 (ipykernel)",
   "language": "python",
   "name": "python3"
  },
  "language_info": {
   "codemirror_mode": {
    "name": "ipython",
    "version": 3
   },
   "file_extension": ".py",
   "mimetype": "text/x-python",
   "name": "python",
   "nbconvert_exporter": "python",
   "pygments_lexer": "ipython3",
   "version": "3.13.7"
  }
 },
 "nbformat": 4,
 "nbformat_minor": 5
}
