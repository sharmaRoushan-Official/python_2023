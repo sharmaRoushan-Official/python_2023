{
 "cells": [
  {
   "cell_type": "markdown",
   "id": "2f2f21fb-d7a5-4e54-b642-ca8c311ef306",
   "metadata": {},
   "source": [
    "# 4. Tuples in Python\n",
    "\n",
    " * __Tuples are immutable lists and cannot be changed in any way once it is created.__\n",
    " * __Tuples are defined in the same way as lists.__\n",
    " * __They are enclosed within parentheses and not within square braces.__\n",
    " * __Tuples are ordered, indexed collections of data.__\n",
    " * __Similar to string indices, the first value in the tuple will have the index[0], the second value will be [1].__\n",
    "\n",
    " * __Negative indices are counted from the end of the tuple, just like lists as well as strings.__\n",
    " * __Tuples also have the same structure where commas separate values.__\n",
    " * __Tuples can store duplicate values.__\n",
    " * __Tuples allow you to store several data items, including string, integer, and float in one variable.__\n",
    "   "
   ]
  },
  {
   "cell_type": "code",
   "execution_count": 2,
   "id": "0473d67c-76d0-4adb-9c4c-9fdb3f8691f7",
   "metadata": {},
   "outputs": [
    {
     "name": "stdout",
     "output_type": "stream",
     "text": [
      "()\n",
      "<class 'tuple'>\n"
     ]
    }
   ],
   "source": [
    "tuple_1 = ()\n",
    "print(tuple_1)\n",
    "print(type(tuple_1))"
   ]
  },
  {
   "cell_type": "code",
   "execution_count": 4,
   "id": "b88c1c24-5101-4887-8c71-f4a35b05d476",
   "metadata": {},
   "outputs": [
    {
     "name": "stdout",
     "output_type": "stream",
     "text": [
      "10\n",
      "<class 'int'>\n"
     ]
    }
   ],
   "source": [
    "x = (10,)\n",
    "print(x)\n",
    "print(type(x))"
   ]
  },
  {
   "cell_type": "code",
   "execution_count": null,
   "id": "eed3857e-e913-419d-8cd0-4664b7ec5aa2",
   "metadata": {},
   "outputs": [],
   "source": [
    "prefix, infix, postfix- [high precedence- /,*,%, low precedence- +, - ,] "
   ]
  },
  {
   "cell_type": "code",
   "execution_count": 18,
   "id": "7819a1ce-c1fd-4302-88d5-270d73641718",
   "metadata": {},
   "outputs": [
    {
     "name": "stdout",
     "output_type": "stream",
     "text": [
      "(10, 1020, 464) <class 'tuple'>\n"
     ]
    }
   ],
   "source": [
    "x = 10,1020,464\n",
    "print(x,type(x))"
   ]
  },
  {
   "cell_type": "code",
   "execution_count": 14,
   "id": "e0ba7939-61a6-4da0-916f-dcee9761e83f",
   "metadata": {},
   "outputs": [
    {
     "name": "stdout",
     "output_type": "stream",
     "text": [
      "() <class 'tuple'>\n"
     ]
    }
   ],
   "source": [
    "x = ()\n",
    "print(x,type(x))"
   ]
  },
  {
   "cell_type": "code",
   "execution_count": 20,
   "id": "58b88822-d987-4523-9cf0-064d94d8225f",
   "metadata": {},
   "outputs": [
    {
     "data": {
      "text/plain": [
       "(10, 1020, 464)"
      ]
     },
     "execution_count": 20,
     "metadata": {},
     "output_type": "execute_result"
    }
   ],
   "source": [
    "# immutable list\n",
    "# append, extend, insert, update, delete - tuple\n",
    "# index value- positive and negative\n",
    "\n",
    "x"
   ]
  },
  {
   "cell_type": "code",
   "execution_count": 24,
   "id": "9cfd60c8-71cc-4716-9348-8b781234d2ea",
   "metadata": {},
   "outputs": [
    {
     "name": "stdout",
     "output_type": "stream",
     "text": [
      "10\n",
      "1020\n",
      "464\n"
     ]
    }
   ],
   "source": [
    "print(x[0])\n",
    "print(x[1])\n",
    "print(x[2])\n",
    "# print(x[0])"
   ]
  },
  {
   "cell_type": "code",
   "execution_count": 26,
   "id": "e068802d-e483-4fea-b7b1-8b483838af9d",
   "metadata": {},
   "outputs": [
    {
     "name": "stdout",
     "output_type": "stream",
     "text": [
      "464\n",
      "1020\n",
      "10\n"
     ]
    }
   ],
   "source": [
    "# negative indexing\n",
    "print(x[-1])\n",
    "print(x[-2])\n",
    "print(x[-3])"
   ]
  },
  {
   "cell_type": "code",
   "execution_count": 28,
   "id": "5d594508-9790-45c2-aa1a-26e15222d3c9",
   "metadata": {},
   "outputs": [
    {
     "name": "stdout",
     "output_type": "stream",
     "text": [
      "('Python', 'Hello', 20, 10, 20, 30, True, 'True')\n"
     ]
    }
   ],
   "source": [
    "# concatenation value\n",
    "\n",
    "tup1 = ('Python',\"Hello\",20)\n",
    "tup2 = (10,20,30,True, 'True')\n",
    "\n",
    "print(tup1+tup2)"
   ]
  },
  {
   "cell_type": "code",
   "execution_count": 30,
   "id": "322f1606-d27b-49e3-88c0-dd384ce3a6a1",
   "metadata": {},
   "outputs": [
    {
     "data": {
      "text/plain": [
       "(1, 2, 3, 4, 1, 2, 3, 4)"
      ]
     },
     "execution_count": 30,
     "metadata": {},
     "output_type": "execute_result"
    }
   ],
   "source": [
    "rep_tup = (1,2,3,4)\n",
    "rep_tup*2"
   ]
  },
  {
   "cell_type": "code",
   "execution_count": 34,
   "id": "747e3a5d-3b52-4f8d-ad2b-d31a1dc5c534",
   "metadata": {},
   "outputs": [
    {
     "name": "stdout",
     "output_type": "stream",
     "text": [
      "2,4,6,8,"
     ]
    }
   ],
   "source": [
    "# for\n",
    "\n",
    "for x in rep_tup:\n",
    "    print(x*2,end=\",\")"
   ]
  },
  {
   "cell_type": "code",
   "execution_count": 38,
   "id": "d86db7e9-dfa7-443a-9f70-50cde6a66cc2",
   "metadata": {},
   "outputs": [
    {
     "data": {
      "text/plain": [
       "(1, 2, 3, 4)"
      ]
     },
     "execution_count": 38,
     "metadata": {},
     "output_type": "execute_result"
    }
   ],
   "source": [
    "rep_tup"
   ]
  },
  {
   "cell_type": "code",
   "execution_count": 42,
   "id": "b9be815b-290c-43d4-b78c-6442e1c4c96c",
   "metadata": {},
   "outputs": [
    {
     "data": {
      "text/plain": [
       "1"
      ]
     },
     "execution_count": 42,
     "metadata": {},
     "output_type": "execute_result"
    }
   ],
   "source": [
    "min(rep_tup)"
   ]
  },
  {
   "cell_type": "code",
   "execution_count": 44,
   "id": "99779402-5b45-4415-b5c8-e82d0b4d91dc",
   "metadata": {},
   "outputs": [
    {
     "data": {
      "text/plain": [
       "4"
      ]
     },
     "execution_count": 44,
     "metadata": {},
     "output_type": "execute_result"
    }
   ],
   "source": [
    "max(rep_tup)"
   ]
  },
  {
   "cell_type": "code",
   "execution_count": 46,
   "id": "b9501fdc-4a59-43ee-9938-451d02c16d48",
   "metadata": {},
   "outputs": [
    {
     "data": {
      "text/plain": [
       "10"
      ]
     },
     "execution_count": 46,
     "metadata": {},
     "output_type": "execute_result"
    }
   ],
   "source": [
    "sum(rep_tup)"
   ]
  },
  {
   "cell_type": "code",
   "execution_count": 64,
   "id": "467dd112-1008-4260-adba-455841612e3a",
   "metadata": {},
   "outputs": [
    {
     "name": "stdout",
     "output_type": "stream",
     "text": [
      "Aditya <class 'str'>\n"
     ]
    }
   ],
   "source": [
    "# tup(seq) function\n",
    "# it converts a specific sequence to a tuple\n",
    "\n",
    "seq = \"Aditya\"\n",
    "print(seq,type(seq))"
   ]
  },
  {
   "cell_type": "code",
   "execution_count": 66,
   "id": "f1664d21-b87e-4bc6-9e67-a182d4737df1",
   "metadata": {},
   "outputs": [
    {
     "data": {
      "text/plain": [
       "('A', 'd', 'i', 't', 'y', 'a')"
      ]
     },
     "execution_count": 66,
     "metadata": {},
     "output_type": "execute_result"
    }
   ],
   "source": [
    "tuple(seq)"
   ]
  },
  {
   "cell_type": "code",
   "execution_count": 70,
   "id": "02433af5-ed58-4293-be67-7fef881d1a44",
   "metadata": {},
   "outputs": [
    {
     "name": "stdout",
     "output_type": "stream",
     "text": [
      "('Hello', 'Python', 3.147, True, False, (1, 2, 3), [1, 2, 3], {1, 2, 3}, {'a': 'apple', 'b': 'ball'})\n"
     ]
    }
   ],
   "source": [
    "tuple1 = ('Hello', \"Python\",3.147, True, False,(1,2,3),[1,2,3],{1,2,3},{'a':'apple','b':'ball'})\n",
    "print(tuple1)"
   ]
  },
  {
   "cell_type": "code",
   "execution_count": 76,
   "id": "260be6d3-ab75-42f5-90e0-4c48db339bd2",
   "metadata": {},
   "outputs": [
    {
     "name": "stdout",
     "output_type": "stream",
     "text": [
      "<class 'str'>\n",
      "<class 'str'>\n",
      "<class 'float'>\n",
      "<class 'bool'>\n",
      "<class 'bool'>\n",
      "<class 'tuple'>\n",
      "<class 'list'>\n",
      "<class 'set'>\n",
      "<class 'dict'>\n"
     ]
    }
   ],
   "source": [
    "print(type(tuple1[0]))\n",
    "print(type(tuple1[1]))\n",
    "print(type(tuple1[2]))\n",
    "print(type(tuple1[3]))\n",
    "print(type(tuple1[4]))\n",
    "print(type(tuple1[5]))\n",
    "print(type(tuple1[6]))\n",
    "print(type(tuple1[7]))\n",
    "print(type(tuple1[8]))\n"
   ]
  },
  {
   "cell_type": "code",
   "execution_count": 78,
   "id": "323c6464-64dd-4171-8645-d39bf98fdb73",
   "metadata": {},
   "outputs": [
    {
     "data": {
      "text/plain": [
       "('Hello',\n",
       " 'Python',\n",
       " 3.147,\n",
       " True,\n",
       " False,\n",
       " (1, 2, 3),\n",
       " [1, 2, 3],\n",
       " {1, 2, 3},\n",
       " {'a': 'apple', 'b': 'ball'})"
      ]
     },
     "execution_count": 78,
     "metadata": {},
     "output_type": "execute_result"
    }
   ],
   "source": [
    "tuple1"
   ]
  },
  {
   "cell_type": "code",
   "execution_count": 84,
   "id": "c4106d84-4cef-4d3b-ab63-b4cde8ebb227",
   "metadata": {},
   "outputs": [
    {
     "data": {
      "text/plain": [
       "('Hello', 'Python')"
      ]
     },
     "execution_count": 84,
     "metadata": {},
     "output_type": "execute_result"
    }
   ],
   "source": [
    "tuple1[:2]"
   ]
  },
  {
   "cell_type": "code",
   "execution_count": 88,
   "id": "0f44721f-d8f2-4429-a0bf-381ceecfb2dd",
   "metadata": {},
   "outputs": [
    {
     "data": {
      "text/plain": [
       "((1, 2, 3), [1, 2, 3])"
      ]
     },
     "execution_count": 88,
     "metadata": {},
     "output_type": "execute_result"
    }
   ],
   "source": [
    "tuple1[5:7]"
   ]
  },
  {
   "cell_type": "code",
   "execution_count": 141,
   "id": "15aafd5f-6560-4512-8c20-b76fc1c3bd74",
   "metadata": {},
   "outputs": [
    {
     "name": "stdout",
     "output_type": "stream",
     "text": [
      "('Hello', 'Python', 3.147, True, False, (1, 2, 3), [1, 2, 3], {1, 2, 3}, {'a': 'apple', 'b': 'ball'})\n"
     ]
    }
   ],
   "source": [
    "tuple1 = ('Hello',\"Python\",3.147,True,False,(1,2,3),[1,2,3],{1,2,3},{'a':'apple','b':'ball'})\n",
    "print(tuple1)"
   ]
  },
  {
   "cell_type": "code",
   "execution_count": 99,
   "id": "d66dfb56-c3df-42ee-9882-b42f37e4d5c7",
   "metadata": {},
   "outputs": [
    {
     "name": "stdout",
     "output_type": "stream",
     "text": [
      "('Hello', 'Python', 3.147, True, False, (1, 2, 3), [1, 2, 'Aditya'], {1, 2, 3}, {'a': 'apple', 'b': 'ball'})\n"
     ]
    }
   ],
   "source": [
    "tuple1[6][2] = \"Aditya\"\n",
    "print(tuple1)"
   ]
  },
  {
   "cell_type": "code",
   "execution_count": 101,
   "id": "5dd94624-e34b-477e-b405-b29c58cbc87d",
   "metadata": {},
   "outputs": [
    {
     "data": {
      "text/plain": [
       "('Hello',\n",
       " 'Python',\n",
       " 3.147,\n",
       " True,\n",
       " False,\n",
       " (1, 2, 3),\n",
       " [1, 2, 'Aditya'],\n",
       " {1, 2, 3},\n",
       " {'a': 'apple', 'b': 'ball'})"
      ]
     },
     "execution_count": 101,
     "metadata": {},
     "output_type": "execute_result"
    }
   ],
   "source": [
    "tuple1"
   ]
  },
  {
   "cell_type": "code",
   "execution_count": 105,
   "id": "fd702d12-f0ff-44bb-81a8-5231364c25c4",
   "metadata": {},
   "outputs": [
    {
     "data": {
      "text/plain": [
       "('Hello', 3.147, False, [1, 2, 'Aditya'], {'a': 'apple', 'b': 'ball'})"
      ]
     },
     "execution_count": 105,
     "metadata": {},
     "output_type": "execute_result"
    }
   ],
   "source": [
    "# striding value \n",
    "tuple1[::2]"
   ]
  },
  {
   "cell_type": "code",
   "execution_count": 107,
   "id": "de01597c-b00a-4833-aea7-19f1d30c6412",
   "metadata": {},
   "outputs": [
    {
     "data": {
      "text/plain": [
       "('Hello', True, [1, 2, 'Aditya'])"
      ]
     },
     "execution_count": 107,
     "metadata": {},
     "output_type": "execute_result"
    }
   ],
   "source": [
    "tuple1[::3]"
   ]
  },
  {
   "cell_type": "code",
   "execution_count": 109,
   "id": "daf00e60-9ae1-4248-859c-0b8599012270",
   "metadata": {},
   "outputs": [
    {
     "data": {
      "text/plain": [
       "('Hello', False, {'a': 'apple', 'b': 'ball'})"
      ]
     },
     "execution_count": 109,
     "metadata": {},
     "output_type": "execute_result"
    }
   ],
   "source": [
    "tuple1[::4]"
   ]
  },
  {
   "cell_type": "code",
   "execution_count": 111,
   "id": "c3a30da0-b845-47a2-9594-c9bfac4eaa9b",
   "metadata": {},
   "outputs": [
    {
     "data": {
      "text/plain": [
       "9"
      ]
     },
     "execution_count": 111,
     "metadata": {},
     "output_type": "execute_result"
    }
   ],
   "source": [
    "len(tuple1)"
   ]
  },
  {
   "cell_type": "code",
   "execution_count": 113,
   "id": "c1abdc10-86dc-4f12-8f10-91d1f52015a9",
   "metadata": {},
   "outputs": [
    {
     "data": {
      "text/plain": [
       "('Hello',\n",
       " 'Python',\n",
       " 3.147,\n",
       " True,\n",
       " False,\n",
       " (1, 2, 3),\n",
       " [1, 2, 'Aditya'],\n",
       " {1, 2, 3},\n",
       " {'a': 'apple', 'b': 'ball'})"
      ]
     },
     "execution_count": 113,
     "metadata": {},
     "output_type": "execute_result"
    }
   ],
   "source": [
    "tuple1"
   ]
  },
  {
   "cell_type": "code",
   "execution_count": 115,
   "id": "06aa7469-6852-4c0a-b4fa-e1bdb51c58e8",
   "metadata": {},
   "outputs": [
    {
     "data": {
      "text/plain": [
       "('Hello',\n",
       " 'Python',\n",
       " 3.147,\n",
       " True,\n",
       " False,\n",
       " (1, 2, 3),\n",
       " [1, 2, 'Aditya'],\n",
       " {1, 2, 3},\n",
       " {'a': 'apple', 'b': 'ball'})"
      ]
     },
     "execution_count": 115,
     "metadata": {},
     "output_type": "execute_result"
    }
   ],
   "source": [
    "# Tuples are immutable\n",
    "\n",
    "tuple1"
   ]
  },
  {
   "cell_type": "code",
   "execution_count": 119,
   "id": "3fe41b73-0313-4c51-833c-7117c8205cb0",
   "metadata": {},
   "outputs": [
    {
     "ename": "TypeError",
     "evalue": "'tuple' object does not support item assignment",
     "output_type": "error",
     "traceback": [
      "\u001b[1;31m---------------------------------------------------------------------------\u001b[0m",
      "\u001b[1;31mTypeError\u001b[0m                                 Traceback (most recent call last)",
      "Cell \u001b[1;32mIn[119], line 1\u001b[0m\n\u001b[1;32m----> 1\u001b[0m tuple1[\u001b[38;5;241m1\u001b[39m] \u001b[38;5;241m=\u001b[39m \u001b[38;5;124m'\u001b[39m\u001b[38;5;124mworld\u001b[39m\u001b[38;5;124m'\u001b[39m\n",
      "\u001b[1;31mTypeError\u001b[0m: 'tuple' object does not support item assignment"
     ]
    }
   ],
   "source": [
    "tuple1[1] = 'world'"
   ]
  },
  {
   "cell_type": "code",
   "execution_count": 121,
   "id": "2e53ab5e-4f29-4459-a134-5f32184e88e4",
   "metadata": {},
   "outputs": [
    {
     "ename": "AttributeError",
     "evalue": "'tuple' object has no attribute 'pop'",
     "output_type": "error",
     "traceback": [
      "\u001b[1;31m---------------------------------------------------------------------------\u001b[0m",
      "\u001b[1;31mAttributeError\u001b[0m                            Traceback (most recent call last)",
      "Cell \u001b[1;32mIn[121], line 1\u001b[0m\n\u001b[1;32m----> 1\u001b[0m tuple1\u001b[38;5;241m.\u001b[39mpop()\n",
      "\u001b[1;31mAttributeError\u001b[0m: 'tuple' object has no attribute 'pop'"
     ]
    }
   ],
   "source": [
    "tuple1.pop()"
   ]
  },
  {
   "cell_type": "code",
   "execution_count": 127,
   "id": "7289575c-3459-4595-943e-66270b8938f4",
   "metadata": {},
   "outputs": [
    {
     "name": "stdout",
     "output_type": "stream",
     "text": [
      "('Hello', 'Python', 3.147, True, False, (1, 2, 3), [1, 2, 'Aditya'], {1, 2, 3}, {'a': 'apple', 'b': 'ball'})\n"
     ]
    },
    {
     "ename": "TypeError",
     "evalue": "'tuple' object doesn't support item deletion",
     "output_type": "error",
     "traceback": [
      "\u001b[1;31m---------------------------------------------------------------------------\u001b[0m",
      "\u001b[1;31mTypeError\u001b[0m                                 Traceback (most recent call last)",
      "Cell \u001b[1;32mIn[127], line 4\u001b[0m\n\u001b[0;32m      1\u001b[0m \u001b[38;5;66;03m# del()\u001b[39;00m\n\u001b[0;32m      3\u001b[0m \u001b[38;5;28mprint\u001b[39m(tuple1)\n\u001b[1;32m----> 4\u001b[0m \u001b[38;5;28;01mdel\u001b[39;00m(tuple1[\u001b[38;5;241m1\u001b[39m])\n",
      "\u001b[1;31mTypeError\u001b[0m: 'tuple' object doesn't support item deletion"
     ]
    }
   ],
   "source": [
    "# del()\n",
    "\n",
    "print(tuple1)\n",
    "del(tuple1[1])"
   ]
  },
  {
   "cell_type": "code",
   "execution_count": 129,
   "id": "b7c8c324-4044-468c-982b-6be79776ea69",
   "metadata": {},
   "outputs": [
    {
     "ename": "AttributeError",
     "evalue": "'tuple' object has no attribute 'remove'",
     "output_type": "error",
     "traceback": [
      "\u001b[1;31m---------------------------------------------------------------------------\u001b[0m",
      "\u001b[1;31mAttributeError\u001b[0m                            Traceback (most recent call last)",
      "Cell \u001b[1;32mIn[129], line 3\u001b[0m\n\u001b[0;32m      1\u001b[0m \u001b[38;5;66;03m# remove\u001b[39;00m\n\u001b[1;32m----> 3\u001b[0m tuple1\u001b[38;5;241m.\u001b[39mremove(\u001b[38;5;124m'\u001b[39m\u001b[38;5;124mPython\u001b[39m\u001b[38;5;124m'\u001b[39m)\n\u001b[0;32m      4\u001b[0m tuple1\n",
      "\u001b[1;31mAttributeError\u001b[0m: 'tuple' object has no attribute 'remove'"
     ]
    }
   ],
   "source": [
    "# remove\n",
    "\n",
    "tuple1.remove('Python')\n",
    "tuple1"
   ]
  },
  {
   "cell_type": "code",
   "execution_count": 131,
   "id": "84ffec8e-dbf2-4dd4-b9d2-c5d26547be4d",
   "metadata": {},
   "outputs": [
    {
     "ename": "AttributeError",
     "evalue": "'tuple' object has no attribute 'append'",
     "output_type": "error",
     "traceback": [
      "\u001b[1;31m---------------------------------------------------------------------------\u001b[0m",
      "\u001b[1;31mAttributeError\u001b[0m                            Traceback (most recent call last)",
      "Cell \u001b[1;32mIn[131], line 3\u001b[0m\n\u001b[0;32m      1\u001b[0m \u001b[38;5;66;03m# append, insert, extend\u001b[39;00m\n\u001b[1;32m----> 3\u001b[0m tuple1\u001b[38;5;241m.\u001b[39mappend(\u001b[38;5;124m'\u001b[39m\u001b[38;5;124mhello world\u001b[39m\u001b[38;5;124m'\u001b[39m)\n",
      "\u001b[1;31mAttributeError\u001b[0m: 'tuple' object has no attribute 'append'"
     ]
    }
   ],
   "source": [
    "# append, insert, extend\n",
    "\n",
    "tuple1.append('hello world')"
   ]
  },
  {
   "cell_type": "code",
   "execution_count": 133,
   "id": "738e04a5-92bb-4681-a453-b0c4d0e34b3e",
   "metadata": {},
   "outputs": [
    {
     "ename": "AttributeError",
     "evalue": "'tuple' object has no attribute 'insert'",
     "output_type": "error",
     "traceback": [
      "\u001b[1;31m---------------------------------------------------------------------------\u001b[0m",
      "\u001b[1;31mAttributeError\u001b[0m                            Traceback (most recent call last)",
      "Cell \u001b[1;32mIn[133], line 2\u001b[0m\n\u001b[0;32m      1\u001b[0m \u001b[38;5;66;03m# insert \u001b[39;00m\n\u001b[1;32m----> 2\u001b[0m tuple1\u001b[38;5;241m.\u001b[39minsert(\u001b[38;5;241m0\u001b[39m,\u001b[38;5;124m\"\u001b[39m\u001b[38;5;124mHello world\u001b[39m\u001b[38;5;124m\"\u001b[39m)\n",
      "\u001b[1;31mAttributeError\u001b[0m: 'tuple' object has no attribute 'insert'"
     ]
    }
   ],
   "source": [
    "# insert \n",
    "tuple1.insert(0,\"Hello world\")"
   ]
  },
  {
   "cell_type": "code",
   "execution_count": 135,
   "id": "2e874b0f-1a6f-4b5e-9c5c-bc79e19af01a",
   "metadata": {},
   "outputs": [
    {
     "ename": "AttributeError",
     "evalue": "'tuple' object has no attribute 'extend'",
     "output_type": "error",
     "traceback": [
      "\u001b[1;31m---------------------------------------------------------------------------\u001b[0m",
      "\u001b[1;31mAttributeError\u001b[0m                            Traceback (most recent call last)",
      "Cell \u001b[1;32mIn[135], line 2\u001b[0m\n\u001b[0;32m      1\u001b[0m \u001b[38;5;66;03m# extend()\u001b[39;00m\n\u001b[1;32m----> 2\u001b[0m tuple1\u001b[38;5;241m.\u001b[39mextend([\u001b[38;5;124m'\u001b[39m\u001b[38;5;124mpython\u001b[39m\u001b[38;5;124m'\u001b[39m,\u001b[38;5;241m1\u001b[39m,\u001b[38;5;241m2\u001b[39m])\n",
      "\u001b[1;31mAttributeError\u001b[0m: 'tuple' object has no attribute 'extend'"
     ]
    }
   ],
   "source": [
    "# extend()\n",
    "tuple1.extend(['python',1,2])"
   ]
  },
  {
   "cell_type": "code",
   "execution_count": 137,
   "id": "5d9c84cd-0072-4308-bc43-47ee82c82f53",
   "metadata": {},
   "outputs": [],
   "source": [
    "# if you want to delete the whole tuple, then you can use del(), \n",
    "\n",
    "del(tuple1)"
   ]
  },
  {
   "cell_type": "code",
   "execution_count": 139,
   "id": "8d66f6f5-e027-4720-97a0-8139bd811e79",
   "metadata": {},
   "outputs": [
    {
     "ename": "NameError",
     "evalue": "name 'tuple1' is not defined",
     "output_type": "error",
     "traceback": [
      "\u001b[1;31m---------------------------------------------------------------------------\u001b[0m",
      "\u001b[1;31mNameError\u001b[0m                                 Traceback (most recent call last)",
      "Cell \u001b[1;32mIn[139], line 1\u001b[0m\n\u001b[1;32m----> 1\u001b[0m tuple1\n",
      "\u001b[1;31mNameError\u001b[0m: name 'tuple1' is not defined"
     ]
    }
   ],
   "source": [
    "tuple1"
   ]
  },
  {
   "cell_type": "code",
   "execution_count": 143,
   "id": "0d92cdcc-b99c-4644-bf64-19ec36fe2efc",
   "metadata": {},
   "outputs": [
    {
     "data": {
      "text/plain": [
       "2097319736640"
      ]
     },
     "execution_count": 143,
     "metadata": {},
     "output_type": "execute_result"
    }
   ],
   "source": [
    "id(tuple1)"
   ]
  },
  {
   "cell_type": "code",
   "execution_count": 145,
   "id": "720dbedc-0f39-4546-b81f-56427379c3c6",
   "metadata": {},
   "outputs": [
    {
     "data": {
      "text/plain": [
       "('Hello',\n",
       " 'Python',\n",
       " 3.147,\n",
       " True,\n",
       " False,\n",
       " (1, 2, 3),\n",
       " [1, 2, 3],\n",
       " {1, 2, 3},\n",
       " {'a': 'apple', 'b': 'ball'})"
      ]
     },
     "execution_count": 145,
     "metadata": {},
     "output_type": "execute_result"
    }
   ],
   "source": [
    "tuple1"
   ]
  },
  {
   "cell_type": "code",
   "execution_count": 151,
   "id": "b2983723-86cb-4489-bf7d-fc2d03f63d0b",
   "metadata": {},
   "outputs": [
    {
     "name": "stdout",
     "output_type": "stream",
     "text": [
      "2\n",
      "3\n"
     ]
    }
   ],
   "source": [
    "tuple4 = (1,3,5,7,8,1,7,7)\n",
    "# count: This method returns the number of times an item occurs in a tuple\n",
    "\n",
    "print(tuple4.count(1))\n",
    "print(tuple4.count(7))"
   ]
  },
  {
   "cell_type": "code",
   "execution_count": 155,
   "id": "f48a53a4-021e-447a-b313-2b541ad18a7d",
   "metadata": {},
   "outputs": [
    {
     "data": {
      "text/plain": [
       "3"
      ]
     },
     "execution_count": 155,
     "metadata": {},
     "output_type": "execute_result"
    }
   ],
   "source": [
    "# index() method: it returns the index of the first occurrence of the specified value in a tuple.\n",
    "tuple4.index(7)"
   ]
  },
  {
   "cell_type": "code",
   "execution_count": 159,
   "id": "93e40310-e2a4-4d35-a512-333f14e98419",
   "metadata": {},
   "outputs": [
    {
     "name": "stdout",
     "output_type": "stream",
     "text": [
      "1 <class 'int'>\n"
     ]
    }
   ],
   "source": [
    "# one element tuple:\n",
    "\n",
    "x = (1)\n",
    "print(x,type(x))"
   ]
  },
  {
   "cell_type": "code",
   "execution_count": 166,
   "id": "479b7ff8-207a-48fb-a9f3-2743da6fb6cf",
   "metadata": {},
   "outputs": [
    {
     "name": "stdout",
     "output_type": "stream",
     "text": [
      "Hello world <class 'str'>\n"
     ]
    }
   ],
   "source": [
    "tuple6 = (\"Hello world\")\n",
    "print(tuple6,type(tuple6))"
   ]
  },
  {
   "cell_type": "code",
   "execution_count": 168,
   "id": "5645ed83-0825-492d-9fa5-11ac1737efac",
   "metadata": {},
   "outputs": [
    {
     "name": "stdout",
     "output_type": "stream",
     "text": [
      "('Hello world',) <class 'tuple'>\n"
     ]
    }
   ],
   "source": [
    "tuple6 = (\"Hello world\",)\n",
    "print(tuple6,type(tuple6))"
   ]
  },
  {
   "cell_type": "code",
   "execution_count": 174,
   "id": "74a15b4b-a09f-45ae-a1df-1065e915e58d",
   "metadata": {},
   "outputs": [
    {
     "name": "stdout",
     "output_type": "stream",
     "text": [
      "[1] <class 'list'>\n"
     ]
    }
   ],
   "source": [
    "x = [1]\n",
    "print(x,type(x))"
   ]
  },
  {
   "cell_type": "code",
   "execution_count": 184,
   "id": "cba9e06c-86c6-4dd3-b2ee-cc333336dc60",
   "metadata": {},
   "outputs": [],
   "source": [
    "tuple2 = (1,56,76,87,54,24,3)\n",
    "len(tuple2) \n",
    "a,b,c,d,e,f,g = tuple2"
   ]
  },
  {
   "cell_type": "code",
   "execution_count": 186,
   "id": "e8ee28e6-0b12-4b93-98a8-3a8f169be56e",
   "metadata": {},
   "outputs": [
    {
     "data": {
      "text/plain": [
       "140730418411960"
      ]
     },
     "execution_count": 186,
     "metadata": {},
     "output_type": "execute_result"
    }
   ],
   "source": [
    "a\n",
    "id(a)"
   ]
  },
  {
   "cell_type": "code",
   "execution_count": 180,
   "id": "7128e48a-30a3-4f69-9160-90ade835812f",
   "metadata": {},
   "outputs": [
    {
     "data": {
      "text/plain": [
       "int"
      ]
     },
     "execution_count": 180,
     "metadata": {},
     "output_type": "execute_result"
    }
   ],
   "source": [
    "type(a)"
   ]
  },
  {
   "cell_type": "code",
   "execution_count": 190,
   "id": "1c3f19ae-25c7-439d-acb9-690396fc85eb",
   "metadata": {},
   "outputs": [
    {
     "name": "stdout",
     "output_type": "stream",
     "text": [
      "20\n"
     ]
    },
    {
     "data": {
      "text/plain": [
       "140730418412568"
      ]
     },
     "execution_count": 190,
     "metadata": {},
     "output_type": "execute_result"
    }
   ],
   "source": [
    "a= 20\n",
    "print(a)\n",
    "id(a)"
   ]
  },
  {
   "cell_type": "code",
   "execution_count": 192,
   "id": "8afad3e7-d9ea-42c3-bae7-e660f6de15af",
   "metadata": {},
   "outputs": [
    {
     "name": "stdout",
     "output_type": "stream",
     "text": [
      "20\n"
     ]
    }
   ],
   "source": [
    "print(a)"
   ]
  },
  {
   "cell_type": "code",
   "execution_count": 202,
   "id": "770f08da-f51e-46a2-896b-0e9954c33771",
   "metadata": {},
   "outputs": [],
   "source": [
    "a = 1\n",
    "a = 25\n",
    "a = 55"
   ]
  },
  {
   "cell_type": "code",
   "execution_count": 204,
   "id": "9d41115b-daf4-4879-be58-692ae44eb409",
   "metadata": {},
   "outputs": [
    {
     "data": {
      "text/plain": [
       "55"
      ]
     },
     "execution_count": 204,
     "metadata": {},
     "output_type": "execute_result"
    }
   ],
   "source": [
    "a"
   ]
  },
  {
   "cell_type": "code",
   "execution_count": 210,
   "id": "6ba67d0d-861b-4f90-9208-fefea195e28e",
   "metadata": {},
   "outputs": [
    {
     "name": "stdout",
     "output_type": "stream",
     "text": [
      "('apple', 20) <class 'tuple'>\n"
     ]
    },
    {
     "ename": "AttributeError",
     "evalue": "'tuple' object has no attribute 'appned'",
     "output_type": "error",
     "traceback": [
      "\u001b[1;31m---------------------------------------------------------------------------\u001b[0m",
      "\u001b[1;31mAttributeError\u001b[0m                            Traceback (most recent call last)",
      "Cell \u001b[1;32mIn[210], line 3\u001b[0m\n\u001b[0;32m      1\u001b[0m a \u001b[38;5;241m=\u001b[39m (\u001b[38;5;124m'\u001b[39m\u001b[38;5;124mapple\u001b[39m\u001b[38;5;124m'\u001b[39m,\u001b[38;5;241m20\u001b[39m)\n\u001b[0;32m      2\u001b[0m \u001b[38;5;28mprint\u001b[39m(a,\u001b[38;5;28mtype\u001b[39m(a))\n\u001b[1;32m----> 3\u001b[0m a\u001b[38;5;241m.\u001b[39mappned(\u001b[38;5;124m'\u001b[39m\u001b[38;5;124mboy\u001b[39m\u001b[38;5;124m'\u001b[39m)\n\u001b[0;32m      4\u001b[0m \u001b[38;5;28mprint\u001b[39m(a)\n",
      "\u001b[1;31mAttributeError\u001b[0m: 'tuple' object has no attribute 'appned'"
     ]
    }
   ],
   "source": [
    "a = ('apple',20)\n",
    "print(a,type(a))\n",
    "a.appned('boy')\n",
    "print(a)"
   ]
  },
  {
   "cell_type": "code",
   "execution_count": 216,
   "id": "88846ea4-1754-4b76-b920-cf3a72781b7f",
   "metadata": {},
   "outputs": [
    {
     "name": "stdout",
     "output_type": "stream",
     "text": [
      "['apple', 20]\n"
     ]
    },
    {
     "data": {
      "text/plain": [
       "['apple', 20, 'apple']"
      ]
     },
     "execution_count": 216,
     "metadata": {},
     "output_type": "execute_result"
    }
   ],
   "source": [
    "b1 = list(a)  \n",
    "print(b1)\n",
    "b1.append('apple')\n",
    "b1"
   ]
  },
  {
   "cell_type": "code",
   "execution_count": 218,
   "id": "87b021c6-307a-4f49-8863-603ef19ccb8f",
   "metadata": {},
   "outputs": [
    {
     "name": "stdout",
     "output_type": "stream",
     "text": [
      "{20, 'apple'}\n"
     ]
    }
   ],
   "source": [
    "c1 = set(b1)\n",
    "print(c1)"
   ]
  },
  {
   "cell_type": "code",
   "execution_count": null,
   "id": "5199b4be-863f-4680-a223-11735a3440cd",
   "metadata": {},
   "outputs": [],
   "source": []
  }
 ],
 "metadata": {
  "kernelspec": {
   "display_name": "Python 3 (ipykernel)",
   "language": "python",
   "name": "python3"
  },
  "language_info": {
   "codemirror_mode": {
    "name": "ipython",
    "version": 3
   },
   "file_extension": ".py",
   "mimetype": "text/x-python",
   "name": "python",
   "nbconvert_exporter": "python",
   "pygments_lexer": "ipython3",
   "version": "3.12.4"
  }
 },
 "nbformat": 4,
 "nbformat_minor": 5
}
