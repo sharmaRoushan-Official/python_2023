{
 "cells": [
  {
   "cell_type": "code",
   "execution_count": 1,
   "id": "d7979d20-a024-4e22-9d82-1808d78bf973",
   "metadata": {},
   "outputs": [],
   "source": [
    "# 1. write a program to display the following pattern using while nested loops:-\n",
    "\n",
    "# 1\n",
    "# 12\n",
    "# 123\n",
    "# 1234\n",
    "\n",
    "\n",
    "# 2. Write a function that takes a list of integer and returns a new list with only the even numbers.\n",
    "\n",
    "# 3. Write a recursive function to calculate the factorial of a number.\n",
    "\n",
    "# 4. Create a class bok with attributes title, author, and pages. Add a method to disply book details.\n",
    "\n",
    "# 5. Create a class Calculator with method for add, subtract, multiply and divide.\n",
    "\n",
    "# 6. Create a class Student that stores name and grades, Add a method to calculate average marks.\n",
    "\n",
    "# 7. Copy content from one file to another using Python.\n",
    "\n",
    "# 8.Convert a Python dictionary into a JSON string and save it in a .json file.\n",
    "\n",
    "# 9. Read a JSON file containing employee data and print each employee's name.\n",
    "\n",
    "# 10. Modify a key's value in a JSON file and save the updated content.\n",
    "\n",
    "# 11. Create a function that accepts a list of number and return the second largest numgber.\n",
    "\n",
    "# 12. Write a funciton that takes a sentence and retuns the number of words in it.\n",
    "\n",
    "# 13. Create a function that retuns a list of all unique characters from a string.\n",
    "\n",
    "# 14. Define a class Shopping Card that allows adding/removing items and calculating total.\n",
    "\n",
    "# 15. Create a python object with nested dictinaries and convert to JSON format.\n"
   ]
  },
  {
   "cell_type": "code",
   "execution_count": 4,
   "id": "fadd6fdf-788e-4826-aaad-846e10b808b2",
   "metadata": {},
   "outputs": [],
   "source": [
    "# 8.Convert a Python dictionary into a JSON string and save it in a .json file.\n",
    "\n",
    "data = {\n",
    "    \"name\":\"Shankarshan\",\n",
    "    \"age\": 21,\n",
    "    \"city\":\"Noida\",\n",
    "    \"Skills\": ['Python',\"Machine Learning\",\"Artifical Intelligence\"]\n",
    "}\n",
    "\n",
    "# save this dictionary to json format \n",
    "\n",
    "with open(\"C:\\\\Users\\\\User\\\\Desktop\\\\data.json\",'w') as f:\n",
    "    json.dump(data,f, indent=4)"
   ]
  },
  {
   "cell_type": "code",
   "execution_count": 3,
   "id": "32a793c8-0da4-49a1-94fd-da58aa733a31",
   "metadata": {},
   "outputs": [],
   "source": [
    "import json"
   ]
  },
  {
   "cell_type": "code",
   "execution_count": 5,
   "id": "cc7dc09a-a5a1-46d4-bfa6-dcedd782e963",
   "metadata": {},
   "outputs": [
    {
     "name": "stdout",
     "output_type": "stream",
     "text": [
      "{\n",
      "    \"name\": \"Shankarshan\",\n",
      "    \"age\": 21,\n",
      "    \"city\": \"Noida\",\n",
      "    \"Skills\": [\n",
      "        \"Python\",\n",
      "        \"Machine Learning\",\n",
      "        \"Artifical Intelligence\"\n",
      "    ]\n",
      "}\n"
     ]
    }
   ],
   "source": [
    "with open(\"C:\\\\Users\\\\User\\\\Desktop\\\\data.json\",'r') as f:\n",
    "    print(f.read())"
   ]
  },
  {
   "cell_type": "markdown",
   "id": "3a394172-284b-4d13-be83-93715ba90c54",
   "metadata": {},
   "source": [
    "# 🌟 Python Programming Practice Sheet\n",
    "\n",
    "---\n",
    "\n",
    "## 🔢 1. Greatest Number in List\n",
    "\n",
    "✍️ **Task:** Write a function to find the **greatest number** in a list **without using `max()`**.\n",
    "\n",
    "```python\n",
    "list1 = [10,20,30,44,55,66,99,101,1,2,3,5,8,7,3]\n",
    "```\n",
    "\n",
    "---\n",
    "\n",
    "## 🔽 2. Smallest Number in List\n",
    "\n",
    "✍️ **Task:** Write a function to find the **smallest number** in a list **without using `min()`**.\n",
    "\n",
    "```python\n",
    "list1 = [10,20,30,44,55,66,99,101,1,2,3,5,8,7,3]\n",
    "```\n",
    "\n",
    "---\n",
    "\n",
    "## 🧮 3. Calculator Class\n",
    "\n",
    "✍️ **Task:** Create a class `Calculator` with **static methods** for:\n",
    "✅ Addition\n",
    "✅ Subtraction\n",
    "✅ Multiplication\n",
    "✅ Division\n",
    "✅ Modulus\n",
    "\n",
    "---\n",
    "\n",
    "## 🔒 4. Encapsulation Example\n",
    "\n",
    "✍️ **Task:** Write a program to **demonstrate encapsulation** using **private variables** in a class.\n",
    "\n",
    "---\n",
    "\n",
    "## 📂 5. File Handling – Search Word\n",
    "\n",
    "✍️ **Task:** Write a program to **read a file** and print only those lines that contain the word **“Python”**.\n",
    "\n",
    "---\n",
    "\n",
    "## 📜 6. File Handling – First 5 Lines\n",
    "\n",
    "✍️ **Task:** Write a program to **read the first 5 lines** of a file.\n",
    "\n",
    "---\n",
    "\n",
    "## 🗝️ 7. JSON Handling – Count Keys\n",
    "\n",
    "✍️ **Task:** Write a program to **read a JSON file** and count how many **keys** are present at the **top level**.\n",
    "\n",
    "---\n",
    "\n",
    "## 🎨 8. JSON Handling – Pretty Print\n",
    "\n",
    "✍️ **Task:** Write a program to **read a JSON file** and **pretty-print** its content with:\n",
    "\n",
    "```python\n",
    "indent = 4\n",
    "```\n",
    "\n",
    "---\n",
    "\n",
    "## 🚫 9. File Handling – No Vowels\n",
    "\n",
    "✍️ **Task:** Write a program to **read a file** and print only those lines that **do not contain any vowels**.\n",
    "\n",
    "---\n",
    "\n",
    "## 📏 10. File Handling – Longest Line\n",
    "\n",
    "✍️ **Task:** Write a program to **read a file** and display the **longest line** with its **length**.\n",
    "\n",
    "---\n",
    "\n",
    "## 🎓 11. JSON Handling – Highest Marks\n",
    "\n",
    "✍️ **Task:** Write a program to **read a JSON file** containing **student records** and display the student with the **highest marks**.\n",
    "\n",
    "---\n",
    "\n",
    "# ✅ End of Exercises\n",
    "\n",
    "💡 *Tip: Try solving each problem step by step, then enhance with error handling and extra features.*\n",
    "\n"
   ]
  },
  {
   "cell_type": "code",
   "execution_count": 6,
   "id": "b9240804-bb89-4056-b4f1-b42774d6cab2",
   "metadata": {},
   "outputs": [
    {
     "data": {
      "text/plain": [
       "101"
      ]
     },
     "execution_count": 6,
     "metadata": {},
     "output_type": "execute_result"
    }
   ],
   "source": [
    "# 16. Write a function to find the greatest number in the list without max() keyword list1 = [10,20,30,44,55,66,99,101,1,2,3,5,8,7,3]\n",
    "def largestNum(list1):\n",
    "    maxi = list1[0]\n",
    "    for i in list1:\n",
    "        if i > maxi:\n",
    "            maxi = i\n",
    "    return maxi\n",
    "largestNum([10,20,30,44,55,66,99,101,1,2,3,5,8,7,3])"
   ]
  },
  {
   "cell_type": "code",
   "execution_count": 7,
   "id": "f8a9dd90-b68d-421a-9bc0-c4e58a5023e3",
   "metadata": {},
   "outputs": [
    {
     "data": {
      "text/plain": [
       "1"
      ]
     },
     "execution_count": 7,
     "metadata": {},
     "output_type": "execute_result"
    }
   ],
   "source": [
    "# 17. Write a function to find the smallest number in the list without max() keyword list1 = [10,20,30,44,55,66,99,101,1,2,3,5,8,7,3]\n",
    "def smallestNum(list2):\n",
    "    mini = list2[0]\n",
    "    for i in list2:\n",
    "        if i < mini:\n",
    "            mini = i\n",
    "    return mini\n",
    "smallestNum([10,20,30,44,55,66,99,101,1,2,3,5,8,7,3])"
   ]
  },
  {
   "cell_type": "code",
   "execution_count": 8,
   "id": "ba8a3979-44e8-4554-95e1-c3f5bbacb783",
   "metadata": {},
   "outputs": [
    {
     "name": "stdout",
     "output_type": "stream",
     "text": [
      "83\n"
     ]
    },
    {
     "name": "stdin",
     "output_type": "stream",
     "text": [
      "enter charged percent:  78\n"
     ]
    },
    {
     "name": "stdout",
     "output_type": "stream",
     "text": [
      "phone battery charge is:  78\n",
      "None\n"
     ]
    },
    {
     "name": "stdin",
     "output_type": "stream",
     "text": [
      "enter the phone usage hours to know your battery % : 2\n"
     ]
    },
    {
     "name": "stdout",
     "output_type": "stream",
     "text": [
      "None\n"
     ]
    }
   ],
   "source": [
    "# 18. Write a program t demonstrate encapsulation using variables in a class.\n",
    "class smartphone:\n",
    "    def __init__(self,phoneName,battery):\n",
    "        self.phoneName = phoneName\n",
    "        self.__battery = battery\n",
    "\n",
    "    def get_battery_percentage(self):\n",
    "        return self.__battery\n",
    "\n",
    "    def charge_Phone(self):\n",
    "        charge = int(input(\"enter charged percent: \"))\n",
    "        if charge == 100:\n",
    "            self.__battery = charge\n",
    "            print(\"Your smart phone is fully charged: \",self.__battery)\n",
    "        elif charge < 20:\n",
    "            self.__battery = charge\n",
    "            print(\"Charge your phone battery: \",self.__battery)\n",
    "        else:\n",
    "            self.__battery = charge\n",
    "            print(\"phone battery charge is: \",self.__battery)\n",
    "\n",
    "    def usage_hours(self):\n",
    "        usage_hours = int(input(\"enter the phone usage hours to know your battery % :\"))\n",
    "        if usage_hours == 0:\n",
    "            print(f\"battery left is: {self.__battery}\")\n",
    "        elif 0 < usage_hours < 2:\n",
    "            self.__battery -= 20\n",
    "            print(f\"after usage of {usage_hours}, battery left is: {self.__battery}\")\n",
    "        elif 2 < usage_hours < 4:\n",
    "            self.__battery -= 40\n",
    "            print(f\"after usage of {usage_hours}, battery left is: {self.__battery}\")\n",
    "        elif 4 < usage_hours < 6:\n",
    "            self.__battery -= 20\n",
    "            print(f\"after usage of {usage_hours}, battery left is: {self.__battery}\")\n",
    "phone = smartphone('One Plus',83)\n",
    "print(phone.get_battery_percentage())\n",
    "print(phone.charge_Phone())\n",
    "print(phone.usage_hours())"
   ]
  },
  {
   "cell_type": "code",
   "execution_count": null,
   "id": "787d8e68-8926-4c4c-baf7-1052eecadcb1",
   "metadata": {},
   "outputs": [],
   "source": []
  }
 ],
 "metadata": {
  "kernelspec": {
   "display_name": "Python 3 (ipykernel)",
   "language": "python",
   "name": "python3"
  },
  "language_info": {
   "codemirror_mode": {
    "name": "ipython",
    "version": 3
   },
   "file_extension": ".py",
   "mimetype": "text/x-python",
   "name": "python",
   "nbconvert_exporter": "python",
   "pygments_lexer": "ipython3",
   "version": "3.13.7"
  }
 },
 "nbformat": 4,
 "nbformat_minor": 5
}
