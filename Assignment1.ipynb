{
 "cells": [
  {
   "cell_type": "code",
   "execution_count": null,
   "id": "d7979d20-a024-4e22-9d82-1808d78bf973",
   "metadata": {},
   "outputs": [],
   "source": [
    "# 1. write a program to display the following pattern using while nested loops:-\n",
    "\n",
    "# 1\n",
    "# 12\n",
    "# 123\n",
    "# 1234\n",
    "\n",
    "\n",
    "# 2. Write a function that takes a list of integer and returns a new list with only the even numbers.\n",
    "\n",
    "# 3. Write a recursive function to calculate the factorial of a number.\n",
    "\n",
    "# 4. Create a class bok with attributes title, author, and pages. Add a method to disply book details.\n",
    "\n",
    "# 5. Create a class Calculator with method for add, subtract, multiply and divide.\n",
    "\n",
    "# 6. Create a class Student that stores name and grades, Add a method to calculate average marks.\n",
    "\n",
    "# 7. Copy content from one file to another using Python.\n",
    "\n",
    "# 8.Convert a Python dictionary into a JSON string and save it in a .json file.\n",
    "\n",
    "# 9. Read a JSON file containing employee data and print each employee's name.\n",
    "\n",
    "# 10. Modify a key's value in a JSON file and save the updated content.\n",
    "\n",
    "# 11. Create a function that accepts a list of number and return the second largest numgber.\n",
    "\n",
    "# 12. Write a funciton that takes a sentence and retuns the number of words in it.\n",
    "\n",
    "# 13. Create a function that retuns a list of all unique characters from a string.\n",
    "\n",
    "# 14. Define a class Shopping Card that allows adding/removing items and calculating total.\n",
    "\n",
    "# 15. Create a python object with nested dictinaries and convert to JSON format.\n"
   ]
  }
 ],
 "metadata": {
  "kernelspec": {
   "display_name": "Python 3 (ipykernel)",
   "language": "python",
   "name": "python3"
  },
  "language_info": {
   "codemirror_mode": {
    "name": "ipython",
    "version": 3
   },
   "file_extension": ".py",
   "mimetype": "text/x-python",
   "name": "python",
   "nbconvert_exporter": "python",
   "pygments_lexer": "ipython3",
   "version": "3.13.7"
  }
 },
 "nbformat": 4,
 "nbformat_minor": 5
}
