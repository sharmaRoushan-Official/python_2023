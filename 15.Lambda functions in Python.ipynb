{
 "cells": [
  {
   "cell_type": "markdown",
   "id": "fd7e1ffa-29f0-4219-9246-9b9c8e5000ae",
   "metadata": {},
   "source": [
    "# 15. Lambda function in Python\n",
    "\n",
    " * __A Lambda function is a small anonymous(function without their name) function.__\n",
    " * __A Lambda function can take any number of arguments, but only have one expressions.__\n",
    " * __The expression is evaluated and returned.__\n",
    " * __Lambda expressions(or lambda function) essentially blocks of code that can be assigned to variable, passed as an agurments, or returned from a funciton call, in Language that support high-order functions.__\n",
    " * __The main role of lambda function is better described in the scenerios when we employ them anonymously inside another functions.__\n",
    " * __In Python, the lambda function can be utilized as an arguments to the higher-order funcitons as an arugments.__\n",
    "   * __Lambda functions in python__\n",
    "     * __syntax:__\n",
    "     * __Normal Functions__\n",
    "     * __Anonymous function__\n",
    "   * __Usages__\n",
    "     * __Lambda with filters()__\n",
    "     * __Lambda with map()__\n",
    "     * __Lambda with reduce()__\n",
    "     * __Lambda with apply()__\n",
    "   * __CommonErrors__\n",
    "     * __SyntaxError__\n",
    "     * __TypeError__"
   ]
  },
  {
   "cell_type": "code",
   "execution_count": 1,
   "id": "acfe68a2-90d3-497c-bc4c-fa03a35798eb",
   "metadata": {},
   "outputs": [
    {
     "data": {
      "text/plain": [
       "32"
      ]
     },
     "execution_count": 1,
     "metadata": {},
     "output_type": "execute_result"
    }
   ],
   "source": [
    "# UserDefined function\n",
    "\n",
    "# two number addition\n",
    "\n",
    "def additionTwo(x,y):\n",
    "    return x+y\n",
    "additionTwo(2,30)"
   ]
  },
  {
   "cell_type": "code",
   "execution_count": 2,
   "id": "9ad57a9c-5270-461a-af97-0a35f31a39b4",
   "metadata": {},
   "outputs": [
    {
     "data": {
      "text/plain": [
       "30"
      ]
     },
     "execution_count": 2,
     "metadata": {},
     "output_type": "execute_result"
    }
   ],
   "source": [
    "additionTwo(10,20)"
   ]
  },
  {
   "cell_type": "code",
   "execution_count": 6,
   "id": "455ec888-fb44-42be-b110-e278e82f1114",
   "metadata": {},
   "outputs": [
    {
     "data": {
      "text/plain": [
       "25"
      ]
     },
     "execution_count": 6,
     "metadata": {},
     "output_type": "execute_result"
    }
   ],
   "source": [
    "(lambda x,y:x+y)(10,15)"
   ]
  },
  {
   "cell_type": "code",
   "execution_count": 7,
   "id": "e3ae5305-9d92-4b7a-94b6-ce3e0b325d06",
   "metadata": {},
   "outputs": [
    {
     "data": {
      "text/plain": [
       "400"
      ]
     },
     "execution_count": 7,
     "metadata": {},
     "output_type": "execute_result"
    }
   ],
   "source": [
    "# num1 = 20\n",
    "\n",
    "# function \n",
    "\n",
    "def sqrNum(n):\n",
    "    return n**2\n",
    "sqrNum(20)"
   ]
  },
  {
   "cell_type": "code",
   "execution_count": 8,
   "id": "f7b7b838-7bc9-4cf9-aa5d-52dd9b3e8285",
   "metadata": {},
   "outputs": [
    {
     "data": {
      "text/plain": [
       "400"
      ]
     },
     "execution_count": 8,
     "metadata": {},
     "output_type": "execute_result"
    }
   ],
   "source": [
    "(lambda a:a**2)(20)"
   ]
  },
  {
   "cell_type": "code",
   "execution_count": 9,
   "id": "2ea662e0-9e4a-48ec-9b14-3b18cdef8fee",
   "metadata": {},
   "outputs": [
    {
     "data": {
      "text/plain": [
       "2500"
      ]
     },
     "execution_count": 9,
     "metadata": {},
     "output_type": "execute_result"
    }
   ],
   "source": [
    "sqrNum(50)"
   ]
  },
  {
   "cell_type": "code",
   "execution_count": 10,
   "id": "34d5db6b-d226-4107-bc82-46e980861429",
   "metadata": {},
   "outputs": [
    {
     "name": "stdin",
     "output_type": "stream",
     "text": [
      "Enter any value:  15\n"
     ]
    },
    {
     "data": {
      "text/plain": [
       "225"
      ]
     },
     "execution_count": 10,
     "metadata": {},
     "output_type": "execute_result"
    }
   ],
   "source": [
    "def sqrNum(n):\n",
    "    return n**2\n",
    "\n",
    "x = int(input(\"Enter any value: \"))\n",
    "sqrNum(x)"
   ]
  },
  {
   "cell_type": "code",
   "execution_count": 11,
   "id": "1a3d9944-8409-42f5-9234-3a7be55be782",
   "metadata": {},
   "outputs": [
    {
     "name": "stdin",
     "output_type": "stream",
     "text": [
      "enter any value:  78\n"
     ]
    },
    {
     "data": {
      "text/plain": [
       "6084"
      ]
     },
     "execution_count": 11,
     "metadata": {},
     "output_type": "execute_result"
    }
   ],
   "source": [
    "a1 = int(input(\"enter any value: \"))\n",
    "(lambda a:a**2)(a1)"
   ]
  },
  {
   "cell_type": "code",
   "execution_count": 12,
   "id": "25da56ea-e7f4-4c27-87ea-7b951b476515",
   "metadata": {},
   "outputs": [
    {
     "name": "stdout",
     "output_type": "stream",
     "text": [
      "[2, 4, 6, 8, 10]\n",
      "[1, 3, 5, 7, 9]\n"
     ]
    }
   ],
   "source": [
    "# even or odd numbers\n",
    "\n",
    "arrayList = [1,2,3,4,5,6,7,8,9,10]\n",
    "\n",
    "def arraysum(l):\n",
    "    even = []\n",
    "    odd = []\n",
    "    for i in l:\n",
    "        if i % 2 == 0:\n",
    "            even.append(i)\n",
    "        else:\n",
    "            odd.append(i)\n",
    "    print(even)\n",
    "    print(odd)\n",
    "    # print(sum)\n",
    "arraysum(arraylist)"
   ]
  },
  {
   "cell_type": "code",
   "execution_count": 14,
   "id": "691e9e97-c8a4-4a32-8ab1-6cdb84da57b4",
   "metadata": {},
   "outputs": [
    {
     "data": {
      "text/plain": [
       "False"
      ]
     },
     "execution_count": 14,
     "metadata": {},
     "output_type": "execute_result"
    }
   ],
   "source": [
    "arraylist = [1,2,3,4,5,6,7,8,9,10]\n",
    "\n",
    "(lambda x:x%2==0)(11)"
   ]
  },
  {
   "cell_type": "code",
   "execution_count": 16,
   "id": "10376248-9f5d-41fe-90e5-0443dd441e1f",
   "metadata": {},
   "outputs": [],
   "source": [
    "# Lambda with filters()\n",
    "arraylist = [1,2,3,4,5,6,7,8,9,10]\n",
    "\n",
    "# syntax: filter(function, sequence)"
   ]
  },
  {
   "cell_type": "code",
   "execution_count": 18,
   "id": "0929aa7c-948e-41ea-a9f4-8ba94f848d4d",
   "metadata": {},
   "outputs": [
    {
     "data": {
      "text/plain": [
       "10"
      ]
     },
     "execution_count": 18,
     "metadata": {},
     "output_type": "execute_result"
    }
   ],
   "source": [
    "def even(n):\n",
    "    if n%2==0:\n",
    "        return n\n",
    "even(10)"
   ]
  },
  {
   "cell_type": "code",
   "execution_count": 21,
   "id": "0e3c538d-4d93-479e-a505-d768a0f56d4a",
   "metadata": {},
   "outputs": [
    {
     "data": {
      "text/plain": [
       "[2, 4, 6, 8, 10]"
      ]
     },
     "execution_count": 21,
     "metadata": {},
     "output_type": "execute_result"
    }
   ],
   "source": [
    "list(filter(even, arraylist))"
   ]
  },
  {
   "cell_type": "code",
   "execution_count": 24,
   "id": "71d1882d-b41b-4175-b57e-425701896887",
   "metadata": {},
   "outputs": [
    {
     "data": {
      "text/plain": [
       "(2, 4, 6, 8, 10)"
      ]
     },
     "execution_count": 24,
     "metadata": {},
     "output_type": "execute_result"
    }
   ],
   "source": [
    "tuple(filter(lambda x:x%2==0, arraylist))"
   ]
  },
  {
   "cell_type": "code",
   "execution_count": 26,
   "id": "58ed1906-ca35-48e2-aea5-6dbe0bf0f074",
   "metadata": {},
   "outputs": [],
   "source": [
    "def oddNum(n):\n",
    "    if n%2!=0:\n",
    "        return n\n",
    "oddNum(10)"
   ]
  },
  {
   "cell_type": "code",
   "execution_count": 28,
   "id": "f3d7c5b3-29cd-4079-b966-399bdb75897e",
   "metadata": {},
   "outputs": [
    {
     "data": {
      "text/plain": [
       "[1, 3, 5, 7, 9]"
      ]
     },
     "execution_count": 28,
     "metadata": {},
     "output_type": "execute_result"
    }
   ],
   "source": [
    "list(filter(oddNum, arraylist))"
   ]
  },
  {
   "cell_type": "code",
   "execution_count": 30,
   "id": "2e17d698-9839-4961-ae24-6804ad1af8c7",
   "metadata": {},
   "outputs": [
    {
     "data": {
      "text/plain": [
       "[1, 3, 5, 7, 9]"
      ]
     },
     "execution_count": 30,
     "metadata": {},
     "output_type": "execute_result"
    }
   ],
   "source": [
    "list(filter(lambda a:a%2!=0, arraylist))"
   ]
  },
  {
   "cell_type": "code",
   "execution_count": null,
   "id": "ec039152-7539-4b57-8231-a4e4f278d587",
   "metadata": {},
   "outputs": [],
   "source": [
    "arrayList1 = [1,2,3,4,5,6,7,8,9,10,11,12,13,14,15,16,17,18,19,20]\n",
    "# sqrofNumber"
   ]
  },
  {
   "cell_type": "code",
   "execution_count": 31,
   "id": "c0baf201-88d4-4f2f-8fe4-ad4dd0e28318",
   "metadata": {},
   "outputs": [
    {
     "name": "stdout",
     "output_type": "stream",
     "text": [
      "[1, 4, 9, 16, 25, 36, 49, 64, 81, 100, 121, 144, 169, 196, 225, 256, 289, 324, 361, 400]\n"
     ]
    }
   ],
   "source": [
    "arraylist = [1,2,3,4,5,6,7,8,9,10,11,12,13,14,15,16,17,18,19,20]\n",
    "sqr = []\n",
    "for i in arraylist:\n",
    "    sqr.append(i**2)\n",
    "print(sqr)"
   ]
  },
  {
   "cell_type": "code",
   "execution_count": 32,
   "id": "138cf710-a802-4253-ac3e-2c085e99d8dd",
   "metadata": {},
   "outputs": [
    {
     "name": "stdout",
     "output_type": "stream",
     "text": [
      "[1, 4, 9, 16, 25, 36, 49, 64, 81, 100, 121, 144, 169, 196, 225, 256, 289, 324, 361, 400]\n"
     ]
    }
   ],
   "source": [
    "arraylist = [1,2,3,4,5,6,7,8,9,10,11,12,13,14,15,16,17,18,19,20]\n",
    "\n",
    "squared_list = []\n",
    "list(filter(lambda x: squared_list.append(x**2), arraylist))\n",
    "\n",
    "print(squared_list)"
   ]
  },
  {
   "cell_type": "code",
   "execution_count": null,
   "id": "78f0da38-80b6-4408-b525-c2802b976739",
   "metadata": {},
   "outputs": [],
   "source": []
  },
  {
   "cell_type": "code",
   "execution_count": 47,
   "id": "2ab5ea8b-cbd3-4d06-9bda-3c77033dd03f",
   "metadata": {},
   "outputs": [],
   "source": [
    "# above 10 number and below 10 number\n",
    "arraylist = [1,2,3,4,5,6,7,8,9,-11,50,45,-100,-88,-90,15,-20]\n",
    "\n",
    "def "
   ]
  },
  {
   "cell_type": "code",
   "execution_count": 48,
   "id": "5512c748-f570-482d-b14b-e0bc8dddece0",
   "metadata": {},
   "outputs": [
    {
     "data": {
      "text/plain": [
       "[11, 22, 55, 66]"
      ]
     },
     "execution_count": 48,
     "metadata": {},
     "output_type": "execute_result"
    }
   ],
   "source": [
    "a = [1,2,3,11,22,4,55,66]\n",
    "def above(n):\n",
    "    if n >= 10:\n",
    "        return n\n",
    "\n",
    "list(filter(above, a))\n",
    "\n"
   ]
  },
  {
   "cell_type": "code",
   "execution_count": 49,
   "id": "cab04cff-0522-4bc6-9314-a3f4072d07bd",
   "metadata": {},
   "outputs": [
    {
     "data": {
      "text/plain": [
       "[1, 2, 3, 4]"
      ]
     },
     "execution_count": 49,
     "metadata": {},
     "output_type": "execute_result"
    }
   ],
   "source": [
    "a = [1,2,3,11,22,4,55,66]\n",
    "def below(n):\n",
    "    if n < 10:\n",
    "        return n\n",
    "\n",
    "list(filter(below, a))"
   ]
  },
  {
   "cell_type": "code",
   "execution_count": 50,
   "id": "bde9dc19-4acc-4fec-8d4e-fb00b90993e9",
   "metadata": {},
   "outputs": [
    {
     "name": "stdout",
     "output_type": "stream",
     "text": [
      "[1, 2, 3, 4, 5, 6, 7, 8, 9, -11, -100, -88, -90, -20]\n",
      "[50, 45, 15]\n"
     ]
    }
   ],
   "source": [
    "arraylist1 = [1, 2, 3, 4, 5, 6, 7, 8, 9, -11, 50, 45, -100, -88, -90, 15, -20]\n",
    "\n",
    "numbers = list(filter(lambda x: x < 10, arraylist1))\n",
    "\n",
    "print(numbers)\n",
    "\n",
    "\n",
    "numbers = list(filter(lambda x: x > 10, arraylist1))\n",
    "\n",
    "print(numbers)"
   ]
  },
  {
   "cell_type": "code",
   "execution_count": 51,
   "id": "e0501454-8b3f-4687-93dc-83aa03918584",
   "metadata": {},
   "outputs": [
    {
     "data": {
      "text/plain": [
       "[1, 2, 3, 4]"
      ]
     },
     "execution_count": 51,
     "metadata": {},
     "output_type": "execute_result"
    }
   ],
   "source": [
    "a = [1,2,3,11,22,4,55,66]\n",
    "list(filter(lambda x: x >= 10, a))\n",
    "\n",
    "a = [1,2,3,11,22,4,55,66]\n",
    "list(filter(lambda x: x < 10, a))"
   ]
  },
  {
   "cell_type": "code",
   "execution_count": 52,
   "id": "85ab3f5d-3616-4fb5-96d1-7dea0c29840d",
   "metadata": {},
   "outputs": [
    {
     "data": {
      "text/plain": [
       "['Tuesday', 'Wednesday', 'Thursday', 'Saturday']"
      ]
     },
     "execution_count": 52,
     "metadata": {},
     "output_type": "execute_result"
    }
   ],
   "source": [
    "weekdays = ['Monday',\"Tuesday\",\"Wednesday\",\"Thursday\",\"Friday\",\"Saturday\",\"Sunday\"]\n",
    "\n",
    "# print only above 6 characters value \n",
    "\n",
    "weekdays = [\"Monday\", \"Tuesday\", \"Wednesday\", \"Thursday\", \"Friday\", \"Saturday\", \"Sunday\"]\n",
    "def above(n):\n",
    "    return  len(n)> 6\n",
    "\n",
    "list(filter(above, weekdays))"
   ]
  },
  {
   "cell_type": "code",
   "execution_count": 53,
   "id": "f84c03c1-da36-4593-b08f-0b3de7f8af22",
   "metadata": {},
   "outputs": [
    {
     "data": {
      "text/plain": [
       "['Tuesday', 'Wednesday', 'Thursday', 'Saturday']"
      ]
     },
     "execution_count": 53,
     "metadata": {},
     "output_type": "execute_result"
    }
   ],
   "source": [
    "\n",
    "weekdays = [\"Monday\", \"Tuesday\", \"Wednesday\", \"Thursday\", \"Friday\", \"Saturday\", \"Sunday\"]\n",
    "\n",
    "list(filter(lambda x: len(x)>6, weekdays))"
   ]
  },
  {
   "cell_type": "code",
   "execution_count": 63,
   "id": "43357890-1336-4189-8733-8002347e296b",
   "metadata": {},
   "outputs": [],
   "source": [
    "# Lambda with map()\n",
    "arraylist1 = [1, 2, 3, 4, 5, 6, 7, 8, 9, -11, 50, 45, -100, -88, -90, 15, -20]\n",
    "\n",
    "def sqrNum(n):\n",
    "    x = n**2\n",
    "    return x"
   ]
  },
  {
   "cell_type": "code",
   "execution_count": 66,
   "id": "f29b41ec-75f2-4e93-bc30-31c89ad05c21",
   "metadata": {},
   "outputs": [
    {
     "data": {
      "text/plain": [
       "[1, 4, 9, 16, 25, 36, 49, 64, 81, 121, 2500, 2025, 10000, 7744, 8100, 225, 400]"
      ]
     },
     "execution_count": 66,
     "metadata": {},
     "output_type": "execute_result"
    }
   ],
   "source": [
    "list(map(sqrNum,arraylist1))"
   ]
  },
  {
   "cell_type": "code",
   "execution_count": 67,
   "id": "065e2fda-a126-42ef-90c7-a344cc153246",
   "metadata": {},
   "outputs": [
    {
     "data": {
      "text/plain": [
       "16"
      ]
     },
     "execution_count": 67,
     "metadata": {},
     "output_type": "execute_result"
    }
   ],
   "source": [
    "4**2  # "
   ]
  },
  {
   "cell_type": "code",
   "execution_count": 68,
   "id": "9e03abc1-d13a-4248-a716-debbd1e6d5a0",
   "metadata": {},
   "outputs": [
    {
     "data": {
      "text/plain": [
       "True"
      ]
     },
     "execution_count": 68,
     "metadata": {},
     "output_type": "execute_result"
    }
   ],
   "source": [
    "x=\"Hello world\"\n",
    "len(x)>6"
   ]
  },
  {
   "cell_type": "code",
   "execution_count": 3,
   "id": "cd547456-a3c0-4501-9fdc-e5474ba3414b",
   "metadata": {},
   "outputs": [],
   "source": [
    "# Lambda with reduce()\n",
    "from functools import reduce\n",
    "list1 = [3,6,9,12,15,18,21,24,27,30]\n",
    "\n",
    "# syntax \n",
    "# reduce(function, sequence)\n",
    "\n",
    "# sum(list1)\n",
    "\n",
    "def sumVal(x,y):\n",
    "    return x+y\n",
    "\n"
   ]
  },
  {
   "cell_type": "code",
   "execution_count": 4,
   "id": "de5a7752-71c0-4955-97cd-19f008a9bf4c",
   "metadata": {},
   "outputs": [
    {
     "data": {
      "text/plain": [
       "165"
      ]
     },
     "execution_count": 4,
     "metadata": {},
     "output_type": "execute_result"
    }
   ],
   "source": [
    "reduce(sumVal,list1)"
   ]
  },
  {
   "cell_type": "code",
   "execution_count": 5,
   "id": "6b9289aa-73ab-4b0b-a283-b0c693d36800",
   "metadata": {},
   "outputs": [
    {
     "data": {
      "text/plain": [
       "-159"
      ]
     },
     "execution_count": 5,
     "metadata": {},
     "output_type": "execute_result"
    }
   ],
   "source": [
    "def subVal(a,b):\n",
    "    return a-b\n",
    "\n",
    "reduce(subVal,list1)"
   ]
  },
  {
   "cell_type": "code",
   "execution_count": 6,
   "id": "e19c5c87-b444-42b1-b92c-673767b42612",
   "metadata": {},
   "outputs": [
    {
     "data": {
      "text/plain": [
       "214277011200"
      ]
     },
     "execution_count": 6,
     "metadata": {},
     "output_type": "execute_result"
    }
   ],
   "source": [
    "def multVal(a,b):\n",
    "    return a*b\n",
    "reduce(multVal, list1)"
   ]
  },
  {
   "cell_type": "code",
   "execution_count": 7,
   "id": "f196f582-9dd4-4909-b5bb-1150e9432322",
   "metadata": {},
   "outputs": [
    {
     "data": {
      "text/plain": [
       "4.200170587408306e-11"
      ]
     },
     "execution_count": 7,
     "metadata": {},
     "output_type": "execute_result"
    }
   ],
   "source": [
    "def divisionVal(a,b):\n",
    "    return a/b\n",
    "reduce(divisionVal,list1)"
   ]
  },
  {
   "cell_type": "code",
   "execution_count": 9,
   "id": "87f3efb0-748f-46d1-b8ad-414f0a022ca4",
   "metadata": {},
   "outputs": [],
   "source": [
    "# 4.200170587408306**11"
   ]
  },
  {
   "cell_type": "code",
   "execution_count": 10,
   "id": "4c4d3a58-13b2-4fad-9e03-2b0afe5578e8",
   "metadata": {},
   "outputs": [
    {
     "data": {
      "text/plain": [
       "165"
      ]
     },
     "execution_count": 10,
     "metadata": {},
     "output_type": "execute_result"
    }
   ],
   "source": [
    "# with lambda \n",
    "\n",
    "reduce(lambda a,b:a+b, list1)"
   ]
  },
  {
   "cell_type": "code",
   "execution_count": 11,
   "id": "a106a937-fdc6-4bb4-b7b6-5f0d49883951",
   "metadata": {},
   "outputs": [
    {
     "data": {
      "text/plain": [
       "-159"
      ]
     },
     "execution_count": 11,
     "metadata": {},
     "output_type": "execute_result"
    }
   ],
   "source": [
    "reduce(lambda a,b:a-b, list1)"
   ]
  },
  {
   "cell_type": "code",
   "execution_count": 12,
   "id": "4f7591e3-fbf8-497a-ac66-1f2549d69592",
   "metadata": {},
   "outputs": [
    {
     "data": {
      "text/plain": [
       "214277011200"
      ]
     },
     "execution_count": 12,
     "metadata": {},
     "output_type": "execute_result"
    }
   ],
   "source": [
    "reduce(lambda a,b:a*b,list1)"
   ]
  },
  {
   "cell_type": "code",
   "execution_count": 13,
   "id": "df02f33d-c231-401d-b878-d09d36d0f8ec",
   "metadata": {},
   "outputs": [
    {
     "data": {
      "text/plain": [
       "4.200170587408306e-11"
      ]
     },
     "execution_count": 13,
     "metadata": {},
     "output_type": "execute_result"
    }
   ],
   "source": [
    "reduce(lambda a,b:a/b, list1)"
   ]
  },
  {
   "cell_type": "code",
   "execution_count": 14,
   "id": "be7ea5e1-5295-468a-aded-43b769b1f561",
   "metadata": {},
   "outputs": [],
   "source": [
    "# Lambda with apply()\n",
    "\n",
    "from pandas import pandas"
   ]
  },
  {
   "cell_type": "code",
   "execution_count": 16,
   "id": "ff72d51e-5843-4bc8-9c2a-cfc87547f834",
   "metadata": {},
   "outputs": [
    {
     "name": "stderr",
     "output_type": "stream",
     "text": [
      "IOPub data rate exceeded.\n",
      "The Jupyter server will temporarily stop sending output\n",
      "to the client in order to avoid crashing it.\n",
      "To change this limit, set the config variable\n",
      "`--ServerApp.iopub_data_rate_limit`.\n",
      "\n",
      "Current values:\n",
      "ServerApp.iopub_data_rate_limit=1000000.0 (bytes/sec)\n",
      "ServerApp.rate_limit_window=3.0 (secs)\n",
      "\n"
     ]
    }
   ],
   "source": [
    "help(pandas)"
   ]
  },
  {
   "cell_type": "code",
   "execution_count": 17,
   "id": "9ab0a9e2-ca4c-47a0-a607-a795930b8395",
   "metadata": {},
   "outputs": [],
   "source": [
    "import pandas as pd"
   ]
  },
  {
   "cell_type": "code",
   "execution_count": 18,
   "id": "8e1f0ea7-d232-444d-8223-ddfe5331e2ba",
   "metadata": {},
   "outputs": [
    {
     "name": "stderr",
     "output_type": "stream",
     "text": [
      "IOPub data rate exceeded.\n",
      "The Jupyter server will temporarily stop sending output\n",
      "to the client in order to avoid crashing it.\n",
      "To change this limit, set the config variable\n",
      "`--ServerApp.iopub_data_rate_limit`.\n",
      "\n",
      "Current values:\n",
      "ServerApp.iopub_data_rate_limit=1000000.0 (bytes/sec)\n",
      "ServerApp.rate_limit_window=3.0 (secs)\n",
      "\n"
     ]
    }
   ],
   "source": [
    "help(pd)"
   ]
  },
  {
   "cell_type": "code",
   "execution_count": 19,
   "id": "6eb7c6e1-6b31-4c6d-b9e7-d4492d307c80",
   "metadata": {},
   "outputs": [
    {
     "name": "stdout",
     "output_type": "stream",
     "text": [
      "[1, 2, 3, 4, 5, 6, 4, 5, 9, 10]\n"
     ]
    }
   ],
   "source": [
    "# work with apply\n",
    "\n",
    "# 1-D,2-D, 3-D\n",
    "x = [1,2,3,4,5,6,4,5,9,10]\n",
    "print(x)"
   ]
  },
  {
   "cell_type": "code",
   "execution_count": 20,
   "id": "238a4d14-713d-415a-93e6-24e32eaff595",
   "metadata": {},
   "outputs": [
    {
     "data": {
      "text/html": [
       "<div>\n",
       "<style scoped>\n",
       "    .dataframe tbody tr th:only-of-type {\n",
       "        vertical-align: middle;\n",
       "    }\n",
       "\n",
       "    .dataframe tbody tr th {\n",
       "        vertical-align: top;\n",
       "    }\n",
       "\n",
       "    .dataframe thead th {\n",
       "        text-align: right;\n",
       "    }\n",
       "</style>\n",
       "<table border=\"1\" class=\"dataframe\">\n",
       "  <thead>\n",
       "    <tr style=\"text-align: right;\">\n",
       "      <th></th>\n",
       "      <th>0</th>\n",
       "    </tr>\n",
       "  </thead>\n",
       "  <tbody>\n",
       "    <tr>\n",
       "      <th>0</th>\n",
       "      <td>1</td>\n",
       "    </tr>\n",
       "    <tr>\n",
       "      <th>1</th>\n",
       "      <td>2</td>\n",
       "    </tr>\n",
       "    <tr>\n",
       "      <th>2</th>\n",
       "      <td>3</td>\n",
       "    </tr>\n",
       "    <tr>\n",
       "      <th>3</th>\n",
       "      <td>4</td>\n",
       "    </tr>\n",
       "    <tr>\n",
       "      <th>4</th>\n",
       "      <td>5</td>\n",
       "    </tr>\n",
       "    <tr>\n",
       "      <th>5</th>\n",
       "      <td>6</td>\n",
       "    </tr>\n",
       "    <tr>\n",
       "      <th>6</th>\n",
       "      <td>4</td>\n",
       "    </tr>\n",
       "    <tr>\n",
       "      <th>7</th>\n",
       "      <td>5</td>\n",
       "    </tr>\n",
       "    <tr>\n",
       "      <th>8</th>\n",
       "      <td>9</td>\n",
       "    </tr>\n",
       "    <tr>\n",
       "      <th>9</th>\n",
       "      <td>10</td>\n",
       "    </tr>\n",
       "  </tbody>\n",
       "</table>\n",
       "</div>"
      ],
      "text/plain": [
       "    0\n",
       "0   1\n",
       "1   2\n",
       "2   3\n",
       "3   4\n",
       "4   5\n",
       "5   6\n",
       "6   4\n",
       "7   5\n",
       "8   9\n",
       "9  10"
      ]
     },
     "execution_count": 20,
     "metadata": {},
     "output_type": "execute_result"
    }
   ],
   "source": [
    "df = pd.DataFrame(x)\n",
    "df"
   ]
  },
  {
   "cell_type": "code",
   "execution_count": 21,
   "id": "8ea17f37-aad6-4958-a34a-3c2b250665b6",
   "metadata": {},
   "outputs": [
    {
     "data": {
      "text/plain": [
       "10"
      ]
     },
     "execution_count": 21,
     "metadata": {},
     "output_type": "execute_result"
    }
   ],
   "source": [
    "df.size"
   ]
  },
  {
   "cell_type": "code",
   "execution_count": 23,
   "id": "4ea5f611-4cf6-4c06-992b-0ff2a33bed24",
   "metadata": {},
   "outputs": [
    {
     "data": {
      "text/plain": [
       "(10, 1)"
      ]
     },
     "execution_count": 23,
     "metadata": {},
     "output_type": "execute_result"
    }
   ],
   "source": [
    "df.shape"
   ]
  },
  {
   "cell_type": "code",
   "execution_count": 122,
   "id": "c7804d85-0e66-4ed4-9148-7b0727583e92",
   "metadata": {},
   "outputs": [
    {
     "name": "stdout",
     "output_type": "stream",
     "text": [
      "[[1, 2, 3], [4, 5, 6], [7, 8, 9], [10, 11, 12]]\n"
     ]
    }
   ],
   "source": [
    "# creating 2-D dimension: row- column\n",
    "\n",
    "x1 = [[1,2,3],[4,5,6],[7,8,9],[10,11,12]]\n",
    "\n",
    "\n",
    "print(x1)"
   ]
  },
  {
   "cell_type": "code",
   "execution_count": 92,
   "id": "28db06db-505b-438e-b254-78b45805f96a",
   "metadata": {},
   "outputs": [
    {
     "name": "stdout",
     "output_type": "stream",
     "text": [
      "<class 'list'>\n"
     ]
    }
   ],
   "source": [
    "print(type(x1))"
   ]
  },
  {
   "cell_type": "code",
   "execution_count": 123,
   "id": "d9b99791-b25d-4f61-a7a2-15cdbf57075a",
   "metadata": {},
   "outputs": [
    {
     "data": {
      "text/html": [
       "<div>\n",
       "<style scoped>\n",
       "    .dataframe tbody tr th:only-of-type {\n",
       "        vertical-align: middle;\n",
       "    }\n",
       "\n",
       "    .dataframe tbody tr th {\n",
       "        vertical-align: top;\n",
       "    }\n",
       "\n",
       "    .dataframe thead th {\n",
       "        text-align: right;\n",
       "    }\n",
       "</style>\n",
       "<table border=\"1\" class=\"dataframe\">\n",
       "  <thead>\n",
       "    <tr style=\"text-align: right;\">\n",
       "      <th></th>\n",
       "      <th>0</th>\n",
       "      <th>1</th>\n",
       "      <th>2</th>\n",
       "    </tr>\n",
       "  </thead>\n",
       "  <tbody>\n",
       "    <tr>\n",
       "      <th>0</th>\n",
       "      <td>1</td>\n",
       "      <td>2</td>\n",
       "      <td>3</td>\n",
       "    </tr>\n",
       "    <tr>\n",
       "      <th>1</th>\n",
       "      <td>4</td>\n",
       "      <td>5</td>\n",
       "      <td>6</td>\n",
       "    </tr>\n",
       "    <tr>\n",
       "      <th>2</th>\n",
       "      <td>7</td>\n",
       "      <td>8</td>\n",
       "      <td>9</td>\n",
       "    </tr>\n",
       "    <tr>\n",
       "      <th>3</th>\n",
       "      <td>10</td>\n",
       "      <td>11</td>\n",
       "      <td>12</td>\n",
       "    </tr>\n",
       "  </tbody>\n",
       "</table>\n",
       "</div>"
      ],
      "text/plain": [
       "    0   1   2\n",
       "0   1   2   3\n",
       "1   4   5   6\n",
       "2   7   8   9\n",
       "3  10  11  12"
      ]
     },
     "execution_count": 123,
     "metadata": {},
     "output_type": "execute_result"
    }
   ],
   "source": [
    "df2 = pd.DataFrame(x1)\n",
    "df2"
   ]
  },
  {
   "cell_type": "code",
   "execution_count": 94,
   "id": "9a900f18-4046-4c76-b211-5540d9797a7c",
   "metadata": {},
   "outputs": [
    {
     "data": {
      "text/plain": [
       "12"
      ]
     },
     "execution_count": 94,
     "metadata": {},
     "output_type": "execute_result"
    }
   ],
   "source": [
    "df2.size"
   ]
  },
  {
   "cell_type": "code",
   "execution_count": 95,
   "id": "73d9db3f-69f0-44c5-af97-562f7b18c161",
   "metadata": {},
   "outputs": [
    {
     "data": {
      "text/plain": [
       "(4, 3)"
      ]
     },
     "execution_count": 95,
     "metadata": {},
     "output_type": "execute_result"
    }
   ],
   "source": [
    "df2.shape"
   ]
  },
  {
   "cell_type": "code",
   "execution_count": 96,
   "id": "5a5cbf17-4c38-4611-b6be-6c19691cd6fb",
   "metadata": {},
   "outputs": [
    {
     "data": {
      "text/plain": [
       "np.int64(1)"
      ]
     },
     "execution_count": 96,
     "metadata": {},
     "output_type": "execute_result"
    }
   ],
   "source": [
    "df2[0][0]"
   ]
  },
  {
   "cell_type": "code",
   "execution_count": 97,
   "id": "2f74ae0f-0f78-4086-a3aa-33333fb01ee8",
   "metadata": {},
   "outputs": [
    {
     "data": {
      "text/plain": [
       "np.int64(4)"
      ]
     },
     "execution_count": 97,
     "metadata": {},
     "output_type": "execute_result"
    }
   ],
   "source": [
    "df2[0][1]"
   ]
  },
  {
   "cell_type": "code",
   "execution_count": 98,
   "id": "4c60eea5-07e4-4bd7-aa9a-b367f30bd029",
   "metadata": {},
   "outputs": [
    {
     "data": {
      "text/plain": [
       "np.int64(7)"
      ]
     },
     "execution_count": 98,
     "metadata": {},
     "output_type": "execute_result"
    }
   ],
   "source": [
    "df2[0][2]"
   ]
  },
  {
   "cell_type": "code",
   "execution_count": 99,
   "id": "d5a60646-c9b2-4052-9568-7ca970f48ae6",
   "metadata": {},
   "outputs": [
    {
     "data": {
      "text/plain": [
       "np.int64(10)"
      ]
     },
     "execution_count": 99,
     "metadata": {},
     "output_type": "execute_result"
    }
   ],
   "source": [
    "df2[0][3]"
   ]
  },
  {
   "cell_type": "code",
   "execution_count": 100,
   "id": "bc565713-7f7d-45b3-afd0-2d1e143ba451",
   "metadata": {},
   "outputs": [
    {
     "data": {
      "text/plain": [
       "np.int64(2)"
      ]
     },
     "execution_count": 100,
     "metadata": {},
     "output_type": "execute_result"
    }
   ],
   "source": [
    "df2[1][0]"
   ]
  },
  {
   "cell_type": "code",
   "execution_count": 101,
   "id": "7afbb839-4e85-4901-bb5a-0ce811273c70",
   "metadata": {},
   "outputs": [
    {
     "name": "stderr",
     "output_type": "stream",
     "text": [
      "C:\\Users\\User\\AppData\\Local\\Temp\\ipykernel_2732\\42193409.py:1: FutureWarning: ChainedAssignmentError: behaviour will change in pandas 3.0!\n",
      "You are setting values through chained assignment. Currently this works in certain cases, but when using Copy-on-Write (which will become the default behaviour in pandas 3.0) this will never work to update the original DataFrame or Series, because the intermediate object on which we are setting values will behave as a copy.\n",
      "A typical example is when you are setting values in a column of a DataFrame, like:\n",
      "\n",
      "df[\"col\"][row_indexer] = value\n",
      "\n",
      "Use `df.loc[row_indexer, \"col\"] = values` instead, to perform the assignment in a single step and ensure this keeps updating the original `df`.\n",
      "\n",
      "See the caveats in the documentation: https://pandas.pydata.org/pandas-docs/stable/user_guide/indexing.html#returning-a-view-versus-a-copy\n",
      "\n",
      "  df2[1][2] = 20\n"
     ]
    }
   ],
   "source": [
    "df2[1][2] = 20"
   ]
  },
  {
   "cell_type": "code",
   "execution_count": 102,
   "id": "1569e372-6e2c-418a-ad8e-becca243a86b",
   "metadata": {},
   "outputs": [
    {
     "data": {
      "text/html": [
       "<div>\n",
       "<style scoped>\n",
       "    .dataframe tbody tr th:only-of-type {\n",
       "        vertical-align: middle;\n",
       "    }\n",
       "\n",
       "    .dataframe tbody tr th {\n",
       "        vertical-align: top;\n",
       "    }\n",
       "\n",
       "    .dataframe thead th {\n",
       "        text-align: right;\n",
       "    }\n",
       "</style>\n",
       "<table border=\"1\" class=\"dataframe\">\n",
       "  <thead>\n",
       "    <tr style=\"text-align: right;\">\n",
       "      <th></th>\n",
       "      <th>0</th>\n",
       "      <th>1</th>\n",
       "      <th>2</th>\n",
       "    </tr>\n",
       "  </thead>\n",
       "  <tbody>\n",
       "    <tr>\n",
       "      <th>0</th>\n",
       "      <td>1</td>\n",
       "      <td>2</td>\n",
       "      <td>3</td>\n",
       "    </tr>\n",
       "    <tr>\n",
       "      <th>1</th>\n",
       "      <td>4</td>\n",
       "      <td>5</td>\n",
       "      <td>6</td>\n",
       "    </tr>\n",
       "    <tr>\n",
       "      <th>2</th>\n",
       "      <td>7</td>\n",
       "      <td>20</td>\n",
       "      <td>9</td>\n",
       "    </tr>\n",
       "    <tr>\n",
       "      <th>3</th>\n",
       "      <td>10</td>\n",
       "      <td>11</td>\n",
       "      <td>12</td>\n",
       "    </tr>\n",
       "  </tbody>\n",
       "</table>\n",
       "</div>"
      ],
      "text/plain": [
       "    0   1   2\n",
       "0   1   2   3\n",
       "1   4   5   6\n",
       "2   7  20   9\n",
       "3  10  11  12"
      ]
     },
     "execution_count": 102,
     "metadata": {},
     "output_type": "execute_result"
    }
   ],
   "source": [
    "df2"
   ]
  },
  {
   "cell_type": "code",
   "execution_count": 103,
   "id": "f75cdc05-aab8-4e7d-804a-62b0d8e34cdc",
   "metadata": {},
   "outputs": [
    {
     "name": "stderr",
     "output_type": "stream",
     "text": [
      "C:\\Users\\User\\AppData\\Local\\Temp\\ipykernel_2732\\1709287212.py:1: FutureWarning: ChainedAssignmentError: behaviour will change in pandas 3.0!\n",
      "You are setting values through chained assignment. Currently this works in certain cases, but when using Copy-on-Write (which will become the default behaviour in pandas 3.0) this will never work to update the original DataFrame or Series, because the intermediate object on which we are setting values will behave as a copy.\n",
      "A typical example is when you are setting values in a column of a DataFrame, like:\n",
      "\n",
      "df[\"col\"][row_indexer] = value\n",
      "\n",
      "Use `df.loc[row_indexer, \"col\"] = values` instead, to perform the assignment in a single step and ensure this keeps updating the original `df`.\n",
      "\n",
      "See the caveats in the documentation: https://pandas.pydata.org/pandas-docs/stable/user_guide/indexing.html#returning-a-view-versus-a-copy\n",
      "\n",
      "  df2[2][3] = 120\n"
     ]
    }
   ],
   "source": [
    "df2[2][3] = 120"
   ]
  },
  {
   "cell_type": "code",
   "execution_count": 104,
   "id": "e59ae0e4-9480-4541-9bbb-845e01d946da",
   "metadata": {},
   "outputs": [
    {
     "data": {
      "text/html": [
       "<div>\n",
       "<style scoped>\n",
       "    .dataframe tbody tr th:only-of-type {\n",
       "        vertical-align: middle;\n",
       "    }\n",
       "\n",
       "    .dataframe tbody tr th {\n",
       "        vertical-align: top;\n",
       "    }\n",
       "\n",
       "    .dataframe thead th {\n",
       "        text-align: right;\n",
       "    }\n",
       "</style>\n",
       "<table border=\"1\" class=\"dataframe\">\n",
       "  <thead>\n",
       "    <tr style=\"text-align: right;\">\n",
       "      <th></th>\n",
       "      <th>0</th>\n",
       "      <th>1</th>\n",
       "      <th>2</th>\n",
       "    </tr>\n",
       "  </thead>\n",
       "  <tbody>\n",
       "    <tr>\n",
       "      <th>0</th>\n",
       "      <td>1</td>\n",
       "      <td>2</td>\n",
       "      <td>3</td>\n",
       "    </tr>\n",
       "    <tr>\n",
       "      <th>1</th>\n",
       "      <td>4</td>\n",
       "      <td>5</td>\n",
       "      <td>6</td>\n",
       "    </tr>\n",
       "    <tr>\n",
       "      <th>2</th>\n",
       "      <td>7</td>\n",
       "      <td>20</td>\n",
       "      <td>9</td>\n",
       "    </tr>\n",
       "    <tr>\n",
       "      <th>3</th>\n",
       "      <td>10</td>\n",
       "      <td>11</td>\n",
       "      <td>120</td>\n",
       "    </tr>\n",
       "  </tbody>\n",
       "</table>\n",
       "</div>"
      ],
      "text/plain": [
       "    0   1    2\n",
       "0   1   2    3\n",
       "1   4   5    6\n",
       "2   7  20    9\n",
       "3  10  11  120"
      ]
     },
     "execution_count": 104,
     "metadata": {},
     "output_type": "execute_result"
    }
   ],
   "source": [
    "df2"
   ]
  },
  {
   "cell_type": "code",
   "execution_count": 105,
   "id": "fca83c13-78f6-43ec-9976-67da2b71d150",
   "metadata": {},
   "outputs": [],
   "source": [
    "for i,j in df2.items():\n",
    "    # print(j)\n",
    "    pass"
   ]
  },
  {
   "cell_type": "code",
   "execution_count": 106,
   "id": "5c14609b-ba24-4cb9-8044-8717d41a2fa3",
   "metadata": {},
   "outputs": [
    {
     "data": {
      "text/html": [
       "<div>\n",
       "<style scoped>\n",
       "    .dataframe tbody tr th:only-of-type {\n",
       "        vertical-align: middle;\n",
       "    }\n",
       "\n",
       "    .dataframe tbody tr th {\n",
       "        vertical-align: top;\n",
       "    }\n",
       "\n",
       "    .dataframe thead th {\n",
       "        text-align: right;\n",
       "    }\n",
       "</style>\n",
       "<table border=\"1\" class=\"dataframe\">\n",
       "  <thead>\n",
       "    <tr style=\"text-align: right;\">\n",
       "      <th></th>\n",
       "      <th>0</th>\n",
       "      <th>1</th>\n",
       "      <th>2</th>\n",
       "    </tr>\n",
       "  </thead>\n",
       "  <tbody>\n",
       "    <tr>\n",
       "      <th>0</th>\n",
       "      <td>1</td>\n",
       "      <td>2</td>\n",
       "      <td>3</td>\n",
       "    </tr>\n",
       "    <tr>\n",
       "      <th>1</th>\n",
       "      <td>4</td>\n",
       "      <td>5</td>\n",
       "      <td>6</td>\n",
       "    </tr>\n",
       "    <tr>\n",
       "      <th>2</th>\n",
       "      <td>7</td>\n",
       "      <td>20</td>\n",
       "      <td>9</td>\n",
       "    </tr>\n",
       "    <tr>\n",
       "      <th>3</th>\n",
       "      <td>10</td>\n",
       "      <td>11</td>\n",
       "      <td>120</td>\n",
       "    </tr>\n",
       "  </tbody>\n",
       "</table>\n",
       "</div>"
      ],
      "text/plain": [
       "    0   1    2\n",
       "0   1   2    3\n",
       "1   4   5    6\n",
       "2   7  20    9\n",
       "3  10  11  120"
      ]
     },
     "execution_count": 106,
     "metadata": {},
     "output_type": "execute_result"
    }
   ],
   "source": [
    "df2"
   ]
  },
  {
   "cell_type": "code",
   "execution_count": 107,
   "id": "e645866e-8074-4271-a561-35ef3601c415",
   "metadata": {},
   "outputs": [
    {
     "data": {
      "text/html": [
       "<div>\n",
       "<style scoped>\n",
       "    .dataframe tbody tr th:only-of-type {\n",
       "        vertical-align: middle;\n",
       "    }\n",
       "\n",
       "    .dataframe tbody tr th {\n",
       "        vertical-align: top;\n",
       "    }\n",
       "\n",
       "    .dataframe thead th {\n",
       "        text-align: right;\n",
       "    }\n",
       "</style>\n",
       "<table border=\"1\" class=\"dataframe\">\n",
       "  <thead>\n",
       "    <tr style=\"text-align: right;\">\n",
       "      <th></th>\n",
       "      <th>0</th>\n",
       "      <th>1</th>\n",
       "      <th>2</th>\n",
       "    </tr>\n",
       "  </thead>\n",
       "  <tbody>\n",
       "    <tr>\n",
       "      <th>0</th>\n",
       "      <td>6</td>\n",
       "      <td>7</td>\n",
       "      <td>8</td>\n",
       "    </tr>\n",
       "    <tr>\n",
       "      <th>1</th>\n",
       "      <td>9</td>\n",
       "      <td>10</td>\n",
       "      <td>11</td>\n",
       "    </tr>\n",
       "    <tr>\n",
       "      <th>2</th>\n",
       "      <td>12</td>\n",
       "      <td>25</td>\n",
       "      <td>14</td>\n",
       "    </tr>\n",
       "    <tr>\n",
       "      <th>3</th>\n",
       "      <td>15</td>\n",
       "      <td>16</td>\n",
       "      <td>125</td>\n",
       "    </tr>\n",
       "  </tbody>\n",
       "</table>\n",
       "</div>"
      ],
      "text/plain": [
       "    0   1    2\n",
       "0   6   7    8\n",
       "1   9  10   11\n",
       "2  12  25   14\n",
       "3  15  16  125"
      ]
     },
     "execution_count": 107,
     "metadata": {},
     "output_type": "execute_result"
    }
   ],
   "source": [
    "# with apply\n",
    "\n",
    "df3 = df2.apply(lambda y:y+5)\n",
    "df3"
   ]
  },
  {
   "cell_type": "code",
   "execution_count": 108,
   "id": "9d55adf7-bc85-4073-948b-e7443379fadf",
   "metadata": {},
   "outputs": [
    {
     "data": {
      "text/html": [
       "<div>\n",
       "<style scoped>\n",
       "    .dataframe tbody tr th:only-of-type {\n",
       "        vertical-align: middle;\n",
       "    }\n",
       "\n",
       "    .dataframe tbody tr th {\n",
       "        vertical-align: top;\n",
       "    }\n",
       "\n",
       "    .dataframe thead th {\n",
       "        text-align: right;\n",
       "    }\n",
       "</style>\n",
       "<table border=\"1\" class=\"dataframe\">\n",
       "  <thead>\n",
       "    <tr style=\"text-align: right;\">\n",
       "      <th></th>\n",
       "      <th>0</th>\n",
       "      <th>1</th>\n",
       "      <th>2</th>\n",
       "    </tr>\n",
       "  </thead>\n",
       "  <tbody>\n",
       "    <tr>\n",
       "      <th>0</th>\n",
       "      <td>1</td>\n",
       "      <td>2</td>\n",
       "      <td>3</td>\n",
       "    </tr>\n",
       "    <tr>\n",
       "      <th>1</th>\n",
       "      <td>4</td>\n",
       "      <td>5</td>\n",
       "      <td>6</td>\n",
       "    </tr>\n",
       "    <tr>\n",
       "      <th>2</th>\n",
       "      <td>7</td>\n",
       "      <td>20</td>\n",
       "      <td>9</td>\n",
       "    </tr>\n",
       "    <tr>\n",
       "      <th>3</th>\n",
       "      <td>10</td>\n",
       "      <td>11</td>\n",
       "      <td>120</td>\n",
       "    </tr>\n",
       "  </tbody>\n",
       "</table>\n",
       "</div>"
      ],
      "text/plain": [
       "    0   1    2\n",
       "0   1   2    3\n",
       "1   4   5    6\n",
       "2   7  20    9\n",
       "3  10  11  120"
      ]
     },
     "execution_count": 108,
     "metadata": {},
     "output_type": "execute_result"
    }
   ],
   "source": [
    "df2"
   ]
  },
  {
   "cell_type": "code",
   "execution_count": 109,
   "id": "3e73759e-36cf-4bf2-85fe-197f68fbe8f3",
   "metadata": {},
   "outputs": [
    {
     "data": {
      "text/html": [
       "<div>\n",
       "<style scoped>\n",
       "    .dataframe tbody tr th:only-of-type {\n",
       "        vertical-align: middle;\n",
       "    }\n",
       "\n",
       "    .dataframe tbody tr th {\n",
       "        vertical-align: top;\n",
       "    }\n",
       "\n",
       "    .dataframe thead th {\n",
       "        text-align: right;\n",
       "    }\n",
       "</style>\n",
       "<table border=\"1\" class=\"dataframe\">\n",
       "  <thead>\n",
       "    <tr style=\"text-align: right;\">\n",
       "      <th></th>\n",
       "      <th>0</th>\n",
       "      <th>1</th>\n",
       "      <th>2</th>\n",
       "    </tr>\n",
       "  </thead>\n",
       "  <tbody>\n",
       "    <tr>\n",
       "      <th>0</th>\n",
       "      <td>1</td>\n",
       "      <td>4</td>\n",
       "      <td>9</td>\n",
       "    </tr>\n",
       "    <tr>\n",
       "      <th>1</th>\n",
       "      <td>16</td>\n",
       "      <td>25</td>\n",
       "      <td>36</td>\n",
       "    </tr>\n",
       "    <tr>\n",
       "      <th>2</th>\n",
       "      <td>49</td>\n",
       "      <td>400</td>\n",
       "      <td>81</td>\n",
       "    </tr>\n",
       "    <tr>\n",
       "      <th>3</th>\n",
       "      <td>100</td>\n",
       "      <td>121</td>\n",
       "      <td>14400</td>\n",
       "    </tr>\n",
       "  </tbody>\n",
       "</table>\n",
       "</div>"
      ],
      "text/plain": [
       "     0    1      2\n",
       "0    1    4      9\n",
       "1   16   25     36\n",
       "2   49  400     81\n",
       "3  100  121  14400"
      ]
     },
     "execution_count": 109,
     "metadata": {},
     "output_type": "execute_result"
    }
   ],
   "source": [
    "df4 = df2.apply(lambda a:a**2)\n",
    "df4"
   ]
  },
  {
   "cell_type": "code",
   "execution_count": 110,
   "id": "ab529173-e9e8-4b1f-b952-7181698f60ce",
   "metadata": {},
   "outputs": [
    {
     "data": {
      "text/html": [
       "<div>\n",
       "<style scoped>\n",
       "    .dataframe tbody tr th:only-of-type {\n",
       "        vertical-align: middle;\n",
       "    }\n",
       "\n",
       "    .dataframe tbody tr th {\n",
       "        vertical-align: top;\n",
       "    }\n",
       "\n",
       "    .dataframe thead th {\n",
       "        text-align: right;\n",
       "    }\n",
       "</style>\n",
       "<table border=\"1\" class=\"dataframe\">\n",
       "  <thead>\n",
       "    <tr style=\"text-align: right;\">\n",
       "      <th></th>\n",
       "      <th>0</th>\n",
       "      <th>1</th>\n",
       "      <th>2</th>\n",
       "    </tr>\n",
       "  </thead>\n",
       "  <tbody>\n",
       "    <tr>\n",
       "      <th>0</th>\n",
       "      <td>1</td>\n",
       "      <td>2</td>\n",
       "      <td>3</td>\n",
       "    </tr>\n",
       "    <tr>\n",
       "      <th>1</th>\n",
       "      <td>4</td>\n",
       "      <td>5</td>\n",
       "      <td>6</td>\n",
       "    </tr>\n",
       "    <tr>\n",
       "      <th>2</th>\n",
       "      <td>7</td>\n",
       "      <td>20</td>\n",
       "      <td>9</td>\n",
       "    </tr>\n",
       "    <tr>\n",
       "      <th>3</th>\n",
       "      <td>10</td>\n",
       "      <td>11</td>\n",
       "      <td>120</td>\n",
       "    </tr>\n",
       "  </tbody>\n",
       "</table>\n",
       "</div>"
      ],
      "text/plain": [
       "    0   1    2\n",
       "0   1   2    3\n",
       "1   4   5    6\n",
       "2   7  20    9\n",
       "3  10  11  120"
      ]
     },
     "execution_count": 110,
     "metadata": {},
     "output_type": "execute_result"
    }
   ],
   "source": [
    "df2"
   ]
  },
  {
   "cell_type": "code",
   "execution_count": 111,
   "id": "5694f6d2-7fcd-4130-a99b-eac215caa22a",
   "metadata": {},
   "outputs": [
    {
     "data": {
      "text/html": [
       "<div>\n",
       "<style scoped>\n",
       "    .dataframe tbody tr th:only-of-type {\n",
       "        vertical-align: middle;\n",
       "    }\n",
       "\n",
       "    .dataframe tbody tr th {\n",
       "        vertical-align: top;\n",
       "    }\n",
       "\n",
       "    .dataframe thead th {\n",
       "        text-align: right;\n",
       "    }\n",
       "</style>\n",
       "<table border=\"1\" class=\"dataframe\">\n",
       "  <thead>\n",
       "    <tr style=\"text-align: right;\">\n",
       "      <th></th>\n",
       "      <th>0</th>\n",
       "      <th>1</th>\n",
       "      <th>2</th>\n",
       "    </tr>\n",
       "  </thead>\n",
       "  <tbody>\n",
       "    <tr>\n",
       "      <th>0</th>\n",
       "      <td>1</td>\n",
       "      <td>2</td>\n",
       "      <td>3</td>\n",
       "    </tr>\n",
       "    <tr>\n",
       "      <th>1</th>\n",
       "      <td>4</td>\n",
       "      <td>5</td>\n",
       "      <td>6</td>\n",
       "    </tr>\n",
       "    <tr>\n",
       "      <th>2</th>\n",
       "      <td>7</td>\n",
       "      <td>20</td>\n",
       "      <td>9</td>\n",
       "    </tr>\n",
       "    <tr>\n",
       "      <th>3</th>\n",
       "      <td>10</td>\n",
       "      <td>11</td>\n",
       "      <td>120</td>\n",
       "    </tr>\n",
       "  </tbody>\n",
       "</table>\n",
       "</div>"
      ],
      "text/plain": [
       "    0   1    2\n",
       "0   1   2    3\n",
       "1   4   5    6\n",
       "2   7  20    9\n",
       "3  10  11  120"
      ]
     },
     "execution_count": 111,
     "metadata": {},
     "output_type": "execute_result"
    }
   ],
   "source": [
    "df2"
   ]
  },
  {
   "cell_type": "code",
   "execution_count": 112,
   "id": "1e1a9c6a-581b-4a4c-94c1-39cf447f914c",
   "metadata": {},
   "outputs": [
    {
     "data": {
      "text/html": [
       "<div>\n",
       "<style scoped>\n",
       "    .dataframe tbody tr th:only-of-type {\n",
       "        vertical-align: middle;\n",
       "    }\n",
       "\n",
       "    .dataframe tbody tr th {\n",
       "        vertical-align: top;\n",
       "    }\n",
       "\n",
       "    .dataframe thead th {\n",
       "        text-align: right;\n",
       "    }\n",
       "</style>\n",
       "<table border=\"1\" class=\"dataframe\">\n",
       "  <thead>\n",
       "    <tr style=\"text-align: right;\">\n",
       "      <th></th>\n",
       "      <th>0</th>\n",
       "      <th>1</th>\n",
       "      <th>2</th>\n",
       "    </tr>\n",
       "  </thead>\n",
       "  <tbody>\n",
       "    <tr>\n",
       "      <th>0</th>\n",
       "      <td>1</td>\n",
       "      <td>8</td>\n",
       "      <td>27</td>\n",
       "    </tr>\n",
       "    <tr>\n",
       "      <th>1</th>\n",
       "      <td>64</td>\n",
       "      <td>125</td>\n",
       "      <td>216</td>\n",
       "    </tr>\n",
       "    <tr>\n",
       "      <th>2</th>\n",
       "      <td>343</td>\n",
       "      <td>8000</td>\n",
       "      <td>729</td>\n",
       "    </tr>\n",
       "    <tr>\n",
       "      <th>3</th>\n",
       "      <td>1000</td>\n",
       "      <td>1331</td>\n",
       "      <td>1728000</td>\n",
       "    </tr>\n",
       "  </tbody>\n",
       "</table>\n",
       "</div>"
      ],
      "text/plain": [
       "      0     1        2\n",
       "0     1     8       27\n",
       "1    64   125      216\n",
       "2   343  8000      729\n",
       "3  1000  1331  1728000"
      ]
     },
     "execution_count": 112,
     "metadata": {},
     "output_type": "execute_result"
    }
   ],
   "source": [
    "df4 = df2.apply(lambda b:b**3)\n",
    "df4"
   ]
  },
  {
   "cell_type": "code",
   "execution_count": 113,
   "id": "67de9ed2-986f-4b67-a753-9fd3287d4890",
   "metadata": {},
   "outputs": [],
   "source": [
    "# apply(function, array)\n",
    "\n",
    "def sumVal(a):\n",
    "    return a+10"
   ]
  },
  {
   "cell_type": "code",
   "execution_count": 114,
   "id": "f3b468a2-9696-4526-8a13-db8e88650bc6",
   "metadata": {},
   "outputs": [
    {
     "data": {
      "text/html": [
       "<div>\n",
       "<style scoped>\n",
       "    .dataframe tbody tr th:only-of-type {\n",
       "        vertical-align: middle;\n",
       "    }\n",
       "\n",
       "    .dataframe tbody tr th {\n",
       "        vertical-align: top;\n",
       "    }\n",
       "\n",
       "    .dataframe thead th {\n",
       "        text-align: right;\n",
       "    }\n",
       "</style>\n",
       "<table border=\"1\" class=\"dataframe\">\n",
       "  <thead>\n",
       "    <tr style=\"text-align: right;\">\n",
       "      <th></th>\n",
       "      <th>0</th>\n",
       "      <th>1</th>\n",
       "      <th>2</th>\n",
       "    </tr>\n",
       "  </thead>\n",
       "  <tbody>\n",
       "    <tr>\n",
       "      <th>0</th>\n",
       "      <td>11</td>\n",
       "      <td>12</td>\n",
       "      <td>13</td>\n",
       "    </tr>\n",
       "    <tr>\n",
       "      <th>1</th>\n",
       "      <td>14</td>\n",
       "      <td>15</td>\n",
       "      <td>16</td>\n",
       "    </tr>\n",
       "    <tr>\n",
       "      <th>2</th>\n",
       "      <td>17</td>\n",
       "      <td>30</td>\n",
       "      <td>19</td>\n",
       "    </tr>\n",
       "    <tr>\n",
       "      <th>3</th>\n",
       "      <td>20</td>\n",
       "      <td>21</td>\n",
       "      <td>130</td>\n",
       "    </tr>\n",
       "  </tbody>\n",
       "</table>\n",
       "</div>"
      ],
      "text/plain": [
       "    0   1    2\n",
       "0  11  12   13\n",
       "1  14  15   16\n",
       "2  17  30   19\n",
       "3  20  21  130"
      ]
     },
     "execution_count": 114,
     "metadata": {},
     "output_type": "execute_result"
    }
   ],
   "source": [
    "df5 = df2.apply(sumVal)\n",
    "df5"
   ]
  },
  {
   "cell_type": "code",
   "execution_count": null,
   "id": "9d596ab4-5b28-447d-8615-da3d9e99e46d",
   "metadata": {},
   "outputs": [],
   "source": [
    "df2 = df2 + 5\n",
    "\n",
    "6 =  1 + 5"
   ]
  },
  {
   "cell_type": "code",
   "execution_count": 115,
   "id": "e9ff8806-864d-4473-b9a8-ac3208d035fd",
   "metadata": {},
   "outputs": [
    {
     "data": {
      "text/html": [
       "<div>\n",
       "<style scoped>\n",
       "    .dataframe tbody tr th:only-of-type {\n",
       "        vertical-align: middle;\n",
       "    }\n",
       "\n",
       "    .dataframe tbody tr th {\n",
       "        vertical-align: top;\n",
       "    }\n",
       "\n",
       "    .dataframe thead th {\n",
       "        text-align: right;\n",
       "    }\n",
       "</style>\n",
       "<table border=\"1\" class=\"dataframe\">\n",
       "  <thead>\n",
       "    <tr style=\"text-align: right;\">\n",
       "      <th></th>\n",
       "      <th>0</th>\n",
       "      <th>1</th>\n",
       "      <th>2</th>\n",
       "    </tr>\n",
       "  </thead>\n",
       "  <tbody>\n",
       "    <tr>\n",
       "      <th>0</th>\n",
       "      <td>1</td>\n",
       "      <td>2</td>\n",
       "      <td>3</td>\n",
       "    </tr>\n",
       "    <tr>\n",
       "      <th>1</th>\n",
       "      <td>4</td>\n",
       "      <td>5</td>\n",
       "      <td>6</td>\n",
       "    </tr>\n",
       "    <tr>\n",
       "      <th>2</th>\n",
       "      <td>7</td>\n",
       "      <td>20</td>\n",
       "      <td>9</td>\n",
       "    </tr>\n",
       "    <tr>\n",
       "      <th>3</th>\n",
       "      <td>10</td>\n",
       "      <td>11</td>\n",
       "      <td>120</td>\n",
       "    </tr>\n",
       "  </tbody>\n",
       "</table>\n",
       "</div>"
      ],
      "text/plain": [
       "    0   1    2\n",
       "0   1   2    3\n",
       "1   4   5    6\n",
       "2   7  20    9\n",
       "3  10  11  120"
      ]
     },
     "execution_count": 115,
     "metadata": {},
     "output_type": "execute_result"
    }
   ],
   "source": [
    "df2"
   ]
  },
  {
   "cell_type": "code",
   "execution_count": 118,
   "id": "80568bde-6877-4cc5-81f6-f516317d83c8",
   "metadata": {},
   "outputs": [
    {
     "data": {
      "text/html": [
       "<div>\n",
       "<style scoped>\n",
       "    .dataframe tbody tr th:only-of-type {\n",
       "        vertical-align: middle;\n",
       "    }\n",
       "\n",
       "    .dataframe tbody tr th {\n",
       "        vertical-align: top;\n",
       "    }\n",
       "\n",
       "    .dataframe thead th {\n",
       "        text-align: right;\n",
       "    }\n",
       "</style>\n",
       "<table border=\"1\" class=\"dataframe\">\n",
       "  <thead>\n",
       "    <tr style=\"text-align: right;\">\n",
       "      <th></th>\n",
       "      <th>0</th>\n",
       "      <th>1</th>\n",
       "      <th>2</th>\n",
       "    </tr>\n",
       "  </thead>\n",
       "  <tbody>\n",
       "    <tr>\n",
       "      <th>0</th>\n",
       "      <td>6</td>\n",
       "      <td>7</td>\n",
       "      <td>8</td>\n",
       "    </tr>\n",
       "    <tr>\n",
       "      <th>1</th>\n",
       "      <td>9</td>\n",
       "      <td>10</td>\n",
       "      <td>11</td>\n",
       "    </tr>\n",
       "    <tr>\n",
       "      <th>2</th>\n",
       "      <td>12</td>\n",
       "      <td>25</td>\n",
       "      <td>14</td>\n",
       "    </tr>\n",
       "    <tr>\n",
       "      <th>3</th>\n",
       "      <td>15</td>\n",
       "      <td>16</td>\n",
       "      <td>125</td>\n",
       "    </tr>\n",
       "  </tbody>\n",
       "</table>\n",
       "</div>"
      ],
      "text/plain": [
       "    0   1    2\n",
       "0   6   7    8\n",
       "1   9  10   11\n",
       "2  12  25   14\n",
       "3  15  16  125"
      ]
     },
     "execution_count": 118,
     "metadata": {},
     "output_type": "execute_result"
    }
   ],
   "source": [
    "df6 = df2.apply(lambda a:a+5)\n",
    "\n",
    "df6"
   ]
  },
  {
   "cell_type": "code",
   "execution_count": 124,
   "id": "5186f950-84b1-409a-83f0-a4878895400d",
   "metadata": {},
   "outputs": [
    {
     "name": "stdout",
     "output_type": "stream",
     "text": [
      "    0   1   2\n",
      "0   6   7   8\n",
      "1   9  10  11\n",
      "2  12  13  14\n",
      "3  15  16  17\n",
      "    0   1   2\n",
      "0  11  12  13\n",
      "1  14  15  16\n",
      "2  17  18  19\n",
      "3  20  21  22\n",
      "    0   1   2\n",
      "0  16  17  18\n",
      "1  19  20  21\n",
      "2  22  23  24\n",
      "3  25  26  27\n"
     ]
    }
   ],
   "source": [
    "for i, j in df2.items():\n",
    "    df2 = df2 + 5\n",
    "    print(df2)"
   ]
  },
  {
   "cell_type": "code",
   "execution_count": 121,
   "id": "abc968cd-8b4d-4d8c-ba47-8b05907180d4",
   "metadata": {},
   "outputs": [
    {
     "data": {
      "text/html": [
       "<div>\n",
       "<style scoped>\n",
       "    .dataframe tbody tr th:only-of-type {\n",
       "        vertical-align: middle;\n",
       "    }\n",
       "\n",
       "    .dataframe tbody tr th {\n",
       "        vertical-align: top;\n",
       "    }\n",
       "\n",
       "    .dataframe thead th {\n",
       "        text-align: right;\n",
       "    }\n",
       "</style>\n",
       "<table border=\"1\" class=\"dataframe\">\n",
       "  <thead>\n",
       "    <tr style=\"text-align: right;\">\n",
       "      <th></th>\n",
       "      <th>0</th>\n",
       "      <th>1</th>\n",
       "      <th>2</th>\n",
       "    </tr>\n",
       "  </thead>\n",
       "  <tbody>\n",
       "    <tr>\n",
       "      <th>0</th>\n",
       "      <td>16</td>\n",
       "      <td>17</td>\n",
       "      <td>18</td>\n",
       "    </tr>\n",
       "    <tr>\n",
       "      <th>1</th>\n",
       "      <td>19</td>\n",
       "      <td>20</td>\n",
       "      <td>21</td>\n",
       "    </tr>\n",
       "    <tr>\n",
       "      <th>2</th>\n",
       "      <td>22</td>\n",
       "      <td>35</td>\n",
       "      <td>24</td>\n",
       "    </tr>\n",
       "    <tr>\n",
       "      <th>3</th>\n",
       "      <td>25</td>\n",
       "      <td>26</td>\n",
       "      <td>135</td>\n",
       "    </tr>\n",
       "  </tbody>\n",
       "</table>\n",
       "</div>"
      ],
      "text/plain": [
       "    0   1    2\n",
       "0  16  17   18\n",
       "1  19  20   21\n",
       "2  22  35   24\n",
       "3  25  26  135"
      ]
     },
     "execution_count": 121,
     "metadata": {},
     "output_type": "execute_result"
    }
   ],
   "source": [
    "df2"
   ]
  },
  {
   "cell_type": "code",
   "execution_count": 125,
   "id": "bcfb8fc5-120d-4bf1-b65a-d83954332e5e",
   "metadata": {},
   "outputs": [
    {
     "data": {
      "text/html": [
       "<div>\n",
       "<style scoped>\n",
       "    .dataframe tbody tr th:only-of-type {\n",
       "        vertical-align: middle;\n",
       "    }\n",
       "\n",
       "    .dataframe tbody tr th {\n",
       "        vertical-align: top;\n",
       "    }\n",
       "\n",
       "    .dataframe thead th {\n",
       "        text-align: right;\n",
       "    }\n",
       "</style>\n",
       "<table border=\"1\" class=\"dataframe\">\n",
       "  <thead>\n",
       "    <tr style=\"text-align: right;\">\n",
       "      <th></th>\n",
       "      <th>0</th>\n",
       "      <th>1</th>\n",
       "      <th>2</th>\n",
       "    </tr>\n",
       "  </thead>\n",
       "  <tbody>\n",
       "    <tr>\n",
       "      <th>0</th>\n",
       "      <td>16</td>\n",
       "      <td>17</td>\n",
       "      <td>18</td>\n",
       "    </tr>\n",
       "    <tr>\n",
       "      <th>1</th>\n",
       "      <td>19</td>\n",
       "      <td>20</td>\n",
       "      <td>21</td>\n",
       "    </tr>\n",
       "    <tr>\n",
       "      <th>2</th>\n",
       "      <td>22</td>\n",
       "      <td>23</td>\n",
       "      <td>24</td>\n",
       "    </tr>\n",
       "    <tr>\n",
       "      <th>3</th>\n",
       "      <td>25</td>\n",
       "      <td>26</td>\n",
       "      <td>27</td>\n",
       "    </tr>\n",
       "  </tbody>\n",
       "</table>\n",
       "</div>"
      ],
      "text/plain": [
       "    0   1   2\n",
       "0  16  17  18\n",
       "1  19  20  21\n",
       "2  22  23  24\n",
       "3  25  26  27"
      ]
     },
     "execution_count": 125,
     "metadata": {},
     "output_type": "execute_result"
    }
   ],
   "source": [
    "df2"
   ]
  },
  {
   "cell_type": "code",
   "execution_count": 126,
   "id": "2e87e3e1-7c4b-4855-834c-f9696d627bfe",
   "metadata": {},
   "outputs": [
    {
     "data": {
      "text/plain": [
       "[9, 7, 5, 2, 1]"
      ]
     },
     "execution_count": 126,
     "metadata": {},
     "output_type": "execute_result"
    }
   ],
   "source": [
    "# 5. Sort the following list of tuples by the second value using a lambda function:\n",
    "data = [(1, 3), (2, 1), (4, 2)]\n",
    "\n",
    "\n",
    "# lambda with sorted\n",
    "\n",
    "# sorted(iterable, key=\".....\",reverse=\"......\")\n",
    "\n",
    "\n",
    "num = [5,2,9,1,7]\n",
    "# descending order\n",
    "sortedNum = sorted(num,key=lambda x:x, reverse=True)\n",
    "sortedNum"
   ]
  },
  {
   "cell_type": "code",
   "execution_count": 127,
   "id": "6851fd5e-780f-4601-9597-3542ab974633",
   "metadata": {},
   "outputs": [
    {
     "data": {
      "text/plain": [
       "[1, 2, 5, 7, 9]"
      ]
     },
     "execution_count": 127,
     "metadata": {},
     "output_type": "execute_result"
    }
   ],
   "source": [
    "sortedNum = sorted(num,key=lambda x:x, reverse=False)\n",
    "sortedNum"
   ]
  },
  {
   "cell_type": "code",
   "execution_count": 131,
   "id": "2a472624-eb67-494e-9b55-fa3ad00d82f6",
   "metadata": {},
   "outputs": [
    {
     "data": {
      "text/plain": [
       "[(1, 3, 5), (2, 1, 6), (4, 2, 7)]"
      ]
     },
     "execution_count": 131,
     "metadata": {},
     "output_type": "execute_result"
    }
   ],
   "source": [
    "data = [(1, 3, 5), (2, 1, 6), (4, 2, 7)]\n",
    "\n",
    "\n",
    "# syntax :\n",
    "# sorted(iterable, key=\"........\")\n",
    "\n",
    "sortedVal = sorted(data, key=lambda x:x[0])\n",
    "sortedVal"
   ]
  },
  {
   "cell_type": "code",
   "execution_count": 132,
   "id": "9a210ac9-2edd-4707-8a4e-6219f6997154",
   "metadata": {},
   "outputs": [
    {
     "data": {
      "text/plain": [
       "[(2, 1, 6), (4, 2, 7), (1, 3, 5)]"
      ]
     },
     "execution_count": 132,
     "metadata": {},
     "output_type": "execute_result"
    }
   ],
   "source": [
    "sortedVal = sorted(data, key=lambda x:x[1])\n",
    "sortedVal"
   ]
  },
  {
   "cell_type": "code",
   "execution_count": 133,
   "id": "59c65445-884e-4242-bec2-3a068bd47147",
   "metadata": {},
   "outputs": [
    {
     "data": {
      "text/plain": [
       "[(1, 3, 5), (2, 1, 6), (4, 2, 7)]"
      ]
     },
     "execution_count": 133,
     "metadata": {},
     "output_type": "execute_result"
    }
   ],
   "source": [
    "sortedVal = sorted(data, key=lambda x:x[2])\n",
    "sortedVal"
   ]
  },
  {
   "cell_type": "code",
   "execution_count": 141,
   "id": "7c0eafa9-35be-432e-bd9f-c112a07d178b",
   "metadata": {},
   "outputs": [],
   "source": [
    "def sortedVal1(x):  # sortedVal(1)\n",
    "    return lambda y:y[x]"
   ]
  },
  {
   "cell_type": "code",
   "execution_count": 145,
   "id": "668c129c-43f8-4baf-89d7-8e5065a69e1b",
   "metadata": {},
   "outputs": [
    {
     "data": {
      "text/plain": [
       "[(1, 3, 5), (2, 1, 6), (4, 2, 7)]"
      ]
     },
     "execution_count": 145,
     "metadata": {},
     "output_type": "execute_result"
    }
   ],
   "source": [
    "sortedValue = sorted(data, key=sortedVal1(0))\n",
    "sortedValue"
   ]
  },
  {
   "cell_type": "code",
   "execution_count": 146,
   "id": "a6dbc856-a983-4ede-a7b8-014aa3e2a1a0",
   "metadata": {},
   "outputs": [
    {
     "name": "stdout",
     "output_type": "stream",
     "text": [
      "25\n"
     ]
    }
   ],
   "source": [
    "# 1. Write a lambda function to calculate the square of a number.\n",
    "def sqr(n):\n",
    "    return (lambda x : x**2)(n)\n",
    "print(sqr(5))"
   ]
  },
  {
   "cell_type": "code",
   "execution_count": 149,
   "id": "5a3b129e-8fc8-4006-8e5f-563dc29a5e9d",
   "metadata": {},
   "outputs": [
    {
     "data": {
      "text/plain": [
       "25"
      ]
     },
     "execution_count": 149,
     "metadata": {},
     "output_type": "execute_result"
    }
   ],
   "source": [
    "(lambda y:y**2)(5)"
   ]
  },
  {
   "cell_type": "code",
   "execution_count": 151,
   "id": "e2b194cb-b7d1-43da-a4d9-47a6680a62c5",
   "metadata": {},
   "outputs": [
    {
     "data": {
      "text/plain": [
       "16"
      ]
     },
     "execution_count": 151,
     "metadata": {},
     "output_type": "execute_result"
    }
   ],
   "source": [
    "# 1. Write a lambda function to calculate the square of a number.\n",
    "sqaure = (lambda x : x ** 2)\n",
    "\n",
    "sqaure(4)"
   ]
  },
  {
   "cell_type": "code",
   "execution_count": 152,
   "id": "85f3af56-756f-41b2-a6a4-557493d275cd",
   "metadata": {},
   "outputs": [
    {
     "data": {
      "text/plain": [
       "[6, 7, 8, 9]"
      ]
     },
     "execution_count": 152,
     "metadata": {},
     "output_type": "execute_result"
    }
   ],
   "source": [
    "# 2. Use a lambda function with map() to add 5 to each number in the list:\n",
    "#    nums = [1, 2, 3, 4]\n",
    "\n",
    "def add(n):\n",
    "    return n+5\n",
    "    \n",
    "nums = [1, 2, 3, 4]\n",
    "list(map(add, nums))"
   ]
  },
  {
   "cell_type": "code",
   "execution_count": 153,
   "id": "6cab683a-dd06-4d2b-88ae-d39f5e556aca",
   "metadata": {},
   "outputs": [
    {
     "data": {
      "text/plain": [
       "[8, 14, 20]"
      ]
     },
     "execution_count": 153,
     "metadata": {},
     "output_type": "execute_result"
    }
   ],
   "source": [
    "# 3. Use filter() with a lambda to find even numbers from a list:\n",
    "nums = [5, 8, 11, 14, 17, 20]\n",
    "def even(n):\n",
    "    return (lambda x: x%2==0)(n)\n",
    "list(filter(even, nums))"
   ]
  },
  {
   "cell_type": "code",
   "execution_count": 154,
   "id": "d7646665-737e-4d23-bdc0-aae42439d817",
   "metadata": {},
   "outputs": [
    {
     "name": "stdout",
     "output_type": "stream",
     "text": [
      "120\n"
     ]
    }
   ],
   "source": [
    "# 4. Use reduce() with a lambda to compute the product of all elements in a list:\n",
    "#    nums = [2, 3, 4, 5]\n",
    "#    *(Hint: from functools import reduce)*\n",
    "from functools import reduce\n",
    "nums = [2, 3, 4, 5]\n",
    "print(reduce(lambda x, y : x*y, nums))"
   ]
  },
  {
   "cell_type": "code",
   "execution_count": 159,
   "id": "2789460a-cd46-4eb2-9513-42f631aca3d9",
   "metadata": {},
   "outputs": [
    {
     "data": {
      "text/plain": [
       "True"
      ]
     },
     "execution_count": 159,
     "metadata": {},
     "output_type": "execute_result"
    }
   ],
   "source": [
    "# 6. Write a lambda that checks if a string starts with 'A'.\n",
    "def start_A(a):\n",
    "    return (lambda x: x[0] == \"A\")(a)\n",
    "\n",
    "a = \"addk\".upper()\n",
    "start_A(a)"
   ]
  },
  {
   "cell_type": "code",
   "execution_count": 163,
   "id": "571eff80-9c0f-4e1c-a782-f12a9b83b79a",
   "metadata": {},
   "outputs": [
    {
     "ename": "TypeError",
     "evalue": "can't multiply sequence by non-int of type 'float'",
     "output_type": "error",
     "traceback": [
      "\u001b[31m---------------------------------------------------------------------------\u001b[39m",
      "\u001b[31mTypeError\u001b[39m                                 Traceback (most recent call last)",
      "\u001b[36mCell\u001b[39m\u001b[36m \u001b[39m\u001b[32mIn[163]\u001b[39m\u001b[32m, line 8\u001b[39m\n\u001b[32m      5\u001b[39m \u001b[38;5;28;01mdef\u001b[39;00m\u001b[38;5;250m \u001b[39m\u001b[34mtemp1\u001b[39m(c):\n\u001b[32m      6\u001b[39m     \u001b[38;5;28;01mreturn\u001b[39;00m (\u001b[38;5;28;01mlambda\u001b[39;00m x:( x*(\u001b[32m9\u001b[39m/\u001b[32m5\u001b[39m)) + \u001b[32m32\u001b[39m)(c)\n\u001b[32m----> \u001b[39m\u001b[32m8\u001b[39m \u001b[38;5;28mprint\u001b[39m(\u001b[33mf\u001b[39m\u001b[33m\"\u001b[39m\u001b[33m°C to °F : \u001b[39m\u001b[38;5;132;01m{\u001b[39;00m\u001b[43mtemp1\u001b[49m\u001b[43m(\u001b[49m\u001b[43mtemps\u001b[49m\u001b[43m)\u001b[49m\u001b[38;5;132;01m}\u001b[39;00m\u001b[33m°F\u001b[39m\u001b[33m\"\u001b[39m)\n",
      "\u001b[36mCell\u001b[39m\u001b[36m \u001b[39m\u001b[32mIn[163]\u001b[39m\u001b[32m, line 6\u001b[39m, in \u001b[36mtemp1\u001b[39m\u001b[34m(c)\u001b[39m\n\u001b[32m      5\u001b[39m \u001b[38;5;28;01mdef\u001b[39;00m\u001b[38;5;250m \u001b[39m\u001b[34mtemp1\u001b[39m(c):\n\u001b[32m----> \u001b[39m\u001b[32m6\u001b[39m     \u001b[38;5;28;01mreturn\u001b[39;00m \u001b[43m(\u001b[49m\u001b[38;5;28;43;01mlambda\u001b[39;49;00m\u001b[43m \u001b[49m\u001b[43mx\u001b[49m\u001b[43m:\u001b[49m\u001b[43m(\u001b[49m\u001b[43m \u001b[49m\u001b[43mx\u001b[49m\u001b[43m*\u001b[49m\u001b[43m(\u001b[49m\u001b[32;43m9\u001b[39;49m\u001b[43m/\u001b[49m\u001b[32;43m5\u001b[39;49m\u001b[43m)\u001b[49m\u001b[43m)\u001b[49m\u001b[43m \u001b[49m\u001b[43m+\u001b[49m\u001b[43m \u001b[49m\u001b[32;43m32\u001b[39;49m\u001b[43m)\u001b[49m\u001b[43m(\u001b[49m\u001b[43mc\u001b[49m\u001b[43m)\u001b[49m\n",
      "\u001b[36mCell\u001b[39m\u001b[36m \u001b[39m\u001b[32mIn[163]\u001b[39m\u001b[32m, line 6\u001b[39m, in \u001b[36mtemp1.<locals>.<lambda>\u001b[39m\u001b[34m(x)\u001b[39m\n\u001b[32m      5\u001b[39m \u001b[38;5;28;01mdef\u001b[39;00m\u001b[38;5;250m \u001b[39m\u001b[34mtemp1\u001b[39m(c):\n\u001b[32m----> \u001b[39m\u001b[32m6\u001b[39m     \u001b[38;5;28;01mreturn\u001b[39;00m (\u001b[38;5;28;01mlambda\u001b[39;00m x:( \u001b[43mx\u001b[49m\u001b[43m*\u001b[49m\u001b[43m(\u001b[49m\u001b[32;43m9\u001b[39;49m\u001b[43m/\u001b[49m\u001b[32;43m5\u001b[39;49m\u001b[43m)\u001b[49m) + \u001b[32m32\u001b[39m)(c)\n",
      "\u001b[31mTypeError\u001b[39m: can't multiply sequence by non-int of type 'float'"
     ]
    }
   ],
   "source": [
    "# 7. Use a lambda function with map() to convert a list of Celsius temperatures to Fahrenheit:\n",
    "#    temps = [0, 20, 37, 100]\n",
    "\n",
    "temps = [0, 20, 37, 100]\n",
    "def temp1(c):\n",
    "    return (lambda x:( x*(9/5)) + 32)(c)\n",
    "\n",
    "print(f\"°C to °F : {temp1(temps)}°F\")"
   ]
  },
  {
   "cell_type": "code",
   "execution_count": 164,
   "id": "20dd84fe-6f93-44f9-a6b7-6a476a7191ad",
   "metadata": {},
   "outputs": [
    {
     "data": {
      "text/plain": [
       "['notebook', 'apple']"
      ]
     },
     "execution_count": 164,
     "metadata": {},
     "output_type": "execute_result"
    }
   ],
   "source": [
    "# 8. Given a list of strings, filter all strings with length > 3 using a lambda:\n",
    "words = ['pen', 'notebook', 'apple', 'go']\n",
    "def above_3(n):\n",
    "    return (lambda x : len(x) > 3)(n)\n",
    "\n",
    "list(filter(above_3, words))"
   ]
  },
  {
   "cell_type": "code",
   "execution_count": 165,
   "id": "d699d176-e9bb-4bc6-8b46-56961f2922e9",
   "metadata": {},
   "outputs": [
    {
     "name": "stdout",
     "output_type": "stream",
     "text": [
      "7.0\n"
     ]
    }
   ],
   "source": [
    "# 9. Create a lambda that takes two arguments and returns their average.\n",
    "print((lambda x, y : (x+y)/2)(5, 9))"
   ]
  },
  {
   "cell_type": "code",
   "execution_count": 166,
   "id": "03c6e11a-632c-4a3a-b178-d579ce56bab6",
   "metadata": {},
   "outputs": [
    {
     "data": {
      "text/plain": [
       "['Python', 'Lambda', 'Function']"
      ]
     },
     "execution_count": 166,
     "metadata": {},
     "output_type": "execute_result"
    }
   ],
   "source": [
    "# 10. Use a lambda and map() to capitalize the first letter of each word in a list:\n",
    "words = ['python', 'lambda', 'function']\n",
    "def capital(n):\n",
    "    return (lambda x: x.title())(n)\n",
    "\n",
    "list(map(capital, words))"
   ]
  },
  {
   "cell_type": "code",
   "execution_count": null,
   "id": "2f424a24-9aed-45bf-a511-a0878a57561c",
   "metadata": {},
   "outputs": [],
   "source": []
  }
 ],
 "metadata": {
  "kernelspec": {
   "display_name": "Python 3 (ipykernel)",
   "language": "python",
   "name": "python3"
  },
  "language_info": {
   "codemirror_mode": {
    "name": "ipython",
    "version": 3
   },
   "file_extension": ".py",
   "mimetype": "text/x-python",
   "name": "python",
   "nbconvert_exporter": "python",
   "pygments_lexer": "ipython3",
   "version": "3.13.7"
  }
 },
 "nbformat": 4,
 "nbformat_minor": 5
}
