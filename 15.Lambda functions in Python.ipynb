{
 "cells": [
  {
   "cell_type": "markdown",
   "id": "fd7e1ffa-29f0-4219-9246-9b9c8e5000ae",
   "metadata": {},
   "source": [
    "# 15. Lambda function in Python\n",
    "\n",
    " * __A Lambda function is a small anonymous(function without their name) function.__\n",
    " * __A Lambda function can take any number of arguments, but only have one expressions.__\n",
    " * __The expression is evaluated and returned.__\n",
    " * __Lambda expressions(or lambda function) essentially blocks of code that can be assigned to variable, passed as an agurments, or returned from a funciton call, in Language that support high-order functions.__\n",
    " * __The main role of lambda function is better described in the scenerios when we employ them anonymously inside another functions.__\n",
    " * __In Python, the lambda function can be utilized as an arguments to the higher-order funcitons as an arugments.__\n",
    "   * __Lambda functions in python__\n",
    "     * __syntax:__\n",
    "     * __Normal Functions__\n",
    "     * __Anonymous function__\n",
    "   * __Usages__\n",
    "     * __Lambda with filters()__\n",
    "     * __Lambda with map()__\n",
    "     * __Lambda with reduce()__\n",
    "     * __Lambda with apply()__\n",
    "   * __CommonErrors__\n",
    "     * __SyntaxError__\n",
    "     * __TypeError__"
   ]
  },
  {
   "cell_type": "code",
   "execution_count": 1,
   "id": "acfe68a2-90d3-497c-bc4c-fa03a35798eb",
   "metadata": {},
   "outputs": [
    {
     "data": {
      "text/plain": [
       "32"
      ]
     },
     "execution_count": 1,
     "metadata": {},
     "output_type": "execute_result"
    }
   ],
   "source": [
    "# UserDefined function\n",
    "\n",
    "# two number addition\n",
    "\n",
    "def additionTwo(x,y):\n",
    "    return x+y\n",
    "additionTwo(2,30)"
   ]
  },
  {
   "cell_type": "code",
   "execution_count": 2,
   "id": "9ad57a9c-5270-461a-af97-0a35f31a39b4",
   "metadata": {},
   "outputs": [
    {
     "data": {
      "text/plain": [
       "30"
      ]
     },
     "execution_count": 2,
     "metadata": {},
     "output_type": "execute_result"
    }
   ],
   "source": [
    "additionTwo(10,20)"
   ]
  },
  {
   "cell_type": "code",
   "execution_count": 6,
   "id": "455ec888-fb44-42be-b110-e278e82f1114",
   "metadata": {},
   "outputs": [
    {
     "data": {
      "text/plain": [
       "25"
      ]
     },
     "execution_count": 6,
     "metadata": {},
     "output_type": "execute_result"
    }
   ],
   "source": [
    "(lambda x,y:x+y)(10,15)"
   ]
  },
  {
   "cell_type": "code",
   "execution_count": 7,
   "id": "e3ae5305-9d92-4b7a-94b6-ce3e0b325d06",
   "metadata": {},
   "outputs": [
    {
     "data": {
      "text/plain": [
       "400"
      ]
     },
     "execution_count": 7,
     "metadata": {},
     "output_type": "execute_result"
    }
   ],
   "source": [
    "# num1 = 20\n",
    "\n",
    "# function \n",
    "\n",
    "def sqrNum(n):\n",
    "    return n**2\n",
    "sqrNum(20)"
   ]
  },
  {
   "cell_type": "code",
   "execution_count": 8,
   "id": "f7b7b838-7bc9-4cf9-aa5d-52dd9b3e8285",
   "metadata": {},
   "outputs": [
    {
     "data": {
      "text/plain": [
       "400"
      ]
     },
     "execution_count": 8,
     "metadata": {},
     "output_type": "execute_result"
    }
   ],
   "source": [
    "(lambda a:a**2)(20)"
   ]
  },
  {
   "cell_type": "code",
   "execution_count": 9,
   "id": "2ea662e0-9e4a-48ec-9b14-3b18cdef8fee",
   "metadata": {},
   "outputs": [
    {
     "data": {
      "text/plain": [
       "2500"
      ]
     },
     "execution_count": 9,
     "metadata": {},
     "output_type": "execute_result"
    }
   ],
   "source": [
    "sqrNum(50)"
   ]
  },
  {
   "cell_type": "code",
   "execution_count": 10,
   "id": "34d5db6b-d226-4107-bc82-46e980861429",
   "metadata": {},
   "outputs": [
    {
     "name": "stdin",
     "output_type": "stream",
     "text": [
      "Enter any value:  15\n"
     ]
    },
    {
     "data": {
      "text/plain": [
       "225"
      ]
     },
     "execution_count": 10,
     "metadata": {},
     "output_type": "execute_result"
    }
   ],
   "source": [
    "def sqrNum(n):\n",
    "    return n**2\n",
    "\n",
    "x = int(input(\"Enter any value: \"))\n",
    "sqrNum(x)"
   ]
  },
  {
   "cell_type": "code",
   "execution_count": 11,
   "id": "1a3d9944-8409-42f5-9234-3a7be55be782",
   "metadata": {},
   "outputs": [
    {
     "name": "stdin",
     "output_type": "stream",
     "text": [
      "enter any value:  78\n"
     ]
    },
    {
     "data": {
      "text/plain": [
       "6084"
      ]
     },
     "execution_count": 11,
     "metadata": {},
     "output_type": "execute_result"
    }
   ],
   "source": [
    "a1 = int(input(\"enter any value: \"))\n",
    "(lambda a:a**2)(a1)"
   ]
  },
  {
   "cell_type": "code",
   "execution_count": 12,
   "id": "25da56ea-e7f4-4c27-87ea-7b951b476515",
   "metadata": {},
   "outputs": [
    {
     "name": "stdout",
     "output_type": "stream",
     "text": [
      "[2, 4, 6, 8, 10]\n",
      "[1, 3, 5, 7, 9]\n"
     ]
    }
   ],
   "source": [
    "# even or odd numbers\n",
    "\n",
    "arrayList = [1,2,3,4,5,6,7,8,9,10]\n",
    "\n",
    "def arraysum(l):\n",
    "    even = []\n",
    "    odd = []\n",
    "    for i in l:\n",
    "        if i % 2 == 0:\n",
    "            even.append(i)\n",
    "        else:\n",
    "            odd.append(i)\n",
    "    print(even)\n",
    "    print(odd)\n",
    "    # print(sum)\n",
    "arraysum(arraylist)"
   ]
  },
  {
   "cell_type": "code",
   "execution_count": 14,
   "id": "691e9e97-c8a4-4a32-8ab1-6cdb84da57b4",
   "metadata": {},
   "outputs": [
    {
     "data": {
      "text/plain": [
       "False"
      ]
     },
     "execution_count": 14,
     "metadata": {},
     "output_type": "execute_result"
    }
   ],
   "source": [
    "arraylist = [1,2,3,4,5,6,7,8,9,10]\n",
    "\n",
    "(lambda x:x%2==0)(11)"
   ]
  },
  {
   "cell_type": "code",
   "execution_count": 16,
   "id": "10376248-9f5d-41fe-90e5-0443dd441e1f",
   "metadata": {},
   "outputs": [],
   "source": [
    "# Lambda with filters()\n",
    "arraylist = [1,2,3,4,5,6,7,8,9,10]\n",
    "\n",
    "# syntax: filter(function, sequence)"
   ]
  },
  {
   "cell_type": "code",
   "execution_count": 18,
   "id": "0929aa7c-948e-41ea-a9f4-8ba94f848d4d",
   "metadata": {},
   "outputs": [
    {
     "data": {
      "text/plain": [
       "10"
      ]
     },
     "execution_count": 18,
     "metadata": {},
     "output_type": "execute_result"
    }
   ],
   "source": [
    "def even(n):\n",
    "    if n%2==0:\n",
    "        return n\n",
    "even(10)"
   ]
  },
  {
   "cell_type": "code",
   "execution_count": 21,
   "id": "0e3c538d-4d93-479e-a505-d768a0f56d4a",
   "metadata": {},
   "outputs": [
    {
     "data": {
      "text/plain": [
       "[2, 4, 6, 8, 10]"
      ]
     },
     "execution_count": 21,
     "metadata": {},
     "output_type": "execute_result"
    }
   ],
   "source": [
    "list(filter(even, arraylist))"
   ]
  },
  {
   "cell_type": "code",
   "execution_count": 24,
   "id": "71d1882d-b41b-4175-b57e-425701896887",
   "metadata": {},
   "outputs": [
    {
     "data": {
      "text/plain": [
       "(2, 4, 6, 8, 10)"
      ]
     },
     "execution_count": 24,
     "metadata": {},
     "output_type": "execute_result"
    }
   ],
   "source": [
    "tuple(filter(lambda x:x%2==0, arraylist))"
   ]
  },
  {
   "cell_type": "code",
   "execution_count": 26,
   "id": "58ed1906-ca35-48e2-aea5-6dbe0bf0f074",
   "metadata": {},
   "outputs": [],
   "source": [
    "def oddNum(n):\n",
    "    if n%2!=0:\n",
    "        return n\n",
    "oddNum(10)"
   ]
  },
  {
   "cell_type": "code",
   "execution_count": 28,
   "id": "f3d7c5b3-29cd-4079-b966-399bdb75897e",
   "metadata": {},
   "outputs": [
    {
     "data": {
      "text/plain": [
       "[1, 3, 5, 7, 9]"
      ]
     },
     "execution_count": 28,
     "metadata": {},
     "output_type": "execute_result"
    }
   ],
   "source": [
    "list(filter(oddNum, arraylist))"
   ]
  },
  {
   "cell_type": "code",
   "execution_count": 30,
   "id": "2e17d698-9839-4961-ae24-6804ad1af8c7",
   "metadata": {},
   "outputs": [
    {
     "data": {
      "text/plain": [
       "[1, 3, 5, 7, 9]"
      ]
     },
     "execution_count": 30,
     "metadata": {},
     "output_type": "execute_result"
    }
   ],
   "source": [
    "list(filter(lambda a:a%2!=0, arraylist))"
   ]
  },
  {
   "cell_type": "code",
   "execution_count": null,
   "id": "ec039152-7539-4b57-8231-a4e4f278d587",
   "metadata": {},
   "outputs": [],
   "source": [
    "arrayList1 = [1,2,3,4,5,6,7,8,9,10,11,12,13,14,15,16,17,18,19,20]\n",
    "# sqrofNumber"
   ]
  },
  {
   "cell_type": "code",
   "execution_count": 31,
   "id": "c0baf201-88d4-4f2f-8fe4-ad4dd0e28318",
   "metadata": {},
   "outputs": [
    {
     "name": "stdout",
     "output_type": "stream",
     "text": [
      "[1, 4, 9, 16, 25, 36, 49, 64, 81, 100, 121, 144, 169, 196, 225, 256, 289, 324, 361, 400]\n"
     ]
    }
   ],
   "source": [
    "arraylist = [1,2,3,4,5,6,7,8,9,10,11,12,13,14,15,16,17,18,19,20]\n",
    "sqr = []\n",
    "for i in arraylist:\n",
    "    sqr.append(i**2)\n",
    "print(sqr)"
   ]
  },
  {
   "cell_type": "code",
   "execution_count": 32,
   "id": "138cf710-a802-4253-ac3e-2c085e99d8dd",
   "metadata": {},
   "outputs": [
    {
     "name": "stdout",
     "output_type": "stream",
     "text": [
      "[1, 4, 9, 16, 25, 36, 49, 64, 81, 100, 121, 144, 169, 196, 225, 256, 289, 324, 361, 400]\n"
     ]
    }
   ],
   "source": [
    "arraylist = [1,2,3,4,5,6,7,8,9,10,11,12,13,14,15,16,17,18,19,20]\n",
    "\n",
    "squared_list = []\n",
    "list(filter(lambda x: squared_list.append(x**2), arraylist))\n",
    "\n",
    "print(squared_list)"
   ]
  },
  {
   "cell_type": "code",
   "execution_count": null,
   "id": "78f0da38-80b6-4408-b525-c2802b976739",
   "metadata": {},
   "outputs": [],
   "source": []
  },
  {
   "cell_type": "code",
   "execution_count": 47,
   "id": "2ab5ea8b-cbd3-4d06-9bda-3c77033dd03f",
   "metadata": {},
   "outputs": [],
   "source": [
    "# above 10 number and below 10 number\n",
    "arraylist = [1,2,3,4,5,6,7,8,9,-11,50,45,-100,-88,-90,15,-20]\n",
    "\n",
    "def "
   ]
  },
  {
   "cell_type": "code",
   "execution_count": 48,
   "id": "5512c748-f570-482d-b14b-e0bc8dddece0",
   "metadata": {},
   "outputs": [
    {
     "data": {
      "text/plain": [
       "[11, 22, 55, 66]"
      ]
     },
     "execution_count": 48,
     "metadata": {},
     "output_type": "execute_result"
    }
   ],
   "source": [
    "a = [1,2,3,11,22,4,55,66]\n",
    "def above(n):\n",
    "    if n >= 10:\n",
    "        return n\n",
    "\n",
    "list(filter(above, a))\n",
    "\n"
   ]
  },
  {
   "cell_type": "code",
   "execution_count": 49,
   "id": "cab04cff-0522-4bc6-9314-a3f4072d07bd",
   "metadata": {},
   "outputs": [
    {
     "data": {
      "text/plain": [
       "[1, 2, 3, 4]"
      ]
     },
     "execution_count": 49,
     "metadata": {},
     "output_type": "execute_result"
    }
   ],
   "source": [
    "a = [1,2,3,11,22,4,55,66]\n",
    "def below(n):\n",
    "    if n < 10:\n",
    "        return n\n",
    "\n",
    "list(filter(below, a))"
   ]
  },
  {
   "cell_type": "code",
   "execution_count": 50,
   "id": "bde9dc19-4acc-4fec-8d4e-fb00b90993e9",
   "metadata": {},
   "outputs": [
    {
     "name": "stdout",
     "output_type": "stream",
     "text": [
      "[1, 2, 3, 4, 5, 6, 7, 8, 9, -11, -100, -88, -90, -20]\n",
      "[50, 45, 15]\n"
     ]
    }
   ],
   "source": [
    "arraylist1 = [1, 2, 3, 4, 5, 6, 7, 8, 9, -11, 50, 45, -100, -88, -90, 15, -20]\n",
    "\n",
    "numbers = list(filter(lambda x: x < 10, arraylist1))\n",
    "\n",
    "print(numbers)\n",
    "\n",
    "\n",
    "numbers = list(filter(lambda x: x > 10, arraylist1))\n",
    "\n",
    "print(numbers)"
   ]
  },
  {
   "cell_type": "code",
   "execution_count": 51,
   "id": "e0501454-8b3f-4687-93dc-83aa03918584",
   "metadata": {},
   "outputs": [
    {
     "data": {
      "text/plain": [
       "[1, 2, 3, 4]"
      ]
     },
     "execution_count": 51,
     "metadata": {},
     "output_type": "execute_result"
    }
   ],
   "source": [
    "a = [1,2,3,11,22,4,55,66]\n",
    "list(filter(lambda x: x >= 10, a))\n",
    "\n",
    "a = [1,2,3,11,22,4,55,66]\n",
    "list(filter(lambda x: x < 10, a))"
   ]
  },
  {
   "cell_type": "code",
   "execution_count": 52,
   "id": "85ab3f5d-3616-4fb5-96d1-7dea0c29840d",
   "metadata": {},
   "outputs": [
    {
     "data": {
      "text/plain": [
       "['Tuesday', 'Wednesday', 'Thursday', 'Saturday']"
      ]
     },
     "execution_count": 52,
     "metadata": {},
     "output_type": "execute_result"
    }
   ],
   "source": [
    "weekdays = ['Monday',\"Tuesday\",\"Wednesday\",\"Thursday\",\"Friday\",\"Saturday\",\"Sunday\"]\n",
    "\n",
    "# print only above 6 characters value \n",
    "\n",
    "weekdays = [\"Monday\", \"Tuesday\", \"Wednesday\", \"Thursday\", \"Friday\", \"Saturday\", \"Sunday\"]\n",
    "def above(n):\n",
    "    return  len(n)> 6\n",
    "\n",
    "list(filter(above, weekdays))"
   ]
  },
  {
   "cell_type": "code",
   "execution_count": 53,
   "id": "f84c03c1-da36-4593-b08f-0b3de7f8af22",
   "metadata": {},
   "outputs": [
    {
     "data": {
      "text/plain": [
       "['Tuesday', 'Wednesday', 'Thursday', 'Saturday']"
      ]
     },
     "execution_count": 53,
     "metadata": {},
     "output_type": "execute_result"
    }
   ],
   "source": [
    "\n",
    "weekdays = [\"Monday\", \"Tuesday\", \"Wednesday\", \"Thursday\", \"Friday\", \"Saturday\", \"Sunday\"]\n",
    "\n",
    "list(filter(lambda x: len(x)>6, weekdays))"
   ]
  },
  {
   "cell_type": "code",
   "execution_count": 63,
   "id": "43357890-1336-4189-8733-8002347e296b",
   "metadata": {},
   "outputs": [],
   "source": [
    "# Lambda with map()\n",
    "arraylist1 = [1, 2, 3, 4, 5, 6, 7, 8, 9, -11, 50, 45, -100, -88, -90, 15, -20]\n",
    "\n",
    "def sqrNum(n):\n",
    "    x = n**2\n",
    "    return x"
   ]
  },
  {
   "cell_type": "code",
   "execution_count": 66,
   "id": "f29b41ec-75f2-4e93-bc30-31c89ad05c21",
   "metadata": {},
   "outputs": [
    {
     "data": {
      "text/plain": [
       "[1, 4, 9, 16, 25, 36, 49, 64, 81, 121, 2500, 2025, 10000, 7744, 8100, 225, 400]"
      ]
     },
     "execution_count": 66,
     "metadata": {},
     "output_type": "execute_result"
    }
   ],
   "source": [
    "list(map(sqrNum,arraylist1))"
   ]
  },
  {
   "cell_type": "code",
   "execution_count": 67,
   "id": "065e2fda-a126-42ef-90c7-a344cc153246",
   "metadata": {},
   "outputs": [
    {
     "data": {
      "text/plain": [
       "16"
      ]
     },
     "execution_count": 67,
     "metadata": {},
     "output_type": "execute_result"
    }
   ],
   "source": [
    "4**2  # "
   ]
  },
  {
   "cell_type": "code",
   "execution_count": 68,
   "id": "9e03abc1-d13a-4248-a716-debbd1e6d5a0",
   "metadata": {},
   "outputs": [
    {
     "data": {
      "text/plain": [
       "True"
      ]
     },
     "execution_count": 68,
     "metadata": {},
     "output_type": "execute_result"
    }
   ],
   "source": [
    "x=\"Hello world\"\n",
    "len(x)>6"
   ]
  },
  {
   "cell_type": "code",
   "execution_count": null,
   "id": "cd547456-a3c0-4501-9fdc-e5474ba3414b",
   "metadata": {},
   "outputs": [],
   "source": []
  }
 ],
 "metadata": {
  "kernelspec": {
   "display_name": "Python 3 (ipykernel)",
   "language": "python",
   "name": "python3"
  },
  "language_info": {
   "codemirror_mode": {
    "name": "ipython",
    "version": 3
   },
   "file_extension": ".py",
   "mimetype": "text/x-python",
   "name": "python",
   "nbconvert_exporter": "python",
   "pygments_lexer": "ipython3",
   "version": "3.13.7"
  }
 },
 "nbformat": 4,
 "nbformat_minor": 5
}
