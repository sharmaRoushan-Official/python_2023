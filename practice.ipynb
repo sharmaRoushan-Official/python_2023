{
 "cells": [
  {
   "cell_type": "markdown",
   "id": "d956d614-2a1e-4244-ae69-a69579849dc8",
   "metadata": {},
   "source": [
    "# Practice"
   ]
  },
  {
   "cell_type": "code",
   "execution_count": 2,
   "id": "bc8a2885-81ee-4914-ae21-4d6ec42abb52",
   "metadata": {},
   "outputs": [
    {
     "data": {
      "text/plain": [
       "6"
      ]
     },
     "execution_count": 2,
     "metadata": {},
     "output_type": "execute_result"
    }
   ],
   "source": [
    "#1. wap to take string input and print its length\n",
    "\n",
    "x = 'Aditya'\n",
    "len(x) # length is Build-in keyword"
   ]
  },
  {
   "cell_type": "code",
   "execution_count": 8,
   "id": "ef4fe892-9448-4bac-81ce-d1647cf19323",
   "metadata": {},
   "outputs": [
    {
     "name": "stdout",
     "output_type": "stream",
     "text": [
      "Total characters in you string value is: 6\n"
     ]
    }
   ],
   "source": [
    "count = 0\n",
    "for i in x:\n",
    "    count+=1\n",
    "print(\"Total characters in you string value is:\",count)"
   ]
  },
  {
   "cell_type": "code",
   "execution_count": 22,
   "id": "1ede80b2-e8b0-452d-a839-9645fa81009e",
   "metadata": {},
   "outputs": [
    {
     "name": "stdout",
     "output_type": "stream",
     "text": [
      "0 A\n",
      "1 d\n",
      "2 i\n",
      "3 t\n",
      "4 y\n",
      "5 a\n",
      "Total Characters in your string value is: 6\n"
     ]
    }
   ],
   "source": [
    "count1 = 0\n",
    "for i in range(len(x)):\n",
    "    count1+=1\n",
    "    print(i,x[i])\n",
    "print('Total Characters in your string value is:',count1)"
   ]
  },
  {
   "cell_type": "code",
   "execution_count": 28,
   "id": "de4fa97f-1d8f-4da9-865b-fb1916efa34c",
   "metadata": {},
   "outputs": [
    {
     "name": "stdout",
     "output_type": "stream",
     "text": [
      "Hello world\n"
     ]
    }
   ],
   "source": [
    "# 2. wap to reverse a given string without using slicing.\n",
    "str = \"Hello world\"\n",
    "\n",
    "print(str)"
   ]
  },
  {
   "cell_type": "code",
   "execution_count": 30,
   "id": "4e520126-48ad-4720-9121-30012cafc195",
   "metadata": {},
   "outputs": [
    {
     "data": {
      "text/plain": [
       "'dlrow olleH'"
      ]
     },
     "execution_count": 30,
     "metadata": {},
     "output_type": "execute_result"
    }
   ],
   "source": [
    "# slicing\n",
    "str[::-1]"
   ]
  },
  {
   "cell_type": "code",
   "execution_count": 40,
   "id": "f9a2cbb6-29bd-40c6-8a3b-2372500f5e36",
   "metadata": {},
   "outputs": [
    {
     "name": "stdout",
     "output_type": "stream",
     "text": [
      "10\n",
      "9\n",
      "8\n",
      "7\n",
      "6\n",
      "5\n",
      "4\n",
      "3\n",
      "2\n"
     ]
    }
   ],
   "source": [
    "for i in range(10,1,-1):\n",
    "    print(i)"
   ]
  },
  {
   "cell_type": "code",
   "execution_count": 111,
   "id": "adc6f44e-9b9f-4a3d-a5af-f6a2621f2894",
   "metadata": {},
   "outputs": [
    {
     "name": "stdout",
     "output_type": "stream",
     "text": [
      "d\n",
      "l\n",
      "r\n",
      "o\n",
      "w\n",
      " \n",
      "o\n",
      "l\n",
      "l\n",
      "e\n",
      "H\n"
     ]
    }
   ],
   "source": [
    "str = \"Hello world\"\n",
    "# print(len(str))\n",
    "x = len(str)\n",
    "# print(x)\n",
    "str2 = []\n",
    "i=10\n",
    "j=-1\n",
    "while i>j:\n",
    "    print(str[i])\n",
    "    str2.append(str[i])\n",
    "    i-=1\n",
    "# print(str2)"
   ]
  },
  {
   "cell_type": "code",
   "execution_count": 119,
   "id": "9cb23cea-8213-47e0-a6d7-97baa3bdc272",
   "metadata": {},
   "outputs": [
    {
     "name": "stdout",
     "output_type": "stream",
     "text": [
      "d\n",
      "l\n",
      "r\n",
      "o\n",
      "w\n",
      " \n",
      "o\n",
      "l\n",
      "l\n",
      "e\n",
      "H\n"
     ]
    }
   ],
   "source": [
    "str = \"Hello world\"\n",
    "for i in range(10,-1,-1):\n",
    "    print(str[i])"
   ]
  },
  {
   "cell_type": "code",
   "execution_count": 127,
   "id": "fcc8fe96-0dca-4097-a763-2ec5edf1ee45",
   "metadata": {},
   "outputs": [
    {
     "name": "stdin",
     "output_type": "stream",
     "text": [
      " hello\n"
     ]
    },
    {
     "name": "stdout",
     "output_type": "stream",
     "text": [
      "olleh\n"
     ]
    }
   ],
   "source": [
    "word = input()\n",
    "reversed = \"\"\n",
    "# print(\"--------------\",reversed)\n",
    "for i in range(0,len(word)):\n",
    "    reversed = word[i] + reversed \n",
    "print(reversed)"
   ]
  },
  {
   "cell_type": "code",
   "execution_count": 169,
   "id": "66f81ef0-81f7-4924-adb0-664904c27e0d",
   "metadata": {},
   "outputs": [
    {
     "name": "stdin",
     "output_type": "stream",
     "text": [
      "Enter your name here: Aditya Pimple\n"
     ]
    },
    {
     "name": "stdout",
     "output_type": "stream",
     "text": [
      "Vowel characters is: 4 \n",
      "Consonent Charcters is: 8\n",
      "Total vowel characters in your name is: ['i', 'a', 'i', 'e'] \n",
      "Total Number of Cons Char is: ['A', 'd', 't', 'y', 'P', 'm', 'p', 'l']\n"
     ]
    }
   ],
   "source": [
    "# take an input string and count how many vowels it has\n",
    "\n",
    "y= input(\"Enter your name here:\")\n",
    "# totalLen = len(x)\n",
    "# print('Total length of char is:',totalLen)\n",
    "countVow = 0\n",
    "countCons = 0\n",
    "charVow = []\n",
    "charCons = []\n",
    "x = y.replace(' ',\"\")\n",
    "for i in range(len(x)):\n",
    "    vowChar = \"aeiou\"\n",
    "    if x[i] in vowChar:\n",
    "        countVow+=1\n",
    "        charVow.append(x[i])\n",
    "    else:\n",
    "        countCons+=1\n",
    "        charCons.append(x[i])\n",
    "print('Vowel characters is:',countVow,\"\\nConsonent Charcters is:\",countCons)\n",
    "print(\"Total vowel characters in your name is:\",charVow,\"\\nTotal Number of Cons Char is:\",charCons)"
   ]
  },
  {
   "cell_type": "code",
   "execution_count": 242,
   "id": "8533da1c-de85-4453-a0b9-a2aa8d2af4a0",
   "metadata": {},
   "outputs": [
    {
     "name": "stdout",
     "output_type": "stream",
     "text": [
      "ADITYA\n"
     ]
    }
   ],
   "source": [
    "# wap to convert a string to upper case without using upper:\n",
    "x = \"aditya\"\n",
    "val = \"\"\n",
    "for i in x: \n",
    "    if 'a' <= i <= \"z\":\n",
    "        \n",
    "        val += chr(ord(i)-32)\n",
    "        # print(val)\n",
    "    else:\n",
    "        val += i\n",
    "print(val)"
   ]
  },
  {
   "cell_type": "code",
   "execution_count": null,
   "id": "1ebdcbd6-38e0-415b-9330-b7164124f900",
   "metadata": {},
   "outputs": [],
   "source": [
    "# a - 97 z - 122.\n",
    "# A - 65 Z - 90"
   ]
  },
  {
   "cell_type": "code",
   "execution_count": 236,
   "id": "33e6fbc4-d896-4167-b03c-a89731006dad",
   "metadata": {},
   "outputs": [
    {
     "data": {
      "text/plain": [
       "65"
      ]
     },
     "execution_count": 236,
     "metadata": {},
     "output_type": "execute_result"
    }
   ],
   "source": [
    "97-32"
   ]
  },
  {
   "cell_type": "code",
   "execution_count": 238,
   "id": "0c7d3db6-5014-40ac-82ac-2f3d6ef09cbb",
   "metadata": {},
   "outputs": [
    {
     "data": {
      "text/plain": [
       "68"
      ]
     },
     "execution_count": 238,
     "metadata": {},
     "output_type": "execute_result"
    }
   ],
   "source": [
    "100-32"
   ]
  },
  {
   "cell_type": "code",
   "execution_count": 240,
   "id": "c843607a-87d7-4726-8160-12571b607501",
   "metadata": {},
   "outputs": [
    {
     "data": {
      "text/plain": [
       "'D'"
      ]
     },
     "execution_count": 240,
     "metadata": {},
     "output_type": "execute_result"
    }
   ],
   "source": [
    "chr(68)"
   ]
  },
  {
   "cell_type": "code",
   "execution_count": 252,
   "id": "bf89ab87-e29b-4d0c-93b3-bdc96f6f7503",
   "metadata": {},
   "outputs": [
    {
     "name": "stdin",
     "output_type": "stream",
     "text": [
      "Enter your name: aditya\n"
     ]
    },
    {
     "name": "stdout",
     "output_type": "stream",
     "text": [
      "ADITYA\n"
     ]
    }
   ],
   "source": [
    "x = input(\"Enter your name:\")\n",
    "val = \"\"\n",
    "for i in x: \n",
    "    if 'a' <= i <= \"z\":\n",
    "        \n",
    "        val += chr(ord(i)-32)\n",
    "        # print(val)\n",
    "    else:\n",
    "        val += i\n",
    "print(val)"
   ]
  },
  {
   "cell_type": "code",
   "execution_count": 254,
   "id": "b8691c78-1de8-4cc0-8b19-073acff8c18b",
   "metadata": {},
   "outputs": [
    {
     "name": "stdout",
     "output_type": "stream",
     "text": [
      "Aditya-Pimple\n"
     ]
    }
   ],
   "source": [
    "# replace all spaces in a string with -\n",
    "str = \"Aditya Pimple\"\n",
    "\n",
    "x = str.replace(\" \",\"-\")\n",
    "print(x)"
   ]
  },
  {
   "cell_type": "code",
   "execution_count": 284,
   "id": "8ecac32b-b2cd-4326-a5f5-df5436410c1c",
   "metadata": {},
   "outputs": [
    {
     "data": {
      "text/plain": [
       "1"
      ]
     },
     "execution_count": 284,
     "metadata": {},
     "output_type": "execute_result"
    }
   ],
   "source": [
    "# count how many times a specific character appears in a string\n",
    "\n",
    "name1 = \"Aditya Pimple\"\n",
    "\n",
    "name.count('A')"
   ]
  },
  {
   "cell_type": "code",
   "execution_count": 300,
   "id": "a14877c6-0b1f-4a37-9cf1-11b551d08029",
   "metadata": {},
   "outputs": [
    {
     "name": "stdin",
     "output_type": "stream",
     "text": [
      "Enter your name here: pineapple\n"
     ]
    },
    {
     "name": "stdout",
     "output_type": "stream",
     "text": [
      "p\n",
      "p\n",
      "p\n",
      "total P in your name is: 3\n"
     ]
    }
   ],
   "source": [
    "name1 = input(\"Enter your name here:\")\n",
    "countP=0\n",
    "for i in name1:\n",
    "    charA = \"pP\"\n",
    "    # print(i)\n",
    "    if i in charA:\n",
    "        countP+=1\n",
    "        print(i)\n",
    "print(\"total P in your name is:\",countP)"
   ]
  },
  {
   "cell_type": "code",
   "execution_count": 332,
   "id": "10f52128-b57e-45b8-b838-0e5f038ed366",
   "metadata": {},
   "outputs": [
    {
     "name": "stdin",
     "output_type": "stream",
     "text": [
      "Enter your words here: APPLE\n"
     ]
    },
    {
     "name": "stdout",
     "output_type": "stream",
     "text": [
      "It is not palindrome word\n"
     ]
    }
   ],
   "source": [
    "# check if string is a palindrome words\n",
    "\n",
    "# \"mom\"\n",
    "# \"madam\"\n",
    "# \"Kayak\"\n",
    "# \"Malayalam\"\n",
    "\n",
    "word=input(\"Enter your words here:\")\n",
    "word2 = word.lower()\n",
    "reversed = \"\"\n",
    "for j in range(0,len(word2)):\n",
    "    \n",
    "    reversed = word2[j] + reversed \n",
    "\n",
    "if word2 == reversed:\n",
    "    print(\"It is palindrome\")\n",
    "else:\n",
    "    print(\"It is not palindrome word\")\n",
    "# print(reversed)"
   ]
  },
  {
   "cell_type": "code",
   "execution_count": 340,
   "id": "c11c57d7-02bb-4394-b05a-f2b307c0c1eb",
   "metadata": {},
   "outputs": [
    {
     "data": {
      "text/plain": [
       "'i'"
      ]
     },
     "execution_count": 340,
     "metadata": {},
     "output_type": "execute_result"
    }
   ],
   "source": [
    "# find the first and last characters of a string without using index like [0] and [1]\n",
    "\n",
    "name = \"Aditya\"\n",
    "i=0\n",
    "y=2\n",
    "name[i]\n",
    "name[y]"
   ]
  },
  {
   "cell_type": "code",
   "execution_count": 344,
   "id": "966546fb-c7cb-4335-9111-d9a58edeffea",
   "metadata": {},
   "outputs": [
    {
     "name": "stdout",
     "output_type": "stream",
     "text": [
      "A\n",
      "d\n",
      "i\n",
      "t\n",
      "y\n",
      "a\n"
     ]
    }
   ],
   "source": [
    "i=0\n",
    "j = len(name)\n",
    "while i<j:\n",
    "    print(name[i])\n",
    "    i+=1"
   ]
  },
  {
   "cell_type": "code",
   "execution_count": 346,
   "id": "efaeff16-3b39-4fd9-8988-12ae8a3e2944",
   "metadata": {},
   "outputs": [
    {
     "name": "stdout",
     "output_type": "stream",
     "text": [
      "A\n",
      "d\n",
      "i\n",
      "t\n",
      "y\n",
      "a\n"
     ]
    }
   ],
   "source": [
    "for i in range(len(name)):\n",
    "    print(name[i])"
   ]
  },
  {
   "cell_type": "code",
   "execution_count": 348,
   "id": "6e19ab10-413e-4ddb-a175-b99eafae1dcb",
   "metadata": {},
   "outputs": [],
   "source": [
    "# Take two strings as input and take if one is a substring of other \n",
    "\n",
    "\n",
    "x = \"apple\"\n",
    "\n",
    "y = \"ape\""
   ]
  },
  {
   "cell_type": "code",
   "execution_count": 360,
   "id": "82c12d7a-d702-4f8e-8725-47c816ad17f5",
   "metadata": {},
   "outputs": [
    {
     "name": "stdout",
     "output_type": "stream",
     "text": [
      "Yes, y is a substring of x\n"
     ]
    }
   ],
   "source": [
    "x = \"apple\"\n",
    "y = \"app\"\n",
    "\n",
    "if y in x:\n",
    "    print(\"Yes, y is a substring of x\")\n",
    "else:\n",
    "    print(\"No, y is not a substring of x\")\n"
   ]
  },
  {
   "cell_type": "code",
   "execution_count": 388,
   "id": "e0569f14-3515-42e2-9f44-0e8a7e15d231",
   "metadata": {},
   "outputs": [
    {
     "name": "stdout",
     "output_type": "stream",
     "text": [
      "['The', 'quick', 'brwon', 'fox', 'jump', 'over', 'the', 'lazy', 'dog'] 9\n",
      "1\n",
      "2\n",
      "3\n",
      "4\n",
      "5\n",
      "6\n",
      "7\n",
      "8\n",
      "9\n",
      "9\n"
     ]
    }
   ],
   "source": [
    "# count the number of words in a sentence without using split.\n",
    "\n",
    "x = \"The quick brwon fox jump over the lazy dog\"\n",
    "y =x.split()\n",
    "print(y,len(y))\n",
    "\n",
    "in_word = False\n",
    "\n",
    "count=0\n",
    "for i in x:\n",
    "    if i !=\" \" and not in_word:\n",
    "        in_word=True\n",
    "        count+=1\n",
    "        print(count)\n",
    "    elif i == ' ':\n",
    "        in_word=False\n",
    "print(count)"
   ]
  },
  {
   "cell_type": "code",
   "execution_count": 398,
   "id": "833eb64c-5371-47ad-9849-815c366361f8",
   "metadata": {},
   "outputs": [
    {
     "name": "stdin",
     "output_type": "stream",
     "text": [
      "Enter your cityName:  Jammu\n",
      "Enter your country Code:  IN\n"
     ]
    },
    {
     "name": "stdout",
     "output_type": "stream",
     "text": [
      "https://api.openweathermap.org/data/2.5/weather?q=Jammu,IN&appid=f3d23ab84146eaf779dbe1fcb07bc122\n",
      "<Response [200]>\n",
      "{'coord': {'lon': 74.8667, 'lat': 32.7333}, 'weather': [{'id': 802, 'main': 'Clouds', 'description': 'scattered clouds', 'icon': '03d'}], 'base': 'stations', 'main': {'temp': 303.64, 'feels_like': 307.63, 'temp_min': 303.64, 'temp_max': 303.64, 'pressure': 998, 'humidity': 63, 'sea_level': 998, 'grnd_level': 960}, 'visibility': 10000, 'wind': {'speed': 2.89, 'deg': 165, 'gust': 2.44}, 'clouds': {'all': 40}, 'dt': 1753964175, 'sys': {'country': 'IN', 'sunrise': 1753920814, 'sunset': 1753970407}, 'timezone': 19800, 'id': 1269321, 'name': 'Jammu', 'cod': 200}\n",
      "---------------type--------------- <class 'dict'>\n",
      "Current city is: Jammu,IN\n",
      "Temperature: 30.49000000000001 °C\n",
      "feels Like: 34.48000000000002 °C\n",
      "Local Time in Jammu is: 2025-07-31 17:46:15 PM\n"
     ]
    }
   ],
   "source": [
    "import requests\n",
    "from datetime import datetime, timedelta, UTC\n",
    "def getWeather():\n",
    "    api_keys = \"f3d23ab84146eaf779dbe1fcb07bc122\"\n",
    "    cityName1 = input(\"Enter your cityName: \")\n",
    "    countryCode = input(\"Enter your country Code: \")\n",
    "    cityName= cityName1+\",\"+countryCode\n",
    "    url = f\"https://api.openweathermap.org/data/2.5/weather?q={cityName}&appid={api_keys}\"\n",
    "    print(url)\n",
    "\n",
    "    response = requests.get(url)\n",
    "    print(response)\n",
    "\n",
    "    if response.status_code == 200:\n",
    "        data =response.json()\n",
    "        print(data)\n",
    "\n",
    "        print(\"---------------type---------------\",type(data))\n",
    "        countryCode = data['sys']['country']\n",
    "        # print('country',countryCode)\n",
    "\n",
    "        \n",
    "        city_Name = data['name']+\",\"+countryCode\n",
    "        print(\"Current city is:\",city_Name)\n",
    "\n",
    "        temp = data['main']['temp']\n",
    "        x1 = temp - 273.15\n",
    "        print(\"Temperature:\",x1,\"°C\")\n",
    "\n",
    "        feels = data['main']['feels_like']\n",
    "        feels_C = feels-273.15\n",
    "        print(\"feels Like:\",feels_C,\"°C\")\n",
    "\n",
    "        dateTime = data['timezone']\n",
    "        utc_now = datetime.now(UTC)\n",
    "        local_time = utc_now + timedelta(seconds=data[\"timezone\"])\n",
    "\n",
    "        \n",
    "\n",
    "        print(\"Local Time in\", data[\"name\"], \"is:\", local_time.strftime('%Y-%m-%d %H:%M:%S %p'))\n",
    "\n",
    "getWeather()"
   ]
  },
  {
   "cell_type": "code",
   "execution_count": null,
   "id": "745dcd6c-346c-408d-b3d6-12453e731cc4",
   "metadata": {},
   "outputs": [],
   "source": []
  }
 ],
 "metadata": {
  "kernelspec": {
   "display_name": "Python 3 (ipykernel)",
   "language": "python",
   "name": "python3"
  },
  "language_info": {
   "codemirror_mode": {
    "name": "ipython",
    "version": 3
   },
   "file_extension": ".py",
   "mimetype": "text/x-python",
   "name": "python",
   "nbconvert_exporter": "python",
   "pygments_lexer": "ipython3",
   "version": "3.12.4"
  }
 },
 "nbformat": 4,
 "nbformat_minor": 5
}
