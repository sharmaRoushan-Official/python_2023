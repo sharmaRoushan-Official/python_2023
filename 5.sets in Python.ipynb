{
 "cells": [
  {
   "cell_type": "markdown",
   "id": "e2117533-a4ef-468b-97ef-905caa7cb744",
   "metadata": {},
   "source": [
    "# 5. Sets in Python\n",
    "\n",
    " * __Set is one of 4 built-in data types in Python used to store collections of data, including tuples, dictionaries, sets__\n",
    " * __Sets are unordered, but you can remove items and add new items.__\n",
    " * __Set elements are unique; Duplicate elements are not allowed.__\n",
    " * __A set itself may be modified, but the elements contained in the set must be immutable type.__\n",
    " * __Sets are used to store multiple items in a single variable.__\n",
    " * __You can denote a set with a pair of curly brackets {}.__"
   ]
  },
  {
   "cell_type": "code",
   "execution_count": 6,
   "id": "526f1f15-9def-420a-b892-3c5c8cb0d35b",
   "metadata": {},
   "outputs": [
    {
     "name": "stdout",
     "output_type": "stream",
     "text": [
      "{} <class 'dict'>\n"
     ]
    }
   ],
   "source": [
    "x = {}\n",
    "print(x,type(x))"
   ]
  },
  {
   "cell_type": "code",
   "execution_count": 8,
   "id": "9b1fb247-6b45-4240-88d8-5217cce2adb9",
   "metadata": {},
   "outputs": [
    {
     "name": "stdout",
     "output_type": "stream",
     "text": [
      "{1} <class 'set'>\n"
     ]
    }
   ],
   "source": [
    "# dictionary- {} and sets- {}\n",
    "\n",
    "x = {1}\n",
    "print(x,type(x))"
   ]
  },
  {
   "cell_type": "code",
   "execution_count": 10,
   "id": "156d79bb-9df4-4910-940e-60be7cc5a7d1",
   "metadata": {},
   "outputs": [
    {
     "name": "stdout",
     "output_type": "stream",
     "text": [
      "set()\n",
      "<class 'set'>\n"
     ]
    }
   ],
   "source": [
    "# how to create empty set()\n",
    "\n",
    "x1 = set()\n",
    "print(x1)\n",
    "print(type(x1))"
   ]
  },
  {
   "cell_type": "code",
   "execution_count": 12,
   "id": "46e5ec3a-e45d-4abf-8b2c-c9250b354c5d",
   "metadata": {},
   "outputs": [
    {
     "name": "stdout",
     "output_type": "stream",
     "text": [
      "{} <class 'dict'>\n"
     ]
    }
   ],
   "source": [
    "x2 = {}\n",
    "print(x2,type(x2))"
   ]
  },
  {
   "cell_type": "code",
   "execution_count": 14,
   "id": "d8e5172d-d6ad-4c46-b151-bd6df6b9e249",
   "metadata": {},
   "outputs": [
    {
     "name": "stdout",
     "output_type": "stream",
     "text": [
      "{'Hello world'}\n"
     ]
    }
   ],
   "source": [
    "set1 = {'Hello world'}\n",
    "print(set1)"
   ]
  },
  {
   "cell_type": "code",
   "execution_count": 18,
   "id": "a4462834-506f-4549-ba9e-584cfd20059f",
   "metadata": {},
   "outputs": [
    {
     "name": "stdout",
     "output_type": "stream",
     "text": [
      "{'a': 10}\n"
     ]
    }
   ],
   "source": [
    "dict1 = {'a':10}\n",
    "print(dict1)"
   ]
  },
  {
   "cell_type": "code",
   "execution_count": 20,
   "id": "cae42ed3-eb05-4860-bf15-955d7a3a9e12",
   "metadata": {},
   "outputs": [
    {
     "name": "stdout",
     "output_type": "stream",
     "text": [
      "{}\n",
      "{}\n"
     ]
    }
   ],
   "source": [
    "dict1 = {}\n",
    "print(dict1)\n",
    "\n",
    "\n",
    "set1 = {}\n",
    "print(set1)"
   ]
  },
  {
   "cell_type": "code",
   "execution_count": 26,
   "id": "e3516399-9958-49bb-96f6-60bf206168e8",
   "metadata": {},
   "outputs": [
    {
     "name": "stdout",
     "output_type": "stream",
     "text": [
      "(1,)\n"
     ]
    },
    {
     "data": {
      "text/plain": [
       "[1]"
      ]
     },
     "execution_count": 26,
     "metadata": {},
     "output_type": "execute_result"
    }
   ],
   "source": [
    "# set()\n",
    "\n",
    "x = (1,)\n",
    "print(x)\n",
    "\n",
    "y = list(x)\n",
    "y"
   ]
  },
  {
   "cell_type": "code",
   "execution_count": 30,
   "id": "0fc42914-d241-476f-9b03-d3171d7e02f1",
   "metadata": {},
   "outputs": [
    {
     "name": "stdout",
     "output_type": "stream",
     "text": [
      "['Hello python', 3.147, 3.147, 10, 20, True, False] <class 'list'>\n"
     ]
    }
   ],
   "source": [
    "list1 = ['Hello python',3.147,3.147,10,20,True,False] # due to index value:\n",
    "print(list1,type(list1))"
   ]
  },
  {
   "cell_type": "code",
   "execution_count": 34,
   "id": "d546f279-77f6-493e-bdb3-5b3f587534c7",
   "metadata": {},
   "outputs": [
    {
     "name": "stdout",
     "output_type": "stream",
     "text": [
      "{False, True, 3.147, 10, 'Hello python', 20}\n"
     ]
    }
   ],
   "source": [
    "set1 = set(list1)\n",
    "print(set1)"
   ]
  },
  {
   "cell_type": "code",
   "execution_count": 36,
   "id": "2fdc05dc-1e18-490e-99ea-3f9a369d137e",
   "metadata": {},
   "outputs": [
    {
     "data": {
      "text/plain": [
       "3034439830432"
      ]
     },
     "execution_count": 36,
     "metadata": {},
     "output_type": "execute_result"
    }
   ],
   "source": [
    "id(set1)"
   ]
  },
  {
   "cell_type": "code",
   "execution_count": 38,
   "id": "51572ec7-6cde-43ae-afc0-c19a0dfb8989",
   "metadata": {},
   "outputs": [
    {
     "data": {
      "text/plain": [
       "{10, 20, 3.147, False, 'Hello python', True}"
      ]
     },
     "execution_count": 38,
     "metadata": {},
     "output_type": "execute_result"
    }
   ],
   "source": [
    "set1"
   ]
  },
  {
   "cell_type": "code",
   "execution_count": 40,
   "id": "2dd13744-9ea5-4e3e-b0d1-8f20913349de",
   "metadata": {},
   "outputs": [
    {
     "data": {
      "text/plain": [
       "{10, 20, 3.147, False, 'Hello python', True}"
      ]
     },
     "execution_count": 40,
     "metadata": {},
     "output_type": "execute_result"
    }
   ],
   "source": [
    "set1"
   ]
  },
  {
   "cell_type": "code",
   "execution_count": 42,
   "id": "5089e126-d9a6-4716-8f1f-8c6d686ad1fa",
   "metadata": {},
   "outputs": [
    {
     "data": {
      "text/plain": [
       "{10, 20, 3.147, False, 'Hello python', True}"
      ]
     },
     "execution_count": 42,
     "metadata": {},
     "output_type": "execute_result"
    }
   ],
   "source": [
    "set1"
   ]
  },
  {
   "cell_type": "code",
   "execution_count": 44,
   "id": "e5be26a6-6df1-4d56-a068-ebaaee7d15d9",
   "metadata": {},
   "outputs": [
    {
     "data": {
      "text/plain": [
       "{10, 20, 3.147, False, 'Hello python', True}"
      ]
     },
     "execution_count": 44,
     "metadata": {},
     "output_type": "execute_result"
    }
   ],
   "source": [
    "set1"
   ]
  },
  {
   "cell_type": "code",
   "execution_count": 46,
   "id": "08409c06-3dde-46df-ab2d-cc505eaedb5b",
   "metadata": {},
   "outputs": [
    {
     "data": {
      "text/plain": [
       "{10, 20, 3.147, False, 'Hello python', True}"
      ]
     },
     "execution_count": 46,
     "metadata": {},
     "output_type": "execute_result"
    }
   ],
   "source": [
    "set1"
   ]
  },
  {
   "cell_type": "code",
   "execution_count": 48,
   "id": "788fb651-9605-442c-9015-4d21b0eaa976",
   "metadata": {},
   "outputs": [
    {
     "data": {
      "text/plain": [
       "{10, 20, 3.147, False, 'Hello python', True}"
      ]
     },
     "execution_count": 48,
     "metadata": {},
     "output_type": "execute_result"
    }
   ],
   "source": [
    "set1"
   ]
  },
  {
   "cell_type": "code",
   "execution_count": 50,
   "id": "16007c49-e34e-4554-a481-2cc13757cdcc",
   "metadata": {},
   "outputs": [
    {
     "data": {
      "text/plain": [
       "{10, 20, 3.147, False, 'Hello python', True}"
      ]
     },
     "execution_count": 50,
     "metadata": {},
     "output_type": "execute_result"
    }
   ],
   "source": [
    "set1"
   ]
  },
  {
   "cell_type": "code",
   "execution_count": 52,
   "id": "a4639eff-52aa-4e58-8ff6-8efd3028bf4e",
   "metadata": {},
   "outputs": [
    {
     "data": {
      "text/plain": [
       "{10, 20, 3.147, False, 'Hello python', True}"
      ]
     },
     "execution_count": 52,
     "metadata": {},
     "output_type": "execute_result"
    }
   ],
   "source": [
    "set1"
   ]
  },
  {
   "cell_type": "code",
   "execution_count": 54,
   "id": "fdb6a74d-f647-4eac-91ab-979f9a870484",
   "metadata": {},
   "outputs": [
    {
     "data": {
      "text/plain": [
       "{10, 20, 3.147, False, 'Hello python', True}"
      ]
     },
     "execution_count": 54,
     "metadata": {},
     "output_type": "execute_result"
    }
   ],
   "source": [
    "set1"
   ]
  },
  {
   "cell_type": "code",
   "execution_count": 56,
   "id": "f83220a2-aea0-493e-b4bf-4646d52c414f",
   "metadata": {},
   "outputs": [
    {
     "data": {
      "text/plain": [
       "{10, 20, 3.147, False, 'Hello python', True}"
      ]
     },
     "execution_count": 56,
     "metadata": {},
     "output_type": "execute_result"
    }
   ],
   "source": [
    "set1"
   ]
  },
  {
   "cell_type": "code",
   "execution_count": 58,
   "id": "ccb446e5-3807-46d9-bd66-d3185b553b43",
   "metadata": {},
   "outputs": [
    {
     "data": {
      "text/plain": [
       "{10, 20, 3.147, False, 'Hello python', True}"
      ]
     },
     "execution_count": 58,
     "metadata": {},
     "output_type": "execute_result"
    }
   ],
   "source": [
    "set1"
   ]
  },
  {
   "cell_type": "code",
   "execution_count": 60,
   "id": "0dace9ff-ae59-4fdb-895f-1f92b3acb9da",
   "metadata": {},
   "outputs": [
    {
     "data": {
      "text/plain": [
       "{10, 20, 3.147, False, 'Hello python', True}"
      ]
     },
     "execution_count": 60,
     "metadata": {},
     "output_type": "execute_result"
    }
   ],
   "source": [
    "set1"
   ]
  },
  {
   "cell_type": "code",
   "execution_count": 62,
   "id": "1692dbd0-ccfe-43a8-9b12-058540585b22",
   "metadata": {},
   "outputs": [
    {
     "data": {
      "text/plain": [
       "{10, 20, 3.147, False, 'Hello python', True}"
      ]
     },
     "execution_count": 62,
     "metadata": {},
     "output_type": "execute_result"
    }
   ],
   "source": [
    "set1"
   ]
  },
  {
   "cell_type": "code",
   "execution_count": 64,
   "id": "41f56b96-d6fe-4606-9e04-3fdff864bb1f",
   "metadata": {},
   "outputs": [
    {
     "data": {
      "text/plain": [
       "{10, 20, 3.147, False, 'Hello python', True}"
      ]
     },
     "execution_count": 64,
     "metadata": {},
     "output_type": "execute_result"
    }
   ],
   "source": [
    "set1"
   ]
  },
  {
   "cell_type": "code",
   "execution_count": 66,
   "id": "3dc1ecd9-7194-4451-bbce-661d177c70e9",
   "metadata": {},
   "outputs": [
    {
     "data": {
      "text/plain": [
       "{10, 20, 3.147, False, 'Hello python', True}"
      ]
     },
     "execution_count": 66,
     "metadata": {},
     "output_type": "execute_result"
    }
   ],
   "source": [
    "set1"
   ]
  },
  {
   "cell_type": "code",
   "execution_count": 68,
   "id": "8eb45433-26dd-4e21-9d58-c00cafff3e6a",
   "metadata": {},
   "outputs": [
    {
     "data": {
      "text/plain": [
       "{10, 20, 3.147, False, 'Hello python', True}"
      ]
     },
     "execution_count": 68,
     "metadata": {},
     "output_type": "execute_result"
    }
   ],
   "source": [
    "set1"
   ]
  },
  {
   "cell_type": "code",
   "execution_count": 70,
   "id": "954154f8-b5d5-4e4f-992d-4d9c35b9e98e",
   "metadata": {},
   "outputs": [
    {
     "data": {
      "text/plain": [
       "{10, 20, 3.147, False, 'Hello python', True}"
      ]
     },
     "execution_count": 70,
     "metadata": {},
     "output_type": "execute_result"
    }
   ],
   "source": [
    "set1"
   ]
  },
  {
   "cell_type": "code",
   "execution_count": 72,
   "id": "b2b6bff9-acdb-426c-b7e6-9159ec798777",
   "metadata": {},
   "outputs": [
    {
     "ename": "TypeError",
     "evalue": "'set' object is not subscriptable",
     "output_type": "error",
     "traceback": [
      "\u001b[1;31m---------------------------------------------------------------------------\u001b[0m",
      "\u001b[1;31mTypeError\u001b[0m                                 Traceback (most recent call last)",
      "Cell \u001b[1;32mIn[72], line 3\u001b[0m\n\u001b[0;32m      1\u001b[0m \u001b[38;5;66;03m# set has not index value.\u001b[39;00m\n\u001b[1;32m----> 3\u001b[0m set1[\u001b[38;5;241m0\u001b[39m]\n",
      "\u001b[1;31mTypeError\u001b[0m: 'set' object is not subscriptable"
     ]
    }
   ],
   "source": [
    "# set has not index value.\n",
    "\n",
    "set1[0]"
   ]
  },
  {
   "cell_type": "code",
   "execution_count": 74,
   "id": "44e0351d-58b0-46ba-bc4c-1adb7e64c268",
   "metadata": {},
   "outputs": [
    {
     "data": {
      "text/plain": [
       "3034439830432"
      ]
     },
     "execution_count": 74,
     "metadata": {},
     "output_type": "execute_result"
    }
   ],
   "source": [
    "id(set1)"
   ]
  },
  {
   "cell_type": "code",
   "execution_count": 76,
   "id": "c9e70ddf-7a9b-471d-80fb-fa6daed39d0b",
   "metadata": {},
   "outputs": [
    {
     "ename": "TypeError",
     "evalue": "unhashable type: 'list'",
     "output_type": "error",
     "traceback": [
      "\u001b[1;31m---------------------------------------------------------------------------\u001b[0m",
      "\u001b[1;31mTypeError\u001b[0m                                 Traceback (most recent call last)",
      "Cell \u001b[1;32mIn[76], line 1\u001b[0m\n\u001b[1;32m----> 1\u001b[0m set2 \u001b[38;5;241m=\u001b[39m {\u001b[38;5;124m'\u001b[39m\u001b[38;5;124mPython\u001b[39m\u001b[38;5;124m'\u001b[39m,[\u001b[38;5;124m'\u001b[39m\u001b[38;5;124mhello world\u001b[39m\u001b[38;5;124m'\u001b[39m,\u001b[38;5;241m20\u001b[39m],\u001b[38;5;28;01mTrue\u001b[39;00m,\u001b[38;5;28;01mFalse\u001b[39;00m}\n\u001b[0;32m      2\u001b[0m set2\n",
      "\u001b[1;31mTypeError\u001b[0m: unhashable type: 'list'"
     ]
    }
   ],
   "source": [
    "set2 = {'Python',['hello world',20],True,False}\n",
    "set2"
   ]
  },
  {
   "cell_type": "code",
   "execution_count": 79,
   "id": "6545b6df-8c75-4380-bed9-881bf0e9a4e4",
   "metadata": {},
   "outputs": [
    {
     "data": {
      "text/plain": [
       "{('hello world', 20), False, 'Python', True}"
      ]
     },
     "execution_count": 79,
     "metadata": {},
     "output_type": "execute_result"
    }
   ],
   "source": [
    "set2 = {'Python',('hello world',20),True,False}\n",
    "set2"
   ]
  },
  {
   "cell_type": "code",
   "execution_count": 81,
   "id": "002df952-a16e-4204-90f7-ed36a45501fc",
   "metadata": {},
   "outputs": [
    {
     "name": "stdout",
     "output_type": "stream",
     "text": [
      "{False, True, ('hello world', 20), 'Python'}\n"
     ]
    }
   ],
   "source": [
    "print(set2)"
   ]
  },
  {
   "cell_type": "code",
   "execution_count": 83,
   "id": "86cdf1e3-8fba-4315-a6c8-fc3a57d2ad79",
   "metadata": {},
   "outputs": [
    {
     "data": {
      "text/plain": [
       "{('hello world', 20), False, 'Python', True}"
      ]
     },
     "execution_count": 83,
     "metadata": {},
     "output_type": "execute_result"
    }
   ],
   "source": [
    "set2"
   ]
  },
  {
   "cell_type": "code",
   "execution_count": 85,
   "id": "250f4475-a378-467e-8524-21a15f08f36c",
   "metadata": {},
   "outputs": [
    {
     "ename": "TypeError",
     "evalue": "'set' object is not subscriptable",
     "output_type": "error",
     "traceback": [
      "\u001b[1;31m---------------------------------------------------------------------------\u001b[0m",
      "\u001b[1;31mTypeError\u001b[0m                                 Traceback (most recent call last)",
      "Cell \u001b[1;32mIn[85], line 1\u001b[0m\n\u001b[1;32m----> 1\u001b[0m set2[\u001b[38;5;241m0\u001b[39m]\n",
      "\u001b[1;31mTypeError\u001b[0m: 'set' object is not subscriptable"
     ]
    }
   ],
   "source": [
    "set2[0]"
   ]
  },
  {
   "cell_type": "code",
   "execution_count": 89,
   "id": "412b3efc-f42c-4cb9-86ff-4b323ae3833a",
   "metadata": {},
   "outputs": [
    {
     "data": {
      "text/plain": [
       "{('hello world', 20), False, 'Python', True}"
      ]
     },
     "execution_count": 89,
     "metadata": {},
     "output_type": "execute_result"
    }
   ],
   "source": [
    "# mutable: append, extend, insert: lifo\n",
    "\n",
    "# set: add() function: indexvalue not appled.\n",
    "# to add an elemnet into a set, we use the function add(). if the same element added to the set, \n",
    "# nothing will happen because the set accepts no duplicate values.\n",
    "\n",
    "set2"
   ]
  },
  {
   "cell_type": "code",
   "execution_count": 91,
   "id": "5a3c6cff-e828-4131-b025-1495433cd54f",
   "metadata": {},
   "outputs": [
    {
     "ename": "AttributeError",
     "evalue": "'set' object has no attribute 'append'",
     "output_type": "error",
     "traceback": [
      "\u001b[1;31m---------------------------------------------------------------------------\u001b[0m",
      "\u001b[1;31mAttributeError\u001b[0m                            Traceback (most recent call last)",
      "Cell \u001b[1;32mIn[91], line 1\u001b[0m\n\u001b[1;32m----> 1\u001b[0m set2\u001b[38;5;241m.\u001b[39mappend(\u001b[38;5;124m'\u001b[39m\u001b[38;5;124mAditya\u001b[39m\u001b[38;5;124m'\u001b[39m)\n",
      "\u001b[1;31mAttributeError\u001b[0m: 'set' object has no attribute 'append'"
     ]
    }
   ],
   "source": [
    "set2.append('Aditya')"
   ]
  },
  {
   "cell_type": "code",
   "execution_count": 93,
   "id": "d85f3ecf-dfc2-4267-a90c-4313c938b39f",
   "metadata": {},
   "outputs": [],
   "source": [
    "set2.add('Aditya')"
   ]
  },
  {
   "cell_type": "code",
   "execution_count": 95,
   "id": "507e4aec-94e5-470f-a504-c72aef68fd74",
   "metadata": {},
   "outputs": [
    {
     "data": {
      "text/plain": [
       "{('hello world', 20), 'Aditya', False, 'Python', True}"
      ]
     },
     "execution_count": 95,
     "metadata": {},
     "output_type": "execute_result"
    }
   ],
   "source": [
    "set2"
   ]
  },
  {
   "cell_type": "code",
   "execution_count": 97,
   "id": "ffa22af1-d076-498f-b642-18f0770ca31e",
   "metadata": {},
   "outputs": [],
   "source": [
    "set2.add('Aditya')"
   ]
  },
  {
   "cell_type": "code",
   "execution_count": 99,
   "id": "074c0fb8-3be7-439c-a171-0dcea8750763",
   "metadata": {},
   "outputs": [
    {
     "data": {
      "text/plain": [
       "{('hello world', 20), 'Aditya', False, 'Python', True}"
      ]
     },
     "execution_count": 99,
     "metadata": {},
     "output_type": "execute_result"
    }
   ],
   "source": [
    "set2"
   ]
  },
  {
   "cell_type": "code",
   "execution_count": 105,
   "id": "163e03c5-e2da-4e55-bf11-91ccf8f902b9",
   "metadata": {},
   "outputs": [
    {
     "name": "stdout",
     "output_type": "stream",
     "text": [
      "{8, 9, 6, 7}\n",
      "{6, 7, 8, 9, 'Aditya'}\n"
     ]
    }
   ],
   "source": [
    "# update\n",
    "\n",
    "# mutable = x[5] = value;\n",
    "\n",
    "# set element immutable = no index value =\n",
    "\n",
    "x_set = {6,7,8,9}\n",
    "print(x_set)\n",
    "\n",
    "x_set.update({6,7,8,'Aditya'})\n",
    "print(x_set)"
   ]
  },
  {
   "cell_type": "code",
   "execution_count": 110,
   "id": "a50e58e6-790a-48ad-9756-ba352a9d3ee6",
   "metadata": {},
   "outputs": [
    {
     "data": {
      "text/plain": [
       "{6, 7, 8, 9, 'Aditya'}"
      ]
     },
     "execution_count": 110,
     "metadata": {},
     "output_type": "execute_result"
    }
   ],
   "source": [
    "# remove\n",
    "\n",
    "x_set"
   ]
  },
  {
   "cell_type": "code",
   "execution_count": 116,
   "id": "387bd53a-563b-4f79-93d8-551bba0f8467",
   "metadata": {},
   "outputs": [
    {
     "data": {
      "text/plain": [
       "{6, 7, 8, 9}"
      ]
     },
     "execution_count": 116,
     "metadata": {},
     "output_type": "execute_result"
    }
   ],
   "source": [
    "x_set.remove(\"Aditya\")\n",
    "x_set"
   ]
  },
  {
   "cell_type": "code",
   "execution_count": 128,
   "id": "7816b988-2265-4722-b17f-cd7ecf13b500",
   "metadata": {},
   "outputs": [],
   "source": [
    "x = [1,'python']\n",
    "# x.remove('python')"
   ]
  },
  {
   "cell_type": "code",
   "execution_count": 130,
   "id": "192094a1-c6ff-4f60-8390-bf05bbea2b12",
   "metadata": {},
   "outputs": [
    {
     "data": {
      "text/plain": [
       "'python'"
      ]
     },
     "execution_count": 130,
     "metadata": {},
     "output_type": "execute_result"
    }
   ],
   "source": [
    "x.pop()"
   ]
  },
  {
   "cell_type": "code",
   "execution_count": 132,
   "id": "8366df9d-b685-4e4c-8e9f-18f3b4af9157",
   "metadata": {},
   "outputs": [
    {
     "data": {
      "text/plain": [
       "[1]"
      ]
     },
     "execution_count": 132,
     "metadata": {},
     "output_type": "execute_result"
    }
   ],
   "source": [
    "x"
   ]
  },
  {
   "cell_type": "code",
   "execution_count": 134,
   "id": "bec3a80b-09b0-47a0-a179-5e18fc59e63b",
   "metadata": {},
   "outputs": [
    {
     "data": {
      "text/plain": [
       "{6, 7, 8, 9}"
      ]
     },
     "execution_count": 134,
     "metadata": {},
     "output_type": "execute_result"
    }
   ],
   "source": [
    "x_set"
   ]
  },
  {
   "cell_type": "code",
   "execution_count": 136,
   "id": "8c2abc7e-322c-41a3-8ceb-86bd5c75ba13",
   "metadata": {},
   "outputs": [
    {
     "data": {
      "text/plain": [
       "6"
      ]
     },
     "execution_count": 136,
     "metadata": {},
     "output_type": "execute_result"
    }
   ],
   "source": [
    "x_set.pop()"
   ]
  },
  {
   "cell_type": "code",
   "execution_count": 138,
   "id": "c7aedc63-cfa6-4213-992d-c4dfe20e493a",
   "metadata": {},
   "outputs": [
    {
     "data": {
      "text/plain": [
       "{7, 8, 9}"
      ]
     },
     "execution_count": 138,
     "metadata": {},
     "output_type": "execute_result"
    }
   ],
   "source": [
    "x_set # "
   ]
  },
  {
   "cell_type": "code",
   "execution_count": 142,
   "id": "e1142b66-c43c-408d-995f-7e6f6a15ca99",
   "metadata": {},
   "outputs": [
    {
     "ename": "KeyError",
     "evalue": "6",
     "output_type": "error",
     "traceback": [
      "\u001b[1;31m---------------------------------------------------------------------------\u001b[0m",
      "\u001b[1;31mKeyError\u001b[0m                                  Traceback (most recent call last)",
      "Cell \u001b[1;32mIn[142], line 1\u001b[0m\n\u001b[1;32m----> 1\u001b[0m x_set\u001b[38;5;241m.\u001b[39mremove(\u001b[38;5;241m6\u001b[39m)\n",
      "\u001b[1;31mKeyError\u001b[0m: 6"
     ]
    }
   ],
   "source": [
    "x_set.remove(6)"
   ]
  },
  {
   "cell_type": "code",
   "execution_count": 144,
   "id": "b54a5253-03cf-4180-8eff-8ac7669833d4",
   "metadata": {},
   "outputs": [
    {
     "data": {
      "text/plain": [
       "{7, 8, 9}"
      ]
     },
     "execution_count": 144,
     "metadata": {},
     "output_type": "execute_result"
    }
   ],
   "source": [
    "x_set"
   ]
  },
  {
   "cell_type": "code",
   "execution_count": null,
   "id": "174ab185-94f3-48fc-b7a7-3ad80deffc58",
   "metadata": {},
   "outputs": [],
   "source": [
    "# discard() function\n",
    "\n",
    "# 6.dictionary\n",
    "# 7.condition"
   ]
  }
 ],
 "metadata": {
  "kernelspec": {
   "display_name": "Python 3 (ipykernel)",
   "language": "python",
   "name": "python3"
  },
  "language_info": {
   "codemirror_mode": {
    "name": "ipython",
    "version": 3
   },
   "file_extension": ".py",
   "mimetype": "text/x-python",
   "name": "python",
   "nbconvert_exporter": "python",
   "pygments_lexer": "ipython3",
   "version": "3.12.4"
  }
 },
 "nbformat": 4,
 "nbformat_minor": 5
}
