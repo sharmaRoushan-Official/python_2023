{
 "cells": [
  {
   "cell_type": "markdown",
   "id": "e2117533-a4ef-468b-97ef-905caa7cb744",
   "metadata": {},
   "source": [
    "# 5. Sets in Python\n",
    "\n",
    " * __Set is one of 4 built-in data types in Python used to store collections of data, including tuples, dictionaries, sets__\n",
    " * __Sets are unordered, but you can remove items and add new items.__\n",
    " * __Set elements are unique; Duplicate elements are not allowed.__\n",
    " * __A set itself may be modified, but the elements contained in the set must be immutable type.__\n",
    " * __Sets are used to store multiple items in a single variable.__\n",
    " * __You can denote a set with a pair of curly brackets {}.__"
   ]
  },
  {
   "cell_type": "code",
   "execution_count": 6,
   "id": "526f1f15-9def-420a-b892-3c5c8cb0d35b",
   "metadata": {},
   "outputs": [
    {
     "name": "stdout",
     "output_type": "stream",
     "text": [
      "{} <class 'dict'>\n"
     ]
    }
   ],
   "source": [
    "x = {}\n",
    "print(x,type(x))"
   ]
  },
  {
   "cell_type": "code",
   "execution_count": 8,
   "id": "9b1fb247-6b45-4240-88d8-5217cce2adb9",
   "metadata": {},
   "outputs": [
    {
     "name": "stdout",
     "output_type": "stream",
     "text": [
      "{1} <class 'set'>\n"
     ]
    }
   ],
   "source": [
    "# dictionary- {} and sets- {}\n",
    "\n",
    "x = {1}\n",
    "print(x,type(x))"
   ]
  },
  {
   "cell_type": "code",
   "execution_count": 10,
   "id": "156d79bb-9df4-4910-940e-60be7cc5a7d1",
   "metadata": {},
   "outputs": [
    {
     "name": "stdout",
     "output_type": "stream",
     "text": [
      "set()\n",
      "<class 'set'>\n"
     ]
    }
   ],
   "source": [
    "# how to create empty set()\n",
    "\n",
    "x1 = set()\n",
    "print(x1)\n",
    "print(type(x1))"
   ]
  },
  {
   "cell_type": "code",
   "execution_count": 12,
   "id": "46e5ec3a-e45d-4abf-8b2c-c9250b354c5d",
   "metadata": {},
   "outputs": [
    {
     "name": "stdout",
     "output_type": "stream",
     "text": [
      "{} <class 'dict'>\n"
     ]
    }
   ],
   "source": [
    "x2 = {}\n",
    "print(x2,type(x2))"
   ]
  },
  {
   "cell_type": "code",
   "execution_count": 14,
   "id": "d8e5172d-d6ad-4c46-b151-bd6df6b9e249",
   "metadata": {},
   "outputs": [
    {
     "name": "stdout",
     "output_type": "stream",
     "text": [
      "{'Hello world'}\n"
     ]
    }
   ],
   "source": [
    "set1 = {'Hello world'}\n",
    "print(set1)"
   ]
  },
  {
   "cell_type": "code",
   "execution_count": 18,
   "id": "a4462834-506f-4549-ba9e-584cfd20059f",
   "metadata": {},
   "outputs": [
    {
     "name": "stdout",
     "output_type": "stream",
     "text": [
      "{'a': 10}\n"
     ]
    }
   ],
   "source": [
    "dict1 = {'a':10}\n",
    "print(dict1)"
   ]
  },
  {
   "cell_type": "code",
   "execution_count": 20,
   "id": "cae42ed3-eb05-4860-bf15-955d7a3a9e12",
   "metadata": {},
   "outputs": [
    {
     "name": "stdout",
     "output_type": "stream",
     "text": [
      "{}\n",
      "{}\n"
     ]
    }
   ],
   "source": [
    "dict1 = {}\n",
    "print(dict1)\n",
    "\n",
    "\n",
    "set1 = {}\n",
    "print(set1)"
   ]
  },
  {
   "cell_type": "code",
   "execution_count": 26,
   "id": "e3516399-9958-49bb-96f6-60bf206168e8",
   "metadata": {},
   "outputs": [
    {
     "name": "stdout",
     "output_type": "stream",
     "text": [
      "(1,)\n"
     ]
    },
    {
     "data": {
      "text/plain": [
       "[1]"
      ]
     },
     "execution_count": 26,
     "metadata": {},
     "output_type": "execute_result"
    }
   ],
   "source": [
    "# set()\n",
    "\n",
    "x = (1,)\n",
    "print(x)\n",
    "\n",
    "y = list(x)\n",
    "y"
   ]
  },
  {
   "cell_type": "code",
   "execution_count": 30,
   "id": "0fc42914-d241-476f-9b03-d3171d7e02f1",
   "metadata": {},
   "outputs": [
    {
     "name": "stdout",
     "output_type": "stream",
     "text": [
      "['Hello python', 3.147, 3.147, 10, 20, True, False] <class 'list'>\n"
     ]
    }
   ],
   "source": [
    "list1 = ['Hello python',3.147,3.147,10,20,True,False] # due to index value:\n",
    "print(list1,type(list1))"
   ]
  },
  {
   "cell_type": "code",
   "execution_count": 34,
   "id": "d546f279-77f6-493e-bdb3-5b3f587534c7",
   "metadata": {},
   "outputs": [
    {
     "name": "stdout",
     "output_type": "stream",
     "text": [
      "{False, True, 3.147, 10, 'Hello python', 20}\n"
     ]
    }
   ],
   "source": [
    "set1 = set(list1)\n",
    "print(set1)"
   ]
  },
  {
   "cell_type": "code",
   "execution_count": 36,
   "id": "2fdc05dc-1e18-490e-99ea-3f9a369d137e",
   "metadata": {},
   "outputs": [
    {
     "data": {
      "text/plain": [
       "3034439830432"
      ]
     },
     "execution_count": 36,
     "metadata": {},
     "output_type": "execute_result"
    }
   ],
   "source": [
    "id(set1)"
   ]
  },
  {
   "cell_type": "code",
   "execution_count": 38,
   "id": "51572ec7-6cde-43ae-afc0-c19a0dfb8989",
   "metadata": {},
   "outputs": [
    {
     "data": {
      "text/plain": [
       "{10, 20, 3.147, False, 'Hello python', True}"
      ]
     },
     "execution_count": 38,
     "metadata": {},
     "output_type": "execute_result"
    }
   ],
   "source": [
    "set1"
   ]
  },
  {
   "cell_type": "code",
   "execution_count": 40,
   "id": "2dd13744-9ea5-4e3e-b0d1-8f20913349de",
   "metadata": {},
   "outputs": [
    {
     "data": {
      "text/plain": [
       "{10, 20, 3.147, False, 'Hello python', True}"
      ]
     },
     "execution_count": 40,
     "metadata": {},
     "output_type": "execute_result"
    }
   ],
   "source": [
    "set1"
   ]
  },
  {
   "cell_type": "code",
   "execution_count": 42,
   "id": "5089e126-d9a6-4716-8f1f-8c6d686ad1fa",
   "metadata": {},
   "outputs": [
    {
     "data": {
      "text/plain": [
       "{10, 20, 3.147, False, 'Hello python', True}"
      ]
     },
     "execution_count": 42,
     "metadata": {},
     "output_type": "execute_result"
    }
   ],
   "source": [
    "set1"
   ]
  },
  {
   "cell_type": "code",
   "execution_count": 44,
   "id": "e5be26a6-6df1-4d56-a068-ebaaee7d15d9",
   "metadata": {},
   "outputs": [
    {
     "data": {
      "text/plain": [
       "{10, 20, 3.147, False, 'Hello python', True}"
      ]
     },
     "execution_count": 44,
     "metadata": {},
     "output_type": "execute_result"
    }
   ],
   "source": [
    "set1"
   ]
  },
  {
   "cell_type": "code",
   "execution_count": 46,
   "id": "08409c06-3dde-46df-ab2d-cc505eaedb5b",
   "metadata": {},
   "outputs": [
    {
     "data": {
      "text/plain": [
       "{10, 20, 3.147, False, 'Hello python', True}"
      ]
     },
     "execution_count": 46,
     "metadata": {},
     "output_type": "execute_result"
    }
   ],
   "source": [
    "set1"
   ]
  },
  {
   "cell_type": "code",
   "execution_count": 48,
   "id": "788fb651-9605-442c-9015-4d21b0eaa976",
   "metadata": {},
   "outputs": [
    {
     "data": {
      "text/plain": [
       "{10, 20, 3.147, False, 'Hello python', True}"
      ]
     },
     "execution_count": 48,
     "metadata": {},
     "output_type": "execute_result"
    }
   ],
   "source": [
    "set1"
   ]
  },
  {
   "cell_type": "code",
   "execution_count": 50,
   "id": "16007c49-e34e-4554-a481-2cc13757cdcc",
   "metadata": {},
   "outputs": [
    {
     "data": {
      "text/plain": [
       "{10, 20, 3.147, False, 'Hello python', True}"
      ]
     },
     "execution_count": 50,
     "metadata": {},
     "output_type": "execute_result"
    }
   ],
   "source": [
    "set1"
   ]
  },
  {
   "cell_type": "code",
   "execution_count": 52,
   "id": "a4639eff-52aa-4e58-8ff6-8efd3028bf4e",
   "metadata": {},
   "outputs": [
    {
     "data": {
      "text/plain": [
       "{10, 20, 3.147, False, 'Hello python', True}"
      ]
     },
     "execution_count": 52,
     "metadata": {},
     "output_type": "execute_result"
    }
   ],
   "source": [
    "set1"
   ]
  },
  {
   "cell_type": "code",
   "execution_count": 54,
   "id": "fdb6a74d-f647-4eac-91ab-979f9a870484",
   "metadata": {},
   "outputs": [
    {
     "data": {
      "text/plain": [
       "{10, 20, 3.147, False, 'Hello python', True}"
      ]
     },
     "execution_count": 54,
     "metadata": {},
     "output_type": "execute_result"
    }
   ],
   "source": [
    "set1"
   ]
  },
  {
   "cell_type": "code",
   "execution_count": 56,
   "id": "f83220a2-aea0-493e-b4bf-4646d52c414f",
   "metadata": {},
   "outputs": [
    {
     "data": {
      "text/plain": [
       "{10, 20, 3.147, False, 'Hello python', True}"
      ]
     },
     "execution_count": 56,
     "metadata": {},
     "output_type": "execute_result"
    }
   ],
   "source": [
    "set1"
   ]
  },
  {
   "cell_type": "code",
   "execution_count": 58,
   "id": "ccb446e5-3807-46d9-bd66-d3185b553b43",
   "metadata": {},
   "outputs": [
    {
     "data": {
      "text/plain": [
       "{10, 20, 3.147, False, 'Hello python', True}"
      ]
     },
     "execution_count": 58,
     "metadata": {},
     "output_type": "execute_result"
    }
   ],
   "source": [
    "set1"
   ]
  },
  {
   "cell_type": "code",
   "execution_count": 60,
   "id": "0dace9ff-ae59-4fdb-895f-1f92b3acb9da",
   "metadata": {},
   "outputs": [
    {
     "data": {
      "text/plain": [
       "{10, 20, 3.147, False, 'Hello python', True}"
      ]
     },
     "execution_count": 60,
     "metadata": {},
     "output_type": "execute_result"
    }
   ],
   "source": [
    "set1"
   ]
  },
  {
   "cell_type": "code",
   "execution_count": 62,
   "id": "1692dbd0-ccfe-43a8-9b12-058540585b22",
   "metadata": {},
   "outputs": [
    {
     "data": {
      "text/plain": [
       "{10, 20, 3.147, False, 'Hello python', True}"
      ]
     },
     "execution_count": 62,
     "metadata": {},
     "output_type": "execute_result"
    }
   ],
   "source": [
    "set1"
   ]
  },
  {
   "cell_type": "code",
   "execution_count": 64,
   "id": "41f56b96-d6fe-4606-9e04-3fdff864bb1f",
   "metadata": {},
   "outputs": [
    {
     "data": {
      "text/plain": [
       "{10, 20, 3.147, False, 'Hello python', True}"
      ]
     },
     "execution_count": 64,
     "metadata": {},
     "output_type": "execute_result"
    }
   ],
   "source": [
    "set1"
   ]
  },
  {
   "cell_type": "code",
   "execution_count": 66,
   "id": "3dc1ecd9-7194-4451-bbce-661d177c70e9",
   "metadata": {},
   "outputs": [
    {
     "data": {
      "text/plain": [
       "{10, 20, 3.147, False, 'Hello python', True}"
      ]
     },
     "execution_count": 66,
     "metadata": {},
     "output_type": "execute_result"
    }
   ],
   "source": [
    "set1"
   ]
  },
  {
   "cell_type": "code",
   "execution_count": 68,
   "id": "8eb45433-26dd-4e21-9d58-c00cafff3e6a",
   "metadata": {},
   "outputs": [
    {
     "data": {
      "text/plain": [
       "{10, 20, 3.147, False, 'Hello python', True}"
      ]
     },
     "execution_count": 68,
     "metadata": {},
     "output_type": "execute_result"
    }
   ],
   "source": [
    "set1"
   ]
  },
  {
   "cell_type": "code",
   "execution_count": 70,
   "id": "954154f8-b5d5-4e4f-992d-4d9c35b9e98e",
   "metadata": {},
   "outputs": [
    {
     "data": {
      "text/plain": [
       "{10, 20, 3.147, False, 'Hello python', True}"
      ]
     },
     "execution_count": 70,
     "metadata": {},
     "output_type": "execute_result"
    }
   ],
   "source": [
    "set1"
   ]
  },
  {
   "cell_type": "code",
   "execution_count": 72,
   "id": "b2b6bff9-acdb-426c-b7e6-9159ec798777",
   "metadata": {},
   "outputs": [
    {
     "ename": "TypeError",
     "evalue": "'set' object is not subscriptable",
     "output_type": "error",
     "traceback": [
      "\u001b[1;31m---------------------------------------------------------------------------\u001b[0m",
      "\u001b[1;31mTypeError\u001b[0m                                 Traceback (most recent call last)",
      "Cell \u001b[1;32mIn[72], line 3\u001b[0m\n\u001b[0;32m      1\u001b[0m \u001b[38;5;66;03m# set has not index value.\u001b[39;00m\n\u001b[1;32m----> 3\u001b[0m set1[\u001b[38;5;241m0\u001b[39m]\n",
      "\u001b[1;31mTypeError\u001b[0m: 'set' object is not subscriptable"
     ]
    }
   ],
   "source": [
    "# set has not index value.\n",
    "\n",
    "set1[0]"
   ]
  },
  {
   "cell_type": "code",
   "execution_count": 74,
   "id": "44e0351d-58b0-46ba-bc4c-1adb7e64c268",
   "metadata": {},
   "outputs": [
    {
     "data": {
      "text/plain": [
       "3034439830432"
      ]
     },
     "execution_count": 74,
     "metadata": {},
     "output_type": "execute_result"
    }
   ],
   "source": [
    "id(set1)"
   ]
  },
  {
   "cell_type": "code",
   "execution_count": 76,
   "id": "c9e70ddf-7a9b-471d-80fb-fa6daed39d0b",
   "metadata": {},
   "outputs": [
    {
     "ename": "TypeError",
     "evalue": "unhashable type: 'list'",
     "output_type": "error",
     "traceback": [
      "\u001b[1;31m---------------------------------------------------------------------------\u001b[0m",
      "\u001b[1;31mTypeError\u001b[0m                                 Traceback (most recent call last)",
      "Cell \u001b[1;32mIn[76], line 1\u001b[0m\n\u001b[1;32m----> 1\u001b[0m set2 \u001b[38;5;241m=\u001b[39m {\u001b[38;5;124m'\u001b[39m\u001b[38;5;124mPython\u001b[39m\u001b[38;5;124m'\u001b[39m,[\u001b[38;5;124m'\u001b[39m\u001b[38;5;124mhello world\u001b[39m\u001b[38;5;124m'\u001b[39m,\u001b[38;5;241m20\u001b[39m],\u001b[38;5;28;01mTrue\u001b[39;00m,\u001b[38;5;28;01mFalse\u001b[39;00m}\n\u001b[0;32m      2\u001b[0m set2\n",
      "\u001b[1;31mTypeError\u001b[0m: unhashable type: 'list'"
     ]
    }
   ],
   "source": [
    "set2 = {'Python',['hello world',20],True,False}\n",
    "set2"
   ]
  },
  {
   "cell_type": "code",
   "execution_count": 79,
   "id": "6545b6df-8c75-4380-bed9-881bf0e9a4e4",
   "metadata": {},
   "outputs": [
    {
     "data": {
      "text/plain": [
       "{('hello world', 20), False, 'Python', True}"
      ]
     },
     "execution_count": 79,
     "metadata": {},
     "output_type": "execute_result"
    }
   ],
   "source": [
    "set2 = {'Python',('hello world',20),True,False}\n",
    "set2"
   ]
  },
  {
   "cell_type": "code",
   "execution_count": 81,
   "id": "002df952-a16e-4204-90f7-ed36a45501fc",
   "metadata": {},
   "outputs": [
    {
     "name": "stdout",
     "output_type": "stream",
     "text": [
      "{False, True, ('hello world', 20), 'Python'}\n"
     ]
    }
   ],
   "source": [
    "print(set2)"
   ]
  },
  {
   "cell_type": "code",
   "execution_count": 83,
   "id": "86cdf1e3-8fba-4315-a6c8-fc3a57d2ad79",
   "metadata": {},
   "outputs": [
    {
     "data": {
      "text/plain": [
       "{('hello world', 20), False, 'Python', True}"
      ]
     },
     "execution_count": 83,
     "metadata": {},
     "output_type": "execute_result"
    }
   ],
   "source": [
    "set2"
   ]
  },
  {
   "cell_type": "code",
   "execution_count": 85,
   "id": "250f4475-a378-467e-8524-21a15f08f36c",
   "metadata": {},
   "outputs": [
    {
     "ename": "TypeError",
     "evalue": "'set' object is not subscriptable",
     "output_type": "error",
     "traceback": [
      "\u001b[1;31m---------------------------------------------------------------------------\u001b[0m",
      "\u001b[1;31mTypeError\u001b[0m                                 Traceback (most recent call last)",
      "Cell \u001b[1;32mIn[85], line 1\u001b[0m\n\u001b[1;32m----> 1\u001b[0m set2[\u001b[38;5;241m0\u001b[39m]\n",
      "\u001b[1;31mTypeError\u001b[0m: 'set' object is not subscriptable"
     ]
    }
   ],
   "source": [
    "set2[0]"
   ]
  },
  {
   "cell_type": "code",
   "execution_count": 89,
   "id": "412b3efc-f42c-4cb9-86ff-4b323ae3833a",
   "metadata": {},
   "outputs": [
    {
     "data": {
      "text/plain": [
       "{('hello world', 20), False, 'Python', True}"
      ]
     },
     "execution_count": 89,
     "metadata": {},
     "output_type": "execute_result"
    }
   ],
   "source": [
    "# mutable: append, extend, insert: lifo\n",
    "\n",
    "# set: add() function: indexvalue not appled.\n",
    "# to add an elemnet into a set, we use the function add(). if the same element added to the set, \n",
    "# nothing will happen because the set accepts no duplicate values.\n",
    "\n",
    "set2"
   ]
  },
  {
   "cell_type": "code",
   "execution_count": 91,
   "id": "5a3c6cff-e828-4131-b025-1495433cd54f",
   "metadata": {},
   "outputs": [
    {
     "ename": "AttributeError",
     "evalue": "'set' object has no attribute 'append'",
     "output_type": "error",
     "traceback": [
      "\u001b[1;31m---------------------------------------------------------------------------\u001b[0m",
      "\u001b[1;31mAttributeError\u001b[0m                            Traceback (most recent call last)",
      "Cell \u001b[1;32mIn[91], line 1\u001b[0m\n\u001b[1;32m----> 1\u001b[0m set2\u001b[38;5;241m.\u001b[39mappend(\u001b[38;5;124m'\u001b[39m\u001b[38;5;124mAditya\u001b[39m\u001b[38;5;124m'\u001b[39m)\n",
      "\u001b[1;31mAttributeError\u001b[0m: 'set' object has no attribute 'append'"
     ]
    }
   ],
   "source": [
    "set2.append('Aditya')"
   ]
  },
  {
   "cell_type": "code",
   "execution_count": 93,
   "id": "d85f3ecf-dfc2-4267-a90c-4313c938b39f",
   "metadata": {},
   "outputs": [],
   "source": [
    "set2.add('Aditya')"
   ]
  },
  {
   "cell_type": "code",
   "execution_count": 95,
   "id": "507e4aec-94e5-470f-a504-c72aef68fd74",
   "metadata": {},
   "outputs": [
    {
     "data": {
      "text/plain": [
       "{('hello world', 20), 'Aditya', False, 'Python', True}"
      ]
     },
     "execution_count": 95,
     "metadata": {},
     "output_type": "execute_result"
    }
   ],
   "source": [
    "set2"
   ]
  },
  {
   "cell_type": "code",
   "execution_count": 97,
   "id": "ffa22af1-d076-498f-b642-18f0770ca31e",
   "metadata": {},
   "outputs": [],
   "source": [
    "set2.add('Aditya')"
   ]
  },
  {
   "cell_type": "code",
   "execution_count": 99,
   "id": "074c0fb8-3be7-439c-a171-0dcea8750763",
   "metadata": {},
   "outputs": [
    {
     "data": {
      "text/plain": [
       "{('hello world', 20), 'Aditya', False, 'Python', True}"
      ]
     },
     "execution_count": 99,
     "metadata": {},
     "output_type": "execute_result"
    }
   ],
   "source": [
    "set2"
   ]
  },
  {
   "cell_type": "code",
   "execution_count": 105,
   "id": "163e03c5-e2da-4e55-bf11-91ccf8f902b9",
   "metadata": {},
   "outputs": [
    {
     "name": "stdout",
     "output_type": "stream",
     "text": [
      "{8, 9, 6, 7}\n",
      "{6, 7, 8, 9, 'Aditya'}\n"
     ]
    }
   ],
   "source": [
    "# update\n",
    "\n",
    "# mutable = x[5] = value;\n",
    "\n",
    "# set element immutable = no index value =\n",
    "\n",
    "x_set = {6,7,8,9}\n",
    "print(x_set)\n",
    "\n",
    "x_set.update({6,7,8,'Aditya'})\n",
    "print(x_set)"
   ]
  },
  {
   "cell_type": "code",
   "execution_count": 110,
   "id": "a50e58e6-790a-48ad-9756-ba352a9d3ee6",
   "metadata": {},
   "outputs": [
    {
     "data": {
      "text/plain": [
       "{6, 7, 8, 9, 'Aditya'}"
      ]
     },
     "execution_count": 110,
     "metadata": {},
     "output_type": "execute_result"
    }
   ],
   "source": [
    "# remove\n",
    "\n",
    "x_set"
   ]
  },
  {
   "cell_type": "code",
   "execution_count": 116,
   "id": "387bd53a-563b-4f79-93d8-551bba0f8467",
   "metadata": {},
   "outputs": [
    {
     "data": {
      "text/plain": [
       "{6, 7, 8, 9}"
      ]
     },
     "execution_count": 116,
     "metadata": {},
     "output_type": "execute_result"
    }
   ],
   "source": [
    "x_set.remove(\"Aditya\")\n",
    "x_set"
   ]
  },
  {
   "cell_type": "code",
   "execution_count": 128,
   "id": "7816b988-2265-4722-b17f-cd7ecf13b500",
   "metadata": {},
   "outputs": [],
   "source": [
    "x = [1,'python']\n",
    "# x.remove('python')"
   ]
  },
  {
   "cell_type": "code",
   "execution_count": 130,
   "id": "192094a1-c6ff-4f60-8390-bf05bbea2b12",
   "metadata": {},
   "outputs": [
    {
     "data": {
      "text/plain": [
       "'python'"
      ]
     },
     "execution_count": 130,
     "metadata": {},
     "output_type": "execute_result"
    }
   ],
   "source": [
    "x.pop()"
   ]
  },
  {
   "cell_type": "code",
   "execution_count": 132,
   "id": "8366df9d-b685-4e4c-8e9f-18f3b4af9157",
   "metadata": {},
   "outputs": [
    {
     "data": {
      "text/plain": [
       "[1]"
      ]
     },
     "execution_count": 132,
     "metadata": {},
     "output_type": "execute_result"
    }
   ],
   "source": [
    "x"
   ]
  },
  {
   "cell_type": "code",
   "execution_count": 134,
   "id": "bec3a80b-09b0-47a0-a179-5e18fc59e63b",
   "metadata": {},
   "outputs": [
    {
     "data": {
      "text/plain": [
       "{6, 7, 8, 9}"
      ]
     },
     "execution_count": 134,
     "metadata": {},
     "output_type": "execute_result"
    }
   ],
   "source": [
    "x_set"
   ]
  },
  {
   "cell_type": "code",
   "execution_count": 136,
   "id": "8c2abc7e-322c-41a3-8ceb-86bd5c75ba13",
   "metadata": {},
   "outputs": [
    {
     "data": {
      "text/plain": [
       "6"
      ]
     },
     "execution_count": 136,
     "metadata": {},
     "output_type": "execute_result"
    }
   ],
   "source": [
    "x_set.pop()"
   ]
  },
  {
   "cell_type": "code",
   "execution_count": 138,
   "id": "c7aedc63-cfa6-4213-992d-c4dfe20e493a",
   "metadata": {},
   "outputs": [
    {
     "data": {
      "text/plain": [
       "{7, 8, 9}"
      ]
     },
     "execution_count": 138,
     "metadata": {},
     "output_type": "execute_result"
    }
   ],
   "source": [
    "x_set # "
   ]
  },
  {
   "cell_type": "code",
   "execution_count": 142,
   "id": "e1142b66-c43c-408d-995f-7e6f6a15ca99",
   "metadata": {},
   "outputs": [
    {
     "ename": "KeyError",
     "evalue": "6",
     "output_type": "error",
     "traceback": [
      "\u001b[1;31m---------------------------------------------------------------------------\u001b[0m",
      "\u001b[1;31mKeyError\u001b[0m                                  Traceback (most recent call last)",
      "Cell \u001b[1;32mIn[142], line 1\u001b[0m\n\u001b[1;32m----> 1\u001b[0m x_set\u001b[38;5;241m.\u001b[39mremove(\u001b[38;5;241m6\u001b[39m)\n",
      "\u001b[1;31mKeyError\u001b[0m: 6"
     ]
    }
   ],
   "source": [
    "x_set.remove(6)"
   ]
  },
  {
   "cell_type": "code",
   "execution_count": 144,
   "id": "b54a5253-03cf-4180-8eff-8ac7669833d4",
   "metadata": {},
   "outputs": [
    {
     "data": {
      "text/plain": [
       "{7, 8, 9}"
      ]
     },
     "execution_count": 144,
     "metadata": {},
     "output_type": "execute_result"
    }
   ],
   "source": [
    "x_set"
   ]
  },
  {
   "cell_type": "code",
   "execution_count": 3,
   "id": "174ab185-94f3-48fc-b7a7-3ad80deffc58",
   "metadata": {},
   "outputs": [
    {
     "name": "stdout",
     "output_type": "stream",
     "text": [
      "{1, 2, 3, 4, 5, 6, 8, 85}\n",
      "<class 'set'>\n"
     ]
    }
   ],
   "source": [
    "# discard() function\n",
    "x = {1,2,3,4,5,5,5,5,5,6,85,8,}\n",
    "print(x)\n",
    "print(type(x))"
   ]
  },
  {
   "cell_type": "code",
   "execution_count": 5,
   "id": "a92ed3dc-e439-4e07-a191-f00e9353e709",
   "metadata": {},
   "outputs": [],
   "source": [
    "x.remove(5)"
   ]
  },
  {
   "cell_type": "code",
   "execution_count": 7,
   "id": "a6f7455e-f576-47bf-8538-59502dbfb242",
   "metadata": {},
   "outputs": [
    {
     "data": {
      "text/plain": [
       "{1, 2, 3, 4, 6, 8, 85}"
      ]
     },
     "execution_count": 7,
     "metadata": {},
     "output_type": "execute_result"
    }
   ],
   "source": [
    "x"
   ]
  },
  {
   "cell_type": "code",
   "execution_count": 9,
   "id": "e70b07dd-a6a4-4176-8073-eaa390f76e1d",
   "metadata": {},
   "outputs": [
    {
     "ename": "KeyError",
     "evalue": "5",
     "output_type": "error",
     "traceback": [
      "\u001b[1;31m---------------------------------------------------------------------------\u001b[0m",
      "\u001b[1;31mKeyError\u001b[0m                                  Traceback (most recent call last)",
      "Cell \u001b[1;32mIn[9], line 1\u001b[0m\n\u001b[1;32m----> 1\u001b[0m x\u001b[38;5;241m.\u001b[39mremove(\u001b[38;5;241m5\u001b[39m)\n",
      "\u001b[1;31mKeyError\u001b[0m: 5"
     ]
    }
   ],
   "source": [
    "x.remove(5)"
   ]
  },
  {
   "cell_type": "code",
   "execution_count": 13,
   "id": "441cb6d3-7d08-4d10-84e8-ce2ffcf2e7dd",
   "metadata": {},
   "outputs": [
    {
     "data": {
      "text/plain": [
       "{1, 2, 3, 4, 6, 8, 85}"
      ]
     },
     "execution_count": 13,
     "metadata": {},
     "output_type": "execute_result"
    }
   ],
   "source": [
    "# discard\n",
    "\n",
    "x"
   ]
  },
  {
   "cell_type": "code",
   "execution_count": 15,
   "id": "91706bad-c136-4bfc-8ca9-5a93d23476c5",
   "metadata": {},
   "outputs": [],
   "source": [
    "x.discard(5)"
   ]
  },
  {
   "cell_type": "code",
   "execution_count": 17,
   "id": "40fe835f-c53d-4f85-9c2f-283f3f198dcc",
   "metadata": {},
   "outputs": [
    {
     "data": {
      "text/plain": [
       "{1, 2, 3, 4, 6, 8, 85}"
      ]
     },
     "execution_count": 17,
     "metadata": {},
     "output_type": "execute_result"
    }
   ],
   "source": [
    "x"
   ]
  },
  {
   "cell_type": "code",
   "execution_count": 23,
   "id": "8f4be516-4755-480e-9eff-9e177ba78994",
   "metadata": {},
   "outputs": [
    {
     "data": {
      "text/plain": [
       "{1, 2, 3, 4, 6, 8, 85}"
      ]
     },
     "execution_count": 23,
     "metadata": {},
     "output_type": "execute_result"
    }
   ],
   "source": [
    "x.discard(5)\n",
    "x"
   ]
  },
  {
   "cell_type": "code",
   "execution_count": 25,
   "id": "2dcf7b8b-6252-4fff-b8fd-d92c72bdcec6",
   "metadata": {},
   "outputs": [
    {
     "data": {
      "text/plain": [
       "{1, 2, 3, 4, 6, 8, 85}"
      ]
     },
     "execution_count": 25,
     "metadata": {},
     "output_type": "execute_result"
    }
   ],
   "source": [
    "x"
   ]
  },
  {
   "cell_type": "code",
   "execution_count": 27,
   "id": "194720f3-5f96-4fe9-94af-78a207ad170e",
   "metadata": {},
   "outputs": [],
   "source": [
    "x.discard(5)"
   ]
  },
  {
   "cell_type": "code",
   "execution_count": 29,
   "id": "67661af9-f969-4a81-960e-fcabb3d6b9b4",
   "metadata": {},
   "outputs": [
    {
     "name": "stdout",
     "output_type": "stream",
     "text": [
      "{1, 2, 3, 4, 6, 8, 85}\n"
     ]
    }
   ],
   "source": [
    "print(x)"
   ]
  },
  {
   "cell_type": "code",
   "execution_count": 31,
   "id": "cacf46f1-010d-4cbc-9c17-6ea01e1296b6",
   "metadata": {},
   "outputs": [
    {
     "data": {
      "text/plain": [
       "{1, 2, 3, 4, 8, 85}"
      ]
     },
     "execution_count": 31,
     "metadata": {},
     "output_type": "execute_result"
    }
   ],
   "source": [
    "x.discard(6)\n",
    "x"
   ]
  },
  {
   "cell_type": "code",
   "execution_count": 33,
   "id": "396e4ae7-8bcb-4305-9fc8-347809931c6a",
   "metadata": {},
   "outputs": [],
   "source": [
    "# Logic operations\n",
    "\n",
    "# union\n",
    "# intersection\n",
    "# difference\n",
    "# symmetric difference\n",
    "\n"
   ]
  },
  {
   "cell_type": "code",
   "execution_count": 35,
   "id": "92470b0e-b863-47b6-9488-88c5b2ccbf3c",
   "metadata": {},
   "outputs": [
    {
     "name": "stdout",
     "output_type": "stream",
     "text": [
      "{'hello wolrd', True, 10, 3.147}\n",
      "{False, True, 3.147, 2025}\n"
     ]
    }
   ],
   "source": [
    "set4 = {'hello wolrd',3.147,10,True} # a\n",
    "set5 = {3.147, True, False,2025}  # b\n",
    "\n",
    "print(set4)\n",
    "print(set5)"
   ]
  },
  {
   "cell_type": "code",
   "execution_count": 37,
   "id": "672809d1-ac71-4359-9a4c-a7a003c3fb20",
   "metadata": {},
   "outputs": [
    {
     "data": {
      "text/plain": [
       "{10, 2025, 3.147, False, True, 'hello wolrd'}"
      ]
     },
     "execution_count": 37,
     "metadata": {},
     "output_type": "execute_result"
    }
   ],
   "source": [
    "# union: - Unique value:\n",
    "set4.union(set5)"
   ]
  },
  {
   "cell_type": "code",
   "execution_count": 41,
   "id": "4b98745d-efba-4a15-b591-3bb25c8f8e4f",
   "metadata": {},
   "outputs": [
    {
     "name": "stdout",
     "output_type": "stream",
     "text": [
      "{'hello wolrd', True, 10, 3.147}\n",
      "{False, True, 3.147, 2025}\n",
      "{True, 3.147}\n"
     ]
    }
   ],
   "source": [
    "# Intersection: duplicate value\n",
    "\n",
    "set4 = {'hello wolrd',3.147,10,True} # a\n",
    "set5 = {3.147, True, False,2025}  # b\n",
    "\n",
    "print(set4)\n",
    "print(set5)\n",
    "\n",
    "print(set4.intersection(set5))"
   ]
  },
  {
   "cell_type": "code",
   "execution_count": 43,
   "id": "831ac2b5-34a2-431d-9de0-56858d284f36",
   "metadata": {},
   "outputs": [
    {
     "data": {
      "text/plain": [
       "{True, 3.147}"
      ]
     },
     "execution_count": 43,
     "metadata": {},
     "output_type": "execute_result"
    }
   ],
   "source": [
    "set5&set4  # & Ampersand"
   ]
  },
  {
   "cell_type": "code",
   "execution_count": 51,
   "id": "eb9c958d-9c2b-4fd2-8fa9-0eb6c1c3ef3e",
   "metadata": {},
   "outputs": [
    {
     "name": "stdout",
     "output_type": "stream",
     "text": [
      "{'hello wolrd', 10}\n",
      "{False, 2025}\n"
     ]
    }
   ],
   "source": [
    "# difference: subtract:- x, y =  x-y, y-x\n",
    "\n",
    "set4 = {'hello wolrd',3.147,10,True} # a\n",
    "set5 = {3.147, True, False,2025}  # b\n",
    "\n",
    "# print(set4)\n",
    "# print(set5)\n",
    "\n",
    "# a-b, b-a\n",
    "\n",
    "print(set4.difference(set5))  # a-b\n",
    "\n",
    "print(set5.difference(set4))  # b-a {False,2025}"
   ]
  },
  {
   "cell_type": "code",
   "execution_count": 53,
   "id": "0e0e112f-f5e1-45d1-8cff-a95ecad5874b",
   "metadata": {},
   "outputs": [
    {
     "data": {
      "text/plain": [
       "{10, 'hello wolrd'}"
      ]
     },
     "execution_count": 53,
     "metadata": {},
     "output_type": "execute_result"
    }
   ],
   "source": [
    "set4-set5"
   ]
  },
  {
   "cell_type": "code",
   "execution_count": 55,
   "id": "cdd443df-f28b-4443-9222-d4bb7aad5465",
   "metadata": {},
   "outputs": [
    {
     "data": {
      "text/plain": [
       "{False, 2025}"
      ]
     },
     "execution_count": 55,
     "metadata": {},
     "output_type": "execute_result"
    }
   ],
   "source": [
    "set5-set4"
   ]
  },
  {
   "cell_type": "code",
   "execution_count": 57,
   "id": "8ff4fffb-79cb-4f2e-ba9a-fcc6be608ffd",
   "metadata": {},
   "outputs": [
    {
     "data": {
      "text/plain": [
       "{10, 2025, False, 'hello wolrd'}"
      ]
     },
     "execution_count": 57,
     "metadata": {},
     "output_type": "execute_result"
    }
   ],
   "source": [
    "# symmetric_difference:\n",
    "\n",
    "set4 = {'hello wolrd',3.147,10,True} # a\n",
    "set5 = {3.147, True, False,2025}  # b\n",
    "\n",
    "set4.symmetric_difference(set5)"
   ]
  },
  {
   "cell_type": "code",
   "execution_count": 75,
   "id": "0ab3d496-f01b-4950-bd7e-40080c0d4335",
   "metadata": {},
   "outputs": [
    {
     "name": "stdout",
     "output_type": "stream",
     "text": [
      "False\n",
      "True\n"
     ]
    }
   ],
   "source": [
    "# issuperset() and issubsuper() functions\n",
    "\n",
    "set4 = {'hello wolrd',3.147,10,True,False,2025} # a\n",
    "set5 = {3.147, True, False,2025}  # b\n",
    "\n",
    "print(set4.issubset(set5)) # false\n",
    "print(set5.issubset(set4)) # true"
   ]
  },
  {
   "cell_type": "code",
   "execution_count": 63,
   "id": "60560cc1-5528-4c1c-8c91-2f91e458ea92",
   "metadata": {},
   "outputs": [
    {
     "data": {
      "text/plain": [
       "False"
      ]
     },
     "execution_count": 63,
     "metadata": {},
     "output_type": "execute_result"
    }
   ],
   "source": [
    "set5.issubset(set4)"
   ]
  },
  {
   "cell_type": "code",
   "execution_count": 65,
   "id": "5039c17a-4185-49af-95ea-62aeca503a7b",
   "metadata": {},
   "outputs": [
    {
     "data": {
      "text/plain": [
       "False"
      ]
     },
     "execution_count": 65,
     "metadata": {},
     "output_type": "execute_result"
    }
   ],
   "source": [
    "set4.issuperset(set5)"
   ]
  },
  {
   "cell_type": "code",
   "execution_count": 77,
   "id": "75ab8347-5d01-47d8-b076-20afe0913d57",
   "metadata": {},
   "outputs": [
    {
     "name": "stdout",
     "output_type": "stream",
     "text": [
      "Is set_A a subset of set_B? True\n"
     ]
    }
   ],
   "source": [
    "set_A = {1, 2}\n",
    "set_B = {1, 2, 3, 4}\n",
    "\n",
    "# Check if set_A is a subset of set_B\n",
    "is_subset = set_A.issubset(set_B)\n",
    "print(f\"Is set_A a subset of set_B? {is_subset}\") "
   ]
  },
  {
   "cell_type": "code",
   "execution_count": 85,
   "id": "84e8a358-d7af-455a-add7-3ad8e17bb249",
   "metadata": {},
   "outputs": [
    {
     "data": {
      "text/plain": [
       "False"
      ]
     },
     "execution_count": 85,
     "metadata": {},
     "output_type": "execute_result"
    }
   ],
   "source": [
    "set_A = {1, 2}\n",
    "set_B = {1, 2, 3, 4}\n",
    "\n",
    "val = set_B.issubset(set_A) # False\n",
    "val"
   ]
  },
  {
   "cell_type": "code",
   "execution_count": 87,
   "id": "814e1002-1b2f-4537-a301-f4a9cd596385",
   "metadata": {},
   "outputs": [
    {
     "data": {
      "text/plain": [
       "False"
      ]
     },
     "execution_count": 87,
     "metadata": {},
     "output_type": "execute_result"
    }
   ],
   "source": [
    "# superset\n",
    "\n",
    "set_A = {1, 2}\n",
    "set_B = {1, 2, 3, 4}\n",
    "\n",
    "set_A.issuperset(set_B)"
   ]
  },
  {
   "cell_type": "code",
   "execution_count": 89,
   "id": "422c1a7f-6a71-4111-b0e6-4fe543f16e97",
   "metadata": {},
   "outputs": [
    {
     "data": {
      "text/plain": [
       "True"
      ]
     },
     "execution_count": 89,
     "metadata": {},
     "output_type": "execute_result"
    }
   ],
   "source": [
    "set_B.issuperset(set_A)"
   ]
  },
  {
   "cell_type": "code",
   "execution_count": 111,
   "id": "1193af3d-c3cb-4be0-9507-ab6465850782",
   "metadata": {},
   "outputs": [
    {
     "name": "stdout",
     "output_type": "stream",
     "text": [
      "List element is: [1, 1, 2, 2, 3, 3, 4, 4, 5, 5, 7]\n",
      "set element is: {1, 2, 3, 4, 5, 7}\n",
      "Sum of the value a is: 37\n",
      "Sum of the value b is: 22\n",
      "Mininum of the value a is: 1\n",
      "Minimum of the value b is: 1\n",
      "Maximum of the value a is: 7\n",
      "Maximum ot the value b is: 7\n",
      "Length of the value a is: 11\n",
      "Length of the value b is: 6\n",
      "Average of the value a is: 3.3636363636363638\n",
      "Average of the value b is: 3.6666666666666665\n"
     ]
    }
   ],
   "source": [
    "# Aggrigate function: min(), max(), sum(), average(), len() functions\n",
    "\n",
    "a = [1,1,2,2,3,3,4,4,5,5,7]\n",
    "b = {1,1,2,2,3,3,4,4,5,5,7}\n",
    "\n",
    "print('List element is:',a)\n",
    "print(\"set element is:\",b)\n",
    "\n",
    "\n",
    "print(\"Sum of the value a is:\", sum(a))\n",
    "print(\"Sum of the value b is:\",sum(b))\n",
    "\n",
    "print(\"Mininum of the value a is:\",min(a))\n",
    "print(\"Minimum of the value b is:\",min(b))\n",
    "\n",
    "print('Maximum of the value a is:',max(a))\n",
    "print('Maximum ot the value b is:',max(b))\n",
    "\n",
    "print('Length of the value a is:',len(a))\n",
    "print(\"Length of the value b is:\",len(b))\n",
    "\n",
    "print(\"Average of the value a is:\",sum(a)/len(a))\n",
    "print(\"Average of the value b is:\",sum(b)/len(b))"
   ]
  },
  {
   "cell_type": "code",
   "execution_count": 115,
   "id": "19a750f9-4ac0-4e37-875e-59af0342138a",
   "metadata": {},
   "outputs": [
    {
     "ename": "TypeError",
     "evalue": "unhashable type: 'list'",
     "output_type": "error",
     "traceback": [
      "\u001b[1;31m---------------------------------------------------------------------------\u001b[0m",
      "\u001b[1;31mTypeError\u001b[0m                                 Traceback (most recent call last)",
      "Cell \u001b[1;32mIn[115], line 4\u001b[0m\n\u001b[0;32m      1\u001b[0m \u001b[38;5;66;03m# No Mutable sequence in a set:\u001b[39;00m\n\u001b[0;32m      2\u001b[0m \u001b[38;5;66;03m# A set can not have mutable elements, such as a list or a dictionary, in it. if any, it return error.\u001b[39;00m\n\u001b[1;32m----> 4\u001b[0m set6 \u001b[38;5;241m=\u001b[39m {\u001b[38;5;124m'\u001b[39m\u001b[38;5;124mpython\u001b[39m\u001b[38;5;124m'\u001b[39m,\u001b[38;5;241m1\u001b[39m,\u001b[38;5;241m2\u001b[39m,\u001b[38;5;241m3\u001b[39m,[\u001b[38;5;241m1\u001b[39m]}\n\u001b[0;32m      5\u001b[0m set6\n",
      "\u001b[1;31mTypeError\u001b[0m: unhashable type: 'list'"
     ]
    }
   ],
   "source": [
    "# No Mutable sequence in a set:\n",
    "# A set can not have mutable elements, such as a list or a dictionary, in it. if any, it return error.\n",
    "\n",
    "set6 = {'python',1,2,3,[1]}\n",
    "set6"
   ]
  },
  {
   "cell_type": "code",
   "execution_count": 117,
   "id": "e3445b4a-aa52-4178-82f3-4e4088989afe",
   "metadata": {},
   "outputs": [
    {
     "ename": "TypeError",
     "evalue": "unhashable type: 'dict'",
     "output_type": "error",
     "traceback": [
      "\u001b[1;31m---------------------------------------------------------------------------\u001b[0m",
      "\u001b[1;31mTypeError\u001b[0m                                 Traceback (most recent call last)",
      "Cell \u001b[1;32mIn[117], line 1\u001b[0m\n\u001b[1;32m----> 1\u001b[0m set6 \u001b[38;5;241m=\u001b[39m {\u001b[38;5;124m'\u001b[39m\u001b[38;5;124mpython\u001b[39m\u001b[38;5;124m'\u001b[39m,\u001b[38;5;241m1\u001b[39m,\u001b[38;5;241m2\u001b[39m,\u001b[38;5;241m3\u001b[39m,{\u001b[38;5;124m'\u001b[39m\u001b[38;5;124ma\u001b[39m\u001b[38;5;124m'\u001b[39m:\u001b[38;5;124m'\u001b[39m\u001b[38;5;124mapple\u001b[39m\u001b[38;5;124m'\u001b[39m}}\n\u001b[0;32m      2\u001b[0m set6\n",
      "\u001b[1;31mTypeError\u001b[0m: unhashable type: 'dict'"
     ]
    }
   ],
   "source": [
    "set6 = {'python',1,2,3,{'a':'apple'}}\n",
    "set6"
   ]
  },
  {
   "cell_type": "code",
   "execution_count": 119,
   "id": "1b60c14c-b97a-4a03-b779-cb1ee83169a2",
   "metadata": {},
   "outputs": [
    {
     "data": {
      "text/plain": [
       "{(1, 2, 3), 1, 2, 3, 'python'}"
      ]
     },
     "execution_count": 119,
     "metadata": {},
     "output_type": "execute_result"
    }
   ],
   "source": [
    "set6 = {'python',1,2,3,(1,2,3)}\n",
    "set6"
   ]
  },
  {
   "cell_type": "code",
   "execution_count": 129,
   "id": "52bc13ef-f678-4ac9-8172-33e32bffdbfd",
   "metadata": {},
   "outputs": [
    {
     "ename": "TypeError",
     "evalue": "'set' object is not subscriptable",
     "output_type": "error",
     "traceback": [
      "\u001b[1;31m---------------------------------------------------------------------------\u001b[0m",
      "\u001b[1;31mTypeError\u001b[0m                                 Traceback (most recent call last)",
      "Cell \u001b[1;32mIn[129], line 3\u001b[0m\n\u001b[0;32m      1\u001b[0m \u001b[38;5;66;03m# Index value\u001b[39;00m\n\u001b[0;32m      2\u001b[0m set7 \u001b[38;5;241m=\u001b[39m {\u001b[38;5;241m1\u001b[39m,\u001b[38;5;241m2\u001b[39m,\u001b[38;5;241m3\u001b[39m}\n\u001b[1;32m----> 3\u001b[0m set7[\u001b[38;5;241m0\u001b[39m]\n",
      "\u001b[1;31mTypeError\u001b[0m: 'set' object is not subscriptable"
     ]
    }
   ],
   "source": [
    "# Index value\n",
    "set7 = {1,2,3}\n",
    "set7[0]"
   ]
  },
  {
   "cell_type": "code",
   "execution_count": 123,
   "id": "4a62ce82-7a00-4cd3-9436-7ad798b2d036",
   "metadata": {},
   "outputs": [
    {
     "data": {
      "text/plain": [
       "{1, 2, 3}"
      ]
     },
     "execution_count": 123,
     "metadata": {},
     "output_type": "execute_result"
    }
   ],
   "source": [
    "# clear() function\n",
    "# It removes all elements in the set and then do the set empty.\n",
    "\n",
    "set7"
   ]
  },
  {
   "cell_type": "code",
   "execution_count": 127,
   "id": "7f42c091-8502-4f89-9f97-907ad1f66a59",
   "metadata": {},
   "outputs": [
    {
     "data": {
      "text/plain": [
       "set()"
      ]
     },
     "execution_count": 127,
     "metadata": {},
     "output_type": "execute_result"
    }
   ],
   "source": [
    "set7.clear()\n",
    "set7"
   ]
  },
  {
   "cell_type": "code",
   "execution_count": 131,
   "id": "7bc585ff-93b9-4abb-88b1-9bf4b15f3dbc",
   "metadata": {},
   "outputs": [
    {
     "data": {
      "text/plain": [
       "{1, 2, 3}"
      ]
     },
     "execution_count": 131,
     "metadata": {},
     "output_type": "execute_result"
    }
   ],
   "source": [
    "set7"
   ]
  },
  {
   "cell_type": "code",
   "execution_count": 133,
   "id": "d0b458ab-9039-4ac3-b989-b4a77682cec9",
   "metadata": {},
   "outputs": [
    {
     "data": {
      "text/plain": [
       "{2, 3}"
      ]
     },
     "execution_count": 133,
     "metadata": {},
     "output_type": "execute_result"
    }
   ],
   "source": [
    "set7.pop()   # rear or front.\n",
    "set7"
   ]
  },
  {
   "cell_type": "code",
   "execution_count": null,
   "id": "05046bbe-22d6-4c41-9659-3f64a89c28eb",
   "metadata": {},
   "outputs": [],
   "source": []
  }
 ],
 "metadata": {
  "kernelspec": {
   "display_name": "Python 3 (ipykernel)",
   "language": "python",
   "name": "python3"
  },
  "language_info": {
   "codemirror_mode": {
    "name": "ipython",
    "version": 3
   },
   "file_extension": ".py",
   "mimetype": "text/x-python",
   "name": "python",
   "nbconvert_exporter": "python",
   "pygments_lexer": "ipython3",
   "version": "3.12.4"
  }
 },
 "nbformat": 4,
 "nbformat_minor": 5
}
