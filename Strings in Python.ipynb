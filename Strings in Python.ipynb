{
 "cells": [
  {
   "cell_type": "markdown",
   "id": "d1047bab-860a-4edc-9de1-531463e608ee",
   "metadata": {},
   "source": [
    "# Strings in Python  [Sequence - strings, List, Tuples,sets, mapping[Dictionary]]\n"
   ]
  },
  {
   "cell_type": "code",
   "execution_count": 3,
   "id": "f322fa4b-5176-4f7d-b831-937a8ce4e289",
   "metadata": {},
   "outputs": [
    {
     "data": {
      "text/plain": [
       "'Hello world'"
      ]
     },
     "execution_count": 3,
     "metadata": {},
     "output_type": "execute_result"
    }
   ],
   "source": [
    "\"Hello world\""
   ]
  },
  {
   "cell_type": "code",
   "execution_count": 5,
   "id": "c1abf431-b03a-43be-b54c-3df485e83535",
   "metadata": {},
   "outputs": [
    {
     "data": {
      "text/plain": [
       "'Hello world'"
      ]
     },
     "execution_count": 5,
     "metadata": {},
     "output_type": "execute_result"
    }
   ],
   "source": [
    "'Hello world'"
   ]
  },
  {
   "cell_type": "code",
   "execution_count": 7,
   "id": "27c36a5d-2961-4b44-943b-835b42b18164",
   "metadata": {},
   "outputs": [
    {
     "data": {
      "text/plain": [
       "'!@#$%^'"
      ]
     },
     "execution_count": 7,
     "metadata": {},
     "output_type": "execute_result"
    }
   ],
   "source": [
    "\"!@#$%^\""
   ]
  },
  {
   "cell_type": "code",
   "execution_count": 9,
   "id": "32516410-7f7f-46b4-95cc-e0318fffecf0",
   "metadata": {},
   "outputs": [
    {
     "data": {
      "text/plain": [
       "'13116556'"
      ]
     },
     "execution_count": 9,
     "metadata": {},
     "output_type": "execute_result"
    }
   ],
   "source": [
    "\"13116556\""
   ]
  },
  {
   "cell_type": "code",
   "execution_count": 11,
   "id": "793126e3-44dc-4e5e-94f1-f0cee47c41a7",
   "metadata": {},
   "outputs": [
    {
     "name": "stdout",
     "output_type": "stream",
     "text": [
      "Hello world\n"
     ]
    }
   ],
   "source": [
    "msg = \"Hello world\"\n",
    "print(msg)"
   ]
  },
  {
   "cell_type": "code",
   "execution_count": 13,
   "id": "f5f5567a-b615-4289-a9ef-e3dcfe71ff11",
   "metadata": {},
   "outputs": [],
   "source": [
    "# camleCase\n",
    "# snakeCase\n",
    "# PascalCase\n"
   ]
  },
  {
   "cell_type": "code",
   "execution_count": 15,
   "id": "baf7243a-3745-47d4-9cd5-1de6d1669666",
   "metadata": {},
   "outputs": [
    {
     "name": "stdout",
     "output_type": "stream",
     "text": [
      "hello world\n"
     ]
    }
   ],
   "source": [
    "msg = \"hello world\"\n",
    "print(msg)"
   ]
  },
  {
   "cell_type": "code",
   "execution_count": 17,
   "id": "f1d4960f-75f5-4f7a-bf5e-a1f3d8a39504",
   "metadata": {},
   "outputs": [
    {
     "name": "stdout",
     "output_type": "stream",
     "text": [
      "hello world\n"
     ]
    }
   ],
   "source": [
    "# Indexing of String\n",
    "\n",
    "msg = \"hello world\"\n",
    "print(msg)\n"
   ]
  },
  {
   "cell_type": "code",
   "execution_count": 27,
   "id": "4794e3b0-4efb-4db4-a454-bf46e54ab792",
   "metadata": {},
   "outputs": [
    {
     "name": "stdout",
     "output_type": "stream",
     "text": [
      "h\n",
      "e\n",
      "l\n",
      "l\n",
      "o\n",
      " \n",
      "w\n",
      "o\n",
      "r\n",
      "l\n",
      "d\n"
     ]
    }
   ],
   "source": [
    "# positive indexing - \n",
    "print(msg[0])\n",
    "print(msg[1])\n",
    "print(msg[2])\n",
    "print(msg[3])\n",
    "print(msg[4])\n",
    "print(msg[5])\n",
    "print(msg[6])\n",
    "print(msg[7])\n",
    "print(msg[8])\n",
    "print(msg[9])\n",
    "print(msg[10])\n",
    "# print(msg[11]) #Index -Indexing Error"
   ]
  },
  {
   "cell_type": "code",
   "execution_count": 31,
   "id": "db9dfc6b-e834-4676-b9f2-1fa79a260f3c",
   "metadata": {},
   "outputs": [
    {
     "name": "stdout",
     "output_type": "stream",
     "text": [
      "hello world\n",
      "d\n",
      "l\n",
      "r\n",
      "o\n",
      "w\n",
      " \n",
      "o\n",
      "l\n",
      "l\n",
      "e\n",
      "h\n"
     ]
    }
   ],
   "source": [
    "# Negtive Indexing\n",
    "\n",
    "print(msg)\n",
    "print(msg[-1])\n",
    "print(msg[-2])\n",
    "print(msg[-3])\n",
    "print(msg[-4])\n",
    "print(msg[-5])\n",
    "print(msg[-6])\n",
    "print(msg[-7])\n",
    "print(msg[-8])\n",
    "print(msg[-9])\n",
    "print(msg[-10])\n",
    "print(msg[-11])"
   ]
  },
  {
   "cell_type": "code",
   "execution_count": 33,
   "id": "d774f94c-f875-4553-8f89-ecd3916a384f",
   "metadata": {},
   "outputs": [
    {
     "name": "stdout",
     "output_type": "stream",
     "text": [
      "Hello world\n"
     ]
    }
   ],
   "source": [
    "# Striding of string \n",
    "# Lodo ----> [Lodo,stair]\n",
    "\n",
    "# alternate value\n",
    "\n",
    "# >>\n",
    "\n",
    "x = \"Hello world\"\n",
    "print(x)"
   ]
  },
  {
   "cell_type": "code",
   "execution_count": 35,
   "id": "1132325d-c66e-4624-ae7c-31955c6f2a6d",
   "metadata": {},
   "outputs": [
    {
     "data": {
      "text/plain": [
       "'Hello world'"
      ]
     },
     "execution_count": 35,
     "metadata": {},
     "output_type": "execute_result"
    }
   ],
   "source": [
    "x[:]"
   ]
  },
  {
   "cell_type": "code",
   "execution_count": 37,
   "id": "d75a843e-3d0e-46f8-8def-1eff595e31ea",
   "metadata": {},
   "outputs": [
    {
     "data": {
      "text/plain": [
       "'Hello world'"
      ]
     },
     "execution_count": 37,
     "metadata": {},
     "output_type": "execute_result"
    }
   ],
   "source": [
    "# slicing of string\n",
    "\n",
    "x"
   ]
  },
  {
   "cell_type": "code",
   "execution_count": 41,
   "id": "cba3a296-2fb3-400e-b2b6-b6cd2b3647ef",
   "metadata": {},
   "outputs": [
    {
     "data": {
      "text/plain": [
       "'Hello'"
      ]
     },
     "execution_count": 41,
     "metadata": {},
     "output_type": "execute_result"
    }
   ],
   "source": [
    "x[0:5]   # n-1 = 5-1 = 4"
   ]
  },
  {
   "cell_type": "code",
   "execution_count": 43,
   "id": "cb4c13c0-2fb8-453f-9778-9e3297fe56b5",
   "metadata": {},
   "outputs": [
    {
     "data": {
      "text/plain": [
       "'Hello '"
      ]
     },
     "execution_count": 43,
     "metadata": {},
     "output_type": "execute_result"
    }
   ],
   "source": [
    "x[0:6] # n-1 = 6-1 = 5"
   ]
  },
  {
   "cell_type": "code",
   "execution_count": 45,
   "id": "794bda91-1b24-4b79-8e57-383b6342b8f1",
   "metadata": {},
   "outputs": [
    {
     "data": {
      "text/plain": [
       "'Hello world'"
      ]
     },
     "execution_count": 45,
     "metadata": {},
     "output_type": "execute_result"
    }
   ],
   "source": [
    "#  print world on the display\n",
    "x"
   ]
  },
  {
   "cell_type": "code",
   "execution_count": 53,
   "id": "4fc370b0-f953-426b-bb4b-965a9ed1cd6f",
   "metadata": {},
   "outputs": [
    {
     "data": {
      "text/plain": [
       "'world'"
      ]
     },
     "execution_count": 53,
     "metadata": {},
     "output_type": "execute_result"
    }
   ],
   "source": [
    "x[6:]"
   ]
  },
  {
   "cell_type": "code",
   "execution_count": 51,
   "id": "7e7d0093-ea9b-4bdd-b7df-a02d46a39701",
   "metadata": {},
   "outputs": [
    {
     "name": "stdout",
     "output_type": "stream",
     "text": [
      "world\n"
     ]
    }
   ],
   "source": [
    "print(x[6:11])"
   ]
  },
  {
   "cell_type": "code",
   "execution_count": 49,
   "id": "811e5792-9068-45b1-bc03-082ec72f03d9",
   "metadata": {},
   "outputs": [
    {
     "data": {
      "text/plain": [
       "'world'"
      ]
     },
     "execution_count": 49,
     "metadata": {},
     "output_type": "execute_result"
    }
   ],
   "source": [
    "x[6:11]"
   ]
  },
  {
   "cell_type": "code",
   "execution_count": 47,
   "id": "b400f62d-306c-4f1f-be27-3ecf7aa8c873",
   "metadata": {},
   "outputs": [
    {
     "data": {
      "text/plain": [
       "'world'"
      ]
     },
     "execution_count": 47,
     "metadata": {},
     "output_type": "execute_result"
    }
   ],
   "source": [
    "x[6:11]"
   ]
  },
  {
   "cell_type": "code",
   "execution_count": 55,
   "id": "6df7c0fb-1894-42ab-a2a6-4df37830ac9d",
   "metadata": {},
   "outputs": [],
   "source": [
    "# fullduplex\n",
    "\n",
    "# simplex - instruction - keyboard\n",
    "# half duplex - walkie-talke\n",
    "# fullduplex- cellphone [fullduplex]\n",
    "\n",
    "# striding of element"
   ]
  },
  {
   "cell_type": "code",
   "execution_count": 57,
   "id": "48ca081f-2a27-4853-a47e-d23867063ed9",
   "metadata": {},
   "outputs": [
    {
     "data": {
      "text/plain": [
       "'hello world'"
      ]
     },
     "execution_count": 57,
     "metadata": {},
     "output_type": "execute_result"
    }
   ],
   "source": [
    "x = \"hello world\"\n",
    "\n",
    "# skip - alternate value\n",
    "\n",
    "x[::] # [starts:ends:skip/alternate value]"
   ]
  },
  {
   "cell_type": "code",
   "execution_count": 59,
   "id": "227c1e97-6597-48bf-9176-8de109daf1e1",
   "metadata": {},
   "outputs": [
    {
     "data": {
      "text/plain": [
       "'hello world'"
      ]
     },
     "execution_count": 59,
     "metadata": {},
     "output_type": "execute_result"
    }
   ],
   "source": [
    "x[:]  # slicing"
   ]
  },
  {
   "cell_type": "code",
   "execution_count": 61,
   "id": "6b96d3f3-3344-4703-a34d-7c37a479c2c9",
   "metadata": {},
   "outputs": [
    {
     "data": {
      "text/plain": [
       "'hello world'"
      ]
     },
     "execution_count": 61,
     "metadata": {},
     "output_type": "execute_result"
    }
   ],
   "source": [
    "x[::]  # slicing"
   ]
  },
  {
   "cell_type": "code",
   "execution_count": 63,
   "id": "a5f07239-a263-416d-98d4-d74c996911d4",
   "metadata": {},
   "outputs": [
    {
     "name": "stdout",
     "output_type": "stream",
     "text": [
      "hello world\n"
     ]
    }
   ],
   "source": [
    "print(x) # disping/printing value."
   ]
  },
  {
   "cell_type": "code",
   "execution_count": 69,
   "id": "21893d5a-8194-43cd-bb63-8fff7fd4b86a",
   "metadata": {},
   "outputs": [
    {
     "data": {
      "text/plain": [
       "'hlowrd'"
      ]
     },
     "execution_count": 69,
     "metadata": {},
     "output_type": "execute_result"
    }
   ],
   "source": [
    "x[::2]  # n-1 = 1-1=0  # 2-1 = 1"
   ]
  },
  {
   "cell_type": "code",
   "execution_count": 71,
   "id": "01df7e02-8f28-40c6-ad7f-99a9354fa976",
   "metadata": {},
   "outputs": [
    {
     "data": {
      "text/plain": [
       "'hlwl'"
      ]
     },
     "execution_count": 71,
     "metadata": {},
     "output_type": "execute_result"
    }
   ],
   "source": [
    "x[::3]"
   ]
  },
  {
   "cell_type": "code",
   "execution_count": 73,
   "id": "d4ad2ecc-f89c-44f4-9bd4-3cc338009f30",
   "metadata": {},
   "outputs": [
    {
     "data": {
      "text/plain": [
       "'hor'"
      ]
     },
     "execution_count": 73,
     "metadata": {},
     "output_type": "execute_result"
    }
   ],
   "source": [
    "x[::4]   #  3 characters"
   ]
  },
  {
   "cell_type": "code",
   "execution_count": 75,
   "id": "39042dd6-56ec-483f-bbdd-ec829ef6d23a",
   "metadata": {},
   "outputs": [],
   "source": [
    "# Concatenation of value\n",
    "# addition of two strings\n",
    "# \"10\"+\"20\""
   ]
  },
  {
   "cell_type": "code",
   "execution_count": 77,
   "id": "d3d20dc7-da79-4ef0-9887-551752e04180",
   "metadata": {},
   "outputs": [
    {
     "ename": "TypeError",
     "evalue": "can only concatenate str (not \"int\") to str",
     "output_type": "error",
     "traceback": [
      "\u001b[1;31m---------------------------------------------------------------------------\u001b[0m",
      "\u001b[1;31mTypeError\u001b[0m                                 Traceback (most recent call last)",
      "Cell \u001b[1;32mIn[77], line 1\u001b[0m\n\u001b[1;32m----> 1\u001b[0m \u001b[38;5;124m\"\u001b[39m\u001b[38;5;124m10\u001b[39m\u001b[38;5;124m\"\u001b[39m\u001b[38;5;241m+\u001b[39m\u001b[38;5;241m20\u001b[39m\n",
      "\u001b[1;31mTypeError\u001b[0m: can only concatenate str (not \"int\") to str"
     ]
    }
   ],
   "source": [
    "\"10\"+20   # Error/a-Error/Error/Error/ JIO - "
   ]
  },
  {
   "cell_type": "code",
   "execution_count": 79,
   "id": "8ae53f2b-7d7e-4c0f-85f4-08d02d03fbf5",
   "metadata": {},
   "outputs": [
    {
     "ename": "NameError",
     "evalue": "name 'y' is not defined",
     "output_type": "error",
     "traceback": [
      "\u001b[1;31m---------------------------------------------------------------------------\u001b[0m",
      "\u001b[1;31mNameError\u001b[0m                                 Traceback (most recent call last)",
      "Cell \u001b[1;32mIn[79], line 2\u001b[0m\n\u001b[0;32m      1\u001b[0m x \u001b[38;5;241m=\u001b[39m \u001b[38;5;124m\"\u001b[39m\u001b[38;5;124mAsma\u001b[39m\u001b[38;5;124m\"\u001b[39m\n\u001b[1;32m----> 2\u001b[0m y\n",
      "\u001b[1;31mNameError\u001b[0m: name 'y' is not defined"
     ]
    }
   ],
   "source": [
    "x = \"Asma\"\n",
    "y"
   ]
  },
  {
   "cell_type": "code",
   "execution_count": 81,
   "id": "87f34633-da04-4519-a801-4a0271e3040d",
   "metadata": {},
   "outputs": [
    {
     "data": {
      "text/plain": [
       "'1020'"
      ]
     },
     "execution_count": 81,
     "metadata": {},
     "output_type": "execute_result"
    }
   ],
   "source": [
    "\"10\"+\"20\" "
   ]
  },
  {
   "cell_type": "code",
   "execution_count": 97,
   "id": "881e9133-78e0-404e-ad3a-85e18ee00dd8",
   "metadata": {},
   "outputs": [
    {
     "name": "stdout",
     "output_type": "stream",
     "text": [
      "Aditya Pimpale\n"
     ]
    }
   ],
   "source": [
    "# concatenation\n",
    "\n",
    "firstName = \"Aditya\"\n",
    "lastName = \"Pimpale\"\n",
    "\n",
    "fullnmae = firstName+\" \"+lastName\n",
    "print(fullnmae)"
   ]
  },
  {
   "cell_type": "code",
   "execution_count": 85,
   "id": "39451cfd-8d36-4504-af72-b886857a17bc",
   "metadata": {},
   "outputs": [
    {
     "data": {
      "text/plain": [
       "30"
      ]
     },
     "execution_count": 85,
     "metadata": {},
     "output_type": "execute_result"
    }
   ],
   "source": [
    "10+20"
   ]
  },
  {
   "cell_type": "code",
   "execution_count": 99,
   "id": "cd5394ac-7fdc-4383-ba2a-cf3615f48081",
   "metadata": {},
   "outputs": [
    {
     "data": {
      "text/plain": [
       "'AdityaAdityaAdityaAditya'"
      ]
     },
     "execution_count": 99,
     "metadata": {},
     "output_type": "execute_result"
    }
   ],
   "source": [
    "4*\"Aditya\" # Repetation"
   ]
  },
  {
   "cell_type": "code",
   "execution_count": 101,
   "id": "74c45330-4510-46de-a77a-f7a58d77c766",
   "metadata": {},
   "outputs": [
    {
     "ename": "TypeError",
     "evalue": "unsupported operand type(s) for +: 'int' and 'str'",
     "output_type": "error",
     "traceback": [
      "\u001b[1;31m---------------------------------------------------------------------------\u001b[0m",
      "\u001b[1;31mTypeError\u001b[0m                                 Traceback (most recent call last)",
      "Cell \u001b[1;32mIn[101], line 1\u001b[0m\n\u001b[1;32m----> 1\u001b[0m \u001b[38;5;241m4\u001b[39m\u001b[38;5;241m+\u001b[39m\u001b[38;5;124m\"\u001b[39m\u001b[38;5;124mAditya\u001b[39m\u001b[38;5;124m\"\u001b[39m\n",
      "\u001b[1;31mTypeError\u001b[0m: unsupported operand type(s) for +: 'int' and 'str'"
     ]
    }
   ],
   "source": [
    "4+\"Aditya\""
   ]
  },
  {
   "cell_type": "code",
   "execution_count": 105,
   "id": "6acb1f2e-ef20-4be5-9329-a3bf48faf9e8",
   "metadata": {},
   "outputs": [
    {
     "name": "stdout",
     "output_type": "stream",
     "text": [
      "!@#$%^\n"
     ]
    }
   ],
   "source": [
    "# Escape Sequence\n",
    "\n",
    "print(\"!@#$%^\")"
   ]
  },
  {
   "cell_type": "code",
   "execution_count": 107,
   "id": "d6afd832-2cf9-4a23-8e7e-c718b2e8c4b0",
   "metadata": {},
   "outputs": [
    {
     "name": "stdout",
     "output_type": "stream",
     "text": [
      "12346\n"
     ]
    }
   ],
   "source": [
    "print(\"12346\")"
   ]
  },
  {
   "cell_type": "code",
   "execution_count": 109,
   "id": "5c36eb38-0854-4358-b462-3b049060af6a",
   "metadata": {},
   "outputs": [
    {
     "name": "stdout",
     "output_type": "stream",
     "text": [
      "apple\n"
     ]
    }
   ],
   "source": [
    "print('apple')"
   ]
  },
  {
   "cell_type": "code",
   "execution_count": 111,
   "id": "44f4c501-59c6-4de1-958d-35156613b714",
   "metadata": {},
   "outputs": [
    {
     "ename": "SyntaxError",
     "evalue": "unterminated string literal (detected at line 1) (4138952293.py, line 1)",
     "output_type": "error",
     "traceback": [
      "\u001b[1;36m  Cell \u001b[1;32mIn[111], line 1\u001b[1;36m\u001b[0m\n\u001b[1;33m    print('\\')\u001b[0m\n\u001b[1;37m          ^\u001b[0m\n\u001b[1;31mSyntaxError\u001b[0m\u001b[1;31m:\u001b[0m unterminated string literal (detected at line 1)\n"
     ]
    }
   ],
   "source": [
    "print('\\')"
   ]
  },
  {
   "cell_type": "code",
   "execution_count": 113,
   "id": "40aeba41-7f7f-4cd9-ae56-dd9d823663f2",
   "metadata": {},
   "outputs": [
    {
     "ename": "SyntaxError",
     "evalue": "unterminated string literal (detected at line 1) (2053971215.py, line 1)",
     "output_type": "error",
     "traceback": [
      "\u001b[1;36m  Cell \u001b[1;32mIn[113], line 1\u001b[1;36m\u001b[0m\n\u001b[1;33m    print(\"\\\")\u001b[0m\n\u001b[1;37m          ^\u001b[0m\n\u001b[1;31mSyntaxError\u001b[0m\u001b[1;31m:\u001b[0m unterminated string literal (detected at line 1)\n"
     ]
    }
   ],
   "source": [
    "print(\"\\\")"
   ]
  },
  {
   "cell_type": "code",
   "execution_count": 115,
   "id": "bd295b79-d07d-40ac-be8f-28932f910d87",
   "metadata": {},
   "outputs": [
    {
     "name": "stdout",
     "output_type": "stream",
     "text": [
      "\\\n"
     ]
    }
   ],
   "source": [
    "# pair-2, couple-2 - 1\n",
    "# \n",
    "print('\\\\')"
   ]
  },
  {
   "cell_type": "code",
   "execution_count": 121,
   "id": "3056d8a6-2088-405e-b4a9-5a9a75e9db40",
   "metadata": {},
   "outputs": [
    {
     "name": "stdout",
     "output_type": "stream",
     "text": [
      "\\\\\n"
     ]
    }
   ],
   "source": [
    "print(\"\\\\\\\\\")  "
   ]
  },
  {
   "cell_type": "code",
   "execution_count": 125,
   "id": "55c5f7fa-e277-4797-adab-e6e467630dd4",
   "metadata": {},
   "outputs": [
    {
     "name": "stdout",
     "output_type": "stream",
     "text": [
      "À0\n"
     ]
    }
   ],
   "source": [
    "print(\"\\3000\")"
   ]
  },
  {
   "cell_type": "code",
   "execution_count": 129,
   "id": "bf0eff6f-3d8c-4548-9afd-e3f0ff764265",
   "metadata": {},
   "outputs": [
    {
     "name": "stdout",
     "output_type": "stream",
     "text": [
      ".\n"
     ]
    }
   ],
   "source": [
    "print(\"\\56\")"
   ]
  },
  {
   "cell_type": "code",
   "execution_count": 131,
   "id": "4c37b97a-2810-4e06-b5a5-bed811571fc2",
   "metadata": {},
   "outputs": [
    {
     "ename": "SyntaxError",
     "evalue": "unterminated string literal (detected at line 1) (4138952293.py, line 1)",
     "output_type": "error",
     "traceback": [
      "\u001b[1;36m  Cell \u001b[1;32mIn[131], line 1\u001b[1;36m\u001b[0m\n\u001b[1;33m    print('\\')\u001b[0m\n\u001b[1;37m          ^\u001b[0m\n\u001b[1;31mSyntaxError\u001b[0m\u001b[1;31m:\u001b[0m unterminated string literal (detected at line 1)\n"
     ]
    }
   ],
   "source": [
    "print('\\')"
   ]
  },
  {
   "cell_type": "code",
   "execution_count": 141,
   "id": "86ec70c4-619a-4070-925e-2c7c0ed79391",
   "metadata": {},
   "outputs": [
    {
     "name": "stdout",
     "output_type": "stream",
     "text": [
      "Hello world\n",
      "How many people are living on the earth?\n"
     ]
    }
   ],
   "source": [
    "print(\"Hello world\\nHow many people are living on the earth?\") # \\n New Line"
   ]
  },
  {
   "cell_type": "code",
   "execution_count": 143,
   "id": "36dda026-2bbe-405d-856b-e0b53088432a",
   "metadata": {},
   "outputs": [
    {
     "name": "stdout",
     "output_type": "stream",
     "text": [
      "Hello world\tHow many people are living on the earth?\n"
     ]
    }
   ],
   "source": [
    "print(\"Hello world\\tHow many people are living on the earth?\") # \\n New Line"
   ]
  },
  {
   "cell_type": "markdown",
   "id": "29e7e503-7160-4012-81a2-f7793904a242",
   "metadata": {},
   "source": [
    "### 🔹 Common Escape Sequence Characters in Python\n",
    "\n",
    "| Escape Sequence | Meaning                    | Example Output                                  |\n",
    "| --------------- | -------------------------- | ----------------------------------------------- |\n",
    "| `\\n`            | Newline                    | `\"Hello\\nWorld\"` → <br>`Hello`<br>`World`       |\n",
    "| `\\t`            | Tab (horizontal)           | `\"Hello\\tWorld\"` → `Hello    World`             |\n",
    "| `\\\\`            | Backslash (`\\`)            | `\"C:\\\\Users\"` → `C:\\Users`                      |\n",
    "| `\\'`            | Single quote (`'`)         | `'It\\'s OK'` → `It's OK`                        |\n",
    "| `\\\"`            | Double quote (`\"`)         | `\"He said, \\\"Hi\\\"\"` → `He said, \"Hi\"`           |\n",
    "| `\\r`            | Carriage return            | `\"Hello\\rWorld\"` → `World` (overwrites `Hello`) |\n",
    "| `\\b`            | Backspace                  | `\"Helloo\\b\"` → `Hello`                          |\n",
    "| `\\f`            | Form feed                  | Used less frequently in modern usage            |\n",
    "| `\\a`            | Bell/alert (may beep)      | Depends on system speaker                       |\n",
    "| `\\N{name}`      | Unicode character by name  | `\\N{RIGHTWARDS ARROW}` → `→`                    |\n",
    "| `\\uXXXX`        | Unicode character (16-bit) | `\\u2192` → `→`                                  |\n",
    "| `\\UXXXXXXXX`    | Unicode character (32-bit) | `\\U0001F600` → 😀                               |\n",
    "| `\\ooo`          | Octal value                | `\\101` → `A`                                    |\n",
    "| `\\xhh`          | Hexadecimal value          | `\\x41` → `A`                                    |\n",
    "\n",
    "\n"
   ]
  },
  {
   "cell_type": "code",
   "execution_count": null,
   "id": "3b47d02a-91fc-4932-ab27-7ce7d28ed589",
   "metadata": {},
   "outputs": [],
   "source": [
    "# String Operations\n",
    "\n",
    "msg = 'hello world'"
   ]
  }
 ],
 "metadata": {
  "kernelspec": {
   "display_name": "Python 3 (ipykernel)",
   "language": "python",
   "name": "python3"
  },
  "language_info": {
   "codemirror_mode": {
    "name": "ipython",
    "version": 3
   },
   "file_extension": ".py",
   "mimetype": "text/x-python",
   "name": "python",
   "nbconvert_exporter": "python",
   "pygments_lexer": "ipython3",
   "version": "3.12.4"
  }
 },
 "nbformat": 4,
 "nbformat_minor": 5
}
