{
 "cells": [
  {
   "cell_type": "markdown",
   "id": "6b1c28d6-27ab-4c4e-97e5-f18573099b7d",
   "metadata": {},
   "source": [
    "# 21. Json in Python \n",
    "\n",
    " * __Import json__\n",
    " * __dictionary(object) -->JSONString__\n",
    " * __json.dumps(python_dictionary)__\n",
    " * __pretty print: json.dumps(python_dict,indent=4)__\n",
    " * __Sort keys: json.dumps(python_dict, sort_key=True)__\n",
    " * __JSON string ---> Dictionary [object]__\n",
    " * __json.loads(json string)__\n",
    " * __file Write(dict --> JSON file)__\n",
    " * __json.dump(python_dict, open(\"file.json\",'w'))__\n",
    " * __fileread: (JSON File ---> Dictionary):__\n",
    " * __json.load(open('file.json'))__\n",
    " * __Custom encoding: json.dumps(obj,default=str)__\n",
    " * __Ensure ASCII(default=True):__\n",
    " * __json.dumps(python_dictionary, ensure_ascii=False)__\n",
    " * __compact(no spaces): json.dumps(python_dict, separators=(',',':')__))"
   ]
  },
  {
   "cell_type": "code",
   "execution_count": 3,
   "id": "4145f46b-29ec-4976-9fcf-39d634817996",
   "metadata": {},
   "outputs": [
    {
     "name": "stdout",
     "output_type": "stream",
     "text": [
      "{'name': 'Alice', 'Age': 25} <class 'dict'>\n"
     ]
    },
    {
     "data": {
      "text/plain": [
       "{'name': 'Asma Shayyad', 'Age': 25}"
      ]
     },
     "execution_count": 3,
     "metadata": {},
     "output_type": "execute_result"
    }
   ],
   "source": [
    "# 1). dictionary - JSON String [javascript object notation]\n",
    "\n",
    "data = {\n",
    "    \"name\":\"Alice\",\n",
    "    \"Age\":25\n",
    "}\n",
    "print(data,type(data))\n",
    "\n",
    "# change \n",
    "\n",
    "data['name'] = \"Asma Shayyad\"\n",
    "data"
   ]
  },
  {
   "cell_type": "code",
   "execution_count": 6,
   "id": "a3e8c729-6fb8-4050-83d3-cb9378225f60",
   "metadata": {},
   "outputs": [
    {
     "name": "stdout",
     "output_type": "stream",
     "text": [
      "{\"name\": \"Asma Shayyad\", \"Age\": 25} <class 'str'>\n"
     ]
    }
   ],
   "source": [
    "# object to string\n",
    "\n",
    "# dumps ---> object to string convert\n",
    "import json\n",
    "json_str = json.dumps(data)\n",
    "print(json_str,type(json_str))"
   ]
  },
  {
   "cell_type": "code",
   "execution_count": 10,
   "id": "441d4680-3057-4ce0-b6d5-d17e0f9a71b9",
   "metadata": {},
   "outputs": [
    {
     "data": {
      "text/plain": [
       "'{\"name\": \"Asma Shayyad\", \"Age\": 25}'"
      ]
     },
     "execution_count": 10,
     "metadata": {},
     "output_type": "execute_result"
    }
   ],
   "source": [
    "json_str"
   ]
  },
  {
   "cell_type": "code",
   "execution_count": 16,
   "id": "e2fe7706-ddc2-4c2f-8d00-ad5450a68835",
   "metadata": {},
   "outputs": [
    {
     "data": {
      "text/plain": [
       "'5'"
      ]
     },
     "execution_count": 16,
     "metadata": {},
     "output_type": "execute_result"
    }
   ],
   "source": [
    "json_str[-2]"
   ]
  },
  {
   "cell_type": "code",
   "execution_count": 17,
   "id": "3571226a-d3b3-4dc3-8c06-7526872f3da1",
   "metadata": {},
   "outputs": [
    {
     "data": {
      "text/plain": [
       "'{\"name\": \"Asma Shayyad\", \"Age\": 25}'"
      ]
     },
     "execution_count": 17,
     "metadata": {},
     "output_type": "execute_result"
    }
   ],
   "source": [
    "# string to dictionary\n",
    "json_str"
   ]
  },
  {
   "cell_type": "code",
   "execution_count": 19,
   "id": "d56aae08-64c9-450a-b7d5-c98534f35e6d",
   "metadata": {},
   "outputs": [
    {
     "name": "stdout",
     "output_type": "stream",
     "text": [
      "{\"name\":\"Bob\",\"age\":25, \"address\":\"Texas\"} <class 'str'>\n"
     ]
    }
   ],
   "source": [
    "stringValue = '{\"name\":\"Bob\",\"age\":25, \"address\":\"Texas\"}'\n",
    "print(stringValue,type(stringValue))"
   ]
  },
  {
   "cell_type": "code",
   "execution_count": 21,
   "id": "8c003bea-54f3-4c8a-9747-e9d1efd27fb8",
   "metadata": {},
   "outputs": [
    {
     "name": "stdout",
     "output_type": "stream",
     "text": [
      "{'name': 'Bob', 'age': 25, 'address': 'Texas'}\n"
     ]
    }
   ],
   "source": [
    "# JSON String - Object [Python Dictionary]\n",
    "# loads\n",
    "parsed = json.loads(stringValue)\n",
    "print(parsed)"
   ]
  },
  {
   "cell_type": "code",
   "execution_count": 28,
   "id": "9def04fd-7b77-40f7-8ae3-a2a3ea24d588",
   "metadata": {},
   "outputs": [
    {
     "name": "stdout",
     "output_type": "stream",
     "text": [
      "[{\"id\": 1, \"name\": \"Item 1\", \"price\": 10.5},{\"id\": 2, \"name\": \"Item 2\", \"price\": 20.0}]\n"
     ]
    }
   ],
   "source": [
    "x = '[{\"id\": 1, \"name\": \"Item 1\", \"price\": 10.5},{\"id\": 2, \"name\": \"Item 2\", \"price\": 20.0}]'\n",
    "print(x)"
   ]
  },
  {
   "cell_type": "code",
   "execution_count": 29,
   "id": "74bdc384-9330-4ea6-baab-c7755d0fb46a",
   "metadata": {},
   "outputs": [
    {
     "name": "stdout",
     "output_type": "stream",
     "text": [
      "[{'id': 1, 'name': 'Item 1', 'price': 10.5}, {'id': 2, 'name': 'Item 2', 'price': 20.0}]\n"
     ]
    }
   ],
   "source": [
    "# object \n",
    "\n",
    "object1 = json.loads(x)\n",
    "print(object1)"
   ]
  },
  {
   "cell_type": "code",
   "execution_count": 33,
   "id": "7fa9cc29-a1b9-4c91-9344-e526801e321f",
   "metadata": {},
   "outputs": [],
   "source": [
    "object1[0]['name'] = \"Apple\""
   ]
  },
  {
   "cell_type": "code",
   "execution_count": 34,
   "id": "fd873787-94e2-4c70-9740-749d01bde85c",
   "metadata": {},
   "outputs": [
    {
     "data": {
      "text/plain": [
       "[{'id': 1, 'name': 'Apple', 'price': 10.5},\n",
       " {'id': 2, 'name': 'Item 2', 'price': 20.0}]"
      ]
     },
     "execution_count": 34,
     "metadata": {},
     "output_type": "execute_result"
    }
   ],
   "source": [
    "object1"
   ]
  },
  {
   "cell_type": "code",
   "execution_count": 35,
   "id": "33658e1a-5e1b-4a90-ae37-6861257aa45b",
   "metadata": {},
   "outputs": [
    {
     "name": "stdout",
     "output_type": "stream",
     "text": [
      "[{\"id\": 1, \"name\": \"Apple\", \"price\": 10.5}, {\"id\": 2, \"name\": \"Item 2\", \"price\": 20.0}]\n"
     ]
    }
   ],
   "source": [
    "# string \n",
    "\n",
    "stringValue = json.dumps(object1)\n",
    "print(stringValue)"
   ]
  },
  {
   "cell_type": "code",
   "execution_count": 36,
   "id": "8d77fa02-3819-44c6-b818-6f9eb7de2a18",
   "metadata": {},
   "outputs": [],
   "source": [
    "dict1 = [{\"id\": 1, \"name\": \"Apple\", \"price\": 10.5}, {\"id\": 2, \"name\": \"Item 2\", \"price\": 20.0}]\n",
    "dict1[1]['name'] = 'Strawberry'"
   ]
  },
  {
   "cell_type": "code",
   "execution_count": 37,
   "id": "ba83462d-98d1-43d1-9340-6cfb207f4ada",
   "metadata": {},
   "outputs": [
    {
     "data": {
      "text/plain": [
       "[{'id': 1, 'name': 'Apple', 'price': 10.5},\n",
       " {'id': 2, 'name': 'Strawberry', 'price': 20.0}]"
      ]
     },
     "execution_count": 37,
     "metadata": {},
     "output_type": "execute_result"
    }
   ],
   "source": [
    "dict1"
   ]
  },
  {
   "cell_type": "code",
   "execution_count": 44,
   "id": "3aa12d4c-9cc7-43f5-9201-b8016120935c",
   "metadata": {},
   "outputs": [
    {
     "name": "stdout",
     "output_type": "stream",
     "text": [
      "[{'id': 1, 'name': 'Apple', 'price': 10.5}, {'id': 2, 'name': 'Item 2', 'price': 20.0}]\n",
      "[{'id': 1, 'name': 'Apple', 'price': 10.5}, {'id': 2, 'name': 'Strawberry', 'price': 20.0}]\n",
      "[\n",
      "    {\n",
      "        \"id\": 1,\n",
      "        \"name\": \"Apple\",\n",
      "        \"price\": 10.5\n",
      "    },\n",
      "    {\n",
      "        \"id\": 2,\n",
      "        \"name\": \"Strawberry\",\n",
      "        \"price\": 20.0\n",
      "    }\n",
      "]\n"
     ]
    }
   ],
   "source": [
    "import json\n",
    "x = '[{\"id\": 1, \"name\": \"Apple\", \"price\": 10.5}, {\"id\": 2, \"name\": \"Item 2\", \"price\": 20.0}]'\n",
    "y = json.loads(x)\n",
    "print(y)\n",
    "y[1][\"name\"] = \"Strawberry\"\n",
    "print(y)\n",
    "\n",
    "strValue = json.dumps(y, indent=4)\n",
    "print(strValue)"
   ]
  },
  {
   "cell_type": "code",
   "execution_count": 42,
   "id": "a19c71e6-6836-4dfe-8980-1c6670b0ac9a",
   "metadata": {},
   "outputs": [
    {
     "name": "stdout",
     "output_type": "stream",
     "text": [
      "[{'id': 1, 'name': 'Apple', 'price': 10.5}, {'id': 2, 'name': 'Strawberry', 'price': 20.0}]\n"
     ]
    }
   ],
   "source": [
    "import json\n",
    "dict1 = '[{\"id\": 1, \"name\": \"Apple\", \"price\": 10.5}, {\"id\": 2, \"name\": \"Item 2\", \"price\": 20.0}]'\n",
    "addValue = json.loads(dict1)\n",
    "addValue[1][\"name\"] = \"Strawberry\"\n",
    "print(addValue)"
   ]
  },
  {
   "cell_type": "code",
   "execution_count": 43,
   "id": "34dbf655-189f-4935-8ada-728cb0371a02",
   "metadata": {},
   "outputs": [
    {
     "name": "stdout",
     "output_type": "stream",
     "text": [
      "{'name': 'Alice', 'Age': 25} <class 'dict'>\n"
     ]
    }
   ],
   "source": [
    "data = {\n",
    "    \"name\":\"Alice\",\n",
    "    \"Age\":25\n",
    "}\n",
    "print(data,type(data))"
   ]
  },
  {
   "cell_type": "code",
   "execution_count": 48,
   "id": "508d5088-a88d-4a6c-b1e7-c08798821ada",
   "metadata": {},
   "outputs": [
    {
     "name": "stdout",
     "output_type": "stream",
     "text": [
      "[{'id': 1, 'name': 'Apple', 'price': 10.5}, {'id': 2, 'name': 'Strawberry', 'price': 20.0}]\n",
      "[\n",
      "    {\n",
      "        \"id\": 1,\n",
      "        \"name\": \"Apple\",\n",
      "        \"price\": 10.5\n",
      "    },\n",
      "    {\n",
      "        \"id\": 2,\n",
      "        \"name\": \"Strawberry\",\n",
      "        \"price\": 20.0\n",
      "    }\n",
      "]\n"
     ]
    }
   ],
   "source": [
    "import json\n",
    "x = '[{\"id\": 1, \"name\": \"Apple\", \"price\": 10.5}, {\"id\": 2, \"name\": \"Item 2\", \"price\": 20.0}]'\n",
    "y = json.loads(x)\n",
    "# print(y)\n",
    "y[1][\"name\"] = \"Strawberry\"\n",
    "print(y)\n",
    "\n",
    "strValue = json.dumps(y, indent=4, sort_keys=True)\n",
    "print(strValue)"
   ]
  },
  {
   "cell_type": "code",
   "execution_count": 51,
   "id": "ee2b90e8-5640-4575-8d0c-f41348772e88",
   "metadata": {},
   "outputs": [
    {
     "name": "stdout",
     "output_type": "stream",
     "text": [
      "{'name': 'Alice', 'Age': 25, 'Address': 'Texas', 'email': 'alice00@gmail.com', 'phoneNo': 151654654} <class 'dict'>\n"
     ]
    }
   ],
   "source": [
    "# Writing json file \n",
    "\n",
    "data = {\n",
    "    \"name\":\"Alice\",\n",
    "    \"Age\":25,\n",
    "    \"Address\":\"Texas\",\n",
    "    \"email\":\"alice00@gmail.com\",\n",
    "    'phoneNo':151654654\n",
    "}\n",
    "print(data,type(data))\n",
    "\n",
    "\n",
    "json.dump(data, open('file.json','w'))"
   ]
  },
  {
   "cell_type": "code",
   "execution_count": 52,
   "id": "06ab8f88-1a0b-405c-a3d9-ee2dfa8fc6ba",
   "metadata": {},
   "outputs": [
    {
     "data": {
      "text/plain": [
       "{'name': 'Alice',\n",
       " 'Age': 25,\n",
       " 'Address': 'Texas',\n",
       " 'email': 'alice00@gmail.com',\n",
       " 'phoneNo': 151654654}"
      ]
     },
     "execution_count": 52,
     "metadata": {},
     "output_type": "execute_result"
    }
   ],
   "source": [
    "# read json file.\n",
    "\n",
    "json.load(open(\"file.json\"))"
   ]
  },
  {
   "cell_type": "code",
   "execution_count": 54,
   "id": "06ac2272-623e-49d7-9213-8aaaebcb4635",
   "metadata": {},
   "outputs": [
    {
     "data": {
      "text/plain": [
       "[{'id': 1, 'name': 'Item 1', 'price': 6.5},\n",
       " {'id': 2, 'name': 'Item 2', 'price': 8.0},\n",
       " {'id': 3, 'name': 'Item 3', 'price': 9.5},\n",
       " {'id': 4, 'name': 'Item 4', 'price': 11.0},\n",
       " {'id': 5, 'name': 'Item 5', 'price': 12.5},\n",
       " {'id': 6, 'name': 'Item 6', 'price': 14.0},\n",
       " {'id': 7, 'name': 'Item 7', 'price': 15.5},\n",
       " {'id': 8, 'name': 'Item 8', 'price': 17.0},\n",
       " {'id': 9, 'name': 'Item 9', 'price': 18.5},\n",
       " {'id': 10, 'name': 'Item 10', 'price': 20.0},\n",
       " {'id': 11, 'name': 'Item 11', 'price': 21.5},\n",
       " {'id': 12, 'name': 'Item 12', 'price': 23.0},\n",
       " {'id': 13, 'name': 'Item 13', 'price': 24.5},\n",
       " {'id': 14, 'name': 'Item 14', 'price': 26.0},\n",
       " {'id': 15, 'name': 'Item 15', 'price': 27.5},\n",
       " {'id': 16, 'name': 'Item 16', 'price': 29.0},\n",
       " {'id': 17, 'name': 'Item 17', 'price': 30.5},\n",
       " {'id': 18, 'name': 'Item 18', 'price': 32.0},\n",
       " {'id': 19, 'name': 'Item 19', 'price': 33.5},\n",
       " {'id': 20, 'name': 'Item 20', 'price': 35.0},\n",
       " {'id': 21, 'name': 'Item 21', 'price': 36.5},\n",
       " {'id': 22, 'name': 'Item 22', 'price': 38.0},\n",
       " {'id': 23, 'name': 'Item 23', 'price': 39.5},\n",
       " {'id': 24, 'name': 'Item 24', 'price': 41.0},\n",
       " {'id': 25, 'name': 'Item 25', 'price': 42.5},\n",
       " {'id': 26, 'name': 'Item 26', 'price': 44.0},\n",
       " {'id': 27, 'name': 'Item 27', 'price': 45.5},\n",
       " {'id': 28, 'name': 'Item 28', 'price': 47.0},\n",
       " {'id': 29, 'name': 'Item 29', 'price': 48.5},\n",
       " {'id': 30, 'name': 'Item 30', 'price': 50.0}]"
      ]
     },
     "execution_count": 54,
     "metadata": {},
     "output_type": "execute_result"
    }
   ],
   "source": [
    "objectVal = json.load(open(\"C:\\\\Users\\\\User\\\\Downloads\\\\sample.json\"))\n",
    "objectVal"
   ]
  },
  {
   "cell_type": "code",
   "execution_count": 56,
   "id": "b33f7a47-596c-4c7f-b24b-9498bb3c8c35",
   "metadata": {},
   "outputs": [],
   "source": [
    "objectVal[0]['name'] = \"Apple\""
   ]
  },
  {
   "cell_type": "code",
   "execution_count": 57,
   "id": "7bcc55f9-875f-49c8-8ea9-015476fa5e53",
   "metadata": {},
   "outputs": [
    {
     "data": {
      "text/plain": [
       "[{'id': 1, 'name': 'Apple', 'price': 6.5},\n",
       " {'id': 2, 'name': 'Item 2', 'price': 8.0},\n",
       " {'id': 3, 'name': 'Item 3', 'price': 9.5},\n",
       " {'id': 4, 'name': 'Item 4', 'price': 11.0},\n",
       " {'id': 5, 'name': 'Item 5', 'price': 12.5},\n",
       " {'id': 6, 'name': 'Item 6', 'price': 14.0},\n",
       " {'id': 7, 'name': 'Item 7', 'price': 15.5},\n",
       " {'id': 8, 'name': 'Item 8', 'price': 17.0},\n",
       " {'id': 9, 'name': 'Item 9', 'price': 18.5},\n",
       " {'id': 10, 'name': 'Item 10', 'price': 20.0},\n",
       " {'id': 11, 'name': 'Item 11', 'price': 21.5},\n",
       " {'id': 12, 'name': 'Item 12', 'price': 23.0},\n",
       " {'id': 13, 'name': 'Item 13', 'price': 24.5},\n",
       " {'id': 14, 'name': 'Item 14', 'price': 26.0},\n",
       " {'id': 15, 'name': 'Item 15', 'price': 27.5},\n",
       " {'id': 16, 'name': 'Item 16', 'price': 29.0},\n",
       " {'id': 17, 'name': 'Item 17', 'price': 30.5},\n",
       " {'id': 18, 'name': 'Item 18', 'price': 32.0},\n",
       " {'id': 19, 'name': 'Item 19', 'price': 33.5},\n",
       " {'id': 20, 'name': 'Item 20', 'price': 35.0},\n",
       " {'id': 21, 'name': 'Item 21', 'price': 36.5},\n",
       " {'id': 22, 'name': 'Item 22', 'price': 38.0},\n",
       " {'id': 23, 'name': 'Item 23', 'price': 39.5},\n",
       " {'id': 24, 'name': 'Item 24', 'price': 41.0},\n",
       " {'id': 25, 'name': 'Item 25', 'price': 42.5},\n",
       " {'id': 26, 'name': 'Item 26', 'price': 44.0},\n",
       " {'id': 27, 'name': 'Item 27', 'price': 45.5},\n",
       " {'id': 28, 'name': 'Item 28', 'price': 47.0},\n",
       " {'id': 29, 'name': 'Item 29', 'price': 48.5},\n",
       " {'id': 30, 'name': 'Item 30', 'price': 50.0}]"
      ]
     },
     "execution_count": 57,
     "metadata": {},
     "output_type": "execute_result"
    }
   ],
   "source": [
    "objectVal"
   ]
  },
  {
   "cell_type": "code",
   "execution_count": 60,
   "id": "c934a3c9-6f36-477d-9488-ec42e34b2abb",
   "metadata": {},
   "outputs": [],
   "source": [
    "json.dump(objectVal,open(\"jsonString.json\",\"w\"), indent=4)"
   ]
  },
  {
   "cell_type": "code",
   "execution_count": 63,
   "id": "d2844175-be84-4b86-9a5e-853a5eb4dadf",
   "metadata": {},
   "outputs": [
    {
     "data": {
      "text/plain": [
       "'{\\n    \"name\": \"Alice\",\\n    \"Age\": 25,\\n    \"Address\": \"Texas\",\\n    \"email\": \"alice00@gmail.com\",\\n    \"phoneNo\": 151654654\\n}'"
      ]
     },
     "execution_count": 63,
     "metadata": {},
     "output_type": "execute_result"
    }
   ],
   "source": [
    "# pretty print \n",
    "\n",
    "json.dumps(data, indent=4, sort_keys=False)"
   ]
  },
  {
   "cell_type": "code",
   "execution_count": 67,
   "id": "c3bd4ae0-8767-430f-b36e-31dc24906c3c",
   "metadata": {},
   "outputs": [
    {
     "data": {
      "text/plain": [
       "'{\"name\":\"Alice\",\"Age\":25,\"Address\":\"Texas\",\"email\":\"alice00@gmail.com\",\"phoneNo\":151654654}'"
      ]
     },
     "execution_count": 67,
     "metadata": {},
     "output_type": "execute_result"
    }
   ],
   "source": [
    "# compact JSON\n",
    "\n",
    "json.dumps(data, separators=(',',':'))"
   ]
  },
  {
   "cell_type": "code",
   "execution_count": 68,
   "id": "40c0a9cc-5429-4644-9229-18f5c1be6ebe",
   "metadata": {},
   "outputs": [
    {
     "data": {
      "text/plain": [
       "'{\"name\": \"Alice\", \"Age\": 25, \"Address\": \"Texas\", \"email\": \"alice00@gmail.com\", \"phoneNo\": 151654654}'"
      ]
     },
     "execution_count": 68,
     "metadata": {},
     "output_type": "execute_result"
    }
   ],
   "source": [
    "# Custom encondong\n",
    "\n",
    "json.dumps(data, default=str)"
   ]
  },
  {
   "cell_type": "code",
   "execution_count": null,
   "id": "cf1d17b6-f415-4d1f-a040-ba55538839b4",
   "metadata": {},
   "outputs": [],
   "source": []
  },
  {
   "cell_type": "code",
   "execution_count": null,
   "id": "e220b013-35a9-43e3-8c48-24bdd6009c8b",
   "metadata": {},
   "outputs": [],
   "source": []
  }
 ],
 "metadata": {
  "kernelspec": {
   "display_name": "Python 3 (ipykernel)",
   "language": "python",
   "name": "python3"
  },
  "language_info": {
   "codemirror_mode": {
    "name": "ipython",
    "version": 3
   },
   "file_extension": ".py",
   "mimetype": "text/x-python",
   "name": "python",
   "nbconvert_exporter": "python",
   "pygments_lexer": "ipython3",
   "version": "3.13.7"
  }
 },
 "nbformat": 4,
 "nbformat_minor": 5
}
