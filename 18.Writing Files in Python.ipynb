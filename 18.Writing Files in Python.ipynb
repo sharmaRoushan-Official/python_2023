{
 "cells": [
  {
   "cell_type": "markdown",
   "id": "77063e9f-ac80-4ed4-b13a-115675a7de25",
   "metadata": {},
   "source": [
    "# 18. Writing Files in Python\n",
    "\n",
    "**To write a text file in Python, you follow these steps:**\n",
    "1. Open the text file for writing (or appending) using the `open()` function.  \n",
    "2. Write to the text file using `write()` or `writelines()` method.  \n",
    "3. Close the file using the `close()` method.  \n",
    "\n",
    "---\n",
    "\n",
    "## File Open Modes and Their Functions\n",
    "\n",
    "| Characters | Functions |\n",
    "|------------|-----------|\n",
    "| `'r'`   | Open file for reading only. Starts reading from the beginning of the file. This is the default mode. |\n",
    "| `'rb'`  | Open file for reading only in binary format. Starts reading from the beginning of the file. |\n",
    "| `'r+'`  | Open file for both reading and writing. File pointer is placed at the beginning of the file. |\n",
    "| `'w'`   | Open file for writing only. File pointer is placed at the beginning of the file. Overwrites an existing file or creates a new one if it does not exist. |\n",
    "| `'a'`   | Open file for appending. Starts writing at the end of the file. Creates a new file if it does not exist. |\n",
    "| `'ab'`  | Same as `'a'` but in binary format. Creates a new file if it does not exist. |\n",
    "| `'ab+'` | Same as `'ab'` but also opens the file for reading. |\n"
   ]
  },
  {
   "cell_type": "code",
   "execution_count": 4,
   "id": "37d5d85c-4287-42bc-b472-1201cb7257a1",
   "metadata": {},
   "outputs": [],
   "source": [
    "x = \"C:\\\\Users\\\\User\\\\Desktop\\\\ashma.txt\"\n",
    "\n",
    "with open(x, 'w') as f:\n",
    "    f.write('My name is Ashma Shayyad.\\n')\n",
    "    f.write(\"My favoriate food is Biryani.\\n\")\n",
    "    f.write(\"I am 20 years old.\")"
   ]
  },
  {
   "cell_type": "code",
   "execution_count": 11,
   "id": "2604f553-6dd0-47b9-85dc-893d1cb555ad",
   "metadata": {},
   "outputs": [
    {
     "name": "stdout",
     "output_type": "stream",
     "text": [
      "Biryani is my favoriate food.Biryani is my favoriate food.Biryani is my favoriate food.\n",
      "Biryani is my favoriate food.\n",
      "Biryani is my favoriate food.\n",
      "\n"
     ]
    }
   ],
   "source": [
    "# reading the file\n",
    "\n",
    "with open(x, 'r') as y:\n",
    "    print(y.read())"
   ]
  },
  {
   "cell_type": "code",
   "execution_count": 10,
   "id": "be9bfc8f-9b8a-4ce0-8754-f67f0f0c55e8",
   "metadata": {},
   "outputs": [],
   "source": [
    "x = \"C:\\\\Users\\\\User\\\\Desktop\\\\ashma.txt\"\n",
    "\n",
    "with open(x, 'a') as f:\n",
    "    f.write(\"Biryani is my favoriate food.\\n\")"
   ]
  },
  {
   "cell_type": "code",
   "execution_count": 26,
   "id": "e9e3f22d-5fab-4584-99c8-960f7b60f353",
   "metadata": {},
   "outputs": [
    {
     "name": "stdin",
     "output_type": "stream",
     "text": [
      "Enter your file Name:  12\n"
     ]
    },
    {
     "name": "stdout",
     "output_type": "stream",
     "text": [
      "C:\\Users\\User\\Desktop\\12.txt\n"
     ]
    },
    {
     "name": "stdin",
     "output_type": "stream",
     "text": [
      "Enter number of lines value:  cat\n"
     ]
    },
    {
     "ename": "ValueError",
     "evalue": "invalid literal for int() with base 10: 'cat'",
     "output_type": "error",
     "traceback": [
      "\u001b[31m---------------------------------------------------------------------------\u001b[39m",
      "\u001b[31mValueError\u001b[39m                                Traceback (most recent call last)",
      "\u001b[36mCell\u001b[39m\u001b[36m \u001b[39m\u001b[32mIn[26]\u001b[39m\u001b[32m, line 8\u001b[39m\n\u001b[32m      5\u001b[39m \u001b[38;5;28mprint\u001b[39m(completeFileName)\n\u001b[32m      7\u001b[39m \u001b[38;5;28;01mwith\u001b[39;00m \u001b[38;5;28mopen\u001b[39m(completeFileName, \u001b[33m'\u001b[39m\u001b[33mw\u001b[39m\u001b[33m'\u001b[39m) \u001b[38;5;28;01mas\u001b[39;00m f:\n\u001b[32m----> \u001b[39m\u001b[32m8\u001b[39m     endPoint = \u001b[38;5;28;43mint\u001b[39;49m\u001b[43m(\u001b[49m\u001b[38;5;28;43minput\u001b[39;49m\u001b[43m(\u001b[49m\u001b[33;43mf\u001b[39;49m\u001b[33;43m\"\u001b[39;49m\u001b[33;43mEnter number of lines value: \u001b[39;49m\u001b[33;43m\"\u001b[39;49m\u001b[43m)\u001b[49m\u001b[43m)\u001b[49m  \u001b[38;5;66;03m# 5\u001b[39;00m\n\u001b[32m      9\u001b[39m     \u001b[38;5;28;01mfor\u001b[39;00m i \u001b[38;5;129;01min\u001b[39;00m \u001b[38;5;28mrange\u001b[39m(\u001b[32m1\u001b[39m,endPoint+\u001b[32m1\u001b[39m):\n\u001b[32m     10\u001b[39m         data = \u001b[38;5;28minput\u001b[39m(\u001b[33mf\u001b[39m\u001b[33m\"\u001b[39m\u001b[33mEnter your text here \u001b[39m\u001b[38;5;132;01m{\u001b[39;00mi\u001b[38;5;132;01m}\u001b[39;00m\u001b[33m: \u001b[39m\u001b[33m\"\u001b[39m)\n",
      "\u001b[31mValueError\u001b[39m: invalid literal for int() with base 10: 'cat'"
     ]
    }
   ],
   "source": [
    "# user takes the number of lines and write about it something\n",
    "fileName = input(\"Enter your file Name: \")  # shankarshan\n",
    "\n",
    "completeFileName = \"C:\\\\Users\\\\User\\\\Desktop\\\\\"+fileName+\".txt\"  # number value can't be accepted.\n",
    "print(completeFileName)\n",
    "\n",
    "with open(completeFileName, 'w') as f:\n",
    "    endPoint = int(input(f\"Enter number of lines value: \"))  # 5  # Character value can't be accepted.\n",
    "    for i in range(1,endPoint+1):\n",
    "        data = input(f\"Enter your text here {i}: \")    # number value can't be accepted.\n",
    "        # f.write(str(i)+\".\"+data)\n",
    "        f.write(f\"{i}.{data.upper()}\")\n",
    "        f.write('\\n')  \n",
    "    print(f'File Generated Successfully')   # Add: Count total number of words, total number of characters with space and without space."
   ]
  },
  {
   "cell_type": "code",
   "execution_count": null,
   "id": "5ee6a1e7-1c19-4584-b8da-31c3074d614e",
   "metadata": {},
   "outputs": [],
   "source": [
    "# user takes the number of lines and write about it something\n",
    "fileName = input(\"Enter your file Name: \")  # shankarshan\n",
    "\n",
    "completeFileName = \"C:\\\\Users\\\\User\\\\Desktop\\\\\"+fileName+\".txt\"  # number value can't be accepted.\n",
    "print(completeFileName)\n",
    "\n",
    "with open(completeFileName, 'w') as f:\n",
    "    endPoint = int(input(f\"Enter number of lines value: \"))  # 5  # Character value can't be accepted.\n",
    "    for i in range(1,endPoint+1):\n",
    "        data = input(f\"Enter your text here {i}: \")    # number value can't be accepted.\n",
    "        # f.write(str(i)+\".\"+data)\n",
    "        f.write(f\"{i}.{data.upper()}\")\n",
    "        f.write('\\n')  \n",
    "    print(f'File Generated Successfully')   # Add: Count total number of words, total number of characters with space and without space."
   ]
  },
  {
   "cell_type": "code",
   "execution_count": 30,
   "id": "0c3db09f-e6a0-4664-9dd7-dc475337610b",
   "metadata": {},
   "outputs": [
    {
     "name": "stdin",
     "output_type": "stream",
     "text": [
      "Enter the file name:  shankarshan\n",
      "Enter the no of line:  2\n",
      "Write the line{i}:  cat\n",
      "Write the line{i}:  mat\n"
     ]
    },
    {
     "name": "stdout",
     "output_type": "stream",
     "text": [
      "success!\n",
      "number of word:  2\n",
      "total char with space 8\n",
      "total char without space 8\n"
     ]
    }
   ],
   "source": [
    "try:\n",
    "    fileName = input(\"Enter the file name: \")\n",
    "except ValueError:\n",
    "    print(\"First Charectar cannot be integer!\")\n",
    "else:\n",
    "    complete = \"C:\\\\Users\\\\User\\\\Desktop\\\\\"+fileName+\".txt\"\n",
    "    with open(complete, \"w\") as f:\n",
    "        try:\n",
    "            endpoint = int(input(\"Enter the no of line: \"))\n",
    "        except ValueError:\n",
    "            print(\"Charecters are not accepted\")\n",
    "        else:    \n",
    "            for i in range(endpoint):\n",
    "                try: \n",
    "                    data = input(\"Write the line{i}: \")\n",
    "                except ValueError:\n",
    "                    print(\"Number value cannot be accepted!\")\n",
    "                else:\n",
    "                    f.write(f\"{data}\")\n",
    "                    f.write(\"\\n\")\n",
    "            print(\"success!\")\n",
    "with open(complete, \"r\") as x:\n",
    "    data= x.read()\n",
    "    count = 0\n",
    "    char = 0\n",
    "    space = 0\n",
    "    for i in data.split():\n",
    "        count += 1\n",
    "    print(\"number of word: \",count)\n",
    "    for i in data:\n",
    "        if i == \" \":\n",
    "            space += 1\n",
    "        char += 1\n",
    "    print(\"total char with space\",char)\n",
    "    print(\"total char without space\",char-space)"
   ]
  },
  {
   "cell_type": "code",
   "execution_count": 35,
   "id": "2ede8240-9772-4f60-bf7d-dae3b6ae1d8a",
   "metadata": {},
   "outputs": [
    {
     "name": "stdin",
     "output_type": "stream",
     "text": [
      "Enter the file name:  ahsma\n",
      "Enter the no of line:  6\n",
      "Write the line 1:  cat \n",
      "Write the line 2:  mat\n",
      "Write the line 3:  rat\n",
      "Write the line 4:  dog\n",
      "Write the line 5:  elephant\n",
      "Write the line 6:  cow \n"
     ]
    },
    {
     "name": "stdout",
     "output_type": "stream",
     "text": [
      "success!\n",
      "number of word:  6\n",
      "total char with space: 31\n",
      "total char without space:  29\n"
     ]
    }
   ],
   "source": [
    "try:\n",
    "    fileName = input(\"Enter the file name: \")\n",
    "except ValueError:\n",
    "    print(\"First Charectar cannot be integer!\")\n",
    "else:\n",
    "    complete = \"C:\\\\Users\\\\User\\\\Desktop\\\\\"+fileName+\".txt\"\n",
    "    with open(complete, \"w\") as f:\n",
    "        try:\n",
    "            endpoint = int(input(\"Enter the no of line: \"))\n",
    "        except ValueError:\n",
    "            print(\"Charecters are not accepted\")\n",
    "        else:    \n",
    "            for i in range(1,endpoint+1):\n",
    "                try: \n",
    "                    data = input(f\"Write the line {i}: \")\n",
    "                except ValueError:\n",
    "                    print(\"Number value cannot be accepted!\")\n",
    "                else:\n",
    "                    f.write(data)\n",
    "                    f.write(\"\\n\")\n",
    "            print(\"success!\")\n",
    "    with open(complete, \"r\") as x:\n",
    "        data= x.read()\n",
    "        count = 0\n",
    "        char = 0\n",
    "        space = 0\n",
    "        for i in data.split():\n",
    "            count += 1\n",
    "        print(\"number of word: \",count)\n",
    "        for i in data:\n",
    "            if i == \" \":\n",
    "                space += 1\n",
    "            char += 1\n",
    "        print(\"total char with space:\",char)\n",
    "        print(\"total char without space: \",char-space)\n",
    "    with open(complete, \"a\") as a:\n",
    "        a.write(f\"number of word: {count}\\n\")\n",
    "        a.write(f\"total char with space {char}\\n\")\n",
    "        a.write(f\"total char without space {char-space}\")"
   ]
  },
  {
   "cell_type": "code",
   "execution_count": 45,
   "id": "ea549c91-e8e7-4308-bfdf-a63ee9bb88a2",
   "metadata": {},
   "outputs": [
    {
     "name": "stdin",
     "output_type": "stream",
     "text": [
      "Enter your file Name  12\n"
     ]
    },
    {
     "name": "stdout",
     "output_type": "stream",
     "text": [
      "12 is Invalid. Enter a correct File Name.\n"
     ]
    },
    {
     "name": "stdin",
     "output_type": "stream",
     "text": [
      "Enter your file Name  ashma\n"
     ]
    },
    {
     "name": "stdout",
     "output_type": "stream",
     "text": [
      "File Name Accepted: \n",
      "C:\\Users\\User\\Desktop\\ashma.txt\n"
     ]
    },
    {
     "name": "stdin",
     "output_type": "stream",
     "text": [
      "Enter number of lines value:  1\n",
      "Enter your text here 1:  Biryani (/bɜːrˈjɑːni/) is a mixed rice dish originating in South Asia, traditionally made with rice, meat (chicken, goat, lamb, beef) or seafood (prawns or fish), and spices.  Biryani is one of the most popular dishes in South Asia and among the South Asian diaspora, though the dish is often associated with the region's Muslim population in particular.[1] Regional variations exist, such as regarding the addition of eggs and/or potatoes, as well as religious ones, such as the replacement of meat with paneer or vegetables by vegetarians.[2] Similar dishes are also prepared in many other countries like Iraq and Malaysia, and was often spread to such places by South Asian diaspora populations.[3][4] Biryani is the single most-ordered dish on Indian online food ordering and delivery services, and has been described as the most popular dish in India.\n"
     ]
    },
    {
     "name": "stdout",
     "output_type": "stream",
     "text": [
      "Error: Number value can't be accepted in file name. Please enter letters only.\n"
     ]
    },
    {
     "name": "stdin",
     "output_type": "stream",
     "text": [
      "Enter your text here 1:  stop\n"
     ]
    },
    {
     "name": "stdout",
     "output_type": "stream",
     "text": [
      "File Generated Successfully!\n"
     ]
    }
   ],
   "source": [
    "while True:\n",
    "    try:\n",
    "        fileName = input(\"Enter your file Name \")  # number value can't be accepted.\n",
    "        if fileName.isalpha():\n",
    "            print(f\"File Name Accepted: \")\n",
    "            break\n",
    "        else:\n",
    "            print(f\"{fileName} is Invalid. Enter a correct File \")\n",
    "    #     for ch in fileName:\n",
    "    #         if ch.isdigit():\n",
    "    #             raise ValueError \n",
    "    #     break\n",
    "    except ValueError:  \n",
    "        print(\"Error: Number value can't be accepted in file name. Please enter letters only.\")\n",
    "\n",
    "completeFileName = \"C:\\\\Users\\\\User\\\\Desktop\\\\\" + fileName + \".txt\"\n",
    "print(completeFileName)\n",
    "\n",
    "with open(completeFileName, 'w') as f:\n",
    "    while True:\n",
    "        try:\n",
    "            endPoint = int(input(f\"Enter number of lines value: \"))  # Character value can't be accepted.\n",
    "            break\n",
    "        except ValueError:\n",
    "            print(\"Error: Character value can't be accepted. Please enter numbers only.\")\n",
    "\n",
    "    total_words = 0\n",
    "    total_with_space = 0\n",
    "    total_without_space = 0\n",
    "\n",
    "    for i in range(1, endPoint + 1):\n",
    "        while True:\n",
    "            try:\n",
    "                data = input(f\"Enter your text here {i}: \")  # number value can't be accepted.\n",
    "                for ch in data:\n",
    "                    if ch.isdigit():\n",
    "                        raise ValueError\n",
    "                break\n",
    "            except ValueError:\n",
    "                print(\"Error: Number value can't be accepted in file name. Please enter letters only.\")\n",
    "\n",
    "        f.write(f\"{i}.{data}\\n\")\n",
    "        \n",
    "        chars_with_space = 0\n",
    "        chars_without_space = 0\n",
    "        for ch in data:\n",
    "            chars_with_space += 1\n",
    "            if ch != \" \":\n",
    "                chars_without_space += 1\n",
    "        total_with_space += chars_with_space\n",
    "        total_without_space += chars_without_space\n",
    "\n",
    "        in_word = False\n",
    "        words = 0\n",
    "        for ch in data:\n",
    "            if ch != \" \" and not in_word:\n",
    "                in_word = True\n",
    "                words += 1\n",
    "            elif ch == \" \":\n",
    "                in_word = False\n",
    "                \n",
    "        total_words += words\n",
    "\n",
    "print(\"File Generated Successfully!\")\n",
    "with open(completeFileName, 'a') as f: \n",
    "    f.write(\"Total words: \" + str(total_words) + \"\\n\")\n",
    "    f.write(\"Total characters (with spaces): \" + str(total_with_space) + \"\\n\")\n",
    "    f.write(\"Total characters (without spaces): \" + str(total_without_space) + \"\\n\")"
   ]
  },
  {
   "cell_type": "code",
   "execution_count": 40,
   "id": "a58db7a5-9177-49db-a14e-bfcf37729142",
   "metadata": {},
   "outputs": [],
   "source": [
    "import string"
   ]
  },
  {
   "cell_type": "code",
   "execution_count": null,
   "id": "b9dee995-9f63-481c-9f76-45afd18018c4",
   "metadata": {},
   "outputs": [],
   "source": []
  },
  {
   "cell_type": "code",
   "execution_count": 53,
   "id": "3bfe36ac-cbbf-4124-a0df-e78b60964a4d",
   "metadata": {},
   "outputs": [
    {
     "name": "stdin",
     "output_type": "stream",
     "text": [
      "Enter the file name:  shankarshan\n",
      "Enter the no of line:  1\n",
      "Write the line1:  Filler text (also placeholder text or dummy text) is text that shares some characteristics of a real written text, but is random or otherwise generated. It may be used to display a sample of fonts, generate text for testing, or to spoof an e-mail spam filter. The process of using filler text is sometimes called greeking, although the text itself may be nonsense, or largely Latin, as in Lorem ipsum.\n"
     ]
    },
    {
     "name": "stdout",
     "output_type": "stream",
     "text": [
      "success!\n",
      "number of word:  70\n",
      "total char with space 401\n",
      "total char without space 332\n"
     ]
    }
   ],
   "source": [
    "try:\n",
    "    fileName = input(\"Enter the file name: \")\n",
    "except ValueError:\n",
    "    print(\"First Charectar cannot be integer!\")\n",
    "else:\n",
    "    complete = \"C:\\\\Users\\\\User\\\\Desktop\\\\\"+fileName+\".txt\"\n",
    "    with open(complete, \"w\") as f:\n",
    "        try:\n",
    "            endpoint = int(input(\"Enter the no of line: \"))\n",
    "        except ValueError:\n",
    "            print(\"Charecters are not accepted\")\n",
    "        else:    \n",
    "            for i in range(1, endpoint+1):\n",
    "                try: \n",
    "                    data = input(f\"Write the line{i}: \")\n",
    "                except ValueError:\n",
    "                    print(\"Number value cannot be accepted!\")\n",
    "                else:\n",
    "                    f.write(data)\n",
    "                    f.write(\"\\n\")\n",
    "            print(\"success!\")\n",
    "    with open(complete, \"r\") as x:\n",
    "        data= x.read()\n",
    "        count = 0\n",
    "        char = 0\n",
    "        space = 0\n",
    "        for i in data.split():\n",
    "            count += 1\n",
    "        print(\"number of word: \",count)\n",
    "        \n",
    "        for i in data:\n",
    "            if i not in [\"\\n\"]:\n",
    "                if i == \" \":\n",
    "                    space += 1\n",
    "                char += 1\n",
    "        print(\"total char with space\",char)\n",
    "        print(\"total char without space\",char-space)\n",
    "    with open(complete, \"a\",errors=\"ignore\") as a:\n",
    "        a.write(f\"number of word: {count}\\n\")\n",
    "        a.write(f\"total char with space {char}\\n\")\n",
    "        a.write(f\"total char without space {char-space}\\n\")"
   ]
  },
  {
   "cell_type": "code",
   "execution_count": null,
   "id": "7170bf67-4eda-4c30-85e5-bcf277bc05ab",
   "metadata": {},
   "outputs": [],
   "source": []
  }
 ],
 "metadata": {
  "kernelspec": {
   "display_name": "Python 3 (ipykernel)",
   "language": "python",
   "name": "python3"
  },
  "language_info": {
   "codemirror_mode": {
    "name": "ipython",
    "version": 3
   },
   "file_extension": ".py",
   "mimetype": "text/x-python",
   "name": "python",
   "nbconvert_exporter": "python",
   "pygments_lexer": "ipython3",
   "version": "3.13.7"
  }
 },
 "nbformat": 4,
 "nbformat_minor": 5
}
