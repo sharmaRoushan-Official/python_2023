{
 "cells": [
  {
   "cell_type": "markdown",
   "id": "77063e9f-ac80-4ed4-b13a-115675a7de25",
   "metadata": {},
   "source": [
    "# 18. Writing Files in Python\n",
    "\n",
    "**To write a text file in Python, you follow these steps:**\n",
    "1. Open the text file for writing (or appending) using the `open()` function.  \n",
    "2. Write to the text file using `write()` or `writelines()` method.  \n",
    "3. Close the file using the `close()` method.  \n",
    "\n",
    "---\n",
    "\n",
    "## File Open Modes and Their Functions\n",
    "\n",
    "| Characters | Functions |\n",
    "|------------|-----------|\n",
    "| `'r'`   | Open file for reading only. Starts reading from the beginning of the file. This is the default mode. |\n",
    "| `'rb'`  | Open file for reading only in binary format. Starts reading from the beginning of the file. |\n",
    "| `'r+'`  | Open file for both reading and writing. File pointer is placed at the beginning of the file. |\n",
    "| `'w'`   | Open file for writing only. File pointer is placed at the beginning of the file. Overwrites an existing file or creates a new one if it does not exist. |\n",
    "| `'a'`   | Open file for appending. Starts writing at the end of the file. Creates a new file if it does not exist. |\n",
    "| `'ab'`  | Same as `'a'` but in binary format. Creates a new file if it does not exist. |\n",
    "| `'ab+'` | Same as `'ab'` but also opens the file for reading. |\n"
   ]
  },
  {
   "cell_type": "code",
   "execution_count": 4,
   "id": "37d5d85c-4287-42bc-b472-1201cb7257a1",
   "metadata": {},
   "outputs": [],
   "source": [
    "x = \"C:\\\\Users\\\\User\\\\Desktop\\\\ashma.txt\"\n",
    "\n",
    "with open(x, 'w') as f:\n",
    "    f.write('My name is Ashma Shayyad.\\n')\n",
    "    f.write(\"My favoriate food is Biryani.\\n\")\n",
    "    f.write(\"I am 20 years old.\")"
   ]
  },
  {
   "cell_type": "code",
   "execution_count": 11,
   "id": "2604f553-6dd0-47b9-85dc-893d1cb555ad",
   "metadata": {},
   "outputs": [
    {
     "name": "stdout",
     "output_type": "stream",
     "text": [
      "Biryani is my favoriate food.Biryani is my favoriate food.Biryani is my favoriate food.\n",
      "Biryani is my favoriate food.\n",
      "Biryani is my favoriate food.\n",
      "\n"
     ]
    }
   ],
   "source": [
    "# reading the file\n",
    "\n",
    "with open(x, 'r') as y:\n",
    "    print(y.read())"
   ]
  },
  {
   "cell_type": "code",
   "execution_count": 10,
   "id": "be9bfc8f-9b8a-4ce0-8754-f67f0f0c55e8",
   "metadata": {},
   "outputs": [],
   "source": [
    "x = \"C:\\\\Users\\\\User\\\\Desktop\\\\ashma.txt\"\n",
    "\n",
    "with open(x, 'a') as f:\n",
    "    f.write(\"Biryani is my favoriate food.\\n\")"
   ]
  },
  {
   "cell_type": "code",
   "execution_count": 26,
   "id": "e9e3f22d-5fab-4584-99c8-960f7b60f353",
   "metadata": {},
   "outputs": [
    {
     "name": "stdin",
     "output_type": "stream",
     "text": [
      "Enter your file Name:  12\n"
     ]
    },
    {
     "name": "stdout",
     "output_type": "stream",
     "text": [
      "C:\\Users\\User\\Desktop\\12.txt\n"
     ]
    },
    {
     "name": "stdin",
     "output_type": "stream",
     "text": [
      "Enter number of lines value:  cat\n"
     ]
    },
    {
     "ename": "ValueError",
     "evalue": "invalid literal for int() with base 10: 'cat'",
     "output_type": "error",
     "traceback": [
      "\u001b[31m---------------------------------------------------------------------------\u001b[39m",
      "\u001b[31mValueError\u001b[39m                                Traceback (most recent call last)",
      "\u001b[36mCell\u001b[39m\u001b[36m \u001b[39m\u001b[32mIn[26]\u001b[39m\u001b[32m, line 8\u001b[39m\n\u001b[32m      5\u001b[39m \u001b[38;5;28mprint\u001b[39m(completeFileName)\n\u001b[32m      7\u001b[39m \u001b[38;5;28;01mwith\u001b[39;00m \u001b[38;5;28mopen\u001b[39m(completeFileName, \u001b[33m'\u001b[39m\u001b[33mw\u001b[39m\u001b[33m'\u001b[39m) \u001b[38;5;28;01mas\u001b[39;00m f:\n\u001b[32m----> \u001b[39m\u001b[32m8\u001b[39m     endPoint = \u001b[38;5;28;43mint\u001b[39;49m\u001b[43m(\u001b[49m\u001b[38;5;28;43minput\u001b[39;49m\u001b[43m(\u001b[49m\u001b[33;43mf\u001b[39;49m\u001b[33;43m\"\u001b[39;49m\u001b[33;43mEnter number of lines value: \u001b[39;49m\u001b[33;43m\"\u001b[39;49m\u001b[43m)\u001b[49m\u001b[43m)\u001b[49m  \u001b[38;5;66;03m# 5\u001b[39;00m\n\u001b[32m      9\u001b[39m     \u001b[38;5;28;01mfor\u001b[39;00m i \u001b[38;5;129;01min\u001b[39;00m \u001b[38;5;28mrange\u001b[39m(\u001b[32m1\u001b[39m,endPoint+\u001b[32m1\u001b[39m):\n\u001b[32m     10\u001b[39m         data = \u001b[38;5;28minput\u001b[39m(\u001b[33mf\u001b[39m\u001b[33m\"\u001b[39m\u001b[33mEnter your text here \u001b[39m\u001b[38;5;132;01m{\u001b[39;00mi\u001b[38;5;132;01m}\u001b[39;00m\u001b[33m: \u001b[39m\u001b[33m\"\u001b[39m)\n",
      "\u001b[31mValueError\u001b[39m: invalid literal for int() with base 10: 'cat'"
     ]
    }
   ],
   "source": [
    "# user takes the number of lines and write about it something\n",
    "fileName = input(\"Enter your file Name: \")  # shankarshan\n",
    "\n",
    "completeFileName = \"C:\\\\Users\\\\User\\\\Desktop\\\\\"+fileName+\".txt\"  # number value can't be accepted.\n",
    "print(completeFileName)\n",
    "\n",
    "with open(completeFileName, 'w') as f:\n",
    "    endPoint = int(input(f\"Enter number of lines value: \"))  # 5  # Character value can't be accepted.\n",
    "    for i in range(1,endPoint+1):\n",
    "        data = input(f\"Enter your text here {i}: \")    # number value can't be accepted.\n",
    "        # f.write(str(i)+\".\"+data)\n",
    "        f.write(f\"{i}.{data.upper()}\")\n",
    "        f.write('\\n')  \n",
    "    print(f'File Generated Successfully')   # Add: Count total number of words, total number of characters with space and without space."
   ]
  },
  {
   "cell_type": "code",
   "execution_count": null,
   "id": "5ee6a1e7-1c19-4584-b8da-31c3074d614e",
   "metadata": {},
   "outputs": [],
   "source": [
    "# user takes the number of lines and write about it something\n",
    "fileName = input(\"Enter your file Name: \")  # shankarshan\n",
    "\n",
    "completeFileName = \"C:\\\\Users\\\\User\\\\Desktop\\\\\"+fileName+\".txt\"  # number value can't be accepted.\n",
    "print(completeFileName)\n",
    "\n",
    "with open(completeFileName, 'w') as f:\n",
    "    endPoint = int(input(f\"Enter number of lines value: \"))  # 5  # Character value can't be accepted.\n",
    "    for i in range(1,endPoint+1):\n",
    "        data = input(f\"Enter your text here {i}: \")    # number value can't be accepted.\n",
    "        # f.write(str(i)+\".\"+data)\n",
    "        f.write(f\"{i}.{data.upper()}\")\n",
    "        f.write('\\n')  \n",
    "    print(f'File Generated Successfully')   # Add: Count total number of words, total number of characters with space and without space."
   ]
  },
  {
   "cell_type": "code",
   "execution_count": 30,
   "id": "0c3db09f-e6a0-4664-9dd7-dc475337610b",
   "metadata": {},
   "outputs": [
    {
     "name": "stdin",
     "output_type": "stream",
     "text": [
      "Enter the file name:  shankarshan\n",
      "Enter the no of line:  2\n",
      "Write the line{i}:  cat\n",
      "Write the line{i}:  mat\n"
     ]
    },
    {
     "name": "stdout",
     "output_type": "stream",
     "text": [
      "success!\n",
      "number of word:  2\n",
      "total char with space 8\n",
      "total char without space 8\n"
     ]
    }
   ],
   "source": [
    "try:\n",
    "    fileName = input(\"Enter the file name: \")\n",
    "except ValueError:\n",
    "    print(\"First Charectar cannot be integer!\")\n",
    "else:\n",
    "    complete = \"C:\\\\Users\\\\User\\\\Desktop\\\\\"+fileName+\".txt\"\n",
    "    with open(complete, \"w\") as f:\n",
    "        try:\n",
    "            endpoint = int(input(\"Enter the no of line: \"))\n",
    "        except ValueError:\n",
    "            print(\"Charecters are not accepted\")\n",
    "        else:    \n",
    "            for i in range(endpoint):\n",
    "                try: \n",
    "                    data = input(\"Write the line{i}: \")\n",
    "                except ValueError:\n",
    "                    print(\"Number value cannot be accepted!\")\n",
    "                else:\n",
    "                    f.write(f\"{data}\")\n",
    "                    f.write(\"\\n\")\n",
    "            print(\"success!\")\n",
    "with open(complete, \"r\") as x:\n",
    "    data= x.read()\n",
    "    count = 0\n",
    "    char = 0\n",
    "    space = 0\n",
    "    for i in data.split():\n",
    "        count += 1\n",
    "    print(\"number of word: \",count)\n",
    "    for i in data:\n",
    "        if i == \" \":\n",
    "            space += 1\n",
    "        char += 1\n",
    "    print(\"total char with space\",char)\n",
    "    print(\"total char without space\",char-space)"
   ]
  },
  {
   "cell_type": "code",
   "execution_count": 35,
   "id": "2ede8240-9772-4f60-bf7d-dae3b6ae1d8a",
   "metadata": {},
   "outputs": [
    {
     "name": "stdin",
     "output_type": "stream",
     "text": [
      "Enter the file name:  ahsma\n",
      "Enter the no of line:  6\n",
      "Write the line 1:  cat \n",
      "Write the line 2:  mat\n",
      "Write the line 3:  rat\n",
      "Write the line 4:  dog\n",
      "Write the line 5:  elephant\n",
      "Write the line 6:  cow \n"
     ]
    },
    {
     "name": "stdout",
     "output_type": "stream",
     "text": [
      "success!\n",
      "number of word:  6\n",
      "total char with space: 31\n",
      "total char without space:  29\n"
     ]
    }
   ],
   "source": [
    "try:\n",
    "    fileName = input(\"Enter the file name: \")\n",
    "except ValueError:\n",
    "    print(\"First Charectar cannot be integer!\")\n",
    "else:\n",
    "    complete = \"C:\\\\Users\\\\User\\\\Desktop\\\\\"+fileName+\".txt\"\n",
    "    with open(complete, \"w\") as f:\n",
    "        try:\n",
    "            endpoint = int(input(\"Enter the no of line: \"))\n",
    "        except ValueError:\n",
    "            print(\"Charecters are not accepted\")\n",
    "        else:    \n",
    "            for i in range(1,endpoint+1):\n",
    "                try: \n",
    "                    data = input(f\"Write the line {i}: \")\n",
    "                except ValueError:\n",
    "                    print(\"Number value cannot be accepted!\")\n",
    "                else:\n",
    "                    f.write(data)\n",
    "                    f.write(\"\\n\")\n",
    "            print(\"success!\")\n",
    "    with open(complete, \"r\") as x:\n",
    "        data= x.read()\n",
    "        count = 0\n",
    "        char = 0\n",
    "        space = 0\n",
    "        for i in data.split():\n",
    "            count += 1\n",
    "        print(\"number of word: \",count)\n",
    "        for i in data:\n",
    "            if i == \" \":\n",
    "                space += 1\n",
    "            char += 1\n",
    "        print(\"total char with space:\",char)\n",
    "        print(\"total char without space: \",char-space)\n",
    "    with open(complete, \"a\") as a:\n",
    "        a.write(f\"number of word: {count}\\n\")\n",
    "        a.write(f\"total char with space {char}\\n\")\n",
    "        a.write(f\"total char without space {char-space}\")"
   ]
  },
  {
   "cell_type": "code",
   "execution_count": 45,
   "id": "ea549c91-e8e7-4308-bfdf-a63ee9bb88a2",
   "metadata": {},
   "outputs": [
    {
     "name": "stdin",
     "output_type": "stream",
     "text": [
      "Enter your file Name  12\n"
     ]
    },
    {
     "name": "stdout",
     "output_type": "stream",
     "text": [
      "12 is Invalid. Enter a correct File Name.\n"
     ]
    },
    {
     "name": "stdin",
     "output_type": "stream",
     "text": [
      "Enter your file Name  ashma\n"
     ]
    },
    {
     "name": "stdout",
     "output_type": "stream",
     "text": [
      "File Name Accepted: \n",
      "C:\\Users\\User\\Desktop\\ashma.txt\n"
     ]
    },
    {
     "name": "stdin",
     "output_type": "stream",
     "text": [
      "Enter number of lines value:  1\n",
      "Enter your text here 1:  Biryani (/bɜːrˈjɑːni/) is a mixed rice dish originating in South Asia, traditionally made with rice, meat (chicken, goat, lamb, beef) or seafood (prawns or fish), and spices.  Biryani is one of the most popular dishes in South Asia and among the South Asian diaspora, though the dish is often associated with the region's Muslim population in particular.[1] Regional variations exist, such as regarding the addition of eggs and/or potatoes, as well as religious ones, such as the replacement of meat with paneer or vegetables by vegetarians.[2] Similar dishes are also prepared in many other countries like Iraq and Malaysia, and was often spread to such places by South Asian diaspora populations.[3][4] Biryani is the single most-ordered dish on Indian online food ordering and delivery services, and has been described as the most popular dish in India.\n"
     ]
    },
    {
     "name": "stdout",
     "output_type": "stream",
     "text": [
      "Error: Number value can't be accepted in file name. Please enter letters only.\n"
     ]
    },
    {
     "name": "stdin",
     "output_type": "stream",
     "text": [
      "Enter your text here 1:  stop\n"
     ]
    },
    {
     "name": "stdout",
     "output_type": "stream",
     "text": [
      "File Generated Successfully!\n"
     ]
    }
   ],
   "source": [
    "while True:\n",
    "    try:\n",
    "        fileName = input(\"Enter your file Name \")  # number value can't be accepted.\n",
    "        if fileName.isalpha():\n",
    "            print(f\"File Name Accepted: \")\n",
    "            break\n",
    "        else:\n",
    "            print(f\"{fileName} is Invalid. Enter a correct File \")\n",
    "    #     for ch in fileName:\n",
    "    #         if ch.isdigit():\n",
    "    #             raise ValueError \n",
    "    #     break\n",
    "    except ValueError:  \n",
    "        print(\"Error: Number value can't be accepted in file name. Please enter letters only.\")\n",
    "\n",
    "completeFileName = \"C:\\\\Users\\\\User\\\\Desktop\\\\\" + fileName + \".txt\"\n",
    "print(completeFileName)\n",
    "\n",
    "with open(completeFileName, 'w') as f:\n",
    "    while True:\n",
    "        try:\n",
    "            endPoint = int(input(f\"Enter number of lines value: \"))  # Character value can't be accepted.\n",
    "            break\n",
    "        except ValueError:\n",
    "            print(\"Error: Character value can't be accepted. Please enter numbers only.\")\n",
    "\n",
    "    total_words = 0\n",
    "    total_with_space = 0\n",
    "    total_without_space = 0\n",
    "\n",
    "    for i in range(1, endPoint + 1):\n",
    "        while True:\n",
    "            try:\n",
    "                data = input(f\"Enter your text here {i}: \")  # number value can't be accepted.\n",
    "                for ch in data:\n",
    "                    if ch.isdigit():\n",
    "                        raise ValueError\n",
    "                break\n",
    "            except ValueError:\n",
    "                print(\"Error: Number value can't be accepted in file name. Please enter letters only.\")\n",
    "\n",
    "        f.write(f\"{i}.{data}\\n\")\n",
    "        \n",
    "        chars_with_space = 0\n",
    "        chars_without_space = 0\n",
    "        for ch in data:\n",
    "            chars_with_space += 1\n",
    "            if ch != \" \":\n",
    "                chars_without_space += 1\n",
    "        total_with_space += chars_with_space\n",
    "        total_without_space += chars_without_space\n",
    "\n",
    "        in_word = False\n",
    "        words = 0\n",
    "        for ch in data:\n",
    "            if ch != \" \" and not in_word:\n",
    "                in_word = True\n",
    "                words += 1\n",
    "            elif ch == \" \":\n",
    "                in_word = False\n",
    "                \n",
    "        total_words += words\n",
    "\n",
    "print(\"File Generated Successfully!\")\n",
    "with open(completeFileName, 'a') as f: \n",
    "    f.write(\"Total words: \" + str(total_words) + \"\\n\")\n",
    "    f.write(\"Total characters (with spaces): \" + str(total_with_space) + \"\\n\")\n",
    "    f.write(\"Total characters (without spaces): \" + str(total_without_space) + \"\\n\")"
   ]
  },
  {
   "cell_type": "code",
   "execution_count": 40,
   "id": "a58db7a5-9177-49db-a14e-bfcf37729142",
   "metadata": {},
   "outputs": [],
   "source": [
    "import string"
   ]
  },
  {
   "cell_type": "code",
   "execution_count": null,
   "id": "b9dee995-9f63-481c-9f76-45afd18018c4",
   "metadata": {},
   "outputs": [],
   "source": []
  },
  {
   "cell_type": "code",
   "execution_count": 53,
   "id": "3bfe36ac-cbbf-4124-a0df-e78b60964a4d",
   "metadata": {},
   "outputs": [
    {
     "name": "stdin",
     "output_type": "stream",
     "text": [
      "Enter the file name:  shankarshan\n",
      "Enter the no of line:  1\n",
      "Write the line1:  Filler text (also placeholder text or dummy text) is text that shares some characteristics of a real written text, but is random or otherwise generated. It may be used to display a sample of fonts, generate text for testing, or to spoof an e-mail spam filter. The process of using filler text is sometimes called greeking, although the text itself may be nonsense, or largely Latin, as in Lorem ipsum.\n"
     ]
    },
    {
     "name": "stdout",
     "output_type": "stream",
     "text": [
      "success!\n",
      "number of word:  70\n",
      "total char with space 401\n",
      "total char without space 332\n"
     ]
    }
   ],
   "source": [
    "try:\n",
    "    fileName = input(\"Enter the file name: \")\n",
    "except ValueError:\n",
    "    print(\"First Charectar cannot be integer!\")\n",
    "else:\n",
    "    complete = \"C:\\\\Users\\\\User\\\\Desktop\\\\\"+fileName+\".txt\"\n",
    "    with open(complete, \"w\") as f:\n",
    "        try:\n",
    "            endpoint = int(input(\"Enter the no of line: \"))\n",
    "        except ValueError:\n",
    "            print(\"Charecters are not accepted\")\n",
    "        else:    \n",
    "            for i in range(1, endpoint+1):\n",
    "                try: \n",
    "                    data = input(f\"Write the line{i}: \")\n",
    "                except ValueError:\n",
    "                    print(\"Number value cannot be accepted!\")\n",
    "                else:\n",
    "                    f.write(data)\n",
    "                    f.write(\"\\n\")\n",
    "            print(\"success!\")\n",
    "    with open(complete, \"r\") as x:\n",
    "        data= x.read()\n",
    "        count = 0\n",
    "        char = 0\n",
    "        space = 0\n",
    "        for i in data.split():\n",
    "            count += 1\n",
    "        print(\"number of word: \",count)\n",
    "        \n",
    "        for i in data:\n",
    "            if i not in [\"\\n\"]:\n",
    "                if i == \" \":\n",
    "                    space += 1\n",
    "                char += 1\n",
    "        print(\"total char with space\",char)\n",
    "        print(\"total char without space\",char-space)\n",
    "    with open(complete, \"a\",errors=\"ignore\") as a:\n",
    "        a.write(f\"number of word: {count}\\n\")\n",
    "        a.write(f\"total char with space {char}\\n\")\n",
    "        a.write(f\"total char without space {char-space}\\n\")"
   ]
  },
  {
   "cell_type": "code",
   "execution_count": 9,
   "id": "7170bf67-4eda-4c30-85e5-bcf277bc05ab",
   "metadata": {},
   "outputs": [
    {
     "data": {
      "text/plain": [
       "''"
      ]
     },
     "execution_count": 9,
     "metadata": {},
     "output_type": "execute_result"
    }
   ],
   "source": [
    "# filepath\n",
    "# open, mode=w\n",
    "# write\n",
    "\n",
    "from fpdf import FPDF\n",
    "\n",
    "pdf = FPDF()\n",
    "# print(pdf)\n",
    "\n",
    "pdf.add_page()\n",
    "pdf.set_font(\"Arial\",size=35)\n",
    "pdf.cell(200,10, txt=\"Hello world, This is my first pdf.\")\n",
    "pdf.output(\"C:\\\\Users\\\\User\\\\Desktop\\\\mypdf.pdf\")"
   ]
  },
  {
   "cell_type": "code",
   "execution_count": null,
   "id": "2693aa1a-a696-4fba-a0da-98d3a226d563",
   "metadata": {},
   "outputs": [],
   "source": []
  },
  {
   "cell_type": "code",
   "execution_count": 28,
   "id": "588f844f-279c-46fb-80b5-fbdeacb26bc5",
   "metadata": {},
   "outputs": [
    {
     "name": "stdin",
     "output_type": "stream",
     "text": [
      "Enter the file name:  shankarshan\n",
      "Enter the no of lines:  1\n",
      "Write line 1:  Ingredients for biryani are extensive and vary according to the region and the type of meat and vegetables used. Meat (chicken, goat, beef, lamb,[27] prawn or fish) is the prime ingredient with rice. As is common in dishes of South Asia, vegetables are sometimes also used when preparing biryani. Corn may be used, depending on the season and availability. Navratan biryani tends to use sweeter, richer ingredients such as cashews, sultanas (kishmish), and fruits such as apples and pineapples.[23]  The spices and condiments used in biryani may include fennel seeds, ghee (clarified butter), nutmeg, mace,[28] pepper, cloves,[28] cardamom, cinnamon, bay leaves, coriander, mint, ginger, onions, tomatoes, green chilies,[27] star anise, and garlic. The premium varieties include saffron.[28] Some commercial recipes for biryani also include aromatic essences such as Mitha attar, kewra and rose water. Dried sour prunes (Plum is called alu bukhara) may also be added to the biryani. In nasi briyani and other variants made in Southeast Asian countries such as Malaysia, Singapore, and Indonesia, typical Southeast Asian spices and aromatics such as pandan leaf may be used alongside typical South Asian spices.[29]  The main ingredient that usually accompanies the spices is chicken, lamb or goat meat; special varieties might use beef or seafood instead. The dish may be served with raita, dahi chutney, or other accompaniments to soothe the biryani and lower the heat from the spices in the biryani. Other sides include seekh kebab, Qorma, curry, a sour dish of aubergine (brinjal), boiled eggs, and salad.  Preparation styles Biryani can be cooked using one of two styles/techniques, pakki (\"cooked\") and kacchi (\"raw\").[30]  In a pakki biryani, the rice, marinated meat, and any vegetables are partially (\"three-quarters\") cooked separately, before being combined into layers in a cooking vessel. Different layers of rice may be treated with different spices (e.g., with dissolved saffron or turmeric to give the rice different colours and flavours). The contents are then baked to complete the cooking and allow the flavours to combine. Alternatively, the components may be fully cooked, and then simply combined by layering before serving. In a kacchi biryani, layers of raw marinated meat are alternated in layers with wet, pre-soaked, raw rice (which may be treated with different spices as above), and cooked together by baking, or medium-to-low direct heat (typically, for at least an hour). Cooking occurs by a process of steaming from the ingredients' own moisture: the cooking vessel's lid is sealed (traditionally, with a strip of wheat dough) so that steam cannot escape (proper dum pukht). A yoghurt-based marinade at the bottom of the cooking pot provides additional flavour and moisture. Potatoes often comprise the bottom layer (a technique also used in Iranian cuisine), because, with their natural moisture content, they brown well with less risk of getting burned accidentally. The lid is not opened until the dish is ready to serve. Kacchi biryani is technically much more demanding and time-consuming than pakki biryani, for the following reasons: The different ingredients—meat, rice, vegetables—have different cooking times: tender cuts of meat/chicken can be fully cooked well before the rice is done. To prevent this, many kacchi recipes use parboiled (semi-cooked) rice rather than raw rice. If direct heat is used, there is a risk that the food layer in contact with the vessel bottom may get burned while the interior's contents are still raw. This risk is minimized by sustained baking with moderate heat or very slow cooking on low direct heat. This approach, however, increases cooking time considerably. One method is cooking the dish \"blind\", with the cooking vessel sealed, so one cannot monitor the cooking progress—it takes expertise and understanding of the raw foods used, the heat required to cook those raw foods, and how the climate can affect the cooking process. Hence making kacchi biryani requires a seasoned hand. Varieties On the Indian subcontinent  Hyderabadi egg biryani served with mirchi ka salan, raita and salad  A Hyderabadi vegetable biryani served in Tampa, U.S.  Biryani of Lahore There are many types of biryani, whose names are often based on their region of origin. For example, Sindhi biryani developed in the Sindh region of what is now Pakistan, and Hyderabadi biryani developed in the city of Hyderabad in South India.  Some have taken the name of the shop that sells it, for example: Haji Biriyani, Haji Nanna Biriyani in Old Dhaka,[31] Fakhruddin Biriyani in Dhaka,[32][33] Students biryani in Karachi, Lucky biryani in Bandra, Mumbai and Baghdadi biryani in Colaba, Mumbai.[23] Biryanis are often specific to the Muslim communities where they originate; they are usually the defining dishes of those communities.[34]  Ambur/Vaniyambadi biryani Ambur/Vaniyambadi biryani is a variety cooked in the neighboring towns of Ambur and Vaniyambadi in the Tirupattur district of the northeastern part of Tamil Nadu, which houses a high Muslim population. It was introduced during the time of the Nawabs of Arcot who once ruled the area. It is typically made with jeera samba rice. Nowadays, it is popular as both Ambur or Vaniyambadi style biryani as those are two prominent towns along the popular Bangalore to Chennai highway, where travellers are known to stop for eating.[35]  The Ambur/Vaniyambadi biryani is often accompanied by dhalcha, a sour brinjal curry, and pachadi or raitha (sliced onions mixed with plain yogurt, tomato, chilies, and salt). It is known to have a distinctive aroma and is considered light on the stomach.[citation needed] The usage of spice is moderate, and curd is used as a gravy base. It also utilizes a higher ratio of meat to rice.[16] Ambur-style biryani is popular as a street food all across South India.  Bhatkali/Navayathi biryani This is an integral part of the Navayath cuisine and a specialty of Bhatkal, a coastal town in Karnataka. Its origins are traced to the Persian traders who introduced biryani along with kababs and Indian breads. In Bhatkali biryani, the meat is cooked in an onion and green chili-based masala and layered with fragrant rice. It has a unique spicy flavour, and the rice is overwhelmingly white with mild streaks of orange. Its variations include beef, goat, chicken, titar (partridge), egg, fish, crab, prawn, and vegetable biryani.  Though similar to those in Thalassery, this biryani differs with lingering after-notes of mashed onions laced with garlic[citation needed]. A few chilies and spices littered with curry leaves lends a unique flavour to Bhatkali biryani. No oil is used.[36]  Another variety common among the Navayath mainly involves rice vermicelli being used as a substitute for rice, therefore lending this biryani the name shayya or shayyo as a result of its use. Like many other recipes, the meat, typically chicken, is first cooked with spices and yoghurt, with the vermicelli and fried onions being added later.[37]  Bohri biryani This biryani, traditionally made by the Bohri community, is one with a rich history. The Bohris, originally from Yemen, migrated mainly to Gujarat and other parts of India between the 11th and 13th centuries. As a result, the dish incorporates both Yemeni and Gujarati influences. The recipe is typically standard and can vary, although its signature ingredients include crispy potatoes along with even more tomatoes and onions. It is seemingly also a dish in Pakistan.[38]\n"
     ]
    },
    {
     "name": "stdout",
     "output_type": "stream",
     "text": [
      "Success! File written.\n",
      "Number of words: 1191\n",
      "Total chars with space: 7559\n",
      "Total chars without space: 6355\n",
      "✅ PDF file has been generated successfully: C:\\Users\\User\\Desktop\\shankarshan.pdf\n"
     ]
    }
   ],
   "source": [
    "from reportlab.pdfgen import canvas\n",
    "import os\n",
    "\n",
    "# Get desktop path dynamically\n",
    "desktop = os.path.join(os.path.expanduser(\"~\"), \"Desktop\")\n",
    "\n",
    "fileName = input(\"Enter the file name: \")\n",
    "if fileName[0].isdigit():\n",
    "    print(\"First character cannot be an integer!\")\n",
    "    exit()\n",
    "\n",
    "complete = os.path.join(desktop, fileName + \".txt\")\n",
    "pdfFileName = os.path.join(desktop, fileName + \".pdf\")\n",
    "\n",
    "with open(complete, \"w\") as f:\n",
    "    try:\n",
    "        endpoint = int(input(\"Enter the no of lines: \"))\n",
    "    except ValueError:\n",
    "        print(\"Characters are not accepted for line count!\")\n",
    "        exit()\n",
    "    else:    \n",
    "        for i in range(1, endpoint+1):\n",
    "            data = input(f\"Write line {i}: \")\n",
    "            f.write(data + \"\\n\")\n",
    "        print(\"Success! File written.\")\n",
    "\n",
    "# Read file for analysis\n",
    "with open(complete, \"r\") as x:\n",
    "    data = x.read()\n",
    "    words = len(data.split())\n",
    "    chars_with_space = len(data.replace(\"\\n\", \"\"))\n",
    "    spaces = data.count(\" \")\n",
    "    chars_without_space = chars_with_space - spaces\n",
    "\n",
    "print(\"Number of words:\", words)\n",
    "print(\"Total chars with space:\", chars_with_space)\n",
    "print(\"Total chars without space:\", chars_without_space)\n",
    "\n",
    "# Append analysis results to file\n",
    "with open(complete, \"a\", errors=\"ignore\") as a:\n",
    "    a.write(f\"\\nNumber of words: {words}\\n\")\n",
    "    a.write(f\"Total chars with space: {chars_with_space}\\n\")\n",
    "    a.write(f\"Total chars without space: {chars_without_space}\\n\")\n",
    "\n",
    "# Create PDF\n",
    "c = canvas.Canvas(pdfFileName)\n",
    "y = 800  # margin\n",
    "with open(complete, 'r') as f:\n",
    "    for line in f:\n",
    "        if y < 50:\n",
    "            c.showPage()\n",
    "            y = 800\n",
    "        c.drawString(50, y, line.strip())\n",
    "        y -= 20\n",
    "c.save()\n",
    "\n",
    "print(f\"✅ PDF file has been generated successfully: {pdfFileName}\")\n"
   ]
  },
  {
   "cell_type": "code",
   "execution_count": null,
   "id": "c7610c77-72f7-4a0f-8a73-119e4d2a9511",
   "metadata": {},
   "outputs": [],
   "source": []
  },
  {
   "cell_type": "code",
   "execution_count": 31,
   "id": "23470b0a-611d-4f26-b07a-be8030f8b6b2",
   "metadata": {},
   "outputs": [
    {
     "name": "stdin",
     "output_type": "stream",
     "text": [
      "Enter the file name:  shankarshan\n",
      "Enter the no of line:  2\n",
      "Write the line0:  Biryani is a mixed rice dish originating in South Asia, traditionally made with rice, meat or seafood, and spices. Biryani is one of the most popular dishes in South Asia and among the South Asian diaspora, though the dish is often associated with the region's Muslim population in particular.\n",
      "Write the line1:  stop\n"
     ]
    },
    {
     "name": "stdout",
     "output_type": "stream",
     "text": [
      "success!\n",
      "number of word:  50\n",
      "total char with space:  297\n",
      "total char without space:  249\n",
      "total vowels:  104\n",
      "total consonent:  145\n",
      "total digit:  0\n",
      "total special:  55\n"
     ]
    }
   ],
   "source": [
    "# data from user: count: vowelChar, consChar, Total characters, TotalDigits, special characters in the text.\n",
    "\n",
    "# from reportlab.pdfgen import canvas\n",
    "try:\n",
    "    fileName = input(\"Enter the file name: \")\n",
    "except ValueError:\n",
    "    print(\"First Charectar cannot be integer!\")\n",
    "else:\n",
    "    complete = \"C:\\\\Users\\\\User\\\\Desktop\\\\\"+fileName+\".txt\"\n",
    "    with open(complete, \"w\") as f:\n",
    "        try:\n",
    "            endpoint = int(input(\"Enter the no of line: \"))\n",
    "        except ValueError:\n",
    "            print(\"Charecters are not accepted\")\n",
    "        else:    \n",
    "            for i in range(endpoint):\n",
    "                try: \n",
    "                    data = input(f\"Write the line{i}: \")\n",
    "                except ValueError:\n",
    "                    print(\"Number value cannot be accepted!\")\n",
    "                else:\n",
    "                    f.write(data)\n",
    "                    f.write(\"\\n\")\n",
    "            print(\"success!\")\n",
    "    with open(complete, \"r\") as x:\n",
    "        data= x.read()\n",
    "        count = 0\n",
    "        char = 0\n",
    "        space = 0\n",
    "        vowel = 0\n",
    "        digit = 0\n",
    "        special = 0\n",
    "        for i in data.split():\n",
    "            count += 1\n",
    "        print(\"number of word: \",count)\n",
    "        \n",
    "        for i in data:\n",
    "            if i not in [\"\\n\"]:\n",
    "                if i == \" \":\n",
    "                    space += 1\n",
    "                char += 1\n",
    "                if i.lower() in \"aeiou\":\n",
    "                    vowel += 1\n",
    "                if i.isdigit():\n",
    "                    digit += 1\n",
    "                if not i.isalnum():\n",
    "                    special += 1\n",
    "        print(\"total char with space: \",char)\n",
    "        print(\"total char without space: \",char-space)\n",
    "        print(\"total vowels: \", vowel)\n",
    "        print(\"total consonent: \", char-space-vowel)\n",
    "        print(\"total digit: \", digit)\n",
    "        print(\"total special: \", special)\n",
    "\n",
    "    with open(complete, \"a\") as a:\n",
    "        a.write(f\"number of word: {count}\\n\")\n",
    "        a.write(f\"total char with space: {char}\\n\")\n",
    "        a.write(f\"total char without space: {char-space}\\n\")\n",
    "        a.write(f\"total vowels: {vowel} \\n\")\n",
    "        a.write(f\"total consonent: {char-space-vowel} \\n\")\n",
    "        a.write(f\"total digit: {digit}\")\n",
    "        a.write(f\"total special: {special} \\n\")\n"
   ]
  },
  {
   "cell_type": "code",
   "execution_count": 34,
   "id": "68b985a9-c792-4000-a23a-adcfe983a4f6",
   "metadata": {},
   "outputs": [
    {
     "name": "stdin",
     "output_type": "stream",
     "text": [
      "Enter the file name (without extension):  aditya\n",
      "Enter the number of lines:  1\n",
      "Write line 1:  cat123@ \n"
     ]
    },
    {
     "name": "stdout",
     "output_type": "stream",
     "text": [
      "File writing successful!\n",
      "Number of words: 1\n",
      "Total characters (with spaces): 8\n",
      "Total characters (without spaces): 7\n",
      "Total vowels: 1\n",
      "Total consonants: 6\n",
      "Total digits: 3\n",
      "Total special characters: 1\n"
     ]
    }
   ],
   "source": [
    "file_name = input(\"Enter the file name (without extension): \")\n",
    "complete = \"C:\\\\Users\\\\User\\\\Desktop\\\\\" + file_name + \".txt\"\n",
    "f = open(complete, \"w\")\n",
    "endpoint = int(input(\"Enter the number of lines: \"))\n",
    "for i in range(endpoint):\n",
    "    data = input(\"Write line \" + str(i+1) + \": \")\n",
    "    f.write(data + \"\\n\")\n",
    "f.close()\n",
    "print(\"File writing successful!\")\n",
    "x = open(complete, \"r\")\n",
    "data = x.read()\n",
    "x.close()\n",
    "\n",
    "word_count = 0\n",
    "char_count = 0\n",
    "space_count = 0\n",
    "vowel_count = 0\n",
    "digit_count = 0\n",
    "special_count = 0\n",
    "\n",
    "words = data.split()\n",
    "word_count = len(words)\n",
    "\n",
    "for ch in data:\n",
    "    if ch != \"\\n\":\n",
    "        char_count += 1\n",
    "        if ch == \" \":\n",
    "            space_count += 1\n",
    "        if ch.lower() in \"aeiou\":\n",
    "            vowel_count += 1\n",
    "        if ch.isdigit():\n",
    "            digit_count += 1\n",
    "        if not ch.isalnum() and ch != \" \":\n",
    "            special_count += 1\n",
    "\n",
    "\n",
    "print(\"Number of words:\", word_count)\n",
    "print(\"Total characters (with spaces):\", char_count)\n",
    "print(\"Total characters (without spaces):\", char_count - space_count)\n",
    "print(\"Total vowels:\", vowel_count)\n",
    "print(\"Total consonants:\", char_count - space_count - vowel_count)\n",
    "print(\"Total digits:\", digit_count)\n",
    "print(\"Total special characters:\", special_count)\n",
    "\n",
    "\n",
    "a = open(complete, \"a\")\n",
    "a.write(\"\\n--- File Analysis ---\\n\")\n",
    "a.write(\"Number of words: \" + str(word_count) + \"\\n\")\n",
    "a.write(\"Total characters (with spaces): \" + str(char_count) + \"\\n\")\n",
    "a.write(\"Total characters (without spaces): \" + str(char_count - space_count) + \"\\n\")\n",
    "a.write(\"Total vowels: \" + str(vowel_count) + \"\\n\")\n",
    "a.write(\"Total consonants: \" + str(char_count - space_count - vowel_count) + \"\\n\")\n",
    "a.write(\"Total digits: \" + str(digit_count) + \"\\n\")\n",
    "a.write(\"Total special characters: \" + str(special_count) + \"\\n\")\n",
    "a.close()"
   ]
  },
  {
   "cell_type": "code",
   "execution_count": null,
   "id": "01dcb6bf-b1ea-447a-bb32-c331ebeba7c9",
   "metadata": {},
   "outputs": [],
   "source": []
  },
  {
   "cell_type": "code",
   "execution_count": null,
   "id": "226734e6-95b6-4468-85c5-74e0ceeabf2b",
   "metadata": {},
   "outputs": [],
   "source": []
  }
 ],
 "metadata": {
  "kernelspec": {
   "display_name": "Python 3 (ipykernel)",
   "language": "python",
   "name": "python3"
  },
  "language_info": {
   "codemirror_mode": {
    "name": "ipython",
    "version": 3
   },
   "file_extension": ".py",
   "mimetype": "text/x-python",
   "name": "python",
   "nbconvert_exporter": "python",
   "pygments_lexer": "ipython3",
   "version": "3.13.7"
  }
 },
 "nbformat": 4,
 "nbformat_minor": 5
}
