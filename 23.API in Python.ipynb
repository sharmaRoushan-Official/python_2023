{
 "cells": [
  {
   "cell_type": "markdown",
   "id": "f19eb8d4-15d2-4612-a40a-688dcf60e89b",
   "metadata": {},
   "source": [
    "# 23. API in Python\n",
    "\n",
    " * __API Stands for Application Programming Interface.__\n",
    " * __It allows different software system to communicate with each other.__\n",
    " * __In Python we ofter work with web APIs to send request and get data (usually in JSON format)__\n",
    "\n",
    "\n",
    "|Method|Purpose|\n",
    "|------|------|\n",
    "|GET|Retrieve data|\n",
    "|POST|Send new data|\n",
    "|PUT|Update data|\n",
    "|PATCH|Partially update data|\n",
    "|DELETE|Delete data|\n",
    "\n",
    "\n",
    "### 🔯Summary\n",
    "\n",
    "|Concept|Description|\n",
    "|-----|-----|\n",
    "|API|Interface to exchange data between programs.|\n",
    "|Request Library|Used in Python to interact with APIs|\n",
    "|Response Object| Contains .status_code, .json_code, .json(), .text(),etc|\n",
    "\n"
   ]
  },
  {
   "cell_type": "code",
   "execution_count": 1,
   "id": "b2b26b34-9051-42a5-812a-0b21ca7b95e3",
   "metadata": {},
   "outputs": [],
   "source": [
    "# Api --- Hit --------> Data (json)\n",
    "\n",
    "import requests "
   ]
  },
  {
   "cell_type": "code",
   "execution_count": 2,
   "id": "a2ad03e1-39d3-4e2e-98a2-021ef4a327e8",
   "metadata": {},
   "outputs": [
    {
     "name": "stdout",
     "output_type": "stream",
     "text": [
      "Help on package requests:\n",
      "\n",
      "NAME\n",
      "    requests\n",
      "\n",
      "DESCRIPTION\n",
      "    Requests HTTP Library\n",
      "    ~~~~~~~~~~~~~~~~~~~~~\n",
      "\n",
      "    Requests is an HTTP library, written in Python, for human beings.\n",
      "    Basic GET usage:\n",
      "\n",
      "       >>> import requests\n",
      "       >>> r = requests.get('https://www.python.org')\n",
      "       >>> r.status_code\n",
      "       200\n",
      "       >>> b'Python is a programming language' in r.content\n",
      "       True\n",
      "\n",
      "    ... or POST:\n",
      "\n",
      "       >>> payload = dict(key1='value1', key2='value2')\n",
      "       >>> r = requests.post('https://httpbin.org/post', data=payload)\n",
      "       >>> print(r.text)\n",
      "       {\n",
      "         ...\n",
      "         \"form\": {\n",
      "           \"key1\": \"value1\",\n",
      "           \"key2\": \"value2\"\n",
      "         },\n",
      "         ...\n",
      "       }\n",
      "\n",
      "    The other HTTP methods are supported - see `requests.api`. Full documentation\n",
      "    is at <https://requests.readthedocs.io>.\n",
      "\n",
      "    :copyright: (c) 2017 by Kenneth Reitz.\n",
      "    :license: Apache 2.0, see LICENSE for more details.\n",
      "\n",
      "PACKAGE CONTENTS\n",
      "    __version__\n",
      "    _internal_utils\n",
      "    adapters\n",
      "    api\n",
      "    auth\n",
      "    certs\n",
      "    compat\n",
      "    cookies\n",
      "    exceptions\n",
      "    help\n",
      "    hooks\n",
      "    models\n",
      "    packages\n",
      "    sessions\n",
      "    status_codes\n",
      "    structures\n",
      "    utils\n",
      "\n",
      "FUNCTIONS\n",
      "    check_compatibility(\n",
      "        urllib3_version,\n",
      "        chardet_version,\n",
      "        charset_normalizer_version\n",
      "    )\n",
      "\n",
      "DATA\n",
      "    __author_email__ = 'me@kennethreitz.org'\n",
      "    __build__ = 143877\n",
      "    __cake__ = '✨ 🍰 ✨'\n",
      "    __copyright__ = 'Copyright Kenneth Reitz'\n",
      "    __description__ = 'Python HTTP for Humans.'\n",
      "    __license__ = 'Apache-2.0'\n",
      "    __title__ = 'requests'\n",
      "    __url__ = 'https://requests.readthedocs.io'\n",
      "    chardet_version = None\n",
      "    charset_normalizer_version = '3.4.3'\n",
      "    codes = <lookup 'status_codes'>\n",
      "\n",
      "VERSION\n",
      "    2.32.5\n",
      "\n",
      "AUTHOR\n",
      "    Kenneth Reitz\n",
      "\n",
      "FILE\n",
      "    c:\\users\\user\\appdata\\local\\programs\\python\\python313\\lib\\site-packages\\requests\\__init__.py\n",
      "\n",
      "\n"
     ]
    }
   ],
   "source": [
    "help(requests)"
   ]
  },
  {
   "cell_type": "code",
   "execution_count": 59,
   "id": "774d97e3-753d-4018-aee9-4cd5e1f8681e",
   "metadata": {},
   "outputs": [
    {
     "name": "stdin",
     "output_type": "stream",
     "text": [
      "Enter your cityName:  Leh\n",
      "Enter your country code:  In\n"
     ]
    },
    {
     "name": "stdout",
     "output_type": "stream",
     "text": [
      "https://api.openweathermap.org/data/2.5/weather?q=Leh,IN&appid=f3d23ab84146eaf779dbe1fcb07bc122\n",
      "<Response [200]>\n",
      "{'coord': {'lon': 77.5833, 'lat': 34.1667}, 'weather': [{'id': 601, 'main': 'Snow', 'description': 'snow', 'icon': '13d'}], 'base': 'stations', 'main': {'temp': 273.37, 'feels_like': 269.82, 'temp_min': 273.37, 'temp_max': 273.37, 'pressure': 1016, 'humidity': 84, 'sea_level': 1016, 'grnd_level': 588}, 'visibility': 712, 'wind': {'speed': 3.11, 'deg': 256, 'gust': 2.95}, 'snow': {'1h': 0.51}, 'clouds': {'all': 100}, 'dt': 1759751608, 'sys': {'country': 'IN', 'sunrise': 1759711653, 'sunset': 1759753671}, 'timezone': 19800, 'id': 1264976, 'name': 'Leh', 'cod': 200}\n",
      "=========================================\n",
      "Live Temperature is: 0.22000000000002728 °C\n",
      "Feels Like is: -3.329999999999984 °C\n"
     ]
    }
   ],
   "source": [
    "def getWeather():\n",
    "    api_keys= \"f3d23ab84146eaf779dbe1fcb07bc122\"\n",
    "    cityName1 = input(\"Enter your cityName: \")\n",
    "    countryCode = input(\"Enter your country code: \").upper()\n",
    "    cityName = cityName1+\",\"+countryCode  # Pune,IN\n",
    "    url = f\"https://api.openweathermap.org/data/2.5/weather?q={cityName}&appid={api_keys}\"\n",
    "    print(url)\n",
    "\n",
    "    response = requests.get(url)\n",
    "    print(response)\n",
    "\n",
    "    if response.status_code == 200:\n",
    "        data = response.json()\n",
    "        print(data)\n",
    "    print(\"=========================================\")\n",
    "    temp = data['main']['temp']\n",
    "    celciusTemp = temp - 273.15\n",
    "    print(\"Live Temperature is:\",celciusTemp,\"°C\")\n",
    "\n",
    "    feelsLike = data['main']['feels_like']\n",
    "\n",
    "    celciusFeels = feelsLike-273.15\n",
    "    print(\"Feels Like is:\",celciusFeels,\"°C\")\n",
    "\n",
    "    \n",
    "getWeather()"
   ]
  },
  {
   "cell_type": "code",
   "execution_count": 49,
   "id": "6eafa440-8b98-499b-9808-26c19fab3062",
   "metadata": {},
   "outputs": [],
   "source": [
    "import datetime"
   ]
  },
  {
   "cell_type": "code",
   "execution_count": 56,
   "id": "fddcef5d-293a-4cf5-a696-9d542bb978fb",
   "metadata": {},
   "outputs": [
    {
     "name": "stdout",
     "output_type": "stream",
     "text": [
      "2025-10-06 17:20:35.569827\n"
     ]
    }
   ],
   "source": [
    "print(datetime.datetime.now())"
   ]
  },
  {
   "cell_type": "code",
   "execution_count": 58,
   "id": "bb31b41b-bcaa-4d78-b3d5-4880b9ad6cb5",
   "metadata": {},
   "outputs": [
    {
     "data": {
      "text/plain": [
       "10.0"
      ]
     },
     "execution_count": 58,
     "metadata": {},
     "output_type": "execute_result"
    }
   ],
   "source": [
    "10000/1000 "
   ]
  },
  {
   "cell_type": "code",
   "execution_count": null,
   "id": "ee69b3fc-58b7-4928-afed-a7c90656f244",
   "metadata": {},
   "outputs": [],
   "source": []
  }
 ],
 "metadata": {
  "kernelspec": {
   "display_name": "Python 3 (ipykernel)",
   "language": "python",
   "name": "python3"
  },
  "language_info": {
   "codemirror_mode": {
    "name": "ipython",
    "version": 3
   },
   "file_extension": ".py",
   "mimetype": "text/x-python",
   "name": "python",
   "nbconvert_exporter": "python",
   "pygments_lexer": "ipython3",
   "version": "3.13.7"
  }
 },
 "nbformat": 4,
 "nbformat_minor": 5
}
