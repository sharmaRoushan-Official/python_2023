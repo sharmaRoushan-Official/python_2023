{
 "cells": [
  {
   "cell_type": "markdown",
   "id": "f19eb8d4-15d2-4612-a40a-688dcf60e89b",
   "metadata": {},
   "source": [
    "# 23. API in Python\n",
    "\n",
    " * __API Stands for Application Programming Interface.__\n",
    " * __It allows different software system to communicate with each other.__\n",
    " * __In Python we ofter work with web APIs to send request and get data (usually in JSON format)__\n",
    "\n",
    "\n",
    "|Method|Purpose|\n",
    "|------|------|\n",
    "|GET|Retrieve data|\n",
    "|POST|Send new data|\n",
    "|PUT|Update data|\n",
    "|PATCH|Partially update data|\n",
    "|DELETE|Delete data|\n",
    "\n",
    "\n",
    "### 🔯Summary\n",
    "\n",
    "|Concept|Description|\n",
    "|-----|-----|\n",
    "|API|Interface to exchange data between programs.|\n",
    "|Request Library|Used in Python to interact with APIs|\n",
    "|Response Object| Contains .status_code, .json_code, .json(), .text(),etc|\n",
    "\n"
   ]
  },
  {
   "cell_type": "code",
   "execution_count": 1,
   "id": "b2b26b34-9051-42a5-812a-0b21ca7b95e3",
   "metadata": {},
   "outputs": [],
   "source": [
    "# Api --- Hit --------> Data (json)\n",
    "\n",
    "import requests "
   ]
  },
  {
   "cell_type": "code",
   "execution_count": 2,
   "id": "a2ad03e1-39d3-4e2e-98a2-021ef4a327e8",
   "metadata": {},
   "outputs": [
    {
     "name": "stdout",
     "output_type": "stream",
     "text": [
      "Help on package requests:\n",
      "\n",
      "NAME\n",
      "    requests\n",
      "\n",
      "DESCRIPTION\n",
      "    Requests HTTP Library\n",
      "    ~~~~~~~~~~~~~~~~~~~~~\n",
      "\n",
      "    Requests is an HTTP library, written in Python, for human beings.\n",
      "    Basic GET usage:\n",
      "\n",
      "       >>> import requests\n",
      "       >>> r = requests.get('https://www.python.org')\n",
      "       >>> r.status_code\n",
      "       200\n",
      "       >>> b'Python is a programming language' in r.content\n",
      "       True\n",
      "\n",
      "    ... or POST:\n",
      "\n",
      "       >>> payload = dict(key1='value1', key2='value2')\n",
      "       >>> r = requests.post('https://httpbin.org/post', data=payload)\n",
      "       >>> print(r.text)\n",
      "       {\n",
      "         ...\n",
      "         \"form\": {\n",
      "           \"key1\": \"value1\",\n",
      "           \"key2\": \"value2\"\n",
      "         },\n",
      "         ...\n",
      "       }\n",
      "\n",
      "    The other HTTP methods are supported - see `requests.api`. Full documentation\n",
      "    is at <https://requests.readthedocs.io>.\n",
      "\n",
      "    :copyright: (c) 2017 by Kenneth Reitz.\n",
      "    :license: Apache 2.0, see LICENSE for more details.\n",
      "\n",
      "PACKAGE CONTENTS\n",
      "    __version__\n",
      "    _internal_utils\n",
      "    adapters\n",
      "    api\n",
      "    auth\n",
      "    certs\n",
      "    compat\n",
      "    cookies\n",
      "    exceptions\n",
      "    help\n",
      "    hooks\n",
      "    models\n",
      "    packages\n",
      "    sessions\n",
      "    status_codes\n",
      "    structures\n",
      "    utils\n",
      "\n",
      "FUNCTIONS\n",
      "    check_compatibility(\n",
      "        urllib3_version,\n",
      "        chardet_version,\n",
      "        charset_normalizer_version\n",
      "    )\n",
      "\n",
      "DATA\n",
      "    __author_email__ = 'me@kennethreitz.org'\n",
      "    __build__ = 143877\n",
      "    __cake__ = '✨ 🍰 ✨'\n",
      "    __copyright__ = 'Copyright Kenneth Reitz'\n",
      "    __description__ = 'Python HTTP for Humans.'\n",
      "    __license__ = 'Apache-2.0'\n",
      "    __title__ = 'requests'\n",
      "    __url__ = 'https://requests.readthedocs.io'\n",
      "    chardet_version = None\n",
      "    charset_normalizer_version = '3.4.3'\n",
      "    codes = <lookup 'status_codes'>\n",
      "\n",
      "VERSION\n",
      "    2.32.5\n",
      "\n",
      "AUTHOR\n",
      "    Kenneth Reitz\n",
      "\n",
      "FILE\n",
      "    c:\\users\\user\\appdata\\local\\programs\\python\\python313\\lib\\site-packages\\requests\\__init__.py\n",
      "\n",
      "\n"
     ]
    }
   ],
   "source": [
    "help(requests)"
   ]
  },
  {
   "cell_type": "code",
   "execution_count": 60,
   "id": "774d97e3-753d-4018-aee9-4cd5e1f8681e",
   "metadata": {},
   "outputs": [
    {
     "name": "stdin",
     "output_type": "stream",
     "text": [
      "Enter your cityName:  Pune\n",
      "Enter your country code:  In\n"
     ]
    },
    {
     "name": "stdout",
     "output_type": "stream",
     "text": [
      "https://api.openweathermap.org/data/2.5/weather?q=Pune,IN&appid=f3d23ab84146eaf779dbe1fcb07bc122\n",
      "<Response [200]>\n",
      "{'coord': {'lon': 73.8553, 'lat': 18.5196}, 'weather': [{'id': 802, 'main': 'Clouds', 'description': 'scattered clouds', 'icon': '03d'}], 'base': 'stations', 'main': {'temp': 298.51, 'feels_like': 299.06, 'temp_min': 298.51, 'temp_max': 298.51, 'pressure': 1011, 'humidity': 75, 'sea_level': 1011, 'grnd_level': 939}, 'visibility': 10000, 'wind': {'speed': 4.15, 'deg': 277, 'gust': 5.34}, 'clouds': {'all': 49}, 'dt': 1759752009, 'sys': {'country': 'IN', 'sunrise': 1759712157, 'sunset': 1759754956}, 'timezone': 19800, 'id': 1259229, 'name': 'Pune', 'cod': 200}\n",
      "=========================================\n",
      "Live Temperature is: 25.360000000000014 °C\n",
      "Feels Like is: 25.910000000000025 °C\n"
     ]
    }
   ],
   "source": [
    "def getWeather():\n",
    "    api_keys= \"f3d23ab84146eaf779dbe1fcb07bc122\"\n",
    "    cityName1 = input(\"Enter your cityName: \")\n",
    "    countryCode = input(\"Enter your country code: \").upper()\n",
    "    cityName = cityName1+\",\"+countryCode  # Pune,IN\n",
    "    url = f\"https://api.openweathermap.org/data/2.5/weather?q={cityName}&appid={api_keys}\"\n",
    "    print(url)\n",
    "\n",
    "    response = requests.get(url)\n",
    "    print(response)\n",
    "\n",
    "    if response.status_code == 200:\n",
    "        data = response.json()\n",
    "        print(data)\n",
    "    print(\"=========================================\")\n",
    "    temp = data['main']['temp']\n",
    "    celciusTemp = temp - 273.15\n",
    "    print(\"Live Temperature is:\",celciusTemp,\"°C\")\n",
    "\n",
    "    feelsLike = data['main']['feels_like']\n",
    "\n",
    "    celciusFeels = feelsLike-273.15\n",
    "    print(\"Feels Like is:\",celciusFeels,\"°C\")\n",
    "\n",
    "    \n",
    "getWeather()"
   ]
  },
  {
   "cell_type": "code",
   "execution_count": 49,
   "id": "6eafa440-8b98-499b-9808-26c19fab3062",
   "metadata": {},
   "outputs": [],
   "source": [
    "import datetime"
   ]
  },
  {
   "cell_type": "code",
   "execution_count": 56,
   "id": "fddcef5d-293a-4cf5-a696-9d542bb978fb",
   "metadata": {},
   "outputs": [
    {
     "name": "stdout",
     "output_type": "stream",
     "text": [
      "2025-10-06 17:20:35.569827\n"
     ]
    }
   ],
   "source": [
    "print(datetime.datetime.now())"
   ]
  },
  {
   "cell_type": "code",
   "execution_count": 58,
   "id": "bb31b41b-bcaa-4d78-b3d5-4880b9ad6cb5",
   "metadata": {},
   "outputs": [
    {
     "data": {
      "text/plain": [
       "10.0"
      ]
     },
     "execution_count": 58,
     "metadata": {},
     "output_type": "execute_result"
    }
   ],
   "source": [
    "10000/1000 "
   ]
  },
  {
   "cell_type": "code",
   "execution_count": 1,
   "id": "ee69b3fc-58b7-4928-afed-a7c90656f244",
   "metadata": {},
   "outputs": [
    {
     "name": "stdin",
     "output_type": "stream",
     "text": [
      "Enter the City:  Pune\n",
      "Enter country code:  In\n"
     ]
    },
    {
     "name": "stdout",
     "output_type": "stream",
     "text": [
      "\n",
      "Cloudy ☁️                                                               Weather    \n"
     ]
    },
    {
     "data": {
      "text/html": [
       "<b>26.80°C</b>"
      ],
      "text/plain": [
       "<IPython.core.display.HTML object>"
      ]
     },
     "metadata": {},
     "output_type": "display_data"
    },
    {
     "name": "stdout",
     "output_type": "stream",
     "text": [
      "Pressure: 1011 hPa   |   Humidity: 70%                                 2025-10-07          \n",
      "Feels Like: 28.52°C                                                     16:11:44        \n",
      "\n",
      "Today's exciting news!\n",
      "\n",
      "Newspapers\n",
      "\n",
      "\n",
      "Source:  The Indian Express\n",
      "Title:  OpenAI DevDay 2025: ChatGPT gets apps, AgentKit for developers, and cheaper GPT models\n",
      "Link:  https://indianexpress.com/article/technology/artificial-intelligence/openai-devday-2025-chatgpt-gets-apps-agentkit-for-developers-and-cheaper-gpt-models-10292443/\n",
      "\n",
      "\n",
      "Source:  The Indian Express\n",
      "Title:  Artificial Intelligence \t\t\t\t‘Almost all OpenAI code written using AI tool’: Sam Altman at DevDay 2025\n",
      "Link:  https://indianexpress.com/section/technology/artificial-intelligence/\n",
      "\n",
      "\n",
      "Source:  The Indian Express\n",
      "Title:  Artificial Intelligence \t\t\t\tWho is Rahul Patil, the former Stripe exec chosen as Anthropic’s new CTO?\n",
      "Link:  https://indianexpress.com/section/technology/artificial-intelligence/\n",
      "\n",
      "\n",
      "Source:  The Indian Express\n",
      "Title:  Artificial Intelligence \t\t\t\tAMD signs AI chip-supply deal with OpenAI, gives it option to take a 10% stake\n",
      "Link:  https://indianexpress.com/section/technology/artificial-intelligence/\n"
     ]
    }
   ],
   "source": [
    "from IPython.display import HTML, display\n",
    "import requests\n",
    "import datetime\n",
    "import time\n",
    "\n",
    "date = datetime.date.today()\n",
    "\n",
    "\n",
    "def get_weather():\n",
    "    current_time  = time.strftime(\"%H:%M:%S\")\n",
    "    api_keys = \"1eb2cf50b42145e409c49c1bbb1bae57\"\n",
    "    city = input(\"Enter the City: \").title()\n",
    "    country_code = input(\"Enter country code: \").upper()\n",
    "    cityName = (city + \", \" + country_code)\n",
    "    url = f\"https://api.openweathermap.org/data/2.5/weather?q={cityName}&appid={api_keys}\"\n",
    "    response = requests.get(url)\n",
    "    # print(response)\n",
    "    if response.status_code == 200:\n",
    "        data = response.json()\n",
    "    else:\n",
    "        print(\"❌ Failed to fetch weather data.\")\n",
    "    print()\n",
    "\n",
    "    temp_celcius = data[\"main\"][\"temp\"] - 273.14\n",
    "    feels_like = data[\"main\"][\"feels_like\"] - 273.14\n",
    "    pressure = data[\"main\"][\"pressure\"]\n",
    "    humidity = data[\"main\"][\"humidity\"]\n",
    "\n",
    "    if humidity > 80 and pressure < 1008:\n",
    "        condition = (\"Rainy 🌧️\")\n",
    "    elif 60 <= humidity <= 80 and 1005 <= pressure <= 1015:\n",
    "        condition = (\"Cloudy ☁️\")\n",
    "    else:\n",
    "        condition = (\"Sunny ☀️\")\n",
    "    print(f\"{condition}                                                               Weather    \")\n",
    "    t = f\"{temp_celcius:.2f}°C\"\n",
    "    display(HTML(f\"<b>{t}</b>\"))                                                                 \n",
    "    print(f\"Pressure: {pressure} hPa   |   Humidity: {humidity}%                                 {date}          \")\n",
    "    print(f\"Feels Like: {feels_like:.2f}°C                                                     {current_time}        \")\n",
    "\n",
    "\n",
    "def get_news():\n",
    "    print(\"\\nToday's exciting news!\\n\")\n",
    "    url = \"https://trending-tech-ai-news-api.onrender.com/Newspapers\"  # By Aditya\n",
    "    response = requests.get(url)\n",
    "    # print(response)\n",
    "    if response.status_code == 200:\n",
    "        data = response.json()\n",
    "    else:\n",
    "        print(\"❌ Failed to fetch weather data.\")\n",
    "        # print(data)\n",
    "    print(data[\"source\"])\n",
    "    for i in range(4):\n",
    "        print(\"\\n\")\n",
    "        print(\"Source: \",data[\"articles\"][i][\"source\"])\n",
    "        print(\"Title: \",data[\"articles\"][i][\"title\"].replace(\"\\n\", \" \").strip())\n",
    "        print(\"Link: \",data[\"articles\"][i][\"link\"])\n",
    "        \n",
    "get_weather()\n",
    "get_news()"
   ]
  },
  {
   "cell_type": "code",
   "execution_count": 2,
   "id": "268d1a54-3929-4202-9644-bc34e6c8f5cf",
   "metadata": {},
   "outputs": [
    {
     "name": "stdin",
     "output_type": "stream",
     "text": [
      "Enter your city name:  Pune \n",
      "Enter country code (e.g., IN):  In\n"
     ]
    },
    {
     "name": "stdout",
     "output_type": "stream",
     "text": [
      "\n",
      "Fetching weather for Pune ,In...\n",
      "\n",
      "Location: Pune, IN\n",
      "Weather: Clouds (broken clouds)\n",
      "Temperature: 26.79°C (feels like 28.51°C)\n",
      "Min Temp: 26.79°C | Max Temp: 26.79°C\n",
      "Humidity: 70%\n",
      "Pressure: 1011 hPa\n",
      "Visibility: 100.0  km\n",
      "Wind: 4.06 m/s at 282°\n",
      "Cloud Cover: 74%\n",
      "Sunrise: 06:26:10\n",
      "Sunset: 18:18:27\n"
     ]
    }
   ],
   "source": [
    "import requests\n",
    "from datetime import datetime, timezone, timedelta\n",
    "def getWeather():\n",
    "    api_key = \"e106b5cc7bd4bb56ee0d17771aea3ee6\"\n",
    "    cityName = input(\"Enter your city name: \")\n",
    "    countryCode = input(\"Enter country code (e.g., IN): \")\n",
    "    combinedLocation = f\"{cityName},{countryCode}\"\n",
    "    url = f\"https://api.openweathermap.org/data/2.5/weather?q={combinedLocation}&appid={api_key}\"\n",
    "    print(f\"\\nFetching weather for {combinedLocation}...\\n\")\n",
    "    response = requests.get(url)\n",
    "    if response.status_code == 200:\n",
    "        data = response.json()\n",
    "        timezone_offset = data.get('timezone', 0)\n",
    "        local_tz = timezone(timedelta(seconds=timezone_offset))\n",
    "        name = data.get('name', 'N/A')\n",
    "        country = data['sys'].get('country', 'N/A')\n",
    "        weather_main = data['weather'][0].get('main', 'N/A')\n",
    "        description = data['weather'][0].get('description', 'N/A')\n",
    "        temp = data['main'].get('temp', 0)\n",
    "        feels_like = data['main'].get('feels_like', 0)\n",
    "        pressure = data['main'].get('pressure', 'N/A')\n",
    "        humidity = data['main'].get('humidity', 'N/A')\n",
    "        temp_min = data['main'].get('temp_min', 0)\n",
    "        temp_max = data['main'].get('temp_max', 0)\n",
    "        visibility = data.get('visibility', 'N/A')\n",
    "        wind_speed = data['wind'].get('speed', 'N/A')\n",
    "        wind_deg = data['wind'].get('deg', 'N/A')\n",
    "        clouds = data['clouds'].get('all', 'N/A')\n",
    "        sunrise = datetime.fromtimestamp(data['sys'].get('sunrise', 0), tz=local_tz).strftime('%H:%M:%S')\n",
    "        sunset = datetime.fromtimestamp(data['sys'].get('sunset', 0), tz=local_tz).strftime('%H:%M:%S')\n",
    "        temp_c = round(temp - 273.15, 2)\n",
    "        feels_c = round(feels_like - 273.15, 2)\n",
    "        temp_min_c = round(temp_min - 273.15, 2)\n",
    "        temp_max_c = round(temp_max - 273.15, 2)\n",
    "        print(f\"Location: {name}, {country}\")\n",
    "        print(f\"Weather: {weather_main} ({description})\")\n",
    "        print(f\"Temperature: {temp_c}°C (feels like {feels_c}°C)\")\n",
    "        print(f\"Min Temp: {temp_min_c}°C | Max Temp: {temp_max_c}°C\")\n",
    "        print(f\"Humidity: {humidity}%\")\n",
    "        print(f\"Pressure: {pressure} hPa\")\n",
    "        print(f\"Visibility: {visibility / 100}  km\")\n",
    "        print(f\"Wind: {wind_speed} m/s at {wind_deg}°\")\n",
    "        print(f\"Cloud Cover: {clouds}%\")\n",
    "        print(f\"Sunrise: {sunrise}\")\n",
    "        print(f\"Sunset: {sunset}\")\n",
    "    else:\n",
    "        print(f\"Failed to fetch weather data! Status Code: {response.status_code}\")\n",
    "getWeather()"
   ]
  },
  {
   "cell_type": "code",
   "execution_count": null,
   "id": "140cbd1c-ca47-4844-bdcf-1059bfe0917d",
   "metadata": {},
   "outputs": [],
   "source": []
  }
 ],
 "metadata": {
  "kernelspec": {
   "display_name": "Python 3 (ipykernel)",
   "language": "python",
   "name": "python3"
  },
  "language_info": {
   "codemirror_mode": {
    "name": "ipython",
    "version": 3
   },
   "file_extension": ".py",
   "mimetype": "text/x-python",
   "name": "python",
   "nbconvert_exporter": "python",
   "pygments_lexer": "ipython3",
   "version": "3.13.7"
  }
 },
 "nbformat": 4,
 "nbformat_minor": 5
}
