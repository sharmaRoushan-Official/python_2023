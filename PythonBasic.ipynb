{
 "cells": [
  {
   "cell_type": "markdown",
   "id": "1ed2c7d3-54ad-422b-9b6a-5c4ddb31847e",
   "metadata": {},
   "source": [
    "# Python Basic"
   ]
  },
  {
   "cell_type": "code",
   "execution_count": 16,
   "id": "5b58809d-baa3-4e60-8120-8380bee94ff1",
   "metadata": {},
   "outputs": [],
   "source": [
    "# HTML \n",
    "# heading tag- h1-h6"
   ]
  },
  {
   "cell_type": "markdown",
   "id": "7f107d71-6fe8-4cba-8dcc-eaba03b4ca37",
   "metadata": {},
   "source": [
    "## Python Baisc\n",
    "### Python Baisc\n",
    "#### Python Basic\n",
    "##### Python Baisc\n",
    "###### Python Basic"
   ]
  },
  {
   "cell_type": "code",
   "execution_count": 22,
   "id": "3c6c1826-7329-411c-8eee-0a6198ee8692",
   "metadata": {},
   "outputs": [
    {
     "name": "stdout",
     "output_type": "stream",
     "text": [
      "Hello world\n"
     ]
    }
   ],
   "source": [
    "print(\"Hello world\")"
   ]
  },
  {
   "cell_type": "raw",
   "id": "3023b46d-325d-4d1a-82e4-9b75c33b51d6",
   "metadata": {},
   "source": [
    "printf()\n",
    "\n",
    "cout()\n",
    "\n",
    "console.log()\n",
    "\n",
    "print()"
   ]
  },
  {
   "cell_type": "code",
   "execution_count": 26,
   "id": "3e1f73e1-47ab-4caf-8bd7-ed7993134f60",
   "metadata": {},
   "outputs": [
    {
     "name": "stdout",
     "output_type": "stream",
     "text": [
      "Hello wolrd\n"
     ]
    }
   ],
   "source": [
    "# case sensitive.\n",
    "print('Hello wolrd')"
   ]
  },
  {
   "cell_type": "code",
   "execution_count": 28,
   "id": "6f262d9c-6d9c-423e-b15a-2abda9340a0f",
   "metadata": {},
   "outputs": [
    {
     "ename": "NameError",
     "evalue": "name 'Print' is not defined",
     "output_type": "error",
     "traceback": [
      "\u001b[1;31m---------------------------------------------------------------------------\u001b[0m",
      "\u001b[1;31mNameError\u001b[0m                                 Traceback (most recent call last)",
      "Cell \u001b[1;32mIn[28], line 1\u001b[0m\n\u001b[1;32m----> 1\u001b[0m Print(\u001b[38;5;124m\"\u001b[39m\u001b[38;5;124mHello wolrd\u001b[39m\u001b[38;5;124m\"\u001b[39m)\n",
      "\u001b[1;31mNameError\u001b[0m: name 'Print' is not defined"
     ]
    }
   ],
   "source": [
    "Print(\"Hello wolrd\")"
   ]
  },
  {
   "cell_type": "code",
   "execution_count": 30,
   "id": "0de05245-ab9e-4aaa-a5be-bedfb59121b1",
   "metadata": {},
   "outputs": [
    {
     "name": "stdout",
     "output_type": "stream",
     "text": [
      "Ashwnini\n"
     ]
    }
   ],
   "source": [
    "print(\"Ashwnini\")"
   ]
  },
  {
   "cell_type": "code",
   "execution_count": 32,
   "id": "3116ff5f-0fec-4b6e-9b6b-4fa068809364",
   "metadata": {},
   "outputs": [
    {
     "name": "stdout",
     "output_type": "stream",
     "text": [
      "Ashwini\n"
     ]
    }
   ],
   "source": [
    "print('Ashwini')"
   ]
  },
  {
   "cell_type": "code",
   "execution_count": 34,
   "id": "c829ca69-d9d0-4d34-a763-c226870d77a3",
   "metadata": {},
   "outputs": [
    {
     "name": "stdout",
     "output_type": "stream",
     "text": [
      "3\n"
     ]
    }
   ],
   "source": [
    "print('3')"
   ]
  },
  {
   "cell_type": "code",
   "execution_count": 36,
   "id": "79f6014f-9ff1-4550-bf3c-b337421e64e8",
   "metadata": {},
   "outputs": [
    {
     "name": "stdout",
     "output_type": "stream",
     "text": [
      "3\n"
     ]
    }
   ],
   "source": [
    "print(3)"
   ]
  },
  {
   "cell_type": "code",
   "execution_count": 38,
   "id": "3f4535dd-b08a-4da4-9cf7-0293b79b366d",
   "metadata": {},
   "outputs": [
    {
     "ename": "NameError",
     "evalue": "name 'Ashama' is not defined",
     "output_type": "error",
     "traceback": [
      "\u001b[1;31m---------------------------------------------------------------------------\u001b[0m",
      "\u001b[1;31mNameError\u001b[0m                                 Traceback (most recent call last)",
      "Cell \u001b[1;32mIn[38], line 1\u001b[0m\n\u001b[1;32m----> 1\u001b[0m \u001b[38;5;28mprint\u001b[39m(Ashama)\n",
      "\u001b[1;31mNameError\u001b[0m: name 'Ashama' is not defined"
     ]
    }
   ],
   "source": [
    "print(Ashama)"
   ]
  },
  {
   "cell_type": "code",
   "execution_count": 40,
   "id": "83f6c591-89dd-4f3d-a565-37f429717a38",
   "metadata": {},
   "outputs": [
    {
     "ename": "NameError",
     "evalue": "name 'A' is not defined",
     "output_type": "error",
     "traceback": [
      "\u001b[1;31m---------------------------------------------------------------------------\u001b[0m",
      "\u001b[1;31mNameError\u001b[0m                                 Traceback (most recent call last)",
      "Cell \u001b[1;32mIn[40], line 1\u001b[0m\n\u001b[1;32m----> 1\u001b[0m \u001b[38;5;28mprint\u001b[39m(A)\n",
      "\u001b[1;31mNameError\u001b[0m: name 'A' is not defined"
     ]
    }
   ],
   "source": [
    "print(A)"
   ]
  },
  {
   "cell_type": "code",
   "execution_count": 42,
   "id": "ea5e6629-dad6-475e-802d-500da7e83fc0",
   "metadata": {},
   "outputs": [
    {
     "name": "stdout",
     "output_type": "stream",
     "text": [
      "3\n"
     ]
    }
   ],
   "source": [
    "print(3)"
   ]
  },
  {
   "cell_type": "code",
   "execution_count": 44,
   "id": "2666dac1-6ae7-443e-8f54-41fc063fcedc",
   "metadata": {},
   "outputs": [],
   "source": [
    "import string"
   ]
  },
  {
   "cell_type": "code",
   "execution_count": 46,
   "id": "4be9482d-310c-4627-b818-5ac2f868bbb6",
   "metadata": {},
   "outputs": [
    {
     "name": "stdout",
     "output_type": "stream",
     "text": [
      "Help on module string:\n",
      "\n",
      "NAME\n",
      "    string - A collection of string constants.\n",
      "\n",
      "MODULE REFERENCE\n",
      "    https://docs.python.org/3.12/library/string.html\n",
      "\n",
      "    The following documentation is automatically generated from the Python\n",
      "    source files.  It may be incomplete, incorrect or include features that\n",
      "    are considered implementation detail and may vary between Python\n",
      "    implementations.  When in doubt, consult the module reference at the\n",
      "    location listed above.\n",
      "\n",
      "DESCRIPTION\n",
      "    Public module variables:\n",
      "\n",
      "    whitespace -- a string containing all ASCII whitespace\n",
      "    ascii_lowercase -- a string containing all ASCII lowercase letters\n",
      "    ascii_uppercase -- a string containing all ASCII uppercase letters\n",
      "    ascii_letters -- a string containing all ASCII letters\n",
      "    digits -- a string containing all ASCII decimal digits\n",
      "    hexdigits -- a string containing all ASCII hexadecimal digits\n",
      "    octdigits -- a string containing all ASCII octal digits\n",
      "    punctuation -- a string containing all ASCII punctuation characters\n",
      "    printable -- a string containing all ASCII characters considered printable\n",
      "\n",
      "CLASSES\n",
      "    builtins.object\n",
      "        Formatter\n",
      "        Template\n",
      "\n",
      "    class Formatter(builtins.object)\n",
      "     |  Methods defined here:\n",
      "     |\n",
      "     |  check_unused_args(self, used_args, args, kwargs)\n",
      "     |\n",
      "     |  convert_field(self, value, conversion)\n",
      "     |\n",
      "     |  format(self, format_string, /, *args, **kwargs)\n",
      "     |\n",
      "     |  format_field(self, value, format_spec)\n",
      "     |\n",
      "     |  get_field(self, field_name, args, kwargs)\n",
      "     |      # given a field_name, find the object it references.\n",
      "     |      #  field_name:   the field being looked up, e.g. \"0.name\"\n",
      "     |      #                 or \"lookup[3]\"\n",
      "     |      #  used_args:    a set of which args have been used\n",
      "     |      #  args, kwargs: as passed in to vformat\n",
      "     |\n",
      "     |  get_value(self, key, args, kwargs)\n",
      "     |\n",
      "     |  parse(self, format_string)\n",
      "     |      # returns an iterable that contains tuples of the form:\n",
      "     |      # (literal_text, field_name, format_spec, conversion)\n",
      "     |      # literal_text can be zero length\n",
      "     |      # field_name can be None, in which case there's no\n",
      "     |      #  object to format and output\n",
      "     |      # if field_name is not None, it is looked up, formatted\n",
      "     |      #  with format_spec and conversion and then used\n",
      "     |\n",
      "     |  vformat(self, format_string, args, kwargs)\n",
      "     |\n",
      "     |  ----------------------------------------------------------------------\n",
      "     |  Data descriptors defined here:\n",
      "     |\n",
      "     |  __dict__\n",
      "     |      dictionary for instance variables\n",
      "     |\n",
      "     |  __weakref__\n",
      "     |      list of weak references to the object\n",
      "\n",
      "    class Template(builtins.object)\n",
      "     |  Template(template)\n",
      "     |\n",
      "     |  A string class for supporting $-substitutions.\n",
      "     |\n",
      "     |  Methods defined here:\n",
      "     |\n",
      "     |  __init__(self, template)\n",
      "     |      Initialize self.  See help(type(self)) for accurate signature.\n",
      "     |\n",
      "     |  get_identifiers(self)\n",
      "     |\n",
      "     |  is_valid(self)\n",
      "     |\n",
      "     |  safe_substitute(self, mapping={}, /, **kws)\n",
      "     |\n",
      "     |  substitute(self, mapping={}, /, **kws)\n",
      "     |\n",
      "     |  ----------------------------------------------------------------------\n",
      "     |  Class methods defined here:\n",
      "     |\n",
      "     |  __init_subclass__()\n",
      "     |      This method is called when a class is subclassed.\n",
      "     |\n",
      "     |      The default implementation does nothing. It may be\n",
      "     |      overridden to extend subclasses.\n",
      "     |\n",
      "     |  ----------------------------------------------------------------------\n",
      "     |  Data descriptors defined here:\n",
      "     |\n",
      "     |  __dict__\n",
      "     |      dictionary for instance variables\n",
      "     |\n",
      "     |  __weakref__\n",
      "     |      list of weak references to the object\n",
      "     |\n",
      "     |  ----------------------------------------------------------------------\n",
      "     |  Data and other attributes defined here:\n",
      "     |\n",
      "     |  braceidpattern = None\n",
      "     |\n",
      "     |  delimiter = '$'\n",
      "     |\n",
      "     |  flags = re.IGNORECASE\n",
      "     |\n",
      "     |  idpattern = '(?a:[_a-z][_a-z0-9]*)'\n",
      "     |\n",
      "     |  pattern = re.compile('\\n            \\\\$(?:\\n              ...identifie...\n",
      "\n",
      "FUNCTIONS\n",
      "    capwords(s, sep=None)\n",
      "        capwords(s [,sep]) -> string\n",
      "\n",
      "        Split the argument into words using split, capitalize each\n",
      "        word using capitalize, and join the capitalized words using\n",
      "        join.  If the optional second argument sep is absent or None,\n",
      "        runs of whitespace characters are replaced by a single space\n",
      "        and leading and trailing whitespace are removed, otherwise\n",
      "        sep is used to split and join the words.\n",
      "\n",
      "DATA\n",
      "    __all__ = ['ascii_letters', 'ascii_lowercase', 'ascii_uppercase', 'cap...\n",
      "    ascii_letters = 'abcdefghijklmnopqrstuvwxyzABCDEFGHIJKLMNOPQRSTUVWXYZ'\n",
      "    ascii_lowercase = 'abcdefghijklmnopqrstuvwxyz'\n",
      "    ascii_uppercase = 'ABCDEFGHIJKLMNOPQRSTUVWXYZ'\n",
      "    digits = '0123456789'\n",
      "    hexdigits = '0123456789abcdefABCDEF'\n",
      "    octdigits = '01234567'\n",
      "    printable = '0123456789abcdefghijklmnopqrstuvwxyzABCDEFGHIJKLMNOPQRSTU...\n",
      "    punctuation = '!\"#$%&\\'()*+,-./:;<=>?@[\\\\]^_`{|}~'\n",
      "    whitespace = ' \\t\\n\\r\\x0b\\x0c'\n",
      "\n",
      "FILE\n",
      "    c:\\users\\webasha08\\anaconda3\\lib\\string.py\n",
      "\n",
      "\n"
     ]
    }
   ],
   "source": [
    "help(string)"
   ]
  },
  {
   "cell_type": "code",
   "execution_count": 64,
   "id": "cd300b96-0493-4c64-8d6d-64381484ed48",
   "metadata": {},
   "outputs": [
    {
     "name": "stdout",
     "output_type": "stream",
     "text": [
      "A\n",
      "B\n",
      "C\n",
      "D\n",
      "E\n",
      "F\n",
      "G\n"
     ]
    }
   ],
   "source": [
    "# ASCII - American standard code for Information interchange.\n",
    "# \n",
    "\n",
    "print(chr(65))\n",
    "print(chr(66))\n",
    "print(chr(67))\n",
    "print(chr(68))\n",
    "print(chr(69))\n",
    "print(chr(70))\n",
    "print(chr(71))"
   ]
  },
  {
   "cell_type": "code",
   "execution_count": 68,
   "id": "23e3ba12-020a-4c54-892d-adab311ea85f",
   "metadata": {},
   "outputs": [
    {
     "name": "stdout",
     "output_type": "stream",
     "text": [
      "Z\n"
     ]
    }
   ],
   "source": [
    "print(chr(90))"
   ]
  },
  {
   "cell_type": "code",
   "execution_count": 78,
   "id": "e5a1f403-0fd1-4090-92a1-0e09ec244d1a",
   "metadata": {},
   "outputs": [
    {
     "name": "stdout",
     "output_type": "stream",
     "text": [
      "[\n",
      "\\\n",
      "]\n",
      "^\n",
      "_\n",
      "`\n",
      "a\n",
      "b\n",
      "c\n"
     ]
    }
   ],
   "source": [
    "print(chr(91))\n",
    "print(chr(92))\n",
    "print(chr(93))\n",
    "print(chr(94))\n",
    "print(chr(95))\n",
    "print(chr(96))\n",
    "print(chr(97))\n",
    "print(chr(98))\n",
    "print(chr(99))"
   ]
  },
  {
   "cell_type": "code",
   "execution_count": 82,
   "id": "4aa48d88-5e1c-4720-b17c-e499736982b9",
   "metadata": {},
   "outputs": [
    {
     "name": "stdout",
     "output_type": "stream",
     "text": [
      "a\n"
     ]
    }
   ],
   "source": [
    "print('a')"
   ]
  },
  {
   "cell_type": "code",
   "execution_count": 84,
   "id": "a6f873d8-876b-4890-8295-4601ac1d71e0",
   "metadata": {},
   "outputs": [
    {
     "name": "stdout",
     "output_type": "stream",
     "text": [
      "A\n"
     ]
    }
   ],
   "source": [
    "print('A')"
   ]
  },
  {
   "cell_type": "code",
   "execution_count": 86,
   "id": "4f15d4c6-e8ea-436f-864b-764708a56a5f",
   "metadata": {},
   "outputs": [
    {
     "name": "stdout",
     "output_type": "stream",
     "text": [
      "A\n"
     ]
    }
   ],
   "source": [
    "print(chr(65))"
   ]
  },
  {
   "cell_type": "code",
   "execution_count": 88,
   "id": "eaa6ff07-32a1-41e9-8445-cc2937f3b688",
   "metadata": {},
   "outputs": [
    {
     "name": "stdout",
     "output_type": "stream",
     "text": [
      "Hello world\n"
     ]
    }
   ],
   "source": [
    "print(\"Hello world\") # smallest,"
   ]
  },
  {
   "cell_type": "code",
   "execution_count": 90,
   "id": "1bc12d59-d37a-49ae-8095-e5b5d2a538a9",
   "metadata": {},
   "outputs": [
    {
     "name": "stdout",
     "output_type": "stream",
     "text": [
      "hello world\n"
     ]
    }
   ],
   "source": [
    "print('hello world')  # greatest,"
   ]
  },
  {
   "cell_type": "code",
   "execution_count": 92,
   "id": "9fc8127a-6959-42f0-ab37-80fefcad4d4c",
   "metadata": {},
   "outputs": [],
   "source": [
    "# Asma "
   ]
  },
  {
   "cell_type": "code",
   "execution_count": 94,
   "id": "7726609c-68df-4857-95fc-a6f94ae5b3d7",
   "metadata": {},
   "outputs": [
    {
     "name": "stdout",
     "output_type": "stream",
     "text": [
      "a\n"
     ]
    }
   ],
   "source": [
    "print(chr(97))"
   ]
  },
  {
   "cell_type": "code",
   "execution_count": 96,
   "id": "90fe14eb-c223-464a-a9b5-d3a7e1df3f3f",
   "metadata": {},
   "outputs": [
    {
     "name": "stdout",
     "output_type": "stream",
     "text": [
      "A\n"
     ]
    }
   ],
   "source": [
    "print(chr(65))"
   ]
  },
  {
   "cell_type": "code",
   "execution_count": 100,
   "id": "61e4f4a5-33ed-4c08-b6f7-f637e6857328",
   "metadata": {},
   "outputs": [
    {
     "data": {
      "text/plain": [
       "True"
      ]
     },
     "execution_count": 100,
     "metadata": {},
     "output_type": "execute_result"
    }
   ],
   "source": [
    "\"Hello world\"<\"hello world\""
   ]
  },
  {
   "cell_type": "code",
   "execution_count": 102,
   "id": "0d2a91c9-b721-4f5a-b8c7-696da6a729f6",
   "metadata": {},
   "outputs": [
    {
     "name": "stdout",
     "output_type": "stream",
     "text": [
      "3\n"
     ]
    }
   ],
   "source": [
    "print(\"3\")"
   ]
  },
  {
   "cell_type": "code",
   "execution_count": 106,
   "id": "0de7423c-716d-49a8-992f-12ed76952b60",
   "metadata": {},
   "outputs": [
    {
     "name": "stdout",
     "output_type": "stream",
     "text": [
      "\u0003\n"
     ]
    }
   ],
   "source": [
    "print(chr(3))"
   ]
  },
  {
   "cell_type": "code",
   "execution_count": 108,
   "id": "42395c51-cb14-4a55-8fc9-ce36dc2d6b1f",
   "metadata": {},
   "outputs": [
    {
     "name": "stdout",
     "output_type": "stream",
     "text": [
      "hello world\n"
     ]
    }
   ],
   "source": [
    "print('hello world')"
   ]
  },
  {
   "cell_type": "code",
   "execution_count": 110,
   "id": "a27cfc04-3f8f-4d3a-a7be-8fea6de2084d",
   "metadata": {},
   "outputs": [
    {
     "name": "stdout",
     "output_type": "stream",
     "text": [
      "Hello world\n"
     ]
    }
   ],
   "source": [
    "print('Hello world')"
   ]
  },
  {
   "cell_type": "code",
   "execution_count": 112,
   "id": "dab14113-518b-4de5-b934-74ff55ed1922",
   "metadata": {},
   "outputs": [
    {
     "name": "stdout",
     "output_type": "stream",
     "text": [
      "Hello world\n"
     ]
    }
   ],
   "source": [
    "print(\"Hello world\")"
   ]
  },
  {
   "cell_type": "code",
   "execution_count": 114,
   "id": "776c12a6-9ff5-4966-bcbd-4c660eebf6c4",
   "metadata": {},
   "outputs": [
    {
     "name": "stdout",
     "output_type": "stream",
     "text": [
      "12156546415\n"
     ]
    }
   ],
   "source": [
    "print(\"12156546415\")"
   ]
  },
  {
   "cell_type": "code",
   "execution_count": 116,
   "id": "b94dd812-12cc-446e-aee8-d82a3c5f40bb",
   "metadata": {},
   "outputs": [
    {
     "name": "stdout",
     "output_type": "stream",
     "text": [
      "!@#$%^\n"
     ]
    }
   ],
   "source": [
    "print(\"!@#$%^\")"
   ]
  },
  {
   "cell_type": "code",
   "execution_count": 118,
   "id": "8841b68a-0a88-4586-9bf4-96e056e23b9d",
   "metadata": {},
   "outputs": [],
   "source": [
    "import sys"
   ]
  },
  {
   "cell_type": "code",
   "execution_count": 120,
   "id": "42467897-c88a-4647-967b-024d94c31344",
   "metadata": {},
   "outputs": [
    {
     "name": "stdout",
     "output_type": "stream",
     "text": [
      "3.12.4 | packaged by Anaconda, Inc. | (main, Jun 18 2024, 15:03:56) [MSC v.1929 64 bit (AMD64)]\n"
     ]
    }
   ],
   "source": [
    "print(sys.version)"
   ]
  },
  {
   "cell_type": "code",
   "execution_count": 122,
   "id": "3254aba0-6cec-4b2c-aaef-4e565f6dd694",
   "metadata": {},
   "outputs": [
    {
     "name": "stdout",
     "output_type": "stream",
     "text": [
      "hello world\n"
     ]
    },
    {
     "ename": "NameError",
     "evalue": "name 'frint' is not defined",
     "output_type": "error",
     "traceback": [
      "\u001b[1;31m---------------------------------------------------------------------------\u001b[0m",
      "\u001b[1;31mNameError\u001b[0m                                 Traceback (most recent call last)",
      "Cell \u001b[1;32mIn[122], line 2\u001b[0m\n\u001b[0;32m      1\u001b[0m \u001b[38;5;28mprint\u001b[39m(\u001b[38;5;124m'\u001b[39m\u001b[38;5;124mhello world\u001b[39m\u001b[38;5;124m'\u001b[39m)\n\u001b[1;32m----> 2\u001b[0m frint(\u001b[38;5;124m'\u001b[39m\u001b[38;5;124mhello world\u001b[39m\u001b[38;5;124m'\u001b[39m)\n",
      "\u001b[1;31mNameError\u001b[0m: name 'frint' is not defined"
     ]
    }
   ],
   "source": [
    "print('hello world')\n",
    "frint('hello world')"
   ]
  },
  {
   "cell_type": "code",
   "execution_count": 124,
   "id": "e511f11d-978a-420f-8228-220581e04058",
   "metadata": {},
   "outputs": [],
   "source": [
    "# interpreted  -- > comment \n"
   ]
  },
  {
   "cell_type": "code",
   "execution_count": 126,
   "id": "b7e1abed-81df-4309-bb38-622b9fb95637",
   "metadata": {},
   "outputs": [
    {
     "name": "stdout",
     "output_type": "stream",
     "text": [
      "Hello world\n",
      "13651616\n",
      "!@#$%^\n",
      "123\n",
      "100\n",
      "3.0\n",
      "100.0\n",
      "9999.99999\n",
      "True\n",
      "False\n"
     ]
    }
   ],
   "source": [
    "# string - \"\",'', '''''',\"\"\"\"\"\"\n",
    "print('Hello world')\n",
    "print(\"13651616\")\n",
    "print(\"!@#$%^\")\n",
    "\n",
    "# integer\n",
    "print(123)\n",
    "print(100)\n",
    "\n",
    "# float\n",
    "print(3.0)\n",
    "print(100.0)\n",
    "print(9999.99999)\n",
    "\n",
    "\n",
    "# Boolean\n",
    "print(True)\n",
    "print(False)"
   ]
  },
  {
   "cell_type": "code",
   "execution_count": 134,
   "id": "16396fe7-f004-4a37-ade1-c19fa713798e",
   "metadata": {},
   "outputs": [
    {
     "name": "stdout",
     "output_type": "stream",
     "text": [
      "1\n"
     ]
    }
   ],
   "source": [
    "print(int(True))\n",
    "# print(int(true)) c,javaScript"
   ]
  },
  {
   "cell_type": "code",
   "execution_count": 130,
   "id": "06a2492e-d8d7-4f7b-9c11-8b193bcc6a39",
   "metadata": {},
   "outputs": [
    {
     "name": "stdout",
     "output_type": "stream",
     "text": [
      "0\n"
     ]
    }
   ],
   "source": [
    "print(int(False))"
   ]
  },
  {
   "cell_type": "code",
   "execution_count": 144,
   "id": "f9d35101-6d4c-4630-9b48-2d81e7d77c29",
   "metadata": {},
   "outputs": [
    {
     "name": "stdout",
     "output_type": "stream",
     "text": [
      "Hello wolrd\n",
      "<class 'str'>\n",
      "3 <class 'int'>\n",
      "3.0 <class 'float'>\n",
      "True <class 'bool'>\n",
      "False <class 'bool'>\n"
     ]
    }
   ],
   "source": [
    "# type\n",
    "\n",
    "print('Hello wolrd')\n",
    "print(type(\"Hello world\"))\n",
    "\n",
    "\n",
    "print(3,type(3))\n",
    "\n",
    "print(3.0,type(3.0))\n",
    "\n",
    "print(True,type(True))\n",
    "\n",
    "print(False,type(False))"
   ]
  },
  {
   "cell_type": "code",
   "execution_count": 150,
   "id": "b529aa39-cbb0-4c5d-a486-688c19327a74",
   "metadata": {},
   "outputs": [
    {
     "name": "stdout",
     "output_type": "stream",
     "text": [
      "3 <class 'str'>\n",
      "100\n",
      "<class 'str'>\n",
      "100\n",
      "<class 'int'>\n"
     ]
    }
   ],
   "source": [
    "print('3',type('3'))\n",
    "print(\"100\")\n",
    "print(type(\"100\"))\n",
    "\n",
    "\n",
    "print(100)\n",
    "print(type(100))"
   ]
  },
  {
   "cell_type": "code",
   "execution_count": 152,
   "id": "f59bad13-1466-49f8-b725-908bda65102b",
   "metadata": {},
   "outputs": [
    {
     "name": "stdout",
     "output_type": "stream",
     "text": [
      "!@##$%\n",
      "<class 'str'>\n"
     ]
    }
   ],
   "source": [
    "print(\"!@##$%\")\n",
    "print(type(\"!@#$%\"))"
   ]
  },
  {
   "cell_type": "code",
   "execution_count": 156,
   "id": "08475ea2-0992-41f2-b1b2-c04c9e18e5e0",
   "metadata": {},
   "outputs": [
    {
     "name": "stdout",
     "output_type": "stream",
     "text": [
      "True\n",
      "<class 'str'>\n",
      "True\n",
      "<class 'bool'>\n"
     ]
    }
   ],
   "source": [
    "print('True')\n",
    "print(type(\"True\"))\n",
    "\n",
    "print(True)\n",
    "print(type(True))"
   ]
  },
  {
   "cell_type": "code",
   "execution_count": 160,
   "id": "70e3b5ba-0144-47f2-8643-db752efbf3f4",
   "metadata": {},
   "outputs": [
    {
     "name": "stdout",
     "output_type": "stream",
     "text": [
      "4 <class 'int'>\n"
     ]
    }
   ],
   "source": [
    "print(3+True,type(3+True))"
   ]
  },
  {
   "cell_type": "code",
   "execution_count": 166,
   "id": "9143f1b1-a060-4593-b578-bdbfd7f2558a",
   "metadata": {},
   "outputs": [
    {
     "name": "stdout",
     "output_type": "stream",
     "text": [
      "60 <class 'int'>\n"
     ]
    }
   ],
   "source": [
    "j=5\n",
    "x = 45+3*j\n",
    "print(x,type(x))"
   ]
  },
  {
   "cell_type": "code",
   "execution_count": 168,
   "id": "e436cfdd-edf0-453a-8a72-4372fe2dca45",
   "metadata": {},
   "outputs": [
    {
     "name": "stdout",
     "output_type": "stream",
     "text": [
      "Manshi\n"
     ]
    }
   ],
   "source": [
    "print(\"Manshi\")"
   ]
  },
  {
   "cell_type": "code",
   "execution_count": 172,
   "id": "7648286d-3385-445a-821c-cc57913526ad",
   "metadata": {},
   "outputs": [
    {
     "name": "stdout",
     "output_type": "stream",
     "text": [
      "i\n"
     ]
    }
   ],
   "source": [
    "print(chr(105))"
   ]
  },
  {
   "cell_type": "code",
   "execution_count": 176,
   "id": "ed67b8d9-c191-4a7d-9bb1-0b079144e35f",
   "metadata": {},
   "outputs": [
    {
     "name": "stdout",
     "output_type": "stream",
     "text": [
      "i\n"
     ]
    }
   ],
   "source": [
    "print(\"i\")"
   ]
  },
  {
   "cell_type": "code",
   "execution_count": 187,
   "id": "2e39b243-3804-40a2-938d-7ebf2555522c",
   "metadata": {},
   "outputs": [],
   "source": [
    "# Operator\n",
    "# 1. Assignment Operator - [=] \n",
    "# 2. Arithmetic Operator - [+,-,*,/,//,%,** etc]\n",
    "        # >> unary Operator - [++,--,]\n",
    "        # >> Binary Operator- [+,-,*,/,**]\n",
    "# 3. Comparison operation/Relational operator- [<,>,<=,>=,==,!=]-\n",
    "# 4. Logical Operator - [AND,OR,NOT]- [NAND,XOR] -\n",
    "# 5. Identity Opertaor - [is or is not] -  Memory Address\n",
    "# 6. Membership Operator- [in or not in]\n",
    "# Boolean -True/False\n"
   ]
  },
  {
   "cell_type": "code",
   "execution_count": 179,
   "id": "be7b2685-84e2-4dc2-bff8-fe6dccbce6c9",
   "metadata": {},
   "outputs": [],
   "source": [
    "# include <stdio.h>\n",
    "\n",
    "# int main(){\n",
    "#     printf(\"Hello world\");\n",
    "#     return 0;\n",
    "# };"
   ]
  },
  {
   "cell_type": "code",
   "execution_count": 189,
   "id": "8e60316d-15fc-4590-90a5-2a08bbc69995",
   "metadata": {},
   "outputs": [],
   "source": [
    "# in C - [while,do-while,for,for-in[key:value],for-of[array]]\n",
    "# array = [1,2,3,4,5,]\n",
    "\n",
    "# i=0, 1\n",
    "# i++; unary operator [post-increment]  i++; 0+1 = 1\n",
    "# --i; pre-decrement -1\n",
    "# ++i; pre incrmenet +1 +i\n",
    "# i--; post decrement; 0 -1 = -1\n",
    "\n",
    "# DSA of c\n",
    "\n",
    "# i**3 i to the power of 3"
   ]
  },
  {
   "cell_type": "code",
   "execution_count": 193,
   "id": "3b98a608-c170-4d46-abdc-1527e7da0ad6",
   "metadata": {},
   "outputs": [
    {
     "name": "stdout",
     "output_type": "stream",
     "text": [
      "<class 'float'>\n"
     ]
    }
   ],
   "source": [
    "print(type(-100.0))  # integer"
   ]
  },
  {
   "cell_type": "code",
   "execution_count": 197,
   "id": "7467eff3-b083-496e-9abd-0d9af62e9eb7",
   "metadata": {},
   "outputs": [
    {
     "name": "stdout",
     "output_type": "stream",
     "text": [
      "20\n"
     ]
    }
   ],
   "source": [
    "# Data typeCasting\n",
    "\n",
    "# What is a variable?\n",
    "x = 20;\n",
    "print(x)\n",
    "# What is constant?\n",
    "\n",
    "# container \n",
    "\n",
    "# char x;  # declaration\n",
    "# x = 'a'; # initialization\n",
    "# printf(\"%d\",&x);\n",
    "# printf(\"%c\",&x);"
   ]
  },
  {
   "cell_type": "code",
   "execution_count": 201,
   "id": "27cab5c5-2540-4279-9f87-b303fb699bd3",
   "metadata": {},
   "outputs": [
    {
     "name": "stdout",
     "output_type": "stream",
     "text": [
      "a\n"
     ]
    }
   ],
   "source": [
    "x = \"a\"\n",
    "print(x)"
   ]
  },
  {
   "cell_type": "code",
   "execution_count": 205,
   "id": "157dbff5-cea4-4e3b-8657-ee6d01b8c071",
   "metadata": {},
   "outputs": [
    {
     "name": "stdout",
     "output_type": "stream",
     "text": [
      "Apple\n"
     ]
    }
   ],
   "source": [
    "x1 = \"Apple\"  # constant\n",
    "print(x1)"
   ]
  },
  {
   "cell_type": "code",
   "execution_count": 211,
   "id": "a21907cf-5fb2-4326-a13b-9111672a664e",
   "metadata": {},
   "outputs": [
    {
     "name": "stdout",
     "output_type": "stream",
     "text": [
      "a\n"
     ]
    }
   ],
   "source": [
    "a_1 = \"a\"\n",
    "print(a_1)"
   ]
  },
  {
   "cell_type": "code",
   "execution_count": 213,
   "id": "6c6863fc-75c2-4c6d-939c-779b74d874c7",
   "metadata": {},
   "outputs": [
    {
     "name": "stdout",
     "output_type": "stream",
     "text": [
      "20\n"
     ]
    }
   ],
   "source": [
    "_ = 20\n",
    "print(_)"
   ]
  },
  {
   "cell_type": "code",
   "execution_count": 215,
   "id": "b66aa614-a300-45ee-99f3-9cea13f985b1",
   "metadata": {},
   "outputs": [
    {
     "name": "stdout",
     "output_type": "stream",
     "text": [
      "0\n",
      "1\n",
      "2\n",
      "3\n",
      "4\n",
      "5\n",
      "6\n",
      "7\n",
      "8\n",
      "9\n",
      "10\n",
      "11\n",
      "12\n",
      "13\n",
      "14\n",
      "15\n",
      "16\n",
      "17\n",
      "18\n",
      "19\n"
     ]
    }
   ],
   "source": [
    "for _ in range(20):\n",
    "    print(_)"
   ]
  },
  {
   "cell_type": "code",
   "execution_count": 217,
   "id": "c2a4f696-04f8-4f10-9ef5-218b885517be",
   "metadata": {},
   "outputs": [],
   "source": [
    "# \n",
    "# variable and Expression\n",
    "\n",
    "# variable\n",
    "\n",
    "# camelCase- camelCase\n",
    "# snakeCase- snake_Case\n",
    "# PascleCase- PASCLECASE"
   ]
  },
  {
   "cell_type": "code",
   "execution_count": 219,
   "id": "468662fc-eda7-4952-95cb-370dec8ec49d",
   "metadata": {},
   "outputs": [
    {
     "name": "stdout",
     "output_type": "stream",
     "text": [
      "-1810\n"
     ]
    }
   ],
   "source": [
    "# variable Expression\n",
    "j=5\n",
    "z = -5\n",
    "a1 = 56+89+75-405*j+z [operator Precedency]-[BODMAS]\n",
    "print(a1)"
   ]
  },
  {
   "cell_type": "code",
   "execution_count": 221,
   "id": "bfdde0b9-c751-4c8f-a1f4-f5c8547f9283",
   "metadata": {},
   "outputs": [
    {
     "name": "stdout",
     "output_type": "stream",
     "text": [
      "8\n"
     ]
    }
   ],
   "source": [
    "print(3+5)"
   ]
  },
  {
   "cell_type": "code",
   "execution_count": 223,
   "id": "ec545b7c-c9b8-43e1-915e-6ba40e5b303a",
   "metadata": {},
   "outputs": [
    {
     "name": "stdout",
     "output_type": "stream",
     "text": [
      "-2\n"
     ]
    }
   ],
   "source": [
    "print(3-5)"
   ]
  },
  {
   "cell_type": "code",
   "execution_count": 225,
   "id": "4f2e1cf8-7553-4467-a306-ee472a1c9b33",
   "metadata": {},
   "outputs": [
    {
     "name": "stdout",
     "output_type": "stream",
     "text": [
      "15\n"
     ]
    }
   ],
   "source": [
    "print(3*5)"
   ]
  },
  {
   "cell_type": "code",
   "execution_count": 227,
   "id": "b8be80f5-1a32-4c92-a8b4-db2df408490d",
   "metadata": {},
   "outputs": [
    {
     "name": "stdout",
     "output_type": "stream",
     "text": [
      "0.6\n"
     ]
    }
   ],
   "source": [
    "print(3/5)  # division"
   ]
  },
  {
   "cell_type": "code",
   "execution_count": 229,
   "id": "7f6857b2-d805-4dd4-a9f2-310739bcbdf2",
   "metadata": {},
   "outputs": [
    {
     "name": "stdout",
     "output_type": "stream",
     "text": [
      "0\n"
     ]
    }
   ],
   "source": [
    "print(3//5)"
   ]
  },
  {
   "cell_type": "code",
   "execution_count": 231,
   "id": "91cf0055-bb09-4abb-8578-ce4cd6481936",
   "metadata": {},
   "outputs": [
    {
     "name": "stdout",
     "output_type": "stream",
     "text": [
      "3\n"
     ]
    }
   ],
   "source": [
    "print(3%5)  # "
   ]
  },
  {
   "cell_type": "code",
   "execution_count": 233,
   "id": "8e7b09c6-7bb8-412f-aa5d-0e61df6441d3",
   "metadata": {},
   "outputs": [
    {
     "name": "stdout",
     "output_type": "stream",
     "text": [
      "1\n"
     ]
    }
   ],
   "source": [
    "print(3%2)"
   ]
  },
  {
   "cell_type": "code",
   "execution_count": 235,
   "id": "9381bb17-634d-4987-b128-a3f049702787",
   "metadata": {},
   "outputs": [
    {
     "name": "stdout",
     "output_type": "stream",
     "text": [
      "0\n"
     ]
    }
   ],
   "source": [
    "print(15%5)"
   ]
  },
  {
   "cell_type": "code",
   "execution_count": 237,
   "id": "b5990a12-70fe-4eee-a7b7-b6c70f539864",
   "metadata": {},
   "outputs": [
    {
     "name": "stdout",
     "output_type": "stream",
     "text": [
      "4\n"
     ]
    }
   ],
   "source": [
    "# Divisibility Rule-\n",
    "# Exponent- **\n",
    "\n",
    "print(2**2)"
   ]
  },
  {
   "cell_type": "code",
   "execution_count": 239,
   "id": "4c5dec2c-5b4d-4e35-831e-475ca2af457b",
   "metadata": {},
   "outputs": [
    {
     "name": "stdout",
     "output_type": "stream",
     "text": [
      "25\n"
     ]
    }
   ],
   "source": [
    "print(5**2) # 5x5"
   ]
  },
  {
   "cell_type": "code",
   "execution_count": 241,
   "id": "dda2e487-5d5d-40de-9649-a0a7567f62bb",
   "metadata": {},
   "outputs": [
    {
     "data": {
      "text/plain": [
       "'AsmaAsma'"
      ]
     },
     "execution_count": 241,
     "metadata": {},
     "output_type": "execute_result"
    }
   ],
   "source": [
    "\"Asma\"*2 # repetation"
   ]
  },
  {
   "cell_type": "code",
   "execution_count": 243,
   "id": "4a2f503b-0e75-43ae-b070-4dd47018ea08",
   "metadata": {},
   "outputs": [
    {
     "ename": "TypeError",
     "evalue": "can only concatenate str (not \"int\") to str",
     "output_type": "error",
     "traceback": [
      "\u001b[1;31m---------------------------------------------------------------------------\u001b[0m",
      "\u001b[1;31mTypeError\u001b[0m                                 Traceback (most recent call last)",
      "Cell \u001b[1;32mIn[243], line 1\u001b[0m\n\u001b[1;32m----> 1\u001b[0m \u001b[38;5;124m\"\u001b[39m\u001b[38;5;124mAsma\u001b[39m\u001b[38;5;124m\"\u001b[39m\u001b[38;5;241m+\u001b[39m\u001b[38;5;241m10\u001b[39m\n",
      "\u001b[1;31mTypeError\u001b[0m: can only concatenate str (not \"int\") to str"
     ]
    }
   ],
   "source": [
    "\"Asma\"+10 # "
   ]
  },
  {
   "cell_type": "code",
   "execution_count": 245,
   "id": "f7fdc79e-8d19-4fd4-b5b1-6dd57c8d9f8a",
   "metadata": {},
   "outputs": [
    {
     "data": {
      "text/plain": [
       "'Asma10'"
      ]
     },
     "execution_count": 245,
     "metadata": {},
     "output_type": "execute_result"
    }
   ],
   "source": [
    "\"Asma\"+\"10\" # concatenation"
   ]
  },
  {
   "cell_type": "code",
   "execution_count": 247,
   "id": "9956e267-2ac1-470b-a0c8-8abc1e73d5e8",
   "metadata": {},
   "outputs": [
    {
     "ename": "TypeError",
     "evalue": "can only concatenate str (not \"int\") to str",
     "output_type": "error",
     "traceback": [
      "\u001b[1;31m---------------------------------------------------------------------------\u001b[0m",
      "\u001b[1;31mTypeError\u001b[0m                                 Traceback (most recent call last)",
      "Cell \u001b[1;32mIn[247], line 2\u001b[0m\n\u001b[0;32m      1\u001b[0m \u001b[38;5;66;03m# \u001b[39;00m\n\u001b[1;32m----> 2\u001b[0m \u001b[38;5;124m\"\u001b[39m\u001b[38;5;124mAsma\u001b[39m\u001b[38;5;124m\"\u001b[39m\u001b[38;5;241m+\u001b[39m\u001b[38;5;241m10\u001b[39m\n",
      "\u001b[1;31mTypeError\u001b[0m: can only concatenate str (not \"int\") to str"
     ]
    }
   ],
   "source": [
    "# \n",
    "\"Asma\"+10"
   ]
  },
  {
   "cell_type": "code",
   "execution_count": 249,
   "id": "51ba3990-f877-4f55-93f9-3742bd5198f8",
   "metadata": {},
   "outputs": [
    {
     "ename": "TypeError",
     "evalue": "can only concatenate str (not \"int\") to str",
     "output_type": "error",
     "traceback": [
      "\u001b[1;31m---------------------------------------------------------------------------\u001b[0m",
      "\u001b[1;31mTypeError\u001b[0m                                 Traceback (most recent call last)",
      "Cell \u001b[1;32mIn[249], line 3\u001b[0m\n\u001b[0;32m      1\u001b[0m x \u001b[38;5;241m=\u001b[39m \u001b[38;5;124m\"\u001b[39m\u001b[38;5;124m10\u001b[39m\u001b[38;5;124m\"\u001b[39m\n\u001b[0;32m      2\u001b[0m y \u001b[38;5;241m=\u001b[39m \u001b[38;5;241m10\u001b[39m\n\u001b[1;32m----> 3\u001b[0m sum1 \u001b[38;5;241m=\u001b[39m x\u001b[38;5;241m+\u001b[39my\n\u001b[0;32m      4\u001b[0m \u001b[38;5;28mprint\u001b[39m(sum1)\n",
      "\u001b[1;31mTypeError\u001b[0m: can only concatenate str (not \"int\") to str"
     ]
    }
   ],
   "source": [
    "x = \"10\"\n",
    "y = 10\n",
    "sum1 = x+y\n",
    "print(sum1)"
   ]
  },
  {
   "cell_type": "code",
   "execution_count": 253,
   "id": "296da3e8-cf56-40d8-a7dd-885078565b34",
   "metadata": {},
   "outputs": [
    {
     "name": "stdout",
     "output_type": "stream",
     "text": [
      "<class 'int'>\n",
      "20\n"
     ]
    }
   ],
   "source": [
    "# eval()\n",
    "x = \"10\"\n",
    "y = 10\n",
    "x1 = eval(x)\n",
    "print(type(x1))\n",
    "sum1 = x1+y\n",
    "print(sum1)"
   ]
  },
  {
   "cell_type": "code",
   "execution_count": 255,
   "id": "ceb7d2e0-5596-408d-8512-433002eccd3b",
   "metadata": {},
   "outputs": [
    {
     "ename": "NameError",
     "evalue": "name 'a' is not defined",
     "output_type": "error",
     "traceback": [
      "\u001b[1;31m---------------------------------------------------------------------------\u001b[0m",
      "\u001b[1;31mNameError\u001b[0m                                 Traceback (most recent call last)",
      "Cell \u001b[1;32mIn[255], line 2\u001b[0m\n\u001b[0;32m      1\u001b[0m x2 \u001b[38;5;241m=\u001b[39m \u001b[38;5;124m\"\u001b[39m\u001b[38;5;124ma\u001b[39m\u001b[38;5;124m\"\u001b[39m\n\u001b[1;32m----> 2\u001b[0m x3 \u001b[38;5;241m=\u001b[39m \u001b[38;5;28meval\u001b[39m(x2)\n\u001b[0;32m      3\u001b[0m \u001b[38;5;28mprint\u001b[39m(x3)\n",
      "File \u001b[1;32m<string>:1\u001b[0m\n",
      "\u001b[1;31mNameError\u001b[0m: name 'a' is not defined"
     ]
    }
   ],
   "source": [
    "x2 = \"a\"\n",
    "x3 = eval(x2)\n",
    "print(x3)"
   ]
  },
  {
   "cell_type": "code",
   "execution_count": 3,
   "id": "8f3ad911-1edf-4b39-bfb5-c45bd5ee3430",
   "metadata": {},
   "outputs": [
    {
     "name": "stdout",
     "output_type": "stream",
     "text": [
      "asma <class 'str'>\n"
     ]
    },
    {
     "ename": "NameError",
     "evalue": "name 'asma' is not defined",
     "output_type": "error",
     "traceback": [
      "\u001b[1;31m---------------------------------------------------------------------------\u001b[0m",
      "\u001b[1;31mNameError\u001b[0m                                 Traceback (most recent call last)",
      "Cell \u001b[1;32mIn[3], line 5\u001b[0m\n\u001b[0;32m      3\u001b[0m x2 \u001b[38;5;241m=\u001b[39m \u001b[38;5;124m\"\u001b[39m\u001b[38;5;124masma\u001b[39m\u001b[38;5;124m\"\u001b[39m \u001b[38;5;66;03m# float\u001b[39;00m\n\u001b[0;32m      4\u001b[0m \u001b[38;5;28mprint\u001b[39m(x2,\u001b[38;5;28mtype\u001b[39m(x2))\n\u001b[1;32m----> 5\u001b[0m x3 \u001b[38;5;241m=\u001b[39m \u001b[38;5;28meval\u001b[39m(x2)\n\u001b[0;32m      6\u001b[0m \u001b[38;5;28mprint\u001b[39m(x3)\n",
      "File \u001b[1;32m<string>:1\u001b[0m\n",
      "\u001b[1;31mNameError\u001b[0m: name 'asma' is not defined"
     ]
    }
   ],
   "source": [
    "# \"10\"\n",
    "# eval()\n",
    "x2 = \"asma\" # float\n",
    "print(x2,type(x2))\n",
    "x3 = eval(x2)\n",
    "print(x3)\n"
   ]
  },
  {
   "cell_type": "code",
   "execution_count": 7,
   "id": "153910de-1bdc-49f3-ac65-5165fa2b0ef0",
   "metadata": {},
   "outputs": [
    {
     "name": "stdout",
     "output_type": "stream",
     "text": [
      "100.23 <class 'str'>\n",
      "100.23 <class 'float'>\n"
     ]
    }
   ],
   "source": [
    "# eval()\n",
    "x2 = \"100.23\" # float\n",
    "print(x2,type(x2))\n",
    "x3 = eval(x2)\n",
    "print(x3,type(x3))"
   ]
  },
  {
   "cell_type": "code",
   "execution_count": null,
   "id": "d189938b-ec14-4afa-87de-f67b1d974365",
   "metadata": {},
   "outputs": [],
   "source": []
  }
 ],
 "metadata": {
  "kernelspec": {
   "display_name": "Python 3 (ipykernel)",
   "language": "python",
   "name": "python3"
  },
  "language_info": {
   "codemirror_mode": {
    "name": "ipython",
    "version": 3
   },
   "file_extension": ".py",
   "mimetype": "text/x-python",
   "name": "python",
   "nbconvert_exporter": "python",
   "pygments_lexer": "ipython3",
   "version": "3.12.4"
  }
 },
 "nbformat": 4,
 "nbformat_minor": 5
}
