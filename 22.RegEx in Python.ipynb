{
 "cells": [
  {
   "cell_type": "markdown",
   "id": "5bc9d218-b7cd-414a-ac23-4dea8cb457cd",
   "metadata": {},
   "source": [
    "# 21. RegEx [Regular Expressions]\n",
    "\n",
    "* __RegEx(Regular Expressions): Patters used to match strings value.__\n",
    "* __Python provide __re__ module for regex operations.__"
   ]
  },
  {
   "cell_type": "code",
   "execution_count": 1,
   "id": "d6831312-b07e-4aa6-b4cc-8abcef387936",
   "metadata": {},
   "outputs": [],
   "source": [
    "import re"
   ]
  },
  {
   "cell_type": "markdown",
   "id": "39ddb048-2277-4cab-aae6-e86220088a66",
   "metadata": {},
   "source": [
    "### **Basic Punctuation**\n",
    "\n",
    "* `.` Period / Full Stop\n",
    "* `,` Comma\n",
    "* `?` Question Mark\n",
    "* `!` Exclamation Mark\n",
    "* `:` Colon\n",
    "* `;` Semicolon\n",
    "* `…` Ellipsis\n",
    "\n",
    "---\n",
    "\n",
    "### **Quotation & Apostrophes**\n",
    "\n",
    "* `'` Apostrophe\n",
    "* `’` Right Single Quotation Mark\n",
    "* `‘` Left Single Quotation Mark\n",
    "* `\"` Quotation Mark (Straight)\n",
    "* `“` Left Double Quotation Mark\n",
    "* `”` Right Double Quotation Mark\n",
    "\n",
    "---\n",
    "\n",
    "### **Brackets & Braces**\n",
    "\n",
    "* `(` `)` Parentheses (Round Brackets)\n",
    "* `[` `]` Square Brackets\n",
    "* `{` `}` Curly Braces\n",
    "* `<` `>` Angle Brackets / Inequality Signs\n",
    "* `⟨` `⟩` Angle Brackets (mathematical/linguistic use)\n",
    "\n",
    "---\n",
    "\n",
    "### **Dashes & Hyphens**\n",
    "\n",
    "* `-` Hyphen\n",
    "* `–` En Dash (ranges, e.g., 5–10)\n",
    "* `—` Em Dash (breaks/thoughts)\n",
    "* `‒` Figure Dash\n",
    "\n",
    "---\n",
    "\n",
    "### **Mathematical & Logical Symbols**\n",
    "\n",
    "* `+` Plus\n",
    "* `−` Minus\n",
    "* `×` Multiplication\n",
    "* `÷` Division\n",
    "* `=` Equals\n",
    "* `≠` Not Equal\n",
    "* `<` Less Than\n",
    "* `>` Greater Than\n",
    "* `≤` Less Than or Equal\n",
    "* `≥` Greater Than or Equal\n",
    "* `±` Plus/Minus\n",
    "* `∓` Minus/Plus\n",
    "* `√` Square Root\n",
    "* `∞` Infinity\n",
    "* `∑` Summation\n",
    "* `∏` Product\n",
    "* `∩` Intersection\n",
    "* `∪` Union\n",
    "* `∧` Logical AND\n",
    "* `∨` Logical OR\n",
    "* `¬` NOT\n",
    "\n",
    "---\n",
    "\n",
    "### **Currency Symbols**\n",
    "\n",
    "* `$` Dollar\n",
    "* `₹` Indian Rupee\n",
    "* `€` Euro\n",
    "* `£` Pound Sterling\n",
    "* `¥` Yen/Yuan\n",
    "* `₽` Russian Ruble\n",
    "* `₿` Bitcoin\n",
    "\n",
    "---\n",
    "\n",
    "### **Miscellaneous Typographical Marks**\n",
    "\n",
    "* `&` Ampersand\n",
    "* `@` At sign\n",
    "* `#` Hash / Number sign / Pound\n",
    "* `%` Percent\n",
    "* `‰` Per Mille\n",
    "* `‱` Per Ten Thousand (Basis Point)\n",
    "* `*` Asterisk\n",
    "* `†` Dagger\n",
    "* `‡` Double Dagger\n",
    "* `§` Section Sign\n",
    "* `¶` Pilcrow (Paragraph mark)\n",
    "* `©` Copyright\n",
    "* `®` Registered Trademark\n",
    "* `™` Trademark\n",
    "* `°` Degree\n",
    "* `′` Prime (minutes/feet)\n",
    "* `″` Double Prime (seconds/inches)\n",
    "* `•` Bullet\n",
    "* `‣` Triangular Bullet\n",
    "* `‧` Interpunct / Middle Dot\n",
    "\n",
    "---\n",
    "\n",
    "### **Special/Technical Marks**\n",
    "\n",
    "* `|` Vertical Bar / Pipe\n",
    "* `‖` Double Vertical Bar\n",
    "* `/` Slash\n",
    "* `\\` Backslash\n",
    "* `~` Tilde\n",
    "* `_` Underscore\n",
    "* `^` Caret\n",
    "* `¨` Umlaut / Diaeresis\n",
    "* `¯` Macron\n",
    "* `¸` Cedilla\n",
    "* `˘` Breve\n",
    "* `˚` Ring Above\n",
    "* `¡` Inverted Exclamation\n",
    "* `¿` Inverted Question\n",
    "\n",
    "\n"
   ]
  },
  {
   "cell_type": "markdown",
   "id": "1728e990-3794-4a26-a1f2-479ba1c5070c",
   "metadata": {},
   "source": [
    "# Basic Functions\n"
   ]
  },
  {
   "cell_type": "markdown",
   "id": "01f9df29-2446-42b5-b1f0-762d92bd8bb1",
   "metadata": {},
   "source": [
    "# re.match(pattern, string)\n",
    " * __Checks for a match only at the beginning of the string.__\n"
   ]
  },
  {
   "cell_type": "code",
   "execution_count": 5,
   "id": "4e52a8b7-b57c-4ddd-864b-fb313dd7cd50",
   "metadata": {},
   "outputs": [
    {
     "data": {
      "text/plain": [
       "<re.Match object; span=(0, 2), match='he'>"
      ]
     },
     "execution_count": 5,
     "metadata": {},
     "output_type": "execute_result"
    }
   ],
   "source": [
    "re.match('he','hello')"
   ]
  },
  {
   "cell_type": "code",
   "execution_count": 9,
   "id": "0fd4f7fe-86ba-4a5b-8fed-ad6a61457aae",
   "metadata": {},
   "outputs": [],
   "source": [
    "re.match('lo','hello')"
   ]
  },
  {
   "cell_type": "markdown",
   "id": "529ac542-3b04-4163-b456-8a75045d6a39",
   "metadata": {},
   "source": [
    "# re.search(patter,string)\n",
    " * __searchs anywhere in the string__"
   ]
  },
  {
   "cell_type": "code",
   "execution_count": 10,
   "id": "4c1f65ed-4e54-4957-81c6-61959355a829",
   "metadata": {},
   "outputs": [
    {
     "data": {
      "text/plain": [
       "<re.Match object; span=(3, 5), match='lo'>"
      ]
     },
     "execution_count": 10,
     "metadata": {},
     "output_type": "execute_result"
    }
   ],
   "source": [
    "re.search('lo','hello')"
   ]
  },
  {
   "cell_type": "markdown",
   "id": "004da9c3-7ec6-4f72-8e28-6041d47af8fe",
   "metadata": {},
   "source": [
    "# re.findall(pattern,string)\n",
    " * __Returns all non-overlapping matches as a list.__"
   ]
  },
  {
   "cell_type": "code",
   "execution_count": 14,
   "id": "74b86b8e-02d5-4361-ba85-f65098ee0f7c",
   "metadata": {},
   "outputs": [
    {
     "data": {
      "text/plain": [
       "['l', 'l']"
      ]
     },
     "execution_count": 14,
     "metadata": {},
     "output_type": "execute_result"
    }
   ],
   "source": [
    "re.findall('l', \"hello\")"
   ]
  },
  {
   "cell_type": "code",
   "execution_count": 13,
   "id": "db01afa0-65b9-43d2-8377-401e2a188a32",
   "metadata": {},
   "outputs": [
    {
     "data": {
      "text/plain": [
       "2"
      ]
     },
     "execution_count": 13,
     "metadata": {},
     "output_type": "execute_result"
    }
   ],
   "source": [
    "x = \"hello world\"\n",
    "\n",
    "x.find('l')"
   ]
  },
  {
   "cell_type": "markdown",
   "id": "3c0c4fc1-7806-4dbb-aaa3-a3bfdaa96570",
   "metadata": {},
   "source": [
    "# re.finditer(pattern, string)\n",
    " * __Returns an iterator of match objects.__"
   ]
  },
  {
   "cell_type": "code",
   "execution_count": 17,
   "id": "c8cc3fd0-0101-45fa-9ec8-e6581882e720",
   "metadata": {},
   "outputs": [
    {
     "name": "stdout",
     "output_type": "stream",
     "text": [
      "2 l\n",
      "3 l\n"
     ]
    }
   ],
   "source": [
    "for i in re.finditer('l','hello'):\n",
    "    print(i.start(),i.group())"
   ]
  },
  {
   "cell_type": "markdown",
   "id": "3759f49c-a291-489a-9221-491406e1c99e",
   "metadata": {},
   "source": [
    "# re.sub(pattern, repl, string)\n",
    " * __Replaces matches with replacement.__"
   ]
  },
  {
   "cell_type": "code",
   "execution_count": 20,
   "id": "4e974013-ffab-488a-b1e7-a02b7f813784",
   "metadata": {},
   "outputs": [
    {
     "data": {
      "text/plain": [
       "'I like banana'"
      ]
     },
     "execution_count": 20,
     "metadata": {},
     "output_type": "execute_result"
    }
   ],
   "source": [
    "re.sub('Apple','banana', 'I like Apple')"
   ]
  },
  {
   "cell_type": "markdown",
   "id": "94ce7318-d425-49e6-9ef2-1a428368642b",
   "metadata": {},
   "source": [
    "# re.split(pattern,string)\n",
    " * __Splits string by regex pattern.__"
   ]
  },
  {
   "cell_type": "code",
   "execution_count": 26,
   "id": "5c94d82e-d63d-4c63-a1dd-31d7d8ca3adb",
   "metadata": {},
   "outputs": [
    {
     "data": {
      "text/plain": [
       "['Hello', 'world', 'Python']"
      ]
     },
     "execution_count": 26,
     "metadata": {},
     "output_type": "execute_result"
    }
   ],
   "source": [
    "re.split('\\\\s+', \"Hello world Python\")"
   ]
  },
  {
   "cell_type": "code",
   "execution_count": 27,
   "id": "fc1a960b-e48c-4f9b-994e-5cdaa385cf78",
   "metadata": {},
   "outputs": [
    {
     "data": {
      "text/plain": [
       "['Hello', 'world']"
      ]
     },
     "execution_count": 27,
     "metadata": {},
     "output_type": "execute_result"
    }
   ],
   "source": [
    "x = \"Hello world\"\n",
    "x.split()"
   ]
  },
  {
   "cell_type": "markdown",
   "id": "9b83cbf4-5da4-48b8-ad00-2ef1eeb4c732",
   "metadata": {},
   "source": [
    "# Raw Strings in Python\n",
    " * _use r\" \" to avoida escaping \\_"
   ]
  },
  {
   "cell_type": "code",
   "execution_count": 54,
   "id": "6d6f9036-cc46-4ca0-95a1-4a93e4914913",
   "metadata": {},
   "outputs": [
    {
     "data": {
      "text/plain": [
       "<re.Match object; span=(0, 6), match='123456'>"
      ]
     },
     "execution_count": 54,
     "metadata": {},
     "output_type": "execute_result"
    }
   ],
   "source": [
    "re.match(r\"\\d+\", \"123456\")"
   ]
  },
  {
   "cell_type": "code",
   "execution_count": 47,
   "id": "a4958c1a-7c8d-444a-9dad-6935289d48c0",
   "metadata": {},
   "outputs": [
    {
     "name": "stdout",
     "output_type": "stream",
     "text": [
      "<class 'str'>\n",
      "123\n",
      "<class 'int'>\n"
     ]
    }
   ],
   "source": [
    "# eval\n",
    "\n",
    "x = \"123\"\n",
    "print(type(x))\n",
    "y = eval(x)\n",
    "print(y)\n",
    "print(type(y))"
   ]
  },
  {
   "cell_type": "code",
   "execution_count": null,
   "id": "7625e3c7-955e-485c-87d7-dc0f2aa557e6",
   "metadata": {},
   "outputs": [],
   "source": []
  }
 ],
 "metadata": {
  "kernelspec": {
   "display_name": "Python 3 (ipykernel)",
   "language": "python",
   "name": "python3"
  },
  "language_info": {
   "codemirror_mode": {
    "name": "ipython",
    "version": 3
   },
   "file_extension": ".py",
   "mimetype": "text/x-python",
   "name": "python",
   "nbconvert_exporter": "python",
   "pygments_lexer": "ipython3",
   "version": "3.13.7"
  }
 },
 "nbformat": 4,
 "nbformat_minor": 5
}
