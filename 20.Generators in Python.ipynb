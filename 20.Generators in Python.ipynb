{
 "cells": [
  {
   "cell_type": "markdown",
   "id": "719a4572-5145-464f-b54a-192abacaba54",
   "metadata": {},
   "source": [
    "# 20. Generator in python \n",
    "\n",
    " * __Python generators are functions that returns the traversal object and a simple way of creating iterators.__\n",
    " * __It traverses all the items at once.__\n",
    " * __The generator can also be expressed in a syntax similar to the list.__\n",
    " * __There is a lot of complexity in creating iteration in Pyton. It is required to implement iter() and next() method to keep track of internal states.__\n",
    " * __It is lengthy process to create iterators.__\n",
    " * __It raise stopIteration exceptions.__\n",
    " * __It pauses the funciton execution by saving all states and yields to the caller.__\n",
    " * __Later, It resumes execution whhen a successive function is called.__"
   ]
  },
  {
   "cell_type": "code",
   "execution_count": 2,
   "id": "d4b90b54-da0e-4929-8bd5-5db080615818",
   "metadata": {},
   "outputs": [
    {
     "name": "stdout",
     "output_type": "stream",
     "text": [
      "1\n",
      "2\n",
      "3\n",
      "4\n",
      "5\n",
      "6\n",
      "7\n",
      "8\n",
      "9\n",
      "10\n"
     ]
    }
   ],
   "source": [
    "# 1-10\n",
    "for i in range(1,11):\n",
    "    print(i)"
   ]
  },
  {
   "cell_type": "code",
   "execution_count": 4,
   "id": "82ad2990-d0a2-4899-b842-c70f73deade6",
   "metadata": {},
   "outputs": [],
   "source": [
    "def checkVal(x=20):\n",
    "    if x%2==0:\n",
    "        return x\n",
    "\n",
    "checkVal(21)"
   ]
  },
  {
   "cell_type": "code",
   "execution_count": 5,
   "id": "10e12d30-bee7-42e7-8a15-27e6611e2763",
   "metadata": {},
   "outputs": [
    {
     "data": {
      "text/plain": [
       "20"
      ]
     },
     "execution_count": 5,
     "metadata": {},
     "output_type": "execute_result"
    }
   ],
   "source": [
    "checkVal()"
   ]
  },
  {
   "cell_type": "code",
   "execution_count": 6,
   "id": "39ea150a-381d-4674-9844-c9643a026223",
   "metadata": {},
   "outputs": [
    {
     "data": {
      "text/plain": [
       "<generator object checkVal at 0x00000277D5176980>"
      ]
     },
     "execution_count": 6,
     "metadata": {},
     "output_type": "execute_result"
    }
   ],
   "source": [
    "def checkVal(x=20):\n",
    "    if x%2==0:\n",
    "        yield x\n",
    "\n",
    "checkVal(21)"
   ]
  },
  {
   "cell_type": "code",
   "execution_count": 7,
   "id": "2a8f4672-8395-4d82-9daa-1e2bc18a0597",
   "metadata": {},
   "outputs": [
    {
     "name": "stdout",
     "output_type": "stream",
     "text": [
      "[0, 1, 2, 3, 4, 5, 6, 7, 8, 9, 10, 11, 12, 13, 14, 15, 16, 17, 18, 19, 20]\n"
     ]
    }
   ],
   "source": [
    "list1 = []\n",
    "\n",
    "for x in range(21):\n",
    "    list1.append(x)\n",
    "    \n",
    "print(list1)"
   ]
  },
  {
   "cell_type": "code",
   "execution_count": 10,
   "id": "874274da-fff7-4c07-86c1-b91cfe5f3381",
   "metadata": {},
   "outputs": [
    {
     "data": {
      "text/plain": [
       "0"
      ]
     },
     "execution_count": 10,
     "metadata": {},
     "output_type": "execute_result"
    }
   ],
   "source": [
    "def displayVal():\n",
    "    for i in range(20):\n",
    "        # print(i)\n",
    "        return i\n",
    "displayVal()"
   ]
  },
  {
   "cell_type": "code",
   "execution_count": 11,
   "id": "2317b0f7-5a63-4745-86c9-5fa9d53ad119",
   "metadata": {},
   "outputs": [
    {
     "data": {
      "text/plain": [
       "<generator object displayVal at 0x00000277D5900880>"
      ]
     },
     "execution_count": 11,
     "metadata": {},
     "output_type": "execute_result"
    }
   ],
   "source": [
    "def displayVal():\n",
    "    for i in range(20):\n",
    "        # print(i)\n",
    "        yield i\n",
    "displayVal()"
   ]
  },
  {
   "cell_type": "code",
   "execution_count": 13,
   "id": "8a2774c8-4d5e-4331-8947-ec3dc17c61bf",
   "metadata": {},
   "outputs": [
    {
     "data": {
      "text/plain": [
       "[0, 1, 2, 3, 4, 5, 6, 7, 8, 9, 10, 11, 12, 13, 14, 15, 16, 17, 18, 19, 20]"
      ]
     },
     "execution_count": 13,
     "metadata": {},
     "output_type": "execute_result"
    }
   ],
   "source": [
    "[x for x in range(21)]"
   ]
  },
  {
   "cell_type": "code",
   "execution_count": 21,
   "id": "a8eae604-ce47-4596-b54c-adcebb1af6b9",
   "metadata": {},
   "outputs": [
    {
     "data": {
      "text/plain": [
       "[1, 2, 3, 4, 5, 6, 7, 8, 9, 10, 11, 12, 13, 14, 15, 16, 17, 18, 19]"
      ]
     },
     "execution_count": 21,
     "metadata": {},
     "output_type": "execute_result"
    }
   ],
   "source": [
    "def val(x):\n",
    "    return x\n",
    "list(filter(val, range(20)))"
   ]
  },
  {
   "cell_type": "code",
   "execution_count": 27,
   "id": "b2b06d7a-020f-4c40-b8a0-9fc22c50107c",
   "metadata": {},
   "outputs": [
    {
     "name": "stdout",
     "output_type": "stream",
     "text": [
      "Hello world\n",
      "Congratulations! Python\n",
      "Hello Python\n"
     ]
    }
   ],
   "source": [
    "def message():\n",
    "    oneMessage =\"Hello world\"\n",
    "    return oneMessage\n",
    "\n",
    "def message2():\n",
    "    twoMessage = \"Congratulations! Python\"\n",
    "    return twoMessage\n",
    "\n",
    "\n",
    "def message3():\n",
    "    threeMessage = \"Hello Python\"\n",
    "    return threeMessage\n",
    "\n",
    "print(message())\n",
    "print(message2())\n",
    "print(message3())"
   ]
  },
  {
   "cell_type": "code",
   "execution_count": 28,
   "id": "59ab2ebc-ca77-4e33-9f7c-ef161eab2153",
   "metadata": {},
   "outputs": [
    {
     "data": {
      "text/plain": [
       "<generator object message at 0x00000277D5F653C0>"
      ]
     },
     "execution_count": 28,
     "metadata": {},
     "output_type": "execute_result"
    }
   ],
   "source": [
    "def message():\n",
    "    oneMessage =\"Hello world\"\n",
    "    yield oneMessage\n",
    "\n",
    "    twoMessage = \"Congratulations! Python\"\n",
    "    yield twoMessage\n",
    "\n",
    "    threeMessage = \"Hello Python\"\n",
    "    yield threeMessage\n",
    "\n",
    "message()"
   ]
  },
  {
   "cell_type": "code",
   "execution_count": 30,
   "id": "6b94d5c6-4f26-432e-9780-3543cc614381",
   "metadata": {},
   "outputs": [
    {
     "name": "stdout",
     "output_type": "stream",
     "text": [
      "Hello world\n"
     ]
    }
   ],
   "source": [
    "x = message()\n",
    "print(next(x))"
   ]
  },
  {
   "cell_type": "code",
   "execution_count": 31,
   "id": "f3a40ae1-fb2b-4cec-909a-c169085965eb",
   "metadata": {},
   "outputs": [
    {
     "name": "stdout",
     "output_type": "stream",
     "text": [
      "Congratulations! Python\n"
     ]
    }
   ],
   "source": [
    "print(next(x))"
   ]
  },
  {
   "cell_type": "code",
   "execution_count": 32,
   "id": "47fd1eb7-efd1-40c8-ac5c-e8b5512acb3e",
   "metadata": {},
   "outputs": [
    {
     "name": "stdout",
     "output_type": "stream",
     "text": [
      "Hello Python\n"
     ]
    }
   ],
   "source": [
    "print(next(x))"
   ]
  },
  {
   "cell_type": "code",
   "execution_count": 33,
   "id": "715d3ea7-0885-4677-9ea6-c1cfc5222388",
   "metadata": {},
   "outputs": [
    {
     "ename": "StopIteration",
     "evalue": "",
     "output_type": "error",
     "traceback": [
      "\u001b[31m---------------------------------------------------------------------------\u001b[39m",
      "\u001b[31mStopIteration\u001b[39m                             Traceback (most recent call last)",
      "\u001b[36mCell\u001b[39m\u001b[36m \u001b[39m\u001b[32mIn[33]\u001b[39m\u001b[32m, line 1\u001b[39m\n\u001b[32m----> \u001b[39m\u001b[32m1\u001b[39m \u001b[38;5;28mprint\u001b[39m(\u001b[38;5;28;43mnext\u001b[39;49m\u001b[43m(\u001b[49m\u001b[43mx\u001b[49m\u001b[43m)\u001b[49m)\n",
      "\u001b[31mStopIteration\u001b[39m: "
     ]
    }
   ],
   "source": [
    "print(next(x))"
   ]
  },
  {
   "cell_type": "code",
   "execution_count": 34,
   "id": "4c96be28-6d17-4311-9975-0f2231b669f4",
   "metadata": {},
   "outputs": [
    {
     "name": "stdout",
     "output_type": "stream",
     "text": [
      "[0, 1, 2, 3, 4]\n"
     ]
    }
   ],
   "source": [
    "def normal_numbers(n):\n",
    "    result = []\n",
    "    for i in range(n):\n",
    "        result.append(i)\n",
    "    return result\n",
    "\n",
    "print(normal_numbers(5))"
   ]
  },
  {
   "cell_type": "code",
   "execution_count": 41,
   "id": "46b06aee-0df2-47b0-b7ac-d960d6f5dd28",
   "metadata": {},
   "outputs": [
    {
     "name": "stdout",
     "output_type": "stream",
     "text": [
      "0\n",
      "1\n",
      "2\n",
      "3\n",
      "4\n"
     ]
    },
    {
     "ename": "StopIteration",
     "evalue": "",
     "output_type": "error",
     "traceback": [
      "\u001b[31m---------------------------------------------------------------------------\u001b[39m",
      "\u001b[31mStopIteration\u001b[39m                             Traceback (most recent call last)",
      "\u001b[36mCell\u001b[39m\u001b[36m \u001b[39m\u001b[32mIn[41]\u001b[39m\u001b[32m, line 11\u001b[39m\n\u001b[32m      9\u001b[39m \u001b[38;5;28mprint\u001b[39m(\u001b[38;5;28mnext\u001b[39m(gen))\n\u001b[32m     10\u001b[39m \u001b[38;5;28mprint\u001b[39m(\u001b[38;5;28mnext\u001b[39m(gen))\n\u001b[32m---> \u001b[39m\u001b[32m11\u001b[39m \u001b[38;5;28mprint\u001b[39m(\u001b[38;5;28;43mnext\u001b[39;49m\u001b[43m(\u001b[49m\u001b[43mgen\u001b[49m\u001b[43m)\u001b[49m)\n",
      "\u001b[31mStopIteration\u001b[39m: "
     ]
    }
   ],
   "source": [
    "def generator_numbers(n):\n",
    "    for i in range(n):\n",
    "        yield i\n",
    "\n",
    "gen = generator_numbers(5)\n",
    "print(next(gen))\n",
    "print(next(gen))\n",
    "print(next(gen))\n",
    "print(next(gen))\n",
    "print(next(gen))\n",
    "print(next(gen))"
   ]
  },
  {
   "cell_type": "code",
   "execution_count": 43,
   "id": "de8f20e4-9dba-4f62-b5ab-49475ff22d73",
   "metadata": {},
   "outputs": [
    {
     "name": "stdout",
     "output_type": "stream",
     "text": [
      "[0, 1, 4, 9, 16, 25, 36, 49, 64, 81, 100, 121, 144, 169, 196, 225, 256, 289, 324, 361]\n"
     ]
    }
   ],
   "source": [
    "# Example\n",
    "\n",
    "nums = [x*x for x in range(20)]\n",
    "print(nums)"
   ]
  },
  {
   "cell_type": "code",
   "execution_count": 45,
   "id": "f0d22d32-419b-40e5-bfae-3edce90b94fc",
   "metadata": {},
   "outputs": [
    {
     "name": "stdout",
     "output_type": "stream",
     "text": [
      "[0, 1, 4, 9, 16]\n"
     ]
    }
   ],
   "source": [
    "gen_nums = (x*x for x in range(5))\n",
    "print(list(gen_nums))"
   ]
  },
  {
   "cell_type": "code",
   "execution_count": 49,
   "id": "a319b0b9-6d3c-449f-91ed-385c2989a4a0",
   "metadata": {},
   "outputs": [
    {
     "name": "stdout",
     "output_type": "stream",
     "text": [
      "1\n",
      "2\n",
      "3\n",
      "4\n",
      "5\n"
     ]
    }
   ],
   "source": [
    "def inifinte_Value():\n",
    "    n = 1\n",
    "    while True:\n",
    "        yield n\n",
    "        n+=1\n",
    "gen = inifinte_Value()\n",
    "\n",
    "for x in range(5):\n",
    "    # print(x)\n",
    "    print(next(gen))"
   ]
  },
  {
   "cell_type": "code",
   "execution_count": 50,
   "id": "aa60adaf-f796-4fb9-ae8e-47504a7a2508",
   "metadata": {},
   "outputs": [],
   "source": [
    "# Big file process \n",
    "# Data Streaming\n",
    "# Pipelines\n",
    "# Lazy loading"
   ]
  },
  {
   "cell_type": "code",
   "execution_count": 51,
   "id": "5d1287cc-9fa7-42c7-8ac9-160f6377613f",
   "metadata": {},
   "outputs": [],
   "source": [
    "# Memery efficient\n",
    "# lazy evaluation\n"
   ]
  },
  {
   "cell_type": "code",
   "execution_count": null,
   "id": "0f7ca9b0-c769-4996-9e4b-3fcd9d539235",
   "metadata": {},
   "outputs": [],
   "source": []
  },
  {
   "cell_type": "code",
   "execution_count": 105,
   "id": "244a68cc-6c22-4bea-b6e2-ee9bccbb6e24",
   "metadata": {},
   "outputs": [
    {
     "name": "stdout",
     "output_type": "stream",
     "text": [
      "Twinkle, twinkle, little star,\n",
      "How I wonder what you are!\n",
      "Up above the world so high,\n",
      "Like a diamond in the sky.\n",
      "\n",
      "When the blazing sun is gone,\n",
      "When he nothing shines upon,\n",
      "Then you show your little light,\n",
      "Twinkle, twinkle, all the night.\n",
      "\n",
      "Then the trav'ller in the dark,\n",
      "Thanks you for your tiny spark,\n",
      "He could not see which way to go,\n",
      "If you did not twinkle so.\n",
      "\n",
      "In the dark blue sky you keep,\n",
      "And often thro' my curtains peep,\n",
      "For you never shut your eye,\n",
      "Till the sun is in the sky.\n",
      "\n",
      "'Tis your bright and tiny spark,\n",
      "Lights the trav'ller in the dark:\n",
      "Tho' I know not what you are,\n",
      "Twinkle, twinkle, little star.\n"
     ]
    },
    {
     "ename": "StopIteration",
     "evalue": "",
     "output_type": "error",
     "traceback": [
      "\u001b[31m---------------------------------------------------------------------------\u001b[39m",
      "\u001b[31mStopIteration\u001b[39m                             Traceback (most recent call last)",
      "\u001b[36mCell\u001b[39m\u001b[36m \u001b[39m\u001b[32mIn[105]\u001b[39m\u001b[32m, line 36\u001b[39m\n\u001b[32m     34\u001b[39m \u001b[38;5;28mprint\u001b[39m(\u001b[38;5;28mnext\u001b[39m(val))\n\u001b[32m     35\u001b[39m \u001b[38;5;28mprint\u001b[39m(\u001b[38;5;28mnext\u001b[39m(val))\n\u001b[32m---> \u001b[39m\u001b[32m36\u001b[39m \u001b[38;5;28mprint\u001b[39m(\u001b[38;5;28;43mnext\u001b[39;49m\u001b[43m(\u001b[49m\u001b[43mval\u001b[49m\u001b[43m)\u001b[49m)\n",
      "\u001b[31mStopIteration\u001b[39m: "
     ]
    }
   ],
   "source": [
    "fileName = \"C:\\\\Users\\\\User\\\\Desktop\\\\NursaryRhymes.txt\"\n",
    "def read_large_file(x):\n",
    "    with open(x,'r') as f:\n",
    "        for line in f:\n",
    "            yield line.strip()\n",
    "\n",
    "\n",
    "# for i in read_large_file(fileName):\n",
    "#     print(i)\n",
    "\n",
    "val = read_large_file(fileName)\n",
    "print(next(val))\n",
    "print(next(val))\n",
    "print(next(val))\n",
    "print(next(val))\n",
    "print(next(val))\n",
    "print(next(val))\n",
    "print(next(val))\n",
    "print(next(val))\n",
    "print(next(val))\n",
    "print(next(val))\n",
    "print(next(val))\n",
    "print(next(val))\n",
    "print(next(val))\n",
    "print(next(val))\n",
    "print(next(val))\n",
    "print(next(val))\n",
    "print(next(val))\n",
    "print(next(val))\n",
    "print(next(val))\n",
    "print(next(val))\n",
    "print(next(val))\n",
    "print(next(val))\n",
    "print(next(val))\n",
    "print(next(val))\n",
    "print(next(val))\n"
   ]
  },
  {
   "cell_type": "code",
   "execution_count": 57,
   "id": "6393d126-db04-4031-9f40-611c41585eb3",
   "metadata": {},
   "outputs": [
    {
     "name": "stdout",
     "output_type": "stream",
     "text": [
      "a\n",
      "b\n",
      "c\n",
      "d\n",
      "e\n",
      "f\n",
      "g\n",
      "h\n",
      "i\n",
      "j\n",
      "k\n",
      "l\n",
      "m\n",
      "n\n",
      "o\n",
      "p\n",
      "q\n",
      "r\n",
      "s\n",
      "t\n",
      "u\n",
      "v\n",
      "w\n",
      "x\n",
      "y\n",
      "z\n",
      "A\n",
      "B\n",
      "C\n",
      "D\n",
      "E\n",
      "F\n",
      "G\n",
      "H\n",
      "I\n",
      "J\n",
      "K\n",
      "L\n",
      "M\n",
      "N\n",
      "O\n",
      "P\n",
      "Q\n",
      "R\n",
      "S\n",
      "T\n",
      "U\n",
      "V\n",
      "W\n",
      "X\n",
      "Y\n",
      "Z\n"
     ]
    }
   ],
   "source": [
    "# alphabet generator \n",
    "import string\n",
    "\n",
    "def alphabets():\n",
    "    for ch in string.ascii_letters:\n",
    "        # print(ch)\n",
    "        yield ch\n",
    "\n",
    "# alphabets()\n",
    "\n",
    "for a in alphabets():\n",
    "    print(a)"
   ]
  },
  {
   "cell_type": "code",
   "execution_count": 68,
   "id": "4bf51d43-ef1c-425b-84a9-373d327242f8",
   "metadata": {},
   "outputs": [
    {
     "name": "stdout",
     "output_type": "stream",
     "text": [
      "10\n",
      "9\n",
      "8\n",
      "7\n",
      "6\n",
      "5\n",
      "4\n",
      "3\n",
      "2\n",
      "1\n"
     ]
    },
    {
     "ename": "StopIteration",
     "evalue": "",
     "output_type": "error",
     "traceback": [
      "\u001b[31m---------------------------------------------------------------------------\u001b[39m",
      "\u001b[31mStopIteration\u001b[39m                             Traceback (most recent call last)",
      "\u001b[36mCell\u001b[39m\u001b[36m \u001b[39m\u001b[32mIn[68]\u001b[39m\u001b[32m, line 21\u001b[39m\n\u001b[32m     19\u001b[39m \u001b[38;5;28mprint\u001b[39m(\u001b[38;5;28mnext\u001b[39m(gen))\n\u001b[32m     20\u001b[39m \u001b[38;5;28mprint\u001b[39m(\u001b[38;5;28mnext\u001b[39m(gen))\n\u001b[32m---> \u001b[39m\u001b[32m21\u001b[39m \u001b[38;5;28mprint\u001b[39m(\u001b[38;5;28;43mnext\u001b[39;49m\u001b[43m(\u001b[49m\u001b[43mgen\u001b[49m\u001b[43m)\u001b[49m)\n",
      "\u001b[31mStopIteration\u001b[39m: "
     ]
    }
   ],
   "source": [
    "# using next() with generator\n",
    "\n",
    "\n",
    "def countDown(n=10):\n",
    "    while n>0:\n",
    "        yield n\n",
    "        n-=1\n",
    "\n",
    "gen = countDown()\n",
    "\n",
    "print(next(gen))\n",
    "print(next(gen))\n",
    "print(next(gen))\n",
    "print(next(gen))\n",
    "print(next(gen))\n",
    "print(next(gen))\n",
    "print(next(gen))\n",
    "print(next(gen))\n",
    "print(next(gen))\n",
    "print(next(gen))\n",
    "print(next(gen))"
   ]
  },
  {
   "cell_type": "code",
   "execution_count": 73,
   "id": "1c3e2817-ae40-47b2-8f61-756533ea400c",
   "metadata": {},
   "outputs": [
    {
     "name": "stdout",
     "output_type": "stream",
     "text": [
      "2\n",
      "4\n",
      "6\n",
      "8\n",
      "10\n"
     ]
    }
   ],
   "source": [
    "def odd_Number(n):\n",
    "    for i in range(1, n+1):\n",
    "        if i%2==0:\n",
    "            yield i\n",
    "\n",
    "\n",
    "gen1 = odd_Number(20)\n",
    "print(next(gen1))\n",
    "print(next(gen1))\n",
    "print(next(gen1))\n",
    "print(next(gen1))\n",
    "print(next(gen1))"
   ]
  },
  {
   "cell_type": "code",
   "execution_count": 74,
   "id": "74269ad4-f366-4029-a35d-c885b4a4466b",
   "metadata": {},
   "outputs": [
    {
     "name": "stdout",
     "output_type": "stream",
     "text": [
      "2\n",
      "4\n",
      "6\n",
      "8\n",
      "10\n",
      "12\n",
      "14\n",
      "16\n",
      "18\n",
      "20\n"
     ]
    }
   ],
   "source": [
    "for i in odd_Number(20):\n",
    "    print(i)"
   ]
  },
  {
   "cell_type": "code",
   "execution_count": 128,
   "id": "8e14668a-df83-4a52-9373-0140f23ebe26",
   "metadata": {},
   "outputs": [
    {
     "name": "stdout",
     "output_type": "stream",
     "text": [
      "0\n",
      "1\n",
      "1\n",
      "2\n",
      "3\n",
      "5\n",
      "8\n",
      "13\n",
      "21\n",
      "34\n",
      "55\n",
      "89\n",
      "144\n",
      "233\n",
      "377\n",
      "610\n",
      "987\n",
      "1597\n",
      "2584\n",
      "4181\n"
     ]
    },
    {
     "ename": "StopIteration",
     "evalue": "",
     "output_type": "error",
     "traceback": [
      "\u001b[31m---------------------------------------------------------------------------\u001b[39m",
      "\u001b[31mStopIteration\u001b[39m                             Traceback (most recent call last)",
      "\u001b[36mCell\u001b[39m\u001b[36m \u001b[39m\u001b[32mIn[128]\u001b[39m\u001b[32m, line 28\u001b[39m\n\u001b[32m     26\u001b[39m \u001b[38;5;28mprint\u001b[39m(\u001b[38;5;28mnext\u001b[39m(res))\n\u001b[32m     27\u001b[39m \u001b[38;5;28mprint\u001b[39m(\u001b[38;5;28mnext\u001b[39m(res))\n\u001b[32m---> \u001b[39m\u001b[32m28\u001b[39m \u001b[38;5;28mprint\u001b[39m(\u001b[38;5;28;43mnext\u001b[39;49m\u001b[43m(\u001b[49m\u001b[43mres\u001b[49m\u001b[43m)\u001b[49m)\n",
      "\u001b[31mStopIteration\u001b[39m: "
     ]
    }
   ],
   "source": [
    "def fibonacci(n):\n",
    "    a,b  = 0, 1\n",
    "    for x in range(n):\n",
    "        yield a\n",
    "        a,b = b, a+b\n",
    "\n",
    "res = fibonacci(20)\n",
    "print(next(res))\n",
    "print(next(res))\n",
    "print(next(res))\n",
    "print(next(res))\n",
    "print(next(res))\n",
    "print(next(res))\n",
    "print(next(res))\n",
    "print(next(res))\n",
    "print(next(res))\n",
    "print(next(res))\n",
    "print(next(res))\n",
    "print(next(res))\n",
    "print(next(res))\n",
    "print(next(res))\n",
    "print(next(res))\n",
    "print(next(res))\n",
    "print(next(res))\n",
    "print(next(res))\n",
    "print(next(res))\n",
    "print(next(res))\n",
    "print(next(res))"
   ]
  },
  {
   "cell_type": "code",
   "execution_count": 130,
   "id": "146c410e-f663-4322-a341-add1e09090e1",
   "metadata": {},
   "outputs": [
    {
     "name": "stdout",
     "output_type": "stream",
     "text": [
      "0\n",
      "1\n",
      "1\n",
      "2\n",
      "3\n",
      "5\n",
      "8\n",
      "13\n",
      "21\n",
      "34\n",
      "55\n",
      "89\n",
      "144\n",
      "233\n",
      "377\n",
      "610\n",
      "987\n",
      "1597\n",
      "2584\n",
      "4181\n"
     ]
    }
   ],
   "source": [
    "for x in fibonacci(20):\n",
    "    print(x)"
   ]
  },
  {
   "cell_type": "code",
   "execution_count": 135,
   "id": "94503ec0-e980-4811-815a-e53d5b1c9dfd",
   "metadata": {},
   "outputs": [
    {
     "name": "stdout",
     "output_type": "stream",
     "text": [
      "0\n",
      "1\n",
      "4\n",
      "9\n"
     ]
    }
   ],
   "source": [
    "def sqrValue(n):\n",
    "    for i in range(n):\n",
    "        sqrNum = i*i\n",
    "        yield sqrNum\n",
    "\n",
    "\n",
    "res = sqrValue(20)\n",
    "print(next(res))\n",
    "print(next(res))\n",
    "print(next(res))\n",
    "print(next(res))"
   ]
  },
  {
   "cell_type": "code",
   "execution_count": 136,
   "id": "e312e05b-665f-435a-994a-5ab78db432bf",
   "metadata": {},
   "outputs": [
    {
     "name": "stdout",
     "output_type": "stream",
     "text": [
      "0\n",
      "1\n",
      "4\n",
      "9\n",
      "16\n",
      "25\n",
      "36\n",
      "49\n",
      "64\n",
      "81\n",
      "100\n",
      "121\n",
      "144\n",
      "169\n",
      "196\n",
      "225\n",
      "256\n",
      "289\n",
      "324\n",
      "361\n",
      "400\n",
      "441\n",
      "484\n",
      "529\n",
      "576\n",
      "625\n",
      "676\n",
      "729\n",
      "784\n",
      "841\n"
     ]
    }
   ],
   "source": [
    "for i in sqrValue(30):\n",
    "    print(i)"
   ]
  },
  {
   "cell_type": "code",
   "execution_count": 139,
   "id": "b458ebdd-12ad-4c49-9164-e7141be9cbc0",
   "metadata": {},
   "outputs": [
    {
     "name": "stdout",
     "output_type": "stream",
     "text": [
      "[0, 1, 4, 9, 16, 25, 36, 49, 64, 81, 100, 121, 144, 169, 196, 225, 256, 289, 324, 361]\n"
     ]
    }
   ],
   "source": [
    "res1 = (a*a for a in range(20))\n",
    "print(list(res1))"
   ]
  },
  {
   "cell_type": "code",
   "execution_count": 145,
   "id": "b4d20d08-9464-4f26-9484-bf0af833fe94",
   "metadata": {},
   "outputs": [],
   "source": [
    "# 9. Write a decorator that caches results of a function (memoization).\n",
    "\n",
    "def memorize(func):\n",
    "    cache = {}\n",
    "    print(f\"printing Cache Value----------------{cache}\")\n",
    "    def wrapper(*args):\n",
    "        if args in cache:\n",
    "            print(f\"Fetching Value: {args}\")\n",
    "            return cache[args]\n",
    "        print(f\"Calculating new value: {args}\")\n",
    "        result = func(*args)\n",
    "        cache[args] = result\n",
    "        print(cache)\n",
    "        return result\n",
    "    return wrapper   "
   ]
  },
  {
   "cell_type": "code",
   "execution_count": 149,
   "id": "d2f32e64-5746-4730-a0a5-fb4e736c44d3",
   "metadata": {},
   "outputs": [
    {
     "name": "stdout",
     "output_type": "stream",
     "text": [
      "printing Cache Value----------------{}\n",
      "Calculating new value: (10, 20)\n",
      "Performaing Addition.........\n",
      "{(10, 20): 30}\n",
      "30\n",
      "Calculating new value: (20, 30)\n",
      "Performaing Addition.........\n",
      "{(10, 20): 30, (20, 30): 50}\n",
      "50\n",
      "Calculating new value: (10, -20)\n",
      "Performaing Addition.........\n",
      "{(10, 20): 30, (20, 30): 50, (10, -20): -10}\n",
      "-10\n"
     ]
    }
   ],
   "source": [
    "@memorize\n",
    "def add_value(a,b):\n",
    "    print(f\"Performaing Addition.........\")\n",
    "    return a+b\n",
    "print(add_value(10,20))\n",
    "print(add_value(20,30))\n",
    "print(add_value(10,-20))"
   ]
  },
  {
   "cell_type": "code",
   "execution_count": 150,
   "id": "3acdc6e0-0a0c-452a-8ea2-8ffaa8173462",
   "metadata": {},
   "outputs": [
    {
     "name": "stdin",
     "output_type": "stream",
     "text": [
      "Enter the number of times function should repeat:  20\n",
      "Enter the number:  30\n"
     ]
    },
    {
     "name": "stdout",
     "output_type": "stream",
     "text": [
      "Number:  31\n"
     ]
    },
    {
     "ename": "KeyboardInterrupt",
     "evalue": "Interrupted by user",
     "output_type": "error",
     "traceback": [
      "\u001b[31m---------------------------------------------------------------------------\u001b[39m",
      "\u001b[31mKeyboardInterrupt\u001b[39m                         Traceback (most recent call last)",
      "\u001b[36mCell\u001b[39m\u001b[36m \u001b[39m\u001b[32mIn[150]\u001b[39m\u001b[32m, line 18\u001b[39m\n\u001b[32m     14\u001b[39m \u001b[38;5;129m@decorator\u001b[39m\n\u001b[32m     15\u001b[39m \u001b[38;5;28;01mdef\u001b[39;00m\u001b[38;5;250m \u001b[39m\u001b[34mfunction\u001b[39m():\n\u001b[32m     16\u001b[39m     \u001b[38;5;28;01mreturn\u001b[39;00m \u001b[38;5;28mint\u001b[39m(\u001b[38;5;28minput\u001b[39m(\u001b[33m\"\u001b[39m\u001b[33mEnter the number: \u001b[39m\u001b[33m\"\u001b[39m))\n\u001b[32m---> \u001b[39m\u001b[32m18\u001b[39m \u001b[43mfunction\u001b[49m\u001b[43m(\u001b[49m\u001b[43m)\u001b[49m\n",
      "\u001b[36mCell\u001b[39m\u001b[36m \u001b[39m\u001b[32mIn[150]\u001b[39m\u001b[32m, line 7\u001b[39m, in \u001b[36mdecorator.<locals>.wrapper\u001b[39m\u001b[34m(*args)\u001b[39m\n\u001b[32m      5\u001b[39m \u001b[38;5;28;01mfor\u001b[39;00m i \u001b[38;5;129;01min\u001b[39;00m \u001b[38;5;28mrange\u001b[39m(n):\n\u001b[32m      6\u001b[39m     \u001b[38;5;28;01mtry\u001b[39;00m:\n\u001b[32m----> \u001b[39m\u001b[32m7\u001b[39m         res = \u001b[43mfunc\u001b[49m\u001b[43m(\u001b[49m\u001b[43m)\u001b[49m + \u001b[32m1\u001b[39m\n\u001b[32m      8\u001b[39m     \u001b[38;5;28;01mexcept\u001b[39;00m \u001b[38;5;167;01mValueError\u001b[39;00m:\n\u001b[32m      9\u001b[39m         \u001b[38;5;28mprint\u001b[39m(\u001b[33m\"\u001b[39m\u001b[33minvalid input! Try again\u001b[39m\u001b[33m\"\u001b[39m)\n",
      "\u001b[36mCell\u001b[39m\u001b[36m \u001b[39m\u001b[32mIn[150]\u001b[39m\u001b[32m, line 16\u001b[39m, in \u001b[36mfunction\u001b[39m\u001b[34m()\u001b[39m\n\u001b[32m     14\u001b[39m \u001b[38;5;129m@decorator\u001b[39m\n\u001b[32m     15\u001b[39m \u001b[38;5;28;01mdef\u001b[39;00m\u001b[38;5;250m \u001b[39m\u001b[34mfunction\u001b[39m():\n\u001b[32m---> \u001b[39m\u001b[32m16\u001b[39m     \u001b[38;5;28;01mreturn\u001b[39;00m \u001b[38;5;28mint\u001b[39m(\u001b[38;5;28;43minput\u001b[39;49m\u001b[43m(\u001b[49m\u001b[33;43m\"\u001b[39;49m\u001b[33;43mEnter the number: \u001b[39;49m\u001b[33;43m\"\u001b[39;49m\u001b[43m)\u001b[49m)\n",
      "\u001b[36mFile \u001b[39m\u001b[32m~\\AppData\\Local\\Programs\\Python\\Python313\\Lib\\site-packages\\ipykernel\\kernelbase.py:1275\u001b[39m, in \u001b[36mKernel.raw_input\u001b[39m\u001b[34m(self, prompt)\u001b[39m\n\u001b[32m   1273\u001b[39m     msg = \u001b[33m\"\u001b[39m\u001b[33mraw_input was called, but this frontend does not support input requests.\u001b[39m\u001b[33m\"\u001b[39m\n\u001b[32m   1274\u001b[39m     \u001b[38;5;28;01mraise\u001b[39;00m StdinNotImplementedError(msg)\n\u001b[32m-> \u001b[39m\u001b[32m1275\u001b[39m \u001b[38;5;28;01mreturn\u001b[39;00m \u001b[38;5;28;43mself\u001b[39;49m\u001b[43m.\u001b[49m\u001b[43m_input_request\u001b[49m\u001b[43m(\u001b[49m\n\u001b[32m   1276\u001b[39m \u001b[43m    \u001b[49m\u001b[38;5;28;43mstr\u001b[39;49m\u001b[43m(\u001b[49m\u001b[43mprompt\u001b[49m\u001b[43m)\u001b[49m\u001b[43m,\u001b[49m\n\u001b[32m   1277\u001b[39m \u001b[43m    \u001b[49m\u001b[38;5;28;43mself\u001b[39;49m\u001b[43m.\u001b[49m\u001b[43m_parent_ident\u001b[49m\u001b[43m[\u001b[49m\u001b[33;43m\"\u001b[39;49m\u001b[33;43mshell\u001b[39;49m\u001b[33;43m\"\u001b[39;49m\u001b[43m]\u001b[49m\u001b[43m,\u001b[49m\n\u001b[32m   1278\u001b[39m \u001b[43m    \u001b[49m\u001b[38;5;28;43mself\u001b[39;49m\u001b[43m.\u001b[49m\u001b[43mget_parent\u001b[49m\u001b[43m(\u001b[49m\u001b[33;43m\"\u001b[39;49m\u001b[33;43mshell\u001b[39;49m\u001b[33;43m\"\u001b[39;49m\u001b[43m)\u001b[49m\u001b[43m,\u001b[49m\n\u001b[32m   1279\u001b[39m \u001b[43m    \u001b[49m\u001b[43mpassword\u001b[49m\u001b[43m=\u001b[49m\u001b[38;5;28;43;01mFalse\u001b[39;49;00m\u001b[43m,\u001b[49m\n\u001b[32m   1280\u001b[39m \u001b[43m\u001b[49m\u001b[43m)\u001b[49m\n",
      "\u001b[36mFile \u001b[39m\u001b[32m~\\AppData\\Local\\Programs\\Python\\Python313\\Lib\\site-packages\\ipykernel\\kernelbase.py:1320\u001b[39m, in \u001b[36mKernel._input_request\u001b[39m\u001b[34m(self, prompt, ident, parent, password)\u001b[39m\n\u001b[32m   1317\u001b[39m \u001b[38;5;28;01mexcept\u001b[39;00m \u001b[38;5;167;01mKeyboardInterrupt\u001b[39;00m:\n\u001b[32m   1318\u001b[39m     \u001b[38;5;66;03m# re-raise KeyboardInterrupt, to truncate traceback\u001b[39;00m\n\u001b[32m   1319\u001b[39m     msg = \u001b[33m\"\u001b[39m\u001b[33mInterrupted by user\u001b[39m\u001b[33m\"\u001b[39m\n\u001b[32m-> \u001b[39m\u001b[32m1320\u001b[39m     \u001b[38;5;28;01mraise\u001b[39;00m \u001b[38;5;167;01mKeyboardInterrupt\u001b[39;00m(msg) \u001b[38;5;28;01mfrom\u001b[39;00m\u001b[38;5;250m \u001b[39m\u001b[38;5;28;01mNone\u001b[39;00m\n\u001b[32m   1321\u001b[39m \u001b[38;5;28;01mexcept\u001b[39;00m \u001b[38;5;167;01mException\u001b[39;00m:\n\u001b[32m   1322\u001b[39m     \u001b[38;5;28mself\u001b[39m.log.warning(\u001b[33m\"\u001b[39m\u001b[33mInvalid Message:\u001b[39m\u001b[33m\"\u001b[39m, exc_info=\u001b[38;5;28;01mTrue\u001b[39;00m)\n",
      "\u001b[31mKeyboardInterrupt\u001b[39m: Interrupted by user"
     ]
    }
   ],
   "source": [
    "# 14. Create a decorator that can take arguments, e.g., `@repeat(n)` which runs a function `n` times.\n",
    "def decorator(func):\n",
    "    def wrapper(*args):\n",
    "        n = int(input(\"Enter the number of times function should repeat: \"))\n",
    "        for i in range(n):\n",
    "            try:\n",
    "                res = func() + 1\n",
    "            except ValueError:\n",
    "                print(\"invalid input! Try again\")\n",
    "                res = func()\n",
    "            else:\n",
    "                print(\"Number: \", res)\n",
    "    return wrapper\n",
    "@decorator\n",
    "def function():\n",
    "    return int(input(\"Enter the number: \"))\n",
    "    \n",
    "function()"
   ]
  },
  {
   "cell_type": "code",
   "execution_count": 159,
   "id": "5be62997-a614-48a2-ba39-32b241afcd08",
   "metadata": {},
   "outputs": [
    {
     "name": "stdout",
     "output_type": "stream",
     "text": [
      "Runing Value: -1/10\n",
      "Hello, Hello world\n",
      "Runing Value: 0/10\n",
      "Hello, Hello world\n",
      "Runing Value: 1/10\n",
      "Hello, Hello world\n",
      "Runing Value: 2/10\n",
      "Hello, Hello world\n",
      "Runing Value: 3/10\n",
      "Hello, Hello world\n",
      "Runing Value: 4/10\n",
      "Hello, Hello world\n",
      "Runing Value: 5/10\n",
      "Hello, Hello world\n",
      "Runing Value: 6/10\n",
      "Hello, Hello world\n",
      "Runing Value: 7/10\n",
      "Hello, Hello world\n",
      "Runing Value: 8/10\n",
      "Hello, Hello world\n"
     ]
    }
   ],
   "source": [
    "# 14. Create a decorator that can take arguments, e.g., `@repeat(n)` which runs a function `n` times.\n",
    "from functools import wraps\n",
    "def repeat(n):\n",
    "    def decorator(func):\n",
    "        def wrapper(*args, **kwargs):\n",
    "            result  = None\n",
    "            for i in range(n):\n",
    "                print(f\"Runing Value: {i-1}/{n}\")\n",
    "                result = func(*args, **kwargs)\n",
    "            return result\n",
    "        return wrapper\n",
    "    return decorator\n",
    "\n",
    "\n",
    "@repeat(10)\n",
    "def hello(name):\n",
    "    print(f\"Hello, {name}\")\n",
    "hello(\"Hello world\")"
   ]
  },
  {
   "cell_type": "code",
   "execution_count": 154,
   "id": "7d40a0db-a8a2-4879-8959-8977ab1727f3",
   "metadata": {},
   "outputs": [
    {
     "data": {
      "text/plain": [
       "0.95"
      ]
     },
     "execution_count": 154,
     "metadata": {},
     "output_type": "execute_result"
    }
   ],
   "source": [
    "19/20"
   ]
  },
  {
   "cell_type": "code",
   "execution_count": null,
   "id": "45df0a47-f7f5-48f0-90df-1839a406bad7",
   "metadata": {},
   "outputs": [],
   "source": []
  }
 ],
 "metadata": {
  "kernelspec": {
   "display_name": "Python 3 (ipykernel)",
   "language": "python",
   "name": "python3"
  },
  "language_info": {
   "codemirror_mode": {
    "name": "ipython",
    "version": 3
   },
   "file_extension": ".py",
   "mimetype": "text/x-python",
   "name": "python",
   "nbconvert_exporter": "python",
   "pygments_lexer": "ipython3",
   "version": "3.13.7"
  }
 },
 "nbformat": 4,
 "nbformat_minor": 5
}
