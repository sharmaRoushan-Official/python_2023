{
 "cells": [
  {
   "cell_type": "markdown",
   "id": "58839098-6696-4c29-aff4-4f4fe579c672",
   "metadata": {},
   "source": [
    "# 10. Exception Handling in Python\n",
    "\n",
    " * __An exception is an event, which occurs during the execution of a program that disrupts the normal flow of the program's instructions.__\n",
    " * __In general, when a Python scripts encounters a situation that it cannot cope with, it raises an exception.__\n",
    " * __An excpetion is a Python Object that represents an error.__\n",
    " * __When a Python scripts raises an Exception, it must either handle the exception immediately otherwise it terminates and quits.__\n",
    " * __If you have some suspicious code that may raise an excption, you can defend your program by placing the suspicious code in a try:block.__\n",
    " * __After the try:block, include an except: statement, followed by a block of code which handles the problem as elegantly as possible.__\n",
    "    * __Common Exceptions__\n",
    "       * __Zero DivisonError__\n",
    "       * __NameError__\n",
    "       * __ValueError__\n",
    "       * __IOError__\n",
    "       * __EOFError__\n",
    "       * __IndentationError__\n",
    "       * __KeyError__"
   ]
  },
  {
   "cell_type": "code",
   "execution_count": 1,
   "id": "71ef0804-ccf2-4a67-be03-487d7f9c6ba9",
   "metadata": {},
   "outputs": [],
   "source": [
    "# 10- lines\n",
    "\n",
    "# 5- error\n",
    "# 6- not executed"
   ]
  },
  {
   "cell_type": "code",
   "execution_count": 4,
   "id": "0c0550eb-1393-4353-81d4-46a231f73d23",
   "metadata": {},
   "outputs": [
    {
     "ename": "ZeroDivisionError",
     "evalue": "division by zero",
     "output_type": "error",
     "traceback": [
      "\u001b[31m---------------------------------------------------------------------------\u001b[39m",
      "\u001b[31mZeroDivisionError\u001b[39m                         Traceback (most recent call last)",
      "\u001b[36mCell\u001b[39m\u001b[36m \u001b[39m\u001b[32mIn[4]\u001b[39m\u001b[32m, line 1\u001b[39m\n\u001b[32m----> \u001b[39m\u001b[32m1\u001b[39m \u001b[38;5;28mprint\u001b[39m(\u001b[32;43m1\u001b[39;49m\u001b[43m/\u001b[49m\u001b[32;43m0\u001b[39;49m)\n\u001b[32m      2\u001b[39m \u001b[38;5;28mprint\u001b[39m(\u001b[33m'\u001b[39m\u001b[33mHello world\u001b[39m\u001b[33m'\u001b[39m)\n",
      "\u001b[31mZeroDivisionError\u001b[39m: division by zero"
     ]
    }
   ],
   "source": [
    "print(1/0)\n",
    "print('Hello world')"
   ]
  },
  {
   "cell_type": "code",
   "execution_count": 6,
   "id": "f73e2bc2-77be-4678-811a-cfa68ad89858",
   "metadata": {},
   "outputs": [
    {
     "name": "stdout",
     "output_type": "stream",
     "text": [
      "It Through an Error ZeroDivisionError\n",
      "Hello world\n"
     ]
    }
   ],
   "source": [
    "try:\n",
    "    1/0\n",
    "except ZeroDivisionError:\n",
    "    print(\"It Through an Error ZeroDivisionError\")\n",
    "\n",
    "print('Hello world')"
   ]
  },
  {
   "cell_type": "code",
   "execution_count": 7,
   "id": "36f37468-f7d9-480a-b106-f50f43f820d9",
   "metadata": {},
   "outputs": [
    {
     "ename": "ZeroDivisionError",
     "evalue": "division by zero",
     "output_type": "error",
     "traceback": [
      "\u001b[31m---------------------------------------------------------------------------\u001b[39m",
      "\u001b[31mZeroDivisionError\u001b[39m                         Traceback (most recent call last)",
      "\u001b[36mCell\u001b[39m\u001b[36m \u001b[39m\u001b[32mIn[7]\u001b[39m\u001b[32m, line 2\u001b[39m\n\u001b[32m      1\u001b[39m \u001b[38;5;66;03m# True/False\u001b[39;00m\n\u001b[32m----> \u001b[39m\u001b[32m2\u001b[39m \u001b[38;5;28;43;01mTrue\u001b[39;49;00m\u001b[43m/\u001b[49m\u001b[38;5;28;43;01mFalse\u001b[39;49;00m\n",
      "\u001b[31mZeroDivisionError\u001b[39m: division by zero"
     ]
    }
   ],
   "source": [
    "# True/False\n",
    "True/False"
   ]
  },
  {
   "cell_type": "code",
   "execution_count": 9,
   "id": "ad95e07b-7a44-437e-a4ca-9f8e52cb9b7d",
   "metadata": {},
   "outputs": [
    {
     "name": "stdout",
     "output_type": "stream",
     "text": [
      "This code gives a ZeroDivisonError\n"
     ]
    }
   ],
   "source": [
    "try:\n",
    "    True/False\n",
    "except ZeroDivisionError:\n",
    "    print(\"This code gives a ZeroDivisonError\")"
   ]
  },
  {
   "cell_type": "markdown",
   "id": "3951b3a5-f0e7-4dfe-8824-0114ead387ed",
   "metadata": {},
   "source": [
    "# NameError"
   ]
  },
  {
   "cell_type": "code",
   "execution_count": 10,
   "id": "1a33bfc0-a747-40da-b627-07f20a32954a",
   "metadata": {},
   "outputs": [
    {
     "ename": "NameError",
     "evalue": "name 'list2' is not defined",
     "output_type": "error",
     "traceback": [
      "\u001b[31m---------------------------------------------------------------------------\u001b[39m",
      "\u001b[31mNameError\u001b[39m                                 Traceback (most recent call last)",
      "\u001b[36mCell\u001b[39m\u001b[36m \u001b[39m\u001b[32mIn[10]\u001b[39m\u001b[32m, line 4\u001b[39m\n\u001b[32m      1\u001b[39m list1 = []\n\u001b[32m      2\u001b[39m count = \u001b[32m0\u001b[39m\n\u001b[32m----> \u001b[39m\u001b[32m4\u001b[39m \u001b[38;5;28mprint\u001b[39m(\u001b[43mlist2\u001b[49m)\n",
      "\u001b[31mNameError\u001b[39m: name 'list2' is not defined"
     ]
    }
   ],
   "source": [
    "list1 = []\n",
    "count = 0\n",
    "\n",
    "print(list2)"
   ]
  },
  {
   "cell_type": "code",
   "execution_count": 15,
   "id": "121ad3da-40b8-401e-9c4b-baea1f0bf298",
   "metadata": {},
   "outputs": [
    {
     "name": "stdout",
     "output_type": "stream",
     "text": [
      "This code gives a NameError\n"
     ]
    }
   ],
   "source": [
    "list1 = []\n",
    "try:\n",
    "    print(list2)\n",
    "except NameError:\n",
    "    print(\"This code gives a NameError\")"
   ]
  },
  {
   "cell_type": "markdown",
   "id": "48b79766-e04b-455b-aa57-991e3f1b80ae",
   "metadata": {},
   "source": [
    "# TypeError"
   ]
  },
  {
   "cell_type": "code",
   "execution_count": 20,
   "id": "58fbf5bf-4ecf-4f28-91a3-9db9840d70d5",
   "metadata": {},
   "outputs": [
    {
     "name": "stdin",
     "output_type": "stream",
     "text": [
      "Enter any value:  10\n",
      "Enter any string value:  apple\n"
     ]
    },
    {
     "ename": "TypeError",
     "evalue": "unsupported operand type(s) for +: 'int' and 'str'",
     "output_type": "error",
     "traceback": [
      "\u001b[31m---------------------------------------------------------------------------\u001b[39m",
      "\u001b[31mTypeError\u001b[39m                                 Traceback (most recent call last)",
      "\u001b[36mCell\u001b[39m\u001b[36m \u001b[39m\u001b[32mIn[20]\u001b[39m\u001b[32m, line 4\u001b[39m\n\u001b[32m      1\u001b[39m x = \u001b[38;5;28mint\u001b[39m(\u001b[38;5;28minput\u001b[39m(\u001b[33m\"\u001b[39m\u001b[33mEnter any value: \u001b[39m\u001b[33m\"\u001b[39m))\n\u001b[32m      2\u001b[39m y = \u001b[38;5;28minput\u001b[39m(\u001b[33m\"\u001b[39m\u001b[33mEnter any string value: \u001b[39m\u001b[33m\"\u001b[39m)\n\u001b[32m----> \u001b[39m\u001b[32m4\u001b[39m z = \u001b[43mx\u001b[49m\u001b[43m+\u001b[49m\u001b[43my\u001b[49m\n\u001b[32m      5\u001b[39m z\n",
      "\u001b[31mTypeError\u001b[39m: unsupported operand type(s) for +: 'int' and 'str'"
     ]
    }
   ],
   "source": [
    "x = int(input(\"Enter any value: \"))\n",
    "y = input(\"Enter any string value: \")\n",
    "\n",
    "z = x+y\n",
    "print(z)"
   ]
  },
  {
   "cell_type": "code",
   "execution_count": 21,
   "id": "5651a684-c570-4e19-9fc6-5c3298db58b1",
   "metadata": {},
   "outputs": [
    {
     "name": "stdin",
     "output_type": "stream",
     "text": [
      "Enter any value:  10\n",
      "Enter any string value:  apple\n"
     ]
    },
    {
     "name": "stdout",
     "output_type": "stream",
     "text": [
      "This code gives TypeError\n"
     ]
    }
   ],
   "source": [
    "x = int(input(\"Enter any value: \"))\n",
    "y = input(\"Enter any string value: \")\n",
    "\n",
    "try:\n",
    "    z = x+y\n",
    "    print(z)\n",
    "except TypeError:\n",
    "    print(\"This code gives TypeError\")"
   ]
  },
  {
   "cell_type": "markdown",
   "id": "080278cc-2c69-4ca2-b104-ac0b2300d35a",
   "metadata": {},
   "source": [
    "# IndexError"
   ]
  },
  {
   "cell_type": "code",
   "execution_count": 26,
   "id": "e3fc3c97-a0b6-4d8b-b318-b75513e57dfe",
   "metadata": {},
   "outputs": [
    {
     "name": "stdout",
     "output_type": "stream",
     "text": [
      "This code gives IndexError\n",
      "hello world\n"
     ]
    }
   ],
   "source": [
    "list1 = [10,20,30,40,50,True,False,'apple']\n",
    "\n",
    "try:\n",
    "    list1[8]\n",
    "except IndexError:\n",
    "    print('This code gives IndexError')\n",
    "print(\"hello world\")"
   ]
  },
  {
   "cell_type": "markdown",
   "id": "6cebfbe6-5721-4305-8707-73d6af769a7b",
   "metadata": {},
   "source": [
    "# KeyError"
   ]
  },
  {
   "cell_type": "code",
   "execution_count": 27,
   "id": "db124b6e-577b-4ff5-8b7a-cefca0b5d26d",
   "metadata": {},
   "outputs": [
    {
     "data": {
      "text/plain": [
       "{'name': 'Aditya', 'age': 20, 'email': 'aditya@gmail.com'}"
      ]
     },
     "execution_count": 27,
     "metadata": {},
     "output_type": "execute_result"
    }
   ],
   "source": [
    "dict1 = dict(name=\"Aditya\",age=20,email=\"aditya@gmail.com\")\n",
    "dict1"
   ]
  },
  {
   "cell_type": "code",
   "execution_count": 37,
   "id": "2ec3e4ad-4ac1-4c24-af60-76aa4d3c04c6",
   "metadata": {},
   "outputs": [
    {
     "ename": "KeyError",
     "evalue": "'address'",
     "output_type": "error",
     "traceback": [
      "\u001b[31m---------------------------------------------------------------------------\u001b[39m",
      "\u001b[31mKeyError\u001b[39m                                  Traceback (most recent call last)",
      "\u001b[36mCell\u001b[39m\u001b[36m \u001b[39m\u001b[32mIn[37]\u001b[39m\u001b[32m, line 2\u001b[39m\n\u001b[32m      1\u001b[39m dict1 = \u001b[38;5;28mdict\u001b[39m(name=\u001b[33m\"\u001b[39m\u001b[33mAditya\u001b[39m\u001b[33m\"\u001b[39m,age=\u001b[32m20\u001b[39m,email=\u001b[33m\"\u001b[39m\u001b[33maditya@gmail.com\u001b[39m\u001b[33m\"\u001b[39m)\n\u001b[32m----> \u001b[39m\u001b[32m2\u001b[39m \u001b[43mdict1\u001b[49m\u001b[43m[\u001b[49m\u001b[33;43m'\u001b[39;49m\u001b[33;43maddress\u001b[39;49m\u001b[33;43m'\u001b[39;49m\u001b[43m]\u001b[49m\n\u001b[32m      4\u001b[39m \u001b[38;5;66;03m# dict1.get('age1')\u001b[39;00m\n",
      "\u001b[31mKeyError\u001b[39m: 'address'"
     ]
    }
   ],
   "source": [
    "dict1 = dict(name=\"Aditya\",age=20,email=\"aditya@gmail.com\")\n",
    "dict1['address']\n",
    "\n",
    "# dict1.get('age1')"
   ]
  },
  {
   "cell_type": "code",
   "execution_count": 30,
   "id": "3af1a3b3-a04a-4e0b-a975-3f9c10d860eb",
   "metadata": {},
   "outputs": [
    {
     "name": "stdout",
     "output_type": "stream",
     "text": [
      "This code viven us a KeyError\n"
     ]
    }
   ],
   "source": [
    "dict1 = dict(name=\"Aditya\",age=20,email=\"aditya@gmail.com\")\n",
    "\n",
    "try:\n",
    "    dict1['address']\n",
    "except KeyError:\n",
    "    print(\"This code viven us a KeyError\")"
   ]
  },
  {
   "cell_type": "markdown",
   "id": "1a1fa2fe-124e-4880-ab86-a181cd092c15",
   "metadata": {},
   "source": [
    "# Exception Handling"
   ]
  },
  {
   "cell_type": "code",
   "execution_count": 38,
   "id": "305a37d1-fdf4-408c-b39a-1cbbdb6c6dce",
   "metadata": {},
   "outputs": [
    {
     "name": "stdout",
     "output_type": "stream",
     "text": [
      "Since the variable name is not defined, the function gives a NameError\n"
     ]
    }
   ],
   "source": [
    "try:\n",
    "    print(name)\n",
    "except NameError:\n",
    "    print('Since the variable name is not defined, the function gives a NameError')"
   ]
  },
  {
   "cell_type": "code",
   "execution_count": 41,
   "id": "dfdae132-83ee-4920-a706-6f6dbb870cc8",
   "metadata": {},
   "outputs": [
    {
     "name": "stdin",
     "output_type": "stream",
     "text": [
      "Enter a number:  10\n"
     ]
    },
    {
     "name": "stdout",
     "output_type": "stream",
     "text": [
      "The entered value is: 10.0\n"
     ]
    },
    {
     "name": "stdin",
     "output_type": "stream",
     "text": [
      "Enter a number:  20\n"
     ]
    },
    {
     "name": "stdout",
     "output_type": "stream",
     "text": [
      "The Entered number is: 20.0\n",
      "The process is runnning with the value = 0.5\n"
     ]
    }
   ],
   "source": [
    "# default excpt\n",
    "num1 = float(input(\"Enter a number: \"))\n",
    "print(\"The entered value is:\",num1)\n",
    "\n",
    "try:\n",
    "    num2 = float(input(\"Enter a number: \"))\n",
    "    print(\"The Entered number is:\",num2)\n",
    "    value = num1/num2\n",
    "    print(\"The process is runnning with the value =\",value)\n",
    "except:\n",
    "    print(\"The process is not running\")"
   ]
  },
  {
   "cell_type": "code",
   "execution_count": 45,
   "id": "f071e85d-02c3-4a77-866c-dcdf193f5a3f",
   "metadata": {},
   "outputs": [
    {
     "name": "stdin",
     "output_type": "stream",
     "text": [
      "Enter a number:  50\n",
      "Enter any value:  asham\n"
     ]
    },
    {
     "name": "stdout",
     "output_type": "stream",
     "text": [
      "You should provide a number.\n"
     ]
    }
   ],
   "source": [
    "# multiple Except Blocks\n",
    "\n",
    "num1 = float(input(\"Enter a number: \"))\n",
    "\n",
    "try:\n",
    "    num2 = float(input(\"Enter any value: \"))\n",
    "    value = num1/num2\n",
    "    print(\"This process is running with value :\",value)\n",
    "except ZeroDivisionError:\n",
    "    print(\"This function gives a ZeroDivisonError since a number cannot divided by 0.\")\n",
    "except ValueError:\n",
    "    print(\"You should provide a number.\")\n",
    "except:\n",
    "    print(\"Something went wrong\")"
   ]
  },
  {
   "cell_type": "markdown",
   "id": "f8b464d4-50f3-400c-af93-8a50b1348227",
   "metadata": {},
   "source": [
    "# try/except/else"
   ]
  },
  {
   "cell_type": "code",
   "execution_count": 50,
   "id": "1cc52821-2d35-4716-bf5b-51a05c13cb05",
   "metadata": {},
   "outputs": [
    {
     "name": "stdin",
     "output_type": "stream",
     "text": [
      "Enter a number:  10\n",
      "Enter any value:  66\n"
     ]
    },
    {
     "name": "stdout",
     "output_type": "stream",
     "text": [
      "35\n",
      "This process is running with value : 0.15151515151515152\n"
     ]
    }
   ],
   "source": [
    "# multiple Except Blocks\n",
    "try:\n",
    "    num1 = float(input(\"Enter a number: \"))\n",
    "    num2 = float(input(\"Enter any value: \"))\n",
    "    value = num1/num2\n",
    "\n",
    "except ZeroDivisionError:\n",
    "    print(\"This function gives a ZeroDivisonError since a number cannot divided by 0.\")\n",
    "except ValueError:\n",
    "    print(\"You should provide a number.\")\n",
    "except:\n",
    "    print(\"Something went wrong\")\n",
    "else:\n",
    "    a=15\n",
    "    b = 20\n",
    "    print(a+b)\n",
    "    print(\"This process is running with value :\",value)"
   ]
  },
  {
   "cell_type": "code",
   "execution_count": 51,
   "id": "3f1951b5-55d2-48fd-b192-813ff68e457b",
   "metadata": {},
   "outputs": [
    {
     "name": "stdin",
     "output_type": "stream",
     "text": [
      "Enter a number:  10\n",
      "Enter any value:  20\n"
     ]
    },
    {
     "name": "stdout",
     "output_type": "stream",
     "text": [
      "35\n",
      "This process is running with value : 0.5\n",
      "This process is completed.\n"
     ]
    }
   ],
   "source": [
    "# multiple Except Blocks\n",
    "try:\n",
    "    num1 = float(input(\"Enter a number: \"))\n",
    "    num2 = float(input(\"Enter any value: \"))\n",
    "    value = num1/num2\n",
    "\n",
    "except ZeroDivisionError:\n",
    "    print(\"This function gives a ZeroDivisonError since a number cannot divided by 0.\")\n",
    "except ValueError:\n",
    "    print(\"You should provide a number.\")\n",
    "except:\n",
    "    print(\"Something went wrong\")\n",
    "else:\n",
    "    a=15\n",
    "    b = 20\n",
    "    print(a+b)\n",
    "    print(\"This process is running with value :\",value)\n",
    "\n",
    "finally:\n",
    "    print(\"This process is completed.\")"
   ]
  },
  {
   "cell_type": "code",
   "execution_count": null,
   "id": "11f2cd30-6775-4e16-8bb5-f82bc27da718",
   "metadata": {},
   "outputs": [],
   "source": []
  }
 ],
 "metadata": {
  "kernelspec": {
   "display_name": "Python 3 (ipykernel)",
   "language": "python",
   "name": "python3"
  },
  "language_info": {
   "codemirror_mode": {
    "name": "ipython",
    "version": 3
   },
   "file_extension": ".py",
   "mimetype": "text/x-python",
   "name": "python",
   "nbconvert_exporter": "python",
   "pygments_lexer": "ipython3",
   "version": "3.13.7"
  }
 },
 "nbformat": 4,
 "nbformat_minor": 5
}
