{
 "cells": [
  {
   "cell_type": "code",
   "execution_count": 5,
   "id": "7c17e9b4-1ff7-421a-8e43-e81026493d18",
   "metadata": {},
   "outputs": [
    {
     "name": "stdout",
     "output_type": "stream",
     "text": [
      "1\n",
      "12\n",
      "123\n",
      "1234\n"
     ]
    }
   ],
   "source": [
    "for i in range(1, 5):\n",
    "    for j in range(1, i+1):\n",
    "        print(j, end=\"\")\n",
    "    print()"
   ]
  },
  {
   "cell_type": "code",
   "execution_count": 6,
   "id": "2431d5b1-9ae1-452c-b180-fca22989d1b2",
   "metadata": {},
   "outputs": [
    {
     "name": "stdout",
     "output_type": "stream",
     "text": [
      "[2, 4, 6, 8, 10]\n"
     ]
    }
   ],
   "source": [
    "def even_number(n):\n",
    "    even_list = []\n",
    "    for i in n:\n",
    "        if i%2 == 0:\n",
    "            even_list.append(i)\n",
    "    print(even_list)\n",
    "\n",
    "list = [1,2,3,4,5,6,7,8,9,10]\n",
    "even_number(list)"
   ]
  },
  {
   "cell_type": "code",
   "execution_count": 10,
   "id": "85743223-26b4-486e-b58e-eae89120aa45",
   "metadata": {},
   "outputs": [],
   "source": [
    "# factorial recursive\n",
    "# 3. Write a recursive function to calculate the factorial of a number.\n",
    "def factorial(n):\n",
    "    if n == 0 or n == 1:\n",
    "        return 1\n",
    "    else:\n",
    "        return n * factorial(n - 1)\n",
    "\n",
    "print(factorial(5))"
   ]
  },
  {
   "cell_type": "code",
   "execution_count": 14,
   "id": "f7cef085-4113-4541-bcb0-d48504e2f3fa",
   "metadata": {},
   "outputs": [
    {
     "ename": "SyntaxError",
     "evalue": "invalid syntax (124029158.py, line 2)",
     "output_type": "error",
     "traceback": [
      "\u001b[1;36m  Cell \u001b[1;32mIn[14], line 2\u001b[1;36m\u001b[0m\n\u001b[1;33m    def __init__(self, book,, author):\u001b[0m\n\u001b[1;37m                            ^\u001b[0m\n\u001b[1;31mSyntaxError\u001b[0m\u001b[1;31m:\u001b[0m invalid syntax\n"
     ]
    }
   ],
   "source": [
    "# 4. Create a class bok with attributes title, author, and pages. Add a method to disply book details.\n",
    "class Book:\n",
    "    def __init__(self, title, author, pages):\n",
    "\n",
    "        self.title = title\n",
    "        self.author = author\n",
    "        self.pages = pages\n",
    "\n",
    "    def show_book_details(self):\n",
    "        print(f\"Book: {self.title} by {self.author}\\nNo of pages: {self.pages}\")\n",
    "\n",
    "book = Book(\"Wings of Fire\", \"A.P.J Abdul Kalam\", 1029)\n",
    "book.show_book_details()\n"
   ]
  },
  {
   "cell_type": "code",
   "execution_count": 28,
   "id": "a08c4e92-f008-4d1f-8223-c4e9dddad029",
   "metadata": {},
   "outputs": [
    {
     "name": "stdin",
     "output_type": "stream",
     "text": [
      "First number:  1\n",
      "Second number:  2\n"
     ]
    },
    {
     "name": "stdout",
     "output_type": "stream",
     "text": [
      "Select the Operation!\n"
     ]
    },
    {
     "name": "stdin",
     "output_type": "stream",
     "text": [
      "1. Add      2.Subtract\n",
      "3.Multiply      4.Divide\n",
      " 1\n"
     ]
    },
    {
     "name": "stdout",
     "output_type": "stream",
     "text": [
      "1 + 2 = 3\n"
     ]
    }
   ],
   "source": [
    "# 5. Create a class Calculator with method for add, subtract, multiply and divide.\n",
    "class Calculator:\n",
    "    def __init__(self, num1, num2):\n",
    "        self.num1 = int(num1)\n",
    "        self.num2 = int(num2)\n",
    "\n",
    "    def addition(self):\n",
    "        return self.num1 + self.num2\n",
    "\n",
    "    def subtraction(self):\n",
    "        return self.num1 - self.num2\n",
    "\n",
    "    def multiply(self):\n",
    "        return self.num1 * self.num2\n",
    "\n",
    "    def divide(self):\n",
    "        return self.num1 / self.num2\n",
    "try:\n",
    "    a = int(input(\"First number: \"))\n",
    "    b = int(input(\"Second number: \"))\n",
    "except ValueError:\n",
    "    print(\"You have entered invalid input!\\nOnly integers are allowed\")\n",
    "else:\n",
    "    cal = Calculator(a, b)\n",
    "    print(\"Select the Operation!\")\n",
    "    user = input(\"1. Add      2.Subtract\\n3.Multiply      4.Divide\\n\")\n",
    "    if user == \"1\":\n",
    "        print(f\"{a} + {b} = {cal.addition()}\")\n",
    "    elif user == \"2\":\n",
    "        print(f\"{a} - {b} = {cal.subtraction()}\")\n",
    "    elif user == \"3\":\n",
    "        print(f\"{a} * {b} = {cal.multiply()}\")\n",
    "    elif user == \"4\":\n",
    "        print(f\"{a} / {b} = {cal.divide()}\")\n",
    "    else:\n",
    "        print(\"Invalid input!\")\n"
   ]
  },
  {
   "cell_type": "code",
   "execution_count": 29,
   "id": "ce0384f9-05fe-44f6-b132-5a04ce86c653",
   "metadata": {},
   "outputs": [
    {
     "name": "stdout",
     "output_type": "stream",
     "text": [
      "Average marks of Ram  is 5.0\n"
     ]
    }
   ],
   "source": [
    "# 6. Create a class Student that stores name and grades, Add a method to calculate average marks.\n",
    "class Student:\n",
    "    def __init__(self, name, grades):\n",
    "        self.name = name\n",
    "        self.grades = grades\n",
    "\n",
    "    def average(self):\n",
    "        count = 0\n",
    "        sum1 = 0\n",
    "        for i in self.grades:\n",
    "            sum1 += i\n",
    "            count += 1\n",
    "        return f\"Average marks of {self.name} is {sum1 / count}\"\n",
    "\n",
    "\n",
    "student = Student(\"Ram \", [1, 2, 3, 4, 5, 6, 7, 8, 9])\n",
    "print(student.average())"
   ]
  },
  {
   "cell_type": "code",
   "execution_count": null,
   "id": "7ecbcefa-2f10-4892-8ccd-7f51ed6dd7e4",
   "metadata": {},
   "outputs": [],
   "source": [
    "# 7. Copy content from one file to another using Python.\n",
    "file_name = \"C:\\\\Users\\\\HP\\\\Downloads\\\\twinkle_twinkle.txt\"\n",
    "with open(file_name, \"r\") as file:\n",
    "    data = file.read()\n",
    "    # print(data)\n",
    "filename2 = \"C:\\\\Users\\\\HP\\\\Desktop\\\\blank.txt\"\n",
    "with open(filename2, \"w\") as file2:\n",
    "    copy = file2.write(data)\n"
   ]
  },
  {
   "cell_type": "code",
   "execution_count": 32,
   "id": "9f220671-5be5-4476-8bd4-125fe77dcd6a",
   "metadata": {},
   "outputs": [
    {
     "name": "stdout",
     "output_type": "stream",
     "text": [
      "{\n",
      "    \"apple\": \"red\",\n",
      "    \"banana\": \"yellow\",\n",
      "    \"grapes\": \"green\"\n",
      "}\n"
     ]
    }
   ],
   "source": [
    "import json\n",
    "# 8.Convert a Python dictionary into a JSON string and save it in a .json file.\n",
    "dict = {\n",
    "    \"apple\": \"red\",\n",
    "    \"banana\": \"yellow\",\n",
    "    \"grapes\": \"green\"\n",
    "}\n",
    "\n",
    "with open(\"C:\\\\Users\\\\HP\\\\Desktop\\\\blank2.json\", \"w\") as file:\n",
    "    json.dump(dict, file, indent = 4)\n",
    "\n",
    "with open(\"C:\\\\Users\\\\HP\\\\Desktop\\\\blank2.json\", \"r\") as file:\n",
    "    print(file.read())"
   ]
  },
  {
   "cell_type": "code",
   "execution_count": null,
   "id": "ba425c17-6b3c-46b6-9f9c-0523407a08d7",
   "metadata": {},
   "outputs": [],
   "source": [
    "# 9. Read a JSON file containing employee data and print each employee's name.\n",
    "file_name = \"C:\\\\Users\\\\HP\\\\Downloads\\\\employees.json\"\n",
    "with open(file_name, \"r\") as file:\n",
    "    data = json.load(file)\n",
    "    for emp in data:\n",
    "        print(emp[\"name\"])\n"
   ]
  },
  {
   "cell_type": "code",
   "execution_count": null,
   "id": "e2a8e349-d2e7-4368-bf08-3aabaea5ad2d",
   "metadata": {},
   "outputs": [],
   "source": [
    "# 10. Modify a key's value in a JSON file and save the updated content.\n",
    "file_name1 = \"C:\\\\Users\\\\HP\\\\Downloads\\\\employees.json\"\n",
    "with open(file_name1, \"r\") as file:\n",
    "    data = json.load(file)\n",
    "    for emp in data:\n",
    "        if emp[\"name\"] == \"John Doe\":\n",
    "            emp[\"name\"] = \"Ram Charan\"\n",
    "        print(emp[\"name\"])\n",
    "with open(file_name1, \"w\") as file:\n",
    "    json.dump(data, file)\n"
   ]
  },
  {
   "cell_type": "code",
   "execution_count": null,
   "id": "21a896f9-1a0f-4efd-b06f-f1d62507cbcf",
   "metadata": {},
   "outputs": [],
   "source": [
    "# 11. Create a function that accepts a list of number and return the second largest numgber.\n",
    "# def second_largest(n):\n",
    "#     sorted_list = sorted(n)\n",
    "#     print(sorted_list[-2])\n",
    "# def second_largest(n):\n",
    "#     for i in range(len(n)):\n",
    "#         for j in range(i+1, len(n)):\n",
    "#             temp = 0\n",
    "#             if n[i] < n[j]:\n",
    "#                 temp = n[i]\n",
    "#                 n[i] = n[j]\n",
    "#                 n[j] = temp\n",
    "#     print(n[1])\n",
    "# second_largest([1, 9, 2, 11, 18, 1])\n",
    "def second_largest(n):\n",
    "    for i in range(len(n)):\n",
    "        for j in range(i+1, len(n)):\n",
    "            if n[i] < n[j]:\n",
    "                n[i], n[j] = n[j], n[i]\n",
    "    print(n[1])\n",
    "second_largest([2,3,4,5,6,5,9])\n"
   ]
  },
  {
   "cell_type": "code",
   "execution_count": 30,
   "id": "dbf715de-ac00-4891-b9a8-8163b188bd66",
   "metadata": {},
   "outputs": [
    {
     "name": "stdout",
     "output_type": "stream",
     "text": [
      "Number of words : 7\n"
     ]
    }
   ],
   "source": [
    "# 12. Write a funciton that takes a sentence and retuns the number of words in it.\n",
    "def words(n):\n",
    "    count = 0\n",
    "    for i in n:\n",
    "        if i == \" \":\n",
    "            count += 1\n",
    "    print(f\"Number of words : {count+1}\")\n",
    "words(\"the lion jumps over the lazy dog\")\n"
   ]
  },
  {
   "cell_type": "code",
   "execution_count": null,
   "id": "76810782-f64c-42ed-9860-e6ed947ff1d2",
   "metadata": {},
   "outputs": [],
   "source": []
  },
  {
   "cell_type": "code",
   "execution_count": 13,
   "id": "1c9b074e-4363-4035-bc7f-0db27b4ea084",
   "metadata": {},
   "outputs": [
    {
     "name": "stdout",
     "output_type": "stream",
     "text": [
      "['t', 'h', 'e', ' ', 'l', 'i', 'o', 'n', 'j', 'u', 'm', 'p', 's', 'v', 'r', 'a', 'z', 'y', 'd', 'g']\n"
     ]
    }
   ],
   "source": [
    "# 13. Create a function that retuns a list of all unique characters from a string.\n",
    "def unique_characters(n):\n",
    "    unique = []\n",
    "    for i in n:\n",
    "        if i not in unique:\n",
    "            unique.append(i)\n",
    "    print(unique)\n",
    "\n",
    "unique_characters(\"the lion jumps over the lazy dog\")"
   ]
  },
  {
   "cell_type": "code",
   "execution_count": null,
   "id": "6144853c-7afc-4314-9f0c-27b7031cee92",
   "metadata": {},
   "outputs": [],
   "source": [
    "# 14. Define a class Shopping Card that allows adding/removing items and calculating total.\n",
    "class Shopping:\n",
    "    def __init__(self):\n",
    "        self.product_list = []\n",
    "\n",
    "    def add_items(self, product, price):\n",
    "        self.product_list.append((product, price))\n",
    "\n",
    "    def remove_items(self, product):\n",
    "        for item in self.product_list:\n",
    "            if item[0] == product:\n",
    "                self.product_list.remove(item)\n",
    "                return\n",
    "        print(f\"{product} not found in cart.\")\n",
    "\n",
    "    def show_cart(self):\n",
    "        print(f\"Your Cart:\\n\")\n",
    "        total = 0\n",
    "        for product, price in self.product_list:\n",
    "            print(f\"{product}: ₹{price}\")\n",
    "            total += price\n",
    "        print(f\"Total: ₹{total}\")\n",
    "\n",
    "cart = Shopping()\n",
    "cart.add_items(\"light\", 200)\n",
    "cart.add_items(\"fan\", 1500)\n",
    "cart.remove_items(\"light\")\n",
    "cart.show_cart()\n"
   ]
  },
  {
   "cell_type": "code",
   "execution_count": 15,
   "id": "a0cf26dc-ae25-489a-a0f6-2d4380ffbf56",
   "metadata": {},
   "outputs": [
    {
     "name": "stdout",
     "output_type": "stream",
     "text": [
      "Ram Charan\n",
      "Jane Smith\n",
      "Robert Brown\n",
      "Emily Johnson\n",
      "Michael Lee\n"
     ]
    }
   ],
   "source": [
    "import json\n",
    "\n",
    "person = {\n",
    "    \"name\": \"Alice\",\n",
    "    \"age\": 25,\n",
    "    \"address\": {\n",
    "        \"street\": \"123 Main St\",\n",
    "        \"city\": \"New York\",\n",
    "        \"zip\": \"10001\"\n",
    "    },\n",
    "    \"skills\": {\n",
    "        \"programming\": [\"Python\", \"JavaScript\", \"C++\"],\n",
    "        \"soft_skills\": [\"communication\", \"teamwork\"]\n",
    "    }\n",
    "}\n",
    "\n",
    "data = json.dumps(person, indent=4)\n",
    "\n",
    "print(data)"
   ]
  },
  {
   "cell_type": "code",
   "execution_count": 23,
   "id": "739801ee-657c-462c-a581-1b1183e116d4",
   "metadata": {},
   "outputs": [
    {
     "name": "stdin",
     "output_type": "stream",
     "text": [
      "First number:  4\n",
      "Second number:  a\n"
     ]
    },
    {
     "name": "stdout",
     "output_type": "stream",
     "text": [
      "You have entered invalid input!\n",
      "Only integers are allowed\n"
     ]
    }
   ],
   "source": []
  },
  {
   "cell_type": "code",
   "execution_count": 27,
   "id": "e59c3cb8-e51a-4326-9fc0-f5d82e35a0f4",
   "metadata": {},
   "outputs": [
    {
     "name": "stdout",
     "output_type": "stream",
     "text": [
      "6\n"
     ]
    }
   ],
   "source": []
  },
  {
   "cell_type": "code",
   "execution_count": null,
   "id": "bd83a0b7-ce7e-4e6e-8a1c-a31a7c5f1d7f",
   "metadata": {},
   "outputs": [],
   "source": []
  }
 ],
 "metadata": {
  "kernelspec": {
   "display_name": "Python [conda env:base] *",
   "language": "python",
   "name": "conda-base-py"
  },
  "language_info": {
   "codemirror_mode": {
    "name": "ipython",
    "version": 3
   },
   "file_extension": ".py",
   "mimetype": "text/x-python",
   "name": "python",
   "nbconvert_exporter": "python",
   "pygments_lexer": "ipython3",
   "version": "3.13.5"
  }
 },
 "nbformat": 4,
 "nbformat_minor": 5
}
