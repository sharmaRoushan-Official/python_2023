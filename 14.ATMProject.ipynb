{
 "cells": [
  {
   "cell_type": "code",
   "execution_count": 20,
   "id": "cbd25b35-8601-42c2-87e9-cd05bd45538b",
   "metadata": {},
   "outputs": [
    {
     "name": "stdin",
     "output_type": "stream",
     "text": [
      "Enter Your Name here:  aditya\n"
     ]
    },
    {
     "name": "stdout",
     "output_type": "stream",
     "text": [
      "UserName Created Successfully ✔️\n"
     ]
    },
    {
     "name": "stdin",
     "output_type": "stream",
     "text": [
      "Enter your Account Number:  12345\n"
     ]
    },
    {
     "name": "stdout",
     "output_type": "stream",
     "text": [
      "Account Number Created Successfully ✔️\n"
     ]
    },
    {
     "name": "stdin",
     "output_type": "stream",
     "text": [
      "Create Your Pin here:  1230\n"
     ]
    },
    {
     "name": "stdout",
     "output_type": "stream",
     "text": [
      "UserPIN Created Successfully ✔️\n",
      "\n",
      "        \n",
      "1.Account Details\n",
      "        \n",
      "2.Account Balance\n",
      "        \n",
      "3.Deposite Cash\n",
      "        \n",
      "4.Withdraw Cash\n",
      "        \n",
      "5.Change Name\n",
      "        \n",
      "6.ShowAccount Number\n",
      "        \n",
      "7.Change PIN\n",
      "        \n",
      "8.Exit\n",
      "        \n"
     ]
    },
    {
     "name": "stdin",
     "output_type": "stream",
     "text": [
      "Choose an Options:  7\n",
      "Enter your current pin:  1253\n"
     ]
    },
    {
     "name": "stdout",
     "output_type": "stream",
     "text": [
      "❌Your PIN is Incorrect.\n",
      "Enter a Correct PIN\n"
     ]
    },
    {
     "name": "stdin",
     "output_type": "stream",
     "text": [
      "Choose an Options:  7\n",
      "Enter your current pin:  1230\n",
      "Create new PIN: 1200\n",
      "Re-Enter your New PIN:  1203\n"
     ]
    },
    {
     "name": "stdout",
     "output_type": "stream",
     "text": [
      "❌Error: New pin and Old pin is not Matched.\n"
     ]
    },
    {
     "name": "stdin",
     "output_type": "stream",
     "text": [
      "Choose an Options:  7\n",
      "Enter your current pin:  1230\n",
      "Create new PIN: 1200\n",
      "Re-Enter your New PIN:  1200\n"
     ]
    },
    {
     "name": "stdout",
     "output_type": "stream",
     "text": [
      "✔️Your New PIN Updated Successfully!\n"
     ]
    },
    {
     "name": "stdin",
     "output_type": "stream",
     "text": [
      "Choose an Options:  7\n",
      "Enter your current pin:  1200\n",
      "Create new PIN: 1200\n",
      "Re-Enter your New PIN:  1200\n"
     ]
    },
    {
     "name": "stdout",
     "output_type": "stream",
     "text": [
      "❌Old Pin and New Pin can't be Same.\n"
     ]
    },
    {
     "name": "stdin",
     "output_type": "stream",
     "text": [
      "Choose an Options:  8\n"
     ]
    },
    {
     "name": "stdout",
     "output_type": "stream",
     "text": [
      "Thank You\n"
     ]
    }
   ],
   "source": [
    "class atm:\n",
    "    def __init__(self,balance=0):\n",
    "        while True:\n",
    "            self.accountHolderName = input(\"Enter Your Name here: \")  # Aditya Pimpale\n",
    "            if self.accountHolderName.replace(\" \",'').isalpha():\n",
    "                print(\"UserName Created Successfully ✔️\")\n",
    "                break\n",
    "            else:\n",
    "                print(\"❌Name Should be contains Alphabet Characters only. Try Again!!\")\n",
    "        while True:\n",
    "            self.accountNumber = input(\"Enter your Account Number: \") # only 5 digit\n",
    "            if self.accountNumber.isnumeric() and len(self.accountNumber) == 5:\n",
    "                print(\"Account Number Created Successfully ✔️\")\n",
    "                break\n",
    "            else:\n",
    "                print(\"❌ Enter a Valid Account Number: Try Again!\")\n",
    "        while True:\n",
    "            self.__pin = input(\"Create Your Pin here: \")\n",
    "            if self.__pin.isnumeric():\n",
    "                if len(self.__pin) == 4:\n",
    "                    print(\"UserPIN Created Successfully ✔️\")\n",
    "                    break\n",
    "                else:\n",
    "                    print(\"❌Enter Only 4-Digit PIN is Valid!\")\n",
    "            else:\n",
    "                print(\"❌ Enter only Numberic Value.Try Again!!\")\n",
    "            \n",
    "        self.__balance = balance\n",
    "\n",
    "    def details(self):\n",
    "        '''Details of the Account Holder'''\n",
    "        print(f\"Account Holder Name:{self.accountHolderName}\")\n",
    "        # print(f\"Account Number is:{self.accountNumber}\")  # 12345\n",
    "        first2Char = self.accountNumber[:2]    \n",
    "        \n",
    "        last2Char = self.accountNumber[3:]\n",
    "        fullAccountNumber = first2Char+\"XXXX\"+last2Char\n",
    "        print(f\"Your Account Number is:{fullAccountNumber}\")\n",
    "        print(f\"Current Balance is:{self.__balance}\")\n",
    "        \n",
    "    def displayBalance(self):\n",
    "        pin = input(\"Enter your Current PIN:\")\n",
    "        if self.__pin == pin:\n",
    "            print(f\"Your Current Balance is:{self.__balance}\")\n",
    "        else:\n",
    "            print(f\"❌Your PIN is Incorrect.\\nEnter a Correct PIN\")\n",
    "\n",
    "    def depositeCash(self):\n",
    "        pin = input(\"Enter your Current PIN: \")\n",
    "        if self.__pin == pin:\n",
    "            amount = int(input(\"Enter Your Amount ₹:\"))\n",
    "            if amount>0:\n",
    "                self.__balance += amount\n",
    "                print(f\"Your Amount Deposited ₹:{amount}.\\nYour Updated Balance is ₹:{self.__balance}\")\n",
    "            else:\n",
    "                print(f\"Enter a Valid Amount ₹:{amount}\")\n",
    "        else:\n",
    "            print(f\"❌Your PIN is Incorrect.\\nEnter a Correct PIN\")\n",
    "\n",
    "\n",
    "    def wittCash(self):\n",
    "        pin2 = input(\"Enter your current pin: \")\n",
    "        if self.__pin == pin2:\n",
    "            amount = int(input(\"Enter Amount to Withdraw ₹:\"))\n",
    "            if amount<self.__balance and amount>0:\n",
    "                self.__balance = self.__balance - amount\n",
    "                print(f\"Your Withdrawl amount is ₹:{amount}\\nYour Current Balance is ₹:{self.__balance}\")\n",
    "            else:\n",
    "                print(\"Insufficient Funds!Enter a Valid Amount\")\n",
    "        print(f\"❌Your PIN is Incorrect.\\nEnter a Correct PIN\")\n",
    "\n",
    "    def changeName(self):\n",
    "        pin3 = input(\"Enter your current pin: \")\n",
    "        if self.__pin == pin3:\n",
    "            oldName = input(\"Enter Your OldName: \")\n",
    "            if self.accountHolderName == oldName:\n",
    "                newName = input('Enter your New Name: ') # aditya pimple\n",
    "                if newName.replace(' ','').isalpha():\n",
    "                    value = input(\"Are you sure Want to change your Name [Choose:Y/N]:\").lower()\n",
    "                    listVal = ['y','yes']\n",
    "                    if value in listVal:\n",
    "                        self.accountHolderName = newName\n",
    "                        print(f\"User name is updated successfully!!:{self.accountHolderName}\")\n",
    "                    else:\n",
    "                        print(\"Object Killed! User Name can't Changed!!\")\n",
    "                else:\n",
    "                    print(\"❌Name Should be contains Alphabet Characters only. Try Again!!\")\n",
    "            else:\n",
    "                print(f\"❌Your Current User Name is Incorrent.Enter a Valid Current User Name.\")\n",
    "        else:\n",
    "            print(f\"❌Your PIN is Incorrect.\\nEnter a Correct PIN\")\n",
    "\n",
    "    def showAccontNumber(self):\n",
    "        pin = input(\"Enter Your Current Passowrd: \")\n",
    "        if self.__pin == pin:\n",
    "            print(f\"Your Current Account Number is:{self.accountNumber}\")\n",
    "        else:\n",
    "            print(f\"❌Your PIN is Incorrect.\\nEnter a Correct PIN\")\n",
    "\n",
    "\n",
    "    def changePIN(self):\n",
    "        pin = input(\"Enter your current pin: \")\n",
    "        if self.__pin == pin:\n",
    "            newPin = input(\"Create new PIN:\")\n",
    "            reConfirm = input(\"Re-Enter your New PIN: \")\n",
    "            if newPin == reConfirm:\n",
    "                if self.__pin != newPin:\n",
    "                    self.__pin = newPin\n",
    "                    print(\"✔️Your New PIN Updated Successfully!\")\n",
    "                else:\n",
    "                    print(\"❌Old Pin and New Pin can't be Same.\")\n",
    "            else:\n",
    "                print(\"❌Error: New pin and Old pin is not Matched.\")\n",
    "        else:\n",
    "            print(f\"❌Your PIN is Incorrect.\\nEnter a Correct PIN\")\n",
    "                \n",
    "    # method\n",
    "    def trans(self):\n",
    "        print(\"\"\"\n",
    "        \\n1.Account Details\n",
    "        \\n2.Account Balance\n",
    "        \\n3.Deposite Cash\n",
    "        \\n4.Withdraw Cash\n",
    "        \\n5.Change Name\n",
    "        \\n6.ShowAccount Number\n",
    "        \\n7.Change PIN\n",
    "        \\n8.Exit\n",
    "        \"\"\")\n",
    "        while True:\n",
    "            try:\n",
    "                opt = int(input(\"Choose an Options: \"))\n",
    "            except:\n",
    "                print(\"Error: Choose Correct Options\")\n",
    "            else:\n",
    "                if opt == 1:\n",
    "                    atm.details(self)\n",
    "                elif opt == 2:\n",
    "                    atm.displayBalance(self)\n",
    "                elif opt == 3:\n",
    "                    atm.depositeCash(self)\n",
    "                elif opt == 4:\n",
    "                    atm.wittCash(self)\n",
    "                elif opt == 5:\n",
    "                    atm.changeName(self)\n",
    "                elif opt == 6:\n",
    "                    atm.showAccontNumber(self)\n",
    "                elif opt == 7:\n",
    "                    atm.changePIN(self)\n",
    "                elif opt == 8:\n",
    "                    print(\"Thank You\")\n",
    "                    break\n",
    "a1 = atm()\n",
    "a1.trans()"
   ]
  },
  {
   "cell_type": "code",
   "execution_count": 21,
   "id": "868c3988-d159-479c-bb06-128386b6dc96",
   "metadata": {},
   "outputs": [
    {
     "name": "stdout",
     "output_type": "stream",
     "text": [
      "Welcome to xyz bank!\n"
     ]
    },
    {
     "name": "stdin",
     "output_type": "stream",
     "text": [
      "Enter your pin:  1234\n"
     ]
    },
    {
     "name": "stdout",
     "output_type": "stream",
     "text": [
      "❌Wrong pin! Attempts left 2\n"
     ]
    },
    {
     "name": "stdin",
     "output_type": "stream",
     "text": [
      "1) Forget Password 2) Try Again 1235\n"
     ]
    },
    {
     "name": "stdout",
     "output_type": "stream",
     "text": [
      "❌Invalid Response!\n"
     ]
    },
    {
     "name": "stdin",
     "output_type": "stream",
     "text": [
      "Enter your pin:  1\n"
     ]
    },
    {
     "name": "stdout",
     "output_type": "stream",
     "text": [
      "❌Wrong pin! Attempts left 1\n"
     ]
    },
    {
     "name": "stdin",
     "output_type": "stream",
     "text": [
      "1) Forget Password 2) Try Again 1\n",
      "Enter your username as per bank passbook:  sk\n",
      "Enter the account number to set new pin:  9876543210\n",
      "Enter your new pin:  1230\n"
     ]
    },
    {
     "name": "stdout",
     "output_type": "stream",
     "text": [
      "✅New pin is updated Successfully!\n"
     ]
    },
    {
     "name": "stdin",
     "output_type": "stream",
     "text": [
      "Enter your pin:  1230\n",
      "Choose the option 1) Deposit 2) Withdrawal 3) Check balance 4) Set pin 5) close 1\n",
      "Enter the Deposit amount: ₹ 1000\n"
     ]
    },
    {
     "name": "stdout",
     "output_type": "stream",
     "text": [
      "Your Amount is Deposited:₹1000\n",
      "Updated Balance is:₹1999\n"
     ]
    },
    {
     "name": "stdin",
     "output_type": "stream",
     "text": [
      "Choose the option 1) Deposit 2) Withdrawal 3) Check balance 4) Set pin 5) close 3\n"
     ]
    },
    {
     "name": "stdout",
     "output_type": "stream",
     "text": [
      "Account No: 9876543210\n",
      "\n",
      "Balance Amount: ₹1999\n"
     ]
    },
    {
     "name": "stdin",
     "output_type": "stream",
     "text": [
      "Choose the option 1) Deposit 2) Withdrawal 3) Check balance 4) Set pin 5) close 2\n",
      "Enter your Withdrawal Amount ₹: 500\n"
     ]
    },
    {
     "name": "stdout",
     "output_type": "stream",
     "text": [
      "Withdrawal Amount is ₹:500\n",
      "Your Updated balance is ₹:1499\n"
     ]
    },
    {
     "name": "stdin",
     "output_type": "stream",
     "text": [
      "Choose the option 1) Deposit 2) Withdrawal 3) Check balance 4) Set pin 5) close 5\n"
     ]
    },
    {
     "name": "stdout",
     "output_type": "stream",
     "text": [
      "Thank you for visiting xyz bank\n"
     ]
    }
   ],
   "source": [
    "class Atm:\n",
    "    def __init__(self, username, account_number, balance_amount, pin):\n",
    "        self.username = username\n",
    "        self.__account_number = account_number\n",
    "        self.__balance_amount = balance_amount\n",
    "        self.pin = pin\n",
    "\n",
    "    def get_balance(self):\n",
    "        return self.__balance_amount\n",
    "    def get_account_number(self):\n",
    "        return self.__account_number\n",
    "    def set_pin(self):\n",
    "        pin = int(input(\"Enter your new pin: \"))\n",
    "        self.pin = pin\n",
    "        print(\"✅New pin is updated Successfully!\")\n",
    "        return self.pin\n",
    "\n",
    "    def deposit(self):\n",
    "        amount = int(input(\"Enter the Deposit amount: ₹\"))\n",
    "        if amount > 0:\n",
    "            self.__balance_amount += amount\n",
    "            print(f\"Your Amount is Deposited:₹{amount}\\nUpdated Balance is:₹{self.__balance_amount}\")\n",
    "        else:\n",
    "            print(f\"❌{amount} is Invalid deposit amount\")\n",
    "\n",
    "    def withdrawal(self):\n",
    "        amount = int(input(\"Enter your Withdrawal Amount ₹:\"))\n",
    "        if 0 < amount <= self.__balance_amount:\n",
    "            self.__balance_amount -= amount\n",
    "            print(f\"Withdrawal Amount is ₹:{amount}\\nYour Updated balance is ₹:{self.__balance_amount}\")\n",
    "        else:\n",
    "            print(\"❌Insufficient Funds or Invalid Amount\")\n",
    "\n",
    "    def atm_features(self):\n",
    "        while True:\n",
    "            user_input = input(\"Choose the option 1) Deposit 2) Withdrawal 3) Check balance 4) Set pin 5) close\")\n",
    "            if user_input == \"1\":\n",
    "                self.deposit()\n",
    "            elif user_input == \"2\":\n",
    "                self.withdrawal()\n",
    "            elif user_input == \"4\":\n",
    "                self.set_pin()\n",
    "            elif user_input == \"3\":\n",
    "                print(f\"Account No: {self.get_account_number()}\\n\")\n",
    "                print(f\"Balance Amount: ₹{self.get_balance()}\")\n",
    "            elif user_input == \"5\":\n",
    "                print(\"Thank you for visiting xyz bank\")\n",
    "                return False\n",
    "\n",
    "person1 = Atm(\"sk\", 9876543210, 999, 0000)\n",
    "print(\"Welcome to xyz bank!\")\n",
    "attempt = 3\n",
    "while attempt > 0:\n",
    "    user_pin = int(input(\"Enter your pin: \"))\n",
    "    if user_pin == person1.pin:\n",
    "        person1.atm_features()\n",
    "        break\n",
    "    else:\n",
    "        attempt -= 1\n",
    "        print(f\"❌Wrong pin! Attempts left {attempt}\")\n",
    "        forget = int(input(\"1) Forget Password 2) Try Again\"))\n",
    "        if forget == 1:\n",
    "            user_name = input(\"Enter your username as per bank passbook: \")\n",
    "            check_detail = int(input(\"Enter the account number to set new pin: \"))\n",
    "            if check_detail == person1.get_account_number() and user_name == person1.username:\n",
    "                person1.set_pin()\n",
    "            else:\n",
    "                print(\"wrong details\\nTry again later\")\n",
    "                break\n",
    "        elif forget == 2:\n",
    "            pass\n",
    "        else:\n",
    "            print(\"❌Invalid Response!\")\n",
    "\n",
    "    if attempt == 0:\n",
    "        print(\"❌❌❌You have entered incorrect pin!\\nYour account is locked!\")\n",
    "        break"
   ]
  },
  {
   "cell_type": "code",
   "execution_count": null,
   "id": "2d61d541-1eff-4d5b-b3ca-817c2f7d116a",
   "metadata": {},
   "outputs": [],
   "source": []
  }
 ],
 "metadata": {
  "kernelspec": {
   "display_name": "Python 3 (ipykernel)",
   "language": "python",
   "name": "python3"
  },
  "language_info": {
   "codemirror_mode": {
    "name": "ipython",
    "version": 3
   },
   "file_extension": ".py",
   "mimetype": "text/x-python",
   "name": "python",
   "nbconvert_exporter": "python",
   "pygments_lexer": "ipython3",
   "version": "3.13.7"
  }
 },
 "nbformat": 4,
 "nbformat_minor": 5
}
