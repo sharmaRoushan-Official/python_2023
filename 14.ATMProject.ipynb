{
 "cells": [
  {
   "cell_type": "code",
   "execution_count": 20,
   "id": "cbd25b35-8601-42c2-87e9-cd05bd45538b",
   "metadata": {},
   "outputs": [
    {
     "name": "stdin",
     "output_type": "stream",
     "text": [
      "Enter Your Name here:  aditya\n"
     ]
    },
    {
     "name": "stdout",
     "output_type": "stream",
     "text": [
      "UserName Created Successfully ✔️\n"
     ]
    },
    {
     "name": "stdin",
     "output_type": "stream",
     "text": [
      "Enter your Account Number:  12345\n"
     ]
    },
    {
     "name": "stdout",
     "output_type": "stream",
     "text": [
      "Account Number Created Successfully ✔️\n"
     ]
    },
    {
     "name": "stdin",
     "output_type": "stream",
     "text": [
      "Create Your Pin here:  1230\n"
     ]
    },
    {
     "name": "stdout",
     "output_type": "stream",
     "text": [
      "UserPIN Created Successfully ✔️\n",
      "\n",
      "        \n",
      "1.Account Details\n",
      "        \n",
      "2.Account Balance\n",
      "        \n",
      "3.Deposite Cash\n",
      "        \n",
      "4.Withdraw Cash\n",
      "        \n",
      "5.Change Name\n",
      "        \n",
      "6.ShowAccount Number\n",
      "        \n",
      "7.Change PIN\n",
      "        \n",
      "8.Exit\n",
      "        \n"
     ]
    },
    {
     "name": "stdin",
     "output_type": "stream",
     "text": [
      "Choose an Options:  7\n",
      "Enter your current pin:  1253\n"
     ]
    },
    {
     "name": "stdout",
     "output_type": "stream",
     "text": [
      "❌Your PIN is Incorrect.\n",
      "Enter a Correct PIN\n"
     ]
    },
    {
     "name": "stdin",
     "output_type": "stream",
     "text": [
      "Choose an Options:  7\n",
      "Enter your current pin:  1230\n",
      "Create new PIN: 1200\n",
      "Re-Enter your New PIN:  1203\n"
     ]
    },
    {
     "name": "stdout",
     "output_type": "stream",
     "text": [
      "❌Error: New pin and Old pin is not Matched.\n"
     ]
    },
    {
     "name": "stdin",
     "output_type": "stream",
     "text": [
      "Choose an Options:  7\n",
      "Enter your current pin:  1230\n",
      "Create new PIN: 1200\n",
      "Re-Enter your New PIN:  1200\n"
     ]
    },
    {
     "name": "stdout",
     "output_type": "stream",
     "text": [
      "✔️Your New PIN Updated Successfully!\n"
     ]
    },
    {
     "name": "stdin",
     "output_type": "stream",
     "text": [
      "Choose an Options:  7\n",
      "Enter your current pin:  1200\n",
      "Create new PIN: 1200\n",
      "Re-Enter your New PIN:  1200\n"
     ]
    },
    {
     "name": "stdout",
     "output_type": "stream",
     "text": [
      "❌Old Pin and New Pin can't be Same.\n"
     ]
    },
    {
     "name": "stdin",
     "output_type": "stream",
     "text": [
      "Choose an Options:  8\n"
     ]
    },
    {
     "name": "stdout",
     "output_type": "stream",
     "text": [
      "Thank You\n"
     ]
    }
   ],
   "source": [
    "class atm:\n",
    "    def __init__(self,balance=0):\n",
    "        while True:\n",
    "            self.accountHolderName = input(\"Enter Your Name here: \")  # Aditya Pimpale\n",
    "            if self.accountHolderName.replace(\" \",'').isalpha():\n",
    "                print(\"UserName Created Successfully ✔️\")\n",
    "                break\n",
    "            else:\n",
    "                print(\"❌Name Should be contains Alphabet Characters only. Try Again!!\")\n",
    "        while True:\n",
    "            self.accountNumber = input(\"Enter your Account Number: \") # only 5 digit\n",
    "            if self.accountNumber.isnumeric() and len(self.accountNumber) == 5:\n",
    "                print(\"Account Number Created Successfully ✔️\")\n",
    "                break\n",
    "            else:\n",
    "                print(\"❌ Enter a Valid Account Number: Try Again!\")\n",
    "        while True:\n",
    "            self.__pin = input(\"Create Your Pin here: \")\n",
    "            if self.__pin.isnumeric():\n",
    "                if len(self.__pin) == 4:\n",
    "                    print(\"UserPIN Created Successfully ✔️\")\n",
    "                    break\n",
    "                else:\n",
    "                    print(\"❌Enter Only 4-Digit PIN is Valid!\")\n",
    "            else:\n",
    "                print(\"❌ Enter only Numberic Value.Try Again!!\")\n",
    "            \n",
    "        self.__balance = balance\n",
    "\n",
    "    def details(self):\n",
    "        '''Details of the Account Holder'''\n",
    "        print(f\"Account Holder Name:{self.accountHolderName}\")\n",
    "        # print(f\"Account Number is:{self.accountNumber}\")  # 12345\n",
    "        first2Char = self.accountNumber[:2]    \n",
    "        \n",
    "        last2Char = self.accountNumber[3:]\n",
    "        fullAccountNumber = first2Char+\"XXXX\"+last2Char\n",
    "        print(f\"Your Account Number is:{fullAccountNumber}\")\n",
    "        print(f\"Current Balance is:{self.__balance}\")\n",
    "        \n",
    "    def displayBalance(self):\n",
    "        pin = input(\"Enter your Current PIN:\")\n",
    "        if self.__pin == pin:\n",
    "            print(f\"Your Current Balance is:{self.__balance}\")\n",
    "        else:\n",
    "            print(f\"❌Your PIN is Incorrect.\\nEnter a Correct PIN\")\n",
    "\n",
    "    def depositeCash(self):\n",
    "        pin = input(\"Enter your Current PIN: \")\n",
    "        if self.__pin == pin:\n",
    "            amount = int(input(\"Enter Your Amount ₹:\"))\n",
    "            if amount>0:\n",
    "                self.__balance += amount\n",
    "                print(f\"Your Amount Deposited ₹:{amount}.\\nYour Updated Balance is ₹:{self.__balance}\")\n",
    "            else:\n",
    "                print(f\"Enter a Valid Amount ₹:{amount}\")\n",
    "        else:\n",
    "            print(f\"❌Your PIN is Incorrect.\\nEnter a Correct PIN\")\n",
    "\n",
    "\n",
    "    def wittCash(self):\n",
    "        pin2 = input(\"Enter your current pin: \")\n",
    "        if self.__pin == pin2:\n",
    "            amount = int(input(\"Enter Amount to Withdraw ₹:\"))\n",
    "            if amount<self.__balance and amount>0:\n",
    "                self.__balance = self.__balance - amount\n",
    "                print(f\"Your Withdrawl amount is ₹:{amount}\\nYour Current Balance is ₹:{self.__balance}\")\n",
    "            else:\n",
    "                print(\"Insufficient Funds!Enter a Valid Amount\")\n",
    "        print(f\"❌Your PIN is Incorrect.\\nEnter a Correct PIN\")\n",
    "\n",
    "    def changeName(self):\n",
    "        pin3 = input(\"Enter your current pin: \")\n",
    "        if self.__pin == pin3:\n",
    "            oldName = input(\"Enter Your OldName: \")\n",
    "            if self.accountHolderName == oldName:\n",
    "                newName = input('Enter your New Name: ') # aditya pimple\n",
    "                if newName.replace(' ','').isalpha():\n",
    "                    value = input(\"Are you sure Want to change your Name [Choose:Y/N]:\").lower()\n",
    "                    listVal = ['y','yes']\n",
    "                    if value in listVal:\n",
    "                        self.accountHolderName = newName\n",
    "                        print(f\"User name is updated successfully!!:{self.accountHolderName}\")\n",
    "                    else:\n",
    "                        print(\"Object Killed! User Name can't Changed!!\")\n",
    "                else:\n",
    "                    print(\"❌Name Should be contains Alphabet Characters only. Try Again!!\")\n",
    "            else:\n",
    "                print(f\"❌Your Current User Name is Incorrent.Enter a Valid Current User Name.\")\n",
    "        else:\n",
    "            print(f\"❌Your PIN is Incorrect.\\nEnter a Correct PIN\")\n",
    "\n",
    "    def showAccontNumber(self):\n",
    "        pin = input(\"Enter Your Current Passowrd: \")\n",
    "        if self.__pin == pin:\n",
    "            print(f\"Your Current Account Number is:{self.accountNumber}\")\n",
    "        else:\n",
    "            print(f\"❌Your PIN is Incorrect.\\nEnter a Correct PIN\")\n",
    "\n",
    "\n",
    "    def changePIN(self):\n",
    "        pin = input(\"Enter your current pin: \")\n",
    "        if self.__pin == pin:\n",
    "            newPin = input(\"Create new PIN:\")\n",
    "            reConfirm = input(\"Re-Enter your New PIN: \")\n",
    "            if newPin == reConfirm:\n",
    "                if self.__pin != newPin:\n",
    "                    self.__pin = newPin\n",
    "                    print(\"✔️Your New PIN Updated Successfully!\")\n",
    "                else:\n",
    "                    print(\"❌Old Pin and New Pin can't be Same.\")\n",
    "            else:\n",
    "                print(\"❌Error: New pin and Old pin is not Matched.\")\n",
    "        else:\n",
    "            print(f\"❌Your PIN is Incorrect.\\nEnter a Correct PIN\")\n",
    "                \n",
    "    # method\n",
    "    def trans(self):\n",
    "        print(\"\"\"\n",
    "        \\n1.Account Details\n",
    "        \\n2.Account Balance\n",
    "        \\n3.Deposite Cash\n",
    "        \\n4.Withdraw Cash\n",
    "        \\n5.Change Name\n",
    "        \\n6.ShowAccount Number\n",
    "        \\n7.Change PIN\n",
    "        \\n8.Exit\n",
    "        \"\"\")\n",
    "        while True:\n",
    "            try:\n",
    "                opt = int(input(\"Choose an Options: \"))\n",
    "            except:\n",
    "                print(\"Error: Choose Correct Options\")\n",
    "            else:\n",
    "                if opt == 1:\n",
    "                    atm.details(self)\n",
    "                elif opt == 2:\n",
    "                    atm.displayBalance(self)\n",
    "                elif opt == 3:\n",
    "                    atm.depositeCash(self)\n",
    "                elif opt == 4:\n",
    "                    atm.wittCash(self)\n",
    "                elif opt == 5:\n",
    "                    atm.changeName(self)\n",
    "                elif opt == 6:\n",
    "                    atm.showAccontNumber(self)\n",
    "                elif opt == 7:\n",
    "                    atm.changePIN(self)\n",
    "                elif opt == 8:\n",
    "                    print(\"Thank You\")\n",
    "                    break\n",
    "a1 = atm()\n",
    "a1.trans()"
   ]
  },
  {
   "cell_type": "code",
   "execution_count": 21,
   "id": "868c3988-d159-479c-bb06-128386b6dc96",
   "metadata": {},
   "outputs": [
    {
     "name": "stdout",
     "output_type": "stream",
     "text": [
      "Welcome to xyz bank!\n"
     ]
    },
    {
     "name": "stdin",
     "output_type": "stream",
     "text": [
      "Enter your pin:  1234\n"
     ]
    },
    {
     "name": "stdout",
     "output_type": "stream",
     "text": [
      "❌Wrong pin! Attempts left 2\n"
     ]
    },
    {
     "name": "stdin",
     "output_type": "stream",
     "text": [
      "1) Forget Password 2) Try Again 1235\n"
     ]
    },
    {
     "name": "stdout",
     "output_type": "stream",
     "text": [
      "❌Invalid Response!\n"
     ]
    },
    {
     "name": "stdin",
     "output_type": "stream",
     "text": [
      "Enter your pin:  1\n"
     ]
    },
    {
     "name": "stdout",
     "output_type": "stream",
     "text": [
      "❌Wrong pin! Attempts left 1\n"
     ]
    },
    {
     "name": "stdin",
     "output_type": "stream",
     "text": [
      "1) Forget Password 2) Try Again 1\n",
      "Enter your username as per bank passbook:  sk\n",
      "Enter the account number to set new pin:  9876543210\n",
      "Enter your new pin:  1230\n"
     ]
    },
    {
     "name": "stdout",
     "output_type": "stream",
     "text": [
      "✅New pin is updated Successfully!\n"
     ]
    },
    {
     "name": "stdin",
     "output_type": "stream",
     "text": [
      "Enter your pin:  1230\n",
      "Choose the option 1) Deposit 2) Withdrawal 3) Check balance 4) Set pin 5) close 1\n",
      "Enter the Deposit amount: ₹ 1000\n"
     ]
    },
    {
     "name": "stdout",
     "output_type": "stream",
     "text": [
      "Your Amount is Deposited:₹1000\n",
      "Updated Balance is:₹1999\n"
     ]
    },
    {
     "name": "stdin",
     "output_type": "stream",
     "text": [
      "Choose the option 1) Deposit 2) Withdrawal 3) Check balance 4) Set pin 5) close 3\n"
     ]
    },
    {
     "name": "stdout",
     "output_type": "stream",
     "text": [
      "Account No: 9876543210\n",
      "\n",
      "Balance Amount: ₹1999\n"
     ]
    },
    {
     "name": "stdin",
     "output_type": "stream",
     "text": [
      "Choose the option 1) Deposit 2) Withdrawal 3) Check balance 4) Set pin 5) close 2\n",
      "Enter your Withdrawal Amount ₹: 500\n"
     ]
    },
    {
     "name": "stdout",
     "output_type": "stream",
     "text": [
      "Withdrawal Amount is ₹:500\n",
      "Your Updated balance is ₹:1499\n"
     ]
    },
    {
     "name": "stdin",
     "output_type": "stream",
     "text": [
      "Choose the option 1) Deposit 2) Withdrawal 3) Check balance 4) Set pin 5) close 5\n"
     ]
    },
    {
     "name": "stdout",
     "output_type": "stream",
     "text": [
      "Thank you for visiting xyz bank\n"
     ]
    }
   ],
   "source": [
    "class Atm:\n",
    "    def __init__(self, username, account_number, balance_amount, pin):\n",
    "        self.username = username\n",
    "        self.__account_number = account_number\n",
    "        self.__balance_amount = balance_amount\n",
    "        self.pin = pin\n",
    "\n",
    "    def get_balance(self):\n",
    "        return self.__balance_amount\n",
    "    def get_account_number(self):\n",
    "        return self.__account_number\n",
    "    def set_pin(self):\n",
    "        pin = int(input(\"Enter your new pin: \"))\n",
    "        self.pin = pin\n",
    "        print(\"✅New pin is updated Successfully!\")\n",
    "        return self.pin\n",
    "\n",
    "    def deposit(self):\n",
    "        amount = int(input(\"Enter the Deposit amount: ₹\"))\n",
    "        if amount > 0:\n",
    "            self.__balance_amount += amount\n",
    "            print(f\"Your Amount is Deposited:₹{amount}\\nUpdated Balance is:₹{self.__balance_amount}\")\n",
    "        else:\n",
    "            print(f\"❌{amount} is Invalid deposit amount\")\n",
    "\n",
    "    def withdrawal(self):\n",
    "        amount = int(input(\"Enter your Withdrawal Amount ₹:\"))\n",
    "        if 0 < amount <= self.__balance_amount:\n",
    "            self.__balance_amount -= amount\n",
    "            print(f\"Withdrawal Amount is ₹:{amount}\\nYour Updated balance is ₹:{self.__balance_amount}\")\n",
    "        else:\n",
    "            print(\"❌Insufficient Funds or Invalid Amount\")\n",
    "\n",
    "    def atm_features(self):\n",
    "        while True:\n",
    "            user_input = input(\"Choose the option 1) Deposit 2) Withdrawal 3) Check balance 4) Set pin 5) close\")\n",
    "            if user_input == \"1\":\n",
    "                self.deposit()\n",
    "            elif user_input == \"2\":\n",
    "                self.withdrawal()\n",
    "            elif user_input == \"4\":\n",
    "                self.set_pin()\n",
    "            elif user_input == \"3\":\n",
    "                print(f\"Account No: {self.get_account_number()}\\n\")\n",
    "                print(f\"Balance Amount: ₹{self.get_balance()}\")\n",
    "            elif user_input == \"5\":\n",
    "                print(\"Thank you for visiting xyz bank\")\n",
    "                return False\n",
    "\n",
    "person1 = Atm(\"sk\", 9876543210, 999, 0000)\n",
    "print(\"Welcome to xyz bank!\")\n",
    "attempt = 3\n",
    "while attempt > 0:\n",
    "    user_pin = int(input(\"Enter your pin: \"))\n",
    "    if user_pin == person1.pin:\n",
    "        person1.atm_features()\n",
    "        break\n",
    "    else:\n",
    "        attempt -= 1\n",
    "        print(f\"❌Wrong pin! Attempts left {attempt}\")\n",
    "        forget = int(input(\"1) Forget Password 2) Try Again\"))\n",
    "        if forget == 1:\n",
    "            user_name = input(\"Enter your username as per bank passbook: \")\n",
    "            check_detail = int(input(\"Enter the account number to set new pin: \"))\n",
    "            if check_detail == person1.get_account_number() and user_name == person1.username:\n",
    "                person1.set_pin()\n",
    "            else:\n",
    "                print(\"wrong details\\nTry again later\")\n",
    "                break\n",
    "        elif forget == 2:\n",
    "            pass\n",
    "        else:\n",
    "            print(\"❌Invalid Response!\")\n",
    "\n",
    "    if attempt == 0:\n",
    "        print(\"❌❌❌You have entered incorrect pin!\\nYour account is locked!\")\n",
    "        break"
   ]
  },
  {
   "cell_type": "code",
   "execution_count": 4,
   "id": "2d61d541-1eff-4d5b-b3ca-817c2f7d116a",
   "metadata": {},
   "outputs": [
    {
     "name": "stdin",
     "output_type": "stream",
     "text": [
      "Enter Your Name here:  Aditya\n"
     ]
    },
    {
     "name": "stdout",
     "output_type": "stream",
     "text": [
      "UserName Created Successfully ✔️\n"
     ]
    },
    {
     "name": "stdin",
     "output_type": "stream",
     "text": [
      "Enter your phone Number:  1234567890\n"
     ]
    },
    {
     "name": "stdout",
     "output_type": "stream",
     "text": [
      "Phone number Linked Successfully ✔️\n"
     ]
    },
    {
     "name": "stdin",
     "output_type": "stream",
     "text": [
      "Enter your Account Number:  12345\n"
     ]
    },
    {
     "name": "stdout",
     "output_type": "stream",
     "text": [
      "Account Number Created Successfully ✔️\n"
     ]
    },
    {
     "name": "stdin",
     "output_type": "stream",
     "text": [
      "Create Your PIN here:  1000\n"
     ]
    },
    {
     "name": "stdout",
     "output_type": "stream",
     "text": [
      "User PIN Created Successfully ✔️\n",
      "\n",
      "        \n",
      "1. Account Details\n",
      "        \n",
      "2. Account Balance\n",
      "        \n",
      "3. Deposit Cash\n",
      "        \n",
      "4. Withdraw Cash\n",
      "        \n",
      "5. Change Name\n",
      "        \n",
      "6. Show Account Number\n",
      "        \n",
      "7. Change PIN\n",
      "        \n",
      "8. Exit\n",
      "        \n"
     ]
    },
    {
     "name": "stdin",
     "output_type": "stream",
     "text": [
      "Choose an Option:  5\n",
      "Enter your Current PIN:  1000\n",
      "Enter Your Old Name:  Aditya\n",
      "Enter your New Name:  Aditya Pimple\n",
      "Are you sure you want to change your Name [Y/N]:  y\n"
     ]
    },
    {
     "name": "stdout",
     "output_type": "stream",
     "text": [
      "User name updated successfully: Aditya Pimple\n"
     ]
    },
    {
     "name": "stdin",
     "output_type": "stream",
     "text": [
      "Choose an Option:  1\n",
      "Enter your Current PIN:  1000\n"
     ]
    },
    {
     "name": "stdout",
     "output_type": "stream",
     "text": [
      "Account Holder Name: Aditya Pimple\n",
      "Your Account Number is: 12345\n",
      "Current Balance is: ₹0\n",
      "Your Phone Number is: 1234567890\n"
     ]
    },
    {
     "name": "stdin",
     "output_type": "stream",
     "text": [
      "Choose an Option:  8\n"
     ]
    },
    {
     "name": "stdout",
     "output_type": "stream",
     "text": [
      "\n",
      "Thank You\n"
     ]
    }
   ],
   "source": [
    "class atm:\n",
    "    def __init__(self, balance=0):\n",
    "        while True:\n",
    "            self.accountHolderName = input(\"Enter Your Name here: \")  # Aditya Pimpale\n",
    "            if self.accountHolderName.replace(\" \", '').isalpha():\n",
    "                print(\"UserName Created Successfully ✔️\")\n",
    "                break\n",
    "            else:\n",
    "                print(\"❌ Name should contain only alphabet characters. Try Again!!\")\n",
    "                \n",
    "        while True:\n",
    "            self.phoneNumber = input(\"Enter your phone Number: \")\n",
    "            if self.phoneNumber.isnumeric():\n",
    "                if len(self.phoneNumber) == 10:\n",
    "                    print(\"Phone number Linked Successfully ✔️\")\n",
    "                    break\n",
    "                else:\n",
    "                    print(\"❌ Phone number length is not equal to 10\")\n",
    "            else:\n",
    "                print(\"❌ Alphabets or characters are invalid for a phone number Try Again\")\n",
    "            \n",
    "        while True:\n",
    "            self.accountNumber = input(\"Enter your Account Number: \")  # only 5 digit\n",
    "            if self.accountNumber.isnumeric() and len(self.accountNumber) == 5:\n",
    "                print(\"Account Number Created Successfully ✔️\")\n",
    "                break\n",
    "            else:\n",
    "                print(\"❌ Enter a Valid Account Number: Try Again!\")\n",
    "\n",
    "        while True:\n",
    "            self.__pin = input(\"Create Your PIN here: \")\n",
    "            if self.__pin.isnumeric():\n",
    "                if len(self.__pin) == 4:\n",
    "                    print(\"User PIN Created Successfully ✔️\")\n",
    "                    break\n",
    "                else:\n",
    "                    print(\"❌ Enter Only 4-Digit PIN is Valid!\")\n",
    "            else:\n",
    "                print(\"❌ Enter only Numeric Value. Try Again!!\")\n",
    "\n",
    "        self.__balance = balance\n",
    "        self.__isLocked = False      \n",
    "        self.__maxAttempts = 3       \n",
    "\n",
    "    def verify_pin(self):\n",
    "\n",
    "        if self.__isLocked:\n",
    "            print(\"❌ Account Locked! Too many wrong attempts.\")\n",
    "            return False\n",
    "\n",
    "        attempts = 0\n",
    "        while attempts < self.__maxAttempts:\n",
    "            pin = input(\"Enter your Current PIN: \")\n",
    "            if pin == self.__pin:\n",
    "                return True\n",
    "            else:\n",
    "                attempts += 1\n",
    "                print(f\"❌ Wrong PIN! Attempts left: {self.__maxAttempts - attempts}\")\n",
    "\n",
    "        self.__isLocked = True\n",
    "        print(\" Account Locked due to multiple wrong PIN attempts!\")\n",
    "        return False\n",
    "\n",
    "\n",
    "    def details(self):\n",
    "        if self.verify_pin():\n",
    "            '''Details of the Account Holder'''\n",
    "            print(f\"Account Holder Name: {self.accountHolderName}\")\n",
    "            # first2Char = self.accountNumber[:2]\n",
    "            # last2Char = self.accountNumber[3:]\n",
    "            # fullAccountNumber = first2Char + \"XXXX\" + last2Char\n",
    "            print(f\"Your Account Number is: {self.accountNumber}\")\n",
    "            print(f\"Current Balance is: ₹{self.__balance}\")\n",
    "            print(f\"Your Phone Number is: {self.phoneNumber}\")\n",
    "\n",
    "    def displayBalance(self):\n",
    "        if self.verify_pin():\n",
    "            print(f\"Your Current Balance is: ₹{self.__balance}\")\n",
    "\n",
    "    def depositeCash(self):\n",
    "        if self.verify_pin():\n",
    "            amount = int(input(\"Enter Your Amount ₹: \"))\n",
    "            if amount > 0:\n",
    "                self.__balance += amount\n",
    "                print(f\"Deposited ₹{amount}.\\nUpdated Balance ₹{self.__balance}\")\n",
    "            else:\n",
    "                print(\"❌ Enter a Valid Amount\")\n",
    "\n",
    "    def wittCash(self):\n",
    "        if self.verify_pin():\n",
    "            try:\n",
    "                amount = int(input(\"Enter Amount to Withdraw ₹: \"))\n",
    "                if amount > 0:\n",
    "                    if amount <= self.__balance:\n",
    "                        self.__balance -= amount\n",
    "                        print(f\"Withdrawal ₹{amount}\\nCurrent Balance ₹{self.__balance}\")\n",
    "                    else:\n",
    "                        print(\"❌ Insufficient Funds\")\n",
    "                else:\n",
    "                    print(\"❌ Invalid Amount !!!\")\n",
    "            except ValueError:\n",
    "                print(\"❌ Invalid input. Please enter numbers only.\")\n",
    "\n",
    "             \n",
    "    def changeName(self):\n",
    "        if self.verify_pin():\n",
    "            oldName = input(\"Enter Your Old Name: \")\n",
    "            if self.accountHolderName == oldName:\n",
    "                newName = input('Enter your New Name: ')\n",
    "                if newName != oldName:\n",
    "                    if newName.replace(' ', '').isalpha():\n",
    "                        value = input(\"Are you sure you want to change your Name [Y/N]: \").lower()\n",
    "                        if value in ['y', 'yes']:\n",
    "                            self.accountHolderName = newName\n",
    "                            print(f\"User name updated successfully: {self.accountHolderName}\")\n",
    "                        else:\n",
    "                            print(\"❌ Cancelled. User Name not changed.\")\n",
    "                    else:\n",
    "                        print(\"❌ Name should contain only alphabet characters.\")\n",
    "                else:\n",
    "                    print(\"❌ Old name and New name can't be the same\")\n",
    "            else:\n",
    "                print(\"❌ Incorrect Current User Name\")\n",
    "                \n",
    "    def showAccontNumber(self):\n",
    "        if self.verify_pin():\n",
    "            print(f\"Your Current Account Number is: {self.accountNumber}\")\n",
    "\n",
    "    def changePIN(self):\n",
    "            phonenumber = input(\"enter last 4 digits of your linked phone number: \")\n",
    "            if phonenumber == self.phoneNumber[6:10]:\n",
    "                newPin = input(\"Create new PIN: \")\n",
    "                reConfirm = input(\"Re-Enter your New PIN: \")\n",
    "                \n",
    "                if newPin == reConfirm:\n",
    "                    \n",
    "                    if self.__pin != newPin:\n",
    "                        self.__pin = newPin\n",
    "                        print(\"✔️ Your New PIN Updated Successfully!\")\n",
    "                    else:\n",
    "                        print(\"❌ Old PIN and New PIN can't be the Same.\")\n",
    "                else:\n",
    "                    print(\"❌ Error: New PIN and Re-Entered PIN do not match.\")\n",
    "            else:\n",
    "                print(\"enter valid digits of your phone number!!! \")\n",
    "\n",
    "    def trans(self):\n",
    "        print(\"\"\"\n",
    "        \\n1. Account Details\n",
    "        \\n2. Account Balance\n",
    "        \\n3. Deposit Cash\n",
    "        \\n4. Withdraw Cash\n",
    "        \\n5. Change Name\n",
    "        \\n6. Show Account Number\n",
    "        \\n7. Change PIN\n",
    "        \\n8. Exit\n",
    "        \"\"\")\n",
    "        while True:\n",
    "            try:\n",
    "                opt = int(input(\"Choose an Option: \"))\n",
    "            except:\n",
    "                print(\"Error: Choose Correct Option\")\n",
    "            else:\n",
    "                if opt == 1:\n",
    "                    self.details()\n",
    "                elif opt == 2:\n",
    "                    self.displayBalance()\n",
    "                elif opt == 3:\n",
    "                    self.depositeCash()\n",
    "                elif opt == 4:\n",
    "                    self.wittCash()\n",
    "                elif opt == 5:\n",
    "                    self.changeName()\n",
    "                elif opt == 6:\n",
    "                    self.showAccontNumber()\n",
    "                elif opt == 7:\n",
    "                    self.changePIN()\n",
    "                elif opt == 8:\n",
    "                    print(\"\\nThank You\")\n",
    "                    break\n",
    "\n",
    "a1 = atm()\n",
    "a1.trans()"
   ]
  },
  {
   "cell_type": "markdown",
   "id": "c5aa8601-1b4b-44a1-acdb-0dd2e6fa15d2",
   "metadata": {},
   "source": [
    "\n",
    "# 📘 OOPs Mini Projects in Python\n",
    "\n",
    "---\n",
    "\n",
    "## 1️⃣ Library Management System  \n",
    "**Classes:**\n",
    "- `Book` → represents a book  \n",
    "- `Member` → represents a library member  \n",
    "- `Library` → manages books & members  \n",
    "\n",
    "**OOP Concepts:**\n",
    "- **Encapsulation** → private attributes  \n",
    "- **Inheritance** → `Student` & `Teacher` inherit from `Member`  \n",
    "- **Polymorphism** → `get_role()` behaves differently  \n",
    "- **Abstraction** → abstract base class `Person`  \n",
    "\n",
    "---\n",
    "\n",
    "## 2️⃣ Student Management System  \n",
    "**Classes:**\n",
    "- `Person`, `Student`, `Teacher`, `Course`  \n",
    "\n",
    "**OOP Concepts:**\n",
    "- **Composition** → students enrolled in a course  \n",
    "- **Inheritance**  \n",
    "- **Abstraction**  \n",
    "\n",
    "---\n",
    "\n",
    "## 3️⃣ Online Shopping Cart  \n",
    "**Classes:**\n",
    "- `Product`, `Cart`, `Customer`, `Order`  \n",
    "\n",
    "**OOP Concepts:**\n",
    "- **Composition** → `Cart` has `Product`  \n",
    "- **Encapsulation** → private order ID  \n",
    "- **Polymorphism** → different customer types (`Guest`, `Registered`)  \n",
    "\n",
    "---\n",
    "\n",
    "## 4️⃣ Employee Payroll System  \n",
    "**Classes:**\n",
    "- `Employee`, `FullTimeEmployee`, `PartTimeEmployee`, `Payroll`  \n",
    "\n",
    "**OOP Concepts:**\n",
    "- **Inheritance** → different employee types  \n",
    "- **Polymorphism** → different salary calculations  \n",
    "- **Encapsulation** → private salary  \n",
    "\n",
    "---\n",
    "\n",
    "## 5️⃣ Vehicle Rental System  \n",
    "**Classes:**\n",
    "- `Vehicle`, `Car`, `Bike`, `Customer`, `Rental`  \n",
    "\n",
    "**OOP Concepts:**\n",
    "- **Inheritance**  \n",
    "- **Method Overriding** → different rent calculation  \n",
    "- **Abstraction** → abstract base class `Vehicle`  \n",
    "\n",
    "---\n",
    "\n",
    "## 6️⃣ School Grading System  \n",
    "**Classes:**\n",
    "- `Person`, `Student`, `Teacher`, `Grade`  \n",
    "\n",
    "**OOP Concepts:**\n",
    "- **Inheritance**  \n",
    "- **Composition** → private marks  \n",
    "- **Polymorphism** → different grading rules  \n",
    "\n",
    "---\n",
    "\n",
    "## 7️⃣ Hospital Management System  \n",
    "**Classes:**\n",
    "- `Person`, `Doctor`, `Patient`, `Appointment`, `Prescription`  \n",
    "\n",
    "**OOP Concepts:**\n",
    "- **Inheritance**  \n",
    "- **Abstraction** → base class `Person`  \n",
    "- **Polymorphism** → `get_role()`  \n",
    "- **Encapsulation** → private medical history  \n",
    "\n",
    "---\n",
    "\n",
    "## 8️⃣ Hotel Booking System  \n",
    "**Classes:**\n",
    "- `Room`, `Guest`, `Booking`, `Hotel`  \n",
    "\n",
    "**OOP Concepts:**\n",
    "- **Encapsulation** → room availability  \n",
    "- **Composition** → hotel has many rooms  \n",
    "- **Inheritance** → `SingleRoom`, `DoubleRoom`  \n",
    "\n",
    "---\n",
    "✨ Each project demonstrates **core OOP principles** with real-world scenarios!\n"
   ]
  },
  {
   "cell_type": "code",
   "execution_count": 24,
   "id": "eb759517-17e4-4d7c-9ed3-1b19bbff234d",
   "metadata": {},
   "outputs": [
    {
     "name": "stdout",
     "output_type": "stream",
     "text": [
      "Aditya borrowed Python Baiscs\n",
      "Bob borrowed Python Baiscs\n",
      "\n",
      "Books in City Library\n",
      "_Python Baiscs by Guido Van Rossum (Available)\n",
      "_OOP Concepts by Guido Van Rossum (Available)\n"
     ]
    }
   ],
   "source": [
    "# 1️⃣ Library Management System\n",
    "# Classes:\n",
    "\n",
    "# Book → represents a book\n",
    "# Member → represents a library member\n",
    "# Library → manages books & members\n",
    "\n",
    "\n",
    "from abc import ABC, abstractmethod\n",
    "class Person(ABC):\n",
    "    def __init__(self,name):\n",
    "        self.name = name\n",
    "        \n",
    "    @abstractmethod\n",
    "    def get_role(self):\n",
    "        pass\n",
    "\n",
    "\n",
    "class Member(Person):\n",
    "    def __init__(self,name,member_id):\n",
    "        super().__init__(name)\n",
    "        self.__member_id = member_id\n",
    "        \n",
    "        self.borrowed_books = []\n",
    "\n",
    "    def borrow_book(self,book):\n",
    "        if book.is_available:\n",
    "            \n",
    "            self.borrowed_books.append(book)\n",
    "            self.is_available = False\n",
    "            print(f\"{self.name} borrowed {book.title}\")\n",
    "        else:\n",
    "            print(f\"{book.title} is not available\")\n",
    "\n",
    "            \n",
    "    def get_role(self):\n",
    "        return \"Library Member\"\n",
    "        \n",
    "class Student(Member):\n",
    "    def get_role(self):\n",
    "        return \"Student\"\n",
    "\n",
    "class Teacher(Member):\n",
    "    def get_role(self):\n",
    "        return \"Teacher\"\n",
    "\n",
    "\n",
    "\n",
    "class Book:\n",
    "    def __init__(self,title,author):\n",
    "        self.title = title\n",
    "        self.author = author\n",
    "        self.is_available = True\n",
    "\n",
    "class Library:\n",
    "    def __init__(self,name):\n",
    "        self.name = name\n",
    "        self.books = []\n",
    "\n",
    "    def add_book(self, book):\n",
    "        self.books.append(book)\n",
    "\n",
    "\n",
    "\n",
    "    def show_books(self):\n",
    "        print(f\"\\nBooks in {self.name}\")\n",
    "\n",
    "        for book in self.books:\n",
    "            status = \"Available\" if book.is_available else \"Not Available\"\n",
    "            print(f\"_{book.title} by {book.author} ({status})\")\n",
    "\n",
    "\n",
    "if __name__ == \"__main__\" :\n",
    "    library = Library(\"City Library\")\n",
    "\n",
    "    # Adding Books:\n",
    "    b1 = Book(\"Python Baiscs\",\"Guido Van Rossum\")\n",
    "    b2 = Book('OOP Concepts',\"Guido Van Rossum\")\n",
    "    library.add_book(b1)\n",
    "    library.add_book(b2)\n",
    "\n",
    "    # create Member\n",
    "    student = Student(\"Aditya\",101)\n",
    "    teacher = Teacher(\"Bob\",201)\n",
    "\n",
    "    # Borrow Book\n",
    "    student.borrow_book(b1)\n",
    "    teacher.borrow_book(b1)\n",
    "\n",
    "    \n",
    "    library.show_books()"
   ]
  },
  {
   "cell_type": "code",
   "execution_count": 26,
   "id": "ec005856-a9c2-40be-8bd8-2036ca347d9b",
   "metadata": {},
   "outputs": [
    {
     "name": "stdout",
     "output_type": "stream",
     "text": [
      "Aditya\n",
      "20\n"
     ]
    }
   ],
   "source": [
    "class person:\n",
    "    def __init__(self,name,age):\n",
    "        self.name = name\n",
    "        self.age =age\n",
    "\n",
    "p1=person(\"Aditya\",20)\n",
    "print(p1.name)\n",
    "print(p1.age)"
   ]
  },
  {
   "cell_type": "code",
   "execution_count": 28,
   "id": "b56bf16c-4219-4aef-81c0-6424ce0e181d",
   "metadata": {},
   "outputs": [
    {
     "name": "stdout",
     "output_type": "stream",
     "text": [
      "Ashok Nagar\n"
     ]
    }
   ],
   "source": [
    "class person2(person):\n",
    "    def __init__(self,name,age,address):\n",
    "        super().__init__(name,age)\n",
    "        self.address= address\n",
    "\n",
    "\n",
    "p2 = person2(\"Shankarshan\",25,'Ashok Nagar')\n",
    "print(p2.address)"
   ]
  },
  {
   "cell_type": "code",
   "execution_count": 29,
   "id": "6c412d7d-c009-4783-b00f-46fcd6881a60",
   "metadata": {},
   "outputs": [
    {
     "data": {
      "text/plain": [
       "'Shankarshan'"
      ]
     },
     "execution_count": 29,
     "metadata": {},
     "output_type": "execute_result"
    }
   ],
   "source": [
    "p2.name"
   ]
  },
  {
   "cell_type": "code",
   "execution_count": 30,
   "id": "8d04a223-21c6-4c0f-9fa5-d7ea0bcefbd5",
   "metadata": {},
   "outputs": [
    {
     "data": {
      "text/plain": [
       "25"
      ]
     },
     "execution_count": 30,
     "metadata": {},
     "output_type": "execute_result"
    }
   ],
   "source": [
    "p2.age"
   ]
  },
  {
   "cell_type": "code",
   "execution_count": 33,
   "id": "a2e328f9-5c77-4190-8c14-351068de3bc5",
   "metadata": {},
   "outputs": [
    {
     "name": "stdout",
     "output_type": "stream",
     "text": [
      "565484\n",
      "Asma\n",
      "25\n",
      "Mayur Vihar\n"
     ]
    }
   ],
   "source": [
    "class person3(person2):\n",
    "    def __init__(self,name,age,address,mobileno):\n",
    "        super().__init__(name,age,address)\n",
    "        self.mobileno = mobileno\n",
    "\n",
    "p3 = person3(\"Asma\",25,\"Mayur Vihar\",\"565484\")\n",
    "print(p3.mobileno)\n",
    "print(p3.name)\n",
    "print(p3.age)\n",
    "print(p3.address)"
   ]
  },
  {
   "cell_type": "code",
   "execution_count": 37,
   "id": "8cee0691-a0dc-416d-823b-087c49dacf36",
   "metadata": {},
   "outputs": [
    {
     "name": "stdout",
     "output_type": "stream",
     "text": [
      "Amit\n",
      "30\n",
      "Noida\n",
      "1654564\n"
     ]
    }
   ],
   "source": [
    "class person4(person3):\n",
    "    def __init__(self,name,age,address,mobileno):\n",
    "        super().__init__(name,age,address,mobileno)\n",
    "\n",
    "p4 = person4('Amit',30,'Noida','1654564')\n",
    "print(p4.name)\n",
    "print(p4.age)\n",
    "print(p4.address)\n",
    "print(p4.mobileno)"
   ]
  },
  {
   "cell_type": "code",
   "execution_count": 38,
   "id": "9879daf9-379a-431f-9948-2d7cd1c3cfe3",
   "metadata": {},
   "outputs": [
    {
     "data": {
      "text/plain": [
       "<__main__.person4 at 0x1d8f12f6510>"
      ]
     },
     "execution_count": 38,
     "metadata": {},
     "output_type": "execute_result"
    }
   ],
   "source": [
    "p4"
   ]
  },
  {
   "cell_type": "code",
   "execution_count": null,
   "id": "3797dd05-87b6-4634-91de-c7675256765b",
   "metadata": {},
   "outputs": [],
   "source": []
  }
 ],
 "metadata": {
  "kernelspec": {
   "display_name": "Python 3 (ipykernel)",
   "language": "python",
   "name": "python3"
  },
  "language_info": {
   "codemirror_mode": {
    "name": "ipython",
    "version": 3
   },
   "file_extension": ".py",
   "mimetype": "text/x-python",
   "name": "python",
   "nbconvert_exporter": "python",
   "pygments_lexer": "ipython3",
   "version": "3.13.7"
  }
 },
 "nbformat": 4,
 "nbformat_minor": 5
}
