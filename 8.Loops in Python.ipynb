{
 "cells": [
  {
   "cell_type": "markdown",
   "id": "79dac966-2100-4446-b3eb-d5d5770486c1",
   "metadata": {},
   "source": [
    "# 8. Loops in Python \n",
    "\n",
    " * __A for loop is used for iterating over a sequence(that is either a list, a tuple, a dictionary, or a string).__\n",
    " * __This is less like the for keyword in other programming languages, and works more like an iterator method as found in the other object-oriented programming languages.__\n",
    " * __With the for loop we can execute a set of statements, once for each item in a list, tuple, set, etc.__\n",
    " * __The for loop does not require an indexing variable to be set beforehand.__\n",
    " * __With the while loop, we can execute a set of statements as long as the condition is true.__\n",
    " * __Note: remember to increment i, or else the loop will continue forever.__\n",
    " * __The while loop requires relevant variables to be ready, in this example we need to define an indexing variable, i, which we set to 1.__\n",
    "\n",
    "# range() function\n",
    " * __It is helpful to think of the range object as an ordered list.__\n",
    " * __To loop through a set of code a specified number of times, we can use the range() function.__\n",
    " * __The range() function returns a sequence of numbers, starting from 0 by default, and increments by 1(by default), and ends at a specified number.__"
   ]
  },
  {
   "cell_type": "code",
   "execution_count": 4,
   "id": "eaaf2254-71f3-4015-990c-8da362c7e796",
   "metadata": {},
   "outputs": [
    {
     "name": "stdout",
     "output_type": "stream",
     "text": [
      "Hello world\n",
      "Hello world\n",
      "Hello world\n",
      "Hello world\n",
      "Hello world\n"
     ]
    }
   ],
   "source": [
    "# 5 print(\"Hello world\")\n",
    "\n",
    "print(\"Hello world\")\n",
    "print(\"Hello world\")\n",
    "print(\"Hello world\")\n",
    "print(\"Hello world\")\n",
    "print(\"Hello world\")"
   ]
  },
  {
   "cell_type": "code",
   "execution_count": 6,
   "id": "7b1c7470-15dd-4ccc-bd74-64d9271c893f",
   "metadata": {},
   "outputs": [],
   "source": [
    "# 100\n",
    "# 1000\n",
    "# 10,000\n",
    "\n",
    "# loop- "
   ]
  },
  {
   "cell_type": "code",
   "execution_count": 8,
   "id": "d3f467b2-3342-4ed1-9e16-58f3b56cd024",
   "metadata": {},
   "outputs": [
    {
     "data": {
      "text/plain": [
       "range(0, 10)"
      ]
     },
     "execution_count": 8,
     "metadata": {},
     "output_type": "execute_result"
    }
   ],
   "source": [
    "range(10)"
   ]
  },
  {
   "cell_type": "code",
   "execution_count": 10,
   "id": "d841345d-96fc-4943-888e-1d2f5ecf8f6f",
   "metadata": {},
   "outputs": [
    {
     "data": {
      "text/plain": [
       "range(0, 20)"
      ]
     },
     "execution_count": 10,
     "metadata": {},
     "output_type": "execute_result"
    }
   ],
   "source": [
    "range(20)"
   ]
  },
  {
   "cell_type": "code",
   "execution_count": 12,
   "id": "ec5aa905-a247-45a4-ae6b-32478f10de19",
   "metadata": {},
   "outputs": [
    {
     "data": {
      "text/plain": [
       "range(0, -20)"
      ]
     },
     "execution_count": 12,
     "metadata": {},
     "output_type": "execute_result"
    }
   ],
   "source": [
    "range(-20)"
   ]
  },
  {
   "cell_type": "code",
   "execution_count": 18,
   "id": "cf3fc706-8297-4a7b-8476-771c408b35ac",
   "metadata": {},
   "outputs": [
    {
     "data": {
      "text/plain": [
       "range(0, 6)"
      ]
     },
     "execution_count": 18,
     "metadata": {},
     "output_type": "execute_result"
    }
   ],
   "source": [
    "range(len(\"Aditya\"))"
   ]
  },
  {
   "cell_type": "code",
   "execution_count": 20,
   "id": "866e690d-526d-46f1-a55f-1e442d7c7e4e",
   "metadata": {},
   "outputs": [
    {
     "name": "stdout",
     "output_type": "stream",
     "text": [
      "0\n",
      "1\n",
      "2\n",
      "3\n",
      "4\n",
      "5\n",
      "6\n",
      "7\n",
      "8\n",
      "9\n"
     ]
    }
   ],
   "source": [
    "for i in range(10):\n",
    "    print(i)"
   ]
  },
  {
   "cell_type": "code",
   "execution_count": 23,
   "id": "247fe8be-d7c2-42fc-8827-0c4b6e57d703",
   "metadata": {},
   "outputs": [
    {
     "name": "stdout",
     "output_type": "stream",
     "text": [
      "0\n",
      "1\n",
      "2\n",
      "3\n",
      "4\n"
     ]
    }
   ],
   "source": [
    "for i in range(5):\n",
    "    print(i)"
   ]
  },
  {
   "cell_type": "code",
   "execution_count": 25,
   "id": "c494ddde-ae05-4932-816d-fa0ec4501bc0",
   "metadata": {},
   "outputs": [
    {
     "name": "stdout",
     "output_type": "stream",
     "text": [
      "0\n",
      "1\n",
      "2\n",
      "3\n",
      "4\n",
      "5\n",
      "6\n",
      "7\n",
      "8\n"
     ]
    }
   ],
   "source": [
    "for i in range(9):\n",
    "    print(i)"
   ]
  },
  {
   "cell_type": "code",
   "execution_count": 33,
   "id": "19edb74f-3200-4a0a-9ed7-faa400ad5964",
   "metadata": {},
   "outputs": [
    {
     "name": "stdout",
     "output_type": "stream",
     "text": [
      "-5\n",
      "-4\n",
      "-3\n",
      "-2\n",
      "-1\n"
     ]
    }
   ],
   "source": [
    "for i in range(-5,0):\n",
    "    print(i)"
   ]
  },
  {
   "cell_type": "code",
   "execution_count": 35,
   "id": "6891b49d-233f-4480-b793-e13e7acfb43c",
   "metadata": {},
   "outputs": [
    {
     "data": {
      "text/plain": [
       "range(0, -5)"
      ]
     },
     "execution_count": 35,
     "metadata": {},
     "output_type": "execute_result"
    }
   ],
   "source": [
    "range(-5)"
   ]
  },
  {
   "cell_type": "code",
   "execution_count": 37,
   "id": "276f0856-c9b3-4400-b466-24808f372898",
   "metadata": {},
   "outputs": [
    {
     "data": {
      "text/plain": [
       "range(-5, 0)"
      ]
     },
     "execution_count": 37,
     "metadata": {},
     "output_type": "execute_result"
    }
   ],
   "source": [
    "range(-5,0)"
   ]
  },
  {
   "cell_type": "code",
   "execution_count": 41,
   "id": "690bdae4-f23e-4df6-8978-0583214d8a49",
   "metadata": {},
   "outputs": [
    {
     "name": "stdout",
     "output_type": "stream",
     "text": [
      "-20\n",
      "-19\n",
      "-18\n",
      "-17\n",
      "-16\n",
      "-15\n",
      "-14\n",
      "-13\n",
      "-12\n",
      "-11\n",
      "-10\n"
     ]
    }
   ],
   "source": [
    "# -20,-10\n",
    "for i in range(-20,-9):\n",
    "    print(i)"
   ]
  },
  {
   "cell_type": "code",
   "execution_count": 43,
   "id": "f30bd61e-27ed-4734-9ae0-37ae81fa327c",
   "metadata": {},
   "outputs": [
    {
     "name": "stdout",
     "output_type": "stream",
     "text": [
      "0\n",
      "1\n",
      "2\n",
      "3\n",
      "4\n",
      "5\n",
      "6\n",
      "7\n",
      "8\n",
      "9\n"
     ]
    }
   ],
   "source": [
    "for i in range(10):\n",
    "    print(i)"
   ]
  },
  {
   "cell_type": "code",
   "execution_count": 51,
   "id": "74da0ef2-5e82-4a02-afe1-6d971752e0a2",
   "metadata": {},
   "outputs": [
    {
     "name": "stdout",
     "output_type": "stream",
     "text": [
      "-20 Hello world\n",
      "-19 Hello world\n",
      "-18 Hello world\n",
      "-17 Hello world\n",
      "-16 Hello world\n",
      "-15 Hello world\n",
      "-14 Hello world\n",
      "-13 Hello world\n",
      "-12 Hello world\n",
      "-11 Hello world\n",
      "-10 Hello world\n",
      "-9 Hello world\n",
      "-8 Hello world\n",
      "-7 Hello world\n",
      "-6 Hello world\n",
      "-5 Hello world\n",
      "-4 Hello world\n",
      "-3 Hello world\n",
      "-2 Hello world\n",
      "-1 Hello world\n"
     ]
    }
   ],
   "source": [
    "for x in range(-20,0):\n",
    "    print(x,\"Hello world\")"
   ]
  },
  {
   "cell_type": "code",
   "execution_count": 55,
   "id": "2377f87d-6d06-4ab5-a8c5-b0b66e41336d",
   "metadata": {},
   "outputs": [
    {
     "name": "stdout",
     "output_type": "stream",
     "text": [
      "1 Hello world\n",
      "2 Hello world\n",
      "3 Hello world\n",
      "4 Hello world\n",
      "5 Hello world\n",
      "6 Hello world\n",
      "7 Hello world\n",
      "8 Hello world\n",
      "9 Hello world\n",
      "10 Hello world\n",
      "11 Hello world\n",
      "12 Hello world\n",
      "13 Hello world\n",
      "14 Hello world\n",
      "15 Hello world\n",
      "16 Hello world\n",
      "17 Hello world\n",
      "18 Hello world\n",
      "19 Hello world\n",
      "20 Hello world\n",
      "21 Hello world\n",
      "22 Hello world\n",
      "23 Hello world\n",
      "24 Hello world\n",
      "25 Hello world\n",
      "26 Hello world\n",
      "27 Hello world\n",
      "28 Hello world\n",
      "29 Hello world\n",
      "30 Hello world\n",
      "31 Hello world\n",
      "32 Hello world\n",
      "33 Hello world\n",
      "34 Hello world\n",
      "35 Hello world\n",
      "36 Hello world\n",
      "37 Hello world\n",
      "38 Hello world\n",
      "39 Hello world\n",
      "40 Hello world\n",
      "41 Hello world\n",
      "42 Hello world\n",
      "43 Hello world\n",
      "44 Hello world\n",
      "45 Hello world\n",
      "46 Hello world\n",
      "47 Hello world\n",
      "48 Hello world\n",
      "49 Hello world\n",
      "50 Hello world\n",
      "51 Hello world\n",
      "52 Hello world\n",
      "53 Hello world\n",
      "54 Hello world\n",
      "55 Hello world\n",
      "56 Hello world\n",
      "57 Hello world\n",
      "58 Hello world\n",
      "59 Hello world\n",
      "60 Hello world\n",
      "61 Hello world\n",
      "62 Hello world\n",
      "63 Hello world\n",
      "64 Hello world\n",
      "65 Hello world\n",
      "66 Hello world\n",
      "67 Hello world\n",
      "68 Hello world\n",
      "69 Hello world\n",
      "70 Hello world\n",
      "71 Hello world\n",
      "72 Hello world\n",
      "73 Hello world\n",
      "74 Hello world\n",
      "75 Hello world\n",
      "76 Hello world\n",
      "77 Hello world\n",
      "78 Hello world\n",
      "79 Hello world\n",
      "80 Hello world\n",
      "81 Hello world\n",
      "82 Hello world\n",
      "83 Hello world\n",
      "84 Hello world\n",
      "85 Hello world\n",
      "86 Hello world\n",
      "87 Hello world\n",
      "88 Hello world\n",
      "89 Hello world\n",
      "90 Hello world\n",
      "91 Hello world\n",
      "92 Hello world\n",
      "93 Hello world\n",
      "94 Hello world\n",
      "95 Hello world\n",
      "96 Hello world\n",
      "97 Hello world\n",
      "98 Hello world\n",
      "99 Hello world\n",
      "100 Hello world\n"
     ]
    }
   ],
   "source": [
    "for i in range(1,101):\n",
    "    print(i,'Hello world')"
   ]
  },
  {
   "cell_type": "code",
   "execution_count": 79,
   "id": "a9c8bcfd-8031-4fbf-8dd6-3312825a8da0",
   "metadata": {},
   "outputs": [
    {
     "name": "stdout",
     "output_type": "stream",
     "text": [
      "0 A\n",
      "1 d\n",
      "2 i\n",
      "3 t\n",
      "4 y\n",
      "5 a\n"
     ]
    }
   ],
   "source": [
    "name = \"Aditya\"\n",
    "\n",
    "for j in range(len(name)):\n",
    "    print(j,name[j])"
   ]
  },
  {
   "cell_type": "code",
   "execution_count": 73,
   "id": "054976a0-fdcf-4465-adea-f04b9590f256",
   "metadata": {},
   "outputs": [
    {
     "data": {
      "text/plain": [
       "'A'"
      ]
     },
     "execution_count": 73,
     "metadata": {},
     "output_type": "execute_result"
    }
   ],
   "source": [
    "name[0]"
   ]
  },
  {
   "cell_type": "code",
   "execution_count": 77,
   "id": "ad5468ad-19cf-4c3f-8028-7fd8b49047a8",
   "metadata": {},
   "outputs": [
    {
     "data": {
      "text/plain": [
       "'i'"
      ]
     },
     "execution_count": 77,
     "metadata": {},
     "output_type": "execute_result"
    }
   ],
   "source": [
    "name[2]"
   ]
  },
  {
   "cell_type": "code",
   "execution_count": 81,
   "id": "ea5051ec-9f47-49ac-877d-f4a40f593ec4",
   "metadata": {},
   "outputs": [
    {
     "name": "stdout",
     "output_type": "stream",
     "text": [
      "2005\n",
      "2006\n",
      "2007\n",
      "2008\n",
      "2009\n",
      "2010\n"
     ]
    }
   ],
   "source": [
    "years = [2005,2006,2007,2008,2009,2010]\n",
    "\n",
    "for i in years:\n",
    "    print(i)"
   ]
  },
  {
   "cell_type": "code",
   "execution_count": 95,
   "id": "26a78c08-a216-4ed8-865a-b2320bc2654a",
   "metadata": {},
   "outputs": [
    {
     "name": "stdout",
     "output_type": "stream",
     "text": [
      "2005,2006,2007,2008,2009,2010,"
     ]
    }
   ],
   "source": [
    "for i in range(len(years)):\n",
    "    print(years[i],end=\",\")"
   ]
  },
  {
   "cell_type": "code",
   "execution_count": 97,
   "id": "9b48f1a3-55e5-4173-ad38-521b9777882c",
   "metadata": {},
   "outputs": [
    {
     "name": "stdout",
     "output_type": "stream",
     "text": [
      "2\n",
      "3\n",
      "4\n",
      "5\n",
      "6\n",
      "7\n",
      "8\n",
      "9\n",
      "10\n",
      "11\n",
      "12\n",
      "13\n",
      "14\n",
      "15\n",
      "16\n",
      "17\n",
      "18\n",
      "19\n",
      "20\n",
      "21\n"
     ]
    }
   ],
   "source": [
    "for i in range(2,22):\n",
    "    print(i)"
   ]
  },
  {
   "cell_type": "code",
   "execution_count": 99,
   "id": "b81fe81a-14fd-475f-a390-6d4c441d591d",
   "metadata": {},
   "outputs": [
    {
     "name": "stdout",
     "output_type": "stream",
     "text": [
      "2\n",
      "4\n",
      "6\n",
      "8\n",
      "10\n",
      "12\n",
      "14\n",
      "16\n",
      "18\n",
      "20\n"
     ]
    }
   ],
   "source": [
    "# striding value [starts:ends: skip]\n",
    "for i in range(2,22,2):\n",
    "    print(i)"
   ]
  },
  {
   "cell_type": "code",
   "execution_count": 101,
   "id": "0f28c4d3-8c17-4a51-a9c2-be715c57e2ad",
   "metadata": {},
   "outputs": [
    {
     "name": "stdout",
     "output_type": "stream",
     "text": [
      "C\n",
      "Java\n",
      "Python\n",
      "Ruby\n",
      "R\n",
      "C#\n",
      "c++\n",
      "fortran\n",
      "BASIC\n",
      "PHP\n",
      "Laravel\n",
      "Django\n",
      "SQL\n"
     ]
    }
   ],
   "source": [
    "# list\n",
    "languages = ['C',\"Java\",\"Python\",\"Ruby\",\"R\",\"C#\",\"C++\",\"fortran\",\"BASIC\",\"PHP\",\"Laravel\",\"Django\",\"SQL\"]\n",
    "\n",
    "# display only starts from C character\n",
    "for i in languages:\n",
    "    print(i)"
   ]
  },
  {
   "cell_type": "code",
   "execution_count": 129,
   "id": "893cc243-44cc-4298-bdd1-c2e79b137810",
   "metadata": {},
   "outputs": [
    {
     "name": "stdout",
     "output_type": "stream",
     "text": [
      "C\n",
      "C#\n",
      "C++\n"
     ]
    }
   ],
   "source": [
    "# list\n",
    "languages = ['C',\"Java\",\"Python\",\"Ruby\",\"R\",\"C#\",\"C++\",\"fortran\",\"BASIC\",\"PHP\",\"Laravel\",\"Django\",\"SQL\"]\n",
    "\n",
    "# display only starts from C character\n",
    "for i in languages:\n",
    "    if i[0]  == \"C\":\n",
    "        print(i)\n",
    "    "
   ]
  },
  {
   "cell_type": "code",
   "execution_count": 159,
   "id": "6edfb593-9c24-4455-91a8-0f02a54219a8",
   "metadata": {},
   "outputs": [],
   "source": [
    "# list\n",
    "languages = ['C',\"Java\",\"Python\",\"Ruby\",\"R\",\"C#\",\"C++\",\"fortran\",\"BASIC\",\"PHP\",\"Laravel\",\"Django\",\"SQL\"]\n",
    "\n",
    "\n",
    "for i in range(len(languages)): # 0,13 - 0-12\n",
    "    if languages[i] == 'P':\n",
    "        print(languages[i][0])"
   ]
  },
  {
   "cell_type": "code",
   "execution_count": 135,
   "id": "f08a44f8-f9db-40ce-9671-a54514165ae6",
   "metadata": {},
   "outputs": [
    {
     "name": "stdout",
     "output_type": "stream",
     "text": [
      "Python\n",
      "C\n",
      "C\n"
     ]
    }
   ],
   "source": [
    "languages = ['C',\"Java\",\"Python\",\"Ruby\",\"R\",\"C#\",\"C++\",\"fortran\",\"BASIC\",\"PHP\",\"Laravel\",\"Django\",\"SQL\"]\n",
    "\n",
    "print(languages[2])\n",
    "print(languages[5][0])\n",
    "print(languages[6][0])"
   ]
  },
  {
   "cell_type": "code",
   "execution_count": 169,
   "id": "56d9b3f6-6eb2-4353-89cd-075546c30e57",
   "metadata": {},
   "outputs": [
    {
     "data": {
      "text/plain": [
       "True"
      ]
     },
     "execution_count": 169,
     "metadata": {},
     "output_type": "execute_result"
    }
   ],
   "source": [
    "# DAS Array\n",
    "languages[2][0] == \"P\""
   ]
  },
  {
   "cell_type": "code",
   "execution_count": 175,
   "id": "5dce026d-70ac-42d9-9b55-0a934595c0de",
   "metadata": {},
   "outputs": [
    {
     "data": {
      "text/plain": [
       "'P'"
      ]
     },
     "execution_count": 175,
     "metadata": {},
     "output_type": "execute_result"
    }
   ],
   "source": [
    "languages[2][0]"
   ]
  },
  {
   "cell_type": "code",
   "execution_count": 201,
   "id": "ff91f328-d7f5-4786-ac42-b67cb8110f73",
   "metadata": {},
   "outputs": [
    {
     "name": "stdout",
     "output_type": "stream",
     "text": [
      "['C', 'Java', 'Python', 'Ruby', 'R', 'C#', 'C++', 'fortran', 'BASIC', 'PHP', 'Laravel', 'Django', 'SQL']\n",
      "1,4,6,4,1,2,3,7,5,3,7,6,3,"
     ]
    }
   ],
   "source": [
    "languages = ['C',\"Java\",\"Python\",\"Ruby\",\"R\",\"C#\",\"C++\",\"fortran\",\"BASIC\",\"PHP\",\"Laravel\",\"Django\",\"SQL\"]\n",
    "\n",
    "\n",
    "# nested loop\n",
    "print(languages)\n",
    "for i in languages:\n",
    "    count = 0\n",
    "    for j in i:\n",
    "        count = count+1\n",
    "    print(count,end=\",\")\n"
   ]
  },
  {
   "cell_type": "code",
   "execution_count": 217,
   "id": "d9f40e94-b737-49fc-b969-9f2ad2c91ae2",
   "metadata": {},
   "outputs": [
    {
     "name": "stdout",
     "output_type": "stream",
     "text": [
      "55\n"
     ]
    }
   ],
   "source": [
    "# natural Number- 10 - 55\n",
    "# counting numbers - 1,\n",
    "# whole number - 0\n",
    "# prime numbers- 1 and itself- 2,3,5,7,11,13,17\n",
    "\n",
    "count1 =  0 # null with integer # Aditya # global variable\n",
    "for i in range(1,11):\n",
    "    count1 =  count1+i# 0+1 = 1, 1+2 = 3, 3+3 = 6, 6+4=10, 10+5 = 15, 15+6 = 21, 21+7 = 28, 28+8 = 36, 36+9, 45+10 = 55\n",
    "print(count1)"
   ]
  },
  {
   "cell_type": "code",
   "execution_count": 221,
   "id": "5ddda46a-26cb-4946-a8a4-70809e944ac7",
   "metadata": {},
   "outputs": [
    {
     "name": "stdout",
     "output_type": "stream",
     "text": [
      "210\n"
     ]
    }
   ],
   "source": [
    "# stack = 0,1\n",
    "\n",
    "# 20\n",
    "count2 = 0\n",
    "for x in range(21):\n",
    "    count2 = count2+i\n",
    "print(count2)"
   ]
  },
  {
   "cell_type": "code",
   "execution_count": 227,
   "id": "09d8eaa1-68fb-4ded-9b5d-5aa0d2f51681",
   "metadata": {},
   "outputs": [
    {
     "name": "stdout",
     "output_type": "stream",
     "text": [
      "0\n",
      "2\n",
      "4\n",
      "6\n",
      "8\n",
      "10\n"
     ]
    }
   ],
   "source": [
    "# even - 10, 2,4,6,8, 10\n",
    "\n",
    "# even print\n",
    "for i in range(0,11,2):\n",
    "    print(i)"
   ]
  },
  {
   "cell_type": "code",
   "execution_count": 233,
   "id": "e713155e-f1fe-424d-8dc6-c24d11074f92",
   "metadata": {},
   "outputs": [
    {
     "name": "stdout",
     "output_type": "stream",
     "text": [
      "30\n"
     ]
    }
   ],
   "source": [
    "# even print # sum-10 - natural value-55 - 25\n",
    "\n",
    "count=0\n",
    "for i in range(11):\n",
    "    if i%2 == 0:\n",
    "        count+=i\n",
    "print(count)\n",
    "        "
   ]
  },
  {
   "cell_type": "code",
   "execution_count": 239,
   "id": "de703c1e-bf08-473a-bee2-72e3033c24f0",
   "metadata": {},
   "outputs": [
    {
     "name": "stdout",
     "output_type": "stream",
     "text": [
      "25\n"
     ]
    }
   ],
   "source": [
    "# odd numbers\n",
    "count1 = 0\n",
    "for i in range(11):\n",
    "    if i%2!=0:\n",
    "        # print(i)\n",
    "        count1+=i\n",
    "print(count1)"
   ]
  },
  {
   "cell_type": "code",
   "execution_count": 245,
   "id": "85356ad5-5b29-4b76-b117-ac74255ed895",
   "metadata": {},
   "outputs": [
    {
     "name": "stdout",
     "output_type": "stream",
     "text": [
      "The sum of even numebrs is: 30 \n",
      "The sum of odd numebrs is: 25\n"
     ]
    }
   ],
   "source": [
    "# find the sum of odd and even numbers separately\n",
    "evenSum=0\n",
    "oddSum=0\n",
    "for i in range(11):\n",
    "    if i%2==0:\n",
    "        evenSum+=i\n",
    "    else:\n",
    "        oddSum+=i\n",
    "print(\"The sum of even numbers is:\",evenSum,\"\\nThe sum of odd numbers is:\",oddSum)"
   ]
  },
  {
   "cell_type": "code",
   "execution_count": null,
   "id": "c4fd0a72-1517-480e-b401-ffef5a38607e",
   "metadata": {},
   "outputs": [],
   "source": [
    "# 50 quesries<- programmer"
   ]
  }
 ],
 "metadata": {
  "kernelspec": {
   "display_name": "Python 3 (ipykernel)",
   "language": "python",
   "name": "python3"
  },
  "language_info": {
   "codemirror_mode": {
    "name": "ipython",
    "version": 3
   },
   "file_extension": ".py",
   "mimetype": "text/x-python",
   "name": "python",
   "nbconvert_exporter": "python",
   "pygments_lexer": "ipython3",
   "version": "3.12.4"
  }
 },
 "nbformat": 4,
 "nbformat_minor": 5
}
