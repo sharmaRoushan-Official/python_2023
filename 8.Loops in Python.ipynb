{
 "cells": [
  {
   "cell_type": "markdown",
   "id": "79dac966-2100-4446-b3eb-d5d5770486c1",
   "metadata": {},
   "source": [
    "# 8. Loops in Python \n",
    "\n",
    " * __A for loop is used for iterating over a sequence(that is either a list, a tuple, a dictionary, or a string).__\n",
    " * __This is less like the for keyword in other programming languages, and works more like an iterator method as found in the other object-oriented programming languages.__\n",
    " * __With the for loop we can execute a set of statements, once for each item in a list, tuple, set, etc.__\n",
    " * __The for loop does not require an indexing variable to be set beforehand.__\n",
    " * __With the while loop, we can execute a set of statements as long as the condition is true.__\n",
    " * __Note: remember to increment i, or else the loop will continue forever.__\n",
    " * __The while loop requires relevant variables to be ready, in this example we need to define an indexing variable, i, which we set to 1.__\n",
    "\n",
    "# range() function\n",
    " * __It is helpful to think of the range object as an ordered list.__\n",
    " * __To loop through a set of code a specified number of times, we can use the range() function.__\n",
    " * __The range() function returns a sequence of numbers, starting from 0 by default, and increments by 1(by default), and ends at a specified number.__"
   ]
  },
  {
   "cell_type": "code",
   "execution_count": 2,
   "id": "eaaf2254-71f3-4015-990c-8da362c7e796",
   "metadata": {},
   "outputs": [
    {
     "name": "stdout",
     "output_type": "stream",
     "text": [
      "Hello world\n",
      "Hello world\n",
      "Hello world\n",
      "Hello world\n",
      "Hello world\n"
     ]
    }
   ],
   "source": [
    "# 5 print(\"Hello world\")\n",
    "\n",
    "print(\"Hello world\")\n",
    "print(\"Hello world\")\n",
    "print(\"Hello world\")\n",
    "print(\"Hello world\")\n",
    "print(\"Hello world\")"
   ]
  },
  {
   "cell_type": "code",
   "execution_count": 3,
   "id": "7b1c7470-15dd-4ccc-bd74-64d9271c893f",
   "metadata": {},
   "outputs": [],
   "source": [
    "# 100\n",
    "# 1000\n",
    "# 10,000\n",
    "\n",
    "# loop- "
   ]
  },
  {
   "cell_type": "code",
   "execution_count": 4,
   "id": "d3f467b2-3342-4ed1-9e16-58f3b56cd024",
   "metadata": {},
   "outputs": [
    {
     "data": {
      "text/plain": [
       "range(0, 10)"
      ]
     },
     "execution_count": 4,
     "metadata": {},
     "output_type": "execute_result"
    }
   ],
   "source": [
    "range(10)"
   ]
  },
  {
   "cell_type": "code",
   "execution_count": 5,
   "id": "d841345d-96fc-4943-888e-1d2f5ecf8f6f",
   "metadata": {},
   "outputs": [
    {
     "data": {
      "text/plain": [
       "range(0, 20)"
      ]
     },
     "execution_count": 5,
     "metadata": {},
     "output_type": "execute_result"
    }
   ],
   "source": [
    "range(20)"
   ]
  },
  {
   "cell_type": "code",
   "execution_count": 6,
   "id": "ec5aa905-a247-45a4-ae6b-32478f10de19",
   "metadata": {},
   "outputs": [
    {
     "data": {
      "text/plain": [
       "range(0, -20)"
      ]
     },
     "execution_count": 6,
     "metadata": {},
     "output_type": "execute_result"
    }
   ],
   "source": [
    "range(-20)"
   ]
  },
  {
   "cell_type": "code",
   "execution_count": 7,
   "id": "cf3fc706-8297-4a7b-8476-771c408b35ac",
   "metadata": {},
   "outputs": [
    {
     "data": {
      "text/plain": [
       "range(0, 6)"
      ]
     },
     "execution_count": 7,
     "metadata": {},
     "output_type": "execute_result"
    }
   ],
   "source": [
    "range(len(\"Aditya\"))"
   ]
  },
  {
   "cell_type": "code",
   "execution_count": 8,
   "id": "866e690d-526d-46f1-a55f-1e442d7c7e4e",
   "metadata": {},
   "outputs": [
    {
     "name": "stdout",
     "output_type": "stream",
     "text": [
      "0\n",
      "1\n",
      "2\n",
      "3\n",
      "4\n",
      "5\n",
      "6\n",
      "7\n",
      "8\n",
      "9\n"
     ]
    }
   ],
   "source": [
    "for i in range(10):\n",
    "    print(i)"
   ]
  },
  {
   "cell_type": "code",
   "execution_count": 9,
   "id": "247fe8be-d7c2-42fc-8827-0c4b6e57d703",
   "metadata": {},
   "outputs": [
    {
     "name": "stdout",
     "output_type": "stream",
     "text": [
      "0\n",
      "1\n",
      "2\n",
      "3\n",
      "4\n"
     ]
    }
   ],
   "source": [
    "for i in range(5):\n",
    "    print(i)"
   ]
  },
  {
   "cell_type": "code",
   "execution_count": 10,
   "id": "c494ddde-ae05-4932-816d-fa0ec4501bc0",
   "metadata": {},
   "outputs": [
    {
     "name": "stdout",
     "output_type": "stream",
     "text": [
      "0\n",
      "1\n",
      "2\n",
      "3\n",
      "4\n",
      "5\n",
      "6\n",
      "7\n",
      "8\n"
     ]
    }
   ],
   "source": [
    "for i in range(9):\n",
    "    print(i)"
   ]
  },
  {
   "cell_type": "code",
   "execution_count": 11,
   "id": "19edb74f-3200-4a0a-9ed7-faa400ad5964",
   "metadata": {},
   "outputs": [
    {
     "name": "stdout",
     "output_type": "stream",
     "text": [
      "-5\n",
      "-4\n",
      "-3\n",
      "-2\n",
      "-1\n"
     ]
    }
   ],
   "source": [
    "for i in range(-5,0):\n",
    "    print(i)"
   ]
  },
  {
   "cell_type": "code",
   "execution_count": 12,
   "id": "6891b49d-233f-4480-b793-e13e7acfb43c",
   "metadata": {},
   "outputs": [
    {
     "data": {
      "text/plain": [
       "range(0, -5)"
      ]
     },
     "execution_count": 12,
     "metadata": {},
     "output_type": "execute_result"
    }
   ],
   "source": [
    "range(-5)"
   ]
  },
  {
   "cell_type": "code",
   "execution_count": 13,
   "id": "276f0856-c9b3-4400-b466-24808f372898",
   "metadata": {},
   "outputs": [
    {
     "data": {
      "text/plain": [
       "range(-5, 0)"
      ]
     },
     "execution_count": 13,
     "metadata": {},
     "output_type": "execute_result"
    }
   ],
   "source": [
    "range(-5,0)"
   ]
  },
  {
   "cell_type": "code",
   "execution_count": 14,
   "id": "690bdae4-f23e-4df6-8978-0583214d8a49",
   "metadata": {},
   "outputs": [
    {
     "name": "stdout",
     "output_type": "stream",
     "text": [
      "-20\n",
      "-19\n",
      "-18\n",
      "-17\n",
      "-16\n",
      "-15\n",
      "-14\n",
      "-13\n",
      "-12\n",
      "-11\n",
      "-10\n"
     ]
    }
   ],
   "source": [
    "# -20,-10\n",
    "for i in range(-20,-9):\n",
    "    print(i)"
   ]
  },
  {
   "cell_type": "code",
   "execution_count": 15,
   "id": "f30bd61e-27ed-4734-9ae0-37ae81fa327c",
   "metadata": {},
   "outputs": [
    {
     "name": "stdout",
     "output_type": "stream",
     "text": [
      "0\n",
      "1\n",
      "2\n",
      "3\n",
      "4\n",
      "5\n",
      "6\n",
      "7\n",
      "8\n",
      "9\n"
     ]
    }
   ],
   "source": [
    "for i in range(10):\n",
    "    print(i)"
   ]
  },
  {
   "cell_type": "code",
   "execution_count": 16,
   "id": "74da0ef2-5e82-4a02-afe1-6d971752e0a2",
   "metadata": {},
   "outputs": [
    {
     "name": "stdout",
     "output_type": "stream",
     "text": [
      "-20 Hello world\n",
      "-19 Hello world\n",
      "-18 Hello world\n",
      "-17 Hello world\n",
      "-16 Hello world\n",
      "-15 Hello world\n",
      "-14 Hello world\n",
      "-13 Hello world\n",
      "-12 Hello world\n",
      "-11 Hello world\n",
      "-10 Hello world\n",
      "-9 Hello world\n",
      "-8 Hello world\n",
      "-7 Hello world\n",
      "-6 Hello world\n",
      "-5 Hello world\n",
      "-4 Hello world\n",
      "-3 Hello world\n",
      "-2 Hello world\n",
      "-1 Hello world\n"
     ]
    }
   ],
   "source": [
    "for x in range(-20,0):\n",
    "    print(x,\"Hello world\")"
   ]
  },
  {
   "cell_type": "code",
   "execution_count": 17,
   "id": "2377f87d-6d06-4ab5-a8c5-b0b66e41336d",
   "metadata": {},
   "outputs": [
    {
     "name": "stdout",
     "output_type": "stream",
     "text": [
      "1 Hello world\n",
      "2 Hello world\n",
      "3 Hello world\n",
      "4 Hello world\n",
      "5 Hello world\n",
      "6 Hello world\n",
      "7 Hello world\n",
      "8 Hello world\n",
      "9 Hello world\n",
      "10 Hello world\n",
      "11 Hello world\n",
      "12 Hello world\n",
      "13 Hello world\n",
      "14 Hello world\n",
      "15 Hello world\n",
      "16 Hello world\n",
      "17 Hello world\n",
      "18 Hello world\n",
      "19 Hello world\n",
      "20 Hello world\n",
      "21 Hello world\n",
      "22 Hello world\n",
      "23 Hello world\n",
      "24 Hello world\n",
      "25 Hello world\n",
      "26 Hello world\n",
      "27 Hello world\n",
      "28 Hello world\n",
      "29 Hello world\n",
      "30 Hello world\n",
      "31 Hello world\n",
      "32 Hello world\n",
      "33 Hello world\n",
      "34 Hello world\n",
      "35 Hello world\n",
      "36 Hello world\n",
      "37 Hello world\n",
      "38 Hello world\n",
      "39 Hello world\n",
      "40 Hello world\n",
      "41 Hello world\n",
      "42 Hello world\n",
      "43 Hello world\n",
      "44 Hello world\n",
      "45 Hello world\n",
      "46 Hello world\n",
      "47 Hello world\n",
      "48 Hello world\n",
      "49 Hello world\n",
      "50 Hello world\n",
      "51 Hello world\n",
      "52 Hello world\n",
      "53 Hello world\n",
      "54 Hello world\n",
      "55 Hello world\n",
      "56 Hello world\n",
      "57 Hello world\n",
      "58 Hello world\n",
      "59 Hello world\n",
      "60 Hello world\n",
      "61 Hello world\n",
      "62 Hello world\n",
      "63 Hello world\n",
      "64 Hello world\n",
      "65 Hello world\n",
      "66 Hello world\n",
      "67 Hello world\n",
      "68 Hello world\n",
      "69 Hello world\n",
      "70 Hello world\n",
      "71 Hello world\n",
      "72 Hello world\n",
      "73 Hello world\n",
      "74 Hello world\n",
      "75 Hello world\n",
      "76 Hello world\n",
      "77 Hello world\n",
      "78 Hello world\n",
      "79 Hello world\n",
      "80 Hello world\n",
      "81 Hello world\n",
      "82 Hello world\n",
      "83 Hello world\n",
      "84 Hello world\n",
      "85 Hello world\n",
      "86 Hello world\n",
      "87 Hello world\n",
      "88 Hello world\n",
      "89 Hello world\n",
      "90 Hello world\n",
      "91 Hello world\n",
      "92 Hello world\n",
      "93 Hello world\n",
      "94 Hello world\n",
      "95 Hello world\n",
      "96 Hello world\n",
      "97 Hello world\n",
      "98 Hello world\n",
      "99 Hello world\n",
      "100 Hello world\n"
     ]
    }
   ],
   "source": [
    "for i in range(1,101):\n",
    "    print(i,'Hello world')"
   ]
  },
  {
   "cell_type": "code",
   "execution_count": 18,
   "id": "a9c8bcfd-8031-4fbf-8dd6-3312825a8da0",
   "metadata": {},
   "outputs": [
    {
     "name": "stdout",
     "output_type": "stream",
     "text": [
      "0 A\n",
      "1 d\n",
      "2 i\n",
      "3 t\n",
      "4 y\n",
      "5 a\n"
     ]
    }
   ],
   "source": [
    "name = \"Aditya\"\n",
    "\n",
    "for j in range(len(name)):\n",
    "    print(j,name[j])"
   ]
  },
  {
   "cell_type": "code",
   "execution_count": 19,
   "id": "054976a0-fdcf-4465-adea-f04b9590f256",
   "metadata": {},
   "outputs": [
    {
     "data": {
      "text/plain": [
       "'A'"
      ]
     },
     "execution_count": 19,
     "metadata": {},
     "output_type": "execute_result"
    }
   ],
   "source": [
    "name[0]"
   ]
  },
  {
   "cell_type": "code",
   "execution_count": 20,
   "id": "ad5468ad-19cf-4c3f-8028-7fd8b49047a8",
   "metadata": {},
   "outputs": [
    {
     "data": {
      "text/plain": [
       "'i'"
      ]
     },
     "execution_count": 20,
     "metadata": {},
     "output_type": "execute_result"
    }
   ],
   "source": [
    "name[2]"
   ]
  },
  {
   "cell_type": "code",
   "execution_count": 21,
   "id": "ea5051ec-9f47-49ac-877d-f4a40f593ec4",
   "metadata": {},
   "outputs": [
    {
     "name": "stdout",
     "output_type": "stream",
     "text": [
      "2005\n",
      "2006\n",
      "2007\n",
      "2008\n",
      "2009\n",
      "2010\n"
     ]
    }
   ],
   "source": [
    "years = [2005,2006,2007,2008,2009,2010]\n",
    "\n",
    "for i in years:\n",
    "    print(i)"
   ]
  },
  {
   "cell_type": "code",
   "execution_count": 22,
   "id": "26a78c08-a216-4ed8-865a-b2320bc2654a",
   "metadata": {},
   "outputs": [
    {
     "name": "stdout",
     "output_type": "stream",
     "text": [
      "2005,2006,2007,2008,2009,2010,"
     ]
    }
   ],
   "source": [
    "for i in range(len(years)):\n",
    "    print(years[i],end=\",\")"
   ]
  },
  {
   "cell_type": "code",
   "execution_count": 23,
   "id": "9b48f1a3-55e5-4173-ad38-521b9777882c",
   "metadata": {},
   "outputs": [
    {
     "name": "stdout",
     "output_type": "stream",
     "text": [
      "2\n",
      "3\n",
      "4\n",
      "5\n",
      "6\n",
      "7\n",
      "8\n",
      "9\n",
      "10\n",
      "11\n",
      "12\n",
      "13\n",
      "14\n",
      "15\n",
      "16\n",
      "17\n",
      "18\n",
      "19\n",
      "20\n",
      "21\n"
     ]
    }
   ],
   "source": [
    "for i in range(2,22):\n",
    "    print(i)"
   ]
  },
  {
   "cell_type": "code",
   "execution_count": 24,
   "id": "b81fe81a-14fd-475f-a390-6d4c441d591d",
   "metadata": {},
   "outputs": [
    {
     "name": "stdout",
     "output_type": "stream",
     "text": [
      "2\n",
      "4\n",
      "6\n",
      "8\n",
      "10\n",
      "12\n",
      "14\n",
      "16\n",
      "18\n",
      "20\n"
     ]
    }
   ],
   "source": [
    "# striding value [starts:ends: skip]\n",
    "for i in range(2,22,2):\n",
    "    print(i)"
   ]
  },
  {
   "cell_type": "code",
   "execution_count": 25,
   "id": "0f28c4d3-8c17-4a51-a9c2-be715c57e2ad",
   "metadata": {},
   "outputs": [
    {
     "name": "stdout",
     "output_type": "stream",
     "text": [
      "C\n",
      "Java\n",
      "Python\n",
      "Ruby\n",
      "R\n",
      "C#\n",
      "C++\n",
      "fortran\n",
      "BASIC\n",
      "PHP\n",
      "Laravel\n",
      "Django\n",
      "SQL\n"
     ]
    }
   ],
   "source": [
    "# list\n",
    "languages = ['C',\"Java\",\"Python\",\"Ruby\",\"R\",\"C#\",\"C++\",\"fortran\",\"BASIC\",\"PHP\",\"Laravel\",\"Django\",\"SQL\"]\n",
    "\n",
    "# display only starts from C character\n",
    "for i in languages:\n",
    "    print(i)"
   ]
  },
  {
   "cell_type": "code",
   "execution_count": 26,
   "id": "893cc243-44cc-4298-bdd1-c2e79b137810",
   "metadata": {},
   "outputs": [
    {
     "name": "stdout",
     "output_type": "stream",
     "text": [
      "C\n",
      "C#\n",
      "C++\n"
     ]
    }
   ],
   "source": [
    "# list\n",
    "languages = ['C',\"Java\",\"Python\",\"Ruby\",\"R\",\"C#\",\"C++\",\"fortran\",\"BASIC\",\"PHP\",\"Laravel\",\"Django\",\"SQL\"]\n",
    "\n",
    "# display only starts from C character\n",
    "for i in languages:\n",
    "    if i[0]  == \"C\":\n",
    "        print(i)\n",
    "    "
   ]
  },
  {
   "cell_type": "code",
   "execution_count": 27,
   "id": "6edfb593-9c24-4455-91a8-0f02a54219a8",
   "metadata": {},
   "outputs": [],
   "source": [
    "# list\n",
    "languages = ['C',\"Java\",\"Python\",\"Ruby\",\"R\",\"C#\",\"C++\",\"fortran\",\"BASIC\",\"PHP\",\"Laravel\",\"Django\",\"SQL\"]\n",
    "\n",
    "\n",
    "for i in range(len(languages)): # 0,13 - 0-12\n",
    "    if languages[i] == 'P':\n",
    "        print(languages[i][0])"
   ]
  },
  {
   "cell_type": "code",
   "execution_count": 28,
   "id": "f08a44f8-f9db-40ce-9671-a54514165ae6",
   "metadata": {},
   "outputs": [
    {
     "name": "stdout",
     "output_type": "stream",
     "text": [
      "Python\n",
      "C\n",
      "C\n"
     ]
    }
   ],
   "source": [
    "languages = ['C',\"Java\",\"Python\",\"Ruby\",\"R\",\"C#\",\"C++\",\"fortran\",\"BASIC\",\"PHP\",\"Laravel\",\"Django\",\"SQL\"]\n",
    "\n",
    "print(languages[2])\n",
    "print(languages[5][0])\n",
    "print(languages[6][0])"
   ]
  },
  {
   "cell_type": "code",
   "execution_count": 29,
   "id": "56d9b3f6-6eb2-4353-89cd-075546c30e57",
   "metadata": {},
   "outputs": [
    {
     "data": {
      "text/plain": [
       "True"
      ]
     },
     "execution_count": 29,
     "metadata": {},
     "output_type": "execute_result"
    }
   ],
   "source": [
    "# DAS Array\n",
    "languages[2][0] == \"P\""
   ]
  },
  {
   "cell_type": "code",
   "execution_count": 30,
   "id": "5dce026d-70ac-42d9-9b55-0a934595c0de",
   "metadata": {},
   "outputs": [
    {
     "data": {
      "text/plain": [
       "'P'"
      ]
     },
     "execution_count": 30,
     "metadata": {},
     "output_type": "execute_result"
    }
   ],
   "source": [
    "languages[2][0]"
   ]
  },
  {
   "cell_type": "code",
   "execution_count": 31,
   "id": "ff91f328-d7f5-4786-ac42-b67cb8110f73",
   "metadata": {},
   "outputs": [
    {
     "name": "stdout",
     "output_type": "stream",
     "text": [
      "['C', 'Java', 'Python', 'Ruby', 'R', 'C#', 'C++', 'fortran', 'BASIC', 'PHP', 'Laravel', 'Django', 'SQL']\n",
      "1,4,6,4,1,2,3,7,5,3,7,6,3,"
     ]
    }
   ],
   "source": [
    "languages = ['C',\"Java\",\"Python\",\"Ruby\",\"R\",\"C#\",\"C++\",\"fortran\",\"BASIC\",\"PHP\",\"Laravel\",\"Django\",\"SQL\"]\n",
    "\n",
    "\n",
    "# nested loop\n",
    "print(languages)\n",
    "for i in languages:\n",
    "    count = 0\n",
    "    for j in i:\n",
    "        count = count+1\n",
    "    print(count,end=\",\")\n"
   ]
  },
  {
   "cell_type": "code",
   "execution_count": 32,
   "id": "d9f40e94-b737-49fc-b969-9f2ad2c91ae2",
   "metadata": {},
   "outputs": [
    {
     "name": "stdout",
     "output_type": "stream",
     "text": [
      "55\n"
     ]
    }
   ],
   "source": [
    "# natural Number- 10 - 55\n",
    "# counting numbers - 1,\n",
    "# whole number - 0\n",
    "# prime numbers- 1 and itself- 2,3,5,7,11,13,17\n",
    "\n",
    "count1 =  0 # null with integer # Aditya # global variable\n",
    "for i in range(1,11):\n",
    "    count1 =  count1+i# 0+1 = 1, 1+2 = 3, 3+3 = 6, 6+4=10, 10+5 = 15, 15+6 = 21, 21+7 = 28, 28+8 = 36, 36+9, 45+10 = 55\n",
    "print(count1)"
   ]
  },
  {
   "cell_type": "code",
   "execution_count": 33,
   "id": "5ddda46a-26cb-4946-a8a4-70809e944ac7",
   "metadata": {},
   "outputs": [
    {
     "name": "stdout",
     "output_type": "stream",
     "text": [
      "210\n"
     ]
    }
   ],
   "source": [
    "# stack = 0,1\n",
    "\n",
    "# 20\n",
    "count2 = 0\n",
    "for x in range(21):\n",
    "    count2 = count2+i\n",
    "print(count2)"
   ]
  },
  {
   "cell_type": "code",
   "execution_count": 34,
   "id": "09d8eaa1-68fb-4ded-9b5d-5aa0d2f51681",
   "metadata": {},
   "outputs": [
    {
     "name": "stdout",
     "output_type": "stream",
     "text": [
      "0\n",
      "2\n",
      "4\n",
      "6\n",
      "8\n",
      "10\n"
     ]
    }
   ],
   "source": [
    "# even - 10, 2,4,6,8, 10\n",
    "\n",
    "# even print\n",
    "for i in range(0,11,2):\n",
    "    print(i)"
   ]
  },
  {
   "cell_type": "code",
   "execution_count": 35,
   "id": "e713155e-f1fe-424d-8dc6-c24d11074f92",
   "metadata": {},
   "outputs": [
    {
     "name": "stdout",
     "output_type": "stream",
     "text": [
      "30\n"
     ]
    }
   ],
   "source": [
    "# even print # sum-10 - natural value-55 - 25\n",
    "\n",
    "count=0\n",
    "for i in range(11):\n",
    "    if i%2 == 0:\n",
    "        count+=i\n",
    "print(count)\n",
    "        "
   ]
  },
  {
   "cell_type": "code",
   "execution_count": 36,
   "id": "de703c1e-bf08-473a-bee2-72e3033c24f0",
   "metadata": {},
   "outputs": [
    {
     "name": "stdout",
     "output_type": "stream",
     "text": [
      "25\n"
     ]
    }
   ],
   "source": [
    "# odd numbers\n",
    "count1 = 0\n",
    "for i in range(11):\n",
    "    if i%2!=0:\n",
    "        # print(i)\n",
    "        count1+=i\n",
    "print(count1)"
   ]
  },
  {
   "cell_type": "code",
   "execution_count": 37,
   "id": "85356ad5-5b29-4b76-b117-ac74255ed895",
   "metadata": {},
   "outputs": [
    {
     "name": "stdout",
     "output_type": "stream",
     "text": [
      "The sum of even numbers is: 30 \n",
      "The sum of odd numbers is: 25\n"
     ]
    }
   ],
   "source": [
    "# find the sum of odd and even numbers separately\n",
    "evenSum=0\n",
    "oddSum=0\n",
    "for i in range(11):\n",
    "    if i%2==0:\n",
    "        evenSum+=i\n",
    "    else:\n",
    "        oddSum+=i\n",
    "print(\"The sum of even numbers is:\",evenSum,\"\\nThe sum of odd numbers is:\",oddSum)"
   ]
  },
  {
   "cell_type": "code",
   "execution_count": 38,
   "id": "c4fd0a72-1517-480e-b401-ffef5a38607e",
   "metadata": {},
   "outputs": [
    {
     "name": "stdout",
     "output_type": "stream",
     "text": [
      "0 2 4 6 8 10 12 14 16 18 20 22 24 26 28 30 32 34 36 38 40 42 44 46 48 "
     ]
    }
   ],
   "source": [
    "# 50 quesries<- programmer\n",
    "\n",
    "\n",
    "for i in range(50):\n",
    "    if i%2==0:\n",
    "        print(i, end=\" \")"
   ]
  },
  {
   "cell_type": "code",
   "execution_count": 39,
   "id": "46afa063-7930-4313-9cc6-dc629dbc1808",
   "metadata": {},
   "outputs": [
    {
     "name": "stdout",
     "output_type": "stream",
     "text": [
      "2 x 1 = 2\n",
      "2 x 2 = 4\n",
      "2 x 3 = 6\n",
      "2 x 4 = 8\n",
      "2 x 5 = 10\n",
      "2 x 6 = 12\n",
      "2 x 7 = 14\n",
      "2 x 8 = 16\n",
      "2 x 9 = 18\n",
      "2 x 10 = 20\n"
     ]
    }
   ],
   "source": [
    "# table\n",
    "\n",
    "# 2 - table\n",
    "\n",
    "# 2x1 = 2\n",
    "# 2x2 = 4\n",
    "# 2x3 = 6\n",
    "# 2x4 = 8\n",
    "# 2x5 = 10\n",
    "# 2x6 = 12\n",
    "# 2x7 = 14\n",
    "# 2x8 = 16\n",
    "# 2x9 = 18\n",
    "# 2x10 = 20\n",
    "\n",
    "num = 2\n",
    "\n",
    "for i in range(1,11):\n",
    "    print(num,\"x\",i,\"=\",num*i)\n"
   ]
  },
  {
   "cell_type": "code",
   "execution_count": 40,
   "id": "9cb42be6-8ee6-415c-bda5-e81f14d642a0",
   "metadata": {},
   "outputs": [
    {
     "name": "stdin",
     "output_type": "stream",
     "text": [
      "Enter any value:  5\n"
     ]
    },
    {
     "name": "stdout",
     "output_type": "stream",
     "text": [
      "5 x 1 = 5\n",
      "5 x 2 = 10\n",
      "5 x 3 = 15\n",
      "5 x 4 = 20\n",
      "5 x 5 = 25\n",
      "5 x 6 = 30\n",
      "5 x 7 = 35\n",
      "5 x 8 = 40\n",
      "5 x 9 = 45\n",
      "5 x 10 = 50\n"
     ]
    }
   ],
   "source": [
    "num = int(input(\"Enter any value: \"))\n",
    "\n",
    "for i in range(1,11):\n",
    "    print(num,\"x\",i,\"=\",num*i)"
   ]
  },
  {
   "cell_type": "code",
   "execution_count": 41,
   "id": "09565d57-8f18-4d2d-9829-81b3ece557d9",
   "metadata": {},
   "outputs": [
    {
     "name": "stdin",
     "output_type": "stream",
     "text": [
      "Enter any value:  8\n"
     ]
    },
    {
     "name": "stdout",
     "output_type": "stream",
     "text": [
      "8X1=8\n",
      "8X2=16\n",
      "8X3=24\n",
      "8X4=32\n",
      "8X5=40\n",
      "8X6=48\n",
      "8X7=56\n",
      "8X8=64\n",
      "8X9=72\n",
      "8X10=80\n"
     ]
    }
   ],
   "source": [
    "num = int(input(\"Enter any value: \"))\n",
    "# %d, %c, %f\n",
    "for i in range(1,11):\n",
    "    print(\"%dX%d=%d\"%(num,i,num*i))"
   ]
  },
  {
   "cell_type": "code",
   "execution_count": 42,
   "id": "43d685a5-76d0-4c6a-8837-72bbaaaff883",
   "metadata": {},
   "outputs": [
    {
     "name": "stdin",
     "output_type": "stream",
     "text": [
      "Enter any value:  20\n"
     ]
    },
    {
     "name": "stdout",
     "output_type": "stream",
     "text": [
      "20X1=20\n",
      "20X2=40\n",
      "20X3=60\n",
      "20X4=80\n",
      "20X5=100\n",
      "20X6=120\n",
      "20X7=140\n",
      "20X8=160\n",
      "20X9=180\n",
      "20X10=200\n"
     ]
    }
   ],
   "source": [
    "num = int(input(\"Enter any value: \"))\n",
    "# %d, %c, %f\n",
    "for i in range(1,11):\n",
    "    print(f\"{num}X{i}={num*i}\")"
   ]
  },
  {
   "cell_type": "code",
   "execution_count": 43,
   "id": "ab11dcc4-8900-4d19-873e-5040aab5aae8",
   "metadata": {},
   "outputs": [
    {
     "name": "stdout",
     "output_type": "stream",
     "text": [
      "\n",
      "Table of 1\n",
      "\n",
      "1X1=1\n",
      "1X2=2\n",
      "1X3=3\n",
      "1X4=4\n",
      "1X5=5\n",
      "1X6=6\n",
      "1X7=7\n",
      "1X8=8\n",
      "1X9=9\n",
      "1X10=10\n",
      "\n",
      "Table of 2\n",
      "\n",
      "2X1=2\n",
      "2X2=4\n",
      "2X3=6\n",
      "2X4=8\n",
      "2X5=10\n",
      "2X6=12\n",
      "2X7=14\n",
      "2X8=16\n",
      "2X9=18\n",
      "2X10=20\n",
      "\n",
      "Table of 3\n",
      "\n",
      "3X1=3\n",
      "3X2=6\n",
      "3X3=9\n",
      "3X4=12\n",
      "3X5=15\n",
      "3X6=18\n",
      "3X7=21\n",
      "3X8=24\n",
      "3X9=27\n",
      "3X10=30\n",
      "\n",
      "Table of 4\n",
      "\n",
      "4X1=4\n",
      "4X2=8\n",
      "4X3=12\n",
      "4X4=16\n",
      "4X5=20\n",
      "4X6=24\n",
      "4X7=28\n",
      "4X8=32\n",
      "4X9=36\n",
      "4X10=40\n",
      "\n",
      "Table of 5\n",
      "\n",
      "5X1=5\n",
      "5X2=10\n",
      "5X3=15\n",
      "5X4=20\n",
      "5X5=25\n",
      "5X6=30\n",
      "5X7=35\n",
      "5X8=40\n",
      "5X9=45\n",
      "5X10=50\n",
      "\n",
      "Table of 6\n",
      "\n",
      "6X1=6\n",
      "6X2=12\n",
      "6X3=18\n",
      "6X4=24\n",
      "6X5=30\n",
      "6X6=36\n",
      "6X7=42\n",
      "6X8=48\n",
      "6X9=54\n",
      "6X10=60\n",
      "\n",
      "Table of 7\n",
      "\n",
      "7X1=7\n",
      "7X2=14\n",
      "7X3=21\n",
      "7X4=28\n",
      "7X5=35\n",
      "7X6=42\n",
      "7X7=49\n",
      "7X8=56\n",
      "7X9=63\n",
      "7X10=70\n",
      "\n",
      "Table of 8\n",
      "\n",
      "8X1=8\n",
      "8X2=16\n",
      "8X3=24\n",
      "8X4=32\n",
      "8X5=40\n",
      "8X6=48\n",
      "8X7=56\n",
      "8X8=64\n",
      "8X9=72\n",
      "8X10=80\n",
      "\n",
      "Table of 9\n",
      "\n",
      "9X1=9\n",
      "9X2=18\n",
      "9X3=27\n",
      "9X4=36\n",
      "9X5=45\n",
      "9X6=54\n",
      "9X7=63\n",
      "9X8=72\n",
      "9X9=81\n",
      "9X10=90\n",
      "\n",
      "Table of 10\n",
      "\n",
      "10X1=10\n",
      "10X2=20\n",
      "10X3=30\n",
      "10X4=40\n",
      "10X5=50\n",
      "10X6=60\n",
      "10X7=70\n",
      "10X8=80\n",
      "10X9=90\n",
      "10X10=100\n",
      "\n",
      "Table of 11\n",
      "\n",
      "11X1=11\n",
      "11X2=22\n",
      "11X3=33\n",
      "11X4=44\n",
      "11X5=55\n",
      "11X6=66\n",
      "11X7=77\n",
      "11X8=88\n",
      "11X9=99\n",
      "11X10=110\n",
      "\n",
      "Table of 12\n",
      "\n",
      "12X1=12\n",
      "12X2=24\n",
      "12X3=36\n",
      "12X4=48\n",
      "12X5=60\n",
      "12X6=72\n",
      "12X7=84\n",
      "12X8=96\n",
      "12X9=108\n",
      "12X10=120\n",
      "\n",
      "Table of 13\n",
      "\n",
      "13X1=13\n",
      "13X2=26\n",
      "13X3=39\n",
      "13X4=52\n",
      "13X5=65\n",
      "13X6=78\n",
      "13X7=91\n",
      "13X8=104\n",
      "13X9=117\n",
      "13X10=130\n",
      "\n",
      "Table of 14\n",
      "\n",
      "14X1=14\n",
      "14X2=28\n",
      "14X3=42\n",
      "14X4=56\n",
      "14X5=70\n",
      "14X6=84\n",
      "14X7=98\n",
      "14X8=112\n",
      "14X9=126\n",
      "14X10=140\n",
      "\n",
      "Table of 15\n",
      "\n",
      "15X1=15\n",
      "15X2=30\n",
      "15X3=45\n",
      "15X4=60\n",
      "15X5=75\n",
      "15X6=90\n",
      "15X7=105\n",
      "15X8=120\n",
      "15X9=135\n",
      "15X10=150\n",
      "\n",
      "Table of 16\n",
      "\n",
      "16X1=16\n",
      "16X2=32\n",
      "16X3=48\n",
      "16X4=64\n",
      "16X5=80\n",
      "16X6=96\n",
      "16X7=112\n",
      "16X8=128\n",
      "16X9=144\n",
      "16X10=160\n",
      "\n",
      "Table of 17\n",
      "\n",
      "17X1=17\n",
      "17X2=34\n",
      "17X3=51\n",
      "17X4=68\n",
      "17X5=85\n",
      "17X6=102\n",
      "17X7=119\n",
      "17X8=136\n",
      "17X9=153\n",
      "17X10=170\n",
      "\n",
      "Table of 18\n",
      "\n",
      "18X1=18\n",
      "18X2=36\n",
      "18X3=54\n",
      "18X4=72\n",
      "18X5=90\n",
      "18X6=108\n",
      "18X7=126\n",
      "18X8=144\n",
      "18X9=162\n",
      "18X10=180\n",
      "\n",
      "Table of 19\n",
      "\n",
      "19X1=19\n",
      "19X2=38\n",
      "19X3=57\n",
      "19X4=76\n",
      "19X5=95\n",
      "19X6=114\n",
      "19X7=133\n",
      "19X8=152\n",
      "19X9=171\n",
      "19X10=190\n",
      "\n",
      "Table of 20\n",
      "\n",
      "20X1=20\n",
      "20X2=40\n",
      "20X3=60\n",
      "20X4=80\n",
      "20X5=100\n",
      "20X6=120\n",
      "20X7=140\n",
      "20X8=160\n",
      "20X9=180\n",
      "20X10=200\n",
      "\n",
      "Table of 21\n",
      "\n",
      "21X1=21\n",
      "21X2=42\n",
      "21X3=63\n",
      "21X4=84\n",
      "21X5=105\n",
      "21X6=126\n",
      "21X7=147\n",
      "21X8=168\n",
      "21X9=189\n",
      "21X10=210\n",
      "\n",
      "Table of 22\n",
      "\n",
      "22X1=22\n",
      "22X2=44\n",
      "22X3=66\n",
      "22X4=88\n",
      "22X5=110\n",
      "22X6=132\n",
      "22X7=154\n",
      "22X8=176\n",
      "22X9=198\n",
      "22X10=220\n",
      "\n",
      "Table of 23\n",
      "\n",
      "23X1=23\n",
      "23X2=46\n",
      "23X3=69\n",
      "23X4=92\n",
      "23X5=115\n",
      "23X6=138\n",
      "23X7=161\n",
      "23X8=184\n",
      "23X9=207\n",
      "23X10=230\n",
      "\n",
      "Table of 24\n",
      "\n",
      "24X1=24\n",
      "24X2=48\n",
      "24X3=72\n",
      "24X4=96\n",
      "24X5=120\n",
      "24X6=144\n",
      "24X7=168\n",
      "24X8=192\n",
      "24X9=216\n",
      "24X10=240\n",
      "\n",
      "Table of 25\n",
      "\n",
      "25X1=25\n",
      "25X2=50\n",
      "25X3=75\n",
      "25X4=100\n",
      "25X5=125\n",
      "25X6=150\n",
      "25X7=175\n",
      "25X8=200\n",
      "25X9=225\n",
      "25X10=250\n",
      "\n",
      "Table of 26\n",
      "\n",
      "26X1=26\n",
      "26X2=52\n",
      "26X3=78\n",
      "26X4=104\n",
      "26X5=130\n",
      "26X6=156\n",
      "26X7=182\n",
      "26X8=208\n",
      "26X9=234\n",
      "26X10=260\n",
      "\n",
      "Table of 27\n",
      "\n",
      "27X1=27\n",
      "27X2=54\n",
      "27X3=81\n",
      "27X4=108\n",
      "27X5=135\n",
      "27X6=162\n",
      "27X7=189\n",
      "27X8=216\n",
      "27X9=243\n",
      "27X10=270\n",
      "\n",
      "Table of 28\n",
      "\n",
      "28X1=28\n",
      "28X2=56\n",
      "28X3=84\n",
      "28X4=112\n",
      "28X5=140\n",
      "28X6=168\n",
      "28X7=196\n",
      "28X8=224\n",
      "28X9=252\n",
      "28X10=280\n",
      "\n",
      "Table of 29\n",
      "\n",
      "29X1=29\n",
      "29X2=58\n",
      "29X3=87\n",
      "29X4=116\n",
      "29X5=145\n",
      "29X6=174\n",
      "29X7=203\n",
      "29X8=232\n",
      "29X9=261\n",
      "29X10=290\n",
      "\n",
      "Table of 30\n",
      "\n",
      "30X1=30\n",
      "30X2=60\n",
      "30X3=90\n",
      "30X4=120\n",
      "30X5=150\n",
      "30X6=180\n",
      "30X7=210\n",
      "30X8=240\n",
      "30X9=270\n",
      "30X10=300\n",
      "\n",
      "Table of 31\n",
      "\n",
      "31X1=31\n",
      "31X2=62\n",
      "31X3=93\n",
      "31X4=124\n",
      "31X5=155\n",
      "31X6=186\n",
      "31X7=217\n",
      "31X8=248\n",
      "31X9=279\n",
      "31X10=310\n",
      "\n",
      "Table of 32\n",
      "\n",
      "32X1=32\n",
      "32X2=64\n",
      "32X3=96\n",
      "32X4=128\n",
      "32X5=160\n",
      "32X6=192\n",
      "32X7=224\n",
      "32X8=256\n",
      "32X9=288\n",
      "32X10=320\n",
      "\n",
      "Table of 33\n",
      "\n",
      "33X1=33\n",
      "33X2=66\n",
      "33X3=99\n",
      "33X4=132\n",
      "33X5=165\n",
      "33X6=198\n",
      "33X7=231\n",
      "33X8=264\n",
      "33X9=297\n",
      "33X10=330\n",
      "\n",
      "Table of 34\n",
      "\n",
      "34X1=34\n",
      "34X2=68\n",
      "34X3=102\n",
      "34X4=136\n",
      "34X5=170\n",
      "34X6=204\n",
      "34X7=238\n",
      "34X8=272\n",
      "34X9=306\n",
      "34X10=340\n",
      "\n",
      "Table of 35\n",
      "\n",
      "35X1=35\n",
      "35X2=70\n",
      "35X3=105\n",
      "35X4=140\n",
      "35X5=175\n",
      "35X6=210\n",
      "35X7=245\n",
      "35X8=280\n",
      "35X9=315\n",
      "35X10=350\n",
      "\n",
      "Table of 36\n",
      "\n",
      "36X1=36\n",
      "36X2=72\n",
      "36X3=108\n",
      "36X4=144\n",
      "36X5=180\n",
      "36X6=216\n",
      "36X7=252\n",
      "36X8=288\n",
      "36X9=324\n",
      "36X10=360\n",
      "\n",
      "Table of 37\n",
      "\n",
      "37X1=37\n",
      "37X2=74\n",
      "37X3=111\n",
      "37X4=148\n",
      "37X5=185\n",
      "37X6=222\n",
      "37X7=259\n",
      "37X8=296\n",
      "37X9=333\n",
      "37X10=370\n",
      "\n",
      "Table of 38\n",
      "\n",
      "38X1=38\n",
      "38X2=76\n",
      "38X3=114\n",
      "38X4=152\n",
      "38X5=190\n",
      "38X6=228\n",
      "38X7=266\n",
      "38X8=304\n",
      "38X9=342\n",
      "38X10=380\n",
      "\n",
      "Table of 39\n",
      "\n",
      "39X1=39\n",
      "39X2=78\n",
      "39X3=117\n",
      "39X4=156\n",
      "39X5=195\n",
      "39X6=234\n",
      "39X7=273\n",
      "39X8=312\n",
      "39X9=351\n",
      "39X10=390\n",
      "\n",
      "Table of 40\n",
      "\n",
      "40X1=40\n",
      "40X2=80\n",
      "40X3=120\n",
      "40X4=160\n",
      "40X5=200\n",
      "40X6=240\n",
      "40X7=280\n",
      "40X8=320\n",
      "40X9=360\n",
      "40X10=400\n"
     ]
    }
   ],
   "source": [
    "# 1 - 40\n",
    "for i in range(1,41):\n",
    "    print(f\"\\nTable of {i}\\n\")\n",
    "    for j in range(1,11):\n",
    "        print(\"%dX%d=%d\"%(i,j,i*j))"
   ]
  },
  {
   "cell_type": "code",
   "execution_count": 44,
   "id": "f9d9a4df-29fb-4852-bc73-c7e588102c6a",
   "metadata": {},
   "outputs": [
    {
     "name": "stdout",
     "output_type": "stream",
     "text": [
      "*\n",
      "**\n",
      "***\n",
      "****\n",
      "*****\n"
     ]
    }
   ],
   "source": [
    "# \"*\"\n",
    "# \"**\"\n",
    "# \"***\"\n",
    "# \"****\"\n",
    "# \"*****\"\n",
    "\n",
    "\n",
    "for i in range(1,6):\n",
    "    print(\"*\"*i)\n"
   ]
  },
  {
   "cell_type": "code",
   "execution_count": 45,
   "id": "6614e7a0-43e4-4b40-84c1-c434f970d5c2",
   "metadata": {},
   "outputs": [
    {
     "name": "stdout",
     "output_type": "stream",
     "text": [
      "1\n",
      "2\n",
      "3\n",
      "4\n"
     ]
    }
   ],
   "source": [
    "# Break and continue\n",
    "\n",
    "# 1-10\n",
    "for i in range(1,50):\n",
    "    if i == 5:\n",
    "        break\n",
    "    print(i)"
   ]
  },
  {
   "cell_type": "code",
   "execution_count": 46,
   "id": "80d83ee7-1513-4e41-a933-06d49bf045f5",
   "metadata": {},
   "outputs": [
    {
     "name": "stdout",
     "output_type": "stream",
     "text": [
      "1\n",
      "2\n",
      "3\n",
      "4\n",
      "6\n",
      "7\n",
      "8\n",
      "9\n",
      "10\n"
     ]
    }
   ],
   "source": [
    "#continue\n",
    "\n",
    "# 1 - 10\n",
    "\n",
    "for i in range(1,11):\n",
    "    if i == 5:\n",
    "        continue\n",
    "    print(i)  # 5 skip"
   ]
  },
  {
   "cell_type": "code",
   "execution_count": 47,
   "id": "438f0006-4861-4742-a4d8-b09242195a14",
   "metadata": {},
   "outputs": [
    {
     "name": "stdout",
     "output_type": "stream",
     "text": [
      "0\n",
      "1\n",
      "2\n",
      "3\n",
      "4\n",
      "5\n",
      "6\n",
      "7\n",
      "8\n",
      "9\n",
      "10\n"
     ]
    }
   ],
   "source": [
    "# while noting keyword for while loop\n",
    "\n",
    "# range(): integer, len(array), auto-increment- +1\n",
    "\n",
    "# while (condition):\n",
    "#     starement\n",
    "#     statement\n",
    "# else:\n",
    "#     execute statement\n",
    "\n",
    "i = 0 # starts from 0\n",
    "j = 11 # ends from 11\n",
    "\n",
    "while i<j:\n",
    "    print(i)\n",
    "    i=i+1"
   ]
  },
  {
   "cell_type": "code",
   "execution_count": 96,
   "id": "72c4f0d0-3e3d-4b5f-8e80-0835b5de61c3",
   "metadata": {},
   "outputs": [
    {
     "name": "stdout",
     "output_type": "stream",
     "text": [
      "5X1=5\n",
      "5X2=10\n",
      "5X3=15\n",
      "5X4=20\n",
      "5X5=25\n",
      "5X6=30\n",
      "5X7=35\n",
      "5X8=40\n",
      "5X9=45\n",
      "5X10=50\n"
     ]
    }
   ],
   "source": [
    "# 5\n",
    "\n",
    "num = 5\n",
    "\n",
    "i = 1\n",
    "j = 11\n",
    "\n",
    "while i<j:\n",
    "    print(f\"{num}X{i}={num*i}\")\n",
    "    i+=1"
   ]
  },
  {
   "cell_type": "code",
   "execution_count": 106,
   "id": "4fd213d0-fec2-4eae-8e51-24d8c792450a",
   "metadata": {},
   "outputs": [
    {
     "name": "stdout",
     "output_type": "stream",
     "text": [
      "\n",
      "Table of 1\n",
      "1X1=1\n",
      "1X2=2\n",
      "1X3=3\n",
      "1X4=4\n",
      "1X5=5\n",
      "1X6=6\n",
      "1X7=7\n",
      "1X8=8\n",
      "1X9=9\n",
      "1X10=10\n",
      "\n",
      "Table of 2\n",
      "2X1=2\n",
      "2X2=4\n",
      "2X3=6\n",
      "2X4=8\n",
      "2X5=10\n",
      "2X6=12\n",
      "2X7=14\n",
      "2X8=16\n",
      "2X9=18\n",
      "2X10=20\n",
      "\n",
      "Table of 3\n",
      "3X1=3\n",
      "3X2=6\n",
      "3X3=9\n",
      "3X4=12\n",
      "3X5=15\n",
      "3X6=18\n",
      "3X7=21\n",
      "3X8=24\n",
      "3X9=27\n",
      "3X10=30\n",
      "\n",
      "Table of 4\n",
      "4X1=4\n",
      "4X2=8\n",
      "4X3=12\n",
      "4X4=16\n",
      "4X5=20\n",
      "4X6=24\n",
      "4X7=28\n",
      "4X8=32\n",
      "4X9=36\n",
      "4X10=40\n",
      "\n",
      "Table of 5\n",
      "5X1=5\n",
      "5X2=10\n",
      "5X3=15\n",
      "5X4=20\n",
      "5X5=25\n",
      "5X6=30\n",
      "5X7=35\n",
      "5X8=40\n",
      "5X9=45\n",
      "5X10=50\n",
      "\n",
      "Table of 6\n",
      "6X1=6\n",
      "6X2=12\n",
      "6X3=18\n",
      "6X4=24\n",
      "6X5=30\n",
      "6X6=36\n",
      "6X7=42\n",
      "6X8=48\n",
      "6X9=54\n",
      "6X10=60\n",
      "\n",
      "Table of 7\n",
      "7X1=7\n",
      "7X2=14\n",
      "7X3=21\n",
      "7X4=28\n",
      "7X5=35\n",
      "7X6=42\n",
      "7X7=49\n",
      "7X8=56\n",
      "7X9=63\n",
      "7X10=70\n",
      "\n",
      "Table of 8\n",
      "8X1=8\n",
      "8X2=16\n",
      "8X3=24\n",
      "8X4=32\n",
      "8X5=40\n",
      "8X6=48\n",
      "8X7=56\n",
      "8X8=64\n",
      "8X9=72\n",
      "8X10=80\n",
      "\n",
      "Table of 9\n",
      "9X1=9\n",
      "9X2=18\n",
      "9X3=27\n",
      "9X4=36\n",
      "9X5=45\n",
      "9X6=54\n",
      "9X7=63\n",
      "9X8=72\n",
      "9X9=81\n",
      "9X10=90\n",
      "\n",
      "Table of 10\n",
      "10X1=10\n",
      "10X2=20\n",
      "10X3=30\n",
      "10X4=40\n",
      "10X5=50\n",
      "10X6=60\n",
      "10X7=70\n",
      "10X8=80\n",
      "10X9=90\n",
      "10X10=100\n",
      "\n",
      "Table of 11\n",
      "11X1=11\n",
      "11X2=22\n",
      "11X3=33\n",
      "11X4=44\n",
      "11X5=55\n",
      "11X6=66\n",
      "11X7=77\n",
      "11X8=88\n",
      "11X9=99\n",
      "11X10=110\n",
      "\n",
      "Table of 12\n",
      "12X1=12\n",
      "12X2=24\n",
      "12X3=36\n",
      "12X4=48\n",
      "12X5=60\n",
      "12X6=72\n",
      "12X7=84\n",
      "12X8=96\n",
      "12X9=108\n",
      "12X10=120\n",
      "\n",
      "Table of 13\n",
      "13X1=13\n",
      "13X2=26\n",
      "13X3=39\n",
      "13X4=52\n",
      "13X5=65\n",
      "13X6=78\n",
      "13X7=91\n",
      "13X8=104\n",
      "13X9=117\n",
      "13X10=130\n",
      "\n",
      "Table of 14\n",
      "14X1=14\n",
      "14X2=28\n",
      "14X3=42\n",
      "14X4=56\n",
      "14X5=70\n",
      "14X6=84\n",
      "14X7=98\n",
      "14X8=112\n",
      "14X9=126\n",
      "14X10=140\n",
      "\n",
      "Table of 15\n",
      "15X1=15\n",
      "15X2=30\n",
      "15X3=45\n",
      "15X4=60\n",
      "15X5=75\n",
      "15X6=90\n",
      "15X7=105\n",
      "15X8=120\n",
      "15X9=135\n",
      "15X10=150\n",
      "\n",
      "Table of 16\n",
      "16X1=16\n",
      "16X2=32\n",
      "16X3=48\n",
      "16X4=64\n",
      "16X5=80\n",
      "16X6=96\n",
      "16X7=112\n",
      "16X8=128\n",
      "16X9=144\n",
      "16X10=160\n",
      "\n",
      "Table of 17\n",
      "17X1=17\n",
      "17X2=34\n",
      "17X3=51\n",
      "17X4=68\n",
      "17X5=85\n",
      "17X6=102\n",
      "17X7=119\n",
      "17X8=136\n",
      "17X9=153\n",
      "17X10=170\n",
      "\n",
      "Table of 18\n",
      "18X1=18\n",
      "18X2=36\n",
      "18X3=54\n",
      "18X4=72\n",
      "18X5=90\n",
      "18X6=108\n",
      "18X7=126\n",
      "18X8=144\n",
      "18X9=162\n",
      "18X10=180\n",
      "\n",
      "Table of 19\n",
      "19X1=19\n",
      "19X2=38\n",
      "19X3=57\n",
      "19X4=76\n",
      "19X5=95\n",
      "19X6=114\n",
      "19X7=133\n",
      "19X8=152\n",
      "19X9=171\n",
      "19X10=190\n",
      "\n",
      "Table of 20\n",
      "20X1=20\n",
      "20X2=40\n",
      "20X3=60\n",
      "20X4=80\n",
      "20X5=100\n",
      "20X6=120\n",
      "20X7=140\n",
      "20X8=160\n",
      "20X9=180\n",
      "20X10=200\n",
      "\n",
      "Table of 21\n",
      "21X1=21\n",
      "21X2=42\n",
      "21X3=63\n",
      "21X4=84\n",
      "21X5=105\n",
      "21X6=126\n",
      "21X7=147\n",
      "21X8=168\n",
      "21X9=189\n",
      "21X10=210\n",
      "\n",
      "Table of 22\n",
      "22X1=22\n",
      "22X2=44\n",
      "22X3=66\n",
      "22X4=88\n",
      "22X5=110\n",
      "22X6=132\n",
      "22X7=154\n",
      "22X8=176\n",
      "22X9=198\n",
      "22X10=220\n",
      "\n",
      "Table of 23\n",
      "23X1=23\n",
      "23X2=46\n",
      "23X3=69\n",
      "23X4=92\n",
      "23X5=115\n",
      "23X6=138\n",
      "23X7=161\n",
      "23X8=184\n",
      "23X9=207\n",
      "23X10=230\n",
      "\n",
      "Table of 24\n",
      "24X1=24\n",
      "24X2=48\n",
      "24X3=72\n",
      "24X4=96\n",
      "24X5=120\n",
      "24X6=144\n",
      "24X7=168\n",
      "24X8=192\n",
      "24X9=216\n",
      "24X10=240\n",
      "\n",
      "Table of 25\n",
      "25X1=25\n",
      "25X2=50\n",
      "25X3=75\n",
      "25X4=100\n",
      "25X5=125\n",
      "25X6=150\n",
      "25X7=175\n",
      "25X8=200\n",
      "25X9=225\n",
      "25X10=250\n",
      "\n",
      "Table of 26\n",
      "26X1=26\n",
      "26X2=52\n",
      "26X3=78\n",
      "26X4=104\n",
      "26X5=130\n",
      "26X6=156\n",
      "26X7=182\n",
      "26X8=208\n",
      "26X9=234\n",
      "26X10=260\n",
      "\n",
      "Table of 27\n",
      "27X1=27\n",
      "27X2=54\n",
      "27X3=81\n",
      "27X4=108\n",
      "27X5=135\n",
      "27X6=162\n",
      "27X7=189\n",
      "27X8=216\n",
      "27X9=243\n",
      "27X10=270\n",
      "\n",
      "Table of 28\n",
      "28X1=28\n",
      "28X2=56\n",
      "28X3=84\n",
      "28X4=112\n",
      "28X5=140\n",
      "28X6=168\n",
      "28X7=196\n",
      "28X8=224\n",
      "28X9=252\n",
      "28X10=280\n",
      "\n",
      "Table of 29\n",
      "29X1=29\n",
      "29X2=58\n",
      "29X3=87\n",
      "29X4=116\n",
      "29X5=145\n",
      "29X6=174\n",
      "29X7=203\n",
      "29X8=232\n",
      "29X9=261\n",
      "29X10=290\n",
      "\n",
      "Table of 30\n",
      "30X1=30\n",
      "30X2=60\n",
      "30X3=90\n",
      "30X4=120\n",
      "30X5=150\n",
      "30X6=180\n",
      "30X7=210\n",
      "30X8=240\n",
      "30X9=270\n",
      "30X10=300\n",
      "\n",
      "Table of 31\n",
      "31X1=31\n",
      "31X2=62\n",
      "31X3=93\n",
      "31X4=124\n",
      "31X5=155\n",
      "31X6=186\n",
      "31X7=217\n",
      "31X8=248\n",
      "31X9=279\n",
      "31X10=310\n",
      "\n",
      "Table of 32\n",
      "32X1=32\n",
      "32X2=64\n",
      "32X3=96\n",
      "32X4=128\n",
      "32X5=160\n",
      "32X6=192\n",
      "32X7=224\n",
      "32X8=256\n",
      "32X9=288\n",
      "32X10=320\n",
      "\n",
      "Table of 33\n",
      "33X1=33\n",
      "33X2=66\n",
      "33X3=99\n",
      "33X4=132\n",
      "33X5=165\n",
      "33X6=198\n",
      "33X7=231\n",
      "33X8=264\n",
      "33X9=297\n",
      "33X10=330\n",
      "\n",
      "Table of 34\n",
      "34X1=34\n",
      "34X2=68\n",
      "34X3=102\n",
      "34X4=136\n",
      "34X5=170\n",
      "34X6=204\n",
      "34X7=238\n",
      "34X8=272\n",
      "34X9=306\n",
      "34X10=340\n",
      "\n",
      "Table of 35\n",
      "35X1=35\n",
      "35X2=70\n",
      "35X3=105\n",
      "35X4=140\n",
      "35X5=175\n",
      "35X6=210\n",
      "35X7=245\n",
      "35X8=280\n",
      "35X9=315\n",
      "35X10=350\n",
      "\n",
      "Table of 36\n",
      "36X1=36\n",
      "36X2=72\n",
      "36X3=108\n",
      "36X4=144\n",
      "36X5=180\n",
      "36X6=216\n",
      "36X7=252\n",
      "36X8=288\n",
      "36X9=324\n",
      "36X10=360\n",
      "\n",
      "Table of 37\n",
      "37X1=37\n",
      "37X2=74\n",
      "37X3=111\n",
      "37X4=148\n",
      "37X5=185\n",
      "37X6=222\n",
      "37X7=259\n",
      "37X8=296\n",
      "37X9=333\n",
      "37X10=370\n",
      "\n",
      "Table of 38\n",
      "38X1=38\n",
      "38X2=76\n",
      "38X3=114\n",
      "38X4=152\n",
      "38X5=190\n",
      "38X6=228\n",
      "38X7=266\n",
      "38X8=304\n",
      "38X9=342\n",
      "38X10=380\n",
      "\n",
      "Table of 39\n",
      "39X1=39\n",
      "39X2=78\n",
      "39X3=117\n",
      "39X4=156\n",
      "39X5=195\n",
      "39X6=234\n",
      "39X7=273\n",
      "39X8=312\n",
      "39X9=351\n",
      "39X10=390\n",
      "\n",
      "Table of 40\n",
      "40X1=40\n",
      "40X2=80\n",
      "40X3=120\n",
      "40X4=160\n",
      "40X5=200\n",
      "40X6=240\n",
      "40X7=280\n",
      "40X8=320\n",
      "40X9=360\n",
      "40X10=400\n"
     ]
    }
   ],
   "source": [
    "# - 1 - 40\n",
    "# nested while loop\n",
    "\n",
    "i=1\n",
    "j=40\n",
    "\n",
    "while i<=j:\n",
    "    # print(i)\n",
    "    print(f\"\\nTable of {i}\")\n",
    "    a = 1\n",
    "    b = 11\n",
    "    while a<b:\n",
    "        print(f\"{i}X{a}={i*a}\")\n",
    "        a+=1\n",
    "    i+=1\n"
   ]
  },
  {
   "cell_type": "code",
   "execution_count": 108,
   "id": "7a07f85d-5596-4bf1-9f66-e4a88a55d773",
   "metadata": {},
   "outputs": [
    {
     "name": "stdout",
     "output_type": "stream",
     "text": [
      "\n",
      "Table of 1\n",
      "1 x 1 = 1\n",
      "1 x 2 = 2\n",
      "1 x 3 = 3\n",
      "1 x 4 = 4\n",
      "1 x 5 = 5\n",
      "1 x 6 = 6\n",
      "1 x 7 = 7\n",
      "1 x 8 = 8\n",
      "1 x 9 = 9\n",
      "1 x 10 = 10\n",
      "\n",
      "Table of 2\n",
      "2 x 1 = 2\n",
      "2 x 2 = 4\n",
      "2 x 3 = 6\n",
      "2 x 4 = 8\n",
      "2 x 5 = 10\n",
      "2 x 6 = 12\n",
      "2 x 7 = 14\n",
      "2 x 8 = 16\n",
      "2 x 9 = 18\n",
      "2 x 10 = 20\n",
      "\n",
      "Table of 3\n",
      "3 x 1 = 3\n",
      "3 x 2 = 6\n",
      "3 x 3 = 9\n",
      "3 x 4 = 12\n",
      "3 x 5 = 15\n",
      "3 x 6 = 18\n",
      "3 x 7 = 21\n",
      "3 x 8 = 24\n",
      "3 x 9 = 27\n",
      "3 x 10 = 30\n",
      "\n",
      "Table of 4\n",
      "4 x 1 = 4\n",
      "4 x 2 = 8\n",
      "4 x 3 = 12\n",
      "4 x 4 = 16\n",
      "4 x 5 = 20\n",
      "4 x 6 = 24\n",
      "4 x 7 = 28\n",
      "4 x 8 = 32\n",
      "4 x 9 = 36\n",
      "4 x 10 = 40\n",
      "\n",
      "Table of 5\n",
      "5 x 1 = 5\n",
      "5 x 2 = 10\n",
      "5 x 3 = 15\n",
      "5 x 4 = 20\n",
      "5 x 5 = 25\n",
      "5 x 6 = 30\n",
      "5 x 7 = 35\n",
      "5 x 8 = 40\n",
      "5 x 9 = 45\n",
      "5 x 10 = 50\n",
      "\n",
      "Table of 6\n",
      "6 x 1 = 6\n",
      "6 x 2 = 12\n",
      "6 x 3 = 18\n",
      "6 x 4 = 24\n",
      "6 x 5 = 30\n",
      "6 x 6 = 36\n",
      "6 x 7 = 42\n",
      "6 x 8 = 48\n",
      "6 x 9 = 54\n",
      "6 x 10 = 60\n",
      "\n",
      "Table of 7\n",
      "7 x 1 = 7\n",
      "7 x 2 = 14\n",
      "7 x 3 = 21\n",
      "7 x 4 = 28\n",
      "7 x 5 = 35\n",
      "7 x 6 = 42\n",
      "7 x 7 = 49\n",
      "7 x 8 = 56\n",
      "7 x 9 = 63\n",
      "7 x 10 = 70\n",
      "\n",
      "Table of 8\n",
      "8 x 1 = 8\n",
      "8 x 2 = 16\n",
      "8 x 3 = 24\n",
      "8 x 4 = 32\n",
      "8 x 5 = 40\n",
      "8 x 6 = 48\n",
      "8 x 7 = 56\n",
      "8 x 8 = 64\n",
      "8 x 9 = 72\n",
      "8 x 10 = 80\n",
      "\n",
      "Table of 9\n",
      "9 x 1 = 9\n",
      "9 x 2 = 18\n",
      "9 x 3 = 27\n",
      "9 x 4 = 36\n",
      "9 x 5 = 45\n",
      "9 x 6 = 54\n",
      "9 x 7 = 63\n",
      "9 x 8 = 72\n",
      "9 x 9 = 81\n",
      "9 x 10 = 90\n",
      "\n",
      "Table of 10\n",
      "10 x 1 = 10\n",
      "10 x 2 = 20\n",
      "10 x 3 = 30\n",
      "10 x 4 = 40\n",
      "10 x 5 = 50\n",
      "10 x 6 = 60\n",
      "10 x 7 = 70\n",
      "10 x 8 = 80\n",
      "10 x 9 = 90\n",
      "10 x 10 = 100\n",
      "\n",
      "Table of 11\n",
      "11 x 1 = 11\n",
      "11 x 2 = 22\n",
      "11 x 3 = 33\n",
      "11 x 4 = 44\n",
      "11 x 5 = 55\n",
      "11 x 6 = 66\n",
      "11 x 7 = 77\n",
      "11 x 8 = 88\n",
      "11 x 9 = 99\n",
      "11 x 10 = 110\n",
      "\n",
      "Table of 12\n",
      "12 x 1 = 12\n",
      "12 x 2 = 24\n",
      "12 x 3 = 36\n",
      "12 x 4 = 48\n",
      "12 x 5 = 60\n",
      "12 x 6 = 72\n",
      "12 x 7 = 84\n",
      "12 x 8 = 96\n",
      "12 x 9 = 108\n",
      "12 x 10 = 120\n",
      "\n",
      "Table of 13\n",
      "13 x 1 = 13\n",
      "13 x 2 = 26\n",
      "13 x 3 = 39\n",
      "13 x 4 = 52\n",
      "13 x 5 = 65\n",
      "13 x 6 = 78\n",
      "13 x 7 = 91\n",
      "13 x 8 = 104\n",
      "13 x 9 = 117\n",
      "13 x 10 = 130\n",
      "\n",
      "Table of 14\n",
      "14 x 1 = 14\n",
      "14 x 2 = 28\n",
      "14 x 3 = 42\n",
      "14 x 4 = 56\n",
      "14 x 5 = 70\n",
      "14 x 6 = 84\n",
      "14 x 7 = 98\n",
      "14 x 8 = 112\n",
      "14 x 9 = 126\n",
      "14 x 10 = 140\n",
      "\n",
      "Table of 15\n",
      "15 x 1 = 15\n",
      "15 x 2 = 30\n",
      "15 x 3 = 45\n",
      "15 x 4 = 60\n",
      "15 x 5 = 75\n",
      "15 x 6 = 90\n",
      "15 x 7 = 105\n",
      "15 x 8 = 120\n",
      "15 x 9 = 135\n",
      "15 x 10 = 150\n",
      "\n",
      "Table of 16\n",
      "16 x 1 = 16\n",
      "16 x 2 = 32\n",
      "16 x 3 = 48\n",
      "16 x 4 = 64\n",
      "16 x 5 = 80\n",
      "16 x 6 = 96\n",
      "16 x 7 = 112\n",
      "16 x 8 = 128\n",
      "16 x 9 = 144\n",
      "16 x 10 = 160\n",
      "\n",
      "Table of 17\n",
      "17 x 1 = 17\n",
      "17 x 2 = 34\n",
      "17 x 3 = 51\n",
      "17 x 4 = 68\n",
      "17 x 5 = 85\n",
      "17 x 6 = 102\n",
      "17 x 7 = 119\n",
      "17 x 8 = 136\n",
      "17 x 9 = 153\n",
      "17 x 10 = 170\n",
      "\n",
      "Table of 18\n",
      "18 x 1 = 18\n",
      "18 x 2 = 36\n",
      "18 x 3 = 54\n",
      "18 x 4 = 72\n",
      "18 x 5 = 90\n",
      "18 x 6 = 108\n",
      "18 x 7 = 126\n",
      "18 x 8 = 144\n",
      "18 x 9 = 162\n",
      "18 x 10 = 180\n",
      "\n",
      "Table of 19\n",
      "19 x 1 = 19\n",
      "19 x 2 = 38\n",
      "19 x 3 = 57\n",
      "19 x 4 = 76\n",
      "19 x 5 = 95\n",
      "19 x 6 = 114\n",
      "19 x 7 = 133\n",
      "19 x 8 = 152\n",
      "19 x 9 = 171\n",
      "19 x 10 = 190\n",
      "\n",
      "Table of 20\n",
      "20 x 1 = 20\n",
      "20 x 2 = 40\n",
      "20 x 3 = 60\n",
      "20 x 4 = 80\n",
      "20 x 5 = 100\n",
      "20 x 6 = 120\n",
      "20 x 7 = 140\n",
      "20 x 8 = 160\n",
      "20 x 9 = 180\n",
      "20 x 10 = 200\n",
      "\n",
      "Table of 21\n",
      "21 x 1 = 21\n",
      "21 x 2 = 42\n",
      "21 x 3 = 63\n",
      "21 x 4 = 84\n",
      "21 x 5 = 105\n",
      "21 x 6 = 126\n",
      "21 x 7 = 147\n",
      "21 x 8 = 168\n",
      "21 x 9 = 189\n",
      "21 x 10 = 210\n",
      "\n",
      "Table of 22\n",
      "22 x 1 = 22\n",
      "22 x 2 = 44\n",
      "22 x 3 = 66\n",
      "22 x 4 = 88\n",
      "22 x 5 = 110\n",
      "22 x 6 = 132\n",
      "22 x 7 = 154\n",
      "22 x 8 = 176\n",
      "22 x 9 = 198\n",
      "22 x 10 = 220\n",
      "\n",
      "Table of 23\n",
      "23 x 1 = 23\n",
      "23 x 2 = 46\n",
      "23 x 3 = 69\n",
      "23 x 4 = 92\n",
      "23 x 5 = 115\n",
      "23 x 6 = 138\n",
      "23 x 7 = 161\n",
      "23 x 8 = 184\n",
      "23 x 9 = 207\n",
      "23 x 10 = 230\n",
      "\n",
      "Table of 24\n",
      "24 x 1 = 24\n",
      "24 x 2 = 48\n",
      "24 x 3 = 72\n",
      "24 x 4 = 96\n",
      "24 x 5 = 120\n",
      "24 x 6 = 144\n",
      "24 x 7 = 168\n",
      "24 x 8 = 192\n",
      "24 x 9 = 216\n",
      "24 x 10 = 240\n",
      "\n",
      "Table of 25\n",
      "25 x 1 = 25\n",
      "25 x 2 = 50\n",
      "25 x 3 = 75\n",
      "25 x 4 = 100\n",
      "25 x 5 = 125\n",
      "25 x 6 = 150\n",
      "25 x 7 = 175\n",
      "25 x 8 = 200\n",
      "25 x 9 = 225\n",
      "25 x 10 = 250\n",
      "\n",
      "Table of 26\n",
      "26 x 1 = 26\n",
      "26 x 2 = 52\n",
      "26 x 3 = 78\n",
      "26 x 4 = 104\n",
      "26 x 5 = 130\n",
      "26 x 6 = 156\n",
      "26 x 7 = 182\n",
      "26 x 8 = 208\n",
      "26 x 9 = 234\n",
      "26 x 10 = 260\n",
      "\n",
      "Table of 27\n",
      "27 x 1 = 27\n",
      "27 x 2 = 54\n",
      "27 x 3 = 81\n",
      "27 x 4 = 108\n",
      "27 x 5 = 135\n",
      "27 x 6 = 162\n",
      "27 x 7 = 189\n",
      "27 x 8 = 216\n",
      "27 x 9 = 243\n",
      "27 x 10 = 270\n",
      "\n",
      "Table of 28\n",
      "28 x 1 = 28\n",
      "28 x 2 = 56\n",
      "28 x 3 = 84\n",
      "28 x 4 = 112\n",
      "28 x 5 = 140\n",
      "28 x 6 = 168\n",
      "28 x 7 = 196\n",
      "28 x 8 = 224\n",
      "28 x 9 = 252\n",
      "28 x 10 = 280\n",
      "\n",
      "Table of 29\n",
      "29 x 1 = 29\n",
      "29 x 2 = 58\n",
      "29 x 3 = 87\n",
      "29 x 4 = 116\n",
      "29 x 5 = 145\n",
      "29 x 6 = 174\n",
      "29 x 7 = 203\n",
      "29 x 8 = 232\n",
      "29 x 9 = 261\n",
      "29 x 10 = 290\n",
      "\n",
      "Table of 30\n",
      "30 x 1 = 30\n",
      "30 x 2 = 60\n",
      "30 x 3 = 90\n",
      "30 x 4 = 120\n",
      "30 x 5 = 150\n",
      "30 x 6 = 180\n",
      "30 x 7 = 210\n",
      "30 x 8 = 240\n",
      "30 x 9 = 270\n",
      "30 x 10 = 300\n",
      "\n",
      "Table of 31\n",
      "31 x 1 = 31\n",
      "31 x 2 = 62\n",
      "31 x 3 = 93\n",
      "31 x 4 = 124\n",
      "31 x 5 = 155\n",
      "31 x 6 = 186\n",
      "31 x 7 = 217\n",
      "31 x 8 = 248\n",
      "31 x 9 = 279\n",
      "31 x 10 = 310\n",
      "\n",
      "Table of 32\n",
      "32 x 1 = 32\n",
      "32 x 2 = 64\n",
      "32 x 3 = 96\n",
      "32 x 4 = 128\n",
      "32 x 5 = 160\n",
      "32 x 6 = 192\n",
      "32 x 7 = 224\n",
      "32 x 8 = 256\n",
      "32 x 9 = 288\n",
      "32 x 10 = 320\n",
      "\n",
      "Table of 33\n",
      "33 x 1 = 33\n",
      "33 x 2 = 66\n",
      "33 x 3 = 99\n",
      "33 x 4 = 132\n",
      "33 x 5 = 165\n",
      "33 x 6 = 198\n",
      "33 x 7 = 231\n",
      "33 x 8 = 264\n",
      "33 x 9 = 297\n",
      "33 x 10 = 330\n",
      "\n",
      "Table of 34\n",
      "34 x 1 = 34\n",
      "34 x 2 = 68\n",
      "34 x 3 = 102\n",
      "34 x 4 = 136\n",
      "34 x 5 = 170\n",
      "34 x 6 = 204\n",
      "34 x 7 = 238\n",
      "34 x 8 = 272\n",
      "34 x 9 = 306\n",
      "34 x 10 = 340\n",
      "\n",
      "Table of 35\n",
      "35 x 1 = 35\n",
      "35 x 2 = 70\n",
      "35 x 3 = 105\n",
      "35 x 4 = 140\n",
      "35 x 5 = 175\n",
      "35 x 6 = 210\n",
      "35 x 7 = 245\n",
      "35 x 8 = 280\n",
      "35 x 9 = 315\n",
      "35 x 10 = 350\n",
      "\n",
      "Table of 36\n",
      "36 x 1 = 36\n",
      "36 x 2 = 72\n",
      "36 x 3 = 108\n",
      "36 x 4 = 144\n",
      "36 x 5 = 180\n",
      "36 x 6 = 216\n",
      "36 x 7 = 252\n",
      "36 x 8 = 288\n",
      "36 x 9 = 324\n",
      "36 x 10 = 360\n",
      "\n",
      "Table of 37\n",
      "37 x 1 = 37\n",
      "37 x 2 = 74\n",
      "37 x 3 = 111\n",
      "37 x 4 = 148\n",
      "37 x 5 = 185\n",
      "37 x 6 = 222\n",
      "37 x 7 = 259\n",
      "37 x 8 = 296\n",
      "37 x 9 = 333\n",
      "37 x 10 = 370\n",
      "\n",
      "Table of 38\n",
      "38 x 1 = 38\n",
      "38 x 2 = 76\n",
      "38 x 3 = 114\n",
      "38 x 4 = 152\n",
      "38 x 5 = 190\n",
      "38 x 6 = 228\n",
      "38 x 7 = 266\n",
      "38 x 8 = 304\n",
      "38 x 9 = 342\n",
      "38 x 10 = 380\n",
      "\n",
      "Table of 39\n",
      "39 x 1 = 39\n",
      "39 x 2 = 78\n",
      "39 x 3 = 117\n",
      "39 x 4 = 156\n",
      "39 x 5 = 195\n",
      "39 x 6 = 234\n",
      "39 x 7 = 273\n",
      "39 x 8 = 312\n",
      "39 x 9 = 351\n",
      "39 x 10 = 390\n",
      "\n",
      "Table of 40\n",
      "40 x 1 = 40\n",
      "40 x 2 = 80\n",
      "40 x 3 = 120\n",
      "40 x 4 = 160\n",
      "40 x 5 = 200\n",
      "40 x 6 = 240\n",
      "40 x 7 = 280\n",
      "40 x 8 = 320\n",
      "40 x 9 = 360\n",
      "40 x 10 = 400\n"
     ]
    }
   ],
   "source": [
    "i = 1\n",
    "j = 11   \n",
    "k = 41   \n",
    "\n",
    "while i < k:       \n",
    "    print(f\"\\nTable of {i}\")\n",
    "    n = 1\n",
    "    while n < j:   \n",
    "        print(f\"{i} x {n} = {i*n}\")\n",
    "        n += 1\n",
    "    i += 1\n",
    "\n"
   ]
  },
  {
   "cell_type": "code",
   "execution_count": 110,
   "id": "8cf60ae3-3714-4278-859e-7ce9512b6f42",
   "metadata": {},
   "outputs": [
    {
     "name": "stdout",
     "output_type": "stream",
     "text": [
      "55\n"
     ]
    }
   ],
   "source": [
    "# sum of value from 1-10 = 55 using while loop\n",
    "\n",
    "num = 10\n",
    "i = 1\n",
    "sum = 0\n",
    "while i <= num:\n",
    "    sum = sum + i\n",
    "    i += 1\n",
    "print(sum)"
   ]
  },
  {
   "cell_type": "code",
   "execution_count": 112,
   "id": "460b2c5d-17ff-421e-af15-ac33696b8d51",
   "metadata": {},
   "outputs": [
    {
     "name": "stdout",
     "output_type": "stream",
     "text": [
      "55\n"
     ]
    }
   ],
   "source": [
    "i = 1\n",
    "j = 11\n",
    "sum = 0\n",
    "while i < j:\n",
    "   \n",
    "    sum = sum + i\n",
    "    i+=1\n",
    "print(sum)"
   ]
  },
  {
   "cell_type": "code",
   "execution_count": 117,
   "id": "edbb690d-92cf-4f5b-8b21-7b93e2e911ff",
   "metadata": {},
   "outputs": [
    {
     "name": "stdout",
     "output_type": "stream",
     "text": [
      "55\n"
     ]
    }
   ],
   "source": [
    "i=1\n",
    "j=11\n",
    "sum=0\n",
    "while i<j:\n",
    "    sum=sum+i\n",
    "    i+=1\n",
    "print(sum)"
   ]
  },
  {
   "cell_type": "code",
   "execution_count": 129,
   "id": "c3a74f3e-fe0d-4788-89c5-75b34e885009",
   "metadata": {},
   "outputs": [
    {
     "name": "stdout",
     "output_type": "stream",
     "text": [
      "Your List is: [1, 2, 3, 4, 5, 6, 7, 8, 9, 10, 11, 12, 13, 14, 15, 16, 17, 18, 19, 20] = 210\n",
      "List of Even Numbers is: [2, 4, 6, 8, 10, 12, 14, 16, 18, 20] = 110\n",
      "list of Odd numbers is: [1, 3, 5, 7, 9, 11, 13, 15, 17, 19] = 100\n"
     ]
    }
   ],
   "source": [
    "# Write a program to find the sum of 1-20 even and odd numbers.\n",
    "\n",
    "i=1\n",
    "j=20\n",
    "\n",
    "listVal = []\n",
    "sumVal = 0\n",
    "evenList=[]\n",
    "oddList =[]\n",
    "sumEven=0\n",
    "sumOdd=0\n",
    "while i<=j:\n",
    "    # print(i)\n",
    "    \n",
    "    if i%2==0:\n",
    "        evenList.append(i)\n",
    "        sumEven+=i\n",
    "    else:\n",
    "        oddList.append(i)\n",
    "        sumOdd+=i\n",
    "    listVal.append(i)\n",
    "    \n",
    "    sumVal=sumVal+i\n",
    "    i+=1\n",
    "print(\"Your List is:\",listVal,\"=\",sumVal)\n",
    "print(\"List of Even Numbers is:\",evenList,\"=\",sumEven)\n",
    "print(\"list of Odd numbers is:\",oddList,\"=\",sumOdd)"
   ]
  },
  {
   "cell_type": "code",
   "execution_count": 139,
   "id": "a0094053-c9de-483c-b90e-4c51b548003b",
   "metadata": {},
   "outputs": [
    {
     "name": "stdout",
     "output_type": "stream",
     "text": [
      "1\n",
      "2\n",
      "3\n",
      "4\n"
     ]
    }
   ],
   "source": [
    "# break and continue in while loop\n",
    "\n",
    "# 1-10\n",
    "i = 1\n",
    "j = 10\n",
    "\n",
    "while i<=j:\n",
    "    # print(i)\n",
    "    if i == 5:\n",
    "        break\n",
    "    print(i)\n",
    "    i+=1"
   ]
  },
  {
   "cell_type": "code",
   "execution_count": 143,
   "id": "edd0278e-7e30-4a85-b7a1-208a975962bc",
   "metadata": {},
   "outputs": [
    {
     "name": "stdout",
     "output_type": "stream",
     "text": [
      "2\n",
      "3\n",
      "4\n",
      "6\n",
      "7\n",
      "8\n",
      "9\n",
      "10\n",
      "11\n"
     ]
    }
   ],
   "source": [
    "# continue\n",
    "\n",
    "i = 1\n",
    "j = 10\n",
    "\n",
    "while i<=j:\n",
    "    i+=1  # incremnet\n",
    "    if i == 5:\n",
    "        continue\n",
    "    print(i)"
   ]
  },
  {
   "cell_type": "code",
   "execution_count": 145,
   "id": "c80077ff-1a98-4550-b4a4-670823dcffcc",
   "metadata": {},
   "outputs": [],
   "source": [
    "# aditya<- 1 - 4, 6 -10\n",
    "# asma\n",
    "# tahjeeb\n",
    "# shankarshan"
   ]
  },
  {
   "cell_type": "code",
   "execution_count": 163,
   "id": "105e6f7a-9dec-4bf2-9466-83d7129c0205",
   "metadata": {},
   "outputs": [
    {
     "name": "stdout",
     "output_type": "stream",
     "text": [
      "Total number of characters in the sentence is: 44\n"
     ]
    }
   ],
   "source": [
    "# loop - \"The Quick brown fox jump over the lazy dog.\"\n",
    "\n",
    "sentence = \"The Quick brown fox jumps over the lazy dog.\"\n",
    "\n",
    "i = 0\n",
    "j = len(sentence)\n",
    "count = 0\n",
    "while i<j:\n",
    "    # print(sentence[i])\n",
    "    count+=1\n",
    "    i+=1\n",
    "print('Total number of characters in the sentence is:',count)"
   ]
  },
  {
   "cell_type": "code",
   "execution_count": 169,
   "id": "adfd253a-d26c-4d5a-8625-489f1f957151",
   "metadata": {},
   "outputs": [
    {
     "name": "stdout",
     "output_type": "stream",
     "text": [
      "Length of the statement is: 44\n"
     ]
    }
   ],
   "source": [
    "statement = \"The quick brown fox jumps over the lazy dog.\"\n",
    "count = 0\n",
    "i = 0\n",
    "while i < len(statement):\n",
    "    count += 1\n",
    "    i += 1\n",
    "print(\"Length of the statement is:\", count)"
   ]
  },
  {
   "cell_type": "code",
   "execution_count": 171,
   "id": "9673c040-03c3-4c14-8f46-13cb27bf8b70",
   "metadata": {},
   "outputs": [
    {
     "name": "stdout",
     "output_type": "stream",
     "text": [
      "Number of characters: 44\n"
     ]
    }
   ],
   "source": [
    "loop = \"the quick brown fox jumps over the lazy dog.\"\n",
    "\n",
    "count = 0\n",
    "i = 0\n",
    "\n",
    "while i < len(loop):\n",
    "    count += 1\n",
    "    i += 1\n",
    "\n",
    "print(\"Number of characters:\", count)"
   ]
  },
  {
   "cell_type": "code",
   "execution_count": 203,
   "id": "b890c51f-5ba5-42c1-8fe2-d73bc202f823",
   "metadata": {},
   "outputs": [
    {
     "name": "stdout",
     "output_type": "stream",
     "text": [
      "44\n",
      "String without space is: 36\n",
      "8\n"
     ]
    }
   ],
   "source": [
    "sentence  = \"The quick brown fox jumps over the lazy dog.\"\n",
    "\n",
    "\n",
    "count = 0\n",
    "\n",
    "i =   0\n",
    "\n",
    "whiteSpace=0\n",
    "while i < len(sentence):\n",
    "    if sentence[i] == \" \":\n",
    "        whiteSpace+=1\n",
    "    count+=1\n",
    "    i+=1\n",
    "print(count)\n",
    "print(\"String without space is:\",count-whiteSpace)\n",
    "print(whiteSpace)"
   ]
  },
  {
   "cell_type": "code",
   "execution_count": 227,
   "id": "883f23d4-0147-4196-9ba7-944911c53284",
   "metadata": {},
   "outputs": [
    {
     "name": "stdout",
     "output_type": "stream",
     "text": [
      "36\n"
     ]
    }
   ],
   "source": [
    "sentence  = \"The quick brown fox jumps over the lazy dog.\"\n",
    "\n",
    "\n",
    "count = 0\n",
    "\n",
    "i =   0\n",
    "\n",
    "whiteSpace=0\n",
    "while i < len(sentence):\n",
    "    if sentence[i] == \" \":\n",
    "        i+=1\n",
    "        continue\n",
    "    count+=1\n",
    "    i+=1\n",
    "print(count)\n",
    "# print(whiteSpace)"
   ]
  },
  {
   "cell_type": "code",
   "execution_count": 205,
   "id": "9b520490-3905-4397-b4af-fe65af40d07e",
   "metadata": {},
   "outputs": [
    {
     "name": "stdout",
     "output_type": "stream",
     "text": [
      "36\n"
     ]
    }
   ],
   "source": [
    "sentence1  = \"The quick brown fox jumps over the lazy dog.\"\n",
    "\n",
    "sentence = sentence1.replace(\" \",\"\")\n",
    "# print(sentence)\n",
    "\n",
    "count = 0\n",
    "\n",
    "i =   0\n",
    "while i < len(sentence):\n",
    "    count+=1\n",
    "    i+=1\n",
    "print(count)\n"
   ]
  },
  {
   "cell_type": "code",
   "execution_count": 223,
   "id": "898ead24-13b4-4420-9299-b28509b06a28",
   "metadata": {},
   "outputs": [
    {
     "name": "stdin",
     "output_type": "stream",
     "text": [
      "Enter your value: 50\n"
     ]
    },
    {
     "name": "stdout",
     "output_type": "stream",
     "text": [
      "The usm of user input value 50 is: 1275\n"
     ]
    }
   ],
   "source": [
    "# 4. Calculate the sum of numbers from 1 to n.\n",
    "# n is a user input value.\n",
    "n = int(input(\"Enter your value:\"))\n",
    "\n",
    "sum1 = 0\n",
    "for i in range(1,n+1):\n",
    "    sum1+=i\n",
    "    # print(i)\n",
    "print(f\"The usm of user input value {n} is: {sum1}\")"
   ]
  },
  {
   "cell_type": "code",
   "execution_count": 225,
   "id": "f1cca2f8-cf04-44d8-abaa-9bdc0c735e99",
   "metadata": {},
   "outputs": [
    {
     "name": "stdout",
     "output_type": "stream",
     "text": [
      "36\n"
     ]
    }
   ],
   "source": [
    "loop = \"the quick brown fox jumps over the lazy dog.\"\n",
    "\n",
    "count = 0\n",
    "i = 0\n",
    "\n",
    "while i < len(loop):\n",
    "    if loop[i] == \" \":\n",
    "        i += 1\n",
    "        continue\n",
    "    count += 1\n",
    "    i += 1\n",
    "\n",
    "print(count)"
   ]
  },
  {
   "cell_type": "code",
   "execution_count": 1,
   "id": "d76e0d5b-a6a4-4d1b-92de-36d2506317e1",
   "metadata": {},
   "outputs": [
    {
     "name": "stdout",
     "output_type": "stream",
     "text": [
      "1\n",
      "2\n",
      "3\n",
      "4\n",
      "5\n",
      "6\n",
      "7\n",
      "8\n",
      "9\n",
      "10\n"
     ]
    }
   ],
   "source": [
    "# 1. Print numbers from 1 to 10 using a for loop.\n",
    "\n",
    "for i in range(1,11):\n",
    "    print(i)"
   ]
  },
  {
   "cell_type": "code",
   "execution_count": 3,
   "id": "bde0aecd-00cc-4491-9ccb-125b21378a4b",
   "metadata": {},
   "outputs": [
    {
     "name": "stdout",
     "output_type": "stream",
     "text": [
      "1\n",
      "2\n",
      "3\n",
      "4\n",
      "5\n",
      "6\n",
      "7\n",
      "8\n",
      "9\n",
      "10\n"
     ]
    }
   ],
   "source": [
    "# using while loop\n",
    "\n",
    "i = 1\n",
    "j = 11\n",
    "while i<j:\n",
    "    print(i)\n",
    "    i+=1"
   ]
  },
  {
   "cell_type": "code",
   "execution_count": 5,
   "id": "0385da6c-9a4e-4cfe-9f36-eb607ad5ff01",
   "metadata": {},
   "outputs": [
    {
     "name": "stdout",
     "output_type": "stream",
     "text": [
      "2 4 6 8 10 12 14 16 18 20 22 24 26 28 30 32 34 36 38 40 42 44 46 48 50 52 54 56 58 60 62 64 66 68 70 72 74 76 78 80 82 84 86 88 90 92 94 96 98 100 "
     ]
    }
   ],
   "source": [
    "# 2. Print all even numbers between 1 and 100.\n",
    "\n",
    "for num in range(1,101):\n",
    "    if num % 2 == 0:\n",
    "        print(num,end=\" \")\n"
   ]
  },
  {
   "cell_type": "code",
   "execution_count": 7,
   "id": "d631a723-a81f-4098-8a1a-1e919d611d76",
   "metadata": {},
   "outputs": [
    {
     "name": "stdout",
     "output_type": "stream",
     "text": [
      "2\n",
      "4\n",
      "6\n",
      "8\n",
      "10\n",
      "12\n",
      "14\n",
      "16\n",
      "18\n",
      "20\n",
      "22\n",
      "24\n",
      "26\n",
      "28\n",
      "30\n",
      "32\n",
      "34\n",
      "36\n",
      "38\n",
      "40\n",
      "42\n",
      "44\n",
      "46\n",
      "48\n",
      "50\n",
      "52\n",
      "54\n",
      "56\n",
      "58\n",
      "60\n",
      "62\n",
      "64\n",
      "66\n",
      "68\n",
      "70\n",
      "72\n",
      "74\n",
      "76\n",
      "78\n",
      "80\n",
      "82\n",
      "84\n",
      "86\n",
      "88\n",
      "90\n",
      "92\n",
      "94\n",
      "96\n",
      "98\n",
      "100\n"
     ]
    }
   ],
   "source": [
    "for i in range(2,101,2):\n",
    "    print(i)"
   ]
  },
  {
   "cell_type": "code",
   "execution_count": 11,
   "id": "3a64902e-d2d5-4260-bdf5-131fb3a2c7de",
   "metadata": {},
   "outputs": [
    {
     "name": "stdout",
     "output_type": "stream",
     "text": [
      "0\n",
      "2\n",
      "4\n",
      "6\n",
      "8\n",
      "10\n",
      "12\n",
      "14\n",
      "16\n",
      "18\n",
      "20\n",
      "22\n",
      "24\n",
      "26\n",
      "28\n",
      "30\n",
      "32\n",
      "34\n",
      "36\n",
      "38\n",
      "40\n",
      "42\n",
      "44\n",
      "46\n",
      "48\n",
      "50\n",
      "52\n",
      "54\n",
      "56\n",
      "58\n",
      "60\n",
      "62\n",
      "64\n",
      "66\n",
      "68\n",
      "70\n",
      "72\n",
      "74\n",
      "76\n",
      "78\n",
      "80\n",
      "82\n",
      "84\n",
      "86\n",
      "88\n",
      "90\n",
      "92\n",
      "94\n",
      "96\n",
      "98\n",
      "100\n"
     ]
    }
   ],
   "source": [
    "i=0\n",
    "while i<=100:\n",
    "    if i%2==0:\n",
    "        print(i)\n",
    "    i +=1"
   ]
  },
  {
   "cell_type": "code",
   "execution_count": 13,
   "id": "baa7b6e8-ebb7-45c4-9eac-558807b9b7cb",
   "metadata": {},
   "outputs": [
    {
     "name": "stdout",
     "output_type": "stream",
     "text": [
      "2\n",
      "4\n",
      "6\n",
      "8\n",
      "10\n",
      "12\n",
      "14\n",
      "16\n",
      "18\n",
      "20\n",
      "22\n",
      "24\n",
      "26\n",
      "28\n",
      "30\n",
      "32\n",
      "34\n",
      "36\n",
      "38\n",
      "40\n",
      "42\n",
      "44\n",
      "46\n",
      "48\n",
      "50\n",
      "52\n",
      "54\n",
      "56\n",
      "58\n",
      "60\n",
      "62\n",
      "64\n",
      "66\n",
      "68\n",
      "70\n",
      "72\n",
      "74\n",
      "76\n",
      "78\n",
      "80\n",
      "82\n",
      "84\n",
      "86\n",
      "88\n",
      "90\n",
      "92\n",
      "94\n",
      "96\n",
      "98\n",
      "100\n"
     ]
    }
   ],
   "source": [
    "for i in range(2, 101, 2):\n",
    "    print(i)"
   ]
  },
  {
   "cell_type": "code",
   "execution_count": 15,
   "id": "dee29293-fb3a-4353-a66b-afe4d85bfd48",
   "metadata": {},
   "outputs": [
    {
     "name": "stdout",
     "output_type": "stream",
     "text": [
      "2 4 6 8 10 12 14 16 18 20 22 24 26 28 30 32 34 36 38 40 42 44 46 48 50 52 54 56 58 60 62 64 66 68 70 72 74 76 78 80 82 84 86 88 90 92 94 96 98 100 "
     ]
    }
   ],
   "source": [
    "i = 1\n",
    "j = 101\n",
    "while i < j:\n",
    "    if i % 2 == 0:\n",
    "        print(i,end= \" \")\n",
    "    i+=1"
   ]
  },
  {
   "cell_type": "code",
   "execution_count": 19,
   "id": "cd7dfddf-2efe-4c2b-8e8c-f77b256e2533",
   "metadata": {},
   "outputs": [
    {
     "name": "stdin",
     "output_type": "stream",
     "text": [
      "Enter number:  5\n"
     ]
    },
    {
     "name": "stdout",
     "output_type": "stream",
     "text": [
      "5\n",
      "10\n",
      "15\n",
      "20\n",
      "25\n",
      "30\n",
      "35\n",
      "40\n",
      "45\n",
      "50\n"
     ]
    }
   ],
   "source": [
    "# 3. Print the table of a given number (e.g., input 5 → 5, 10, 15, … 50).\n",
    "n = int(input(\"Enter number: \"))\n",
    "for i in range(1, 11):\n",
    "    print(n * i)"
   ]
  },
  {
   "cell_type": "code",
   "execution_count": 21,
   "id": "deb92e19-6f4d-4411-96f3-0ab47c64fe56",
   "metadata": {},
   "outputs": [
    {
     "name": "stdin",
     "output_type": "stream",
     "text": [
      "enter the number for its table:  5\n"
     ]
    },
    {
     "name": "stdout",
     "output_type": "stream",
     "text": [
      "table of 5is: \n",
      "5 x 1 = 5\n",
      "5 x 2 = 10\n",
      "5 x 3 = 15\n",
      "5 x 4 = 20\n",
      "5 x 5 = 25\n",
      "5 x 6 = 30\n",
      "5 x 7 = 35\n",
      "5 x 8 = 40\n",
      "5 x 9 = 45\n",
      "5 x 10 = 50\n"
     ]
    }
   ],
   "source": [
    "table_no = int(input(\"enter the number for its table: \"))\n",
    "print(f\"table of {table_no}is: \")\n",
    "for i in range(1,11):\n",
    "    print(table_no,\"x\",i,\"=\",table_no * i,)\n"
   ]
  },
  {
   "cell_type": "code",
   "execution_count": 23,
   "id": "787efd1d-ac86-4fb1-bb04-76dc71b683f0",
   "metadata": {},
   "outputs": [
    {
     "name": "stdin",
     "output_type": "stream",
     "text": [
      "enter a number:  5\n"
     ]
    },
    {
     "name": "stdout",
     "output_type": "stream",
     "text": [
      "5 x 1 = 5\n",
      "5 x 2 = 10\n",
      "5 x 3 = 15\n",
      "5 x 4 = 20\n",
      "5 x 5 = 25\n",
      "5 x 6 = 30\n",
      "5 x 7 = 35\n",
      "5 x 8 = 40\n",
      "5 x 9 = 45\n",
      "5 x 10 = 50\n"
     ]
    }
   ],
   "source": [
    "table_no = int(input(\"enter a number: \"))\n",
    "\n",
    "i = 1\n",
    "j = 11\n",
    "while i < j:\n",
    "    print(table_no,\"x\",i,\"=\",table_no*i)\n",
    "    i+=1"
   ]
  },
  {
   "cell_type": "code",
   "execution_count": 25,
   "id": "0d5610cd-2832-4033-b3d1-d6a84f862714",
   "metadata": {},
   "outputs": [
    {
     "name": "stdin",
     "output_type": "stream",
     "text": [
      "Enter a number 5\n"
     ]
    },
    {
     "name": "stdout",
     "output_type": "stream",
     "text": [
      "5x1=5\n",
      "5x2=10\n",
      "5x3=15\n",
      "5x4=20\n",
      "5x5=25\n",
      "5x6=30\n",
      "5x7=35\n",
      "5x8=40\n",
      "5x9=45\n",
      "5x10=50\n"
     ]
    }
   ],
   "source": [
    "user=int(input(\"Enter a number\"))\n",
    "for i in range(1,11):\n",
    "    print(f\"{user}x{i}={user*i}\")"
   ]
  },
  {
   "cell_type": "code",
   "execution_count": 27,
   "id": "745e5787-41f1-43ba-84bd-ba1fecf1e307",
   "metadata": {},
   "outputs": [
    {
     "name": "stdin",
     "output_type": "stream",
     "text": [
      "Enter a number 5\n"
     ]
    },
    {
     "name": "stdout",
     "output_type": "stream",
     "text": [
      "5X1=5\n",
      "5X2=10\n",
      "5X3=15\n",
      "5X4=20\n",
      "5X5=25\n",
      "5X6=30\n",
      "5X7=35\n",
      "5X8=40\n",
      "5X9=45\n",
      "5X10=50\n"
     ]
    }
   ],
   "source": [
    "num=int(input(\"Enter a number\"))\n",
    "i = 1\n",
    "j = 11\n",
    "while i<j:\n",
    "    print(f\"{num}X{i}={num*i}\")\n",
    "    i+=1"
   ]
  },
  {
   "cell_type": "code",
   "execution_count": 35,
   "id": "170f73cb-1b4f-40a4-a4c3-c834110665fd",
   "metadata": {},
   "outputs": [
    {
     "name": "stdin",
     "output_type": "stream",
     "text": [
      "Enter n:  10\n"
     ]
    },
    {
     "name": "stdout",
     "output_type": "stream",
     "text": [
      "Sum: 55\n"
     ]
    }
   ],
   "source": [
    "# 4. Calculate the sum of numbers from 1 to n.\n",
    "n = int(input(\"Enter n: \"))\n",
    "total = 0\n",
    "for i in range(1, n+1):\n",
    "    total += i\n",
    "print(\"Sum:\", total)"
   ]
  },
  {
   "cell_type": "code",
   "execution_count": 37,
   "id": "5d220468-50d8-439f-8f33-86d31cf7e2ab",
   "metadata": {},
   "outputs": [
    {
     "name": "stdin",
     "output_type": "stream",
     "text": [
      "Enter a number:  10\n"
     ]
    },
    {
     "name": "stdout",
     "output_type": "stream",
     "text": [
      "Sum of numbers is: 55\n"
     ]
    }
   ],
   "source": [
    "num = int(input(\"Enter a number: \"))\n",
    "sum = 0\n",
    "for i in range(1, num+1):\n",
    "    sum += i\n",
    "print(\"Sum of numbers is:\", sum)\n"
   ]
  },
  {
   "cell_type": "code",
   "execution_count": 39,
   "id": "2cdca072-26c1-46ee-8973-4d487519043d",
   "metadata": {},
   "outputs": [
    {
     "name": "stdin",
     "output_type": "stream",
     "text": [
      "Enter a number:  10\n"
     ]
    },
    {
     "name": "stdout",
     "output_type": "stream",
     "text": [
      "Sum of numbers is: 55\n"
     ]
    }
   ],
   "source": [
    "num = int(input(\"Enter a number: \"))\n",
    "sum = 0\n",
    "i = 1\n",
    "while i <= num:\n",
    "    sum += i\n",
    "    i += 1\n",
    "print(\"Sum of numbers is:\", sum)"
   ]
  },
  {
   "cell_type": "code",
   "execution_count": 41,
   "id": "9f5ae70b-a0e8-4ac4-9d4e-9627422e2077",
   "metadata": {},
   "outputs": [
    {
     "name": "stdin",
     "output_type": "stream",
     "text": [
      "enter the length till where you want the summing result:  10\n"
     ]
    },
    {
     "name": "stdout",
     "output_type": "stream",
     "text": [
      "55\n"
     ]
    }
   ],
   "source": [
    "length = int(input(\"enter the length till where you want the summing result: \"))\n",
    "sum = 0\n",
    "for i in range(1,length+1):\n",
    "    sum += i\n",
    "print(sum)"
   ]
  },
  {
   "cell_type": "code",
   "execution_count": 43,
   "id": "b424913e-9b3a-4845-9fe8-859a73e0180d",
   "metadata": {},
   "outputs": [
    {
     "name": "stdin",
     "output_type": "stream",
     "text": [
      "enter the length till where you want the summing result:  10\n"
     ]
    },
    {
     "name": "stdout",
     "output_type": "stream",
     "text": [
      "55\n"
     ]
    }
   ],
   "source": [
    "length = int(input(\"enter the length till where you want the summing result: \"))\n",
    "sum1 = 0\n",
    "\n",
    "i = 1\n",
    "while i <= length:\n",
    "    sum1 += i\n",
    "    i+=1\n",
    "print(sum1)"
   ]
  },
  {
   "cell_type": "code",
   "execution_count": 49,
   "id": "e8f31d68-6723-44b7-8d1a-79e76583e4d9",
   "metadata": {},
   "outputs": [
    {
     "name": "stdin",
     "output_type": "stream",
     "text": [
      "Enter any value:  5\n"
     ]
    },
    {
     "name": "stdout",
     "output_type": "stream",
     "text": [
      "120\n"
     ]
    }
   ],
   "source": [
    "# 5. Calculate the factorial of a number using a loop.\n",
    "userNum = int(input(\"Enter any value: \"))\n",
    "fact=1\n",
    "\n",
    "for i in range(1,userNum+1):\n",
    "    fact = fact*i\n",
    "    # print(i)\n",
    "print(fact)"
   ]
  },
  {
   "cell_type": "code",
   "execution_count": 51,
   "id": "3805658b-d7ff-4ae4-b8ca-19f2e8136dc1",
   "metadata": {},
   "outputs": [
    {
     "name": "stdin",
     "output_type": "stream",
     "text": [
      "Enter a number:  5\n"
     ]
    },
    {
     "name": "stdout",
     "output_type": "stream",
     "text": [
      "Factorial of 5 is: 120\n"
     ]
    }
   ],
   "source": [
    "num = int(input(\"Enter a number: \"))\n",
    "fact = 1\n",
    "i = 1\n",
    "while i <= num:\n",
    "    fact *= i\n",
    "    i += 1\n",
    "print(f\"Factorial of {num} is:\", fact)"
   ]
  },
  {
   "cell_type": "code",
   "execution_count": 53,
   "id": "0c70231b-931f-4a15-9fb6-528b9f831c35",
   "metadata": {},
   "outputs": [
    {
     "name": "stdin",
     "output_type": "stream",
     "text": [
      "enter a number:  5\n"
     ]
    },
    {
     "name": "stdout",
     "output_type": "stream",
     "text": [
      "factorial of 5 is: 120\n"
     ]
    }
   ],
   "source": [
    "num1 = int(input(\"enter a number: \"))\n",
    "k = 1\n",
    "i = 1\n",
    "while i <= num1:\n",
    "    k*=i\n",
    "    i+=1\n",
    "print(f\"factorial of {num1} is: {k}\")"
   ]
  },
  {
   "cell_type": "code",
   "execution_count": 57,
   "id": "480f9263-0e02-404d-bdd3-7c59296b1dac",
   "metadata": {},
   "outputs": [
    {
     "name": "stdin",
     "output_type": "stream",
     "text": [
      "Enter the number:  5\n"
     ]
    },
    {
     "name": "stdout",
     "output_type": "stream",
     "text": [
      "120\n"
     ]
    }
   ],
   "source": [
    "# 5. Calculate the factorial of a number using a loop.\n",
    "n = int(input(\"Enter the number: \"))\n",
    "fact = 1\n",
    "for i in range(1, n+1):\n",
    "    fact = fact*i\n",
    "print(fact)"
   ]
  },
  {
   "cell_type": "code",
   "execution_count": 59,
   "id": "35c8688c-d23b-4e95-afad-c7b50963fd64",
   "metadata": {},
   "outputs": [
    {
     "name": "stdin",
     "output_type": "stream",
     "text": [
      "Enter the number:  5\n"
     ]
    },
    {
     "name": "stdout",
     "output_type": "stream",
     "text": [
      "120\n"
     ]
    }
   ],
   "source": [
    "i = 1\n",
    "n = int(input(\"Enter the number: \"))\n",
    "fact = 1\n",
    "while i <= n:\n",
    "    fact = fact*i\n",
    "    i += 1\n",
    "print(fact)"
   ]
  },
  {
   "cell_type": "code",
   "execution_count": 63,
   "id": "ecf53a39-fdd4-4580-a3f9-2bf320999983",
   "metadata": {},
   "outputs": [
    {
     "name": "stdout",
     "output_type": "stream",
     "text": [
      "15\n",
      "30\n",
      "45\n",
      "60\n",
      "75\n",
      "90\n"
     ]
    }
   ],
   "source": [
    "# 6. Print all numbers divisible by 3 and 5 from 1 to 100.\n",
    "\n",
    "for i in range(1, 101):\n",
    "    if i % 3 == 0 and i % 5 == 0:\n",
    "        print(i)"
   ]
  },
  {
   "cell_type": "code",
   "execution_count": 65,
   "id": "d36906ac-5654-4105-8953-b2d9567e4046",
   "metadata": {},
   "outputs": [
    {
     "name": "stdout",
     "output_type": "stream",
     "text": [
      "15\n",
      "30\n",
      "45\n",
      "60\n",
      "75\n",
      "90\n"
     ]
    }
   ],
   "source": [
    "i = 1\n",
    "while i <= 100:\n",
    "    if i % 3 == 0 and i % 5 == 0:\n",
    "        print(i)\n",
    "    i += 1"
   ]
  },
  {
   "cell_type": "code",
   "execution_count": 67,
   "id": "b5119664-6ef4-4957-a761-029cc03835c7",
   "metadata": {},
   "outputs": [
    {
     "name": "stdout",
     "output_type": "stream",
     "text": [
      "15 30 45 60 75 90 "
     ]
    }
   ],
   "source": [
    "for i in range(1, 101):\n",
    "    if i % 3 == 0 and i % 5 == 0:\n",
    "        print(i, end=\" \")"
   ]
  },
  {
   "cell_type": "code",
   "execution_count": 69,
   "id": "cbb2fec9-971d-49a0-bf4c-86abee0434ff",
   "metadata": {},
   "outputs": [
    {
     "name": "stdout",
     "output_type": "stream",
     "text": [
      "15 30 45 60 75 90 "
     ]
    }
   ],
   "source": [
    "i = 1\n",
    "while i <= 100:\n",
    "    if i % 3 == 0 and i % 5 == 0:\n",
    "        print(i, end=\" \")\n",
    "    i += 1"
   ]
  },
  {
   "cell_type": "code",
   "execution_count": 71,
   "id": "c8958b3a-5361-404a-8bc4-4e3ef2d8fe74",
   "metadata": {},
   "outputs": [
    {
     "name": "stdout",
     "output_type": "stream",
     "text": [
      "15 30 45 60 75 90 "
     ]
    }
   ],
   "source": [
    "for i in range(1,101):\n",
    "    if i % 3 == 0 and i % 5 == 0:\n",
    "        print(i,end =\" \")"
   ]
  },
  {
   "cell_type": "code",
   "execution_count": 73,
   "id": "24dd52cd-74b1-4ecf-9bc2-ce13269e0c5d",
   "metadata": {},
   "outputs": [
    {
     "name": "stdout",
     "output_type": "stream",
     "text": [
      "15 30 45 60 75 90 "
     ]
    }
   ],
   "source": [
    "i = 1\n",
    "j = 100\n",
    "while i < j:\n",
    "    if i % 3==0 and i% 5 == 0:\n",
    "        print(i,end =\" \")\n",
    "    i+=1"
   ]
  },
  {
   "cell_type": "code",
   "execution_count": 95,
   "id": "96a3f2dc-5efc-497f-9d11-1a5306d90886",
   "metadata": {},
   "outputs": [
    {
     "name": "stdin",
     "output_type": "stream",
     "text": [
      "Enter any value:  1646515\n"
     ]
    },
    {
     "name": "stdout",
     "output_type": "stream",
     "text": [
      "5156461\n"
     ]
    }
   ],
   "source": [
    "# . Print the reverse of a given number (e.g., 123 → 321).\n",
    "\n",
    "n = input(\"Enter any value: \")\n",
    "rev = \"\"  # 321\n",
    "\n",
    "for i in str(n):\n",
    "    # print(i)\n",
    "    rev = i + rev       #3 # 1 + 0\n",
    "print(rev)"
   ]
  },
  {
   "cell_type": "code",
   "execution_count": 75,
   "id": "9c7c3b84-9bbd-4061-9c09-6c840893c61f",
   "metadata": {},
   "outputs": [
    {
     "name": "stdin",
     "output_type": "stream",
     "text": [
      " 123\n"
     ]
    },
    {
     "name": "stdout",
     "output_type": "stream",
     "text": [
      "321"
     ]
    }
   ],
   "source": [
    "n = input()\n",
    "for i in range(1, len(n)+1):\n",
    "    print(n[-i], end=\"\")"
   ]
  },
  {
   "cell_type": "code",
   "execution_count": 103,
   "id": "7a995cb4-4119-4219-aa37-4a72929d5611",
   "metadata": {},
   "outputs": [
    {
     "name": "stdin",
     "output_type": "stream",
     "text": [
      "Enter a number:  258\n"
     ]
    },
    {
     "name": "stdout",
     "output_type": "stream",
     "text": [
      "Reversed number: 852\n"
     ]
    }
   ],
   "source": [
    "n = input(\"Enter a number: \")\n",
    "rev = \"\"\n",
    "i = len(n) - 1  \n",
    "\n",
    "while i >= 0:\n",
    "    rev += n[i]  \n",
    "    i -= 1\n",
    "\n",
    "print(\"Reversed number:\", rev)"
   ]
  },
  {
   "cell_type": "code",
   "execution_count": 105,
   "id": "0197e7be-3565-4b58-b830-0fd69f05ef9c",
   "metadata": {},
   "outputs": [
    {
     "name": "stdin",
     "output_type": "stream",
     "text": [
      " 258\n"
     ]
    },
    {
     "name": "stdout",
     "output_type": "stream",
     "text": [
      "852"
     ]
    }
   ],
   "source": [
    "n = input()\n",
    "i = 1\n",
    "while i <= len(n):\n",
    "    print(n[-i], end=\"\")\n",
    "    i+=1"
   ]
  },
  {
   "cell_type": "code",
   "execution_count": 159,
   "id": "aa37b67c-8ccf-4cb2-ae35-c332e5a94054",
   "metadata": {},
   "outputs": [
    {
     "name": "stdin",
     "output_type": "stream",
     "text": [
      "Enter any value:  1234\n"
     ]
    },
    {
     "name": "stdout",
     "output_type": "stream",
     "text": [
      "4321\n"
     ]
    }
   ],
   "source": [
    "# 8. Count digits in a number using a loop.\n",
    "\n",
    "\n",
    "n = input(\"Enter any value: \")\n",
    "rev = ''\n",
    "i=0\n",
    "while i<len(n):\n",
    "    # print(i)\n",
    "    rev = n[i] + rev\n",
    "    # print(rev)\n",
    "    i+=1\n",
    "print(rev)"
   ]
  },
  {
   "cell_type": "code",
   "execution_count": 173,
   "id": "41946ce4-acb2-406c-a3ee-569701cdde28",
   "metadata": {},
   "outputs": [
    {
     "name": "stdin",
     "output_type": "stream",
     "text": [
      "Enter any value:  1656151\n"
     ]
    },
    {
     "name": "stdout",
     "output_type": "stream",
     "text": [
      "7\n"
     ]
    }
   ],
   "source": [
    "# 8. Count digits in a number using a loop.\n",
    "\n",
    "# 1234 = 4\n",
    "\n",
    "n = int(input(\"Enter any value: \"))\n",
    "n1 = str(n)\n",
    "count=0\n",
    "for i in n1:\n",
    "    count+=1\n",
    "    # print(i)\n",
    "print(count)"
   ]
  },
  {
   "cell_type": "code",
   "execution_count": 169,
   "id": "c601c1bf-3a20-4ca4-b8c5-0bc357b49bde",
   "metadata": {},
   "outputs": [
    {
     "name": "stdin",
     "output_type": "stream",
     "text": [
      " 1235\n"
     ]
    },
    {
     "name": "stdout",
     "output_type": "stream",
     "text": [
      "Digits = 4\n"
     ]
    }
   ],
   "source": [
    "n = int(input())\n",
    "count = 0\n",
    "i=0\n",
    "while n > i:\n",
    "    count += 1\n",
    "    n //= 10\n",
    "print(\"Digits =\", count)"
   ]
  },
  {
   "cell_type": "code",
   "execution_count": 171,
   "id": "8cc1d398-2341-4142-b72a-fbdc10d98281",
   "metadata": {},
   "outputs": [
    {
     "name": "stdin",
     "output_type": "stream",
     "text": [
      "enter a number:  12345\n"
     ]
    },
    {
     "name": "stdout",
     "output_type": "stream",
     "text": [
      "5\n"
     ]
    }
   ],
   "source": [
    "numbers = input(\"enter a number: \")\n",
    "count  = 0\n",
    "for n in numbers:\n",
    "    count +=1\n",
    "print(count)"
   ]
  },
  {
   "cell_type": "code",
   "execution_count": 175,
   "id": "2d91abdd-36f9-44ca-94c8-fe026e9e74fd",
   "metadata": {},
   "outputs": [
    {
     "name": "stdin",
     "output_type": "stream",
     "text": [
      "enter a number:  1235\n"
     ]
    },
    {
     "name": "stdout",
     "output_type": "stream",
     "text": [
      "4\n"
     ]
    }
   ],
   "source": [
    "numbers = input(\"enter a number: \")\n",
    "count1 = 0\n",
    "i = 1\n",
    "while i <= len(numbers):\n",
    "    count1+=1\n",
    "    i+=1\n",
    "print(count1)"
   ]
  },
  {
   "cell_type": "code",
   "execution_count": 177,
   "id": "4646c872-425f-40e4-9637-261d5fac8596",
   "metadata": {},
   "outputs": [
    {
     "name": "stdin",
     "output_type": "stream",
     "text": [
      "enter a string:  hello world\n"
     ]
    },
    {
     "name": "stdout",
     "output_type": "stream",
     "text": [
      "h e l l o   w o r l d "
     ]
    }
   ],
   "source": [
    "# 9. Print all characters of a string using a loop\n",
    "\n",
    "str1 = input(\"enter a string: \")\n",
    "\n",
    "for i in str1:\n",
    "    print(i,end=\" \")"
   ]
  },
  {
   "cell_type": "code",
   "execution_count": 179,
   "id": "9f0a407a-8572-4791-bb6f-5ec4d5f1dce0",
   "metadata": {},
   "outputs": [
    {
     "name": "stdin",
     "output_type": "stream",
     "text": [
      "enter a string:  hello world\n"
     ]
    },
    {
     "name": "stdout",
     "output_type": "stream",
     "text": [
      "h e l l o   w o r l d "
     ]
    }
   ],
   "source": [
    "str2 = input(\"enter a string: \")\n",
    "i = 0\n",
    "while i < len(str2):\n",
    "    print(str2[i], end=\" \")\n",
    "    i+=1"
   ]
  },
  {
   "cell_type": "code",
   "execution_count": 181,
   "id": "a3e38001-d962-4057-84c0-5be5ab04ad15",
   "metadata": {},
   "outputs": [
    {
     "name": "stdout",
     "output_type": "stream",
     "text": [
      "A\n",
      "s\n",
      "m\n",
      "a\n"
     ]
    }
   ],
   "source": [
    "string =\"Asma\"\n",
    "for ch in string:\n",
    "    print(ch)"
   ]
  },
  {
   "cell_type": "code",
   "execution_count": 183,
   "id": "5889fe0b-083f-44bd-9bbf-19cc531f3094",
   "metadata": {},
   "outputs": [
    {
     "name": "stdout",
     "output_type": "stream",
     "text": [
      "A\n",
      "s\n",
      "m\n",
      "a\n"
     ]
    }
   ],
   "source": [
    "string = \"Asma\"\n",
    "i = 0\n",
    "while i < len(string):\n",
    "    print(string[i])\n",
    "    i += 1"
   ]
  },
  {
   "cell_type": "code",
   "execution_count": 185,
   "id": "6a547fc6-e039-4c13-9892-dd53ebdff4b2",
   "metadata": {},
   "outputs": [
    {
     "name": "stdin",
     "output_type": "stream",
     "text": [
      " hello world\n"
     ]
    },
    {
     "name": "stdout",
     "output_type": "stream",
     "text": [
      "h e l l o   w o r l d "
     ]
    }
   ],
   "source": [
    "n = input()\n",
    "for i in n:\n",
    "    print(i, end=\" \")"
   ]
  },
  {
   "cell_type": "code",
   "execution_count": 187,
   "id": "77ddd642-72a8-41d0-8f07-f7459c01e4ff",
   "metadata": {},
   "outputs": [
    {
     "name": "stdin",
     "output_type": "stream",
     "text": [
      "enter a sentence apple\n"
     ]
    },
    {
     "name": "stdout",
     "output_type": "stream",
     "text": [
      "a e "
     ]
    }
   ],
   "source": [
    "### 10. Print only vowels from a string input by the user.\n",
    "\n",
    "str4 = input(\"enter a sentence\")\n",
    "vowels = \"aeiou\"\n",
    "\n",
    "for i in str4:\n",
    "    if i  in vowels:\n",
    "        print(i,end=\" \")"
   ]
  },
  {
   "cell_type": "code",
   "execution_count": 189,
   "id": "b18ff4f5-8081-40ef-82c0-b79ca42afa66",
   "metadata": {},
   "outputs": [
    {
     "name": "stdin",
     "output_type": "stream",
     "text": [
      "enter a sentence apple\n"
     ]
    },
    {
     "name": "stdout",
     "output_type": "stream",
     "text": [
      "a e "
     ]
    }
   ],
   "source": [
    "str4 = input(\"enter a sentence\")\n",
    "vowels = \"aeiou\"\n",
    "i = 0\n",
    "\n",
    "while i < len(str4):\n",
    "    if str4[i] in vowels:\n",
    "        print(str4[i],end=\" \")\n",
    "    i+=1"
   ]
  },
  {
   "cell_type": "code",
   "execution_count": 195,
   "id": "3dae5465-1872-4fe8-80a7-cdbf96b36879",
   "metadata": {},
   "outputs": [
    {
     "name": "stdin",
     "output_type": "stream",
     "text": [
      "Enter a string:  apple\n"
     ]
    },
    {
     "name": "stdout",
     "output_type": "stream",
     "text": [
      "a e "
     ]
    }
   ],
   "source": [
    "user1 = input(\"Enter a string: \")\n",
    "vowels = \"aeiouAEIOU\"\n",
    "for ch in user1:\n",
    "    if ch in vowels:\n",
    "        print(ch, end=\" \")"
   ]
  },
  {
   "cell_type": "code",
   "execution_count": 201,
   "id": "c4bd045c-30ae-45af-b73a-40bcc85c7dbe",
   "metadata": {},
   "outputs": [
    {
     "name": "stdin",
     "output_type": "stream",
     "text": [
      "Enter a string:  APPLE\n"
     ]
    },
    {
     "name": "stdout",
     "output_type": "stream",
     "text": [
      "A E "
     ]
    }
   ],
   "source": [
    "user1 = input(\"Enter a string: \")\n",
    "vowels = \"aeiouAEIOU\"\n",
    "i = 0\n",
    "while i < len(user1):\n",
    "    if user1[i] in vowels:\n",
    "        print(user1[i], end=\" \")\n",
    "    i += 1"
   ]
  },
  {
   "cell_type": "code",
   "execution_count": 205,
   "id": "aca2d188-b482-405c-b91a-fffa2f2b942a",
   "metadata": {},
   "outputs": [
    {
     "name": "stdin",
     "output_type": "stream",
     "text": [
      "Enter any characters:  apPPLe\n"
     ]
    },
    {
     "name": "stdout",
     "output_type": "stream",
     "text": [
      "a e "
     ]
    }
   ],
   "source": [
    "n = input(\"Enter any characters: \").lower()\n",
    "for i in n:\n",
    "    if i in \"aeiou\":\n",
    "        print(i, end=\" \")"
   ]
  },
  {
   "cell_type": "code",
   "execution_count": 217,
   "id": "2173a0b7-873f-4888-b5d8-6972755b2ab6",
   "metadata": {},
   "outputs": [
    {
     "name": "stdin",
     "output_type": "stream",
     "text": [
      "Enter a string:  Elephant Apple\n"
     ]
    },
    {
     "name": "stdout",
     "output_type": "stream",
     "text": [
      "EeaAe"
     ]
    }
   ],
   "source": [
    "n1 = input(\"Enter a string: \")\n",
    "n = n1.lower()\n",
    "i = 0\n",
    "while i < len(n):\n",
    "    if n[i] in \"aeiou\":\n",
    "        print(n1[i], end=\"\")\n",
    "    i += 1"
   ]
  },
  {
   "cell_type": "code",
   "execution_count": 219,
   "id": "4ba09f03-60f2-4e12-9252-ddf2b3625859",
   "metadata": {},
   "outputs": [
    {
     "name": "stdout",
     "output_type": "stream",
     "text": [
      "10\n",
      "9\n",
      "8\n",
      "7\n",
      "6\n",
      "5\n",
      "4\n",
      "3\n",
      "2\n",
      "1\n"
     ]
    }
   ],
   "source": [
    "# 11. Print a countdown from 10 to 1.\n",
    "\n",
    "for i in range(10, 0, -1): \n",
    "    print(i)"
   ]
  },
  {
   "cell_type": "code",
   "execution_count": 221,
   "id": "694eb7e6-7cbd-431b-8dad-cbce6cfd0564",
   "metadata": {},
   "outputs": [
    {
     "name": "stdout",
     "output_type": "stream",
     "text": [
      "10\n",
      "9\n",
      "8\n",
      "7\n",
      "6\n",
      "5\n",
      "4\n",
      "3\n",
      "2\n",
      "1\n"
     ]
    }
   ],
   "source": [
    "i = 10\n",
    "while i >= 1:\n",
    "    print(i)\n",
    "    i -= 1"
   ]
  },
  {
   "cell_type": "code",
   "execution_count": 223,
   "id": "1eaee6e9-ad62-4268-9a28-4aa84dd7567c",
   "metadata": {},
   "outputs": [
    {
     "name": "stdout",
     "output_type": "stream",
     "text": [
      "10\n",
      "9\n",
      "8\n",
      "7\n",
      "6\n",
      "5\n",
      "4\n",
      "3\n",
      "2\n",
      "1\n"
     ]
    }
   ],
   "source": [
    "# 11. Print a countdown from 10 to 1.\n",
    "i = 10\n",
    "while i >= 1:\n",
    "    print(i)\n",
    "    i -= 1"
   ]
  },
  {
   "cell_type": "code",
   "execution_count": 225,
   "id": "103c0720-4860-44eb-980e-3316d1372cf2",
   "metadata": {},
   "outputs": [
    {
     "name": "stdout",
     "output_type": "stream",
     "text": [
      "10\n",
      "9\n",
      "8\n",
      "7\n",
      "6\n",
      "5\n",
      "4\n",
      "3\n",
      "2\n",
      "1\n"
     ]
    }
   ],
   "source": [
    "for i in range(10, 0, -1):\n",
    "    print(i)"
   ]
  },
  {
   "cell_type": "code",
   "execution_count": 227,
   "id": "82a9f195-a04d-4a64-a1e2-bec6d09ecbd0",
   "metadata": {},
   "outputs": [
    {
     "name": "stdout",
     "output_type": "stream",
     "text": [
      "10 9 8 7 6 5 4 3 2 1 "
     ]
    }
   ],
   "source": [
    "for i in range(10,0,-1):\n",
    "    print(i,end=\" \")"
   ]
  },
  {
   "cell_type": "code",
   "execution_count": 229,
   "id": "ebf09541-ea26-48fb-9921-a1fa5c1362f6",
   "metadata": {},
   "outputs": [
    {
     "name": "stdout",
     "output_type": "stream",
     "text": [
      "10\n",
      "9\n",
      "8\n",
      "7\n",
      "6\n",
      "5\n",
      "4\n",
      "3\n",
      "2\n",
      "1\n"
     ]
    }
   ],
   "source": [
    "i = 10\n",
    "\n",
    "while i >= 1:\n",
    "    print(i)\n",
    "    i-=1"
   ]
  },
  {
   "cell_type": "code",
   "execution_count": 237,
   "id": "a308d5ae-bccf-4c96-be59-271e136fdf61",
   "metadata": {},
   "outputs": [
    {
     "name": "stdin",
     "output_type": "stream",
     "text": [
      "Enter any value:  10\n",
      "Enter any value:  20\n",
      "Enter any value:  50\n",
      "Enter any value:  60\n",
      "Enter any value:  -400\n",
      "Enter any value:  60\n",
      "Enter any value:  80\n",
      "Enter any value:  901\n",
      "Enter any value:  -40\n",
      "Enter any value:  0\n"
     ]
    },
    {
     "name": "stdout",
     "output_type": "stream",
     "text": [
      "Generate Value is: [10, 20, 50, 60, -400, 60, 80, 901, -40]\n",
      "The sum of the user entered value is: 741\n"
     ]
    }
   ],
   "source": [
    "# 12. Take numbers as input until the user enters 0, then print their sum.\n",
    "\n",
    "# infinite loop\n",
    "listVal = []\n",
    "sum1 = 0\n",
    "for i in iter(int,1):\n",
    "    userVal = int(input(\"Enter any value: \"))\n",
    "    if userVal == 0:\n",
    "        break\n",
    "    listVal.append(userVal)\n",
    "    sum1 = sum1+userVal\n",
    "\n",
    "print(\"Generate Value is:\",listVal)\n",
    "print(\"The sum of the user entered value is:\",sum1)"
   ]
  },
  {
   "cell_type": "code",
   "execution_count": null,
   "id": "4859c004-6349-43ac-a11b-100eb2a8215c",
   "metadata": {},
   "outputs": [],
   "source": [
    "# infinite looop\n",
    "\n",
    "while True:\n",
    "    "
   ]
  },
  {
   "cell_type": "code",
   "execution_count": 239,
   "id": "3bca2d3b-6b75-424f-9529-21dc51933b91",
   "metadata": {},
   "outputs": [
    {
     "name": "stdin",
     "output_type": "stream",
     "text": [
      "Enter a number :  10\n",
      "Enter a number :  20\n",
      "Enter a number :  50\n",
      "Enter a number :  0\n"
     ]
    },
    {
     "name": "stdout",
     "output_type": "stream",
     "text": [
      "Sum = 80\n"
     ]
    }
   ],
   "source": [
    "x = -1\n",
    "n = 0\n",
    "i = 0\n",
    "while i > x:\n",
    "    num = int(input(\"Enter a number : \"))\n",
    "    if num == 0:\n",
    "        break\n",
    "    n += num\n",
    "    i += 1\n",
    "print(\"Sum =\", n)"
   ]
  },
  {
   "cell_type": "code",
   "execution_count": 243,
   "id": "dd66465f-449b-4089-9489-5a0b511f2d54",
   "metadata": {},
   "outputs": [
    {
     "name": "stdin",
     "output_type": "stream",
     "text": [
      "Enter a number :  10\n",
      "Enter a number :  20\n",
      "Enter a number :  50\n",
      "Enter a number :  80\n",
      "Enter a number :  90\n",
      "Enter a number :  -10\n",
      "Enter a number :  -100\n",
      "Enter a number :  0\n"
     ]
    },
    {
     "name": "stdout",
     "output_type": "stream",
     "text": [
      "140\n"
     ]
    }
   ],
   "source": [
    "n = 0\n",
    "\n",
    "while True:\n",
    "    num = int(input(\"Enter a number : \"))\n",
    "    if num == 0:\n",
    "        break\n",
    "    n += num\n",
    "print(n)"
   ]
  },
  {
   "cell_type": "code",
   "execution_count": 245,
   "id": "002e1ae4-4cc5-4e56-abd9-dfb716c35993",
   "metadata": {},
   "outputs": [
    {
     "name": "stdin",
     "output_type": "stream",
     "text": [
      "Enter a number :  10\n",
      "Enter a number :  40\n",
      "Enter a number :  50\n",
      "Enter a number :  -78\n",
      "Enter a number :  -156\n",
      "Enter a number :  0\n"
     ]
    },
    {
     "name": "stdout",
     "output_type": "stream",
     "text": [
      "Sum  -134\n"
     ]
    }
   ],
   "source": [
    "sum = 0\n",
    "\n",
    "while True:\n",
    "    num = int(input(\"Enter a number : \"))\n",
    "    if num == 0:\n",
    "        break\n",
    "    sum += num\n",
    "\n",
    "print(\"Sum \", sum)"
   ]
  },
  {
   "cell_type": "code",
   "execution_count": 247,
   "id": "5c670c2d-aa1c-4c93-ac9c-7134dda82436",
   "metadata": {},
   "outputs": [
    {
     "name": "stdin",
     "output_type": "stream",
     "text": [
      "Enter a number 10\n",
      "Enter a number 20\n",
      "Enter a number 30\n",
      "Enter a number 40\n",
      "Enter a number 80\n",
      "Enter a number -50\n",
      "Enter a number -150\n",
      "Enter a number 0\n"
     ]
    },
    {
     "name": "stdout",
     "output_type": "stream",
     "text": [
      "Numbers are [10, 20, 30, 40, 80, -50, -150]\n",
      "Sum of numbers: -20\n"
     ]
    }
   ],
   "source": [
    "total = 0\n",
    "listVal=[]\n",
    "while True:\n",
    "    num = int(input(\"Enter a number\"))\n",
    "    if num == 0:\n",
    "        break\n",
    "    listVal.append(num)\n",
    "    total += num\n",
    "print(\"Numbers are\", listVal)\n",
    "print(\"Sum of numbers:\", total)"
   ]
  },
  {
   "cell_type": "code",
   "execution_count": 249,
   "id": "1f3330d7-60e0-4b9e-a973-a2b0ffeefb68",
   "metadata": {},
   "outputs": [
    {
     "name": "stdin",
     "output_type": "stream",
     "text": [
      "Enter a number:  10\n",
      "Enter a number:  20\n",
      "Enter a number:  5\n",
      "Enter a number:  9\n",
      "Enter a number:  6\n",
      "Enter a number:  3\n",
      "Enter a number:  0\n"
     ]
    },
    {
     "name": "stdout",
     "output_type": "stream",
     "text": [
      "The numbers are: [10, 20, 5, 9, 6, 3]\n",
      "Even numbers entered: [10, 20, 6]\n",
      "Odd numbers entered: [5, 9, 3]\n",
      "Sum of even numbers: 36\n",
      "Sum of odd numbers: 17\n"
     ]
    }
   ],
   "source": [
    "# Write a program to take the user's number, and when the user enters zero, then stop. and find the \n",
    "# sum of even numbers and odd numbers of user input value.\n",
    "\n",
    "evensum = 0\n",
    "oddsum = 0\n",
    "evenlist = []\n",
    "oddlist = []\n",
    "listval=[]\n",
    "while True:\n",
    "    num = int(input(\"Enter a number: \"))\n",
    "    if num == 0:\n",
    "        break\n",
    "    if num % 2 == 0:\n",
    "        evensum += num\n",
    "        evenlist.append(num)\n",
    "    else:\n",
    "        oddsum += num\n",
    "        oddlist.append(num)\n",
    "    listval.append(num)    \n",
    "print(\"The numbers are:\", listval)\n",
    "print(\"Even numbers entered:\", evenlist)\n",
    "print(\"Odd numbers entered:\", oddlist)\n",
    "print(\"Sum of even numbers:\", evensum)\n",
    "print(\"Sum of odd numbers:\", oddsum)"
   ]
  },
  {
   "cell_type": "code",
   "execution_count": 251,
   "id": "d24d6309-116c-43b7-8b0b-ba5247f42906",
   "metadata": {},
   "outputs": [
    {
     "name": "stdin",
     "output_type": "stream",
     "text": [
      "enter any value: 10\n",
      "enter any value: 20\n",
      "enter any value: 50\n",
      "enter any value: -10\n",
      "enter any value: 6\n",
      "enter any value: 5\n",
      "enter any value: 3\n",
      "enter any value: 7\n",
      "enter any value: 9\n",
      "enter any value: 0\n"
     ]
    },
    {
     "name": "stdout",
     "output_type": "stream",
     "text": [
      "[10, 20, 50, -10, 6, 5, 3, 7, 9]\n",
      "76\n",
      "24\n"
     ]
    }
   ],
   "source": [
    "listVal = []\n",
    "sumEven = 0\n",
    "sumOdd = 0\n",
    "for  i in iter(int,1):\n",
    "    userVal = int(input(\"enter any value:\"))\n",
    "    if userVal == 0:\n",
    "        break\n",
    "    elif userVal % 2 == 0:\n",
    "        sumEven+= userVal\n",
    "    else:\n",
    "        sumOdd+=userVal\n",
    "    listVal.append(userVal)\n",
    "\n",
    "print(listVal)\n",
    "print(sumEven)\n",
    "print(sumOdd)"
   ]
  },
  {
   "cell_type": "code",
   "execution_count": 253,
   "id": "75d7cd2c-bf84-48b7-972e-da673c7853bf",
   "metadata": {},
   "outputs": [
    {
     "name": "stdin",
     "output_type": "stream",
     "text": [
      "Enter a number:  10\n",
      "Enter a number:  20\n",
      "Enter a number:  55\n",
      "Enter a number:  66\n",
      "Enter a number:  90\n",
      "Enter a number:  5\n",
      "Enter a number:  7\n",
      "Enter a number:  8\n",
      "Enter a number:  0\n"
     ]
    },
    {
     "name": "stdout",
     "output_type": "stream",
     "text": [
      "Sum of even numbers: [10, 20, 66, 90, 8] 194\n",
      "Sum of odd numbers: [55, 5, 7] 67\n"
     ]
    }
   ],
   "source": [
    "evensum = 0\n",
    "oddsum = 0\n",
    "list1 = []\n",
    "list2 = []\n",
    "for i in iter(int, 1):\n",
    "    num = int(input(\"Enter a number: \"))\n",
    "    if num == 0:\n",
    "        break\n",
    "    if num % 2 == 0:\n",
    "        list1.append(num)\n",
    "        evensum += num\n",
    "    else:\n",
    "        list2.append(num)\n",
    "        oddsum += num\n",
    "\n",
    "print(\"Sum of even numbers:\", list1, evensum)\n",
    "print(\"Sum of odd numbers:\", list2, oddsum)\n"
   ]
  },
  {
   "cell_type": "code",
   "execution_count": 257,
   "id": "da9516e5-8903-4dd7-9519-7edf136e6d7d",
   "metadata": {},
   "outputs": [
    {
     "name": "stdin",
     "output_type": "stream",
     "text": [
      "Enter a number:  10\n",
      "Enter a number:  20\n",
      "Enter a number:  30\n",
      "Enter a number:  0\n"
     ]
    },
    {
     "name": "stdout",
     "output_type": "stream",
     "text": [
      "Sum of even numbers: [10, 20, 30] 60\n",
      "Sum of odd numbers: [] 0\n"
     ]
    }
   ],
   "source": [
    "evensum = 0\n",
    "oddsum = 0\n",
    "list1 = []\n",
    "list2 = []\n",
    "\n",
    "while True:\n",
    "    num = int(input(\"Enter a number: \"))\n",
    "    if num == 0:\n",
    "        break\n",
    "    if num % 2 == 0:\n",
    "        list1.append(num)\n",
    "        evensum += num\n",
    "    else:\n",
    "        list2.append(num)\n",
    "        oddsum += num\n",
    "\n",
    "print(\"Sum of even numbers:\", list1, evensum)\n",
    "print(\"Sum of odd numbers:\", list2, oddsum)"
   ]
  },
  {
   "cell_type": "code",
   "execution_count": 1,
   "id": "54a29bf7-80cf-4a46-b478-c10ee99aafdc",
   "metadata": {},
   "outputs": [
    {
     "name": "stdin",
     "output_type": "stream",
     "text": [
      "Enter the Password:  apple\n",
      "Enter the Password:  boy\n",
      "Enter the Password:  qwerty\n"
     ]
    },
    {
     "name": "stdout",
     "output_type": "stream",
     "text": [
      "Correct password!\n"
     ]
    }
   ],
   "source": [
    "# 13. Keep asking for a password until the correct one is entered\n",
    "password = \"qwerty\"\n",
    "for i in iter(int, 1):\n",
    "    n = input(\"Enter the Password: \")\n",
    "    if n == password:\n",
    "        print(\"Correct password!\")\n",
    "        break"
   ]
  },
  {
   "cell_type": "code",
   "execution_count": 2,
   "id": "33f03da3-75be-4945-8ea5-f7d1f1585e38",
   "metadata": {},
   "outputs": [
    {
     "name": "stdin",
     "output_type": "stream",
     "text": [
      "Enter the Password:  qwerty\n"
     ]
    },
    {
     "name": "stdout",
     "output_type": "stream",
     "text": [
      "Correct password!\n"
     ]
    }
   ],
   "source": [
    "password = \"qwerty\"\n",
    "while True:\n",
    "    n = input(\"Enter the Password: \")\n",
    "    if n == password:\n",
    "        print(\"Correct password!\")\n",
    "        break"
   ]
  },
  {
   "cell_type": "code",
   "execution_count": 3,
   "id": "000bc0df-5097-4618-a776-7d03c768abb3",
   "metadata": {},
   "outputs": [
    {
     "name": "stdin",
     "output_type": "stream",
     "text": [
      "Enter a password:  1234\n",
      "Re-enter the password:  125\n"
     ]
    },
    {
     "name": "stdout",
     "output_type": "stream",
     "text": [
      "Passwords do not match. Try again.\n"
     ]
    },
    {
     "name": "stdin",
     "output_type": "stream",
     "text": [
      "Re-enter the password:  126\n"
     ]
    },
    {
     "name": "stdout",
     "output_type": "stream",
     "text": [
      "Passwords do not match. Try again.\n"
     ]
    },
    {
     "name": "stdin",
     "output_type": "stream",
     "text": [
      "Re-enter the password:  1234\n"
     ]
    },
    {
     "name": "stdout",
     "output_type": "stream",
     "text": [
      "Password is a match \n"
     ]
    }
   ],
   "source": [
    "userPass = input(\"Enter a password: \")\n",
    "\n",
    "for _ in iter(int, 1):  # this creates an \"infinite\" loop\n",
    "    newuserPass = input(\"Re-enter the password: \")\n",
    "    if newuserPass == userPass:\n",
    "        print(\"Password is a match \")\n",
    "        break\n",
    "    else:\n",
    "        print(\"Passwords do not match. Try again.\")"
   ]
  },
  {
   "cell_type": "code",
   "execution_count": 4,
   "id": "8cea1165-14f2-4cf7-9bd4-d54efdd9a66d",
   "metadata": {},
   "outputs": [
    {
     "name": "stdin",
     "output_type": "stream",
     "text": [
      "Enter Password apple\n"
     ]
    },
    {
     "name": "stdout",
     "output_type": "stream",
     "text": [
      "Incorrect Password! Try again\n"
     ]
    },
    {
     "name": "stdin",
     "output_type": "stream",
     "text": [
      "Enter Password Admin\n"
     ]
    },
    {
     "name": "stdout",
     "output_type": "stream",
     "text": [
      "Correct Password\n"
     ]
    }
   ],
   "source": [
    "password=\"Admin\"\n",
    "for i in iter(int,1):\n",
    "    n=input(\"Enter Password\")\n",
    "    if n==password:\n",
    "        print(\"Correct Password\")\n",
    "        break\n",
    "    else:\n",
    "        print(\"Incorrect Password! Try again\")"
   ]
  },
  {
   "cell_type": "code",
   "execution_count": 5,
   "id": "3c812af4-8603-4f63-a173-c24a52af6778",
   "metadata": {},
   "outputs": [
    {
     "name": "stdin",
     "output_type": "stream",
     "text": [
      "Enter Password admin\n"
     ]
    },
    {
     "name": "stdout",
     "output_type": "stream",
     "text": [
      "Incorrect Password! Try again\n"
     ]
    },
    {
     "name": "stdin",
     "output_type": "stream",
     "text": [
      "Enter Password Admin\n"
     ]
    },
    {
     "name": "stdout",
     "output_type": "stream",
     "text": [
      "Correct Password\n"
     ]
    }
   ],
   "source": [
    "password=\"Admin\"\n",
    "while True:\n",
    "    n=input(\"Enter Password\")\n",
    "    if n==password:\n",
    "        print(\"Correct Password\")\n",
    "        break\n",
    "    else:\n",
    "        print(\"Incorrect Password! Try again\")"
   ]
  },
  {
   "cell_type": "code",
   "execution_count": 6,
   "id": "739d260f-1a72-4682-8e22-28e50fd8577f",
   "metadata": {},
   "outputs": [
    {
     "name": "stdin",
     "output_type": "stream",
     "text": [
      "Enter any value:  1234\n"
     ]
    },
    {
     "name": "stdout",
     "output_type": "stream",
     "text": [
      "10\n"
     ]
    }
   ],
   "source": [
    "# 14. Find the sum of digits of a number using a while loop.\n",
    "\n",
    "num = 123456789   # 45\n",
    "\n",
    "n = input(\"Enter any value: \")\n",
    "s = []\n",
    "for i in str(n):\n",
    "    s.append(i)\n",
    "c = 0\n",
    "for i in s:\n",
    "    c = c + eval(i)\n",
    "print(c)"
   ]
  },
  {
   "cell_type": "code",
   "execution_count": 7,
   "id": "8df43d9c-4537-4e2a-a699-a2d70553a552",
   "metadata": {},
   "outputs": [
    {
     "name": "stdin",
     "output_type": "stream",
     "text": [
      " 1234\n"
     ]
    },
    {
     "name": "stdout",
     "output_type": "stream",
     "text": [
      "['1', '2', '3', '4']\n",
      "10\n"
     ]
    }
   ],
   "source": [
    "n = input()\n",
    "s = []\n",
    "i = 0\n",
    "j = 0\n",
    "while i < len(n):\n",
    "    s.append(n[i])\n",
    "    i += 1\n",
    "print(s)\n",
    "c = 0\n",
    "while j < len(n):\n",
    "    c = c + eval(s[j])\n",
    "    j += 1\n",
    "print(c)"
   ]
  },
  {
   "cell_type": "code",
   "execution_count": 8,
   "id": "82df13cc-185f-4115-bc4c-64bee90c5d27",
   "metadata": {},
   "outputs": [
    {
     "name": "stdin",
     "output_type": "stream",
     "text": [
      "Enter a number:  1234\n"
     ]
    },
    {
     "name": "stdout",
     "output_type": "stream",
     "text": [
      "Sum of digits: 10\n"
     ]
    }
   ],
   "source": [
    "n = input(\"Enter a number: \")\n",
    "sum1 = 0\n",
    "for i in n:\n",
    "    sum1 +=int(i)\n",
    "print(\"Sum of digits:\", sum1)"
   ]
  },
  {
   "cell_type": "code",
   "execution_count": 10,
   "id": "1c3fe28f-68b9-4f5c-8d6e-cfb2b5d24d27",
   "metadata": {},
   "outputs": [
    {
     "name": "stdin",
     "output_type": "stream",
     "text": [
      " 1234\n"
     ]
    },
    {
     "name": "stdout",
     "output_type": "stream",
     "text": [
      "Sum of Digits : 10\n"
     ]
    }
   ],
   "source": [
    "n = input()\n",
    "s = 0\n",
    "for i in n:\n",
    "    a = int(i)\n",
    "    s = s + a\n",
    "print(f\"Sum of Digits : {s}\")\n"
   ]
  },
  {
   "cell_type": "code",
   "execution_count": 13,
   "id": "88780bb6-1e1d-4926-81be-ed9e136bb40e",
   "metadata": {},
   "outputs": [
    {
     "name": "stdin",
     "output_type": "stream",
     "text": [
      "Enter any value:  1235\n"
     ]
    },
    {
     "name": "stdout",
     "output_type": "stream",
     "text": [
      "The Sum of the value is: 11\n"
     ]
    }
   ],
   "source": [
    "n = input(\"Enter any value: \")\n",
    "i = 0\n",
    "s = 0\n",
    "while i < len(n):\n",
    "    a = int(n[i])\n",
    "    s = s + a\n",
    "    i += 1\n",
    "print(f\"The Sum of the value is:\",s)"
   ]
  },
  {
   "cell_type": "code",
   "execution_count": 14,
   "id": "b3334370-bc4f-4a9c-8cf7-5e7427cc34d8",
   "metadata": {},
   "outputs": [
    {
     "name": "stdin",
     "output_type": "stream",
     "text": [
      "Enter a number:  1234\n"
     ]
    },
    {
     "name": "stdout",
     "output_type": "stream",
     "text": [
      "Sum of digits: 10\n"
     ]
    }
   ],
   "source": [
    "n = input(\"Enter a number: \")\n",
    "i = 0\n",
    "sum1= 0\n",
    "while i < len(n):\n",
    "    sum1 += int(n[i])\n",
    "    i += 1\n",
    "print(\"Sum of digits:\", sum1)"
   ]
  },
  {
   "cell_type": "code",
   "execution_count": 16,
   "id": "27d21556-4bf1-4592-a001-b50ec4268aaa",
   "metadata": {},
   "outputs": [
    {
     "name": "stdin",
     "output_type": "stream",
     "text": [
      "enter the digits:  1235\n"
     ]
    },
    {
     "name": "stdout",
     "output_type": "stream",
     "text": [
      "11\n"
     ]
    }
   ],
   "source": [
    "n = input(\"enter the digits: \")\n",
    "sum1 = 0\n",
    "for i in n:\n",
    "    n = int(i)\n",
    "    sum1 += n\n",
    "\n",
    "print(sum1)"
   ]
  },
  {
   "cell_type": "code",
   "execution_count": 19,
   "id": "ec819e54-c0d9-4597-a790-21c0dd0d6646",
   "metadata": {},
   "outputs": [
    {
     "name": "stdin",
     "output_type": "stream",
     "text": [
      "enter the digits:  1235\n"
     ]
    },
    {
     "name": "stdout",
     "output_type": "stream",
     "text": [
      "11\n"
     ]
    }
   ],
   "source": [
    "i = 0\n",
    "n = input(\"enter the digits: \")\n",
    "sum1 = 0\n",
    "while i < len(n):\n",
    "    \n",
    "    sum1+= int(n[i])\n",
    "    i+=1\n",
    "print(sum1)"
   ]
  },
  {
   "cell_type": "code",
   "execution_count": 20,
   "id": "537f53d8-cafd-400c-bcd6-ae063b646bea",
   "metadata": {},
   "outputs": [
    {
     "name": "stdin",
     "output_type": "stream",
     "text": [
      "Enter a string to Reverse:  apple\n"
     ]
    },
    {
     "name": "stdout",
     "output_type": "stream",
     "text": [
      "elppa"
     ]
    }
   ],
   "source": [
    "# 15. Reverse a string using a while loop.\n",
    "\n",
    "n = input(\"Enter a string to Reverse: \")\n",
    "i = 1\n",
    "while i <= len(n):\n",
    "    print(n[-i], end=\"\")\n",
    "    i += 1"
   ]
  },
  {
   "cell_type": "code",
   "execution_count": 21,
   "id": "0253f24a-e307-442e-b387-1be1e3566dcf",
   "metadata": {},
   "outputs": [
    {
     "name": "stdin",
     "output_type": "stream",
     "text": [
      "Enter a string to Reverse:  apple\n"
     ]
    },
    {
     "name": "stdout",
     "output_type": "stream",
     "text": [
      "elppa"
     ]
    }
   ],
   "source": [
    "n = input(\"Enter a string to Reverse: \")\n",
    "for i in range(1, len(n)+1):\n",
    "    print(n[-i], end=\"\")"
   ]
  },
  {
   "cell_type": "code",
   "execution_count": 22,
   "id": "feced850-5bf0-4eab-b3d0-8ac6467098c7",
   "metadata": {},
   "outputs": [
    {
     "name": "stdin",
     "output_type": "stream",
     "text": [
      "Enter a string apple\n"
     ]
    },
    {
     "name": "stdout",
     "output_type": "stream",
     "text": [
      "elppa\n"
     ]
    }
   ],
   "source": [
    "n=input(\"Enter a string\")\n",
    "rev=\"\"\n",
    "for i in str(n):\n",
    "    rev=i+rev\n",
    "print(rev)"
   ]
  },
  {
   "cell_type": "code",
   "execution_count": 23,
   "id": "b1f6da8b-3f72-471f-9e56-2287b91b6497",
   "metadata": {},
   "outputs": [
    {
     "name": "stdin",
     "output_type": "stream",
     "text": [
      "Enter a string apple\n"
     ]
    },
    {
     "name": "stdout",
     "output_type": "stream",
     "text": [
      "elppa\n"
     ]
    }
   ],
   "source": [
    "n=input(\"Enter a string\")\n",
    "i=len(n)-1\n",
    "rev=\"\"\n",
    "while i>=0:\n",
    "    rev+=n[i]\n",
    "    i-=1\n",
    "print(rev)"
   ]
  },
  {
   "cell_type": "code",
   "execution_count": 48,
   "id": "7cffc939-fd53-4311-a934-6ec3297d4032",
   "metadata": {},
   "outputs": [
    {
     "name": "stdin",
     "output_type": "stream",
     "text": [
      "Enter any word:  apple\n"
     ]
    },
    {
     "name": "stdout",
     "output_type": "stream",
     "text": [
      "Original string is: apple\n",
      "elppa"
     ]
    }
   ],
   "source": [
    "str1 = input(\"Enter any word: \")\n",
    "print(\"Original string is:\",str1)\n",
    "# print(len(str2))\n",
    "for i in range((len(str1)-1),-1,-1):\n",
    "    print(str1[i],end=\"\")"
   ]
  },
  {
   "cell_type": "code",
   "execution_count": 49,
   "id": "2030de16-0fa0-4907-84f9-4ea5203b8239",
   "metadata": {},
   "outputs": [
    {
     "name": "stdin",
     "output_type": "stream",
     "text": [
      "enter a string:  apple\n"
     ]
    },
    {
     "name": "stdout",
     "output_type": "stream",
     "text": [
      "elppa\n"
     ]
    }
   ],
   "source": [
    "word = input(\"enter a string: \")\n",
    "rev = \"\"\n",
    "for i in word:\n",
    "    rev = i + rev\n",
    "print(rev)"
   ]
  },
  {
   "cell_type": "code",
   "execution_count": 50,
   "id": "9c821cbe-d062-4827-a26f-408a5669d4a3",
   "metadata": {},
   "outputs": [
    {
     "name": "stdin",
     "output_type": "stream",
     "text": [
      "Enter a string:  apple\n"
     ]
    },
    {
     "name": "stdout",
     "output_type": "stream",
     "text": [
      "elppa\n"
     ]
    }
   ],
   "source": [
    "word = input(\"Enter a string: \")\n",
    "rev = \"\"\n",
    "i = 0\n",
    "\n",
    "while i < len(word):\n",
    "    rev = word[i] + rev\n",
    "    i+=1\n",
    "print(rev)"
   ]
  },
  {
   "cell_type": "code",
   "execution_count": 52,
   "id": "18263d18-5326-450c-a9ac-11665b6b1238",
   "metadata": {},
   "outputs": [
    {
     "name": "stdout",
     "output_type": "stream",
     "text": [
      "*\n",
      "**\n",
      "***\n",
      "****\n"
     ]
    }
   ],
   "source": [
    "# 16. Print this pattern:\n",
    "\n",
    "\n",
    "# *\n",
    "# **\n",
    "# ***\n",
    "# ****\n",
    "\n",
    "\n",
    "for i in range(1,5):\n",
    "    print(\"*\"*i)"
   ]
  },
  {
   "cell_type": "code",
   "execution_count": 53,
   "id": "053a796e-9eab-4b0f-afc1-a70e722f4194",
   "metadata": {},
   "outputs": [
    {
     "name": "stdout",
     "output_type": "stream",
     "text": [
      "*\n",
      "**\n",
      "***\n",
      "****\n",
      "*****\n"
     ]
    }
   ],
   "source": [
    "for i in range(1,6):\n",
    "    print(\"*\"*i)"
   ]
  },
  {
   "cell_type": "code",
   "execution_count": 54,
   "id": "a7674890-2f6d-4275-bd62-929f3ee808f6",
   "metadata": {},
   "outputs": [
    {
     "name": "stdout",
     "output_type": "stream",
     "text": [
      "*\n",
      "**\n",
      "***\n",
      "****\n"
     ]
    }
   ],
   "source": [
    "i=1\n",
    "while i<=4:\n",
    "    print(\"*\"*i)\n",
    "    i+=1"
   ]
  },
  {
   "cell_type": "code",
   "execution_count": 55,
   "id": "ff39e3ad-752e-473d-80a0-3864e85f321c",
   "metadata": {},
   "outputs": [
    {
     "name": "stdout",
     "output_type": "stream",
     "text": [
      "\n",
      "*\n",
      "**\n",
      "***\n",
      "****\n"
     ]
    }
   ],
   "source": [
    "i = 0\n",
    "while i <= 4:\n",
    "    print(i * \"*\")\n",
    "    i += 1"
   ]
  },
  {
   "cell_type": "code",
   "execution_count": 56,
   "id": "4c2273aa-f35e-463b-8d2a-4038c8f2295f",
   "metadata": {},
   "outputs": [
    {
     "name": "stdout",
     "output_type": "stream",
     "text": [
      "\n",
      "Table of 1\n",
      "1X1=1\n",
      "1X2=2\n",
      "1X3=3\n",
      "1X4=4\n",
      "1X5=5\n",
      "1X6=6\n",
      "1X7=7\n",
      "1X8=8\n",
      "1X9=9\n",
      "1X10=10\n",
      "\n",
      "Table of 2\n",
      "2X1=2\n",
      "2X2=4\n",
      "2X3=6\n",
      "2X4=8\n",
      "2X5=10\n",
      "2X6=12\n",
      "2X7=14\n",
      "2X8=16\n",
      "2X9=18\n",
      "2X10=20\n",
      "\n",
      "Table of 3\n",
      "3X1=3\n",
      "3X2=6\n",
      "3X3=9\n",
      "3X4=12\n",
      "3X5=15\n",
      "3X6=18\n",
      "3X7=21\n",
      "3X8=24\n",
      "3X9=27\n",
      "3X10=30\n",
      "\n",
      "Table of 4\n",
      "4X1=4\n",
      "4X2=8\n",
      "4X3=12\n",
      "4X4=16\n",
      "4X5=20\n",
      "4X6=24\n",
      "4X7=28\n",
      "4X8=32\n",
      "4X9=36\n",
      "4X10=40\n",
      "\n",
      "Table of 5\n",
      "5X1=5\n",
      "5X2=10\n",
      "5X3=15\n",
      "5X4=20\n",
      "5X5=25\n",
      "5X6=30\n",
      "5X7=35\n",
      "5X8=40\n",
      "5X9=45\n",
      "5X10=50\n"
     ]
    }
   ],
   "source": [
    "# 17. Print multiplication tables from 1 to 5 using nested loops.\n",
    "\n",
    "\n",
    "for i in range(1, 6):\n",
    "    print(f\"\\nTable of {i}\")\n",
    "    for j in range(1, 11):\n",
    "        print(\"%dX%d=%d\"%(i, j, i*j))"
   ]
  },
  {
   "cell_type": "code",
   "execution_count": 57,
   "id": "90a8c36c-21a7-4b03-9cca-ff7d34d39ae6",
   "metadata": {},
   "outputs": [
    {
     "name": "stdout",
     "output_type": "stream",
     "text": [
      "\n",
      "Table of 1\n",
      "1X1=1\n",
      "1X2=2\n",
      "1X3=3\n",
      "1X4=4\n",
      "1X5=5\n",
      "1X6=6\n",
      "1X7=7\n",
      "1X8=8\n",
      "1X9=9\n",
      "1X10=10\n",
      "\n",
      "Table of 2\n",
      "2X1=2\n",
      "2X2=4\n",
      "2X3=6\n",
      "2X4=8\n",
      "2X5=10\n",
      "2X6=12\n",
      "2X7=14\n",
      "2X8=16\n",
      "2X9=18\n",
      "2X10=20\n",
      "\n",
      "Table of 3\n",
      "3X1=3\n",
      "3X2=6\n",
      "3X3=9\n",
      "3X4=12\n",
      "3X5=15\n",
      "3X6=18\n",
      "3X7=21\n",
      "3X8=24\n",
      "3X9=27\n",
      "3X10=30\n",
      "\n",
      "Table of 4\n",
      "4X1=4\n",
      "4X2=8\n",
      "4X3=12\n",
      "4X4=16\n",
      "4X5=20\n",
      "4X6=24\n",
      "4X7=28\n",
      "4X8=32\n",
      "4X9=36\n",
      "4X10=40\n",
      "\n",
      "Table of 5\n",
      "5X1=5\n",
      "5X2=10\n",
      "5X3=15\n",
      "5X4=20\n",
      "5X5=25\n",
      "5X6=30\n",
      "5X7=35\n",
      "5X8=40\n",
      "5X9=45\n",
      "5X10=50\n"
     ]
    }
   ],
   "source": [
    "i = 1\n",
    "while i <= 5:\n",
    "    print(f\"\\nTable of {i}\")\n",
    "    j = 1\n",
    "    while j <= 10:\n",
    "        print(\"%dX%d=%d\" % (i, j, i * j))\n",
    "        j += 1\n",
    "    i += 1"
   ]
  },
  {
   "cell_type": "code",
   "execution_count": 58,
   "id": "ec671115-64da-4f90-a734-938a0cbeec2f",
   "metadata": {},
   "outputs": [
    {
     "name": "stdout",
     "output_type": "stream",
     "text": [
      "\n",
      "Multiplication Table of 1\n",
      "1 × 1 = 1\n",
      "1 × 2 = 2\n",
      "1 × 3 = 3\n",
      "1 × 4 = 4\n",
      "1 × 5 = 5\n",
      "1 × 6 = 6\n",
      "1 × 7 = 7\n",
      "1 × 8 = 8\n",
      "1 × 9 = 9\n",
      "1 × 10 = 10\n",
      "\n",
      "Multiplication Table of 2\n",
      "2 × 1 = 2\n",
      "2 × 2 = 4\n",
      "2 × 3 = 6\n",
      "2 × 4 = 8\n",
      "2 × 5 = 10\n",
      "2 × 6 = 12\n",
      "2 × 7 = 14\n",
      "2 × 8 = 16\n",
      "2 × 9 = 18\n",
      "2 × 10 = 20\n",
      "\n",
      "Multiplication Table of 3\n",
      "3 × 1 = 3\n",
      "3 × 2 = 6\n",
      "3 × 3 = 9\n",
      "3 × 4 = 12\n",
      "3 × 5 = 15\n",
      "3 × 6 = 18\n",
      "3 × 7 = 21\n",
      "3 × 8 = 24\n",
      "3 × 9 = 27\n",
      "3 × 10 = 30\n",
      "\n",
      "Multiplication Table of 4\n",
      "4 × 1 = 4\n",
      "4 × 2 = 8\n",
      "4 × 3 = 12\n",
      "4 × 4 = 16\n",
      "4 × 5 = 20\n",
      "4 × 6 = 24\n",
      "4 × 7 = 28\n",
      "4 × 8 = 32\n",
      "4 × 9 = 36\n",
      "4 × 10 = 40\n",
      "\n",
      "Multiplication Table of 5\n",
      "5 × 1 = 5\n",
      "5 × 2 = 10\n",
      "5 × 3 = 15\n",
      "5 × 4 = 20\n",
      "5 × 5 = 25\n",
      "5 × 6 = 30\n",
      "5 × 7 = 35\n",
      "5 × 8 = 40\n",
      "5 × 9 = 45\n",
      "5 × 10 = 50\n"
     ]
    }
   ],
   "source": [
    "for i in range(1, 6): \n",
    "    print(f\"\\nMultiplication Table of {i}\")\n",
    "    for j in range(1, 11): \n",
    "        print(f\"{i} × {j} = {i*j}\")"
   ]
  },
  {
   "cell_type": "code",
   "execution_count": 59,
   "id": "cbdc1a7b-4198-49a9-acee-bcb05d09783f",
   "metadata": {},
   "outputs": [
    {
     "name": "stdout",
     "output_type": "stream",
     "text": [
      "\n",
      "Multiplication Table of 1\n",
      "1 × 1 = 1\n",
      "1 × 2 = 2\n",
      "1 × 3 = 3\n",
      "1 × 4 = 4\n",
      "1 × 5 = 5\n",
      "1 × 6 = 6\n",
      "1 × 7 = 7\n",
      "1 × 8 = 8\n",
      "1 × 9 = 9\n",
      "1 × 10 = 10\n",
      "\n",
      "Multiplication Table of 2\n",
      "2 × 1 = 2\n",
      "2 × 2 = 4\n",
      "2 × 3 = 6\n",
      "2 × 4 = 8\n",
      "2 × 5 = 10\n",
      "2 × 6 = 12\n",
      "2 × 7 = 14\n",
      "2 × 8 = 16\n",
      "2 × 9 = 18\n",
      "2 × 10 = 20\n",
      "\n",
      "Multiplication Table of 3\n",
      "3 × 1 = 3\n",
      "3 × 2 = 6\n",
      "3 × 3 = 9\n",
      "3 × 4 = 12\n",
      "3 × 5 = 15\n",
      "3 × 6 = 18\n",
      "3 × 7 = 21\n",
      "3 × 8 = 24\n",
      "3 × 9 = 27\n",
      "3 × 10 = 30\n",
      "\n",
      "Multiplication Table of 4\n",
      "4 × 1 = 4\n",
      "4 × 2 = 8\n",
      "4 × 3 = 12\n",
      "4 × 4 = 16\n",
      "4 × 5 = 20\n",
      "4 × 6 = 24\n",
      "4 × 7 = 28\n",
      "4 × 8 = 32\n",
      "4 × 9 = 36\n",
      "4 × 10 = 40\n",
      "\n",
      "Multiplication Table of 5\n",
      "5 × 1 = 5\n",
      "5 × 2 = 10\n",
      "5 × 3 = 15\n",
      "5 × 4 = 20\n",
      "5 × 5 = 25\n",
      "5 × 6 = 30\n",
      "5 × 7 = 35\n",
      "5 × 8 = 40\n",
      "5 × 9 = 45\n",
      "5 × 10 = 50\n"
     ]
    }
   ],
   "source": [
    "i = 1\n",
    "while i <= 5: \n",
    "    print(f\"\\nMultiplication Table of {i}\")\n",
    "    j = 1\n",
    "    while j <= 10: \n",
    "        print(f\"{i} × {j} = {i*j}\")\n",
    "        j += 1\n",
    "    i += 1"
   ]
  },
  {
   "cell_type": "code",
   "execution_count": 73,
   "id": "e0508a3e-b16f-40ee-95df-facf39ddd846",
   "metadata": {},
   "outputs": [
    {
     "name": "stdout",
     "output_type": "stream",
     "text": [
      "2 3 5 7 11 13 17 19 23 29 31 37 41 43 47 53 59 61 67 71 73 79 83 89 97 "
     ]
    }
   ],
   "source": [
    "# 18. Print all prime numbers between 1 and 100.\n",
    "\n",
    "# prime number- 1 and itself and it two factor only.\n",
    "\n",
    "# 1 -----> No, [1]\n",
    "# 2 ----> yes, [1,2]\n",
    "# 3 ----> yes, [1,3]\n",
    "# 4 ----> No, [1,2,4]\n",
    "# 5 ----> Yes, [1,5]\n",
    "# 6\n",
    "# 7 ---> Yes, [1,7]\n",
    "# 8\n",
    "# 9\n",
    "# 10\n",
    "# 11 ---> yes, [1,11]\n",
    "\n",
    "for i in range(2,101):\n",
    "    is_prime = True\n",
    "    for j in range(2, int(i**0.5)+1):\n",
    "        if i%j == 0:\n",
    "            is_prime = False\n",
    "            break\n",
    "    if is_prime:\n",
    "        print(i, end=\" \")\n"
   ]
  },
  {
   "cell_type": "code",
   "execution_count": 74,
   "id": "5c796ed8-7205-499d-bae2-a7e19cd5db64",
   "metadata": {},
   "outputs": [
    {
     "name": "stdout",
     "output_type": "stream",
     "text": [
      "2\n",
      "3\n",
      "5\n",
      "7\n",
      "11\n",
      "13\n",
      "17\n",
      "19\n",
      "23\n",
      "29\n",
      "31\n",
      "37\n",
      "41\n",
      "43\n",
      "47\n",
      "53\n",
      "59\n",
      "61\n",
      "67\n",
      "71\n",
      "73\n",
      "79\n",
      "83\n",
      "89\n",
      "97\n"
     ]
    }
   ],
   "source": [
    "for i in range(2,101):\n",
    "    for j in range(2,101):\n",
    "        if i % j == 0:\n",
    "            break\n",
    "    if i == j:\n",
    "        print(i)"
   ]
  },
  {
   "cell_type": "code",
   "execution_count": 78,
   "id": "45084417-fad0-4f5d-8c3b-0c75924e0985",
   "metadata": {},
   "outputs": [
    {
     "name": "stdout",
     "output_type": "stream",
     "text": [
      "1\n",
      "12\n",
      "123\n",
      "1234\n"
     ]
    }
   ],
   "source": [
    "# 19. Print number pattern:\n",
    "# 1\n",
    "# 12\n",
    "# 123\n",
    "# 1234\n",
    "\n",
    "\n",
    "for i in range(1,5):\n",
    "    for j in range(1, i+1):  # 1,5 = 1234\n",
    "        print(j,end=\"\")\n",
    "    print()"
   ]
  },
  {
   "cell_type": "code",
   "execution_count": 84,
   "id": "3dca1be3-704a-431e-9c78-64494a492a07",
   "metadata": {},
   "outputs": [
    {
     "name": "stdout",
     "output_type": "stream",
     "text": [
      "1\n",
      "12\n",
      "123\n",
      "1234\n"
     ]
    }
   ],
   "source": [
    "n = 4\n",
    "i = 1\n",
    "while i <= n:\n",
    "    j = 1\n",
    "    while j <= i:\n",
    "        print(j, end=\"\")\n",
    "        j += 1\n",
    "\n",
    "    i += 1\n",
    "    print()"
   ]
  },
  {
   "cell_type": "code",
   "execution_count": 85,
   "id": "05893c0c-90c3-48dc-aa47-f3bd7e78de46",
   "metadata": {},
   "outputs": [
    {
     "name": "stdout",
     "output_type": "stream",
     "text": [
      "1\n",
      "12\n",
      "123\n",
      "1234\n"
     ]
    }
   ],
   "source": [
    "for i in range(1, 5):  \n",
    "    for j in range(1, i + 1): \n",
    "        print(j, end=\"\")\n",
    "    print()\n"
   ]
  },
  {
   "cell_type": "code",
   "execution_count": 86,
   "id": "7030fca8-7cfe-4901-b91e-bf72ac141cc8",
   "metadata": {},
   "outputs": [
    {
     "name": "stdout",
     "output_type": "stream",
     "text": [
      "1\n",
      "12\n",
      "123\n",
      "1234\n"
     ]
    }
   ],
   "source": [
    "i = 1\n",
    "while i <= 4:  \n",
    "    j = 1\n",
    "    while j <= i: \n",
    "        print(j, end=\"\")\n",
    "        j += 1\n",
    "    print() \n",
    "    i += 1"
   ]
  },
  {
   "cell_type": "code",
   "execution_count": 87,
   "id": "f377d091-557b-4f5e-a630-e61efff452f0",
   "metadata": {},
   "outputs": [],
   "source": [
    "# 20. Print Floyd's Triangle:\n",
    "#\n",
    "# ```\n",
    "# 1\n",
    "# 2 3\n",
    "# 4 5 6\n",
    "# 7 8 9 10\n",
    "# ```"
   ]
  },
  {
   "cell_type": "code",
   "execution_count": 90,
   "id": "b1ab84b3-462d-45d0-a9ea-d0cb9e2574cb",
   "metadata": {},
   "outputs": [
    {
     "name": "stdout",
     "output_type": "stream",
     "text": [
      "1 \n",
      "2 3 \n",
      "4 5 6 \n",
      "7 8 9 10 \n"
     ]
    }
   ],
   "source": [
    "n= 1\n",
    "for i in range(1, 5):  \n",
    "    for j in range(0,i): # 0,2\n",
    "        print(n, end=\" \")\n",
    "        n += 1\n",
    "    print()"
   ]
  },
  {
   "cell_type": "code",
   "execution_count": 91,
   "id": "76b3ed06-b0ab-4501-8dbb-4d922eae42a9",
   "metadata": {},
   "outputs": [
    {
     "name": "stdout",
     "output_type": "stream",
     "text": [
      "1 \n",
      "2 3 \n",
      "4 5 6 \n",
      "7 8 9 10 \n"
     ]
    }
   ],
   "source": [
    "n = 1\n",
    "i = 1\n",
    "while i <= 4:\n",
    "    j = 1\n",
    "    while j <= i:\n",
    "        print(n, end=\" \")\n",
    "        n += 1\n",
    "        j += 1\n",
    "    print()\n",
    "    i += 1"
   ]
  },
  {
   "cell_type": "code",
   "execution_count": 99,
   "id": "601cef17-d0cf-4c72-a90a-97feee38d783",
   "metadata": {},
   "outputs": [
    {
     "name": "stdout",
     "output_type": "stream",
     "text": [
      "1\n",
      "23\n",
      "456\n",
      "78910\n"
     ]
    }
   ],
   "source": [
    "num=1\n",
    "\n",
    "for i in range(1,5):\n",
    "    for j in range(0,i):  # 0,4 - 0,1,2,3\n",
    "        print(num,end=\"\")  # 1\n",
    "        num+=1 # 2\n",
    "    print()"
   ]
  },
  {
   "cell_type": "code",
   "execution_count": 100,
   "id": "be017615-6bbd-45dd-8e12-2451cca9dc5a",
   "metadata": {},
   "outputs": [
    {
     "name": "stdout",
     "output_type": "stream",
     "text": [
      "\n",
      "1\n",
      "23\n",
      "456\n",
      "78910\n"
     ]
    }
   ],
   "source": [
    "num = 1\n",
    "i = 0\n",
    "while i < 5:\n",
    "    j = 0\n",
    "    while j < i:\n",
    "        print(num, end=\"\")\n",
    "        num += 1\n",
    "        j += 1\n",
    "    i += 1\n",
    "    print()"
   ]
  },
  {
   "cell_type": "code",
   "execution_count": 101,
   "id": "9bc518be-7731-440a-b920-28b9fbcf0a49",
   "metadata": {},
   "outputs": [
    {
     "name": "stdout",
     "output_type": "stream",
     "text": [
      "1 \n",
      "2 3 \n",
      "4 5 6 \n",
      "7 8 9 10 \n"
     ]
    }
   ],
   "source": [
    "num = 1\n",
    "i = 1\n",
    "l = 5\n",
    "\n",
    "\n",
    "while i < l:\n",
    "    j = 0\n",
    "    while j < i:\n",
    "        print(num,end=\" \")\n",
    "        num+=1\n",
    "        j+=1\n",
    "    i+=1  \n",
    "    print()"
   ]
  },
  {
   "cell_type": "code",
   "execution_count": 111,
   "id": "1e0d466c-0fdc-4f45-8fe0-ae1adddc2062",
   "metadata": {},
   "outputs": [
    {
     "name": "stdout",
     "output_type": "stream",
     "text": [
      "Maximum Number of the List: 12\n"
     ]
    }
   ],
   "source": [
    "# 21. Find the maximum number in a list using a loop.\n",
    "\n",
    "# sorting: Bubble sort\n",
    "lst = [4,7,1,9,12,3,8]\n",
    "\n",
    "# list1 = [4,1,7,9,3,8,12]\n",
    "# list1 = [1,4,7,3,8,9,12]\n",
    "# list1 = [1,4,3,7,8,9,12]\n",
    "# list1 = [1,3,4,7,8,9,12]\n",
    "\n",
    "mx = lst[0] # 7,9,12\n",
    "for x in lst:\n",
    "    if x>mx:\n",
    "        mx = x\n",
    "print(\"Maximum Number of the List:\",mx)\n",
    "\n"
   ]
  },
  {
   "cell_type": "code",
   "execution_count": 117,
   "id": "869d43bb-161e-43aa-9924-f60230cb98ba",
   "metadata": {},
   "outputs": [
    {
     "data": {
      "text/plain": [
       "9"
      ]
     },
     "execution_count": 117,
     "metadata": {},
     "output_type": "execute_result"
    }
   ],
   "source": [
    "# 22. Calculate the average of numbers in a list.\n",
    "lst = [4,7,1,9,12,3,8,-10,-5]\n",
    "len(lst)\n"
   ]
  },
  {
   "cell_type": "code",
   "execution_count": 116,
   "id": "338e69d9-432e-46b7-b4d5-71b8352a5f89",
   "metadata": {},
   "outputs": [
    {
     "name": "stdout",
     "output_type": "stream",
     "text": [
      "Average:  5.0\n"
     ]
    }
   ],
   "source": [
    "# Sankarshan 5:28 PM\n",
    "# 22. Calculate the average of numbers in a list.\n",
    "n = [1, 5, 6, 8, 1, 9]\n",
    "s = 0\n",
    "for i in n:\n",
    "    s = s + i\n",
    "print(\"Average: \", s/len(n))"
   ]
  },
  {
   "cell_type": "code",
   "execution_count": 118,
   "id": "5c669e91-455a-4a4d-8c91-c322643fafdc",
   "metadata": {},
   "outputs": [
    {
     "name": "stdout",
     "output_type": "stream",
     "text": [
      "Average:  5.0\n"
     ]
    }
   ],
   "source": [
    "n = [1, 5, 6, 8, 1, 9]\n",
    "i = 0\n",
    "s = 0\n",
    "while i < len(n):\n",
    "    s = s + n[i]\n",
    "    i += 1\n",
    "print(\"Average: \", s/len(n))"
   ]
  },
  {
   "cell_type": "code",
   "execution_count": 119,
   "id": "e8b8e8db-b9f4-4944-9c0e-5b073117f85e",
   "metadata": {},
   "outputs": [
    {
     "name": "stdout",
     "output_type": "stream",
     "text": [
      "Average of [100, 20, 130, 48, 54] is: 70.4\n"
     ]
    }
   ],
   "source": [
    "numbers = [100, 20, 130, 48, 54]\n",
    "total = 0\n",
    "for i in numbers:\n",
    "    total += i\n",
    "average = total / len(numbers)\n",
    "print(f\"Average of {numbers} is:\", average)"
   ]
  },
  {
   "cell_type": "code",
   "execution_count": 120,
   "id": "685ccdca-57fe-4893-94f1-fef0fff95231",
   "metadata": {},
   "outputs": [
    {
     "name": "stdout",
     "output_type": "stream",
     "text": [
      "Average of [10, 20, 30, 40, 50, 60, 70] is: 40.0\n"
     ]
    }
   ],
   "source": [
    "numbers = [10, 20, 30, 40, 50, 60, 70]\n",
    "total = 0\n",
    "i = 0\n",
    "while i < len(numbers):\n",
    "    total += numbers[i]\n",
    "    i += 1\n",
    "average = total / len(numbers)\n",
    "print(f\"Average of {numbers} is:\", average)"
   ]
  },
  {
   "cell_type": "code",
   "execution_count": 125,
   "id": "7830a918-a90a-4f87-aff6-682d988abdc8",
   "metadata": {},
   "outputs": [
    {
     "name": "stdout",
     "output_type": "stream",
     "text": [
      "Average of the list is: 5.0\n"
     ]
    }
   ],
   "source": [
    "n = [1, 5, 6, 8, 1, 9]\n",
    "s = 0\n",
    "count = 0\n",
    "avg = 0\n",
    "for i in n:\n",
    "    s = s + i\n",
    "    count = count+1\n",
    "    avg = s/count # 1/1 =1.0, 6/2 = 3.0, 12/3 = 4.0, 20/4= 5.0, 21/5 = 4.2, 30/6 = 5.0\n",
    "    # print(avg)\n",
    "print(\"Average of the list is:\",avg)"
   ]
  },
  {
   "cell_type": "code",
   "execution_count": 126,
   "id": "a155c724-d984-4a6e-aa9b-cd00b35a4104",
   "metadata": {},
   "outputs": [
    {
     "name": "stdout",
     "output_type": "stream",
     "text": [
      "Even numbers:  4\n"
     ]
    }
   ],
   "source": [
    "# 23. Count how many even numbers are in a list.\n",
    "n = [1, 2, 4, 5, 6, 8, 9]\n",
    "count = 0\n",
    "for i in n:\n",
    "    if i % 2 == 0:\n",
    "        count += 1\n",
    "print(\"Even numbers: \", count)"
   ]
  },
  {
   "cell_type": "code",
   "execution_count": 127,
   "id": "6bb4133f-b7bb-446a-96af-a95025a5593d",
   "metadata": {},
   "outputs": [
    {
     "name": "stdout",
     "output_type": "stream",
     "text": [
      "Even numbers:  4\n"
     ]
    }
   ],
   "source": [
    "n = [1, 2, 4, 5, 6, 8, 9]\n",
    "count = 0\n",
    "i = 0\n",
    "while i < len(n):\n",
    "    if i % 2 == 0:\n",
    "        count += 1\n",
    "    i += 1\n",
    "print(\"Even numbers: \", count)"
   ]
  },
  {
   "cell_type": "code",
   "execution_count": 128,
   "id": "c77a5e63-639a-4a62-a27d-c282c460c431",
   "metadata": {},
   "outputs": [
    {
     "name": "stdout",
     "output_type": "stream",
     "text": [
      "Even numbers in the list: [10, 22, 40]\n",
      "Total even numbers: 3\n"
     ]
    }
   ],
   "source": [
    "numbers = [10, 22, 73, 49, 40, 61, 81, 49] \n",
    "count = 0\n",
    "evenlist = []  \n",
    "for i in numbers:\n",
    "    if i % 2 == 0:  \n",
    "        count += 1\n",
    "        evenlist.append(i)\n",
    "print(\"Even numbers in the list:\", evenlist)\n",
    "print(\"Total even numbers:\", count)"
   ]
  },
  {
   "cell_type": "code",
   "execution_count": 129,
   "id": "b0d2d239-f5c9-4823-9d2f-fca1a48078b0",
   "metadata": {},
   "outputs": [
    {
     "name": "stdout",
     "output_type": "stream",
     "text": [
      "Even numbers in the list: [12, 24, 78, 80]\n",
      "Total even numbers: 4\n"
     ]
    }
   ],
   "source": [
    "numbers = [12,24,55,78,67,80,11,23]\n",
    "count = 0\n",
    "i = 0\n",
    "evenlist = []  \n",
    "while i < len(numbers):\n",
    "    if numbers[i] % 2 == 0:\n",
    "        count += 1\n",
    "        evenlist.append(numbers[i])\n",
    "    i += 1\n",
    "print(\"Even numbers in the list:\", evenlist)\n",
    "print(\"Total even numbers:\", count)"
   ]
  },
  {
   "cell_type": "code",
   "execution_count": 130,
   "id": "06809fbe-b079-4d8a-b904-11e286363c1d",
   "metadata": {},
   "outputs": [
    {
     "name": "stdout",
     "output_type": "stream",
     "text": [
      "[4, 7, 8]\n"
     ]
    }
   ],
   "source": [
    "# 24. Remove all negative numbers from a list using a loop.\n",
    "\n",
    "# 24. Remove all negative numbers from a list using a loop.\n",
    "n = [4, -1, -9, 7, -6, 8, -3]\n",
    "positive = []\n",
    "for i in n:\n",
    "    if i > 0:\n",
    "        positive.append(i)\n",
    "print(positive)"
   ]
  },
  {
   "cell_type": "code",
   "execution_count": 131,
   "id": "4274e3eb-ba2f-4056-87eb-1d3219f2b014",
   "metadata": {},
   "outputs": [
    {
     "name": "stdout",
     "output_type": "stream",
     "text": [
      "[4, 7, 8]\n"
     ]
    }
   ],
   "source": [
    "i = 0\n",
    "positive = []\n",
    "while i < len(n):\n",
    "    if n[i] > 0:\n",
    "        positive.append(n[i])\n",
    "    i += 1\n",
    "print(positive)"
   ]
  },
  {
   "cell_type": "code",
   "execution_count": 132,
   "id": "7be8da52-5bfd-4691-b2f9-4b51192749d9",
   "metadata": {},
   "outputs": [
    {
     "name": "stdout",
     "output_type": "stream",
     "text": [
      "original list: [3, -5, 7, -2, 8, -9, 4]\n",
      "List after removing negative numbers: [3, 7, 8, 4]\n"
     ]
    }
   ],
   "source": [
    "numbers = [3, -5, 7, -2, 8, -9, 4]\n",
    "list = []\n",
    "for i in numbers:\n",
    "    if i >= 0:\n",
    "        list.append(i)\n",
    "print(\"original list:\", numbers)\n",
    "print(\"List after removing negative numbers:\", list)"
   ]
  },
  {
   "cell_type": "code",
   "execution_count": 133,
   "id": "b84d9b71-84ae-4777-8bee-36629efd1293",
   "metadata": {},
   "outputs": [
    {
     "name": "stdout",
     "output_type": "stream",
     "text": [
      "Original list: [3, -5, 7, -2, 8, -9, 4]\n",
      "List after removing negative numbers: [3, 7, 8, 4]\n"
     ]
    }
   ],
   "source": [
    "numbers = [3, -5, 7, -2, 8, -9, 4]\n",
    "list1 = []\n",
    "i = 0\n",
    "while i < len(numbers):\n",
    "    if numbers[i] >= 0:\n",
    "        list1.append(numbers[i])\n",
    "    i += 1\n",
    "print(\"Original list:\", numbers)\n",
    "print(\"List after removing negative numbers:\", list)"
   ]
  },
  {
   "cell_type": "code",
   "execution_count": 135,
   "id": "b2ac118c-c10d-453b-b660-9dc5193a317d",
   "metadata": {},
   "outputs": [
    {
     "name": "stdout",
     "output_type": "stream",
     "text": [
      "[2]\n"
     ]
    }
   ],
   "source": [
    "list1 = [4,2]\n",
    "list1.remove(4)\n",
    "print(list1)"
   ]
  },
  {
   "cell_type": "code",
   "execution_count": 136,
   "id": "cc4cb21f-026b-4414-9009-d60d6235519d",
   "metadata": {},
   "outputs": [
    {
     "name": "stdout",
     "output_type": "stream",
     "text": [
      "['False', 'None', 'True', 'and', 'as', 'assert', 'async', 'await', 'break', 'class', 'continue', 'def', 'del', 'elif', 'else', 'except', 'finally', 'for', 'from', 'global', 'if', 'import', 'in', 'is', 'lambda', 'nonlocal', 'not', 'or', 'pass', 'raise', 'return', 'try', 'while', 'with', 'yield']\n"
     ]
    }
   ],
   "source": [
    "import keyword\n",
    "print(keyword.kwlist)"
   ]
  },
  {
   "cell_type": "code",
   "execution_count": 156,
   "id": "1a7d7be1-11a1-46b8-abae-588f74b61f69",
   "metadata": {},
   "outputs": [
    {
     "name": "stdout",
     "output_type": "stream",
     "text": [
      "7\n",
      "-1\n",
      "-6\n",
      "-3\n"
     ]
    },
    {
     "ename": "IndexError",
     "evalue": "list index out of range",
     "output_type": "error",
     "traceback": [
      "\u001b[31m---------------------------------------------------------------------------\u001b[39m",
      "\u001b[31mIndexError\u001b[39m                                Traceback (most recent call last)",
      "\u001b[36mCell\u001b[39m\u001b[36m \u001b[39m\u001b[32mIn[156]\u001b[39m\u001b[32m, line 7\u001b[39m\n\u001b[32m      4\u001b[39m \u001b[38;5;28mprint\u001b[39m(\u001b[38;5;28mlen\u001b[39m(n))\n\u001b[32m      6\u001b[39m \u001b[38;5;28;01mfor\u001b[39;00m i \u001b[38;5;129;01min\u001b[39;00m \u001b[38;5;28mrange\u001b[39m(\u001b[38;5;28mlen\u001b[39m(n)):  \u001b[38;5;66;03m# 7\u001b[39;00m\n\u001b[32m----> \u001b[39m\u001b[32m7\u001b[39m     \u001b[38;5;28;01mif\u001b[39;00m \u001b[43mn\u001b[49m\u001b[43m[\u001b[49m\u001b[43mi\u001b[49m\u001b[43m]\u001b[49m<\u001b[32m0\u001b[39m:\n\u001b[32m      8\u001b[39m         \u001b[38;5;28mprint\u001b[39m(n[i])\n\u001b[32m      9\u001b[39m         n.remove(n[i])\n",
      "\u001b[31mIndexError\u001b[39m: list index out of range"
     ]
    }
   ],
   "source": [
    "# 25. Create a new list with squares of numbers from another list.\n",
    "\n",
    "n = [4, -1,-9, 7, -6, 8, -3]\n",
    "print(len(n))\n",
    "\n",
    "for i in range(len(n)):  # 8\n",
    "    if n[i]<0:\n",
    "        print(n[i])\n",
    "        n.remove(n[i])\n",
    "print(n)"
   ]
  },
  {
   "cell_type": "code",
   "execution_count": null,
   "id": "5696789c-e7b5-40ae-9170-48b203fffc8a",
   "metadata": {},
   "outputs": [],
   "source": []
  },
  {
   "cell_type": "code",
   "execution_count": null,
   "id": "40353691-ba98-4ad4-bb8d-b8e3363a3ec6",
   "metadata": {},
   "outputs": [],
   "source": []
  }
 ],
 "metadata": {
  "kernelspec": {
   "display_name": "Python 3 (ipykernel)",
   "language": "python",
   "name": "python3"
  },
  "language_info": {
   "codemirror_mode": {
    "name": "ipython",
    "version": 3
   },
   "file_extension": ".py",
   "mimetype": "text/x-python",
   "name": "python",
   "nbconvert_exporter": "python",
   "pygments_lexer": "ipython3",
   "version": "3.13.7"
  }
 },
 "nbformat": 4,
 "nbformat_minor": 5
}
